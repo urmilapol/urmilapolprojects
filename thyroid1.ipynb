{
  "nbformat": 4,
  "nbformat_minor": 0,
  "metadata": {
    "colab": {
      "provenance": [],
      "authorship_tag": "ABX9TyPFk5uHBYWFjOiBCphK3R80",
      "include_colab_link": true
    },
    "kernelspec": {
      "name": "python3",
      "display_name": "Python 3"
    },
    "language_info": {
      "name": "python"
    }
  },
  "cells": [
    {
      "cell_type": "markdown",
      "metadata": {
        "id": "view-in-github",
        "colab_type": "text"
      },
      "source": [
        "<a href=\"https://colab.research.google.com/github/urmilapol/urmilapolprojects/blob/master/thyroid1.ipynb\" target=\"_parent\"><img src=\"https://colab.research.google.com/assets/colab-badge.svg\" alt=\"Open In Colab\"/></a>"
      ]
    },
    {
      "cell_type": "code",
      "execution_count": 2,
      "metadata": {
        "colab": {
          "base_uri": "https://localhost:8080/",
          "height": 36
        },
        "id": "v_ts2bmJByW2",
        "outputId": "bf56fbee-cdeb-492e-c013-384de869a82f"
      },
      "outputs": [
        {
          "output_type": "execute_result",
          "data": {
            "text/plain": [
              "'/content/sample_data/Thyroid_Confusion_ROC.png'"
            ],
            "application/vnd.google.colaboratory.intrinsic+json": {
              "type": "string"
            }
          },
          "metadata": {},
          "execution_count": 2
        }
      ],
      "source": [
        "import matplotlib.pyplot as plt\n",
        "import numpy as np\n",
        "from sklearn.metrics import ConfusionMatrixDisplay, RocCurveDisplay\n",
        "\n",
        "# Simulated values for confusion matrix and ROC curve\n",
        "y_true = np.array([0]*250 + [1]*335)  # 0: Normal, 1: Thyroid\n",
        "y_pred = np.array([0]*240 + [1]*10 + [0]*18 + [1]*317)  # Simulated predictions\n",
        "\n",
        "# Plot Confusion Matrix\n",
        "fig, ax = plt.subplots(1, 2, figsize=(12, 5))\n",
        "ConfusionMatrixDisplay.from_predictions(y_true, y_pred, display_labels=[\"Normal\", \"Thyroid\"], cmap='Blues', ax=ax[0])\n",
        "ax[0].set_title(\"Confusion Matrix\")\n",
        "\n",
        "# Plot ROC Curve (simulate with perfect predictions)\n",
        "y_scores = np.linspace(0, 1, len(y_true))  # fake probabilities for visualization\n",
        "y_scores[:250] = 0.1  # normal\n",
        "y_scores[250:] = 0.9  # thyroid\n",
        "RocCurveDisplay.from_predictions(y_true, y_scores, name='Random Forest', ax=ax[1])\n",
        "ax[1].set_title(\"ROC Curve\")\n",
        "\n",
        "plt.tight_layout()\n",
        "confusion_roc_image_path = \"/content/sample_data/Thyroid_Confusion_ROC.png\"\n",
        "plt.savefig(confusion_roc_image_path)\n",
        "plt.close()\n",
        "\n",
        "confusion_roc_image_path\n"
      ]
    }
  ]
}