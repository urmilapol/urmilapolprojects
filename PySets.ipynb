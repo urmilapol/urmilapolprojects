{
  "nbformat": 4,
  "nbformat_minor": 0,
  "metadata": {
    "colab": {
      "name": "PySets.ipynb",
      "provenance": [],
      "authorship_tag": "ABX9TyMRQC1mm7DfnCWIPTJds49n",
      "include_colab_link": true
    },
    "kernelspec": {
      "name": "python3",
      "display_name": "Python 3"
    },
    "language_info": {
      "name": "python"
    }
  },
  "cells": [
    {
      "cell_type": "markdown",
      "metadata": {
        "id": "view-in-github",
        "colab_type": "text"
      },
      "source": [
        "<a href=\"https://colab.research.google.com/github/urmilapol/urmilapolprojects/blob/master/PySets.ipynb\" target=\"_parent\"><img src=\"https://colab.research.google.com/assets/colab-badge.svg\" alt=\"Open In Colab\"/></a>"
      ]
    },
    {
      "cell_type": "markdown",
      "source": [
        "A set is an unordered collection of items. Every set element is unique (no duplicates) and must be immutable (cannot be changed).\n",
        "\n",
        "However, a set itself is mutable. We can add or remove items from it.\n",
        "\n",
        "Sets can also be used to perform mathematical set operations like union, intersection, symmetric difference, etc.\n",
        "**Creating Python Sets**\n",
        "A set is created by placing all the items (elements) inside curly braces {}, separated by comma, or by using the built-in set() function.\n",
        "\n",
        "It can have any number of items and they may be of different types (integer, float, tuple, string etc.). But a set cannot have mutable elements like lists, sets or dictionaries as its elements."
      ],
      "metadata": {
        "id": "oJyXX7_CkLxa"
      }
    },
    {
      "cell_type": "code",
      "source": [
        "# Different types of sets in Python\n",
        "# set of integers\n",
        "my_set = {1, 2, 3}\n",
        "print(my_set)\n",
        "\n",
        "# set of mixed datatypes\n",
        "my_set = {1.0, \"Hello\", (1, 2, 3)}\n",
        "print(my_set)"
      ],
      "metadata": {
        "colab": {
          "base_uri": "https://localhost:8080/"
        },
        "id": "4td-2IsDkpvk",
        "outputId": "4d04e4ba-be38-44a4-9509-b9927ce678bb"
      },
      "execution_count": 1,
      "outputs": [
        {
          "output_type": "stream",
          "name": "stdout",
          "text": [
            "{1, 2, 3}\n",
            "{1.0, (1, 2, 3), 'Hello'}\n"
          ]
        }
      ]
    },
    {
      "cell_type": "code",
      "source": [
        "# set cannot have duplicates\n",
        "# Output: {1, 2, 3, 4}\n",
        "my_set = {1, 2, 3, 4, 3, 2}\n",
        "print(my_set)\n",
        "\n",
        "# we can make set from a list\n",
        "# Output: {1, 2, 3}\n",
        "my_set = set([1, 2, 3, 2])\n",
        "print(my_set)\n",
        "\n",
        "# set cannot have mutable items\n",
        "# here [3, 4] is a mutable list\n",
        "# this will cause an error.\n",
        "\n",
        "my_set = {1, 2, [3, 4]}"
      ],
      "metadata": {
        "colab": {
          "base_uri": "https://localhost:8080/",
          "height": 235
        },
        "id": "jr9t1hwIkx_7",
        "outputId": "3d5d193c-4dd1-4fce-e8eb-9a9fc3647343"
      },
      "execution_count": 2,
      "outputs": [
        {
          "output_type": "stream",
          "name": "stdout",
          "text": [
            "{1, 2, 3, 4}\n",
            "{1, 2, 3}\n"
          ]
        },
        {
          "output_type": "error",
          "ename": "TypeError",
          "evalue": "ignored",
          "traceback": [
            "\u001b[0;31m---------------------------------------------------------------------------\u001b[0m",
            "\u001b[0;31mTypeError\u001b[0m                                 Traceback (most recent call last)",
            "\u001b[0;32m<ipython-input-2-40880666f5f2>\u001b[0m in \u001b[0;36m<module>\u001b[0;34m()\u001b[0m\n\u001b[1;32m     13\u001b[0m \u001b[0;31m# this will cause an error.\u001b[0m\u001b[0;34m\u001b[0m\u001b[0;34m\u001b[0m\u001b[0;34m\u001b[0m\u001b[0m\n\u001b[1;32m     14\u001b[0m \u001b[0;34m\u001b[0m\u001b[0m\n\u001b[0;32m---> 15\u001b[0;31m \u001b[0mmy_set\u001b[0m \u001b[0;34m=\u001b[0m \u001b[0;34m{\u001b[0m\u001b[0;36m1\u001b[0m\u001b[0;34m,\u001b[0m \u001b[0;36m2\u001b[0m\u001b[0;34m,\u001b[0m \u001b[0;34m[\u001b[0m\u001b[0;36m3\u001b[0m\u001b[0;34m,\u001b[0m \u001b[0;36m4\u001b[0m\u001b[0;34m]\u001b[0m\u001b[0;34m}\u001b[0m\u001b[0;34m\u001b[0m\u001b[0;34m\u001b[0m\u001b[0m\n\u001b[0m",
            "\u001b[0;31mTypeError\u001b[0m: unhashable type: 'list'"
          ]
        }
      ]
    },
    {
      "cell_type": "markdown",
      "source": [
        "Creating an empty set is a bit tricky.\n",
        "\n",
        "Empty curly braces {} will make an empty dictionary in Python. To make a set without any elements, we use the set() function without any argument."
      ],
      "metadata": {
        "id": "7jeaJnRblFyU"
      }
    },
    {
      "cell_type": "code",
      "source": [
        "# Distinguish set and dictionary while creating empty set\n",
        "\n",
        "# initialize a with {}\n",
        "a = {}\n",
        "\n",
        "# check data type of a\n",
        "print(type(a))\n",
        "\n",
        "# initialize a with set()\n",
        "a = set()\n",
        "\n",
        "# check data type of a\n",
        "print(type(a))"
      ],
      "metadata": {
        "colab": {
          "base_uri": "https://localhost:8080/"
        },
        "id": "KPgr9Gh_kcVh",
        "outputId": "d4e3b4cd-511b-4ac2-a18b-2eee86019668"
      },
      "execution_count": 3,
      "outputs": [
        {
          "output_type": "stream",
          "name": "stdout",
          "text": [
            "<class 'dict'>\n",
            "<class 'set'>\n"
          ]
        }
      ]
    },
    {
      "cell_type": "markdown",
      "source": [
        "**Modifying a set in Python**\n",
        "Sets are mutable. However, since they are unordered, indexing has no meaning.\n",
        "\n",
        "We cannot access or change an element of a set using indexing or slicing. Set data type does not support it.\n",
        "\n",
        "We can add a single element using the add() method, and multiple elements using the update() method. The update() method can take tuples, lists, strings or other sets as its argument. In all cases, duplicates are avoided."
      ],
      "metadata": {
        "id": "JIlwf-SbldIU"
      }
    },
    {
      "cell_type": "code",
      "source": [
        "# initialize my_set\n",
        "my_set = {1, 3}\n",
        "print(my_set)\n",
        "\n",
        "# my_set[0]\n",
        "# if you uncomment the above line\n",
        "# you will get an error\n",
        "# TypeError: 'set' object does not support indexing\n",
        "\n",
        "# add an element\n",
        "# Output: {1, 2, 3}\n",
        "my_set.add(2)\n",
        "print(my_set)\n",
        "\n",
        "# add multiple elements\n",
        "# Output: {1, 2, 3, 4}\n",
        "my_set.update([2, 3, 4])\n",
        "print(my_set)\n",
        "\n",
        "# add list and set\n",
        "# Output: {1, 2, 3, 4, 5, 6, 8}\n",
        "my_set.update([4, 5], {1, 6, 8})\n",
        "print(my_set)"
      ],
      "metadata": {
        "colab": {
          "base_uri": "https://localhost:8080/"
        },
        "id": "XmMU1P2Xlgpc",
        "outputId": "5de146e5-92fb-4625-e73d-5f3f3522bae3"
      },
      "execution_count": 4,
      "outputs": [
        {
          "output_type": "stream",
          "name": "stdout",
          "text": [
            "{1, 3}\n",
            "{1, 2, 3}\n",
            "{1, 2, 3, 4}\n",
            "{1, 2, 3, 4, 5, 6, 8}\n"
          ]
        }
      ]
    },
    {
      "cell_type": "code",
      "execution_count": null,
      "metadata": {
        "id": "GzQjSpWTjy1H"
      },
      "outputs": [],
      "source": [
        ""
      ]
    },
    {
      "cell_type": "markdown",
      "source": [
        "**Removing elements from a set**\n",
        "A particular item can be removed from a set using the methods discard() and remove().\n",
        "\n",
        "The only difference between the two is that the discard() function leaves a set unchanged if the element is not present in the set. On the other hand, the remove() function will raise an error in such a condition (if element is not present in the set).\n",
        "\n",
        "The following example will illustrate this."
      ],
      "metadata": {
        "id": "1D_5fPIxmQHT"
      }
    },
    {
      "cell_type": "code",
      "source": [
        "# Difference between discard() and remove()\n",
        "\n",
        "# initialize my_set\n",
        "my_set = {1, 3, 4, 5, 6}\n",
        "print(my_set)\n",
        "\n",
        "# discard an element\n",
        "# Output: {1, 3, 5, 6}\n",
        "my_set.discard(4)\n",
        "print(my_set)\n",
        "\n",
        "# remove an element\n",
        "# Output: {1, 3, 5}\n",
        "my_set.remove(6)\n",
        "print(my_set)\n",
        "\n",
        "# discard an element\n",
        "# not present in my_set\n",
        "# Output: {1, 3, 5}\n",
        "my_set.discard(2)\n",
        "print(my_set)\n",
        "\n",
        "# remove an element\n",
        "# not present in my_set\n",
        "# you will get an error.\n",
        "# Output: KeyError\n",
        "\n",
        "my_set.remove(2)"
      ],
      "metadata": {
        "colab": {
          "base_uri": "https://localhost:8080/",
          "height": 270
        },
        "id": "O3AY4xlkmX6d",
        "outputId": "61d3129f-2402-4bca-f166-b0ce5dbae321"
      },
      "execution_count": 5,
      "outputs": [
        {
          "output_type": "stream",
          "name": "stdout",
          "text": [
            "{1, 3, 4, 5, 6}\n",
            "{1, 3, 5, 6}\n",
            "{1, 3, 5}\n",
            "{1, 3, 5}\n"
          ]
        },
        {
          "output_type": "error",
          "ename": "KeyError",
          "evalue": "ignored",
          "traceback": [
            "\u001b[0;31m---------------------------------------------------------------------------\u001b[0m",
            "\u001b[0;31mKeyError\u001b[0m                                  Traceback (most recent call last)",
            "\u001b[0;32m<ipython-input-5-8cb8edd7dd9a>\u001b[0m in \u001b[0;36m<module>\u001b[0;34m()\u001b[0m\n\u001b[1;32m     26\u001b[0m \u001b[0;31m# Output: KeyError\u001b[0m\u001b[0;34m\u001b[0m\u001b[0;34m\u001b[0m\u001b[0;34m\u001b[0m\u001b[0m\n\u001b[1;32m     27\u001b[0m \u001b[0;34m\u001b[0m\u001b[0m\n\u001b[0;32m---> 28\u001b[0;31m \u001b[0mmy_set\u001b[0m\u001b[0;34m.\u001b[0m\u001b[0mremove\u001b[0m\u001b[0;34m(\u001b[0m\u001b[0;36m2\u001b[0m\u001b[0;34m)\u001b[0m\u001b[0;34m\u001b[0m\u001b[0;34m\u001b[0m\u001b[0m\n\u001b[0m",
            "\u001b[0;31mKeyError\u001b[0m: 2"
          ]
        }
      ]
    },
    {
      "cell_type": "markdown",
      "source": [
        "Similarly, we can remove and return an item using the pop() method.\n",
        "\n",
        "Since set is an unordered data type, there is no way of determining which item will be popped. It is completely arbitrary.\n",
        "\n",
        "We can also remove all the items from a set using the clear() method."
      ],
      "metadata": {
        "id": "iCoWKjTAmsk7"
      }
    },
    {
      "cell_type": "code",
      "source": [
        "# initialize my_set\n",
        "# Output: set of unique elements\n",
        "my_set = set(\"HelloWorld\")\n",
        "print(my_set)\n",
        "\n",
        "# pop an element\n",
        "# Output: random element\n",
        "print(my_set.pop())\n",
        "\n",
        "# pop another element\n",
        "my_set.pop()\n",
        "print(my_set)\n",
        "\n",
        "# clear my_set\n",
        "# Output: set()\n",
        "my_set.clear()\n",
        "print(my_set)\n",
        "\n",
        "print(my_set)"
      ],
      "metadata": {
        "colab": {
          "base_uri": "https://localhost:8080/"
        },
        "id": "SHj11OXOmuv6",
        "outputId": "368f95a8-58d1-4116-c13b-4410747177f2"
      },
      "execution_count": 6,
      "outputs": [
        {
          "output_type": "stream",
          "name": "stdout",
          "text": [
            "{'d', 'l', 'r', 'W', 'o', 'e', 'H'}\n",
            "d\n",
            "{'r', 'W', 'o', 'e', 'H'}\n",
            "set()\n",
            "set()\n"
          ]
        }
      ]
    },
    {
      "cell_type": "markdown",
      "source": [
        "**Python Set Operations**\n",
        "Sets can be used to carry out mathematical set operations like union, intersection, difference and symmetric difference. We can do this with operators or methods.\n",
        "\n",
        "Let us consider the following two sets for the following operations.\n",
        "\n",
        "**A = {1, 2, 3, 4, 5}**\n",
        "\n",
        "B = {4, 5, 6, 7, 8} \n",
        "\n",
        "![image.png](data:image/png;base64,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)"
      ],
      "metadata": {
        "id": "19GcUy9coeDT"
      }
    },
    {
      "cell_type": "markdown",
      "source": [
        "Union of A and B is a set of all elements from both sets.\n",
        "\n",
        "Union is performed using | operator. Same can be accomplished using the union() method."
      ],
      "metadata": {
        "id": "eelhWORzpmbU"
      }
    },
    {
      "cell_type": "code",
      "source": [
        "# Set union method\n",
        "# initialize A and B\n",
        "A = {1, 2, 3, 4, 5}\n",
        "B = {4, 5, 6, 7, 8}\n",
        "\n",
        "# use | operator\n",
        "# Output: {1, 2, 3, 4, 5, 6, 7, 8}\n",
        "print(A | B)"
      ],
      "metadata": {
        "colab": {
          "base_uri": "https://localhost:8080/"
        },
        "id": "WGXl-Z3bpc9a",
        "outputId": "6b0820d6-6e07-4551-9904-1304de27d523"
      },
      "execution_count": 7,
      "outputs": [
        {
          "output_type": "stream",
          "name": "stdout",
          "text": [
            "{1, 2, 3, 4, 5, 6, 7, 8}\n"
          ]
        }
      ]
    },
    {
      "cell_type": "code",
      "source": [
        ""
      ],
      "metadata": {
        "id": "LY0wWAbIogt6"
      },
      "execution_count": null,
      "outputs": []
    }
  ]
}