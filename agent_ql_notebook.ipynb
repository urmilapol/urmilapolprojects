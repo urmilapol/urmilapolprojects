{
  "cells": [
    {
      "cell_type": "markdown",
      "metadata": {
        "id": "view-in-github",
        "colab_type": "text"
      },
      "source": [
        "<a href=\"https://colab.research.google.com/github/urmilapol/urmilapolprojects/blob/master/agent_ql_notebook.ipynb\" target=\"_parent\"><img src=\"https://colab.research.google.com/assets/colab-badge.svg\" alt=\"Open In Colab\"/></a>"
      ]
    },
    {
      "cell_type": "markdown",
      "metadata": {
        "id": "cOG_eI8DY3co"
      },
      "source": [
        "### Installation"
      ]
    },
    {
      "cell_type": "code",
      "execution_count": null,
      "metadata": {
        "id": "mGqCFOMozoqj",
        "colab": {
          "base_uri": "https://localhost:8080/"
        },
        "outputId": "6171b5c2-0cb0-4898-b9da-3c975ad0e6f7"
      },
      "outputs": [
        {
          "output_type": "stream",
          "name": "stdout",
          "text": [
            "\u001b[2K   \u001b[90m━━━━━━━━━━━━━━━━━━━━━━━━━━━━━━━━━━━━━━━━\u001b[0m \u001b[32m57.3/57.3 kB\u001b[0m \u001b[31m2.0 MB/s\u001b[0m eta \u001b[36m0:00:00\u001b[0m\n",
            "\u001b[2K   \u001b[90m━━━━━━━━━━━━━━━━━━━━━━━━━━━━━━━━━━━━━━━━\u001b[0m \u001b[32m76.4/76.4 kB\u001b[0m \u001b[31m1.7 MB/s\u001b[0m eta \u001b[36m0:00:00\u001b[0m\n",
            "\u001b[2K   \u001b[90m━━━━━━━━━━━━━━━━━━━━━━━━━━━━━━━━━━━━━━━━\u001b[0m \u001b[32m78.0/78.0 kB\u001b[0m \u001b[31m1.6 MB/s\u001b[0m eta \u001b[36m0:00:00\u001b[0m\n",
            "\u001b[2K   \u001b[90m━━━━━━━━━━━━━━━━━━━━━━━━━━━━━━━━━━━━━━━━\u001b[0m \u001b[32m38.2/38.2 MB\u001b[0m \u001b[31m10.7 MB/s\u001b[0m eta \u001b[36m0:00:00\u001b[0m\n",
            "\u001b[2K   \u001b[90m━━━━━━━━━━━━━━━━━━━━━━━━━━━━━━━━━━━━━━━━\u001b[0m \u001b[32m342.3/342.3 kB\u001b[0m \u001b[31m9.1 MB/s\u001b[0m eta \u001b[36m0:00:00\u001b[0m\n",
            "\u001b[2K   \u001b[90m━━━━━━━━━━━━━━━━━━━━━━━━━━━━━━━━━━━━━━━━\u001b[0m \u001b[32m58.3/58.3 kB\u001b[0m \u001b[31m2.5 MB/s\u001b[0m eta \u001b[36m0:00:00\u001b[0m\n",
            "\u001b[?25h"
          ]
        }
      ],
      "source": [
        "!pip install -q agentql"
      ]
    },
    {
      "cell_type": "markdown",
      "metadata": {
        "id": "pA8h29noYr-N"
      },
      "source": [
        "### Install the Playwright dependency required by AgentQL."
      ]
    },
    {
      "cell_type": "code",
      "execution_count": null,
      "metadata": {
        "id": "BSTQXuQyYr-O",
        "colab": {
          "base_uri": "https://localhost:8080/"
        },
        "outputId": "7714bc6d-b587-4e50-e06a-d930692a8d6f"
      },
      "outputs": [
        {
          "output_type": "stream",
          "name": "stdout",
          "text": [
            "Downloading Chromium 130.0.6723.31 (playwright build v1140)\u001b[2m from https://playwright.azureedge.net/builds/chromium/1140/chromium-linux.zip\u001b[22m\n",
            "\u001b[1G164.5 MiB [] 0% 10.9s\u001b[0K\u001b[1G164.5 MiB [] 0% 36.0s\u001b[0K\u001b[1G164.5 MiB [] 0% 25.6s\u001b[0K\u001b[1G164.5 MiB [] 0% 17.0s\u001b[0K\u001b[1G164.5 MiB [] 0% 12.8s\u001b[0K\u001b[1G164.5 MiB [] 0% 10.2s\u001b[0K\u001b[1G164.5 MiB [] 1% 8.3s\u001b[0K\u001b[1G164.5 MiB [] 1% 7.3s\u001b[0K\u001b[1G164.5 MiB [] 1% 6.9s\u001b[0K\u001b[1G164.5 MiB [] 2% 6.2s\u001b[0K\u001b[1G164.5 MiB [] 2% 6.3s\u001b[0K\u001b[1G164.5 MiB [] 2% 6.1s\u001b[0K\u001b[1G164.5 MiB [] 3% 6.0s\u001b[0K\u001b[1G164.5 MiB [] 3% 5.9s\u001b[0K\u001b[1G164.5 MiB [] 3% 6.3s\u001b[0K\u001b[1G164.5 MiB [] 4% 6.2s\u001b[0K\u001b[1G164.5 MiB [] 4% 6.5s\u001b[0K\u001b[1G164.5 MiB [] 4% 6.6s\u001b[0K\u001b[1G164.5 MiB [] 4% 6.1s\u001b[0K\u001b[1G164.5 MiB [] 5% 6.0s\u001b[0K\u001b[1G164.5 MiB [] 5% 5.7s\u001b[0K\u001b[1G164.5 MiB [] 5% 5.8s\u001b[0K\u001b[1G164.5 MiB [] 6% 5.5s\u001b[0K\u001b[1G164.5 MiB [] 6% 5.4s\u001b[0K\u001b[1G164.5 MiB [] 7% 5.1s\u001b[0K\u001b[1G164.5 MiB [] 7% 4.9s\u001b[0K\u001b[1G164.5 MiB [] 8% 4.9s\u001b[0K\u001b[1G164.5 MiB [] 9% 5.0s\u001b[0K\u001b[1G164.5 MiB [] 9% 4.8s\u001b[0K\u001b[1G164.5 MiB [] 10% 4.8s\u001b[0K\u001b[1G164.5 MiB [] 10% 4.7s\u001b[0K\u001b[1G164.5 MiB [] 11% 4.7s\u001b[0K\u001b[1G164.5 MiB [] 11% 4.6s\u001b[0K\u001b[1G164.5 MiB [] 12% 4.6s\u001b[0K\u001b[1G164.5 MiB [] 13% 4.5s\u001b[0K\u001b[1G164.5 MiB [] 14% 4.5s\u001b[0K\u001b[1G164.5 MiB [] 14% 4.4s\u001b[0K\u001b[1G164.5 MiB [] 15% 4.4s\u001b[0K\u001b[1G164.5 MiB [] 15% 4.3s\u001b[0K\u001b[1G164.5 MiB [] 16% 4.2s\u001b[0K\u001b[1G164.5 MiB [] 17% 4.1s\u001b[0K\u001b[1G164.5 MiB [] 17% 4.2s\u001b[0K\u001b[1G164.5 MiB [] 18% 4.0s\u001b[0K\u001b[1G164.5 MiB [] 18% 3.9s\u001b[0K\u001b[1G164.5 MiB [] 19% 3.9s\u001b[0K\u001b[1G164.5 MiB [] 19% 3.8s\u001b[0K\u001b[1G164.5 MiB [] 20% 3.8s\u001b[0K\u001b[1G164.5 MiB [] 21% 3.7s\u001b[0K\u001b[1G164.5 MiB [] 22% 3.7s\u001b[0K\u001b[1G164.5 MiB [] 23% 3.7s\u001b[0K\u001b[1G164.5 MiB [] 24% 3.6s\u001b[0K\u001b[1G164.5 MiB [] 25% 3.5s\u001b[0K\u001b[1G164.5 MiB [] 26% 3.4s\u001b[0K\u001b[1G164.5 MiB [] 27% 3.3s\u001b[0K\u001b[1G164.5 MiB [] 28% 3.2s\u001b[0K\u001b[1G164.5 MiB [] 28% 3.1s\u001b[0K\u001b[1G164.5 MiB [] 29% 3.1s\u001b[0K\u001b[1G164.5 MiB [] 30% 3.0s\u001b[0K\u001b[1G164.5 MiB [] 31% 2.9s\u001b[0K\u001b[1G164.5 MiB [] 32% 2.8s\u001b[0K\u001b[1G164.5 MiB [] 33% 2.7s\u001b[0K\u001b[1G164.5 MiB [] 34% 2.6s\u001b[0K\u001b[1G164.5 MiB [] 35% 2.6s\u001b[0K\u001b[1G164.5 MiB [] 36% 2.5s\u001b[0K\u001b[1G164.5 MiB [] 37% 2.5s\u001b[0K\u001b[1G164.5 MiB [] 38% 2.5s\u001b[0K\u001b[1G164.5 MiB [] 39% 2.5s\u001b[0K\u001b[1G164.5 MiB [] 40% 2.5s\u001b[0K\u001b[1G164.5 MiB [] 41% 2.4s\u001b[0K\u001b[1G164.5 MiB [] 42% 2.4s\u001b[0K\u001b[1G164.5 MiB [] 43% 2.3s\u001b[0K\u001b[1G164.5 MiB [] 44% 2.3s\u001b[0K\u001b[1G164.5 MiB [] 45% 2.3s\u001b[0K\u001b[1G164.5 MiB [] 46% 2.3s\u001b[0K\u001b[1G164.5 MiB [] 47% 2.2s\u001b[0K\u001b[1G164.5 MiB [] 48% 2.2s\u001b[0K\u001b[1G164.5 MiB [] 49% 2.1s\u001b[0K\u001b[1G164.5 MiB [] 50% 2.0s\u001b[0K\u001b[1G164.5 MiB [] 51% 2.0s\u001b[0K\u001b[1G164.5 MiB [] 52% 2.0s\u001b[0K\u001b[1G164.5 MiB [] 53% 1.9s\u001b[0K\u001b[1G164.5 MiB [] 54% 1.9s\u001b[0K\u001b[1G164.5 MiB [] 55% 1.8s\u001b[0K\u001b[1G164.5 MiB [] 56% 1.8s\u001b[0K\u001b[1G164.5 MiB [] 57% 1.8s\u001b[0K\u001b[1G164.5 MiB [] 57% 1.7s\u001b[0K\u001b[1G164.5 MiB [] 58% 1.7s\u001b[0K\u001b[1G164.5 MiB [] 59% 1.7s\u001b[0K\u001b[1G164.5 MiB [] 60% 1.7s\u001b[0K\u001b[1G164.5 MiB [] 60% 1.6s\u001b[0K\u001b[1G164.5 MiB [] 61% 1.6s\u001b[0K\u001b[1G164.5 MiB [] 62% 1.6s\u001b[0K\u001b[1G164.5 MiB [] 63% 1.6s\u001b[0K\u001b[1G164.5 MiB [] 63% 1.5s\u001b[0K\u001b[1G164.5 MiB [] 64% 1.5s\u001b[0K\u001b[1G164.5 MiB [] 65% 1.5s\u001b[0K\u001b[1G164.5 MiB [] 66% 1.4s\u001b[0K\u001b[1G164.5 MiB [] 67% 1.4s\u001b[0K\u001b[1G164.5 MiB [] 68% 1.3s\u001b[0K\u001b[1G164.5 MiB [] 69% 1.3s\u001b[0K\u001b[1G164.5 MiB [] 70% 1.3s\u001b[0K\u001b[1G164.5 MiB [] 71% 1.2s\u001b[0K\u001b[1G164.5 MiB [] 72% 1.2s\u001b[0K\u001b[1G164.5 MiB [] 73% 1.2s\u001b[0K\u001b[1G164.5 MiB [] 73% 1.1s\u001b[0K\u001b[1G164.5 MiB [] 74% 1.1s\u001b[0K\u001b[1G164.5 MiB [] 75% 1.1s\u001b[0K\u001b[1G164.5 MiB [] 76% 1.1s\u001b[0K\u001b[1G164.5 MiB [] 76% 1.0s\u001b[0K\u001b[1G164.5 MiB [] 77% 1.0s\u001b[0K\u001b[1G164.5 MiB [] 78% 1.0s\u001b[0K\u001b[1G164.5 MiB [] 78% 0.9s\u001b[0K\u001b[1G164.5 MiB [] 79% 0.9s\u001b[0K\u001b[1G164.5 MiB [] 81% 0.8s\u001b[0K\u001b[1G164.5 MiB [] 82% 0.8s\u001b[0K\u001b[1G164.5 MiB [] 82% 0.7s\u001b[0K\u001b[1G164.5 MiB [] 83% 0.7s\u001b[0K\u001b[1G164.5 MiB [] 84% 0.7s\u001b[0K\u001b[1G164.5 MiB [] 85% 0.6s\u001b[0K\u001b[1G164.5 MiB [] 86% 0.6s\u001b[0K\u001b[1G164.5 MiB [] 87% 0.6s\u001b[0K\u001b[1G164.5 MiB [] 87% 0.5s\u001b[0K\u001b[1G164.5 MiB [] 88% 0.5s\u001b[0K\u001b[1G164.5 MiB [] 89% 0.5s\u001b[0K\u001b[1G164.5 MiB [] 89% 0.4s\u001b[0K\u001b[1G164.5 MiB [] 90% 0.4s\u001b[0K\u001b[1G164.5 MiB [] 91% 0.4s\u001b[0K\u001b[1G164.5 MiB [] 92% 0.3s\u001b[0K\u001b[1G164.5 MiB [] 93% 0.3s\u001b[0K\u001b[1G164.5 MiB [] 94% 0.3s\u001b[0K\u001b[1G164.5 MiB [] 94% 0.2s\u001b[0K\u001b[1G164.5 MiB [] 95% 0.2s\u001b[0K\u001b[1G164.5 MiB [] 96% 0.2s\u001b[0K\u001b[1G164.5 MiB [] 97% 0.1s\u001b[0K\u001b[1G164.5 MiB [] 98% 0.1s\u001b[0K\u001b[1G164.5 MiB [] 99% 0.0s\u001b[0K\u001b[1G164.5 MiB [] 100% 0.0s\u001b[0K\n",
            "Chromium 130.0.6723.31 (playwright build v1140) downloaded to /root/.cache/ms-playwright/chromium-1140\n",
            "Downloading FFMPEG playwright build v1010\u001b[2m from https://playwright.azureedge.net/builds/ffmpeg/1010/ffmpeg-linux.zip\u001b[22m\n",
            "\u001b[1G2.3 MiB [] 0% 0.0s\u001b[0K\u001b[1G2.3 MiB [] 3% 0.6s\u001b[0K\u001b[1G2.3 MiB [] 6% 0.5s\u001b[0K\u001b[1G2.3 MiB [] 19% 0.2s\u001b[0K\u001b[1G2.3 MiB [] 37% 0.1s\u001b[0K\u001b[1G2.3 MiB [] 84% 0.0s\u001b[0K\u001b[1G2.3 MiB [] 100% 0.0s\u001b[0K\n",
            "FFMPEG playwright build v1010 downloaded to /root/.cache/ms-playwright/ffmpeg-1010\n"
          ]
        }
      ],
      "source": [
        "!playwright install chromium"
      ]
    },
    {
      "cell_type": "markdown",
      "metadata": {
        "id": "r-SAMi1bYr-O"
      },
      "source": [
        "You can [store](https://medium.com/@parthdasawant/how-to-use-secrets-in-google-colab-450c38e3ec75) keys in Google Colab's Secrets."
      ]
    },
    {
      "cell_type": "code",
      "execution_count": null,
      "metadata": {
        "id": "5a405Rl5lqT1"
      },
      "outputs": [],
      "source": [
        "import os\n",
        "from google.colab import userdata\n",
        "\n",
        "os.environ[\"AGENTQL_API_KEY\"]= userdata.get('AGENTQL_API_KEY')"
      ]
    },
    {
      "cell_type": "markdown",
      "source": [
        "### Extract Prices from 2 e-Commerce Sites"
      ],
      "metadata": {
        "id": "88zZq0rP0aTY"
      }
    },
    {
      "cell_type": "code",
      "execution_count": null,
      "metadata": {
        "id": "W3IIXkPJ0iIX"
      },
      "outputs": [],
      "source": [
        "import agentql\n",
        "from playwright.async_api import async_playwright\n",
        "\n",
        "url_1 = \"https://www.amazon.ae/Apple-iPhone-15-256-GB/dp/B0CHXLB3WN/\"\n",
        "url_2 = \"https://www.jumbo.ae/apple-iphone-15-5g-smartphone-blue-256-gb.html\"\n",
        "\n",
        "\n",
        "PRODUCT_INFO_QUERY = \"\"\"\n",
        "{\n",
        "    price\n",
        "}\n",
        "\"\"\""
      ]
    },
    {
      "cell_type": "markdown",
      "metadata": {
        "id": "pzqT72Q2Yr-P"
      },
      "source": [
        "Run AgentQL script. Please note that online environment like Google Colab only supports **asynchronous version** of AgentQL."
      ]
    },
    {
      "cell_type": "code",
      "source": [
        "async with async_playwright() as playwright, await playwright.chromium.launch() as browser:\n",
        "    # Create a new page in the browser and wrap it to get access to the AgentQL's querying API\n",
        "    page = await agentql.wrap_async(browser.new_page())\n",
        "\n",
        "    await page.goto(url_1)\n",
        "\n",
        "    response = await page.query_data(PRODUCT_INFO_QUERY)\n",
        "\n",
        "    print(\"Price at Amazon: \", response[\"price\"])\n",
        "\n",
        "    await page.goto(url_2)\n",
        "\n",
        "    response = await page.query_data(PRODUCT_INFO_QUERY)\n",
        "\n",
        "    print(\"Price at Jumbo: \", response[\"price\"])"
      ],
      "metadata": {
        "id": "6p82yjRqZUpO"
      },
      "execution_count": null,
      "outputs": []
    },
    {
      "cell_type": "code",
      "source": [],
      "metadata": {
        "id": "uyS3bEiOY-Kl"
      },
      "execution_count": null,
      "outputs": []
    },
    {
      "cell_type": "markdown",
      "source": [
        "### Extract Prices by Searching"
      ],
      "metadata": {
        "id": "XXjEi5lD9q_H"
      }
    },
    {
      "cell_type": "code",
      "source": [
        "import asyncio\n",
        "import agentql\n",
        "from playwright.async_api import BrowserContext, async_playwright\n",
        "\n",
        "AMAZON_URL = \"https://www.amazon.ae\"\n",
        "JUMBO_URL = \"https://www.jumbo.ae/\"\n",
        "\n",
        "# Define the queries to interact with the page\n",
        "HOME_PAGE_QUERY = \"\"\"\n",
        "{\n",
        "    search_input\n",
        "    search_button\n",
        "}\n",
        "\"\"\"\n",
        "\n",
        "PRODUCT_INFO_QUERY = \"\"\"\n",
        "{\n",
        "    product_price (for iPhone 15 256 GB)\n",
        "}\n",
        "\"\"\"\n",
        "\n",
        "async def fetch_price(context: BrowserContext, session_url):\n",
        "    \"\"\"Open the given URL in a new tab and fetch the price of the product.\"\"\"\n",
        "    # Create a page in a new tab in the broswer context and wrap it to get access to the AgentQL's querying API\n",
        "    page = await agentql.wrap_async(context.new_page())\n",
        "    await page.goto(session_url)\n",
        "\n",
        "    # Search for the product\n",
        "    await page.wait_for_page_ready_state()\n",
        "    home_response = await page.query_elements(HOME_PAGE_QUERY)\n",
        "    await home_response.search_input.fill(\"iPhone 15 256 GB\")\n",
        "    await home_response.search_button.click()\n",
        "\n",
        "    # Fetch the price data from the page\n",
        "    data = await page.query_data(PRODUCT_INFO_QUERY)\n",
        "    return data[\"product_price\"]\n",
        "\n",
        "\n",
        "async with async_playwright() as playwright, await playwright.chromium.launch(\n",
        "    ) as browser, await browser.new_context() as context:\n",
        "        # Open multiple tabs in the same browser context to fetch prices concurrently\n",
        "        (amazon_price, jumbo_price) = await asyncio.gather(\n",
        "            fetch_price(context, AMAZON_URL),\n",
        "            fetch_price(context, JUMBO_URL),\n",
        "        )\n",
        "\n",
        "        print(\n",
        "            f\"\"\"\n",
        "        Price at Amazon : {amazon_price}\n",
        "        Price at Jumbo : {jumbo_price}\n",
        "        \"\"\"\n",
        "        )"
      ],
      "metadata": {
        "id": "DBvs5AsPY-N8"
      },
      "execution_count": null,
      "outputs": []
    },
    {
      "cell_type": "code",
      "source": [
        "import asyncio\n",
        "import agentql\n",
        "from playwright.async_api import BrowserContext, async_playwright\n",
        "\n",
        "AMAZON_URL = \"https://www.amazon.ae\"\n",
        "JUMBO_URL = \"https://www.jumbo.ae/\"\n",
        "\n",
        "# Define the queries to interact with the page\n",
        "HOME_PAGE_QUERY = \"\"\"\n",
        "{\n",
        "    search_input\n",
        "    search_button\n",
        "}\n",
        "\"\"\"\n",
        "\n",
        "PRODUCT_INFO_QUERY = \"\"\"\n",
        "{\n",
        "    product_price (for iPhone 15 256 GB)\n",
        "}\n",
        "\"\"\""
      ],
      "metadata": {
        "id": "F-MI-50KY-jT"
      },
      "execution_count": null,
      "outputs": []
    },
    {
      "cell_type": "markdown",
      "source": [
        "### Get By Prompt"
      ],
      "metadata": {
        "id": "lViaYr8T9vCL"
      }
    },
    {
      "cell_type": "code",
      "source": [
        "async def fetch_price(context: BrowserContext, session_url):\n",
        "    \"\"\"Open the given URL in a new tab and fetch the price of the product.\"\"\"\n",
        "    # Create a page in a new tab in the broswer context and wrap it to get access to the AgentQL's querying API\n",
        "    page = await agentql.wrap_async(context.new_page())\n",
        "    await page.goto(session_url)\n",
        "\n",
        "    # Search for the product\n",
        "    await page.wait_for_page_ready_state()\n",
        "    search_text_box = await page.get_by_prompt(prompt=\"Search input field\")\n",
        "    search_button_box = await page.get_by_prompt(prompt=\"Search button\")\n",
        "    await search_text_box.fill(\"iPhone 15 256 GB\")\n",
        "    await search_button_box.click()\n",
        "\n",
        "    # Fetch the price data from the page\n",
        "    data = await page.query_data(PRODUCT_INFO_QUERY)\n",
        "    return data[\"product_price\"]\n",
        "\n",
        "\n",
        "async with async_playwright() as playwright, await playwright.chromium.launch(\n",
        "    ) as browser, await browser.new_context() as context:\n",
        "        # Open multiple tabs in the same browser context to fetch prices concurrently\n",
        "        amazon_price = await asyncio.gather(\n",
        "            fetch_price(context, AMAZON_URL),\n",
        "        )\n",
        "\n",
        "        print(\n",
        "            f\"\"\"\n",
        "        Price at Amazon : {amazon_price}\n",
        "        \"\"\"\n",
        "        )"
      ],
      "metadata": {
        "id": "1cYWKjXl4BlP",
        "colab": {
          "base_uri": "https://localhost:8080/"
        },
        "outputId": "fc61ce0b-744b-44c3-ee30-b36a84a491ed"
      },
      "execution_count": null,
      "outputs": [
        {
          "output_type": "stream",
          "name": "stdout",
          "text": [
            "\n",
            "        Price at Amazon : ['AED 3,299.00']\n",
            "        \n"
          ]
        }
      ]
    },
    {
      "cell_type": "code",
      "source": [],
      "metadata": {
        "id": "b-UXqU9z4Bn6"
      },
      "execution_count": null,
      "outputs": []
    }
  ],
  "metadata": {
    "colab": {
      "provenance": [],
      "include_colab_link": true
    },
    "kernelspec": {
      "display_name": "Python 3",
      "name": "python3"
    },
    "language_info": {
      "codemirror_mode": {
        "name": "ipython",
        "version": 3
      },
      "file_extension": ".py",
      "mimetype": "text/x-python",
      "name": "python",
      "nbconvert_exporter": "python",
      "pygments_lexer": "ipython3",
      "version": "3.11.4"
    }
  },
  "nbformat": 4,
  "nbformat_minor": 0
}