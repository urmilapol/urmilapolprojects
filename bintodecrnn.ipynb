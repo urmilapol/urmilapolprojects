{
  "nbformat": 4,
  "nbformat_minor": 0,
  "metadata": {
    "colab": {
      "name": "bintodecrnn.ipynb",
      "provenance": [],
      "authorship_tag": "ABX9TyPWTROcWXZicbDjyDUfkaXq",
      "include_colab_link": true
    },
    "kernelspec": {
      "name": "python3",
      "display_name": "Python 3"
    },
    "language_info": {
      "name": "python"
    }
  },
  "cells": [
    {
      "cell_type": "markdown",
      "metadata": {
        "id": "view-in-github",
        "colab_type": "text"
      },
      "source": [
        "<a href=\"https://colab.research.google.com/github/urmilapol/urmilapolprojects/blob/master/bintodecrnn.ipynb\" target=\"_parent\"><img src=\"https://colab.research.google.com/assets/colab-badge.svg\" alt=\"Open In Colab\"/></a>"
      ]
    },
    {
      "cell_type": "code",
      "execution_count": 13,
      "metadata": {
        "colab": {
          "base_uri": "https://localhost:8080/"
        },
        "id": "70KFWZW20AXX",
        "outputId": "8797a1f7-9ca3-44c1-8d50-d1505de7aa69"
      },
      "outputs": [
        {
          "output_type": "stream",
          "name": "stdout",
          "text": [
            "9\n",
            "1\n"
          ]
        }
      ],
      "source": [
        "import numpy as np\n",
        "def bin2int(bin_list):\n",
        "#bin_list = [0, 0, 0, 1]\n",
        "    bin_str= \"\"\n",
        "    for k in bin_list:\n",
        "        bin_str += str(int(k))\n",
        "#int_val = 11011011    \n",
        "    return int(bin_str, 2)\n",
        "print(bin2int([1,0,0,1]))\n",
        "print(bin2int([0,0,0,1]))\n"
      ]
    },
    {
      "cell_type": "code",
      "source": [
        "def dataset(num):\n",
        "    # num - no of samples\n",
        "    bin_len = 8\n",
        "    X = np.zeros((num, bin_len))\n",
        "    Y = np.zeros((num))\n",
        "\n",
        "    for i in range(num):\n",
        "        X[i] = np.around(np.random.rand(bin_len)).astype(int)\n",
        "        Y[i] = bin2int(X[i])\n",
        "    return X, Y\n",
        "\n",
        "no_of_smaples = 20\n",
        "\n",
        "trainX, trainY = dataset(no_of_smaples)\n",
        "testX, testY = dataset(5)\n",
        "print(trainX)\n",
        "print(trainY)"
      ],
      "metadata": {
        "colab": {
          "base_uri": "https://localhost:8080/"
        },
        "id": "YxrQKm7A2ZRb",
        "outputId": "88c76aa9-4b9e-4b10-c686-5bf7f1e83f0b"
      },
      "execution_count": 12,
      "outputs": [
        {
          "output_type": "stream",
          "name": "stdout",
          "text": [
            "[[0. 0. 0. 0. 0. 1. 1. 0.]\n",
            " [0. 0. 1. 0. 1. 1. 1. 0.]\n",
            " [1. 0. 1. 1. 1. 0. 1. 0.]\n",
            " [1. 1. 1. 0. 0. 0. 0. 1.]\n",
            " [1. 0. 0. 1. 1. 0. 1. 0.]\n",
            " [0. 1. 1. 0. 1. 0. 1. 0.]\n",
            " [0. 0. 1. 1. 1. 0. 1. 0.]\n",
            " [0. 0. 0. 1. 0. 0. 0. 1.]\n",
            " [1. 1. 1. 1. 1. 1. 0. 0.]\n",
            " [1. 1. 0. 1. 0. 1. 1. 1.]\n",
            " [0. 0. 0. 1. 1. 0. 0. 1.]\n",
            " [0. 0. 0. 1. 1. 0. 1. 0.]\n",
            " [1. 1. 0. 1. 1. 0. 0. 1.]\n",
            " [1. 1. 0. 1. 1. 0. 0. 0.]\n",
            " [0. 0. 0. 0. 1. 1. 1. 1.]\n",
            " [0. 0. 1. 1. 1. 1. 0. 0.]\n",
            " [1. 1. 0. 1. 1. 0. 0. 1.]\n",
            " [1. 0. 1. 1. 0. 0. 0. 0.]\n",
            " [0. 0. 0. 0. 0. 0. 0. 1.]\n",
            " [0. 0. 0. 1. 0. 1. 1. 1.]]\n",
            "[  6.  46. 186. 225. 154. 106.  58.  17. 252. 215.  25.  26. 217. 216.\n",
            "  15.  60. 217. 176.   1.  23.]\n"
          ]
        }
      ]
    },
    {
      "cell_type": "code",
      "source": [
        "class RNN:\n",
        "    def __init__(self):\n",
        "        self.W = [1, 1]\n",
        "        self.W_delta = [0.001, 0.001]\n",
        "        self.W_sign = [0, 0]\n",
        "\n",
        "        self.eta_p = 1.2\n",
        "        self.eta_n = 0.5\n",
        "\n",
        "    def state(self, xk, sk):\n",
        "        return xk * self.W[0] + sk * self.W[1]\n",
        "\n",
        "    def forward_states(self, X):\n",
        "        S = np.zeros((X.shape[0], X.shape[1]+1))\n",
        "        for k in range(0, X.shape[1]):\n",
        "            next_state = self.state(X[:,k], S[:,k])\n",
        "            S[:,k+1] = next_state\n",
        "        return S\n",
        "\n",
        "    def output_gradient(self, guess, real):\n",
        "        return 2 * (guess - real) / no_of_smaples\n",
        "\n",
        "    def backward_gradient(self, X, S, grad_out):\n",
        "        grad_over_time = np.zeros(( X.shape[0], X.shape[1]+1 ))\n",
        "        grad_over_time[:,-1] = grad_out\n",
        "\n",
        "        wx_grad = 0\n",
        "        wr_grad = 0\n",
        "        for k in range(X.shape[1], 0, -1):\n",
        "            wx_grad += np.sum( grad_over_time[:, k] * X[:, k-1] )\n",
        "            wr_grad += np.sum( grad_over_time[:, k] * S[:, k-1] )\n",
        "\n",
        "            grad_over_time[:, k-1] = grad_over_time[:, k] * self.W[1]\n",
        "        return (wx_grad, wr_grad), grad_over_time\n",
        "\n",
        "    def update_rprop(self, X, Y, W_prev_sign, W_delta):\n",
        "        S = self.forward_states(X)\n",
        "        grad_out =  self.output_gradient(S[:, -1], Y)\n",
        "        W_grads, _ = self.backward_gradient(X, S, grad_out)\n",
        "        self.W_sign = np.sign(W_grads)\n",
        "\n",
        "        for i, _ in enumerate(self.W):\n",
        "            if self.W_sign[i] == W_prev_sign[i]:\n",
        "                W_delta[i] *= self.eta_p\n",
        "            else:\n",
        "                W_delta[i] *= self.eta_n\n",
        "        self.W_delta = W_delta\n",
        "\n",
        "    def train(self, X, Y, training_epochs):\n",
        "        for epochs in range(training_epochs):\n",
        "            self.update_rprop(X, Y, self.W_sign, self.W_delta)\n",
        "\n",
        "            for i, _ in enumerate(self.W):\n",
        "                self.W[i] -= self.W_sign[i] * self.W_delta[i]\n",
        "rnn = RNN()\n",
        "rnn.train(trainX, trainY, 20000)\n",
        "print(\"Weight: \\t\", rnn.W)\n",
        "print (\"Real: \\t\\t\", testY)\n",
        "\n",
        "y = rnn.forward_states(testX)[:, -1]\n",
        "print (\"Predicted: \\t\",y)"
      ],
      "metadata": {
        "colab": {
          "base_uri": "https://localhost:8080/"
        },
        "id": "dsHJQkUx3Wnv",
        "outputId": "010d9f9b-c822-44e4-ad8a-6d6740c34171"
      },
      "execution_count": 14,
      "outputs": [
        {
          "output_type": "stream",
          "name": "stdout",
          "text": [
            "Weight: \t [1.0000000000002855, 1.999999999999908]\n",
            "Real: \t\t [ 16. 135.   2. 140. 133.]\n",
            "Predicted: \t [ 16. 135.   2. 140. 133.]\n"
          ]
        }
      ]
    }
  ]
}