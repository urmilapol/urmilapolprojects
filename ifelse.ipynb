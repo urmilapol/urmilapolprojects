{
  "nbformat": 4,
  "nbformat_minor": 0,
  "metadata": {
    "colab": {
      "name": "ifelse.ipynb",
      "provenance": [],
      "authorship_tag": "ABX9TyPH9W4i/68DX47HsM0ukEGZ",
      "include_colab_link": true
    },
    "kernelspec": {
      "name": "python3",
      "display_name": "Python 3"
    },
    "language_info": {
      "name": "python"
    }
  },
  "cells": [
    {
      "cell_type": "markdown",
      "metadata": {
        "id": "view-in-github",
        "colab_type": "text"
      },
      "source": [
        "<a href=\"https://colab.research.google.com/github/urmilapol/urmilapolprojects/blob/master/ifelse.ipynb\" target=\"_parent\"><img src=\"https://colab.research.google.com/assets/colab-badge.svg\" alt=\"Open In Colab\"/></a>"
      ]
    },
    {
      "cell_type": "code",
      "execution_count": 2,
      "metadata": {
        "colab": {
          "base_uri": "https://localhost:8080/"
        },
        "id": "9_tFKI7wMNZO",
        "outputId": "68b08ec4-9e00-4b6e-e280-550c71038d26"
      },
      "outputs": [
        {
          "output_type": "stream",
          "name": "stdout",
          "text": [
            "6 is not less than 4\n"
          ]
        }
      ],
      "source": [
        "a = 6\n",
        "b = 4\n",
        "\n",
        "if a<b:\n",
        "\tprint(a, 'is less than', b)\n",
        "else:\n",
        "\tprint(a, 'is not less than', b)"
      ]
    },
    {
      "cell_type": "code",
      "source": [
        "a = 2\n",
        "b = 4\n",
        "\n",
        "if a<b:\n",
        "\tprint(a, 'is less than', b)\n",
        "else:\n",
        "\tprint(a, 'is not less than', b)"
      ],
      "metadata": {
        "colab": {
          "base_uri": "https://localhost:8080/"
        },
        "id": "_T2emG3tMcal",
        "outputId": "d8953c0c-ffd2-4a2f-9788-670469bee462"
      },
      "execution_count": 3,
      "outputs": [
        {
          "output_type": "stream",
          "name": "stdout",
          "text": [
            "2 is less than 4\n"
          ]
        }
      ]
    },
    {
      "cell_type": "code",
      "source": [
        "a = 2\n",
        "b = 4\n",
        "c = 5\n",
        "\n",
        "if a<b:\n",
        "\tprint(a, 'is less than', b)\n",
        "\tif c<b:\n",
        "\t\tprint(c, 'is less than', b)\n",
        "\telse:\n",
        "\t\tprint(c, 'is not less than', b)\n",
        "else:\n",
        "\tprint(a, 'is not less than', b)"
      ],
      "metadata": {
        "colab": {
          "base_uri": "https://localhost:8080/"
        },
        "id": "aEd6IN84M0Bm",
        "outputId": "c499ac55-1fd9-48ad-a76c-10701a40af9a"
      },
      "execution_count": 4,
      "outputs": [
        {
          "output_type": "stream",
          "name": "stdout",
          "text": [
            "2 is less than 4\n",
            "5 is not less than 4\n"
          ]
        }
      ]
    },
    {
      "cell_type": "code",
      "source": [
        "a = 7\n",
        "b = 4\n",
        "c = 5\n",
        "\n",
        "if a<b:\n",
        "\tprint(a, 'is less than', b)\n",
        "\tif c<b:\n",
        "\t\tprint(c, 'is less than', b)\n",
        "\telse:\n",
        "\t\tprint(c, 'is not less than', b)\n",
        "else:\n",
        "\tprint(a, 'is not less than', b)"
      ],
      "metadata": {
        "colab": {
          "base_uri": "https://localhost:8080/"
        },
        "id": "V1vgCwVqNFX8",
        "outputId": "3242b123-29df-4b87-aca0-2c1aec6147cd"
      },
      "execution_count": 5,
      "outputs": [
        {
          "output_type": "stream",
          "name": "stdout",
          "text": [
            "7 is not less than 4\n"
          ]
        }
      ]
    },
    {
      "cell_type": "code",
      "source": [
        "i = 20\n",
        "if (i < 15):\n",
        "    print(i,\"is smaller than 15\")\n",
        "    print(\"i'm in if Block\")\n",
        "else:\n",
        "    print(i, \"is greater than 15\")\n",
        "    print(\"i'm in else Block\")\n",
        "print(\"i'm not in if and not in else Block\")"
      ],
      "metadata": {
        "colab": {
          "base_uri": "https://localhost:8080/"
        },
        "id": "rFZjQNwXNd2c",
        "outputId": "19921146-1731-4610-fa5c-9bacf028d604"
      },
      "execution_count": 7,
      "outputs": [
        {
          "output_type": "stream",
          "name": "stdout",
          "text": [
            "20 is greater than 15\n",
            "i'm in else Block\n",
            "i'm not in if and not in else Block\n"
          ]
        }
      ]
    },
    {
      "cell_type": "code",
      "source": [
        "x = 15\n",
        "if x % 2 == 0:\n",
        "  print('even number')\n",
        "elif x % 2 == 1:\n",
        "  print('odd number')\n",
        "else:\n",
        "  print('enter a number')"
      ],
      "metadata": {
        "colab": {
          "base_uri": "https://localhost:8080/"
        },
        "id": "0xmxsZCFPEkd",
        "outputId": "ef275593-44d7-43c7-bbe0-855b022b9a1b"
      },
      "execution_count": 9,
      "outputs": [
        {
          "output_type": "stream",
          "name": "stdout",
          "text": [
            "odd number\n"
          ]
        }
      ]
    },
    {
      "cell_type": "code",
      "source": [
        "x = 9\n",
        "for i in range(2,x):\n",
        "  if i % 2 == 0:\n",
        "          print('not a prime number')\n",
        "  else:\n",
        "         print('prime number')      "
      ],
      "metadata": {
        "colab": {
          "base_uri": "https://localhost:8080/"
        },
        "id": "MZLV-qpQPd1V",
        "outputId": "63dc6c37-b660-4488-97ab-e1b2d2b073ba"
      },
      "execution_count": 14,
      "outputs": [
        {
          "output_type": "stream",
          "name": "stdout",
          "text": [
            "not a prime number\n",
            "prime number\n",
            "not a prime number\n",
            "prime number\n",
            "not a prime number\n",
            "prime number\n",
            "not a prime number\n"
          ]
        }
      ]
    },
    {
      "cell_type": "code",
      "source": [
        "a = 10\n",
        "b = 20\n",
        "if a > b and a > 10 :\n",
        "  print(\"greater\")\n",
        "elif a < b or a < 10:\n",
        "  print(\"smaller\")\n",
        "else:\n",
        "  print(\"not a valid number\")"
      ],
      "metadata": {
        "colab": {
          "base_uri": "https://localhost:8080/"
        },
        "id": "4U2rO7XqQf7k",
        "outputId": "a7ec1b80-24c6-49fd-ac3a-58a45e55b055"
      },
      "execution_count": 15,
      "outputs": [
        {
          "output_type": "stream",
          "name": "stdout",
          "text": [
            "smaller\n"
          ]
        }
      ]
    },
    {
      "cell_type": "code",
      "source": [
        "x = 10\n",
        "if x != 0:\n",
        "   if x % 2 == 0:\n",
        "      print('even number')\n",
        "   else:\n",
        "      print('odd number')\n",
        "elif x == 0:\n",
        "   print('equal to zero')\n",
        "elif x > 0:\n",
        "  for i in range(2,x):\n",
        "     if i % 2 == 0:\n",
        "        print('not a prime number')\n",
        "     else:\n",
        "        print('prime number')\n",
        "else:\n",
        "   print('less than zero')"
      ],
      "metadata": {
        "colab": {
          "base_uri": "https://localhost:8080/"
        },
        "id": "tSYouYGIQkhk",
        "outputId": "c5391c28-a24a-4df4-cd22-7110afab9f1b"
      },
      "execution_count": 16,
      "outputs": [
        {
          "output_type": "stream",
          "name": "stdout",
          "text": [
            "even number\n"
          ]
        }
      ]
    }
  ]
}