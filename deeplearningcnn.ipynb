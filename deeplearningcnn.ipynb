{
  "nbformat": 4,
  "nbformat_minor": 0,
  "metadata": {
    "colab": {
      "name": "deeplearningcnn.ipynb",
      "provenance": [],
      "authorship_tag": "ABX9TyNcXEvJGbPoPEiuPIwzxNwE",
      "include_colab_link": true
    },
    "kernelspec": {
      "name": "python3",
      "display_name": "Python 3"
    },
    "language_info": {
      "name": "python"
    }
  },
  "cells": [
    {
      "cell_type": "markdown",
      "metadata": {
        "id": "view-in-github",
        "colab_type": "text"
      },
      "source": [
        "<a href=\"https://colab.research.google.com/github/urmilapol/urmilapolprojects/blob/master/deeplearningcnn.ipynb\" target=\"_parent\"><img src=\"https://colab.research.google.com/assets/colab-badge.svg\" alt=\"Open In Colab\"/></a>"
      ]
    },
    {
      "cell_type": "code",
      "execution_count": null,
      "metadata": {
        "id": "bIzQ1Sy6AP4m"
      },
      "outputs": [],
      "source": [
        "#Import the necessary libraries\n",
        "import numpy as np\n",
        "import tensorflow as tf\n",
        "from tensorflow.keras.preprocessing.image import ImageDataGenerator\n",
        "\n",
        "#Preprocessing the training set\n",
        "training_generator = ImageDataGenerator(\n",
        "                        rescale = 1/255,\n",
        "                        shear_range = 0.2,\n",
        "                        zoom_range = 0.2,\n",
        "                        horizontal_flip = True)\n",
        "\n",
        "training_set = training_generator.flow_from_directory('training_data',\n",
        "                                                 target_size = (64, 64),\n",
        "                                                 batch_size = 32,\n",
        "                                                 class_mode = 'binary')\n",
        "\n",
        "#Preprocessing the test set\n",
        "test_generator = ImageDataGenerator(rescale = 1./255)\n",
        "test_set = test_generator.flow_from_directory('test_data',\n",
        "                                            target_size = (64, 64),\n",
        "                                            batch_size = 32,\n",
        "                                            class_mode = 'binary')\n",
        "\n",
        "#Building the artificial neural network\n",
        "cnn = tf.keras.models.Sequential()\n",
        "\n",
        "#Adding the convolutional layer\n",
        "cnn.add(tf.keras.layers.Conv2D(filters=32, kernel_size=3, activation='relu', input_shape=[64, 64, 3]))\n",
        "\n",
        "#Adding our max pooling layer\n",
        "cnn.add(tf.keras.layers.MaxPool2D(pool_size=2, strides=2))\n",
        "\n",
        "#Adding another convolutional layer and max pooling layer\n",
        "cnn.add(tf.keras.layers.Conv2D(filters=32, kernel_size=3, activation='relu'))\n",
        "cnn.add(tf.keras.layers.MaxPool2D(pool_size=2, strides=2))\n",
        "\n",
        "#Adding Our flattening Layer\n",
        "cnn.add(tf.keras.layers.Flatten())\n",
        "\n",
        "#Adding our full connection layer\n",
        "cnn.add(tf.keras.layers.Dense(units=128, activation='sigmoid'))\n",
        "\n",
        "#Adding our output layer\n",
        "cnn.add(tf.keras.layers.Dense(units=1, activation='sigmoid'))\n",
        "\n",
        "#Compiling our convolutional neural network\n",
        "cnn.compile(optimizer = 'adam', loss = 'binary_crossentropy', metrics = ['accuracy'])\n",
        "\n",
        "#Training our convolutional neural network\n",
        "cnn.fit(x = training_set, validation_data = test_set, epochs = 25)\n",
        "\n",
        "#Prediction preprocessing\n",
        "from tensorflow.keras.preprocessing import image\n",
        "test_image_1 = image.load_img('predictions/cat_or_dog_1.jpg', target_size = (64, 64))\n",
        "test_image_2 = image.load_img('predictions/cat_or_dog_2.jpg', target_size = (64, 64))\n",
        "\n",
        "test_image_1 = image.img_to_array(test_image_1)\n",
        "test_image_2 = image.img_to_array(test_image_2)\n",
        "\n",
        "test_image_1 = np.expand_dims(test_image_1, axis = 0)\n",
        "test_image_2 = np.expand_dims(test_image_2, axis = 0)\n",
        "\n",
        "#Making predictions on our two isolated images\n",
        "print(cnn.predict(test_image_1))\n",
        "print(cnn.predict(test_image_2))\n",
        "\n",
        "#Determining which number corresponds to each animal\n",
        "training_set.class_indices\n",
        "\n",
        "#Making categorial predictions\n",
        "result_1 = cnn.predict(test_image_1)\n",
        "result_2 = cnn.predict(test_image_2)\n",
        "\n",
        "if (result_1 >= 0.5):\n",
        "    result_1 = 'dog'\n",
        "else:\n",
        "    result_1 = 'cat'\n",
        "    \n",
        "if (result_2 >= 0.5):\n",
        "    result_2 = 'dog'\n",
        "else:\n",
        "    result_2 = 'cat'\n",
        "    \n",
        "print(result_1)\n",
        "print(result_2)"
      ]
    }
  ]
}