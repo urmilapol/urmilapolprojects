{
  "nbformat": 4,
  "nbformat_minor": 0,
  "metadata": {
    "colab": {
      "provenance": [],
      "include_colab_link": true
    },
    "kernelspec": {
      "name": "python3",
      "display_name": "Python 3"
    }
  },
  "cells": [
    {
      "cell_type": "markdown",
      "metadata": {
        "id": "view-in-github",
        "colab_type": "text"
      },
      "source": [
        "<a href=\"https://colab.research.google.com/github/urmilapol/urmilapolprojects/blob/master/Project_3_Diabetes_Prediction.ipynb\" target=\"_parent\"><img src=\"https://colab.research.google.com/assets/colab-badge.svg\" alt=\"Open In Colab\"/></a>"
      ]
    },
    {
      "cell_type": "markdown",
      "source": [
        "https://www.kaggle.com/datasets/uciml/pima-indians-diabetes-database\n"
      ],
      "metadata": {
        "id": "pAX-SFJNpB_H"
      }
    },
    {
      "cell_type": "markdown",
      "metadata": {
        "id": "LnPbntVRnfvV"
      },
      "source": [
        "Importing the Dependencies"
      ]
    },
    {
      "cell_type": "markdown",
      "source": [
        "NumPy (import numpy as np):\n",
        "NumPy is a powerful library for numerical operations in Python.\n",
        "It provides support for large, multi-dimensional arrays and matrices, along with a collection of high-level mathematical functions to operate on these arrays.\n",
        "Pandas (import pandas as pd):\n",
        "\n",
        "Pandas is a data manipulation library that provides data structures like DataFrame, which is particularly useful for working with structured data.\n",
        "It offers tools for reading and writing data, manipulating dataframes, and handling missing data.\n",
        "StandardScaler (from sklearn.preprocessing import StandardScaler):\n",
        "\n",
        "StandardScaler is a preprocessing technique used to standardize the features of a dataset.\n",
        "It removes the mean and scales the data to unit variance, ensuring that the features are on a similar scale.\n",
        "train_test_split (from sklearn.model_selection import train_test_split):\n",
        "\n",
        "train_test_split is a function for splitting a dataset into training and testing sets.\n",
        "It randomly divides the data into subsets, typically used to train a machine learning model on one subset and evaluate its performance on another.\n",
        "Support Vector Machine (SVM) (from sklearn import svm):\n",
        "\n",
        "SVM is a supervised machine learning algorithm used for classification and regression tasks.\n",
        "In this case, it seems SVM is being used for classification.\n",
        "Accuracy Score (from sklearn.metrics import accuracy_score):\n",
        "\n",
        "accuracy_score is a function that calculates the accuracy of a classification model.\n",
        "It compares the predicted labels with the true labels and computes the accuracy as the fraction of correctly classified instances."
      ],
      "metadata": {
        "id": "YWm8B5qppzYa"
      }
    },
    {
      "cell_type": "code",
      "metadata": {
        "id": "-71UtHzNVWjB"
      },
      "source": [
        "import numpy as np\n",
        "import pandas as pd\n",
        "from sklearn.preprocessing import StandardScaler\n",
        "from sklearn.model_selection import train_test_split\n",
        "from sklearn import svm\n",
        "from sklearn.metrics import accuracy_score"
      ],
      "execution_count": 1,
      "outputs": []
    },
    {
      "cell_type": "markdown",
      "metadata": {
        "id": "bmfOfG8joBBy"
      },
      "source": [
        "Data Collection and Analysis\n",
        "\n",
        "PIMA Diabetes Dataset"
      ]
    },
    {
      "cell_type": "code",
      "metadata": {
        "id": "Xpw6Mj_pn_TL"
      },
      "source": [
        "# loading the diabetes dataset to a pandas DataFrame\n",
        "diabetes_dataset = pd.read_csv('/content/sample_data/diabetes.csv')"
      ],
      "execution_count": 2,
      "outputs": []
    },
    {
      "cell_type": "code",
      "metadata": {
        "id": "eupSUC7yoo9M"
      },
      "source": [
        "pd.read_csv?"
      ],
      "execution_count": 3,
      "outputs": []
    },
    {
      "cell_type": "code",
      "metadata": {
        "colab": {
          "base_uri": "https://localhost:8080/",
          "height": 206
        },
        "id": "-tjO09ncovoh",
        "outputId": "bd1bb09f-ec14-49fa-d67e-225dee2298f7"
      },
      "source": [
        "# printing the first 5 rows of the dataset\n",
        "diabetes_dataset.head()"
      ],
      "execution_count": 4,
      "outputs": [
        {
          "output_type": "execute_result",
          "data": {
            "text/plain": [
              "   Pregnancies  Glucose  BloodPressure  SkinThickness  Insulin   BMI  \\\n",
              "0            6      148             72             35        0  33.6   \n",
              "1            1       85             66             29        0  26.6   \n",
              "2            8      183             64              0        0  23.3   \n",
              "3            1       89             66             23       94  28.1   \n",
              "4            0      137             40             35      168  43.1   \n",
              "\n",
              "   DiabetesPedigreeFunction  Age  Outcome  \n",
              "0                     0.627   50        1  \n",
              "1                     0.351   31        0  \n",
              "2                     0.672   32        1  \n",
              "3                     0.167   21        0  \n",
              "4                     2.288   33        1  "
            ],
            "text/html": [
              "\n",
              "  <div id=\"df-cdc769af-3f58-46c9-ad94-4f83d7062564\" class=\"colab-df-container\">\n",
              "    <div>\n",
              "<style scoped>\n",
              "    .dataframe tbody tr th:only-of-type {\n",
              "        vertical-align: middle;\n",
              "    }\n",
              "\n",
              "    .dataframe tbody tr th {\n",
              "        vertical-align: top;\n",
              "    }\n",
              "\n",
              "    .dataframe thead th {\n",
              "        text-align: right;\n",
              "    }\n",
              "</style>\n",
              "<table border=\"1\" class=\"dataframe\">\n",
              "  <thead>\n",
              "    <tr style=\"text-align: right;\">\n",
              "      <th></th>\n",
              "      <th>Pregnancies</th>\n",
              "      <th>Glucose</th>\n",
              "      <th>BloodPressure</th>\n",
              "      <th>SkinThickness</th>\n",
              "      <th>Insulin</th>\n",
              "      <th>BMI</th>\n",
              "      <th>DiabetesPedigreeFunction</th>\n",
              "      <th>Age</th>\n",
              "      <th>Outcome</th>\n",
              "    </tr>\n",
              "  </thead>\n",
              "  <tbody>\n",
              "    <tr>\n",
              "      <th>0</th>\n",
              "      <td>6</td>\n",
              "      <td>148</td>\n",
              "      <td>72</td>\n",
              "      <td>35</td>\n",
              "      <td>0</td>\n",
              "      <td>33.6</td>\n",
              "      <td>0.627</td>\n",
              "      <td>50</td>\n",
              "      <td>1</td>\n",
              "    </tr>\n",
              "    <tr>\n",
              "      <th>1</th>\n",
              "      <td>1</td>\n",
              "      <td>85</td>\n",
              "      <td>66</td>\n",
              "      <td>29</td>\n",
              "      <td>0</td>\n",
              "      <td>26.6</td>\n",
              "      <td>0.351</td>\n",
              "      <td>31</td>\n",
              "      <td>0</td>\n",
              "    </tr>\n",
              "    <tr>\n",
              "      <th>2</th>\n",
              "      <td>8</td>\n",
              "      <td>183</td>\n",
              "      <td>64</td>\n",
              "      <td>0</td>\n",
              "      <td>0</td>\n",
              "      <td>23.3</td>\n",
              "      <td>0.672</td>\n",
              "      <td>32</td>\n",
              "      <td>1</td>\n",
              "    </tr>\n",
              "    <tr>\n",
              "      <th>3</th>\n",
              "      <td>1</td>\n",
              "      <td>89</td>\n",
              "      <td>66</td>\n",
              "      <td>23</td>\n",
              "      <td>94</td>\n",
              "      <td>28.1</td>\n",
              "      <td>0.167</td>\n",
              "      <td>21</td>\n",
              "      <td>0</td>\n",
              "    </tr>\n",
              "    <tr>\n",
              "      <th>4</th>\n",
              "      <td>0</td>\n",
              "      <td>137</td>\n",
              "      <td>40</td>\n",
              "      <td>35</td>\n",
              "      <td>168</td>\n",
              "      <td>43.1</td>\n",
              "      <td>2.288</td>\n",
              "      <td>33</td>\n",
              "      <td>1</td>\n",
              "    </tr>\n",
              "  </tbody>\n",
              "</table>\n",
              "</div>\n",
              "    <div class=\"colab-df-buttons\">\n",
              "\n",
              "  <div class=\"colab-df-container\">\n",
              "    <button class=\"colab-df-convert\" onclick=\"convertToInteractive('df-cdc769af-3f58-46c9-ad94-4f83d7062564')\"\n",
              "            title=\"Convert this dataframe to an interactive table.\"\n",
              "            style=\"display:none;\">\n",
              "\n",
              "  <svg xmlns=\"http://www.w3.org/2000/svg\" height=\"24px\" viewBox=\"0 -960 960 960\">\n",
              "    <path d=\"M120-120v-720h720v720H120Zm60-500h600v-160H180v160Zm220 220h160v-160H400v160Zm0 220h160v-160H400v160ZM180-400h160v-160H180v160Zm440 0h160v-160H620v160ZM180-180h160v-160H180v160Zm440 0h160v-160H620v160Z\"/>\n",
              "  </svg>\n",
              "    </button>\n",
              "\n",
              "  <style>\n",
              "    .colab-df-container {\n",
              "      display:flex;\n",
              "      gap: 12px;\n",
              "    }\n",
              "\n",
              "    .colab-df-convert {\n",
              "      background-color: #E8F0FE;\n",
              "      border: none;\n",
              "      border-radius: 50%;\n",
              "      cursor: pointer;\n",
              "      display: none;\n",
              "      fill: #1967D2;\n",
              "      height: 32px;\n",
              "      padding: 0 0 0 0;\n",
              "      width: 32px;\n",
              "    }\n",
              "\n",
              "    .colab-df-convert:hover {\n",
              "      background-color: #E2EBFA;\n",
              "      box-shadow: 0px 1px 2px rgba(60, 64, 67, 0.3), 0px 1px 3px 1px rgba(60, 64, 67, 0.15);\n",
              "      fill: #174EA6;\n",
              "    }\n",
              "\n",
              "    .colab-df-buttons div {\n",
              "      margin-bottom: 4px;\n",
              "    }\n",
              "\n",
              "    [theme=dark] .colab-df-convert {\n",
              "      background-color: #3B4455;\n",
              "      fill: #D2E3FC;\n",
              "    }\n",
              "\n",
              "    [theme=dark] .colab-df-convert:hover {\n",
              "      background-color: #434B5C;\n",
              "      box-shadow: 0px 1px 3px 1px rgba(0, 0, 0, 0.15);\n",
              "      filter: drop-shadow(0px 1px 2px rgba(0, 0, 0, 0.3));\n",
              "      fill: #FFFFFF;\n",
              "    }\n",
              "  </style>\n",
              "\n",
              "    <script>\n",
              "      const buttonEl =\n",
              "        document.querySelector('#df-cdc769af-3f58-46c9-ad94-4f83d7062564 button.colab-df-convert');\n",
              "      buttonEl.style.display =\n",
              "        google.colab.kernel.accessAllowed ? 'block' : 'none';\n",
              "\n",
              "      async function convertToInteractive(key) {\n",
              "        const element = document.querySelector('#df-cdc769af-3f58-46c9-ad94-4f83d7062564');\n",
              "        const dataTable =\n",
              "          await google.colab.kernel.invokeFunction('convertToInteractive',\n",
              "                                                    [key], {});\n",
              "        if (!dataTable) return;\n",
              "\n",
              "        const docLinkHtml = 'Like what you see? Visit the ' +\n",
              "          '<a target=\"_blank\" href=https://colab.research.google.com/notebooks/data_table.ipynb>data table notebook</a>'\n",
              "          + ' to learn more about interactive tables.';\n",
              "        element.innerHTML = '';\n",
              "        dataTable['output_type'] = 'display_data';\n",
              "        await google.colab.output.renderOutput(dataTable, element);\n",
              "        const docLink = document.createElement('div');\n",
              "        docLink.innerHTML = docLinkHtml;\n",
              "        element.appendChild(docLink);\n",
              "      }\n",
              "    </script>\n",
              "  </div>\n",
              "\n",
              "\n",
              "<div id=\"df-cd853afa-132d-40b6-b729-075fe04a4f9e\">\n",
              "  <button class=\"colab-df-quickchart\" onclick=\"quickchart('df-cd853afa-132d-40b6-b729-075fe04a4f9e')\"\n",
              "            title=\"Suggest charts\"\n",
              "            style=\"display:none;\">\n",
              "\n",
              "<svg xmlns=\"http://www.w3.org/2000/svg\" height=\"24px\"viewBox=\"0 0 24 24\"\n",
              "     width=\"24px\">\n",
              "    <g>\n",
              "        <path d=\"M19 3H5c-1.1 0-2 .9-2 2v14c0 1.1.9 2 2 2h14c1.1 0 2-.9 2-2V5c0-1.1-.9-2-2-2zM9 17H7v-7h2v7zm4 0h-2V7h2v10zm4 0h-2v-4h2v4z\"/>\n",
              "    </g>\n",
              "</svg>\n",
              "  </button>\n",
              "\n",
              "<style>\n",
              "  .colab-df-quickchart {\n",
              "      --bg-color: #E8F0FE;\n",
              "      --fill-color: #1967D2;\n",
              "      --hover-bg-color: #E2EBFA;\n",
              "      --hover-fill-color: #174EA6;\n",
              "      --disabled-fill-color: #AAA;\n",
              "      --disabled-bg-color: #DDD;\n",
              "  }\n",
              "\n",
              "  [theme=dark] .colab-df-quickchart {\n",
              "      --bg-color: #3B4455;\n",
              "      --fill-color: #D2E3FC;\n",
              "      --hover-bg-color: #434B5C;\n",
              "      --hover-fill-color: #FFFFFF;\n",
              "      --disabled-bg-color: #3B4455;\n",
              "      --disabled-fill-color: #666;\n",
              "  }\n",
              "\n",
              "  .colab-df-quickchart {\n",
              "    background-color: var(--bg-color);\n",
              "    border: none;\n",
              "    border-radius: 50%;\n",
              "    cursor: pointer;\n",
              "    display: none;\n",
              "    fill: var(--fill-color);\n",
              "    height: 32px;\n",
              "    padding: 0;\n",
              "    width: 32px;\n",
              "  }\n",
              "\n",
              "  .colab-df-quickchart:hover {\n",
              "    background-color: var(--hover-bg-color);\n",
              "    box-shadow: 0 1px 2px rgba(60, 64, 67, 0.3), 0 1px 3px 1px rgba(60, 64, 67, 0.15);\n",
              "    fill: var(--button-hover-fill-color);\n",
              "  }\n",
              "\n",
              "  .colab-df-quickchart-complete:disabled,\n",
              "  .colab-df-quickchart-complete:disabled:hover {\n",
              "    background-color: var(--disabled-bg-color);\n",
              "    fill: var(--disabled-fill-color);\n",
              "    box-shadow: none;\n",
              "  }\n",
              "\n",
              "  .colab-df-spinner {\n",
              "    border: 2px solid var(--fill-color);\n",
              "    border-color: transparent;\n",
              "    border-bottom-color: var(--fill-color);\n",
              "    animation:\n",
              "      spin 1s steps(1) infinite;\n",
              "  }\n",
              "\n",
              "  @keyframes spin {\n",
              "    0% {\n",
              "      border-color: transparent;\n",
              "      border-bottom-color: var(--fill-color);\n",
              "      border-left-color: var(--fill-color);\n",
              "    }\n",
              "    20% {\n",
              "      border-color: transparent;\n",
              "      border-left-color: var(--fill-color);\n",
              "      border-top-color: var(--fill-color);\n",
              "    }\n",
              "    30% {\n",
              "      border-color: transparent;\n",
              "      border-left-color: var(--fill-color);\n",
              "      border-top-color: var(--fill-color);\n",
              "      border-right-color: var(--fill-color);\n",
              "    }\n",
              "    40% {\n",
              "      border-color: transparent;\n",
              "      border-right-color: var(--fill-color);\n",
              "      border-top-color: var(--fill-color);\n",
              "    }\n",
              "    60% {\n",
              "      border-color: transparent;\n",
              "      border-right-color: var(--fill-color);\n",
              "    }\n",
              "    80% {\n",
              "      border-color: transparent;\n",
              "      border-right-color: var(--fill-color);\n",
              "      border-bottom-color: var(--fill-color);\n",
              "    }\n",
              "    90% {\n",
              "      border-color: transparent;\n",
              "      border-bottom-color: var(--fill-color);\n",
              "    }\n",
              "  }\n",
              "</style>\n",
              "\n",
              "  <script>\n",
              "    async function quickchart(key) {\n",
              "      const quickchartButtonEl =\n",
              "        document.querySelector('#' + key + ' button');\n",
              "      quickchartButtonEl.disabled = true;  // To prevent multiple clicks.\n",
              "      quickchartButtonEl.classList.add('colab-df-spinner');\n",
              "      try {\n",
              "        const charts = await google.colab.kernel.invokeFunction(\n",
              "            'suggestCharts', [key], {});\n",
              "      } catch (error) {\n",
              "        console.error('Error during call to suggestCharts:', error);\n",
              "      }\n",
              "      quickchartButtonEl.classList.remove('colab-df-spinner');\n",
              "      quickchartButtonEl.classList.add('colab-df-quickchart-complete');\n",
              "    }\n",
              "    (() => {\n",
              "      let quickchartButtonEl =\n",
              "        document.querySelector('#df-cd853afa-132d-40b6-b729-075fe04a4f9e button');\n",
              "      quickchartButtonEl.style.display =\n",
              "        google.colab.kernel.accessAllowed ? 'block' : 'none';\n",
              "    })();\n",
              "  </script>\n",
              "</div>\n",
              "\n",
              "    </div>\n",
              "  </div>\n"
            ]
          },
          "metadata": {},
          "execution_count": 4
        }
      ]
    },
    {
      "cell_type": "code",
      "metadata": {
        "colab": {
          "base_uri": "https://localhost:8080/"
        },
        "id": "lynParo6pEMB",
        "outputId": "e5d3390f-dbeb-4108-90bf-e122136a9120"
      },
      "source": [
        "# number of rows and Columns in this dataset\n",
        "diabetes_dataset.shape"
      ],
      "execution_count": 5,
      "outputs": [
        {
          "output_type": "execute_result",
          "data": {
            "text/plain": [
              "(768, 9)"
            ]
          },
          "metadata": {},
          "execution_count": 5
        }
      ]
    },
    {
      "cell_type": "markdown",
      "source": [
        "Count: Number of non-null observations for each column.\n",
        "Mean: Average (mean) value for each column.\n",
        "Std: Standard deviation of values for each column.\n",
        "Min: Minimum value for each column.\n",
        "25%: 25th percentile (first quartile) for each column.\n",
        "50%: 50th percentile (median) for each column.\n",
        "75%: 75th percentile (third quartile) for each column.\n",
        "Max: Maximum value for each column."
      ],
      "metadata": {
        "id": "JMD7EZLyrFeu"
      }
    },
    {
      "cell_type": "code",
      "metadata": {
        "colab": {
          "base_uri": "https://localhost:8080/",
          "height": 300
        },
        "id": "3NDJOlrEpmoL",
        "outputId": "925d7b42-d5f5-4b9c-a939-d4aadba54bc5"
      },
      "source": [
        "# getting the statistical measures of the data\n",
        "diabetes_dataset.describe()"
      ],
      "execution_count": 6,
      "outputs": [
        {
          "output_type": "execute_result",
          "data": {
            "text/plain": [
              "       Pregnancies     Glucose  BloodPressure  SkinThickness     Insulin  \\\n",
              "count   768.000000  768.000000     768.000000     768.000000  768.000000   \n",
              "mean      3.845052  120.894531      69.105469      20.536458   79.799479   \n",
              "std       3.369578   31.972618      19.355807      15.952218  115.244002   \n",
              "min       0.000000    0.000000       0.000000       0.000000    0.000000   \n",
              "25%       1.000000   99.000000      62.000000       0.000000    0.000000   \n",
              "50%       3.000000  117.000000      72.000000      23.000000   30.500000   \n",
              "75%       6.000000  140.250000      80.000000      32.000000  127.250000   \n",
              "max      17.000000  199.000000     122.000000      99.000000  846.000000   \n",
              "\n",
              "              BMI  DiabetesPedigreeFunction         Age     Outcome  \n",
              "count  768.000000                768.000000  768.000000  768.000000  \n",
              "mean    31.992578                  0.471876   33.240885    0.348958  \n",
              "std      7.884160                  0.331329   11.760232    0.476951  \n",
              "min      0.000000                  0.078000   21.000000    0.000000  \n",
              "25%     27.300000                  0.243750   24.000000    0.000000  \n",
              "50%     32.000000                  0.372500   29.000000    0.000000  \n",
              "75%     36.600000                  0.626250   41.000000    1.000000  \n",
              "max     67.100000                  2.420000   81.000000    1.000000  "
            ],
            "text/html": [
              "\n",
              "  <div id=\"df-ca79ad60-4f7a-4248-9a0e-fa1f915e2c33\" class=\"colab-df-container\">\n",
              "    <div>\n",
              "<style scoped>\n",
              "    .dataframe tbody tr th:only-of-type {\n",
              "        vertical-align: middle;\n",
              "    }\n",
              "\n",
              "    .dataframe tbody tr th {\n",
              "        vertical-align: top;\n",
              "    }\n",
              "\n",
              "    .dataframe thead th {\n",
              "        text-align: right;\n",
              "    }\n",
              "</style>\n",
              "<table border=\"1\" class=\"dataframe\">\n",
              "  <thead>\n",
              "    <tr style=\"text-align: right;\">\n",
              "      <th></th>\n",
              "      <th>Pregnancies</th>\n",
              "      <th>Glucose</th>\n",
              "      <th>BloodPressure</th>\n",
              "      <th>SkinThickness</th>\n",
              "      <th>Insulin</th>\n",
              "      <th>BMI</th>\n",
              "      <th>DiabetesPedigreeFunction</th>\n",
              "      <th>Age</th>\n",
              "      <th>Outcome</th>\n",
              "    </tr>\n",
              "  </thead>\n",
              "  <tbody>\n",
              "    <tr>\n",
              "      <th>count</th>\n",
              "      <td>768.000000</td>\n",
              "      <td>768.000000</td>\n",
              "      <td>768.000000</td>\n",
              "      <td>768.000000</td>\n",
              "      <td>768.000000</td>\n",
              "      <td>768.000000</td>\n",
              "      <td>768.000000</td>\n",
              "      <td>768.000000</td>\n",
              "      <td>768.000000</td>\n",
              "    </tr>\n",
              "    <tr>\n",
              "      <th>mean</th>\n",
              "      <td>3.845052</td>\n",
              "      <td>120.894531</td>\n",
              "      <td>69.105469</td>\n",
              "      <td>20.536458</td>\n",
              "      <td>79.799479</td>\n",
              "      <td>31.992578</td>\n",
              "      <td>0.471876</td>\n",
              "      <td>33.240885</td>\n",
              "      <td>0.348958</td>\n",
              "    </tr>\n",
              "    <tr>\n",
              "      <th>std</th>\n",
              "      <td>3.369578</td>\n",
              "      <td>31.972618</td>\n",
              "      <td>19.355807</td>\n",
              "      <td>15.952218</td>\n",
              "      <td>115.244002</td>\n",
              "      <td>7.884160</td>\n",
              "      <td>0.331329</td>\n",
              "      <td>11.760232</td>\n",
              "      <td>0.476951</td>\n",
              "    </tr>\n",
              "    <tr>\n",
              "      <th>min</th>\n",
              "      <td>0.000000</td>\n",
              "      <td>0.000000</td>\n",
              "      <td>0.000000</td>\n",
              "      <td>0.000000</td>\n",
              "      <td>0.000000</td>\n",
              "      <td>0.000000</td>\n",
              "      <td>0.078000</td>\n",
              "      <td>21.000000</td>\n",
              "      <td>0.000000</td>\n",
              "    </tr>\n",
              "    <tr>\n",
              "      <th>25%</th>\n",
              "      <td>1.000000</td>\n",
              "      <td>99.000000</td>\n",
              "      <td>62.000000</td>\n",
              "      <td>0.000000</td>\n",
              "      <td>0.000000</td>\n",
              "      <td>27.300000</td>\n",
              "      <td>0.243750</td>\n",
              "      <td>24.000000</td>\n",
              "      <td>0.000000</td>\n",
              "    </tr>\n",
              "    <tr>\n",
              "      <th>50%</th>\n",
              "      <td>3.000000</td>\n",
              "      <td>117.000000</td>\n",
              "      <td>72.000000</td>\n",
              "      <td>23.000000</td>\n",
              "      <td>30.500000</td>\n",
              "      <td>32.000000</td>\n",
              "      <td>0.372500</td>\n",
              "      <td>29.000000</td>\n",
              "      <td>0.000000</td>\n",
              "    </tr>\n",
              "    <tr>\n",
              "      <th>75%</th>\n",
              "      <td>6.000000</td>\n",
              "      <td>140.250000</td>\n",
              "      <td>80.000000</td>\n",
              "      <td>32.000000</td>\n",
              "      <td>127.250000</td>\n",
              "      <td>36.600000</td>\n",
              "      <td>0.626250</td>\n",
              "      <td>41.000000</td>\n",
              "      <td>1.000000</td>\n",
              "    </tr>\n",
              "    <tr>\n",
              "      <th>max</th>\n",
              "      <td>17.000000</td>\n",
              "      <td>199.000000</td>\n",
              "      <td>122.000000</td>\n",
              "      <td>99.000000</td>\n",
              "      <td>846.000000</td>\n",
              "      <td>67.100000</td>\n",
              "      <td>2.420000</td>\n",
              "      <td>81.000000</td>\n",
              "      <td>1.000000</td>\n",
              "    </tr>\n",
              "  </tbody>\n",
              "</table>\n",
              "</div>\n",
              "    <div class=\"colab-df-buttons\">\n",
              "\n",
              "  <div class=\"colab-df-container\">\n",
              "    <button class=\"colab-df-convert\" onclick=\"convertToInteractive('df-ca79ad60-4f7a-4248-9a0e-fa1f915e2c33')\"\n",
              "            title=\"Convert this dataframe to an interactive table.\"\n",
              "            style=\"display:none;\">\n",
              "\n",
              "  <svg xmlns=\"http://www.w3.org/2000/svg\" height=\"24px\" viewBox=\"0 -960 960 960\">\n",
              "    <path d=\"M120-120v-720h720v720H120Zm60-500h600v-160H180v160Zm220 220h160v-160H400v160Zm0 220h160v-160H400v160ZM180-400h160v-160H180v160Zm440 0h160v-160H620v160ZM180-180h160v-160H180v160Zm440 0h160v-160H620v160Z\"/>\n",
              "  </svg>\n",
              "    </button>\n",
              "\n",
              "  <style>\n",
              "    .colab-df-container {\n",
              "      display:flex;\n",
              "      gap: 12px;\n",
              "    }\n",
              "\n",
              "    .colab-df-convert {\n",
              "      background-color: #E8F0FE;\n",
              "      border: none;\n",
              "      border-radius: 50%;\n",
              "      cursor: pointer;\n",
              "      display: none;\n",
              "      fill: #1967D2;\n",
              "      height: 32px;\n",
              "      padding: 0 0 0 0;\n",
              "      width: 32px;\n",
              "    }\n",
              "\n",
              "    .colab-df-convert:hover {\n",
              "      background-color: #E2EBFA;\n",
              "      box-shadow: 0px 1px 2px rgba(60, 64, 67, 0.3), 0px 1px 3px 1px rgba(60, 64, 67, 0.15);\n",
              "      fill: #174EA6;\n",
              "    }\n",
              "\n",
              "    .colab-df-buttons div {\n",
              "      margin-bottom: 4px;\n",
              "    }\n",
              "\n",
              "    [theme=dark] .colab-df-convert {\n",
              "      background-color: #3B4455;\n",
              "      fill: #D2E3FC;\n",
              "    }\n",
              "\n",
              "    [theme=dark] .colab-df-convert:hover {\n",
              "      background-color: #434B5C;\n",
              "      box-shadow: 0px 1px 3px 1px rgba(0, 0, 0, 0.15);\n",
              "      filter: drop-shadow(0px 1px 2px rgba(0, 0, 0, 0.3));\n",
              "      fill: #FFFFFF;\n",
              "    }\n",
              "  </style>\n",
              "\n",
              "    <script>\n",
              "      const buttonEl =\n",
              "        document.querySelector('#df-ca79ad60-4f7a-4248-9a0e-fa1f915e2c33 button.colab-df-convert');\n",
              "      buttonEl.style.display =\n",
              "        google.colab.kernel.accessAllowed ? 'block' : 'none';\n",
              "\n",
              "      async function convertToInteractive(key) {\n",
              "        const element = document.querySelector('#df-ca79ad60-4f7a-4248-9a0e-fa1f915e2c33');\n",
              "        const dataTable =\n",
              "          await google.colab.kernel.invokeFunction('convertToInteractive',\n",
              "                                                    [key], {});\n",
              "        if (!dataTable) return;\n",
              "\n",
              "        const docLinkHtml = 'Like what you see? Visit the ' +\n",
              "          '<a target=\"_blank\" href=https://colab.research.google.com/notebooks/data_table.ipynb>data table notebook</a>'\n",
              "          + ' to learn more about interactive tables.';\n",
              "        element.innerHTML = '';\n",
              "        dataTable['output_type'] = 'display_data';\n",
              "        await google.colab.output.renderOutput(dataTable, element);\n",
              "        const docLink = document.createElement('div');\n",
              "        docLink.innerHTML = docLinkHtml;\n",
              "        element.appendChild(docLink);\n",
              "      }\n",
              "    </script>\n",
              "  </div>\n",
              "\n",
              "\n",
              "<div id=\"df-0a218624-2bd3-4e51-8353-523d60016b0d\">\n",
              "  <button class=\"colab-df-quickchart\" onclick=\"quickchart('df-0a218624-2bd3-4e51-8353-523d60016b0d')\"\n",
              "            title=\"Suggest charts\"\n",
              "            style=\"display:none;\">\n",
              "\n",
              "<svg xmlns=\"http://www.w3.org/2000/svg\" height=\"24px\"viewBox=\"0 0 24 24\"\n",
              "     width=\"24px\">\n",
              "    <g>\n",
              "        <path d=\"M19 3H5c-1.1 0-2 .9-2 2v14c0 1.1.9 2 2 2h14c1.1 0 2-.9 2-2V5c0-1.1-.9-2-2-2zM9 17H7v-7h2v7zm4 0h-2V7h2v10zm4 0h-2v-4h2v4z\"/>\n",
              "    </g>\n",
              "</svg>\n",
              "  </button>\n",
              "\n",
              "<style>\n",
              "  .colab-df-quickchart {\n",
              "      --bg-color: #E8F0FE;\n",
              "      --fill-color: #1967D2;\n",
              "      --hover-bg-color: #E2EBFA;\n",
              "      --hover-fill-color: #174EA6;\n",
              "      --disabled-fill-color: #AAA;\n",
              "      --disabled-bg-color: #DDD;\n",
              "  }\n",
              "\n",
              "  [theme=dark] .colab-df-quickchart {\n",
              "      --bg-color: #3B4455;\n",
              "      --fill-color: #D2E3FC;\n",
              "      --hover-bg-color: #434B5C;\n",
              "      --hover-fill-color: #FFFFFF;\n",
              "      --disabled-bg-color: #3B4455;\n",
              "      --disabled-fill-color: #666;\n",
              "  }\n",
              "\n",
              "  .colab-df-quickchart {\n",
              "    background-color: var(--bg-color);\n",
              "    border: none;\n",
              "    border-radius: 50%;\n",
              "    cursor: pointer;\n",
              "    display: none;\n",
              "    fill: var(--fill-color);\n",
              "    height: 32px;\n",
              "    padding: 0;\n",
              "    width: 32px;\n",
              "  }\n",
              "\n",
              "  .colab-df-quickchart:hover {\n",
              "    background-color: var(--hover-bg-color);\n",
              "    box-shadow: 0 1px 2px rgba(60, 64, 67, 0.3), 0 1px 3px 1px rgba(60, 64, 67, 0.15);\n",
              "    fill: var(--button-hover-fill-color);\n",
              "  }\n",
              "\n",
              "  .colab-df-quickchart-complete:disabled,\n",
              "  .colab-df-quickchart-complete:disabled:hover {\n",
              "    background-color: var(--disabled-bg-color);\n",
              "    fill: var(--disabled-fill-color);\n",
              "    box-shadow: none;\n",
              "  }\n",
              "\n",
              "  .colab-df-spinner {\n",
              "    border: 2px solid var(--fill-color);\n",
              "    border-color: transparent;\n",
              "    border-bottom-color: var(--fill-color);\n",
              "    animation:\n",
              "      spin 1s steps(1) infinite;\n",
              "  }\n",
              "\n",
              "  @keyframes spin {\n",
              "    0% {\n",
              "      border-color: transparent;\n",
              "      border-bottom-color: var(--fill-color);\n",
              "      border-left-color: var(--fill-color);\n",
              "    }\n",
              "    20% {\n",
              "      border-color: transparent;\n",
              "      border-left-color: var(--fill-color);\n",
              "      border-top-color: var(--fill-color);\n",
              "    }\n",
              "    30% {\n",
              "      border-color: transparent;\n",
              "      border-left-color: var(--fill-color);\n",
              "      border-top-color: var(--fill-color);\n",
              "      border-right-color: var(--fill-color);\n",
              "    }\n",
              "    40% {\n",
              "      border-color: transparent;\n",
              "      border-right-color: var(--fill-color);\n",
              "      border-top-color: var(--fill-color);\n",
              "    }\n",
              "    60% {\n",
              "      border-color: transparent;\n",
              "      border-right-color: var(--fill-color);\n",
              "    }\n",
              "    80% {\n",
              "      border-color: transparent;\n",
              "      border-right-color: var(--fill-color);\n",
              "      border-bottom-color: var(--fill-color);\n",
              "    }\n",
              "    90% {\n",
              "      border-color: transparent;\n",
              "      border-bottom-color: var(--fill-color);\n",
              "    }\n",
              "  }\n",
              "</style>\n",
              "\n",
              "  <script>\n",
              "    async function quickchart(key) {\n",
              "      const quickchartButtonEl =\n",
              "        document.querySelector('#' + key + ' button');\n",
              "      quickchartButtonEl.disabled = true;  // To prevent multiple clicks.\n",
              "      quickchartButtonEl.classList.add('colab-df-spinner');\n",
              "      try {\n",
              "        const charts = await google.colab.kernel.invokeFunction(\n",
              "            'suggestCharts', [key], {});\n",
              "      } catch (error) {\n",
              "        console.error('Error during call to suggestCharts:', error);\n",
              "      }\n",
              "      quickchartButtonEl.classList.remove('colab-df-spinner');\n",
              "      quickchartButtonEl.classList.add('colab-df-quickchart-complete');\n",
              "    }\n",
              "    (() => {\n",
              "      let quickchartButtonEl =\n",
              "        document.querySelector('#df-0a218624-2bd3-4e51-8353-523d60016b0d button');\n",
              "      quickchartButtonEl.style.display =\n",
              "        google.colab.kernel.accessAllowed ? 'block' : 'none';\n",
              "    })();\n",
              "  </script>\n",
              "</div>\n",
              "\n",
              "    </div>\n",
              "  </div>\n"
            ]
          },
          "metadata": {},
          "execution_count": 6
        }
      ]
    },
    {
      "cell_type": "code",
      "metadata": {
        "colab": {
          "base_uri": "https://localhost:8080/"
        },
        "id": "LrpHzaGpp5dQ",
        "outputId": "99b484ae-9708-49eb-f433-0d0cd8d0f0b8"
      },
      "source": [
        "diabetes_dataset['Outcome'].value_counts()"
      ],
      "execution_count": 7,
      "outputs": [
        {
          "output_type": "execute_result",
          "data": {
            "text/plain": [
              "0    500\n",
              "1    268\n",
              "Name: Outcome, dtype: int64"
            ]
          },
          "metadata": {},
          "execution_count": 7
        }
      ]
    },
    {
      "cell_type": "markdown",
      "metadata": {
        "id": "cB1qRaNcqeh5"
      },
      "source": [
        "0 --> Non-Diabetic\n",
        "\n",
        "1 --> Diabetic"
      ]
    },
    {
      "cell_type": "markdown",
      "source": [
        "Here is the mean of each column grouped by 'Outcome':"
      ],
      "metadata": {
        "id": "p5bFiVn1rhyZ"
      }
    },
    {
      "cell_type": "code",
      "metadata": {
        "colab": {
          "base_uri": "https://localhost:8080/",
          "height": 143
        },
        "id": "I6MWR0k_qSCK",
        "outputId": "7c9cb2d1-3cef-4d0d-bf59-e517f3e887a0"
      },
      "source": [
        "diabetes_dataset.groupby('Outcome').mean()"
      ],
      "execution_count": 8,
      "outputs": [
        {
          "output_type": "execute_result",
          "data": {
            "text/plain": [
              "         Pregnancies     Glucose  BloodPressure  SkinThickness     Insulin  \\\n",
              "Outcome                                                                      \n",
              "0           3.298000  109.980000      68.184000      19.664000   68.792000   \n",
              "1           4.865672  141.257463      70.824627      22.164179  100.335821   \n",
              "\n",
              "               BMI  DiabetesPedigreeFunction        Age  \n",
              "Outcome                                                  \n",
              "0        30.304200                  0.429734  31.190000  \n",
              "1        35.142537                  0.550500  37.067164  "
            ],
            "text/html": [
              "\n",
              "  <div id=\"df-78d8e304-ed5f-4164-9557-5347d21df2e6\" class=\"colab-df-container\">\n",
              "    <div>\n",
              "<style scoped>\n",
              "    .dataframe tbody tr th:only-of-type {\n",
              "        vertical-align: middle;\n",
              "    }\n",
              "\n",
              "    .dataframe tbody tr th {\n",
              "        vertical-align: top;\n",
              "    }\n",
              "\n",
              "    .dataframe thead th {\n",
              "        text-align: right;\n",
              "    }\n",
              "</style>\n",
              "<table border=\"1\" class=\"dataframe\">\n",
              "  <thead>\n",
              "    <tr style=\"text-align: right;\">\n",
              "      <th></th>\n",
              "      <th>Pregnancies</th>\n",
              "      <th>Glucose</th>\n",
              "      <th>BloodPressure</th>\n",
              "      <th>SkinThickness</th>\n",
              "      <th>Insulin</th>\n",
              "      <th>BMI</th>\n",
              "      <th>DiabetesPedigreeFunction</th>\n",
              "      <th>Age</th>\n",
              "    </tr>\n",
              "    <tr>\n",
              "      <th>Outcome</th>\n",
              "      <th></th>\n",
              "      <th></th>\n",
              "      <th></th>\n",
              "      <th></th>\n",
              "      <th></th>\n",
              "      <th></th>\n",
              "      <th></th>\n",
              "      <th></th>\n",
              "    </tr>\n",
              "  </thead>\n",
              "  <tbody>\n",
              "    <tr>\n",
              "      <th>0</th>\n",
              "      <td>3.298000</td>\n",
              "      <td>109.980000</td>\n",
              "      <td>68.184000</td>\n",
              "      <td>19.664000</td>\n",
              "      <td>68.792000</td>\n",
              "      <td>30.304200</td>\n",
              "      <td>0.429734</td>\n",
              "      <td>31.190000</td>\n",
              "    </tr>\n",
              "    <tr>\n",
              "      <th>1</th>\n",
              "      <td>4.865672</td>\n",
              "      <td>141.257463</td>\n",
              "      <td>70.824627</td>\n",
              "      <td>22.164179</td>\n",
              "      <td>100.335821</td>\n",
              "      <td>35.142537</td>\n",
              "      <td>0.550500</td>\n",
              "      <td>37.067164</td>\n",
              "    </tr>\n",
              "  </tbody>\n",
              "</table>\n",
              "</div>\n",
              "    <div class=\"colab-df-buttons\">\n",
              "\n",
              "  <div class=\"colab-df-container\">\n",
              "    <button class=\"colab-df-convert\" onclick=\"convertToInteractive('df-78d8e304-ed5f-4164-9557-5347d21df2e6')\"\n",
              "            title=\"Convert this dataframe to an interactive table.\"\n",
              "            style=\"display:none;\">\n",
              "\n",
              "  <svg xmlns=\"http://www.w3.org/2000/svg\" height=\"24px\" viewBox=\"0 -960 960 960\">\n",
              "    <path d=\"M120-120v-720h720v720H120Zm60-500h600v-160H180v160Zm220 220h160v-160H400v160Zm0 220h160v-160H400v160ZM180-400h160v-160H180v160Zm440 0h160v-160H620v160ZM180-180h160v-160H180v160Zm440 0h160v-160H620v160Z\"/>\n",
              "  </svg>\n",
              "    </button>\n",
              "\n",
              "  <style>\n",
              "    .colab-df-container {\n",
              "      display:flex;\n",
              "      gap: 12px;\n",
              "    }\n",
              "\n",
              "    .colab-df-convert {\n",
              "      background-color: #E8F0FE;\n",
              "      border: none;\n",
              "      border-radius: 50%;\n",
              "      cursor: pointer;\n",
              "      display: none;\n",
              "      fill: #1967D2;\n",
              "      height: 32px;\n",
              "      padding: 0 0 0 0;\n",
              "      width: 32px;\n",
              "    }\n",
              "\n",
              "    .colab-df-convert:hover {\n",
              "      background-color: #E2EBFA;\n",
              "      box-shadow: 0px 1px 2px rgba(60, 64, 67, 0.3), 0px 1px 3px 1px rgba(60, 64, 67, 0.15);\n",
              "      fill: #174EA6;\n",
              "    }\n",
              "\n",
              "    .colab-df-buttons div {\n",
              "      margin-bottom: 4px;\n",
              "    }\n",
              "\n",
              "    [theme=dark] .colab-df-convert {\n",
              "      background-color: #3B4455;\n",
              "      fill: #D2E3FC;\n",
              "    }\n",
              "\n",
              "    [theme=dark] .colab-df-convert:hover {\n",
              "      background-color: #434B5C;\n",
              "      box-shadow: 0px 1px 3px 1px rgba(0, 0, 0, 0.15);\n",
              "      filter: drop-shadow(0px 1px 2px rgba(0, 0, 0, 0.3));\n",
              "      fill: #FFFFFF;\n",
              "    }\n",
              "  </style>\n",
              "\n",
              "    <script>\n",
              "      const buttonEl =\n",
              "        document.querySelector('#df-78d8e304-ed5f-4164-9557-5347d21df2e6 button.colab-df-convert');\n",
              "      buttonEl.style.display =\n",
              "        google.colab.kernel.accessAllowed ? 'block' : 'none';\n",
              "\n",
              "      async function convertToInteractive(key) {\n",
              "        const element = document.querySelector('#df-78d8e304-ed5f-4164-9557-5347d21df2e6');\n",
              "        const dataTable =\n",
              "          await google.colab.kernel.invokeFunction('convertToInteractive',\n",
              "                                                    [key], {});\n",
              "        if (!dataTable) return;\n",
              "\n",
              "        const docLinkHtml = 'Like what you see? Visit the ' +\n",
              "          '<a target=\"_blank\" href=https://colab.research.google.com/notebooks/data_table.ipynb>data table notebook</a>'\n",
              "          + ' to learn more about interactive tables.';\n",
              "        element.innerHTML = '';\n",
              "        dataTable['output_type'] = 'display_data';\n",
              "        await google.colab.output.renderOutput(dataTable, element);\n",
              "        const docLink = document.createElement('div');\n",
              "        docLink.innerHTML = docLinkHtml;\n",
              "        element.appendChild(docLink);\n",
              "      }\n",
              "    </script>\n",
              "  </div>\n",
              "\n",
              "\n",
              "<div id=\"df-fdb205c5-97bb-401e-a8c0-8d38de36bcd6\">\n",
              "  <button class=\"colab-df-quickchart\" onclick=\"quickchart('df-fdb205c5-97bb-401e-a8c0-8d38de36bcd6')\"\n",
              "            title=\"Suggest charts\"\n",
              "            style=\"display:none;\">\n",
              "\n",
              "<svg xmlns=\"http://www.w3.org/2000/svg\" height=\"24px\"viewBox=\"0 0 24 24\"\n",
              "     width=\"24px\">\n",
              "    <g>\n",
              "        <path d=\"M19 3H5c-1.1 0-2 .9-2 2v14c0 1.1.9 2 2 2h14c1.1 0 2-.9 2-2V5c0-1.1-.9-2-2-2zM9 17H7v-7h2v7zm4 0h-2V7h2v10zm4 0h-2v-4h2v4z\"/>\n",
              "    </g>\n",
              "</svg>\n",
              "  </button>\n",
              "\n",
              "<style>\n",
              "  .colab-df-quickchart {\n",
              "      --bg-color: #E8F0FE;\n",
              "      --fill-color: #1967D2;\n",
              "      --hover-bg-color: #E2EBFA;\n",
              "      --hover-fill-color: #174EA6;\n",
              "      --disabled-fill-color: #AAA;\n",
              "      --disabled-bg-color: #DDD;\n",
              "  }\n",
              "\n",
              "  [theme=dark] .colab-df-quickchart {\n",
              "      --bg-color: #3B4455;\n",
              "      --fill-color: #D2E3FC;\n",
              "      --hover-bg-color: #434B5C;\n",
              "      --hover-fill-color: #FFFFFF;\n",
              "      --disabled-bg-color: #3B4455;\n",
              "      --disabled-fill-color: #666;\n",
              "  }\n",
              "\n",
              "  .colab-df-quickchart {\n",
              "    background-color: var(--bg-color);\n",
              "    border: none;\n",
              "    border-radius: 50%;\n",
              "    cursor: pointer;\n",
              "    display: none;\n",
              "    fill: var(--fill-color);\n",
              "    height: 32px;\n",
              "    padding: 0;\n",
              "    width: 32px;\n",
              "  }\n",
              "\n",
              "  .colab-df-quickchart:hover {\n",
              "    background-color: var(--hover-bg-color);\n",
              "    box-shadow: 0 1px 2px rgba(60, 64, 67, 0.3), 0 1px 3px 1px rgba(60, 64, 67, 0.15);\n",
              "    fill: var(--button-hover-fill-color);\n",
              "  }\n",
              "\n",
              "  .colab-df-quickchart-complete:disabled,\n",
              "  .colab-df-quickchart-complete:disabled:hover {\n",
              "    background-color: var(--disabled-bg-color);\n",
              "    fill: var(--disabled-fill-color);\n",
              "    box-shadow: none;\n",
              "  }\n",
              "\n",
              "  .colab-df-spinner {\n",
              "    border: 2px solid var(--fill-color);\n",
              "    border-color: transparent;\n",
              "    border-bottom-color: var(--fill-color);\n",
              "    animation:\n",
              "      spin 1s steps(1) infinite;\n",
              "  }\n",
              "\n",
              "  @keyframes spin {\n",
              "    0% {\n",
              "      border-color: transparent;\n",
              "      border-bottom-color: var(--fill-color);\n",
              "      border-left-color: var(--fill-color);\n",
              "    }\n",
              "    20% {\n",
              "      border-color: transparent;\n",
              "      border-left-color: var(--fill-color);\n",
              "      border-top-color: var(--fill-color);\n",
              "    }\n",
              "    30% {\n",
              "      border-color: transparent;\n",
              "      border-left-color: var(--fill-color);\n",
              "      border-top-color: var(--fill-color);\n",
              "      border-right-color: var(--fill-color);\n",
              "    }\n",
              "    40% {\n",
              "      border-color: transparent;\n",
              "      border-right-color: var(--fill-color);\n",
              "      border-top-color: var(--fill-color);\n",
              "    }\n",
              "    60% {\n",
              "      border-color: transparent;\n",
              "      border-right-color: var(--fill-color);\n",
              "    }\n",
              "    80% {\n",
              "      border-color: transparent;\n",
              "      border-right-color: var(--fill-color);\n",
              "      border-bottom-color: var(--fill-color);\n",
              "    }\n",
              "    90% {\n",
              "      border-color: transparent;\n",
              "      border-bottom-color: var(--fill-color);\n",
              "    }\n",
              "  }\n",
              "</style>\n",
              "\n",
              "  <script>\n",
              "    async function quickchart(key) {\n",
              "      const quickchartButtonEl =\n",
              "        document.querySelector('#' + key + ' button');\n",
              "      quickchartButtonEl.disabled = true;  // To prevent multiple clicks.\n",
              "      quickchartButtonEl.classList.add('colab-df-spinner');\n",
              "      try {\n",
              "        const charts = await google.colab.kernel.invokeFunction(\n",
              "            'suggestCharts', [key], {});\n",
              "      } catch (error) {\n",
              "        console.error('Error during call to suggestCharts:', error);\n",
              "      }\n",
              "      quickchartButtonEl.classList.remove('colab-df-spinner');\n",
              "      quickchartButtonEl.classList.add('colab-df-quickchart-complete');\n",
              "    }\n",
              "    (() => {\n",
              "      let quickchartButtonEl =\n",
              "        document.querySelector('#df-fdb205c5-97bb-401e-a8c0-8d38de36bcd6 button');\n",
              "      quickchartButtonEl.style.display =\n",
              "        google.colab.kernel.accessAllowed ? 'block' : 'none';\n",
              "    })();\n",
              "  </script>\n",
              "</div>\n",
              "\n",
              "    </div>\n",
              "  </div>\n"
            ]
          },
          "metadata": {},
          "execution_count": 8
        }
      ]
    },
    {
      "cell_type": "code",
      "metadata": {
        "id": "RoDW7l9mqqHZ"
      },
      "source": [
        "# separating the data and labels\n",
        "X = diabetes_dataset.drop(columns = 'Outcome', axis=1)\n",
        "Y = diabetes_dataset['Outcome']"
      ],
      "execution_count": 9,
      "outputs": []
    },
    {
      "cell_type": "code",
      "metadata": {
        "colab": {
          "base_uri": "https://localhost:8080/"
        },
        "id": "3eiRW9M9raMm",
        "outputId": "af813bdb-a2c0-4700-982a-44cf33664e59"
      },
      "source": [
        "print(X)"
      ],
      "execution_count": 10,
      "outputs": [
        {
          "output_type": "stream",
          "name": "stdout",
          "text": [
            "     Pregnancies  Glucose  BloodPressure  SkinThickness  Insulin   BMI  \\\n",
            "0              6      148             72             35        0  33.6   \n",
            "1              1       85             66             29        0  26.6   \n",
            "2              8      183             64              0        0  23.3   \n",
            "3              1       89             66             23       94  28.1   \n",
            "4              0      137             40             35      168  43.1   \n",
            "..           ...      ...            ...            ...      ...   ...   \n",
            "763           10      101             76             48      180  32.9   \n",
            "764            2      122             70             27        0  36.8   \n",
            "765            5      121             72             23      112  26.2   \n",
            "766            1      126             60              0        0  30.1   \n",
            "767            1       93             70             31        0  30.4   \n",
            "\n",
            "     DiabetesPedigreeFunction  Age  \n",
            "0                       0.627   50  \n",
            "1                       0.351   31  \n",
            "2                       0.672   32  \n",
            "3                       0.167   21  \n",
            "4                       2.288   33  \n",
            "..                        ...  ...  \n",
            "763                     0.171   63  \n",
            "764                     0.340   27  \n",
            "765                     0.245   30  \n",
            "766                     0.349   47  \n",
            "767                     0.315   23  \n",
            "\n",
            "[768 rows x 8 columns]\n"
          ]
        }
      ]
    },
    {
      "cell_type": "code",
      "metadata": {
        "colab": {
          "base_uri": "https://localhost:8080/"
        },
        "id": "AoxgTJAMrcCl",
        "outputId": "451f8317-07f3-4ce1-bd5a-752e35b4e986"
      },
      "source": [
        "print(Y)"
      ],
      "execution_count": 11,
      "outputs": [
        {
          "output_type": "stream",
          "name": "stdout",
          "text": [
            "0      1\n",
            "1      0\n",
            "2      1\n",
            "3      0\n",
            "4      1\n",
            "      ..\n",
            "763    0\n",
            "764    0\n",
            "765    0\n",
            "766    1\n",
            "767    0\n",
            "Name: Outcome, Length: 768, dtype: int64\n"
          ]
        }
      ]
    },
    {
      "cell_type": "markdown",
      "source": [
        "Prepares data for machine learning: The Pima Indians Diabetes dataset contains features like glucose, BMI, and blood pressure, but their scales might differ significantly. This can distort the results of machine learning algorithms that rely on similar scales for each feature.\n",
        "\n",
        "Standardizes feature scales: StandardScaler() addresses this by calculating the mean and standard deviation of each feature in the dataset. It then uses these values to transform each feature, subtracting the mean and dividing by the standard deviation. This results in all features having a mean of 0 and a standard deviation of 1.\n",
        "\n",
        "Improves algorithm performance: By standardizing the features, the algorithm doesn't prioritize features with larger scales simply because their values are numerically higher. This allows the algorithm to focus on the actual patterns and relationships within the data, potentially leading to improved accuracy and generalizability."
      ],
      "metadata": {
        "id": "Q7MZwLeKsuJa"
      }
    },
    {
      "cell_type": "markdown",
      "metadata": {
        "id": "umAbo_kqrlzI"
      },
      "source": [
        "Data Standardization"
      ]
    },
    {
      "cell_type": "markdown",
      "source": [
        "![image.png](data:image/png;base64,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)"
      ],
      "metadata": {
        "id": "hLBJr95hvWKN"
      }
    },
    {
      "cell_type": "markdown",
      "source": [
        "https://www.geeksforgeeks.org/data-pre-processing-wit-sklearn-using-standard-and-minmax-scaler/\n"
      ],
      "metadata": {
        "id": "Iln5Pm5Fv2pi"
      }
    },
    {
      "cell_type": "code",
      "metadata": {
        "id": "njfM5X60rgnc"
      },
      "source": [
        "scaler = StandardScaler()"
      ],
      "execution_count": 12,
      "outputs": []
    },
    {
      "cell_type": "code",
      "metadata": {
        "colab": {
          "base_uri": "https://localhost:8080/",
          "height": 74
        },
        "id": "g0ai5ARbr53p",
        "outputId": "694e95a5-11ac-4283-eba5-286e0f64859b"
      },
      "source": [
        "scaler.fit(X)"
      ],
      "execution_count": 13,
      "outputs": [
        {
          "output_type": "execute_result",
          "data": {
            "text/plain": [
              "StandardScaler()"
            ],
            "text/html": [
              "<style>#sk-container-id-1 {color: black;background-color: white;}#sk-container-id-1 pre{padding: 0;}#sk-container-id-1 div.sk-toggleable {background-color: white;}#sk-container-id-1 label.sk-toggleable__label {cursor: pointer;display: block;width: 100%;margin-bottom: 0;padding: 0.3em;box-sizing: border-box;text-align: center;}#sk-container-id-1 label.sk-toggleable__label-arrow:before {content: \"▸\";float: left;margin-right: 0.25em;color: #696969;}#sk-container-id-1 label.sk-toggleable__label-arrow:hover:before {color: black;}#sk-container-id-1 div.sk-estimator:hover label.sk-toggleable__label-arrow:before {color: black;}#sk-container-id-1 div.sk-toggleable__content {max-height: 0;max-width: 0;overflow: hidden;text-align: left;background-color: #f0f8ff;}#sk-container-id-1 div.sk-toggleable__content pre {margin: 0.2em;color: black;border-radius: 0.25em;background-color: #f0f8ff;}#sk-container-id-1 input.sk-toggleable__control:checked~div.sk-toggleable__content {max-height: 200px;max-width: 100%;overflow: auto;}#sk-container-id-1 input.sk-toggleable__control:checked~label.sk-toggleable__label-arrow:before {content: \"▾\";}#sk-container-id-1 div.sk-estimator input.sk-toggleable__control:checked~label.sk-toggleable__label {background-color: #d4ebff;}#sk-container-id-1 div.sk-label input.sk-toggleable__control:checked~label.sk-toggleable__label {background-color: #d4ebff;}#sk-container-id-1 input.sk-hidden--visually {border: 0;clip: rect(1px 1px 1px 1px);clip: rect(1px, 1px, 1px, 1px);height: 1px;margin: -1px;overflow: hidden;padding: 0;position: absolute;width: 1px;}#sk-container-id-1 div.sk-estimator {font-family: monospace;background-color: #f0f8ff;border: 1px dotted black;border-radius: 0.25em;box-sizing: border-box;margin-bottom: 0.5em;}#sk-container-id-1 div.sk-estimator:hover {background-color: #d4ebff;}#sk-container-id-1 div.sk-parallel-item::after {content: \"\";width: 100%;border-bottom: 1px solid gray;flex-grow: 1;}#sk-container-id-1 div.sk-label:hover label.sk-toggleable__label {background-color: #d4ebff;}#sk-container-id-1 div.sk-serial::before {content: \"\";position: absolute;border-left: 1px solid gray;box-sizing: border-box;top: 0;bottom: 0;left: 50%;z-index: 0;}#sk-container-id-1 div.sk-serial {display: flex;flex-direction: column;align-items: center;background-color: white;padding-right: 0.2em;padding-left: 0.2em;position: relative;}#sk-container-id-1 div.sk-item {position: relative;z-index: 1;}#sk-container-id-1 div.sk-parallel {display: flex;align-items: stretch;justify-content: center;background-color: white;position: relative;}#sk-container-id-1 div.sk-item::before, #sk-container-id-1 div.sk-parallel-item::before {content: \"\";position: absolute;border-left: 1px solid gray;box-sizing: border-box;top: 0;bottom: 0;left: 50%;z-index: -1;}#sk-container-id-1 div.sk-parallel-item {display: flex;flex-direction: column;z-index: 1;position: relative;background-color: white;}#sk-container-id-1 div.sk-parallel-item:first-child::after {align-self: flex-end;width: 50%;}#sk-container-id-1 div.sk-parallel-item:last-child::after {align-self: flex-start;width: 50%;}#sk-container-id-1 div.sk-parallel-item:only-child::after {width: 0;}#sk-container-id-1 div.sk-dashed-wrapped {border: 1px dashed gray;margin: 0 0.4em 0.5em 0.4em;box-sizing: border-box;padding-bottom: 0.4em;background-color: white;}#sk-container-id-1 div.sk-label label {font-family: monospace;font-weight: bold;display: inline-block;line-height: 1.2em;}#sk-container-id-1 div.sk-label-container {text-align: center;}#sk-container-id-1 div.sk-container {/* jupyter's `normalize.less` sets `[hidden] { display: none; }` but bootstrap.min.css set `[hidden] { display: none !important; }` so we also need the `!important` here to be able to override the default hidden behavior on the sphinx rendered scikit-learn.org. See: https://github.com/scikit-learn/scikit-learn/issues/21755 */display: inline-block !important;position: relative;}#sk-container-id-1 div.sk-text-repr-fallback {display: none;}</style><div id=\"sk-container-id-1\" class=\"sk-top-container\"><div class=\"sk-text-repr-fallback\"><pre>StandardScaler()</pre><b>In a Jupyter environment, please rerun this cell to show the HTML representation or trust the notebook. <br />On GitHub, the HTML representation is unable to render, please try loading this page with nbviewer.org.</b></div><div class=\"sk-container\" hidden><div class=\"sk-item\"><div class=\"sk-estimator sk-toggleable\"><input class=\"sk-toggleable__control sk-hidden--visually\" id=\"sk-estimator-id-1\" type=\"checkbox\" checked><label for=\"sk-estimator-id-1\" class=\"sk-toggleable__label sk-toggleable__label-arrow\">StandardScaler</label><div class=\"sk-toggleable__content\"><pre>StandardScaler()</pre></div></div></div></div></div>"
            ]
          },
          "metadata": {},
          "execution_count": 13
        }
      ]
    },
    {
      "cell_type": "code",
      "metadata": {
        "id": "FHxNwPuZr-kD"
      },
      "source": [
        "standardized_data = scaler.transform(X)"
      ],
      "execution_count": 14,
      "outputs": []
    },
    {
      "cell_type": "markdown",
      "source": [
        "They simply create the scaler object and equip it with the necessary information from your data.\n",
        "The actual standardization of the data will happen in a subsequent step, using the transform method of the scaler.\n",
        "Standardization is often crucial for machine learning algorithms because it ensures that features with different scales don't unduly influence the results.\n",
        "By putting features on a similar scale, you allow the algorithm to focus on the true patterns and relationships within the data, leading to more accurate and reliable insights."
      ],
      "metadata": {
        "id": "OqWT-aSNugev"
      }
    },
    {
      "cell_type": "code",
      "metadata": {
        "colab": {
          "base_uri": "https://localhost:8080/"
        },
        "id": "fjMwZ5x6sPUJ",
        "outputId": "326bc5d3-dc97-4ad3-b8b6-3cbd3c643ed0"
      },
      "source": [
        "print(standardized_data)"
      ],
      "execution_count": 15,
      "outputs": [
        {
          "output_type": "stream",
          "name": "stdout",
          "text": [
            "[[ 0.63994726  0.84832379  0.14964075 ...  0.20401277  0.46849198\n",
            "   1.4259954 ]\n",
            " [-0.84488505 -1.12339636 -0.16054575 ... -0.68442195 -0.36506078\n",
            "  -0.19067191]\n",
            " [ 1.23388019  1.94372388 -0.26394125 ... -1.10325546  0.60439732\n",
            "  -0.10558415]\n",
            " ...\n",
            " [ 0.3429808   0.00330087  0.14964075 ... -0.73518964 -0.68519336\n",
            "  -0.27575966]\n",
            " [-0.84488505  0.1597866  -0.47073225 ... -0.24020459 -0.37110101\n",
            "   1.17073215]\n",
            " [-0.84488505 -0.8730192   0.04624525 ... -0.20212881 -0.47378505\n",
            "  -0.87137393]]\n"
          ]
        }
      ]
    },
    {
      "cell_type": "code",
      "metadata": {
        "id": "ZxWSl4SGsRjE"
      },
      "source": [
        "X = standardized_data\n",
        "Y = diabetes_dataset['Outcome']"
      ],
      "execution_count": 16,
      "outputs": []
    },
    {
      "cell_type": "code",
      "metadata": {
        "colab": {
          "base_uri": "https://localhost:8080/"
        },
        "id": "lhJF_7QjsjmP",
        "outputId": "7cddb311-abe9-4e96-f4cd-c6ad0730a62b"
      },
      "source": [
        "print(X)\n",
        "print(Y)"
      ],
      "execution_count": 17,
      "outputs": [
        {
          "output_type": "stream",
          "name": "stdout",
          "text": [
            "[[ 0.63994726  0.84832379  0.14964075 ...  0.20401277  0.46849198\n",
            "   1.4259954 ]\n",
            " [-0.84488505 -1.12339636 -0.16054575 ... -0.68442195 -0.36506078\n",
            "  -0.19067191]\n",
            " [ 1.23388019  1.94372388 -0.26394125 ... -1.10325546  0.60439732\n",
            "  -0.10558415]\n",
            " ...\n",
            " [ 0.3429808   0.00330087  0.14964075 ... -0.73518964 -0.68519336\n",
            "  -0.27575966]\n",
            " [-0.84488505  0.1597866  -0.47073225 ... -0.24020459 -0.37110101\n",
            "   1.17073215]\n",
            " [-0.84488505 -0.8730192   0.04624525 ... -0.20212881 -0.47378505\n",
            "  -0.87137393]]\n",
            "0      1\n",
            "1      0\n",
            "2      1\n",
            "3      0\n",
            "4      1\n",
            "      ..\n",
            "763    0\n",
            "764    0\n",
            "765    0\n",
            "766    1\n",
            "767    0\n",
            "Name: Outcome, Length: 768, dtype: int64\n"
          ]
        }
      ]
    },
    {
      "cell_type": "markdown",
      "metadata": {
        "id": "gHciEFkxsoQP"
      },
      "source": [
        "Train Test Split"
      ]
    },
    {
      "cell_type": "code",
      "metadata": {
        "id": "AEfKGj_yslvD"
      },
      "source": [
        "X_train, X_test, Y_train, Y_test = train_test_split(X,Y, test_size = 0.2, stratify=Y, random_state=2)"
      ],
      "execution_count": 18,
      "outputs": []
    },
    {
      "cell_type": "markdown",
      "source": [
        "X and Y: These are your input features and target labels, respectively. In the case of the Pima Indians Diabetes dataset, X might contain features like glucose, BMI, and blood pressure, while Y would be either 0 (non-diabetic) or 1 (diabetic).\n",
        "test_size = 0.2: This specifies the proportion of data to be allocated to the test set. Here, 20% of the data will be used for testing, and the remaining 80% will be used for training the model.\n",
        "stratify=Y: This ensures that the class distribution (proportion of each target label) in the training and test sets is roughly similar to the original dataset. This is important to avoid biases in the training data that could affect the model's performance on unseen data.\n",
        "random_state=2: This sets the random seed for the shuffling process. Using a fixed seed ensures that the data split is reproducible, meaning you'll get the same training and test sets every time you run this line of code with the same input.\n",
        "The output of this line is:\n",
        "\n",
        "X_train: This contains the training features (80% of the original X data).\n",
        "X_test: This contains the test features (20% of the original X data).\n",
        "Y_train: This contains the training labels (corresponding to the features in X_train).\n",
        "Y_test: This contains the test labels (corresponding to the features in X_test).\n",
        "In essence, this line splits your data into two main groups:\n",
        "\n",
        "Training set (80%): This larger set is used to train the machine learning model. The model learns patterns and relationships within this data to make predictions.\n",
        "Test set (20%): This unseen data is used to evaluate the performance of the trained model on new data. It provides an unbiased assessment of how well the modelgeneralizes to unseen examples.\n",
        "By splitting your data this way, you can avoid overfitting, which occurs when the model simply memorizes the training data and doesn't generalize well to new data."
      ],
      "metadata": {
        "id": "k1FlPo1Xxcuy"
      }
    },
    {
      "cell_type": "code",
      "metadata": {
        "colab": {
          "base_uri": "https://localhost:8080/"
        },
        "id": "DR05T-o0t3FQ",
        "outputId": "f21e3ad2-528a-4564-b433-ad7e8e06a2b9"
      },
      "source": [
        "print(X.shape, X_train.shape, X_test.shape)"
      ],
      "execution_count": 19,
      "outputs": [
        {
          "output_type": "stream",
          "name": "stdout",
          "text": [
            "(768, 8) (614, 8) (154, 8)\n"
          ]
        }
      ]
    },
    {
      "cell_type": "markdown",
      "metadata": {
        "id": "ElJ3tkOtuC_n"
      },
      "source": [
        "Training the Model"
      ]
    },
    {
      "cell_type": "code",
      "source": [],
      "metadata": {
        "id": "RMPm6tarzC7I"
      },
      "execution_count": null,
      "outputs": []
    },
    {
      "cell_type": "markdown",
      "source": [
        "Creates a model object: This line creates an object called classifier that will represent your machine learning model.\n",
        "Uses SVM algorithm: The SVC() part indicates that you're using a Support Vector Machine (SVM), a powerful algorithm often used for classification tasks.\n",
        "svm module: This module, likely from the scikit-learn library, provides tools for building SVM models."
      ],
      "metadata": {
        "id": "WT9U2oWzzD25"
      }
    },
    {
      "cell_type": "markdown",
      "source": [
        "Specifies decision boundary: This part determines the shape of the decision boundary that the SVM will create to separate the data points into classes (diabetic or non-diabetic).\n",
        "Linear decision boundary: The 'linear' kernel means the model will try to find a straight line that best separates the two classes.\n",
        "Simplest approach: This is often a good starting point for SVMs, as it's less prone to overfitting and can be more interpretable."
      ],
      "metadata": {
        "id": "jqm9N1EZzeA9"
      }
    },
    {
      "cell_type": "code",
      "metadata": {
        "id": "5szLWHlNt9xc"
      },
      "source": [
        "classifier = svm.SVC(kernel='linear')"
      ],
      "execution_count": 20,
      "outputs": []
    },
    {
      "cell_type": "markdown",
      "source": [
        "1. classifier: This refers to the machine learning model object you've created, specifically an SVM model in this case.\n",
        "\n",
        "2. .fit(): This method is used to train the model, meaning it teaches the model to identify patterns and relationships in the data that can be used to make predictions.\n",
        "\n",
        "3. X_train: This represents the training features, which are the input data you'll use to train the model. In the Pima Indians Diabetes dataset, it might include features like glucose levels, BMI, age, and blood pressure.\n",
        "\n",
        "4. Y_train: This represents the training labels, which are the known outcomes or classes associated with each data point in the training set. In this dataset, it would indicate whether each patient is diabetic (1) or non-diabetic (0).\n",
        "\n",
        "So, classifier.fit(X_train, Y_train) essentially tells the SVM model to:\n",
        "\n",
        "Analyze the training data: It carefully examines the features in X_train and their corresponding labels in Y_train.\n",
        "Learn patterns: It identifies the relationships between the features and the labels, learning how specific feature combinations tend to correspond with different outcomes (diabetic or non-diabetic).\n",
        "Build a decision boundary: It constructs a rule (in this case, a linear boundary) that can be used to classify new data points into the appropriate categories."
      ],
      "metadata": {
        "id": "uP0_vVQ72-B3"
      }
    },
    {
      "cell_type": "code",
      "metadata": {
        "colab": {
          "base_uri": "https://localhost:8080/",
          "height": 74
        },
        "id": "ncJWY_7suPAb",
        "outputId": "bac8d3a5-1ec4-49c1-f93d-9778930e4cc4"
      },
      "source": [
        "#training the support vector Machine Classifier\n",
        "classifier.fit(X_train, Y_train)"
      ],
      "execution_count": 21,
      "outputs": [
        {
          "output_type": "execute_result",
          "data": {
            "text/plain": [
              "SVC(kernel='linear')"
            ],
            "text/html": [
              "<style>#sk-container-id-2 {color: black;background-color: white;}#sk-container-id-2 pre{padding: 0;}#sk-container-id-2 div.sk-toggleable {background-color: white;}#sk-container-id-2 label.sk-toggleable__label {cursor: pointer;display: block;width: 100%;margin-bottom: 0;padding: 0.3em;box-sizing: border-box;text-align: center;}#sk-container-id-2 label.sk-toggleable__label-arrow:before {content: \"▸\";float: left;margin-right: 0.25em;color: #696969;}#sk-container-id-2 label.sk-toggleable__label-arrow:hover:before {color: black;}#sk-container-id-2 div.sk-estimator:hover label.sk-toggleable__label-arrow:before {color: black;}#sk-container-id-2 div.sk-toggleable__content {max-height: 0;max-width: 0;overflow: hidden;text-align: left;background-color: #f0f8ff;}#sk-container-id-2 div.sk-toggleable__content pre {margin: 0.2em;color: black;border-radius: 0.25em;background-color: #f0f8ff;}#sk-container-id-2 input.sk-toggleable__control:checked~div.sk-toggleable__content {max-height: 200px;max-width: 100%;overflow: auto;}#sk-container-id-2 input.sk-toggleable__control:checked~label.sk-toggleable__label-arrow:before {content: \"▾\";}#sk-container-id-2 div.sk-estimator input.sk-toggleable__control:checked~label.sk-toggleable__label {background-color: #d4ebff;}#sk-container-id-2 div.sk-label input.sk-toggleable__control:checked~label.sk-toggleable__label {background-color: #d4ebff;}#sk-container-id-2 input.sk-hidden--visually {border: 0;clip: rect(1px 1px 1px 1px);clip: rect(1px, 1px, 1px, 1px);height: 1px;margin: -1px;overflow: hidden;padding: 0;position: absolute;width: 1px;}#sk-container-id-2 div.sk-estimator {font-family: monospace;background-color: #f0f8ff;border: 1px dotted black;border-radius: 0.25em;box-sizing: border-box;margin-bottom: 0.5em;}#sk-container-id-2 div.sk-estimator:hover {background-color: #d4ebff;}#sk-container-id-2 div.sk-parallel-item::after {content: \"\";width: 100%;border-bottom: 1px solid gray;flex-grow: 1;}#sk-container-id-2 div.sk-label:hover label.sk-toggleable__label {background-color: #d4ebff;}#sk-container-id-2 div.sk-serial::before {content: \"\";position: absolute;border-left: 1px solid gray;box-sizing: border-box;top: 0;bottom: 0;left: 50%;z-index: 0;}#sk-container-id-2 div.sk-serial {display: flex;flex-direction: column;align-items: center;background-color: white;padding-right: 0.2em;padding-left: 0.2em;position: relative;}#sk-container-id-2 div.sk-item {position: relative;z-index: 1;}#sk-container-id-2 div.sk-parallel {display: flex;align-items: stretch;justify-content: center;background-color: white;position: relative;}#sk-container-id-2 div.sk-item::before, #sk-container-id-2 div.sk-parallel-item::before {content: \"\";position: absolute;border-left: 1px solid gray;box-sizing: border-box;top: 0;bottom: 0;left: 50%;z-index: -1;}#sk-container-id-2 div.sk-parallel-item {display: flex;flex-direction: column;z-index: 1;position: relative;background-color: white;}#sk-container-id-2 div.sk-parallel-item:first-child::after {align-self: flex-end;width: 50%;}#sk-container-id-2 div.sk-parallel-item:last-child::after {align-self: flex-start;width: 50%;}#sk-container-id-2 div.sk-parallel-item:only-child::after {width: 0;}#sk-container-id-2 div.sk-dashed-wrapped {border: 1px dashed gray;margin: 0 0.4em 0.5em 0.4em;box-sizing: border-box;padding-bottom: 0.4em;background-color: white;}#sk-container-id-2 div.sk-label label {font-family: monospace;font-weight: bold;display: inline-block;line-height: 1.2em;}#sk-container-id-2 div.sk-label-container {text-align: center;}#sk-container-id-2 div.sk-container {/* jupyter's `normalize.less` sets `[hidden] { display: none; }` but bootstrap.min.css set `[hidden] { display: none !important; }` so we also need the `!important` here to be able to override the default hidden behavior on the sphinx rendered scikit-learn.org. See: https://github.com/scikit-learn/scikit-learn/issues/21755 */display: inline-block !important;position: relative;}#sk-container-id-2 div.sk-text-repr-fallback {display: none;}</style><div id=\"sk-container-id-2\" class=\"sk-top-container\"><div class=\"sk-text-repr-fallback\"><pre>SVC(kernel=&#x27;linear&#x27;)</pre><b>In a Jupyter environment, please rerun this cell to show the HTML representation or trust the notebook. <br />On GitHub, the HTML representation is unable to render, please try loading this page with nbviewer.org.</b></div><div class=\"sk-container\" hidden><div class=\"sk-item\"><div class=\"sk-estimator sk-toggleable\"><input class=\"sk-toggleable__control sk-hidden--visually\" id=\"sk-estimator-id-2\" type=\"checkbox\" checked><label for=\"sk-estimator-id-2\" class=\"sk-toggleable__label sk-toggleable__label-arrow\">SVC</label><div class=\"sk-toggleable__content\"><pre>SVC(kernel=&#x27;linear&#x27;)</pre></div></div></div></div></div>"
            ]
          },
          "metadata": {},
          "execution_count": 21
        }
      ]
    },
    {
      "cell_type": "markdown",
      "metadata": {
        "id": "UV4-CAfquiyP"
      },
      "source": [
        "Model Evaluation"
      ]
    },
    {
      "cell_type": "markdown",
      "metadata": {
        "id": "yhAjGPJWunXa"
      },
      "source": [
        "Accuracy Score"
      ]
    },
    {
      "cell_type": "markdown",
      "source": [
        "X_train_prediction = classifier.predict(X_train)\n",
        "\n",
        "Making predictions on training data: This line uses the trained SVM model (classifier) to make predictions on the same data it was trained on (X_train).\n",
        "Storing predictions: The model's predictions for each data point in X_train are stored in the variable X_train_prediction.\n",
        "2. training_data_accuracy = accuracy_score(X_train_prediction, Y_train)\n",
        "\n",
        "Evaluating accuracy: This line calculates the accuracy of the model's predictions on the training data.\n",
        "Comparing predictions and true labels: It compares the predicted labels in X_train_prediction to the actual, known labels in Y_train.\n",
        "Accuracy score: The accuracy_score function, from scikit-learn, computes the percentage of correct predictions.\n",
        "Storing accuracy: The calculated accuracy is stored in the variable training_data_accuracy."
      ],
      "metadata": {
        "id": "AGoamDha34M5"
      }
    },
    {
      "cell_type": "code",
      "metadata": {
        "id": "fJLEPQK7ueXp"
      },
      "source": [
        "# accuracy score on the training data\n",
        "X_train_prediction = classifier.predict(X_train)\n",
        "training_data_accuracy = accuracy_score(X_train_prediction, Y_train)"
      ],
      "execution_count": 23,
      "outputs": []
    },
    {
      "cell_type": "code",
      "metadata": {
        "colab": {
          "base_uri": "https://localhost:8080/"
        },
        "id": "mmJ22qhVvNwj",
        "outputId": "15b395e7-38a5-4340-8b00-3d15d3ca8759"
      },
      "source": [
        "print('Accuracy score of the training data : ', training_data_accuracy)"
      ],
      "execution_count": 24,
      "outputs": [
        {
          "output_type": "stream",
          "name": "stdout",
          "text": [
            "Accuracy score of the training data :  0.7866449511400652\n"
          ]
        }
      ]
    },
    {
      "cell_type": "code",
      "metadata": {
        "id": "G2CICFMEvcCl"
      },
      "source": [
        "# accuracy score on the test data\n",
        "X_test_prediction = classifier.predict(X_test)\n",
        "test_data_accuracy = accuracy_score(X_test_prediction, Y_test)"
      ],
      "execution_count": 26,
      "outputs": []
    },
    {
      "cell_type": "code",
      "metadata": {
        "colab": {
          "base_uri": "https://localhost:8080/"
        },
        "id": "i2GcW_t_vz7C",
        "outputId": "af2e6b5f-e016-42b3-f147-c6cd9a035dcd"
      },
      "source": [
        "print('Accuracy score of the test data : ', test_data_accuracy)"
      ],
      "execution_count": 27,
      "outputs": [
        {
          "output_type": "stream",
          "name": "stdout",
          "text": [
            "Accuracy score of the test data :  0.7727272727272727\n"
          ]
        }
      ]
    },
    {
      "cell_type": "markdown",
      "metadata": {
        "id": "gq8ZX1xpwPF5"
      },
      "source": [
        "Making a Predictive System"
      ]
    },
    {
      "cell_type": "code",
      "metadata": {
        "colab": {
          "base_uri": "https://localhost:8080/"
        },
        "id": "U-ULRe4yv5tH",
        "outputId": "ee03b68c-949d-4811-d2d2-a5b794d1884e"
      },
      "source": [
        "input_data = (5,166,72,19,175,25.8,0.587,51)\n",
        "\n",
        "# changing the input_data to numpy array\n",
        "input_data_as_numpy_array = np.asarray(input_data)\n",
        "\n",
        "# reshape the array as we are predicting for one instance\n",
        "input_data_reshaped = input_data_as_numpy_array.reshape(1,-1)\n",
        "\n",
        "# standardize the input data\n",
        "std_data = scaler.transform(input_data_reshaped)\n",
        "print(std_data)\n",
        "\n",
        "prediction = classifier.predict(std_data)\n",
        "print(prediction)\n",
        "\n",
        "if (prediction[0] == 0):\n",
        "  print('The person is not diabetic')\n",
        "else:\n",
        "  print('The person is diabetic')"
      ],
      "execution_count": 28,
      "outputs": [
        {
          "output_type": "stream",
          "name": "stdout",
          "text": [
            "[[ 0.3429808   1.41167241  0.14964075 -0.09637905  0.82661621 -0.78595734\n",
            "   0.34768723  1.51108316]]\n",
            "[1]\n",
            "The person is diabetic\n"
          ]
        },
        {
          "output_type": "stream",
          "name": "stderr",
          "text": [
            "/usr/local/lib/python3.10/dist-packages/sklearn/base.py:439: UserWarning: X does not have valid feature names, but StandardScaler was fitted with feature names\n",
            "  warnings.warn(\n"
          ]
        }
      ]
    },
    {
      "cell_type": "code",
      "metadata": {
        "id": "Ex2A_pr4yCpm"
      },
      "source": [],
      "execution_count": null,
      "outputs": []
    }
  ]
}