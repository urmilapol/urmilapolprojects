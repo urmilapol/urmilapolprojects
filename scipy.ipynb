{
  "nbformat": 4,
  "nbformat_minor": 0,
  "metadata": {
    "colab": {
      "name": "scipy.ipynb",
      "provenance": [],
      "authorship_tag": "ABX9TyPheV3S0M9S+H88WHhdDfZ3",
      "include_colab_link": true
    },
    "kernelspec": {
      "name": "python3",
      "display_name": "Python 3"
    },
    "language_info": {
      "name": "python"
    }
  },
  "cells": [
    {
      "cell_type": "markdown",
      "metadata": {
        "id": "view-in-github",
        "colab_type": "text"
      },
      "source": [
        "<a href=\"https://colab.research.google.com/github/urmilapol/urmilapolprojects/blob/master/scipy.ipynb\" target=\"_parent\"><img src=\"https://colab.research.google.com/assets/colab-badge.svg\" alt=\"Open In Colab\"/></a>"
      ]
    },
    {
      "cell_type": "code",
      "execution_count": 1,
      "metadata": {
        "id": "Q9Vq4tFuTVrm"
      },
      "outputs": [],
      "source": [
        "from scipy import cluster"
      ]
    },
    {
      "cell_type": "code",
      "source": [
        "help(cluster)"
      ],
      "metadata": {
        "colab": {
          "base_uri": "https://localhost:8080/"
        },
        "id": "WX1L4Lw7TdHK",
        "outputId": "b9edc1ce-acc1-409c-ab46-3c07af447d37"
      },
      "execution_count": 2,
      "outputs": [
        {
          "output_type": "stream",
          "name": "stdout",
          "text": [
            "Help on package scipy.cluster in scipy:\n",
            "\n",
            "NAME\n",
            "    scipy.cluster\n",
            "\n",
            "DESCRIPTION\n",
            "    =========================================\n",
            "    Clustering package (:mod:`scipy.cluster`)\n",
            "    =========================================\n",
            "    \n",
            "    .. currentmodule:: scipy.cluster\n",
            "    \n",
            "    :mod:`scipy.cluster.vq`\n",
            "    \n",
            "    Clustering algorithms are useful in information theory, target detection,\n",
            "    communications, compression, and other areas.  The `vq` module only\n",
            "    supports vector quantization and the k-means algorithms.\n",
            "    \n",
            "    :mod:`scipy.cluster.hierarchy`\n",
            "    \n",
            "    The `hierarchy` module provides functions for hierarchical and\n",
            "    agglomerative clustering.  Its features include generating hierarchical\n",
            "    clusters from distance matrices,\n",
            "    calculating statistics on clusters, cutting linkages\n",
            "    to generate flat clusters, and visualizing clusters with dendrograms.\n",
            "\n",
            "PACKAGE CONTENTS\n",
            "    _hierarchy\n",
            "    _optimal_leaf_ordering\n",
            "    _vq\n",
            "    hierarchy\n",
            "    setup\n",
            "    tests (package)\n",
            "    vq\n",
            "\n",
            "DATA\n",
            "    __all__ = ['vq', 'hierarchy']\n",
            "\n",
            "FILE\n",
            "    /usr/local/lib/python3.7/dist-packages/scipy/cluster/__init__.py\n",
            "\n",
            "\n"
          ]
        }
      ]
    },
    {
      "cell_type": "code",
      "source": [
        "help()"
      ],
      "metadata": {
        "colab": {
          "base_uri": "https://localhost:8080/"
        },
        "id": "WgFDk7jMTtQj",
        "outputId": "f576ee48-868f-4622-9f1e-30790cd6c41c"
      },
      "execution_count": 3,
      "outputs": [
        {
          "output_type": "stream",
          "name": "stdout",
          "text": [
            "\n",
            "Welcome to Python 3.7's help utility!\n",
            "\n",
            "If this is your first time using Python, you should definitely check out\n",
            "the tutorial on the Internet at https://docs.python.org/3.7/tutorial/.\n",
            "\n",
            "Enter the name of any module, keyword, or topic to get help on writing\n",
            "Python programs and using Python modules.  To quit this help utility and\n",
            "return to the interpreter, just type \"quit\".\n",
            "\n",
            "To get a list of available modules, keywords, symbols, or topics, type\n",
            "\"modules\", \"keywords\", \"symbols\", or \"topics\".  Each module also comes\n",
            "with a one-line summary of what it does; to list the modules whose name\n",
            "or summary contain a given string such as \"spam\", type \"modules spam\".\n",
            "\n",
            "help> scipy.cluster\n",
            "Help on package scipy.cluster in scipy:\n",
            "\n",
            "NAME\n",
            "    scipy.cluster\n",
            "\n",
            "DESCRIPTION\n",
            "    =========================================\n",
            "    Clustering package (:mod:`scipy.cluster`)\n",
            "    =========================================\n",
            "    \n",
            "    .. currentmodule:: scipy.cluster\n",
            "    \n",
            "    :mod:`scipy.cluster.vq`\n",
            "    \n",
            "    Clustering algorithms are useful in information theory, target detection,\n",
            "    communications, compression, and other areas.  The `vq` module only\n",
            "    supports vector quantization and the k-means algorithms.\n",
            "    \n",
            "    :mod:`scipy.cluster.hierarchy`\n",
            "    \n",
            "    The `hierarchy` module provides functions for hierarchical and\n",
            "    agglomerative clustering.  Its features include generating hierarchical\n",
            "    clusters from distance matrices,\n",
            "    calculating statistics on clusters, cutting linkages\n",
            "    to generate flat clusters, and visualizing clusters with dendrograms.\n",
            "\n",
            "PACKAGE CONTENTS\n",
            "    _hierarchy\n",
            "    _optimal_leaf_ordering\n",
            "    _vq\n",
            "    hierarchy\n",
            "    setup\n",
            "    tests (package)\n",
            "    vq\n",
            "\n",
            "DATA\n",
            "    __all__ = ['vq', 'hierarchy']\n",
            "\n",
            "FILE\n",
            "    /usr/local/lib/python3.7/dist-packages/scipy/cluster/__init__.py\n",
            "\n",
            "\n",
            "help> quit\n",
            "\n",
            "You are now leaving help and returning to the Python interpreter.\n",
            "If you want to ask for help on a particular object directly from the\n",
            "interpreter, you can type \"help(object)\".  Executing \"help('string')\"\n",
            "has the same effect as typing a particular string at the help> prompt.\n"
          ]
        }
      ]
    },
    {
      "cell_type": "code",
      "source": [
        "import scipy\n",
        "scipy.info(cluster)"
      ],
      "metadata": {
        "colab": {
          "base_uri": "https://localhost:8080/"
        },
        "id": "cHJiBFctT-qk",
        "outputId": "42482b97-57c1-4633-c030-ccc662d57d87"
      },
      "execution_count": 4,
      "outputs": [
        {
          "output_type": "stream",
          "name": "stderr",
          "text": [
            "/usr/local/lib/python3.7/dist-packages/ipykernel_launcher.py:2: DeprecationWarning: scipy.info is deprecated and will be removed in SciPy 2.0.0, use numpy.info instead\n",
            "  \n"
          ]
        }
      ]
    },
    {
      "cell_type": "code",
      "source": [
        "scipy.source(cluster)"
      ],
      "metadata": {
        "colab": {
          "base_uri": "https://localhost:8080/"
        },
        "id": "AuSMPMV8UYCa",
        "outputId": "32e1de71-3867-4a58-841d-87446e25399b"
      },
      "execution_count": 5,
      "outputs": [
        {
          "output_type": "stream",
          "name": "stderr",
          "text": [
            "/usr/local/lib/python3.7/dist-packages/ipykernel_launcher.py:1: DeprecationWarning: scipy.source is deprecated and will be removed in SciPy 2.0.0, use numpy.source instead\n",
            "  \"\"\"Entry point for launching an IPython kernel.\n"
          ]
        }
      ]
    },
    {
      "cell_type": "code",
      "source": [
        "from scipy import special\n",
        "a=special.exp10(2)\n",
        "print(a)"
      ],
      "metadata": {
        "colab": {
          "base_uri": "https://localhost:8080/"
        },
        "id": "rrRdkx09VTd2",
        "outputId": "7df8b61e-d7d0-4e1b-8f20-398825647567"
      },
      "execution_count": 7,
      "outputs": [
        {
          "output_type": "stream",
          "name": "stdout",
          "text": [
            "100.0\n"
          ]
        }
      ]
    },
    {
      "cell_type": "code",
      "source": [
        "b=special.exp2(3)\n",
        "print(b)"
      ],
      "metadata": {
        "colab": {
          "base_uri": "https://localhost:8080/"
        },
        "id": "A4mR94_5V1Ki",
        "outputId": "56f5015e-8ff6-40ec-9b07-522e08c659c2"
      },
      "execution_count": 8,
      "outputs": [
        {
          "output_type": "stream",
          "name": "stdout",
          "text": [
            "8.0\n"
          ]
        }
      ]
    },
    {
      "cell_type": "code",
      "source": [
        "c=special.sindg(90)\n",
        "print(c)"
      ],
      "metadata": {
        "colab": {
          "base_uri": "https://localhost:8080/"
        },
        "id": "PXVCgrNLfe4N",
        "outputId": "a16cd54b-195d-4950-d05e-0397bbad3481"
      },
      "execution_count": 9,
      "outputs": [
        {
          "output_type": "stream",
          "name": "stdout",
          "text": [
            "1.0\n"
          ]
        }
      ]
    },
    {
      "cell_type": "code",
      "source": [
        "c=special.cosdg(90)\n",
        "print(c)"
      ],
      "metadata": {
        "colab": {
          "base_uri": "https://localhost:8080/"
        },
        "id": "0YsA5j4zfszZ",
        "outputId": "415047d6-19b1-427d-dd56-16c9e56c4f80"
      },
      "execution_count": 10,
      "outputs": [
        {
          "output_type": "stream",
          "name": "stdout",
          "text": [
            "-0.0\n"
          ]
        }
      ]
    },
    {
      "cell_type": "code",
      "source": [
        "from scipy import integrate\n",
        "help(integrate.quad)"
      ],
      "metadata": {
        "colab": {
          "base_uri": "https://localhost:8080/"
        },
        "id": "1ZINXIW6gCWt",
        "outputId": "edbd119d-d29b-4765-ac49-7a722b420498"
      },
      "execution_count": 11,
      "outputs": [
        {
          "output_type": "stream",
          "name": "stdout",
          "text": [
            "Help on function quad in module scipy.integrate.quadpack:\n",
            "\n",
            "quad(func, a, b, args=(), full_output=0, epsabs=1.49e-08, epsrel=1.49e-08, limit=50, points=None, weight=None, wvar=None, wopts=None, maxp1=50, limlst=50)\n",
            "    Compute a definite integral.\n",
            "    \n",
            "    Integrate func from `a` to `b` (possibly infinite interval) using a\n",
            "    technique from the Fortran library QUADPACK.\n",
            "    \n",
            "    Parameters\n",
            "    ----------\n",
            "    func : {function, scipy.LowLevelCallable}\n",
            "        A Python function or method to integrate.  If `func` takes many\n",
            "        arguments, it is integrated along the axis corresponding to the\n",
            "        first argument.\n",
            "    \n",
            "        If the user desires improved integration performance, then `f` may\n",
            "        be a `scipy.LowLevelCallable` with one of the signatures::\n",
            "    \n",
            "            double func(double x)\n",
            "            double func(double x, void *user_data)\n",
            "            double func(int n, double *xx)\n",
            "            double func(int n, double *xx, void *user_data)\n",
            "    \n",
            "        The ``user_data`` is the data contained in the `scipy.LowLevelCallable`.\n",
            "        In the call forms with ``xx``,  ``n`` is the length of the ``xx``\n",
            "        array which contains ``xx[0] == x`` and the rest of the items are\n",
            "        numbers contained in the ``args`` argument of quad.\n",
            "    \n",
            "        In addition, certain ctypes call signatures are supported for\n",
            "        backward compatibility, but those should not be used in new code.\n",
            "    a : float\n",
            "        Lower limit of integration (use -numpy.inf for -infinity).\n",
            "    b : float\n",
            "        Upper limit of integration (use numpy.inf for +infinity).\n",
            "    args : tuple, optional\n",
            "        Extra arguments to pass to `func`.\n",
            "    full_output : int, optional\n",
            "        Non-zero to return a dictionary of integration information.\n",
            "        If non-zero, warning messages are also suppressed and the\n",
            "        message is appended to the output tuple.\n",
            "    \n",
            "    Returns\n",
            "    -------\n",
            "    y : float\n",
            "        The integral of func from `a` to `b`.\n",
            "    abserr : float\n",
            "        An estimate of the absolute error in the result.\n",
            "    infodict : dict\n",
            "        A dictionary containing additional information.\n",
            "        Run scipy.integrate.quad_explain() for more information.\n",
            "    message\n",
            "        A convergence message.\n",
            "    explain\n",
            "        Appended only with 'cos' or 'sin' weighting and infinite\n",
            "        integration limits, it contains an explanation of the codes in\n",
            "        infodict['ierlst']\n",
            "    \n",
            "    Other Parameters\n",
            "    ----------------\n",
            "    epsabs : float or int, optional\n",
            "        Absolute error tolerance.\n",
            "    epsrel : float or int, optional\n",
            "        Relative error tolerance.\n",
            "    limit : float or int, optional\n",
            "        An upper bound on the number of subintervals used in the adaptive\n",
            "        algorithm.\n",
            "    points : (sequence of floats,ints), optional\n",
            "        A sequence of break points in the bounded integration interval\n",
            "        where local difficulties of the integrand may occur (e.g.,\n",
            "        singularities, discontinuities). The sequence does not have\n",
            "        to be sorted. Note that this option cannot be used in conjunction\n",
            "        with ``weight``.\n",
            "    weight : float or int, optional\n",
            "        String indicating weighting function. Full explanation for this\n",
            "        and the remaining arguments can be found below.\n",
            "    wvar : optional\n",
            "        Variables for use with weighting functions.\n",
            "    wopts : optional\n",
            "        Optional input for reusing Chebyshev moments.\n",
            "    maxp1 : float or int, optional\n",
            "        An upper bound on the number of Chebyshev moments.\n",
            "    limlst : int, optional\n",
            "        Upper bound on the number of cycles (>=3) for use with a sinusoidal\n",
            "        weighting and an infinite end-point.\n",
            "    \n",
            "    See Also\n",
            "    --------\n",
            "    dblquad : double integral\n",
            "    tplquad : triple integral\n",
            "    nquad : n-dimensional integrals (uses `quad` recursively)\n",
            "    fixed_quad : fixed-order Gaussian quadrature\n",
            "    quadrature : adaptive Gaussian quadrature\n",
            "    odeint : ODE integrator\n",
            "    ode : ODE integrator\n",
            "    simps : integrator for sampled data\n",
            "    romb : integrator for sampled data\n",
            "    scipy.special : for coefficients and roots of orthogonal polynomials\n",
            "    \n",
            "    Notes\n",
            "    -----\n",
            "    \n",
            "    **Extra information for quad() inputs and outputs**\n",
            "    \n",
            "    If full_output is non-zero, then the third output argument\n",
            "    (infodict) is a dictionary with entries as tabulated below.  For\n",
            "    infinite limits, the range is transformed to (0,1) and the\n",
            "    optional outputs are given with respect to this transformed range.\n",
            "    Let M be the input argument limit and let K be infodict['last'].\n",
            "    The entries are:\n",
            "    \n",
            "    'neval'\n",
            "        The number of function evaluations.\n",
            "    'last'\n",
            "        The number, K, of subintervals produced in the subdivision process.\n",
            "    'alist'\n",
            "        A rank-1 array of length M, the first K elements of which are the\n",
            "        left end points of the subintervals in the partition of the\n",
            "        integration range.\n",
            "    'blist'\n",
            "        A rank-1 array of length M, the first K elements of which are the\n",
            "        right end points of the subintervals.\n",
            "    'rlist'\n",
            "        A rank-1 array of length M, the first K elements of which are the\n",
            "        integral approximations on the subintervals.\n",
            "    'elist'\n",
            "        A rank-1 array of length M, the first K elements of which are the\n",
            "        moduli of the absolute error estimates on the subintervals.\n",
            "    'iord'\n",
            "        A rank-1 integer array of length M, the first L elements of\n",
            "        which are pointers to the error estimates over the subintervals\n",
            "        with ``L=K`` if ``K<=M/2+2`` or ``L=M+1-K`` otherwise. Let I be the\n",
            "        sequence ``infodict['iord']`` and let E be the sequence\n",
            "        ``infodict['elist']``.  Then ``E[I[1]], ..., E[I[L]]`` forms a\n",
            "        decreasing sequence.\n",
            "    \n",
            "    If the input argument points is provided (i.e. it is not None),\n",
            "    the following additional outputs are placed in the output\n",
            "    dictionary.  Assume the points sequence is of length P.\n",
            "    \n",
            "    'pts'\n",
            "        A rank-1 array of length P+2 containing the integration limits\n",
            "        and the break points of the intervals in ascending order.\n",
            "        This is an array giving the subintervals over which integration\n",
            "        will occur.\n",
            "    'level'\n",
            "        A rank-1 integer array of length M (=limit), containing the\n",
            "        subdivision levels of the subintervals, i.e., if (aa,bb) is a\n",
            "        subinterval of ``(pts[1], pts[2])`` where ``pts[0]`` and ``pts[2]``\n",
            "        are adjacent elements of ``infodict['pts']``, then (aa,bb) has level l\n",
            "        if ``|bb-aa| = |pts[2]-pts[1]| * 2**(-l)``.\n",
            "    'ndin'\n",
            "        A rank-1 integer array of length P+2.  After the first integration\n",
            "        over the intervals (pts[1], pts[2]), the error estimates over some\n",
            "        of the intervals may have been increased artificially in order to\n",
            "        put their subdivision forward.  This array has ones in slots\n",
            "        corresponding to the subintervals for which this happens.\n",
            "    \n",
            "    **Weighting the integrand**\n",
            "    \n",
            "    The input variables, *weight* and *wvar*, are used to weight the\n",
            "    integrand by a select list of functions.  Different integration\n",
            "    methods are used to compute the integral with these weighting\n",
            "    functions, and these do not support specifying break points. The\n",
            "    possible values of weight and the corresponding weighting functions are.\n",
            "    \n",
            "    ==========  ===================================   =====================\n",
            "    ``weight``  Weight function used                  ``wvar``\n",
            "    ==========  ===================================   =====================\n",
            "    'cos'       cos(w*x)                              wvar = w\n",
            "    'sin'       sin(w*x)                              wvar = w\n",
            "    'alg'       g(x) = ((x-a)**alpha)*((b-x)**beta)   wvar = (alpha, beta)\n",
            "    'alg-loga'  g(x)*log(x-a)                         wvar = (alpha, beta)\n",
            "    'alg-logb'  g(x)*log(b-x)                         wvar = (alpha, beta)\n",
            "    'alg-log'   g(x)*log(x-a)*log(b-x)                wvar = (alpha, beta)\n",
            "    'cauchy'    1/(x-c)                               wvar = c\n",
            "    ==========  ===================================   =====================\n",
            "    \n",
            "    wvar holds the parameter w, (alpha, beta), or c depending on the weight\n",
            "    selected.  In these expressions, a and b are the integration limits.\n",
            "    \n",
            "    For the 'cos' and 'sin' weighting, additional inputs and outputs are\n",
            "    available.\n",
            "    \n",
            "    For finite integration limits, the integration is performed using a\n",
            "    Clenshaw-Curtis method which uses Chebyshev moments.  For repeated\n",
            "    calculations, these moments are saved in the output dictionary:\n",
            "    \n",
            "    'momcom'\n",
            "        The maximum level of Chebyshev moments that have been computed,\n",
            "        i.e., if ``M_c`` is ``infodict['momcom']`` then the moments have been\n",
            "        computed for intervals of length ``|b-a| * 2**(-l)``,\n",
            "        ``l=0,1,...,M_c``.\n",
            "    'nnlog'\n",
            "        A rank-1 integer array of length M(=limit), containing the\n",
            "        subdivision levels of the subintervals, i.e., an element of this\n",
            "        array is equal to l if the corresponding subinterval is\n",
            "        ``|b-a|* 2**(-l)``.\n",
            "    'chebmo'\n",
            "        A rank-2 array of shape (25, maxp1) containing the computed\n",
            "        Chebyshev moments.  These can be passed on to an integration\n",
            "        over the same interval by passing this array as the second\n",
            "        element of the sequence wopts and passing infodict['momcom'] as\n",
            "        the first element.\n",
            "    \n",
            "    If one of the integration limits is infinite, then a Fourier integral is\n",
            "    computed (assuming w neq 0).  If full_output is 1 and a numerical error\n",
            "    is encountered, besides the error message attached to the output tuple,\n",
            "    a dictionary is also appended to the output tuple which translates the\n",
            "    error codes in the array ``info['ierlst']`` to English messages.  The\n",
            "    output information dictionary contains the following entries instead of\n",
            "    'last', 'alist', 'blist', 'rlist', and 'elist':\n",
            "    \n",
            "    'lst'\n",
            "        The number of subintervals needed for the integration (call it ``K_f``).\n",
            "    'rslst'\n",
            "        A rank-1 array of length M_f=limlst, whose first ``K_f`` elements\n",
            "        contain the integral contribution over the interval\n",
            "        ``(a+(k-1)c, a+kc)`` where ``c = (2*floor(|w|) + 1) * pi / |w|``\n",
            "        and ``k=1,2,...,K_f``.\n",
            "    'erlst'\n",
            "        A rank-1 array of length ``M_f`` containing the error estimate\n",
            "        corresponding to the interval in the same position in\n",
            "        ``infodict['rslist']``.\n",
            "    'ierlst'\n",
            "        A rank-1 integer array of length ``M_f`` containing an error flag\n",
            "        corresponding to the interval in the same position in\n",
            "        ``infodict['rslist']``.  See the explanation dictionary (last entry\n",
            "        in the output tuple) for the meaning of the codes.\n",
            "    \n",
            "    Examples\n",
            "    --------\n",
            "    Calculate :math:`\\int^4_0 x^2 dx` and compare with an analytic result\n",
            "    \n",
            "    >>> from scipy import integrate\n",
            "    >>> x2 = lambda x: x**2\n",
            "    >>> integrate.quad(x2, 0, 4)\n",
            "    (21.333333333333332, 2.3684757858670003e-13)\n",
            "    >>> print(4**3 / 3.)  # analytical result\n",
            "    21.3333333333\n",
            "    \n",
            "    Calculate :math:`\\int^\\infty_0 e^{-x} dx`\n",
            "    \n",
            "    >>> invexp = lambda x: np.exp(-x)\n",
            "    >>> integrate.quad(invexp, 0, np.inf)\n",
            "    (1.0, 5.842605999138044e-11)\n",
            "    \n",
            "    >>> f = lambda x,a : a*x\n",
            "    >>> y, err = integrate.quad(f, 0, 1, args=(1,))\n",
            "    >>> y\n",
            "    0.5\n",
            "    >>> y, err = integrate.quad(f, 0, 1, args=(3,))\n",
            "    >>> y\n",
            "    1.5\n",
            "    \n",
            "    Calculate :math:`\\int^1_0 x^2 + y^2 dx` with ctypes, holding\n",
            "    y parameter as 1::\n",
            "    \n",
            "        testlib.c =>\n",
            "            double func(int n, double args[n]){\n",
            "                return args[0]*args[0] + args[1]*args[1];}\n",
            "        compile to library testlib.*\n",
            "    \n",
            "    ::\n",
            "    \n",
            "       from scipy import integrate\n",
            "       import ctypes\n",
            "       lib = ctypes.CDLL('/home/.../testlib.*') #use absolute path\n",
            "       lib.func.restype = ctypes.c_double\n",
            "       lib.func.argtypes = (ctypes.c_int,ctypes.c_double)\n",
            "       integrate.quad(lib.func,0,1,(1))\n",
            "       #(1.3333333333333333, 1.4802973661668752e-14)\n",
            "       print((1.0**3/3.0 + 1.0) - (0.0**3/3.0 + 0.0)) #Analytic result\n",
            "       # 1.3333333333333333\n",
            "    \n",
            "    Be aware that pulse shapes and other sharp features as compared to the\n",
            "    size of the integration interval may not be integrated correctly using\n",
            "    this method. A simplified example of this limitation is integrating a\n",
            "    y-axis reflected step function with many zero values within the integrals\n",
            "    bounds.\n",
            "    \n",
            "    >>> y = lambda x: 1 if x<=0 else 0\n",
            "    >>> integrate.quad(y, -1, 1)\n",
            "    (1.0, 1.1102230246251565e-14)\n",
            "    >>> integrate.quad(y, -1, 100)\n",
            "    (1.0000000002199108, 1.0189464580163188e-08)\n",
            "    >>> integrate.quad(y, -1, 10000)\n",
            "    (0.0, 0.0)\n",
            "\n"
          ]
        }
      ]
    },
    {
      "cell_type": "code",
      "source": [
        "i=scipy.integrate.quad(lambda x:special.exp10(x),0,1)\n",
        "print(i)"
      ],
      "metadata": {
        "colab": {
          "base_uri": "https://localhost:8080/"
        },
        "id": "GL-sIQPRgkEB",
        "outputId": "7500b039-6101-4fba-fc95-4db82c59d8fa"
      },
      "execution_count": 12,
      "outputs": [
        {
          "output_type": "stream",
          "name": "stdout",
          "text": [
            "(3.9086503371292665, 4.3394735994897923e-14)\n"
          ]
        }
      ]
    },
    {
      "cell_type": "code",
      "source": [
        "import matplotlib.pyplot as plt\n",
        "import numpy as np\n",
        "from scipy import interpolate\n",
        "x=np.arange(5,20)\n",
        "y=np.exp(x/3.0)\n",
        "f=interpolate.interp1d(x,y)\n",
        "x1=np.arange(6,12)\n",
        "y1=f(x1)\n",
        "plt.plot(x,y,'o', y1,'--')\n",
        "plt.show"
      ],
      "metadata": {
        "colab": {
          "base_uri": "https://localhost:8080/",
          "height": 282
        },
        "id": "pHbIAgrawGS-",
        "outputId": "e90018bd-ae77-4cb4-fbcc-ddf84d2f84c6"
      },
      "execution_count": 41,
      "outputs": [
        {
          "output_type": "execute_result",
          "data": {
            "text/plain": [
              "<function matplotlib.pyplot.show>"
            ]
          },
          "metadata": {},
          "execution_count": 41
        },
        {
          "output_type": "display_data",
          "data": {
            "image/png": "[encoded data removed]",
            "text/plain": [
              "<Figure size 432x288 with 1 Axes>"
            ]
          },
          "metadata": {
            "needs_background": "light"
          }
        }
      ]
    }
  ]
}