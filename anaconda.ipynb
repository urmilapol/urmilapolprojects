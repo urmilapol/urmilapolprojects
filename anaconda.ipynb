{
  "nbformat": 4,
  "nbformat_minor": 0,
  "metadata": {
    "colab": {
      "name": "anaconda.ipynb",
      "provenance": [],
      "authorship_tag": "ABX9TyNs4VtfMGSHTHU3JtgxaxXi",
      "include_colab_link": true
    },
    "kernelspec": {
      "name": "python3",
      "display_name": "Python 3"
    },
    "language_info": {
      "name": "python"
    }
  },
  "cells": [
    {
      "cell_type": "markdown",
      "metadata": {
        "id": "view-in-github",
        "colab_type": "text"
      },
      "source": [
        "<a href=\"https://colab.research.google.com/github/urmilapol/urmilapolprojects/blob/master/anaconda.ipynb\" target=\"_parent\"><img src=\"https://colab.research.google.com/assets/colab-badge.svg\" alt=\"Open In Colab\"/></a>"
      ]
    },
    {
      "cell_type": "code",
      "execution_count": null,
      "metadata": {
        "id": "FFMGQ3ugwkZT"
      },
      "outputs": [],
      "source": [
        "https://docs.anaconda.com/anaconda/install/windows/\n",
        "https://www.anaconda.com/\n",
        "https://www.geeksforgeeks.org/how-to-install-anaconda-on-windows/\n",
        "https://www.geeksforgeeks.org/how-to-install-jupyter-notebook-in-windows/?ref=lbp"
      ]
    }
  ]
}