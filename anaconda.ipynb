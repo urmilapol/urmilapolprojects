{
  "nbformat": 4,
  "nbformat_minor": 0,
  "metadata": {
    "colab": {
      "name": "anaconda.ipynb",
      "provenance": [],
      "authorship_tag": "ABX9TyOgdI7XC0sSnE5j6H+5os32",
      "include_colab_link": true
    },
    "kernelspec": {
      "name": "python3",
      "display_name": "Python 3"
    },
    "language_info": {
      "name": "python"
    }
  },
  "cells": [
    {
      "cell_type": "markdown",
      "metadata": {
        "id": "view-in-github",
        "colab_type": "text"
      },
      "source": [
        "<a href=\"https://colab.research.google.com/github/urmilapol/urmilapolprojects/blob/master/anaconda.ipynb\" target=\"_parent\"><img src=\"https://colab.research.google.com/assets/colab-badge.svg\" alt=\"Open In Colab\"/></a>"
      ]
    },
    {
      "cell_type": "code",
      "execution_count": null,
      "metadata": {
        "id": "FFMGQ3ugwkZT"
      },
      "outputs": [],
      "source": [
        "https://docs.anaconda.com/anaconda/install/windows/\n",
        "https://www.anaconda.com/\n",
        "https://www.geeksforgeeks.org/how-to-install-anaconda-on-windows/\n",
        "https://www.geeksforgeeks.org/how-to-install-jupyter-notebook-in-windows/?ref=lbp\n",
        "https://www.simplilearn.com/top-python-libraries-for-data-science-article\n",
        "https://www.simplilearn.com/tutorials/python-tutorial/python-pandas\n",
        "https://www.simplilearn.com/tutorials/python-tutorial/numpy-tutorial\n",
        "https://www.simplilearn.com/data-analysis-methods-process-types-article\n",
        "https://www.simplilearn.com/data-visualization-article\n",
        "https://www.simplilearn.com/tutorials/data-structure-tutorial/arrays-in-data-structure?source=sl_frs_eng_user_clicks_on_watch_tutorial\n",
        "https://www.simplilearn.com/data-wrangling-article\n",
        "https://www.simplilearn.com/data-cleaning-why-and-how-to-get-started-article\n",
        "https://www.simplilearn.com/tutorials/python-tutorial/matplotlib\n",
        "https://www.simplilearn.com/keras-vs-tensorflow-vs-pytorch-article\n",
        "https://www.simplilearn.com/tutorials/deep-learning-tutorial/deep-learning-algorithm\n",
        "https://www.simplilearn.com/tutorials/python-tutorial/scikit-learn\n",
        "https://www.simplilearn.com/10-algorithms-machine-learning-engineers-need-to-know-article\n",
        "https://www.simplilearn.com/tutorials/python-tutorial/web-scraping-with-python"
      ]
    }
  ]
}