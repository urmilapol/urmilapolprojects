{
  "nbformat": 4,
  "nbformat_minor": 0,
  "metadata": {
    "colab": {
      "name": "anaconda.ipynb",
      "provenance": [],
      "authorship_tag": "ABX9TyNozO/AWfu5g83wQW8GGH4t",
      "include_colab_link": true
    },
    "kernelspec": {
      "name": "python3",
      "display_name": "Python 3"
    },
    "language_info": {
      "name": "python"
    }
  },
  "cells": [
    {
      "cell_type": "markdown",
      "metadata": {
        "id": "view-in-github",
        "colab_type": "text"
      },
      "source": [
        "<a href=\"https://colab.research.google.com/github/urmilapol/urmilapolprojects/blob/master/anaconda.ipynb\" target=\"_parent\"><img src=\"https://colab.research.google.com/assets/colab-badge.svg\" alt=\"Open In Colab\"/></a>"
      ]
    },
    {
      "cell_type": "code",
      "execution_count": null,
      "metadata": {
        "id": "FFMGQ3ugwkZT"
      },
      "outputs": [],
      "source": [
        "https://docs.anaconda.com/anaconda/install/windows/\n",
        "https://www.anaconda.com/\n",
        "https://www.geeksforgeeks.org/how-to-install-anaconda-on-windows/\n",
        "https://www.geeksforgeeks.org/how-to-install-jupyter-notebook-in-windows/?ref=lbp\n",
        "https://www.simplilearn.com/top-python-libraries-for-data-science-article\n",
        "https://www.simplilearn.com/tutorials/python-tutorial/python-pandas\n",
        "https://www.simplilearn.com/tutorials/python-tutorial/numpy-tutorial"
      ]
    }
  ]
}