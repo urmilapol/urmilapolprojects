{
  "cells": [
    {
      "cell_type": "markdown",
      "metadata": {
        "id": "view-in-github",
        "colab_type": "text"
      },
      "source": [
        "<a href=\"https://colab.research.google.com/github/urmilapol/urmilapolprojects/blob/master/Dictionaries.ipynb\" target=\"_parent\"><img src=\"https://colab.research.google.com/assets/colab-badge.svg\" alt=\"Open In Colab\"/></a>"
      ]
    },
    {
      "cell_type": "markdown",
      "metadata": {
        "id": "iKwKBlZdCRMZ"
      },
      "source": [
        "<a id=\"ref2\"></a>\n",
        "<h2 align=center> Dictionaries  in Python  </h2>\n"
      ]
    },
    {
      "cell_type": "markdown",
      "metadata": {
        "id": "7hRRH6iOCRMZ"
      },
      "source": [
        "A dictionary consists of keys and values. It is helpful to compare a dictionary to a list. Instead of the numerical indexes such as a list, dictionaries have keys. These keys are labels that are used to access values within a dictionary."
      ]
    },
    {
      "cell_type": "markdown",
      "metadata": {
        "id": "p105YJWaCRMa"
      },
      "source": [
        "<a ><img src = \"https://ibm.box.com/shared/static/6tyznuwydogmtuv73o8l5g7xsb8o92h2.png\" width = 650, align = \"center\"></a>\n",
        "  <h4 align=center>  A  Comparison of a Dictionary to a list: Instead of the numerical indexes like a list, dictionaries have keys.\n",
        "  </h4> \n"
      ]
    },
    {
      "cell_type": "markdown",
      "metadata": {
        "id": "KKvvhSX-CRMb"
      },
      "source": [
        " An example of a  Dictionary **Dict**:"
      ]
    },
    {
      "cell_type": "code",
      "execution_count": 1,
      "metadata": {
        "collapsed": true,
        "colab": {
          "base_uri": "https://localhost:8080/"
        },
        "id": "JkZRbNn3CRMc",
        "outputId": "7f0a782c-67f3-47a7-e24a-12c1fe6aef1c"
      },
      "outputs": [
        {
          "output_type": "execute_result",
          "data": {
            "text/plain": [
              "{(0, 1): 6,\n",
              " 'key1': 1,\n",
              " 'key2': '2',\n",
              " 'key3': [3, 3, 3],\n",
              " 'key4': (4, 4, 4),\n",
              " 'key5': 5}"
            ]
          },
          "metadata": {},
          "execution_count": 1
        }
      ],
      "source": [
        "Dict={\"key1\":1,\"key2\":\"2\",\"key3\":[3,3,3],\"key4\":(4,4,4),('key5'):5,(0,1):6}\n",
        "Dict"
      ]
    },
    {
      "cell_type": "markdown",
      "metadata": {
        "id": "s5HvaEz7CRMe"
      },
      "source": [
        " The keys can be strings:"
      ]
    },
    {
      "cell_type": "code",
      "execution_count": 2,
      "metadata": {
        "collapsed": true,
        "colab": {
          "base_uri": "https://localhost:8080/"
        },
        "id": "mFvVdWwhCRMg",
        "outputId": "cf433ed7-c3c9-42a2-b325-6f74bf6be0bb"
      },
      "outputs": [
        {
          "output_type": "execute_result",
          "data": {
            "text/plain": [
              "1"
            ]
          },
          "metadata": {},
          "execution_count": 2
        }
      ],
      "source": [
        "Dict[\"key1\"]"
      ]
    },
    {
      "cell_type": "markdown",
      "metadata": {
        "id": "VG3tlIBKCRMg"
      },
      "source": [
        " Keys can also be any immutable object such as a tuple: "
      ]
    },
    {
      "cell_type": "code",
      "execution_count": 3,
      "metadata": {
        "collapsed": true,
        "colab": {
          "base_uri": "https://localhost:8080/"
        },
        "id": "h_9uF4gRCRMh",
        "outputId": "510fb4fe-1c71-4187-fbc6-5caa32329808"
      },
      "outputs": [
        {
          "output_type": "execute_result",
          "data": {
            "text/plain": [
              "6"
            ]
          },
          "metadata": {},
          "execution_count": 3
        }
      ],
      "source": [
        "Dict[(0,1)]"
      ]
    },
    {
      "cell_type": "markdown",
      "metadata": {
        "id": "N3Zw9CZqCRMi"
      },
      "source": [
        " Each key is separated from its value by a colon \"**:**\".  Commas separate the items, and the whole dictionary is enclosed in curly braces. An empty dictionary without any items is written with just two curly braces, like this  \"**{}**\"."
      ]
    },
    {
      "cell_type": "code",
      "execution_count": 4,
      "metadata": {
        "collapsed": true,
        "colab": {
          "base_uri": "https://localhost:8080/"
        },
        "id": "pjhlrZJ7CRMi",
        "outputId": "9532e0ec-a456-49b2-87ca-33242b0c4764"
      },
      "outputs": [
        {
          "output_type": "execute_result",
          "data": {
            "text/plain": [
              "{'Back in Black': '1980',\n",
              " 'Bat Out of Hell': '1977',\n",
              " 'Rumours': '1977',\n",
              " 'Saturday Night Fever': '1977',\n",
              " 'The Bodyguard': '1992',\n",
              " 'The Dark Side of the Moon': '1973',\n",
              " 'Their Greatest Hits (1971-1975)': '1976',\n",
              " 'Thriller': '1982'}"
            ]
          },
          "metadata": {},
          "execution_count": 4
        }
      ],
      "source": [
        "release_year_dict = {\"Thriller\":\"1982\", \"Back in Black\":\"1980\", \\\n",
        "                    \"The Dark Side of the Moon\":\"1973\", \"The Bodyguard\":\"1992\", \\\n",
        "                    \"Bat Out of Hell\":\"1977\", \"Their Greatest Hits (1971-1975)\":\"1976\", \\\n",
        "                    \"Saturday Night Fever\":\"1977\", \"Rumours\":\"1977\"}\n",
        "release_year_dict"
      ]
    },
    {
      "cell_type": "markdown",
      "metadata": {
        "id": "TkXbHerCCRMj"
      },
      "source": [
        "In summary, like a list, a dictionary holds a sequence of elements. Each element is represented by a key and its corresponding value. Dictionaries are created with two curly braces containing keys and values separated by a colon. For every key, there can only be a single value, however,  multiple keys can hold the same value. Keys can only be strings, numbers, or tuples, but values can be any data type."
      ]
    },
    {
      "cell_type": "markdown",
      "metadata": {
        "id": "sVUD4fifCRMk"
      },
      "source": [
        "It is helpful to visualize the dictionary as a table, as in figure 9. The first column represents the keys, the second column represents the values.\n"
      ]
    },
    {
      "cell_type": "markdown",
      "metadata": {
        "id": "hDKRpAneCRMk"
      },
      "source": [
        " <a ><img src = \"https://ibm.box.com/shared/static/i45fppou18c3t0fuf2ikks48tod7chbl.png\" width = 650, align = \"center\"></a>\n",
        "  <h4 align=center> Figure 9: Table representing a Dictionary  \n",
        "\n",
        "  </h4> \n"
      ]
    },
    {
      "cell_type": "markdown",
      "metadata": {
        "id": "-owTMCwlCRMl"
      },
      "source": [
        "You will need this dictionary for the next two questions :"
      ]
    },
    {
      "cell_type": "code",
      "execution_count": 5,
      "metadata": {
        "collapsed": true,
        "colab": {
          "base_uri": "https://localhost:8080/"
        },
        "id": "l76f-PiECRMl",
        "outputId": "945ee1e7-9ee3-454e-e940-ca652e471dc1"
      },
      "outputs": [
        {
          "output_type": "execute_result",
          "data": {
            "text/plain": [
              "{'Saturday Night Fever': '1977', 'The Bodyguard': '1992'}"
            ]
          },
          "metadata": {},
          "execution_count": 5
        }
      ],
      "source": [
        "soundtrack_dic = { \"The Bodyguard\":\"1992\", \"Saturday Night Fever\":\"1977\"}\n",
        "soundtrack_dic "
      ]
    },
    {
      "cell_type": "markdown",
      "metadata": {
        "id": "F1iqoNESCRMm"
      },
      "source": [
        "#### In the dictionary \"soundtrack_dict\" what are the keys ?"
      ]
    },
    {
      "cell_type": "code",
      "execution_count": 5,
      "metadata": {
        "collapsed": true,
        "id": "R_B5AGLzCRMm"
      },
      "outputs": [],
      "source": [
        ""
      ]
    },
    {
      "cell_type": "markdown",
      "metadata": {
        "id": "FCv8YeThCRMn"
      },
      "source": [
        " <div align=\"right\">\n",
        "<a href=\"#Dict1\" class=\"btn btn-default\" data-toggle=\"collapse\">Click here for the solution</a>\n",
        "\n",
        "</div>\n",
        "<div id=\"Dict1\" class=\"collapse\">\n",
        "```\n",
        "The Keys \"The Bodyguard\" and \"Saturday Night Fever\" \n",
        "```\n",
        "</div>"
      ]
    },
    {
      "cell_type": "markdown",
      "metadata": {
        "id": "7W3IoWG7CRMn"
      },
      "source": [
        "####  In the dictionary \"soundtrack_dict\" what are the values ?"
      ]
    },
    {
      "cell_type": "markdown",
      "metadata": {
        "id": "EbnawzfsCRMn"
      },
      "source": [
        " <div align=\"right\">\n",
        "<a href=\"#Dict2\" class=\"btn btn-default\" data-toggle=\"collapse\">Click here for the solution</a>\n",
        "\n",
        "</div>\n",
        "<div id=\"Dict2\" class=\"collapse\">\n",
        "```\n",
        "The values are \"1992\" and \"1977\"\n",
        "```\n",
        "</div>"
      ]
    },
    {
      "cell_type": "markdown",
      "metadata": {
        "id": "Dby6BfBBCRMo"
      },
      "source": [
        "You can retrieve the values based on the names:"
      ]
    },
    {
      "cell_type": "code",
      "execution_count": 6,
      "metadata": {
        "collapsed": true,
        "colab": {
          "base_uri": "https://localhost:8080/",
          "height": 35
        },
        "id": "YHjCumewCRMo",
        "outputId": "7f80e840-74d9-44bb-b01f-b7331a1cf6ad"
      },
      "outputs": [
        {
          "output_type": "execute_result",
          "data": {
            "text/plain": [
              "'1982'"
            ],
            "application/vnd.google.colaboratory.intrinsic+json": {
              "type": "string"
            }
          },
          "metadata": {},
          "execution_count": 6
        }
      ],
      "source": [
        "release_year_dict['Thriller'] "
      ]
    },
    {
      "cell_type": "markdown",
      "metadata": {
        "id": "cujamalECRMo"
      },
      "source": [
        "This corresponds to: \n"
      ]
    },
    {
      "cell_type": "markdown",
      "metadata": {
        "id": "-Ltdnuy8CRMp"
      },
      "source": [
        " <a ><img src = \"https://ibm.box.com/shared/static/glbwz23cgjjxqi7rjxn7me5i16gan7h7.png\" width = 500, align = \"center\"></a>\n",
        "  <h4 align=center> \n",
        " Table used to represent accessing the value for \"Thriller\"   \n",
        "\n",
        "  </h4> \n"
      ]
    },
    {
      "cell_type": "markdown",
      "metadata": {
        "id": "UtaIRMeqCRMp"
      },
      "source": [
        "Similarly for The Bodyguard     \n"
      ]
    },
    {
      "cell_type": "code",
      "execution_count": 7,
      "metadata": {
        "collapsed": true,
        "colab": {
          "base_uri": "https://localhost:8080/",
          "height": 35
        },
        "id": "zBEKekmNCRMp",
        "outputId": "c9999281-b474-4c07-b702-437ce69fff3c"
      },
      "outputs": [
        {
          "output_type": "execute_result",
          "data": {
            "text/plain": [
              "'1992'"
            ],
            "application/vnd.google.colaboratory.intrinsic+json": {
              "type": "string"
            }
          },
          "metadata": {},
          "execution_count": 7
        }
      ],
      "source": [
        "release_year_dict['The Bodyguard'] "
      ]
    },
    {
      "cell_type": "markdown",
      "metadata": {
        "id": "AQS-YcpkCRMq"
      },
      "source": [
        " <a ><img src = \"https://ibm.box.com/shared/static/6t7bu8jusckaskukwq1k0a3im5ltcpsn.png  \" width = 500, align = \"center\"></a>\n",
        "  <h4 align=center> \n",
        "Accessing the value for the \"The Bodyguard\"\n",
        "\n",
        "  </h4> \n",
        "\n",
        "\n"
      ]
    },
    {
      "cell_type": "markdown",
      "metadata": {
        "id": "BvsZrSswCRMq"
      },
      "source": [
        "Now let us retrieve the keys of the dictionary using the method **release_year_dict()**:"
      ]
    },
    {
      "cell_type": "code",
      "execution_count": 8,
      "metadata": {
        "collapsed": true,
        "colab": {
          "base_uri": "https://localhost:8080/"
        },
        "id": "XbBQwKUPCRMq",
        "outputId": "fbe6256b-0e79-404b-b8a4-20f342d2f8b2"
      },
      "outputs": [
        {
          "output_type": "execute_result",
          "data": {
            "text/plain": [
              "dict_keys(['Thriller', 'Back in Black', 'The Dark Side of the Moon', 'The Bodyguard', 'Bat Out of Hell', 'Their Greatest Hits (1971-1975)', 'Saturday Night Fever', 'Rumours'])"
            ]
          },
          "metadata": {},
          "execution_count": 8
        }
      ],
      "source": [
        "release_year_dict.keys() "
      ]
    },
    {
      "cell_type": "markdown",
      "metadata": {
        "id": "6DMb3U0QCRMr"
      },
      "source": [
        " You can retrieve the values using the method  **`values()`**:"
      ]
    },
    {
      "cell_type": "code",
      "execution_count": 9,
      "metadata": {
        "collapsed": true,
        "colab": {
          "base_uri": "https://localhost:8080/"
        },
        "id": "0Lc52m5NCRMr",
        "outputId": "0b992d09-bff9-4751-8261-2e816e27f4ea"
      },
      "outputs": [
        {
          "output_type": "execute_result",
          "data": {
            "text/plain": [
              "dict_values(['1982', '1980', '1973', '1992', '1977', '1976', '1977', '1977'])"
            ]
          },
          "metadata": {},
          "execution_count": 9
        }
      ],
      "source": [
        "release_year_dict.values() "
      ]
    },
    {
      "cell_type": "markdown",
      "metadata": {
        "id": "qYVxBd91CRMr"
      },
      "source": [
        "We can add an entry:"
      ]
    },
    {
      "cell_type": "code",
      "execution_count": 10,
      "metadata": {
        "collapsed": true,
        "colab": {
          "base_uri": "https://localhost:8080/"
        },
        "id": "iW5N59h9CRMs",
        "outputId": "16e65147-a5ae-40b9-aa0c-0f0f2130f108"
      },
      "outputs": [
        {
          "output_type": "execute_result",
          "data": {
            "text/plain": [
              "{'Back in Black': '1980',\n",
              " 'Bat Out of Hell': '1977',\n",
              " 'Graduation': '2007',\n",
              " 'Rumours': '1977',\n",
              " 'Saturday Night Fever': '1977',\n",
              " 'The Bodyguard': '1992',\n",
              " 'The Dark Side of the Moon': '1973',\n",
              " 'Their Greatest Hits (1971-1975)': '1976',\n",
              " 'Thriller': '1982'}"
            ]
          },
          "metadata": {},
          "execution_count": 10
        }
      ],
      "source": [
        "release_year_dict['Graduation']='2007'\n",
        "release_year_dict"
      ]
    },
    {
      "cell_type": "markdown",
      "metadata": {
        "id": "IuP6GIpvCRMs"
      },
      "source": [
        "We can delete an entry:   "
      ]
    },
    {
      "cell_type": "code",
      "execution_count": 11,
      "metadata": {
        "collapsed": true,
        "colab": {
          "base_uri": "https://localhost:8080/"
        },
        "id": "ouRWPnuwCRMs",
        "outputId": "e37d63e3-c74c-4470-d5f8-b2ec5a2c5490"
      },
      "outputs": [
        {
          "output_type": "execute_result",
          "data": {
            "text/plain": [
              "{'Back in Black': '1980',\n",
              " 'Bat Out of Hell': '1977',\n",
              " 'Rumours': '1977',\n",
              " 'Saturday Night Fever': '1977',\n",
              " 'The Bodyguard': '1992',\n",
              " 'The Dark Side of the Moon': '1973',\n",
              " 'Their Greatest Hits (1971-1975)': '1976'}"
            ]
          },
          "metadata": {},
          "execution_count": 11
        }
      ],
      "source": [
        "del(release_year_dict['Thriller'])\n",
        "del(release_year_dict['Graduation'])\n",
        "release_year_dict"
      ]
    },
    {
      "cell_type": "markdown",
      "metadata": {
        "id": "O9LAATvQCRMt"
      },
      "source": [
        " We can verify if an element is in the dictionary: "
      ]
    },
    {
      "cell_type": "code",
      "execution_count": 12,
      "metadata": {
        "collapsed": true,
        "colab": {
          "base_uri": "https://localhost:8080/"
        },
        "id": "HvThbPGDCRMt",
        "outputId": "390af1a8-5541-41fd-ca12-50f8a688de58"
      },
      "outputs": [
        {
          "output_type": "execute_result",
          "data": {
            "text/plain": [
              "True"
            ]
          },
          "metadata": {},
          "execution_count": 12
        }
      ],
      "source": [
        "'The Bodyguard' in release_year_dict"
      ]
    },
    {
      "cell_type": "markdown",
      "metadata": {
        "id": "1jBzNvlJCRMt"
      },
      "source": [
        "#### The Albums 'Back in Black', 'The Bodyguard' and 'Thriller' have the following music recording sales in millions 50, 50 and 65 respectively:"
      ]
    },
    {
      "cell_type": "markdown",
      "metadata": {
        "id": "nRj6s4NJCRMu"
      },
      "source": [
        "##### a) Create a dictionary “album_sales_dict” where the keys are the album name and the sales in millions are the values. "
      ]
    },
    {
      "cell_type": "code",
      "execution_count": 14,
      "metadata": {
        "collapsed": true,
        "id": "VAz98ukTCRMu"
      },
      "outputs": [],
      "source": [
        "album_sales_dict= { \"The Bodyguard\":50, \"Back in Black\":50,\"Thriller\":65}"
      ]
    },
    {
      "cell_type": "markdown",
      "metadata": {
        "id": "JmS0YZZsCRMu"
      },
      "source": [
        "#### b) Use the dictionary to find the total sales of \"Thriller\":"
      ]
    },
    {
      "cell_type": "code",
      "execution_count": 15,
      "metadata": {
        "collapsed": true,
        "colab": {
          "base_uri": "https://localhost:8080/"
        },
        "id": "ck_UJnyuCRMv",
        "outputId": "b447f616-61a3-48e4-9d5f-1234b6ab78ae"
      },
      "outputs": [
        {
          "output_type": "execute_result",
          "data": {
            "text/plain": [
              "65"
            ]
          },
          "metadata": {},
          "execution_count": 15
        }
      ],
      "source": [
        "album_sales_dict[\"Thriller\"]"
      ]
    },
    {
      "cell_type": "markdown",
      "metadata": {
        "id": "HgwKUrfGCRMv"
      },
      "source": [
        "#### c) Find the names of the albums from the dictionary using the method \"keys\":"
      ]
    },
    {
      "cell_type": "code",
      "source": [
        "album_sales_dict.keys()"
      ],
      "metadata": {
        "colab": {
          "base_uri": "https://localhost:8080/"
        },
        "id": "ZvQM0yVENCk-",
        "outputId": "c43c132c-869b-4c40-b8e2-170f0524de51"
      },
      "execution_count": 16,
      "outputs": [
        {
          "output_type": "execute_result",
          "data": {
            "text/plain": [
              "dict_keys(['The Bodyguard', 'Back in Black', 'Thriller'])"
            ]
          },
          "metadata": {},
          "execution_count": 16
        }
      ]
    },
    {
      "cell_type": "markdown",
      "metadata": {
        "id": "Pt78jkJVCRMw"
      },
      "source": [
        "#### d) Find the names of the recording sales​ from the dictionary using the method \"values\":"
      ]
    },
    {
      "cell_type": "code",
      "source": [
        "album_sales_dict.values()"
      ],
      "metadata": {
        "colab": {
          "base_uri": "https://localhost:8080/"
        },
        "id": "PQpO6OBOMeLN",
        "outputId": "1bfb1710-3ba9-4bc8-ef64-530cbf3c1c64"
      },
      "execution_count": 17,
      "outputs": [
        {
          "output_type": "execute_result",
          "data": {
            "text/plain": [
              "dict_values([50, 50, 65])"
            ]
          },
          "metadata": {},
          "execution_count": 17
        }
      ]
    }
  ],
  "metadata": {
    "kernelspec": {
      "display_name": "Python 3",
      "language": "python",
      "name": "python3"
    },
    "language_info": {
      "codemirror_mode": {
        "name": "ipython",
        "version": 3
      },
      "file_extension": ".py",
      "mimetype": "text/x-python",
      "name": "python",
      "nbconvert_exporter": "python",
      "pygments_lexer": "ipython3",
      "version": "3.5.2"
    },
    "colab": {
      "name": "Dictionaries.ipynb",
      "provenance": [],
      "include_colab_link": true
    }
  },
  "nbformat": 4,
  "nbformat_minor": 0
}