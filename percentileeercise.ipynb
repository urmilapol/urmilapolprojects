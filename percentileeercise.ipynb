{
  "nbformat": 4,
  "nbformat_minor": 0,
  "metadata": {
    "colab": {
      "name": "percentileeercise.ipynb",
      "provenance": [],
      "authorship_tag": "ABX9TyMC48PGpXFVeoyywvqSLJcZ",
      "include_colab_link": true
    },
    "kernelspec": {
      "name": "python3",
      "display_name": "Python 3"
    },
    "language_info": {
      "name": "python"
    }
  },
  "cells": [
    {
      "cell_type": "markdown",
      "metadata": {
        "id": "view-in-github",
        "colab_type": "text"
      },
      "source": [
        "<a href=\"https://colab.research.google.com/github/urmilapol/urmilapolprojects/blob/master/percentileeercise.ipynb\" target=\"_parent\"><img src=\"https://colab.research.google.com/assets/colab-badge.svg\" alt=\"Open In Colab\"/></a>"
      ]
    },
    {
      "cell_type": "code",
      "metadata": {
        "id": "ezXgmL_KGvEK"
      },
      "source": [
        "import pandas as pd\n",
        "import numpy as np\n"
      ],
      "execution_count": 1,
      "outputs": []
    },
    {
      "cell_type": "code",
      "metadata": {
        "id": "44HlBxEIKTIS"
      },
      "source": [
        "df=pd.read_csv(\"/content/sample_data/AB_NYC_2019.csv\")"
      ],
      "execution_count": 15,
      "outputs": []
    },
    {
      "cell_type": "code",
      "metadata": {
        "id": "NeYIZL-gJu15"
      },
      "source": [
        "df.dropna(inplace = True) "
      ],
      "execution_count": 16,
      "outputs": []
    },
    {
      "cell_type": "code",
      "metadata": {
        "id": "qxH8j8G2KF2f"
      },
      "source": [
        "desc = df[\"name\"].describe()\n"
      ],
      "execution_count": 17,
      "outputs": []
    },
    {
      "cell_type": "code",
      "metadata": {
        "colab": {
          "base_uri": "https://localhost:8080/"
        },
        "id": "WgkL-063KpV3",
        "outputId": "6a7e9913-44d7-4d5b-ce04-e5d456aaf117"
      },
      "source": [
        "desc"
      ],
      "execution_count": 18,
      "outputs": [
        {
          "output_type": "execute_result",
          "data": {
            "text/plain": [
              "count                   38821\n",
              "unique                  38253\n",
              "top       Home away from home\n",
              "freq                       12\n",
              "Name: name, dtype: object"
            ]
          },
          "metadata": {},
          "execution_count": 18
        }
      ]
    },
    {
      "cell_type": "code",
      "metadata": {
        "colab": {
          "base_uri": "https://localhost:8080/",
          "height": 479
        },
        "id": "yqntSYDYK_1c",
        "outputId": "477faf47-12a3-4320-d5ed-c5fb8bb7afeb"
      },
      "source": [
        "df.head()"
      ],
      "execution_count": 19,
      "outputs": [
        {
          "output_type": "execute_result",
          "data": {
            "text/html": [
              "<div>\n",
              "<style scoped>\n",
              "    .dataframe tbody tr th:only-of-type {\n",
              "        vertical-align: middle;\n",
              "    }\n",
              "\n",
              "    .dataframe tbody tr th {\n",
              "        vertical-align: top;\n",
              "    }\n",
              "\n",
              "    .dataframe thead th {\n",
              "        text-align: right;\n",
              "    }\n",
              "</style>\n",
              "<table border=\"1\" class=\"dataframe\">\n",
              "  <thead>\n",
              "    <tr style=\"text-align: right;\">\n",
              "      <th></th>\n",
              "      <th>id</th>\n",
              "      <th>name</th>\n",
              "      <th>host_id</th>\n",
              "      <th>host_name</th>\n",
              "      <th>neighbourhood_group</th>\n",
              "      <th>neighbourhood</th>\n",
              "      <th>latitude</th>\n",
              "      <th>longitude</th>\n",
              "      <th>room_type</th>\n",
              "      <th>price</th>\n",
              "      <th>minimum_nights</th>\n",
              "      <th>number_of_reviews</th>\n",
              "      <th>last_review</th>\n",
              "      <th>reviews_per_month</th>\n",
              "      <th>calculated_host_listings_count</th>\n",
              "      <th>availability_365</th>\n",
              "    </tr>\n",
              "  </thead>\n",
              "  <tbody>\n",
              "    <tr>\n",
              "      <th>0</th>\n",
              "      <td>2539</td>\n",
              "      <td>Clean &amp; quiet apt home by the park</td>\n",
              "      <td>2787</td>\n",
              "      <td>John</td>\n",
              "      <td>Brooklyn</td>\n",
              "      <td>Kensington</td>\n",
              "      <td>40.64749</td>\n",
              "      <td>-73.97237</td>\n",
              "      <td>Private room</td>\n",
              "      <td>149</td>\n",
              "      <td>1</td>\n",
              "      <td>9</td>\n",
              "      <td>2018-10-19</td>\n",
              "      <td>0.21</td>\n",
              "      <td>6</td>\n",
              "      <td>365</td>\n",
              "    </tr>\n",
              "    <tr>\n",
              "      <th>1</th>\n",
              "      <td>2595</td>\n",
              "      <td>Skylit Midtown Castle</td>\n",
              "      <td>2845</td>\n",
              "      <td>Jennifer</td>\n",
              "      <td>Manhattan</td>\n",
              "      <td>Midtown</td>\n",
              "      <td>40.75362</td>\n",
              "      <td>-73.98377</td>\n",
              "      <td>Entire home/apt</td>\n",
              "      <td>225</td>\n",
              "      <td>1</td>\n",
              "      <td>45</td>\n",
              "      <td>2019-05-21</td>\n",
              "      <td>0.38</td>\n",
              "      <td>2</td>\n",
              "      <td>355</td>\n",
              "    </tr>\n",
              "    <tr>\n",
              "      <th>3</th>\n",
              "      <td>3831</td>\n",
              "      <td>Cozy Entire Floor of Brownstone</td>\n",
              "      <td>4869</td>\n",
              "      <td>LisaRoxanne</td>\n",
              "      <td>Brooklyn</td>\n",
              "      <td>Clinton Hill</td>\n",
              "      <td>40.68514</td>\n",
              "      <td>-73.95976</td>\n",
              "      <td>Entire home/apt</td>\n",
              "      <td>89</td>\n",
              "      <td>1</td>\n",
              "      <td>270</td>\n",
              "      <td>2019-07-05</td>\n",
              "      <td>4.64</td>\n",
              "      <td>1</td>\n",
              "      <td>194</td>\n",
              "    </tr>\n",
              "    <tr>\n",
              "      <th>4</th>\n",
              "      <td>5022</td>\n",
              "      <td>Entire Apt: Spacious Studio/Loft by central park</td>\n",
              "      <td>7192</td>\n",
              "      <td>Laura</td>\n",
              "      <td>Manhattan</td>\n",
              "      <td>East Harlem</td>\n",
              "      <td>40.79851</td>\n",
              "      <td>-73.94399</td>\n",
              "      <td>Entire home/apt</td>\n",
              "      <td>80</td>\n",
              "      <td>10</td>\n",
              "      <td>9</td>\n",
              "      <td>2018-11-19</td>\n",
              "      <td>0.10</td>\n",
              "      <td>1</td>\n",
              "      <td>0</td>\n",
              "    </tr>\n",
              "    <tr>\n",
              "      <th>5</th>\n",
              "      <td>5099</td>\n",
              "      <td>Large Cozy 1 BR Apartment In Midtown East</td>\n",
              "      <td>7322</td>\n",
              "      <td>Chris</td>\n",
              "      <td>Manhattan</td>\n",
              "      <td>Murray Hill</td>\n",
              "      <td>40.74767</td>\n",
              "      <td>-73.97500</td>\n",
              "      <td>Entire home/apt</td>\n",
              "      <td>200</td>\n",
              "      <td>3</td>\n",
              "      <td>74</td>\n",
              "      <td>2019-06-22</td>\n",
              "      <td>0.59</td>\n",
              "      <td>1</td>\n",
              "      <td>129</td>\n",
              "    </tr>\n",
              "  </tbody>\n",
              "</table>\n",
              "</div>"
            ],
            "text/plain": [
              "     id  ... availability_365\n",
              "0  2539  ...              365\n",
              "1  2595  ...              355\n",
              "3  3831  ...              194\n",
              "4  5022  ...                0\n",
              "5  5099  ...              129\n",
              "\n",
              "[5 rows x 16 columns]"
            ]
          },
          "metadata": {},
          "execution_count": 19
        }
      ]
    },
    {
      "cell_type": "code",
      "metadata": {
        "colab": {
          "base_uri": "https://localhost:8080/"
        },
        "id": "9RC1tVOGLTB7",
        "outputId": "3d55da36-c0b1-42e8-bff1-cb9d61a7739e"
      },
      "source": [
        "df.price.describe()"
      ],
      "execution_count": 20,
      "outputs": [
        {
          "output_type": "execute_result",
          "data": {
            "text/plain": [
              "count    38821.000000\n",
              "mean       142.332526\n",
              "std        196.994756\n",
              "min          0.000000\n",
              "25%         69.000000\n",
              "50%        101.000000\n",
              "75%        170.000000\n",
              "max      10000.000000\n",
              "Name: price, dtype: float64"
            ]
          },
          "metadata": {},
          "execution_count": 20
        }
      ]
    },
    {
      "cell_type": "code",
      "metadata": {
        "colab": {
          "base_uri": "https://localhost:8080/"
        },
        "id": "4yKpOZUVL7VM",
        "outputId": "f592fb06-0a3d-4beb-a3b6-2c3723085f92"
      },
      "source": [
        "min_thresold, max_thresold = df.price.quantile([0.01,0.999])\n",
        "min_thresold, max_thresold"
      ],
      "execution_count": 22,
      "outputs": [
        {
          "output_type": "execute_result",
          "data": {
            "text/plain": [
              "(30.0, 2000.0)"
            ]
          },
          "metadata": {},
          "execution_count": 22
        }
      ]
    },
    {
      "cell_type": "code",
      "metadata": {
        "colab": {
          "base_uri": "https://localhost:8080/",
          "height": 1000
        },
        "id": "Iqv6V6CHMOJL",
        "outputId": "c14a0d4c-b446-451c-fc22-e470277e976f"
      },
      "source": [
        "df[df.price<min_thresold]"
      ],
      "execution_count": 23,
      "outputs": [
        {
          "output_type": "execute_result",
          "data": {
            "text/html": [
              "<div>\n",
              "<style scoped>\n",
              "    .dataframe tbody tr th:only-of-type {\n",
              "        vertical-align: middle;\n",
              "    }\n",
              "\n",
              "    .dataframe tbody tr th {\n",
              "        vertical-align: top;\n",
              "    }\n",
              "\n",
              "    .dataframe thead th {\n",
              "        text-align: right;\n",
              "    }\n",
              "</style>\n",
              "<table border=\"1\" class=\"dataframe\">\n",
              "  <thead>\n",
              "    <tr style=\"text-align: right;\">\n",
              "      <th></th>\n",
              "      <th>id</th>\n",
              "      <th>name</th>\n",
              "      <th>host_id</th>\n",
              "      <th>host_name</th>\n",
              "      <th>neighbourhood_group</th>\n",
              "      <th>neighbourhood</th>\n",
              "      <th>latitude</th>\n",
              "      <th>longitude</th>\n",
              "      <th>room_type</th>\n",
              "      <th>price</th>\n",
              "      <th>minimum_nights</th>\n",
              "      <th>number_of_reviews</th>\n",
              "      <th>last_review</th>\n",
              "      <th>reviews_per_month</th>\n",
              "      <th>calculated_host_listings_count</th>\n",
              "      <th>availability_365</th>\n",
              "    </tr>\n",
              "  </thead>\n",
              "  <tbody>\n",
              "    <tr>\n",
              "      <th>957</th>\n",
              "      <td>375249</td>\n",
              "      <td>Enjoy Staten Island Hospitality</td>\n",
              "      <td>1887999</td>\n",
              "      <td>Rimma &amp; Jim</td>\n",
              "      <td>Staten Island</td>\n",
              "      <td>Graniteville</td>\n",
              "      <td>40.62109</td>\n",
              "      <td>-74.16534</td>\n",
              "      <td>Private room</td>\n",
              "      <td>20</td>\n",
              "      <td>3</td>\n",
              "      <td>80</td>\n",
              "      <td>2019-05-26</td>\n",
              "      <td>0.92</td>\n",
              "      <td>1</td>\n",
              "      <td>226</td>\n",
              "    </tr>\n",
              "    <tr>\n",
              "      <th>2675</th>\n",
              "      <td>1428154</td>\n",
              "      <td>Central, Peaceful Semi-Private Room</td>\n",
              "      <td>5912572</td>\n",
              "      <td>Tangier</td>\n",
              "      <td>Brooklyn</td>\n",
              "      <td>Flatbush</td>\n",
              "      <td>40.63899</td>\n",
              "      <td>-73.95177</td>\n",
              "      <td>Shared room</td>\n",
              "      <td>29</td>\n",
              "      <td>2</td>\n",
              "      <td>5</td>\n",
              "      <td>2014-10-20</td>\n",
              "      <td>0.07</td>\n",
              "      <td>1</td>\n",
              "      <td>321</td>\n",
              "    </tr>\n",
              "    <tr>\n",
              "      <th>3020</th>\n",
              "      <td>1767037</td>\n",
              "      <td>Small Cozy Room Wifi &amp; AC near JFK</td>\n",
              "      <td>9284163</td>\n",
              "      <td>Antonio</td>\n",
              "      <td>Queens</td>\n",
              "      <td>Woodhaven</td>\n",
              "      <td>40.68968</td>\n",
              "      <td>-73.85219</td>\n",
              "      <td>Private room</td>\n",
              "      <td>29</td>\n",
              "      <td>2</td>\n",
              "      <td>386</td>\n",
              "      <td>2019-06-19</td>\n",
              "      <td>5.53</td>\n",
              "      <td>3</td>\n",
              "      <td>50</td>\n",
              "    </tr>\n",
              "    <tr>\n",
              "      <th>3918</th>\n",
              "      <td>2431607</td>\n",
              "      <td>Bright, Airy Room Share for 2</td>\n",
              "      <td>4973668</td>\n",
              "      <td>Gloria</td>\n",
              "      <td>Brooklyn</td>\n",
              "      <td>Bedford-Stuyvesant</td>\n",
              "      <td>40.68642</td>\n",
              "      <td>-73.93440</td>\n",
              "      <td>Shared room</td>\n",
              "      <td>25</td>\n",
              "      <td>5</td>\n",
              "      <td>76</td>\n",
              "      <td>2019-06-06</td>\n",
              "      <td>1.22</td>\n",
              "      <td>3</td>\n",
              "      <td>258</td>\n",
              "    </tr>\n",
              "    <tr>\n",
              "      <th>4647</th>\n",
              "      <td>3258197</td>\n",
              "      <td>Large 1br Duplex in Heart of Upper East Side</td>\n",
              "      <td>16477306</td>\n",
              "      <td>Jeff</td>\n",
              "      <td>Manhattan</td>\n",
              "      <td>Upper East Side</td>\n",
              "      <td>40.76866</td>\n",
              "      <td>-73.95553</td>\n",
              "      <td>Entire home/apt</td>\n",
              "      <td>16</td>\n",
              "      <td>2</td>\n",
              "      <td>21</td>\n",
              "      <td>2019-06-30</td>\n",
              "      <td>1.69</td>\n",
              "      <td>1</td>\n",
              "      <td>9</td>\n",
              "    </tr>\n",
              "    <tr>\n",
              "      <th>...</th>\n",
              "      <td>...</td>\n",
              "      <td>...</td>\n",
              "      <td>...</td>\n",
              "      <td>...</td>\n",
              "      <td>...</td>\n",
              "      <td>...</td>\n",
              "      <td>...</td>\n",
              "      <td>...</td>\n",
              "      <td>...</td>\n",
              "      <td>...</td>\n",
              "      <td>...</td>\n",
              "      <td>...</td>\n",
              "      <td>...</td>\n",
              "      <td>...</td>\n",
              "      <td>...</td>\n",
              "      <td>...</td>\n",
              "    </tr>\n",
              "    <tr>\n",
              "      <th>46894</th>\n",
              "      <td>35481807</td>\n",
              "      <td>Male Shared room 1 bed in the bedroom long term</td>\n",
              "      <td>179478172</td>\n",
              "      <td>Elizabeth</td>\n",
              "      <td>Brooklyn</td>\n",
              "      <td>Flatbush</td>\n",
              "      <td>40.65022</td>\n",
              "      <td>-73.96281</td>\n",
              "      <td>Shared room</td>\n",
              "      <td>25</td>\n",
              "      <td>4</td>\n",
              "      <td>1</td>\n",
              "      <td>2019-06-26</td>\n",
              "      <td>1.00</td>\n",
              "      <td>3</td>\n",
              "      <td>334</td>\n",
              "    </tr>\n",
              "    <tr>\n",
              "      <th>47130</th>\n",
              "      <td>35606165</td>\n",
              "      <td>Luggage storage only No Beds Available.</td>\n",
              "      <td>267872829</td>\n",
              "      <td>Sonya</td>\n",
              "      <td>Brooklyn</td>\n",
              "      <td>Fort Hamilton</td>\n",
              "      <td>40.61819</td>\n",
              "      <td>-74.03296</td>\n",
              "      <td>Shared room</td>\n",
              "      <td>20</td>\n",
              "      <td>1</td>\n",
              "      <td>1</td>\n",
              "      <td>2019-06-27</td>\n",
              "      <td>1.00</td>\n",
              "      <td>1</td>\n",
              "      <td>353</td>\n",
              "    </tr>\n",
              "    <tr>\n",
              "      <th>47218</th>\n",
              "      <td>35642891</td>\n",
              "      <td>Beautiful room in Bushwick</td>\n",
              "      <td>268138154</td>\n",
              "      <td>Julio</td>\n",
              "      <td>Brooklyn</td>\n",
              "      <td>Bushwick</td>\n",
              "      <td>40.69640</td>\n",
              "      <td>-73.91898</td>\n",
              "      <td>Private room</td>\n",
              "      <td>10</td>\n",
              "      <td>1</td>\n",
              "      <td>2</td>\n",
              "      <td>2019-06-18</td>\n",
              "      <td>2.00</td>\n",
              "      <td>1</td>\n",
              "      <td>0</td>\n",
              "    </tr>\n",
              "    <tr>\n",
              "      <th>48126</th>\n",
              "      <td>36101190</td>\n",
              "      <td>Flushing Hideout</td>\n",
              "      <td>30839692</td>\n",
              "      <td>Stavros</td>\n",
              "      <td>Queens</td>\n",
              "      <td>Flushing</td>\n",
              "      <td>40.75406</td>\n",
              "      <td>-73.80613</td>\n",
              "      <td>Shared room</td>\n",
              "      <td>25</td>\n",
              "      <td>1</td>\n",
              "      <td>1</td>\n",
              "      <td>2019-06-30</td>\n",
              "      <td>1.00</td>\n",
              "      <td>3</td>\n",
              "      <td>86</td>\n",
              "    </tr>\n",
              "    <tr>\n",
              "      <th>48486</th>\n",
              "      <td>36280646</td>\n",
              "      <td>Cable and wfi, L/G included.</td>\n",
              "      <td>272872092</td>\n",
              "      <td>Chris</td>\n",
              "      <td>Queens</td>\n",
              "      <td>Forest Hills</td>\n",
              "      <td>40.73657</td>\n",
              "      <td>-73.85088</td>\n",
              "      <td>Entire home/apt</td>\n",
              "      <td>16</td>\n",
              "      <td>9</td>\n",
              "      <td>1</td>\n",
              "      <td>2019-07-07</td>\n",
              "      <td>1.00</td>\n",
              "      <td>1</td>\n",
              "      <td>322</td>\n",
              "    </tr>\n",
              "  </tbody>\n",
              "</table>\n",
              "<p>309 rows × 16 columns</p>\n",
              "</div>"
            ],
            "text/plain": [
              "             id  ... availability_365\n",
              "957      375249  ...              226\n",
              "2675    1428154  ...              321\n",
              "3020    1767037  ...               50\n",
              "3918    2431607  ...              258\n",
              "4647    3258197  ...                9\n",
              "...         ...  ...              ...\n",
              "46894  35481807  ...              334\n",
              "47130  35606165  ...              353\n",
              "47218  35642891  ...                0\n",
              "48126  36101190  ...               86\n",
              "48486  36280646  ...              322\n",
              "\n",
              "[309 rows x 16 columns]"
            ]
          },
          "metadata": {},
          "execution_count": 23
        }
      ]
    },
    {
      "cell_type": "code",
      "metadata": {
        "colab": {
          "base_uri": "https://localhost:8080/"
        },
        "id": "rutdBD4xMiHq",
        "outputId": "065d5925-d100-46c4-cdd9-7dae317594da"
      },
      "source": [
        "df2 = df[(df.price>min_thresold)&(df.price<max_thresold)]\n",
        "df2.shape"
      ],
      "execution_count": 24,
      "outputs": [
        {
          "output_type": "execute_result",
          "data": {
            "text/plain": [
              "(38262, 16)"
            ]
          },
          "metadata": {},
          "execution_count": 24
        }
      ]
    },
    {
      "cell_type": "code",
      "metadata": {
        "colab": {
          "base_uri": "https://localhost:8080/",
          "height": 343
        },
        "id": "MWHNjJFMMnsR",
        "outputId": "03cbabed-8838-4da9-a0e1-63f2757f90c2"
      },
      "source": [
        "df2.sample(5)"
      ],
      "execution_count": 25,
      "outputs": [
        {
          "output_type": "execute_result",
          "data": {
            "text/html": [
              "<div>\n",
              "<style scoped>\n",
              "    .dataframe tbody tr th:only-of-type {\n",
              "        vertical-align: middle;\n",
              "    }\n",
              "\n",
              "    .dataframe tbody tr th {\n",
              "        vertical-align: top;\n",
              "    }\n",
              "\n",
              "    .dataframe thead th {\n",
              "        text-align: right;\n",
              "    }\n",
              "</style>\n",
              "<table border=\"1\" class=\"dataframe\">\n",
              "  <thead>\n",
              "    <tr style=\"text-align: right;\">\n",
              "      <th></th>\n",
              "      <th>id</th>\n",
              "      <th>name</th>\n",
              "      <th>host_id</th>\n",
              "      <th>host_name</th>\n",
              "      <th>neighbourhood_group</th>\n",
              "      <th>neighbourhood</th>\n",
              "      <th>latitude</th>\n",
              "      <th>longitude</th>\n",
              "      <th>room_type</th>\n",
              "      <th>price</th>\n",
              "      <th>minimum_nights</th>\n",
              "      <th>number_of_reviews</th>\n",
              "      <th>last_review</th>\n",
              "      <th>reviews_per_month</th>\n",
              "      <th>calculated_host_listings_count</th>\n",
              "      <th>availability_365</th>\n",
              "    </tr>\n",
              "  </thead>\n",
              "  <tbody>\n",
              "    <tr>\n",
              "      <th>27080</th>\n",
              "      <td>21426368</td>\n",
              "      <td>Beautiful Space in Duplex Loft Close Prospect ...</td>\n",
              "      <td>4414774</td>\n",
              "      <td>Kristopher</td>\n",
              "      <td>Brooklyn</td>\n",
              "      <td>Crown Heights</td>\n",
              "      <td>40.67366</td>\n",
              "      <td>-73.96032</td>\n",
              "      <td>Shared room</td>\n",
              "      <td>60</td>\n",
              "      <td>2</td>\n",
              "      <td>13</td>\n",
              "      <td>2018-09-09</td>\n",
              "      <td>0.64</td>\n",
              "      <td>1</td>\n",
              "      <td>0</td>\n",
              "    </tr>\n",
              "    <tr>\n",
              "      <th>3185</th>\n",
              "      <td>1900780</td>\n",
              "      <td>1000 Sq Ft Loft in Flatiron.</td>\n",
              "      <td>9870396</td>\n",
              "      <td>Damian</td>\n",
              "      <td>Manhattan</td>\n",
              "      <td>Gramercy</td>\n",
              "      <td>40.73892</td>\n",
              "      <td>-73.98922</td>\n",
              "      <td>Entire home/apt</td>\n",
              "      <td>249</td>\n",
              "      <td>4</td>\n",
              "      <td>26</td>\n",
              "      <td>2019-01-03</td>\n",
              "      <td>0.62</td>\n",
              "      <td>1</td>\n",
              "      <td>281</td>\n",
              "    </tr>\n",
              "    <tr>\n",
              "      <th>40713</th>\n",
              "      <td>31593170</td>\n",
              "      <td>Cute and Cozy Private Room</td>\n",
              "      <td>19418202</td>\n",
              "      <td>Yulia And Amine</td>\n",
              "      <td>Bronx</td>\n",
              "      <td>Van Nest</td>\n",
              "      <td>40.84555</td>\n",
              "      <td>-73.86787</td>\n",
              "      <td>Private room</td>\n",
              "      <td>50</td>\n",
              "      <td>1</td>\n",
              "      <td>19</td>\n",
              "      <td>2019-07-06</td>\n",
              "      <td>4.35</td>\n",
              "      <td>1</td>\n",
              "      <td>32</td>\n",
              "    </tr>\n",
              "    <tr>\n",
              "      <th>10236</th>\n",
              "      <td>7839096</td>\n",
              "      <td>prime midtown~charming Huge Loft~hi</td>\n",
              "      <td>2119276</td>\n",
              "      <td>Host</td>\n",
              "      <td>Manhattan</td>\n",
              "      <td>Midtown</td>\n",
              "      <td>40.74926</td>\n",
              "      <td>-73.98201</td>\n",
              "      <td>Entire home/apt</td>\n",
              "      <td>250</td>\n",
              "      <td>30</td>\n",
              "      <td>2</td>\n",
              "      <td>2018-08-12</td>\n",
              "      <td>0.04</td>\n",
              "      <td>39</td>\n",
              "      <td>98</td>\n",
              "    </tr>\n",
              "    <tr>\n",
              "      <th>6592</th>\n",
              "      <td>4767139</td>\n",
              "      <td>Large room in two-story Brownstone</td>\n",
              "      <td>15815124</td>\n",
              "      <td>Tanya</td>\n",
              "      <td>Brooklyn</td>\n",
              "      <td>Prospect Heights</td>\n",
              "      <td>40.68163</td>\n",
              "      <td>-73.97122</td>\n",
              "      <td>Private room</td>\n",
              "      <td>70</td>\n",
              "      <td>2</td>\n",
              "      <td>45</td>\n",
              "      <td>2018-11-19</td>\n",
              "      <td>0.85</td>\n",
              "      <td>1</td>\n",
              "      <td>0</td>\n",
              "    </tr>\n",
              "  </tbody>\n",
              "</table>\n",
              "</div>"
            ],
            "text/plain": [
              "             id  ... availability_365\n",
              "27080  21426368  ...                0\n",
              "3185    1900780  ...              281\n",
              "40713  31593170  ...               32\n",
              "10236   7839096  ...               98\n",
              "6592    4767139  ...                0\n",
              "\n",
              "[5 rows x 16 columns]"
            ]
          },
          "metadata": {},
          "execution_count": 25
        }
      ]
    },
    {
      "cell_type": "code",
      "metadata": {
        "colab": {
          "base_uri": "https://localhost:8080/"
        },
        "id": "_FaPu1PIM22T",
        "outputId": "e5c05341-fe01-4ff1-a5e3-f48bd052b8f0"
      },
      "source": [
        "df2.price.describe()"
      ],
      "execution_count": 26,
      "outputs": [
        {
          "output_type": "execute_result",
          "data": {
            "text/plain": [
              "count    38262.000000\n",
              "mean       139.097355\n",
              "std        118.162195\n",
              "min         31.000000\n",
              "25%         70.000000\n",
              "50%        105.000000\n",
              "75%        170.000000\n",
              "max       1999.000000\n",
              "Name: price, dtype: float64"
            ]
          },
          "metadata": {},
          "execution_count": 26
        }
      ]
    }
  ]
}