{
  "nbformat": 4,
  "nbformat_minor": 0,
  "metadata": {
    "colab": {
      "name": "weather.ipynb",
      "provenance": [],
      "authorship_tag": "ABX9TyNNzaRJdLx5aRGRAYdWarBr",
      "include_colab_link": true
    },
    "kernelspec": {
      "name": "python3",
      "display_name": "Python 3"
    },
    "language_info": {
      "name": "python"
    }
  },
  "cells": [
    {
      "cell_type": "markdown",
      "metadata": {
        "id": "view-in-github",
        "colab_type": "text"
      },
      "source": [
        "<a href=\"https://colab.research.google.com/github/urmilapol/urmilapolprojects/blob/master/weather.ipynb\" target=\"_parent\"><img src=\"https://colab.research.google.com/assets/colab-badge.svg\" alt=\"Open In Colab\"/></a>"
      ]
    },
    {
      "cell_type": "code",
      "execution_count": 1,
      "metadata": {
        "id": "DHcfVS3HZL5p"
      },
      "outputs": [],
      "source": [
        "import pandas as pd"
      ]
    },
    {
      "cell_type": "code",
      "source": [
        "data=pd.read_csv(\"/content/sample_data/file.csv\")"
      ],
      "metadata": {
        "id": "MUtbzp-2ZRgs"
      },
      "execution_count": 2,
      "outputs": []
    },
    {
      "cell_type": "code",
      "source": [
        "data"
      ],
      "metadata": {
        "colab": {
          "base_uri": "https://localhost:8080/",
          "height": 659
        },
        "id": "tstqkiXiZdrI",
        "outputId": "a1778285-a794-4e0d-d074-4a1145695da4"
      },
      "execution_count": 3,
      "outputs": [
        {
          "output_type": "execute_result",
          "data": {
            "text/plain": [
              "                Date/Time  Temp (C)  Dew Point Temp (C)  Rel Hum (%)  \\\n",
              "0     2012-01-01 00:00:00      -1.8                -3.9           86   \n",
              "1     2012-01-01 01:00:00      -1.8                -3.7           87   \n",
              "2     2012-01-01 02:00:00      -1.8                -3.4           89   \n",
              "3     2012-01-01 03:00:00      -1.5                -3.2           88   \n",
              "4     2012-01-01 04:00:00      -1.5                -3.3           88   \n",
              "...                   ...       ...                 ...          ...   \n",
              "8779  2012-12-31 19:00:00       0.1                -2.7           81   \n",
              "8780  2012-12-31 20:00:00       0.2                -2.4           83   \n",
              "8781  2012-12-31 21:00:00      -0.5                -1.5           93   \n",
              "8782  2012-12-31 22:00:00      -0.2                -1.8           89   \n",
              "8783  2012-12-31 23:00:00       0.0                -2.1           86   \n",
              "\n",
              "      Wind Spd (km/h)  Visibility (km)  Stn Press (kPa)               Weather  \n",
              "0                   4              8.0           101.24                   Fog  \n",
              "1                   4              8.0           101.24                   Fog  \n",
              "2                   7              4.0           101.26  Freezing Drizzle,Fog  \n",
              "3                   6              4.0           101.27  Freezing Drizzle,Fog  \n",
              "4                   7              4.8           101.23                   Fog  \n",
              "...               ...              ...              ...                   ...  \n",
              "8779               30              9.7           100.13                  Snow  \n",
              "8780               24              9.7           100.03                  Snow  \n",
              "8781               28              4.8            99.95                  Snow  \n",
              "8782               28              9.7            99.91                  Snow  \n",
              "8783               30             11.3            99.89                  Snow  \n",
              "\n",
              "[8784 rows x 8 columns]"
            ],
            "text/html": [
              "\n",
              "  <div id=\"df-7f3644fc-f823-4810-aaf2-c8e6a0cdd956\">\n",
              "    <div class=\"colab-df-container\">\n",
              "      <div>\n",
              "<style scoped>\n",
              "    .dataframe tbody tr th:only-of-type {\n",
              "        vertical-align: middle;\n",
              "    }\n",
              "\n",
              "    .dataframe tbody tr th {\n",
              "        vertical-align: top;\n",
              "    }\n",
              "\n",
              "    .dataframe thead th {\n",
              "        text-align: right;\n",
              "    }\n",
              "</style>\n",
              "<table border=\"1\" class=\"dataframe\">\n",
              "  <thead>\n",
              "    <tr style=\"text-align: right;\">\n",
              "      <th></th>\n",
              "      <th>Date/Time</th>\n",
              "      <th>Temp (C)</th>\n",
              "      <th>Dew Point Temp (C)</th>\n",
              "      <th>Rel Hum (%)</th>\n",
              "      <th>Wind Spd (km/h)</th>\n",
              "      <th>Visibility (km)</th>\n",
              "      <th>Stn Press (kPa)</th>\n",
              "      <th>Weather</th>\n",
              "    </tr>\n",
              "  </thead>\n",
              "  <tbody>\n",
              "    <tr>\n",
              "      <th>0</th>\n",
              "      <td>2012-01-01 00:00:00</td>\n",
              "      <td>-1.8</td>\n",
              "      <td>-3.9</td>\n",
              "      <td>86</td>\n",
              "      <td>4</td>\n",
              "      <td>8.0</td>\n",
              "      <td>101.24</td>\n",
              "      <td>Fog</td>\n",
              "    </tr>\n",
              "    <tr>\n",
              "      <th>1</th>\n",
              "      <td>2012-01-01 01:00:00</td>\n",
              "      <td>-1.8</td>\n",
              "      <td>-3.7</td>\n",
              "      <td>87</td>\n",
              "      <td>4</td>\n",
              "      <td>8.0</td>\n",
              "      <td>101.24</td>\n",
              "      <td>Fog</td>\n",
              "    </tr>\n",
              "    <tr>\n",
              "      <th>2</th>\n",
              "      <td>2012-01-01 02:00:00</td>\n",
              "      <td>-1.8</td>\n",
              "      <td>-3.4</td>\n",
              "      <td>89</td>\n",
              "      <td>7</td>\n",
              "      <td>4.0</td>\n",
              "      <td>101.26</td>\n",
              "      <td>Freezing Drizzle,Fog</td>\n",
              "    </tr>\n",
              "    <tr>\n",
              "      <th>3</th>\n",
              "      <td>2012-01-01 03:00:00</td>\n",
              "      <td>-1.5</td>\n",
              "      <td>-3.2</td>\n",
              "      <td>88</td>\n",
              "      <td>6</td>\n",
              "      <td>4.0</td>\n",
              "      <td>101.27</td>\n",
              "      <td>Freezing Drizzle,Fog</td>\n",
              "    </tr>\n",
              "    <tr>\n",
              "      <th>4</th>\n",
              "      <td>2012-01-01 04:00:00</td>\n",
              "      <td>-1.5</td>\n",
              "      <td>-3.3</td>\n",
              "      <td>88</td>\n",
              "      <td>7</td>\n",
              "      <td>4.8</td>\n",
              "      <td>101.23</td>\n",
              "      <td>Fog</td>\n",
              "    </tr>\n",
              "    <tr>\n",
              "      <th>...</th>\n",
              "      <td>...</td>\n",
              "      <td>...</td>\n",
              "      <td>...</td>\n",
              "      <td>...</td>\n",
              "      <td>...</td>\n",
              "      <td>...</td>\n",
              "      <td>...</td>\n",
              "      <td>...</td>\n",
              "    </tr>\n",
              "    <tr>\n",
              "      <th>8779</th>\n",
              "      <td>2012-12-31 19:00:00</td>\n",
              "      <td>0.1</td>\n",
              "      <td>-2.7</td>\n",
              "      <td>81</td>\n",
              "      <td>30</td>\n",
              "      <td>9.7</td>\n",
              "      <td>100.13</td>\n",
              "      <td>Snow</td>\n",
              "    </tr>\n",
              "    <tr>\n",
              "      <th>8780</th>\n",
              "      <td>2012-12-31 20:00:00</td>\n",
              "      <td>0.2</td>\n",
              "      <td>-2.4</td>\n",
              "      <td>83</td>\n",
              "      <td>24</td>\n",
              "      <td>9.7</td>\n",
              "      <td>100.03</td>\n",
              "      <td>Snow</td>\n",
              "    </tr>\n",
              "    <tr>\n",
              "      <th>8781</th>\n",
              "      <td>2012-12-31 21:00:00</td>\n",
              "      <td>-0.5</td>\n",
              "      <td>-1.5</td>\n",
              "      <td>93</td>\n",
              "      <td>28</td>\n",
              "      <td>4.8</td>\n",
              "      <td>99.95</td>\n",
              "      <td>Snow</td>\n",
              "    </tr>\n",
              "    <tr>\n",
              "      <th>8782</th>\n",
              "      <td>2012-12-31 22:00:00</td>\n",
              "      <td>-0.2</td>\n",
              "      <td>-1.8</td>\n",
              "      <td>89</td>\n",
              "      <td>28</td>\n",
              "      <td>9.7</td>\n",
              "      <td>99.91</td>\n",
              "      <td>Snow</td>\n",
              "    </tr>\n",
              "    <tr>\n",
              "      <th>8783</th>\n",
              "      <td>2012-12-31 23:00:00</td>\n",
              "      <td>0.0</td>\n",
              "      <td>-2.1</td>\n",
              "      <td>86</td>\n",
              "      <td>30</td>\n",
              "      <td>11.3</td>\n",
              "      <td>99.89</td>\n",
              "      <td>Snow</td>\n",
              "    </tr>\n",
              "  </tbody>\n",
              "</table>\n",
              "<p>8784 rows × 8 columns</p>\n",
              "</div>\n",
              "      <button class=\"colab-df-convert\" onclick=\"convertToInteractive('df-7f3644fc-f823-4810-aaf2-c8e6a0cdd956')\"\n",
              "              title=\"Convert this dataframe to an interactive table.\"\n",
              "              style=\"display:none;\">\n",
              "        \n",
              "  <svg xmlns=\"http://www.w3.org/2000/svg\" height=\"24px\"viewBox=\"0 0 24 24\"\n",
              "       width=\"24px\">\n",
              "    <path d=\"M0 0h24v24H0V0z\" fill=\"none\"/>\n",
              "    <path d=\"M18.56 5.44l.94 2.06.94-2.06 2.06-.94-2.06-.94-.94-2.06-.94 2.06-2.06.94zm-11 1L8.5 8.5l.94-2.06 2.06-.94-2.06-.94L8.5 2.5l-.94 2.06-2.06.94zm10 10l.94 2.06.94-2.06 2.06-.94-2.06-.94-.94-2.06-.94 2.06-2.06.94z\"/><path d=\"M17.41 7.96l-1.37-1.37c-.4-.4-.92-.59-1.43-.59-.52 0-1.04.2-1.43.59L10.3 9.45l-7.72 7.72c-.78.78-.78 2.05 0 2.83L4 21.41c.39.39.9.59 1.41.59.51 0 1.02-.2 1.41-.59l7.78-7.78 2.81-2.81c.8-.78.8-2.07 0-2.86zM5.41 20L4 18.59l7.72-7.72 1.47 1.35L5.41 20z\"/>\n",
              "  </svg>\n",
              "      </button>\n",
              "      \n",
              "  <style>\n",
              "    .colab-df-container {\n",
              "      display:flex;\n",
              "      flex-wrap:wrap;\n",
              "      gap: 12px;\n",
              "    }\n",
              "\n",
              "    .colab-df-convert {\n",
              "      background-color: #E8F0FE;\n",
              "      border: none;\n",
              "      border-radius: 50%;\n",
              "      cursor: pointer;\n",
              "      display: none;\n",
              "      fill: #1967D2;\n",
              "      height: 32px;\n",
              "      padding: 0 0 0 0;\n",
              "      width: 32px;\n",
              "    }\n",
              "\n",
              "    .colab-df-convert:hover {\n",
              "      background-color: #E2EBFA;\n",
              "      box-shadow: 0px 1px 2px rgba(60, 64, 67, 0.3), 0px 1px 3px 1px rgba(60, 64, 67, 0.15);\n",
              "      fill: #174EA6;\n",
              "    }\n",
              "\n",
              "    [theme=dark] .colab-df-convert {\n",
              "      background-color: #3B4455;\n",
              "      fill: #D2E3FC;\n",
              "    }\n",
              "\n",
              "    [theme=dark] .colab-df-convert:hover {\n",
              "      background-color: #434B5C;\n",
              "      box-shadow: 0px 1px 3px 1px rgba(0, 0, 0, 0.15);\n",
              "      filter: drop-shadow(0px 1px 2px rgba(0, 0, 0, 0.3));\n",
              "      fill: #FFFFFF;\n",
              "    }\n",
              "  </style>\n",
              "\n",
              "      <script>\n",
              "        const buttonEl =\n",
              "          document.querySelector('#df-7f3644fc-f823-4810-aaf2-c8e6a0cdd956 button.colab-df-convert');\n",
              "        buttonEl.style.display =\n",
              "          google.colab.kernel.accessAllowed ? 'block' : 'none';\n",
              "\n",
              "        async function convertToInteractive(key) {\n",
              "          const element = document.querySelector('#df-7f3644fc-f823-4810-aaf2-c8e6a0cdd956');\n",
              "          const dataTable =\n",
              "            await google.colab.kernel.invokeFunction('convertToInteractive',\n",
              "                                                     [key], {});\n",
              "          if (!dataTable) return;\n",
              "\n",
              "          const docLinkHtml = 'Like what you see? Visit the ' +\n",
              "            '<a target=\"_blank\" href=https://colab.research.google.com/notebooks/data_table.ipynb>data table notebook</a>'\n",
              "            + ' to learn more about interactive tables.';\n",
              "          element.innerHTML = '';\n",
              "          dataTable['output_type'] = 'display_data';\n",
              "          await google.colab.output.renderOutput(dataTable, element);\n",
              "          const docLink = document.createElement('div');\n",
              "          docLink.innerHTML = docLinkHtml;\n",
              "          element.appendChild(docLink);\n",
              "        }\n",
              "      </script>\n",
              "    </div>\n",
              "  </div>\n",
              "  "
            ]
          },
          "metadata": {},
          "execution_count": 3
        }
      ]
    },
    {
      "cell_type": "code",
      "source": [
        "data.head()"
      ],
      "metadata": {
        "colab": {
          "base_uri": "https://localhost:8080/",
          "height": 354
        },
        "id": "Dxa-teNCZjEN",
        "outputId": "d3e6cba2-7cda-44c8-82df-86e9faf08307"
      },
      "execution_count": 4,
      "outputs": [
        {
          "output_type": "execute_result",
          "data": {
            "text/plain": [
              "             Date/Time  Temp (C)  Dew Point Temp (C)  Rel Hum (%)  \\\n",
              "0  2012-01-01 00:00:00      -1.8                -3.9           86   \n",
              "1  2012-01-01 01:00:00      -1.8                -3.7           87   \n",
              "2  2012-01-01 02:00:00      -1.8                -3.4           89   \n",
              "3  2012-01-01 03:00:00      -1.5                -3.2           88   \n",
              "4  2012-01-01 04:00:00      -1.5                -3.3           88   \n",
              "\n",
              "   Wind Spd (km/h)  Visibility (km)  Stn Press (kPa)               Weather  \n",
              "0                4              8.0           101.24                   Fog  \n",
              "1                4              8.0           101.24                   Fog  \n",
              "2                7              4.0           101.26  Freezing Drizzle,Fog  \n",
              "3                6              4.0           101.27  Freezing Drizzle,Fog  \n",
              "4                7              4.8           101.23                   Fog  "
            ],
            "text/html": [
              "\n",
              "  <div id=\"df-58b06cd9-1fdf-40ad-8a04-d9b77ec3b0e3\">\n",
              "    <div class=\"colab-df-container\">\n",
              "      <div>\n",
              "<style scoped>\n",
              "    .dataframe tbody tr th:only-of-type {\n",
              "        vertical-align: middle;\n",
              "    }\n",
              "\n",
              "    .dataframe tbody tr th {\n",
              "        vertical-align: top;\n",
              "    }\n",
              "\n",
              "    .dataframe thead th {\n",
              "        text-align: right;\n",
              "    }\n",
              "</style>\n",
              "<table border=\"1\" class=\"dataframe\">\n",
              "  <thead>\n",
              "    <tr style=\"text-align: right;\">\n",
              "      <th></th>\n",
              "      <th>Date/Time</th>\n",
              "      <th>Temp (C)</th>\n",
              "      <th>Dew Point Temp (C)</th>\n",
              "      <th>Rel Hum (%)</th>\n",
              "      <th>Wind Spd (km/h)</th>\n",
              "      <th>Visibility (km)</th>\n",
              "      <th>Stn Press (kPa)</th>\n",
              "      <th>Weather</th>\n",
              "    </tr>\n",
              "  </thead>\n",
              "  <tbody>\n",
              "    <tr>\n",
              "      <th>0</th>\n",
              "      <td>2012-01-01 00:00:00</td>\n",
              "      <td>-1.8</td>\n",
              "      <td>-3.9</td>\n",
              "      <td>86</td>\n",
              "      <td>4</td>\n",
              "      <td>8.0</td>\n",
              "      <td>101.24</td>\n",
              "      <td>Fog</td>\n",
              "    </tr>\n",
              "    <tr>\n",
              "      <th>1</th>\n",
              "      <td>2012-01-01 01:00:00</td>\n",
              "      <td>-1.8</td>\n",
              "      <td>-3.7</td>\n",
              "      <td>87</td>\n",
              "      <td>4</td>\n",
              "      <td>8.0</td>\n",
              "      <td>101.24</td>\n",
              "      <td>Fog</td>\n",
              "    </tr>\n",
              "    <tr>\n",
              "      <th>2</th>\n",
              "      <td>2012-01-01 02:00:00</td>\n",
              "      <td>-1.8</td>\n",
              "      <td>-3.4</td>\n",
              "      <td>89</td>\n",
              "      <td>7</td>\n",
              "      <td>4.0</td>\n",
              "      <td>101.26</td>\n",
              "      <td>Freezing Drizzle,Fog</td>\n",
              "    </tr>\n",
              "    <tr>\n",
              "      <th>3</th>\n",
              "      <td>2012-01-01 03:00:00</td>\n",
              "      <td>-1.5</td>\n",
              "      <td>-3.2</td>\n",
              "      <td>88</td>\n",
              "      <td>6</td>\n",
              "      <td>4.0</td>\n",
              "      <td>101.27</td>\n",
              "      <td>Freezing Drizzle,Fog</td>\n",
              "    </tr>\n",
              "    <tr>\n",
              "      <th>4</th>\n",
              "      <td>2012-01-01 04:00:00</td>\n",
              "      <td>-1.5</td>\n",
              "      <td>-3.3</td>\n",
              "      <td>88</td>\n",
              "      <td>7</td>\n",
              "      <td>4.8</td>\n",
              "      <td>101.23</td>\n",
              "      <td>Fog</td>\n",
              "    </tr>\n",
              "  </tbody>\n",
              "</table>\n",
              "</div>\n",
              "      <button class=\"colab-df-convert\" onclick=\"convertToInteractive('df-58b06cd9-1fdf-40ad-8a04-d9b77ec3b0e3')\"\n",
              "              title=\"Convert this dataframe to an interactive table.\"\n",
              "              style=\"display:none;\">\n",
              "        \n",
              "  <svg xmlns=\"http://www.w3.org/2000/svg\" height=\"24px\"viewBox=\"0 0 24 24\"\n",
              "       width=\"24px\">\n",
              "    <path d=\"M0 0h24v24H0V0z\" fill=\"none\"/>\n",
              "    <path d=\"M18.56 5.44l.94 2.06.94-2.06 2.06-.94-2.06-.94-.94-2.06-.94 2.06-2.06.94zm-11 1L8.5 8.5l.94-2.06 2.06-.94-2.06-.94L8.5 2.5l-.94 2.06-2.06.94zm10 10l.94 2.06.94-2.06 2.06-.94-2.06-.94-.94-2.06-.94 2.06-2.06.94z\"/><path d=\"M17.41 7.96l-1.37-1.37c-.4-.4-.92-.59-1.43-.59-.52 0-1.04.2-1.43.59L10.3 9.45l-7.72 7.72c-.78.78-.78 2.05 0 2.83L4 21.41c.39.39.9.59 1.41.59.51 0 1.02-.2 1.41-.59l7.78-7.78 2.81-2.81c.8-.78.8-2.07 0-2.86zM5.41 20L4 18.59l7.72-7.72 1.47 1.35L5.41 20z\"/>\n",
              "  </svg>\n",
              "      </button>\n",
              "      \n",
              "  <style>\n",
              "    .colab-df-container {\n",
              "      display:flex;\n",
              "      flex-wrap:wrap;\n",
              "      gap: 12px;\n",
              "    }\n",
              "\n",
              "    .colab-df-convert {\n",
              "      background-color: #E8F0FE;\n",
              "      border: none;\n",
              "      border-radius: 50%;\n",
              "      cursor: pointer;\n",
              "      display: none;\n",
              "      fill: #1967D2;\n",
              "      height: 32px;\n",
              "      padding: 0 0 0 0;\n",
              "      width: 32px;\n",
              "    }\n",
              "\n",
              "    .colab-df-convert:hover {\n",
              "      background-color: #E2EBFA;\n",
              "      box-shadow: 0px 1px 2px rgba(60, 64, 67, 0.3), 0px 1px 3px 1px rgba(60, 64, 67, 0.15);\n",
              "      fill: #174EA6;\n",
              "    }\n",
              "\n",
              "    [theme=dark] .colab-df-convert {\n",
              "      background-color: #3B4455;\n",
              "      fill: #D2E3FC;\n",
              "    }\n",
              "\n",
              "    [theme=dark] .colab-df-convert:hover {\n",
              "      background-color: #434B5C;\n",
              "      box-shadow: 0px 1px 3px 1px rgba(0, 0, 0, 0.15);\n",
              "      filter: drop-shadow(0px 1px 2px rgba(0, 0, 0, 0.3));\n",
              "      fill: #FFFFFF;\n",
              "    }\n",
              "  </style>\n",
              "\n",
              "      <script>\n",
              "        const buttonEl =\n",
              "          document.querySelector('#df-58b06cd9-1fdf-40ad-8a04-d9b77ec3b0e3 button.colab-df-convert');\n",
              "        buttonEl.style.display =\n",
              "          google.colab.kernel.accessAllowed ? 'block' : 'none';\n",
              "\n",
              "        async function convertToInteractive(key) {\n",
              "          const element = document.querySelector('#df-58b06cd9-1fdf-40ad-8a04-d9b77ec3b0e3');\n",
              "          const dataTable =\n",
              "            await google.colab.kernel.invokeFunction('convertToInteractive',\n",
              "                                                     [key], {});\n",
              "          if (!dataTable) return;\n",
              "\n",
              "          const docLinkHtml = 'Like what you see? Visit the ' +\n",
              "            '<a target=\"_blank\" href=https://colab.research.google.com/notebooks/data_table.ipynb>data table notebook</a>'\n",
              "            + ' to learn more about interactive tables.';\n",
              "          element.innerHTML = '';\n",
              "          dataTable['output_type'] = 'display_data';\n",
              "          await google.colab.output.renderOutput(dataTable, element);\n",
              "          const docLink = document.createElement('div');\n",
              "          docLink.innerHTML = docLinkHtml;\n",
              "          element.appendChild(docLink);\n",
              "        }\n",
              "      </script>\n",
              "    </div>\n",
              "  </div>\n",
              "  "
            ]
          },
          "metadata": {},
          "execution_count": 4
        }
      ]
    },
    {
      "cell_type": "code",
      "source": [
        "data.shape\n"
      ],
      "metadata": {
        "colab": {
          "base_uri": "https://localhost:8080/"
        },
        "id": "E4KuWt99Z1MM",
        "outputId": "992081de-016a-4dbe-da4e-92a44da8d667"
      },
      "execution_count": 6,
      "outputs": [
        {
          "output_type": "execute_result",
          "data": {
            "text/plain": [
              "(8784, 8)"
            ]
          },
          "metadata": {},
          "execution_count": 6
        }
      ]
    },
    {
      "cell_type": "code",
      "source": [
        "data.index"
      ],
      "metadata": {
        "colab": {
          "base_uri": "https://localhost:8080/"
        },
        "id": "fA49XumbaJM-",
        "outputId": "b12a4c36-5e54-44a6-b42e-fe389f68d8d7"
      },
      "execution_count": 7,
      "outputs": [
        {
          "output_type": "execute_result",
          "data": {
            "text/plain": [
              "RangeIndex(start=0, stop=8784, step=1)"
            ]
          },
          "metadata": {},
          "execution_count": 7
        }
      ]
    },
    {
      "cell_type": "code",
      "source": [
        "data.columns"
      ],
      "metadata": {
        "colab": {
          "base_uri": "https://localhost:8080/"
        },
        "id": "HEWnpgJNaebH",
        "outputId": "0352606f-3700-4ac8-c49a-5dd2b8015f9e"
      },
      "execution_count": 8,
      "outputs": [
        {
          "output_type": "execute_result",
          "data": {
            "text/plain": [
              "Index(['Date/Time', 'Temp (C)', 'Dew Point Temp (C)', 'Rel Hum (%)',\n",
              "       'Wind Spd (km/h)', 'Visibility (km)', 'Stn Press (kPa)', 'Weather'],\n",
              "      dtype='object')"
            ]
          },
          "metadata": {},
          "execution_count": 8
        }
      ]
    },
    {
      "cell_type": "code",
      "source": [
        "data.dtypes"
      ],
      "metadata": {
        "colab": {
          "base_uri": "https://localhost:8080/"
        },
        "id": "vmGfilFeasDT",
        "outputId": "7ba375ca-5253-4cb4-baf1-38dbf30b1144"
      },
      "execution_count": 9,
      "outputs": [
        {
          "output_type": "execute_result",
          "data": {
            "text/plain": [
              "Date/Time              object\n",
              "Temp (C)              float64\n",
              "Dew Point Temp (C)    float64\n",
              "Rel Hum (%)             int64\n",
              "Wind Spd (km/h)         int64\n",
              "Visibility (km)       float64\n",
              "Stn Press (kPa)       float64\n",
              "Weather                object\n",
              "dtype: object"
            ]
          },
          "metadata": {},
          "execution_count": 9
        }
      ]
    },
    {
      "cell_type": "code",
      "source": [
        "data[\"Weather\"].unique()"
      ],
      "metadata": {
        "colab": {
          "base_uri": "https://localhost:8080/"
        },
        "id": "f3bQfBRsbTQx",
        "outputId": "7f3e8f16-5d8b-45e0-a4eb-6dffb1f543ce"
      },
      "execution_count": 12,
      "outputs": [
        {
          "output_type": "execute_result",
          "data": {
            "text/plain": [
              "array(['Fog', 'Freezing Drizzle,Fog', 'Mostly Cloudy', 'Cloudy', 'Rain',\n",
              "       'Rain Showers', 'Mainly Clear', 'Snow Showers', 'Snow', 'Clear',\n",
              "       'Freezing Rain,Fog', 'Freezing Rain', 'Freezing Drizzle',\n",
              "       'Rain,Snow', 'Moderate Snow', 'Freezing Drizzle,Snow',\n",
              "       'Freezing Rain,Snow Grains', 'Snow,Blowing Snow', 'Freezing Fog',\n",
              "       'Haze', 'Rain,Fog', 'Drizzle,Fog', 'Drizzle',\n",
              "       'Freezing Drizzle,Haze', 'Freezing Rain,Haze', 'Snow,Haze',\n",
              "       'Snow,Fog', 'Snow,Ice Pellets', 'Rain,Haze', 'Thunderstorms,Rain',\n",
              "       'Thunderstorms,Rain Showers', 'Thunderstorms,Heavy Rain Showers',\n",
              "       'Thunderstorms,Rain Showers,Fog', 'Thunderstorms',\n",
              "       'Thunderstorms,Rain,Fog',\n",
              "       'Thunderstorms,Moderate Rain Showers,Fog', 'Rain Showers,Fog',\n",
              "       'Rain Showers,Snow Showers', 'Snow Pellets', 'Rain,Snow,Fog',\n",
              "       'Moderate Rain,Fog', 'Freezing Rain,Ice Pellets,Fog',\n",
              "       'Drizzle,Ice Pellets,Fog', 'Drizzle,Snow', 'Rain,Ice Pellets',\n",
              "       'Drizzle,Snow,Fog', 'Rain,Snow Grains', 'Rain,Snow,Ice Pellets',\n",
              "       'Snow Showers,Fog', 'Moderate Snow,Blowing Snow'], dtype=object)"
            ]
          },
          "metadata": {},
          "execution_count": 12
        }
      ]
    }
  ]
}