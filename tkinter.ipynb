{
  "nbformat": 4,
  "nbformat_minor": 0,
  "metadata": {
    "colab": {
      "name": "tkinter.ipynb",
      "provenance": [],
      "authorship_tag": "ABX9TyMEfsvkQi+syfmQIEqJIExw",
      "include_colab_link": true
    },
    "kernelspec": {
      "name": "python3",
      "display_name": "Python 3"
    },
    "language_info": {
      "name": "python"
    }
  },
  "cells": [
    {
      "cell_type": "markdown",
      "metadata": {
        "id": "view-in-github",
        "colab_type": "text"
      },
      "source": [
        "<a href=\"https://colab.research.google.com/github/urmilapol/urmilapolprojects/blob/master/tkinter.ipynb\" target=\"_parent\"><img src=\"https://colab.research.google.com/assets/colab-badge.svg\" alt=\"Open In Colab\"/></a>"
      ]
    },
    {
      "cell_type": "markdown",
      "source": [
        "https://github.com/Aashishkumar123/Python-GUI-Project"
      ],
      "metadata": {
        "id": "gGgowtCACn64"
      }
    },
    {
      "cell_type": "code",
      "source": [
        "import tkinter as tk\n",
        "r = tk.Tk()\n",
        "r.title('Counting Seconds')\n",
        "button = tk.Button(r, text='Stop', width=25, command=r.destroy)\n",
        "button.pack()\n",
        "r.mainloop()"
      ],
      "metadata": {
        "id": "GAZ9_0l_EmJ_"
      },
      "execution_count": null,
      "outputs": []
    },
    {
      "cell_type": "code",
      "execution_count": null,
      "metadata": {
        "id": "3mkdnrcDBz9i"
      },
      "outputs": [],
      "source": [
        "#importing \n",
        "from tkinter import *\n",
        "import tkinter as tk\n",
        "\n",
        "#calling Tk() method\n",
        "root = tk.Tk() \n",
        "#its used for creating gui window \n",
        "\n",
        "#title() method is used to change the title \n",
        "root.title(\"My GUI\")\n",
        "\n",
        "#geometry() method is used to resize the Gui Window\n",
        "root.geometry(\"250x250\")\n",
        "\n",
        "#maxsize() method is used for define the maximum size of the window\n",
        "root.maxsize(300,300)\n",
        "\n",
        "#minsize() method is used for define the minimum size of the window\n",
        "root.minsize(200,200)\n",
        "\n",
        "#mainloop() is used to load the GUI Window\n",
        "root.mainloop()"
      ]
    },
    {
      "cell_type": "code",
      "source": [
        "# import everything from tkinter module\n",
        "from tkinter import *   \n",
        " \n",
        "# create a tkinter window\n",
        "root = Tk()             \n",
        " \n",
        "# Open window having dimension 100x100\n",
        "root.geometry('100x100')\n",
        " \n",
        "# Create a Button\n",
        "btn = Button(root, text = 'Click me !', bd = '5',\n",
        "                          command = root.destroy)\n",
        " \n",
        "# Set the position of button on the top of window.  \n",
        "btn.pack(side = 'top')   \n",
        " \n",
        "root.mainloop()"
      ],
      "metadata": {
        "id": "oryHJeWiF-e_"
      },
      "execution_count": null,
      "outputs": []
    }
  ]
}