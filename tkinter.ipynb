{
  "nbformat": 4,
  "nbformat_minor": 0,
  "metadata": {
    "colab": {
      "name": "tkinter.ipynb",
      "provenance": [],
      "authorship_tag": "ABX9TyNZgaM40XnnD2Ztw08aVjCx",
      "include_colab_link": true
    },
    "kernelspec": {
      "name": "python3",
      "display_name": "Python 3"
    },
    "language_info": {
      "name": "python"
    }
  },
  "cells": [
    {
      "cell_type": "markdown",
      "metadata": {
        "id": "view-in-github",
        "colab_type": "text"
      },
      "source": [
        "<a href=\"https://colab.research.google.com/github/urmilapol/urmilapolprojects/blob/master/tkinter.ipynb\" target=\"_parent\"><img src=\"https://colab.research.google.com/assets/colab-badge.svg\" alt=\"Open In Colab\"/></a>"
      ]
    },
    {
      "cell_type": "markdown",
      "source": [
        "https://github.com/Aashishkumar123/Python-GUI-Project\n",
        "\n",
        "\n",
        "https://www.geeksforgeeks.org/python-tkinter-label/"
      ],
      "metadata": {
        "id": "gGgowtCACn64"
      }
    },
    {
      "cell_type": "code",
      "source": [
        "import tkinter \n",
        "r = tkinter.Tk()\n",
        "r.title('Counting Seconds')\n",
        "button = tk.Button(r, text='Stop', width=25, command=r.destroy)\n",
        "button.pack()\n",
        "r.mainloop()"
      ],
      "metadata": {
        "id": "GAZ9_0l_EmJ_"
      },
      "execution_count": null,
      "outputs": []
    },
    {
      "cell_type": "code",
      "execution_count": null,
      "metadata": {
        "id": "3mkdnrcDBz9i"
      },
      "outputs": [],
      "source": [
        "#importing \n",
        "from tkinter import *\n",
        "import tkinter as tk\n",
        "\n",
        "#calling Tk() method\n",
        "root = tk.Tk() \n",
        "#its used for creating gui window \n",
        "\n",
        "#title() method is used to change the title \n",
        "root.title(\"My GUI\")\n",
        "\n",
        "#geometry() method is used to resize the Gui Window\n",
        "root.geometry(\"250x250\")\n",
        "\n",
        "#maxsize() method is used for define the maximum size of the window\n",
        "root.maxsize(300,300)\n",
        "\n",
        "#minsize() method is used for define the minimum size of the window\n",
        "root.minsize(200,200)\n",
        "\n",
        "#mainloop() is used to load the GUI Window\n",
        "root.mainloop()"
      ]
    },
    {
      "cell_type": "code",
      "source": [
        "# import everything from tkinter module\n",
        "from tkinter import *   \n",
        " \n",
        "# create a tkinter window\n",
        "root = Tk()             \n",
        " \n",
        "# Open window having dimension 100x100\n",
        "root.geometry('100x100')\n",
        " \n",
        "# Create a Button\n",
        "btn = Button(root, text = 'Click me !', bd = '5',\n",
        "                          command = root.destroy)\n",
        " \n",
        "# Set the position of button on the top of window.  \n",
        "btn.pack(side = 'top')   \n",
        " \n",
        "root.mainloop()"
      ],
      "metadata": {
        "id": "oryHJeWiF-e_"
      },
      "execution_count": null,
      "outputs": []
    },
    {
      "cell_type": "code",
      "source": [
        "from tkinter import *\n",
        "master = Tk()\n",
        "w = Canvas(master, width=40, height=60)\n",
        "w.pack()\n",
        "canvas_height=20\n",
        "canvas_width=200\n",
        "y = int(canvas_height / 2)\n",
        "w.create_line(0, y, canvas_width, y )\n",
        "mainloop()"
      ],
      "metadata": {
        "id": "7bklBfDVGmzP"
      },
      "execution_count": null,
      "outputs": []
    },
    {
      "cell_type": "code",
      "source": [
        "# Python tkinter hello world program\n",
        "  \n",
        "\n",
        "m = tkinter.Tk()\n",
        "  \n",
        "root = Tk()\n",
        "a = Label(root, text =\"Hello World\")\n",
        "a.pack()\n",
        "  \n",
        "root.mainloop()"
      ],
      "metadata": {
        "id": "P86m7RGGHgpH"
      },
      "execution_count": null,
      "outputs": []
    },
    {
      "cell_type": "code",
      "source": [
        "# import tkinter module \n",
        "from tkinter import * \n",
        "import tkinter as tk\n",
        "\n",
        "# creating main tkinter window/toplevel \n",
        "root = tk.Tk() \n",
        "\n",
        "root.geometry(\"230x120\")\n",
        "root.title('Form')\n",
        "\n",
        "# Lable() function creates a label widget \n",
        "\n",
        "l1 = Label(root, text = \"Email:\") \n",
        "l2 = Label(root, text = \"Password:\") \n",
        "\n",
        "# grid method to arrange labels in respective \n",
        "# rows and columns as specified \n",
        "\n",
        "l1.grid(row = 1, column = 1, pady = 10,padx=15) \n",
        "l2.grid(row = 2, column = 1, pady = 4,padx=15) \n",
        "\n",
        "# entry widgets, used to take entry from user \n",
        "e1 = Entry(root) \n",
        "e2 = Entry(root) \n",
        "\n",
        "# this will arrange entry widgets \n",
        "e1.grid(row = 1, column = 2, pady = 10) \n",
        "e2.grid(row = 2, column = 2, pady = 4) \n",
        "\n",
        "# Button() function is used to create button widgets\n",
        "submit = Button(root,text=\"submit\")\n",
        "submit.grid(column=2,row=3,pady=\"3\")\n",
        "mainloop() "
      ],
      "metadata": {
        "id": "AUIiDh2CKO2X"
      },
      "execution_count": null,
      "outputs": []
    },
    {
      "cell_type": "code",
      "source": [
        "from tkinter import *\n",
        "import tkinter as tk\n",
        "root = tk.Tk()\n",
        "root.title('Instagram')\n",
        "\n",
        "#iconbitmap() method is used to set the icon in a GUI window.\n",
        "root.iconbitmap(r'C:\\Users\\USER\\Desktop\\instagram.ico')\n",
        "\n",
        "root.mainloop()"
      ],
      "metadata": {
        "id": "OhMs5QqiKfIw"
      },
      "execution_count": null,
      "outputs": []
    },
    {
      "cell_type": "code",
      "source": [
        "import tkinter as tk\n",
        "\n",
        "root = tk.Tk()\n",
        "root.title(\"My Gui\")\n",
        "root.geometry(\"250x150\")\n",
        "\n",
        "#changing bg value\n",
        "root['bg'] = \"cyan\"\n",
        "\n",
        "root.mainloop()"
      ],
      "metadata": {
        "id": "CNoFWjxNKoD9"
      },
      "execution_count": null,
      "outputs": []
    },
    {
      "cell_type": "code",
      "source": [
        "from tkinter import *\n",
        "from PIL import ImageTk, Image\n",
        "\n",
        "root = Tk()\n",
        "root.title(\"my GUI\")\n",
        "root.geometry(\"250x150\")\n",
        "img = ImageTk.PhotoImage(Image.open(r'C:\\Users\\USER\\Desktop\\image-16.jpg'))\n",
        "panel = Label(root, image = img)\n",
        "panel.pack(side = \"bottom\", fill = \"both\", expand = \"yes\")\n",
        "root.mainloop()"
      ],
      "metadata": {
        "id": "D3Ye85EtKx1x"
      },
      "execution_count": null,
      "outputs": []
    },
    {
      "cell_type": "code",
      "source": [
        "import tkinter as tk\n",
        "from tkinter import *\n",
        "import tkinter.font as TkFont\n",
        "root = tk.Tk()\n",
        "root.title('Form')\n",
        "root.geometry(\"350x200\")\n",
        "\n",
        "\n",
        "\n",
        "font1 = TkFont.Font(family=\"Times\",size=10,weight=\"bold\")\n",
        "font2 = TkFont.Font(family=\"Helvetica\",size=12,weight=\"bold\")\n",
        "font3 = TkFont.Font(family=\"verdana\",size=15,weight=\"bold\")\n",
        "font4 = TkFont.Font(family=\"opensans\",size=20,weight=\"bold\")\n",
        "font5 = TkFont.Font(family=\"Symbol\",size=25,weight=\"bold\")\n",
        " \n",
        "\n",
        "l1 = Label(root,text=\"This is first Font\", font = font1,bg=\"red\")\n",
        "l1.pack()\n",
        "\n",
        "l2  = Label(root,text=\"This is Second Font\", font= font2,fg=\"red\")\n",
        "l2.pack()\n",
        "\n",
        "l3  = Label(root,text=\"This is Third Font\", font= font3)\n",
        "l3.pack()\n",
        "\n",
        "l4  = Label(root,text=\"This is Fourth Font\", font= font4, fg=\"cyan\")\n",
        "l4.pack()\n",
        "\n",
        "l5  = Label(root,text=\"This is Fifth Font\", font= font5, fg=\"white\",bg=\"black\")\n",
        "l5.pack()\n",
        "\n",
        "l6  = Label(root,text=\"This is Last Font\", font=(\"verdana\",10,\"bold\"))\n",
        "l6.pack()\n",
        "\n",
        "root.mainloop()\n"
      ],
      "metadata": {
        "id": "UGMj0CqvM1lr"
      },
      "execution_count": null,
      "outputs": []
    }
  ]
}