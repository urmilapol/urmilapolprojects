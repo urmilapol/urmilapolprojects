{
  "nbformat": 4,
  "nbformat_minor": 0,
  "metadata": {
    "colab": {
      "name": "loops.ipynb",
      "provenance": [],
      "authorship_tag": "ABX9TyOcyYR8PlBY5SDtphlBSXgo",
      "include_colab_link": true
    },
    "kernelspec": {
      "name": "python3",
      "display_name": "Python 3"
    },
    "language_info": {
      "name": "python"
    }
  },
  "cells": [
    {
      "cell_type": "markdown",
      "metadata": {
        "id": "view-in-github",
        "colab_type": "text"
      },
      "source": [
        "<a href=\"https://colab.research.google.com/github/urmilapol/urmilapolprojects/blob/master/loops.ipynb\" target=\"_parent\"><img src=\"https://colab.research.google.com/assets/colab-badge.svg\" alt=\"Open In Colab\"/></a>"
      ]
    },
    {
      "cell_type": "code",
      "execution_count": 1,
      "metadata": {
        "colab": {
          "base_uri": "https://localhost:8080/"
        },
        "id": "leqrhcl085hJ",
        "outputId": "aa8302b4-44c5-4d8c-d502-5b99b18d9e97"
      },
      "outputs": [
        {
          "output_type": "stream",
          "name": "stdout",
          "text": [
            "Enter a number:5\n",
            "5 X 1 = 5\n",
            "5 X 2 = 10\n",
            "5 X 3 = 15\n",
            "5 X 4 = 20\n",
            "5 X 5 = 25\n",
            "5 X 6 = 30\n",
            "5 X 7 = 35\n",
            "5 X 8 = 40\n",
            "5 X 9 = 45\n",
            "5 X 10 = 50\n"
          ]
        }
      ],
      "source": [
        "i=1;  \n",
        "num = int(input(\"Enter a number:\")); \n",
        "for i in range(1,11):  \n",
        "    print(\"%d X %d = %d\"%(num,i,num*i))"
      ]
    },
    {
      "cell_type": "code",
      "source": [
        "i = 1\n",
        "while i < 6:\n",
        "  print(i)\n",
        "  if (i == 3):\n",
        "    break\n",
        "  i += 1\n"
      ],
      "metadata": {
        "colab": {
          "base_uri": "https://localhost:8080/"
        },
        "id": "toDez2q_9Ttx",
        "outputId": "5538f9d9-5e91-4d5d-b2ef-2ee37fa46a62"
      },
      "execution_count": 7,
      "outputs": [
        {
          "output_type": "stream",
          "name": "stdout",
          "text": [
            "1\n",
            "2\n",
            "3\n"
          ]
        }
      ]
    },
    {
      "cell_type": "code",
      "source": [
        "i = 0\n",
        "while i < 6:\n",
        "  i += 1\n",
        "  if i == 3:\n",
        "    continue\n",
        "  print(i)\n"
      ],
      "metadata": {
        "colab": {
          "base_uri": "https://localhost:8080/"
        },
        "id": "R3Qb4GzY-Fwh",
        "outputId": "873092a7-3513-4a75-d75b-6b1ebff90d15"
      },
      "execution_count": 8,
      "outputs": [
        {
          "output_type": "stream",
          "name": "stdout",
          "text": [
            "1\n",
            "2\n",
            "4\n",
            "5\n",
            "6\n"
          ]
        }
      ]
    },
    {
      "cell_type": "code",
      "source": [
        "str1 = \"Hello\"   \n",
        "str2 = \" World\"  \n",
        "print(str1*3) # prints HelloHelloHello  \n",
        "print(str1+str2) # prints Hello world   \n",
        "print(str1[4]) # prints o              \n",
        "print(str1[2:4]) # prints ll                  \n",
        "print('w' in str1) # prints false as w is not present in str1  \n",
        "print('Wo' not in str2) # prints false as Wo is present in str2.   \n",
        "print(r'Hello\\n world') # prints Hello\\n world as it is written  \n",
        "print(\"The string str1 : %s\"%(str1)) # prints The string str : Hello "
      ],
      "metadata": {
        "colab": {
          "base_uri": "https://localhost:8080/"
        },
        "id": "Vd-aH_ZPAcDG",
        "outputId": "41d2762d-a566-4e86-c415-1f01121e636f"
      },
      "execution_count": 9,
      "outputs": [
        {
          "output_type": "stream",
          "name": "stdout",
          "text": [
            "HelloHelloHello\n",
            "Hello World\n",
            "o\n",
            "ll\n",
            "False\n",
            "False\n",
            "Hello\\n world\n",
            "The string str1 : Hello\n"
          ]
        }
      ]
    },
    {
      "cell_type": "code",
      "source": [
        "str = \"Java is Object-Oriented and Java is Portable \"  \n",
        "# Calling function  \n",
        "str2 = str.replace(\"Java\",\"Python\")  # replaces all the occurences\n",
        "# Displaying result  \n",
        "print(\"Old String: \\n\",str)  \n",
        "print(\"New String: \\n\",str2)  "
      ],
      "metadata": {
        "colab": {
          "base_uri": "https://localhost:8080/"
        },
        "id": "e4BlKOHMBEvc",
        "outputId": "7b0275d4-6d28-40f1-9f14-d02f88c2cbe5"
      },
      "execution_count": 10,
      "outputs": [
        {
          "output_type": "stream",
          "name": "stdout",
          "text": [
            "Old String: \n",
            " Java is Object-Oriented and Java is Portable \n",
            "New String: \n",
            " Python is Object-Oriented and Python is Portable \n"
          ]
        }
      ]
    }
  ]
}