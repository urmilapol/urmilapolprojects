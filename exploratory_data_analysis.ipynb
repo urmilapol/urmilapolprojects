{
  "nbformat": 4,
  "nbformat_minor": 0,
  "metadata": {
    "kernelspec": {
      "display_name": "Python 2",
      "language": "python",
      "name": "python2"
    },
    "language_info": {
      "codemirror_mode": {
        "name": "ipython",
        "version": 2
      },
      "file_extension": ".py",
      "mimetype": "text/x-python",
      "name": "python",
      "nbconvert_exporter": "python",
      "pygments_lexer": "ipython2",
      "version": "2.7.11"
    },
    "colab": {
      "name": "exploratory_data_analysis.ipynb",
      "provenance": [],
      "include_colab_link": true
    }
  },
  "cells": [
    {
      "cell_type": "markdown",
      "metadata": {
        "id": "view-in-github",
        "colab_type": "text"
      },
      "source": [
        "<a href=\"https://colab.research.google.com/github/urmilapol/urmilapolprojects/blob/master/exploratory_data_analysis.ipynb\" target=\"_parent\"><img src=\"https://colab.research.google.com/assets/colab-badge.svg\" alt=\"Open In Colab\"/></a>"
      ]
    },
    {
      "cell_type": "code",
      "metadata": {
        "collapsed": true,
        "id": "BSPdfMguTWxA"
      },
      "source": [
        "import pandas as pd"
      ],
      "execution_count": 1,
      "outputs": []
    },
    {
      "cell_type": "code",
      "metadata": {
        "colab": {
          "base_uri": "https://localhost:8080/"
        },
        "id": "mhnv6_AYTWxH",
        "outputId": "ab5c349d-e0eb-48ef-998a-1e1b4a15b547"
      },
      "source": [
        "%pylab inline"
      ],
      "execution_count": 2,
      "outputs": [
        {
          "output_type": "stream",
          "name": "stdout",
          "text": [
            "Populating the interactive namespace from numpy and matplotlib\n"
          ]
        }
      ]
    },
    {
      "cell_type": "markdown",
      "metadata": {
        "id": "ONCfrpvbTWxL"
      },
      "source": [
        "I assume that you have downloaded the data from the book and put it in the data folder."
      ]
    },
    {
      "cell_type": "markdown",
      "metadata": {
        "id": "FIKCuUlmTWxN"
      },
      "source": [
        "## Read in your data"
      ]
    },
    {
      "cell_type": "code",
      "metadata": {
        "id": "yEOPKPN6TWxO"
      },
      "source": [
        "ozone = pd.read_csv('../data/hourly_44201_2014.csv')"
      ],
      "execution_count": null,
      "outputs": []
    },
    {
      "cell_type": "code",
      "metadata": {
        "id": "LlYGUMCNTWxP"
      },
      "source": [
        "ozone.rename(columns=lambda x: x.strip(\" \").replace(' ', '_'), inplace=True)"
      ],
      "execution_count": null,
      "outputs": []
    },
    {
      "cell_type": "code",
      "metadata": {
        "id": "l5smvSF9TWxQ",
        "outputId": "65664321-c599-43c8-fbb5-a13ed265d3e2"
      },
      "source": [
        "ozone.columns"
      ],
      "execution_count": null,
      "outputs": [
        {
          "data": {
            "text/plain": [
              "Index([u'State_Code', u'County_Code', u'Site_Num', u'Parameter_Code', u'POC',\n",
              "       u'Latitude', u'Longitude', u'Datum', u'Parameter_Name', u'Date_Local',\n",
              "       u'Time_Local', u'Date_GMT', u'Time_GMT', u'Sample_Measurement',\n",
              "       u'Units_of_Measure', u'MDL', u'Uncertainty', u'Qualifier',\n",
              "       u'Method_Type', u'Method_Code', u'Method_Name', u'State_Name',\n",
              "       u'County_Name', u'Date_of_Last_Change'],\n",
              "      dtype='object')"
            ]
          },
          "execution_count": 5,
          "metadata": {},
          "output_type": "execute_result"
        }
      ]
    },
    {
      "cell_type": "markdown",
      "metadata": {
        "id": "wzN74K0mTWxT"
      },
      "source": [
        "## Check the Packaging"
      ]
    },
    {
      "cell_type": "code",
      "metadata": {
        "id": "crs-FTT8TWxU",
        "outputId": "f9032da3-ff5d-4f99-f65f-166be34fdba2"
      },
      "source": [
        "ozone.shape"
      ],
      "execution_count": null,
      "outputs": [
        {
          "data": {
            "text/plain": [
              "(9085391, 24)"
            ]
          },
          "execution_count": 6,
          "metadata": {},
          "output_type": "execute_result"
        }
      ]
    },
    {
      "cell_type": "code",
      "metadata": {
        "id": "8PCdyoXsTWxX",
        "outputId": "454e83b0-2b66-4a79-f33b-b0343df6dbde"
      },
      "source": [
        "# Number of rows\n",
        "ozone.shape[0]"
      ],
      "execution_count": null,
      "outputs": [
        {
          "data": {
            "text/plain": [
              "9085391"
            ]
          },
          "execution_count": 7,
          "metadata": {},
          "output_type": "execute_result"
        }
      ]
    },
    {
      "cell_type": "code",
      "metadata": {
        "id": "Ux3Vs-frTWxZ",
        "outputId": "e34594ef-4938-4e36-a58a-1ed3990e3cb2"
      },
      "source": [
        "# Number of columns\n",
        "ozone.shape[1]"
      ],
      "execution_count": null,
      "outputs": [
        {
          "data": {
            "text/plain": [
              "24"
            ]
          },
          "execution_count": 8,
          "metadata": {},
          "output_type": "execute_result"
        }
      ]
    },
    {
      "cell_type": "code",
      "metadata": {
        "id": "WvhvyCZBTWxa",
        "outputId": "a42ce59c-1b01-445a-c7c4-9bfae7e9f999"
      },
      "source": [
        "len(ozone.columns)"
      ],
      "execution_count": null,
      "outputs": [
        {
          "data": {
            "text/plain": [
              "24"
            ]
          },
          "execution_count": 9,
          "metadata": {},
          "output_type": "execute_result"
        }
      ]
    },
    {
      "cell_type": "markdown",
      "metadata": {
        "id": "Q_77YTStTWxb"
      },
      "source": [
        "## Look at the Top and the Bottom of your Data"
      ]
    },
    {
      "cell_type": "code",
      "metadata": {
        "id": "JLFkUxVCTWxb",
        "outputId": "c3a812e8-33d5-40a1-d32e-6efdca754776"
      },
      "source": [
        "ozone[ozone.columns[[5,6,9]]].head()"
      ],
      "execution_count": null,
      "outputs": [
        {
          "data": {
            "text/html": [
              "<div>\n",
              "<table border=\"1\" class=\"dataframe\">\n",
              "  <thead>\n",
              "    <tr style=\"text-align: right;\">\n",
              "      <th></th>\n",
              "      <th>Latitude</th>\n",
              "      <th>Longitude</th>\n",
              "      <th>Date_Local</th>\n",
              "    </tr>\n",
              "  </thead>\n",
              "  <tbody>\n",
              "    <tr>\n",
              "      <th>0</th>\n",
              "      <td>30.498001</td>\n",
              "      <td>-87.881412</td>\n",
              "      <td>2014-03-01</td>\n",
              "    </tr>\n",
              "    <tr>\n",
              "      <th>1</th>\n",
              "      <td>30.498001</td>\n",
              "      <td>-87.881412</td>\n",
              "      <td>2014-03-01</td>\n",
              "    </tr>\n",
              "    <tr>\n",
              "      <th>2</th>\n",
              "      <td>30.498001</td>\n",
              "      <td>-87.881412</td>\n",
              "      <td>2014-03-01</td>\n",
              "    </tr>\n",
              "    <tr>\n",
              "      <th>3</th>\n",
              "      <td>30.498001</td>\n",
              "      <td>-87.881412</td>\n",
              "      <td>2014-03-01</td>\n",
              "    </tr>\n",
              "    <tr>\n",
              "      <th>4</th>\n",
              "      <td>30.498001</td>\n",
              "      <td>-87.881412</td>\n",
              "      <td>2014-03-01</td>\n",
              "    </tr>\n",
              "  </tbody>\n",
              "</table>\n",
              "</div>"
            ],
            "text/plain": [
              "    Latitude  Longitude  Date_Local\n",
              "0  30.498001 -87.881412  2014-03-01\n",
              "1  30.498001 -87.881412  2014-03-01\n",
              "2  30.498001 -87.881412  2014-03-01\n",
              "3  30.498001 -87.881412  2014-03-01\n",
              "4  30.498001 -87.881412  2014-03-01"
            ]
          },
          "execution_count": 10,
          "metadata": {},
          "output_type": "execute_result"
        }
      ]
    },
    {
      "cell_type": "code",
      "metadata": {
        "id": "x-sOZMH4TWxc",
        "outputId": "8cd550fd-212a-42d8-d4c2-41439bca1f98"
      },
      "source": [
        "ozone[ozone.columns[[5,6,9]]].tail()"
      ],
      "execution_count": null,
      "outputs": [
        {
          "data": {
            "text/html": [
              "<div>\n",
              "<table border=\"1\" class=\"dataframe\">\n",
              "  <thead>\n",
              "    <tr style=\"text-align: right;\">\n",
              "      <th></th>\n",
              "      <th>Latitude</th>\n",
              "      <th>Longitude</th>\n",
              "      <th>Date_Local</th>\n",
              "    </tr>\n",
              "  </thead>\n",
              "  <tbody>\n",
              "    <tr>\n",
              "      <th>9085386</th>\n",
              "      <td>31.7122</td>\n",
              "      <td>-106.3953</td>\n",
              "      <td>2014-08-31</td>\n",
              "    </tr>\n",
              "    <tr>\n",
              "      <th>9085387</th>\n",
              "      <td>31.7122</td>\n",
              "      <td>-106.3953</td>\n",
              "      <td>2014-08-31</td>\n",
              "    </tr>\n",
              "    <tr>\n",
              "      <th>9085388</th>\n",
              "      <td>31.7122</td>\n",
              "      <td>-106.3953</td>\n",
              "      <td>2014-08-31</td>\n",
              "    </tr>\n",
              "    <tr>\n",
              "      <th>9085389</th>\n",
              "      <td>31.7122</td>\n",
              "      <td>-106.3953</td>\n",
              "      <td>2014-08-31</td>\n",
              "    </tr>\n",
              "    <tr>\n",
              "      <th>9085390</th>\n",
              "      <td>31.7122</td>\n",
              "      <td>-106.3953</td>\n",
              "      <td>2014-08-31</td>\n",
              "    </tr>\n",
              "  </tbody>\n",
              "</table>\n",
              "</div>"
            ],
            "text/plain": [
              "         Latitude  Longitude  Date_Local\n",
              "9085386   31.7122  -106.3953  2014-08-31\n",
              "9085387   31.7122  -106.3953  2014-08-31\n",
              "9085388   31.7122  -106.3953  2014-08-31\n",
              "9085389   31.7122  -106.3953  2014-08-31\n",
              "9085390   31.7122  -106.3953  2014-08-31"
            ]
          },
          "execution_count": 11,
          "metadata": {},
          "output_type": "execute_result"
        }
      ]
    },
    {
      "cell_type": "markdown",
      "metadata": {
        "id": "lyp70KOATWxc"
      },
      "source": [
        "## ABC: Always be Checking Your “n”s"
      ]
    },
    {
      "cell_type": "code",
      "metadata": {
        "id": "UjFLFfE6TWxd",
        "outputId": "a6e9b70a-5f0b-4080-d768-ff56f4844df3"
      },
      "source": [
        "ozone.Time_Local.head()"
      ],
      "execution_count": null,
      "outputs": [
        {
          "data": {
            "text/plain": [
              "0    01:00\n",
              "1    02:00\n",
              "2    03:00\n",
              "3    04:00\n",
              "4    05:00\n",
              "Name: Time_Local, dtype: object"
            ]
          },
          "execution_count": 12,
          "metadata": {},
          "output_type": "execute_result"
        }
      ]
    },
    {
      "cell_type": "code",
      "metadata": {
        "id": "7vLXhZoJTWxe",
        "outputId": "c0b8783d-67cd-4452-bde2-57df94e26843"
      },
      "source": [
        "ozone.Time_Local.unique()"
      ],
      "execution_count": null,
      "outputs": [
        {
          "data": {
            "text/plain": [
              "array(['01:00', '02:00', '03:00', '04:00', '05:00', '06:00', '07:00',\n",
              "       '08:00', '09:00', '10:00', '11:00', '12:00', '13:00', '14:00',\n",
              "       '15:00', '16:00', '17:00', '18:00', '19:00', '20:00', '21:00',\n",
              "       '22:00', '23:00', '00:00'], dtype=object)"
            ]
          },
          "execution_count": 13,
          "metadata": {},
          "output_type": "execute_result"
        }
      ]
    },
    {
      "cell_type": "code",
      "metadata": {
        "id": "bwemrUMiTWxe",
        "outputId": "5847f2c5-7dff-439f-80eb-dda45e003de6"
      },
      "source": [
        "ozone[ozone.Time_Local == \"13:14\"]"
      ],
      "execution_count": null,
      "outputs": [
        {
          "data": {
            "text/html": [
              "<div>\n",
              "<table border=\"1\" class=\"dataframe\">\n",
              "  <thead>\n",
              "    <tr style=\"text-align: right;\">\n",
              "      <th></th>\n",
              "      <th>State_Code</th>\n",
              "      <th>County_Code</th>\n",
              "      <th>Site_Num</th>\n",
              "      <th>Parameter_Code</th>\n",
              "      <th>POC</th>\n",
              "      <th>Latitude</th>\n",
              "      <th>Longitude</th>\n",
              "      <th>Datum</th>\n",
              "      <th>Parameter_Name</th>\n",
              "      <th>Date_Local</th>\n",
              "      <th>...</th>\n",
              "      <th>Units_of_Measure</th>\n",
              "      <th>MDL</th>\n",
              "      <th>Uncertainty</th>\n",
              "      <th>Qualifier</th>\n",
              "      <th>Method_Type</th>\n",
              "      <th>Method_Code</th>\n",
              "      <th>Method_Name</th>\n",
              "      <th>State_Name</th>\n",
              "      <th>County_Name</th>\n",
              "      <th>Date_of_Last_Change</th>\n",
              "    </tr>\n",
              "  </thead>\n",
              "  <tbody>\n",
              "  </tbody>\n",
              "</table>\n",
              "<p>0 rows × 24 columns</p>\n",
              "</div>"
            ],
            "text/plain": [
              "Empty DataFrame\n",
              "Columns: [State_Code, County_Code, Site_Num, Parameter_Code, POC, Latitude, Longitude, Datum, Parameter_Name, Date_Local, Time_Local, Date_GMT, Time_GMT, Sample_Measurement, Units_of_Measure, MDL, Uncertainty, Qualifier, Method_Type, Method_Code, Method_Name, State_Name, County_Name, Date_of_Last_Change]\n",
              "Index: []\n",
              "\n",
              "[0 rows x 24 columns]"
            ]
          },
          "execution_count": 14,
          "metadata": {},
          "output_type": "execute_result"
        }
      ]
    },
    {
      "cell_type": "code",
      "metadata": {
        "id": "j5e631orTWxf",
        "outputId": "284539b0-986f-4e39-ca88-5e586ecd209f"
      },
      "source": [
        "ozone.State_Name.unique()"
      ],
      "execution_count": null,
      "outputs": [
        {
          "data": {
            "text/plain": [
              "array(['Alabama', 'Alaska', 'Arizona', 'Arkansas', 'California',\n",
              "       'Colorado', 'Connecticut', 'Delaware', 'District Of Columbia',\n",
              "       'Florida', 'Georgia', 'Hawaii', 'Idaho', 'Illinois', 'Indiana',\n",
              "       'Iowa', 'Kansas', 'Kentucky', 'Louisiana', 'Maine', 'Maryland',\n",
              "       'Massachusetts', 'Michigan', 'Minnesota', 'Mississippi', 'Missouri',\n",
              "       'Montana', 'Nebraska', 'Nevada', 'New Hampshire', 'New Jersey',\n",
              "       'New Mexico', 'New York', 'North Carolina', 'North Dakota', 'Ohio',\n",
              "       'Oklahoma', 'Oregon', 'Pennsylvania', 'Rhode Island',\n",
              "       'South Carolina', 'South Dakota', 'Tennessee', 'Texas', 'Utah',\n",
              "       'Vermont', 'Virginia', 'Washington', 'West Virginia', 'Wisconsin',\n",
              "       'Wyoming', 'Puerto Rico', 'Country Of Mexico'], dtype=object)"
            ]
          },
          "execution_count": 15,
          "metadata": {},
          "output_type": "execute_result"
        }
      ]
    },
    {
      "cell_type": "code",
      "metadata": {
        "id": "JTBm26SrTWxg",
        "outputId": "767f0a52-bef4-47c0-c39f-a2df769b8239"
      },
      "source": [
        "len(ozone.State_Name.unique())"
      ],
      "execution_count": null,
      "outputs": [
        {
          "data": {
            "text/plain": [
              "53"
            ]
          },
          "execution_count": 16,
          "metadata": {},
          "output_type": "execute_result"
        }
      ]
    },
    {
      "cell_type": "markdown",
      "metadata": {
        "id": "NMvBb9dxTWxg"
      },
      "source": [
        "## Validate With at Least One External Data Source"
      ]
    },
    {
      "cell_type": "code",
      "metadata": {
        "id": "5U_TfJJmTWxg",
        "outputId": "3906219b-1cf1-407b-dd74-1efc64093b1d"
      },
      "source": [
        "ozone.Sample_Measurement.describe()"
      ],
      "execution_count": null,
      "outputs": [
        {
          "data": {
            "text/plain": [
              "count    9.085391e+06\n",
              "mean     3.026188e-02\n",
              "std      1.547955e-02\n",
              "min      0.000000e+00\n",
              "25%      1.900000e-02\n",
              "50%      3.000000e-02\n",
              "75%      4.100000e-02\n",
              "max      2.410000e-01\n",
              "Name: Sample_Measurement, dtype: float64"
            ]
          },
          "execution_count": 17,
          "metadata": {},
          "output_type": "execute_result"
        }
      ]
    },
    {
      "cell_type": "code",
      "metadata": {
        "id": "9_qFCJ2DTWxh",
        "outputId": "796a071a-91d3-4f28-b42f-7963e1176163"
      },
      "source": [
        "ozone.Sample_Measurement.quantile(np.arange(0,1.01,0.1))"
      ],
      "execution_count": null,
      "outputs": [
        {
          "data": {
            "text/plain": [
              "0.0    0.000\n",
              "0.1    0.009\n",
              "0.2    0.016\n",
              "0.3    0.022\n",
              "0.4    0.026\n",
              "0.5    0.030\n",
              "0.6    0.034\n",
              "0.7    0.039\n",
              "0.8    0.043\n",
              "0.9    0.050\n",
              "1.0    0.241\n",
              "Name: Sample_Measurement, dtype: float64"
            ]
          },
          "execution_count": 18,
          "metadata": {},
          "output_type": "execute_result"
        }
      ]
    },
    {
      "cell_type": "markdown",
      "metadata": {
        "id": "x7rr-vURTWxh"
      },
      "source": [
        "## Make a Plot"
      ]
    },
    {
      "cell_type": "code",
      "metadata": {
        "id": "uEwfevp5TWxi"
      },
      "source": [
        "grouped = ozone.groupby(['State_Name'])"
      ],
      "execution_count": null,
      "outputs": []
    },
    {
      "cell_type": "code",
      "metadata": {
        "id": "4zkqUSE0TWxi"
      },
      "source": [
        "states = grouped.Sample_Measurement.groups.keys()\n",
        "states.sort()\n",
        "data = []\n",
        "for state in states:\n",
        "    data.append(grouped.Sample_Measurement.get_group(state))"
      ],
      "execution_count": null,
      "outputs": []
    },
    {
      "cell_type": "code",
      "metadata": {
        "id": "ram7prVaTWxi",
        "outputId": "cbfd1051-0eda-4e51-a679-8dac14709343"
      },
      "source": [
        "figsize(12.8, 8.4)\n",
        "ax = pyplot.boxplot(data)\n",
        "ax = pyplot.xticks(range(1,len(states)+1),states,rotation='vertical')\n",
        "pyplot.grid(which='both')\n",
        "pyplot.ylim([-0.05,0.375])\n",
        "pyplot.ylabel('Ozone level(ppm)')"
      ],
      "execution_count": null,
      "outputs": [
        {
          "data": {
            "text/plain": [
              "<matplotlib.text.Text at 0x17f63b110>"
            ]
          },
          "execution_count": 21,
          "metadata": {},
          "output_type": "execute_result"
        },
        {
          "data": {
            "image/png": "[encoded data removed]",
            "text/plain": [
              "<matplotlib.figure.Figure at 0x13254ded0>"
            ]
          },
          "metadata": {},
          "output_type": "display_data"
        }
      ]
    }
  ]
}