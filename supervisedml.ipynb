{
  "metadata": {
    "kernelspec": {
      "language": "python",
      "display_name": "Python 3",
      "name": "python3"
    },
    "language_info": {
      "pygments_lexer": "ipython3",
      "nbconvert_exporter": "python",
      "version": "3.6.4",
      "file_extension": ".py",
      "codemirror_mode": {
        "name": "ipython",
        "version": 3
      },
      "name": "python",
      "mimetype": "text/x-python"
    },
    "colab": {
      "name": "supervisedml.ipynb",
      "provenance": [],
      "include_colab_link": true
    }
  },
  "nbformat_minor": 0,
  "nbformat": 4,
  "cells": [
    {
      "cell_type": "markdown",
      "metadata": {
        "id": "view-in-github",
        "colab_type": "text"
      },
      "source": [
        "<a href=\"https://colab.research.google.com/github/urmilapol/urmilapolprojects/blob/master/supervisedml.ipynb\" target=\"_parent\"><img src=\"https://colab.research.google.com/assets/colab-badge.svg\" alt=\"Open In Colab\"/></a>"
      ]
    },
    {
      "cell_type": "code",
      "source": [
        "# This Python 3 environment comes with many helpful analytics libraries installed\n",
        "# It is defined by the kaggle/python docker image: https://github.com/kaggle/docker-python\n",
        "# For example, here's several helpful packages to load in \n",
        "\n",
        "import numpy as np # linear algebra\n",
        "import pandas as pd # data processing, CSV file I/O (e.g. pd.read_csv)\n",
        "\n",
        "# Input data files are available in the \"../input/\" directory.\n",
        "# For example, running this (by clicking run or pressing Shift+Enter) will list all files under the input directory\n",
        "\n",
        "import os\n",
        "for dirname, _, filenames in os.walk('/kaggle/input'):\n",
        "    for filename in filenames:\n",
        "        print(os.path.join(dirname, filename))\n",
        "\n",
        "# Any results you write to the current directory are saved as output."
      ],
      "metadata": {
        "_uuid": "8f2839f25d086af736a60e9eeb907d3b93b6e0e5",
        "_cell_guid": "b1076dfc-b9ad-4769-8c92-a6c4dae69d19",
        "trusted": true,
        "id": "tdRVBtlC9aKw"
      },
      "execution_count": null,
      "outputs": []
    },
    {
      "cell_type": "markdown",
      "source": [
        "1. **Import Libraries**"
      ],
      "metadata": {
        "id": "WzIoBkqH9aKz"
      }
    },
    {
      "cell_type": "code",
      "source": [
        "import pandas as pd\n",
        "import numpy as np\n",
        "\n",
        "import matplotlib.pyplot as plt\n",
        "import seaborn as sns\n",
        "\n",
        "from imblearn.over_sampling import SMOTE\n",
        "from sklearn.preprocessing import LabelEncoder\n",
        "from sklearn.linear_model import LogisticRegression\n",
        "from sklearn.tree import DecisionTreeClassifier\n",
        "from sklearn.utils import resample\n",
        "from sklearn.model_selection import train_test_split, cross_val_score, GridSearchCV\n",
        "from sklearn import neighbors\n",
        "from sklearn.metrics import confusion_matrix, precision_score, recall_score"
      ],
      "metadata": {
        "trusted": true,
        "id": "tJ6HoEoD9aK0"
      },
      "execution_count": null,
      "outputs": []
    },
    {
      "cell_type": "markdown",
      "source": [
        "**2. Import Data**\n",
        "\n",
        "This is a dataset from IBM Watson Analytics. This dataset gives you information about your customers. You can predict their behavior to retain your customers. You can analyze all relevant customer data and develop focused customer retention programs. And to understand customer demographics and buying behavior. Use predictive analytics to analyze the most profitable customers and how they interact. Take targeted actions to increase profitable customer response, retention, and growth."
      ],
      "metadata": {
        "id": "8O9ETN2z9aK1"
      }
    },
    {
      "cell_type": "code",
      "source": [
        "data = pd.read_csv(\"/kaggle/input/ibm-watson-marketing-customer-value-data/WA_Fn-UseC_-Marketing-Customer-Value-Analysis.csv\")"
      ],
      "metadata": {
        "_uuid": "d629ff2d2480ee46fbb7e2d37f6b5fab8052498a",
        "_cell_guid": "79c7e3d0-c299-4dcb-8224-4455121ee9b0",
        "trusted": true,
        "id": "vb9AdlVx9aK2"
      },
      "execution_count": null,
      "outputs": []
    },
    {
      "cell_type": "code",
      "source": [
        "data.head()"
      ],
      "metadata": {
        "trusted": true,
        "id": "08QqYijE9aK2"
      },
      "execution_count": null,
      "outputs": []
    },
    {
      "cell_type": "markdown",
      "source": [
        "**3. Exploratory Data Analysis (EDA)**"
      ],
      "metadata": {
        "id": "Y2DOiWu29aK3"
      }
    },
    {
      "cell_type": "code",
      "source": [
        "data.columns"
      ],
      "metadata": {
        "trusted": true,
        "id": "qRwImZCJ9aK3"
      },
      "execution_count": null,
      "outputs": []
    },
    {
      "cell_type": "code",
      "source": [
        "data.shape"
      ],
      "metadata": {
        "trusted": true,
        "id": "hITAYyXf9aK4"
      },
      "execution_count": null,
      "outputs": []
    },
    {
      "cell_type": "code",
      "source": [
        "data.dtypes"
      ],
      "metadata": {
        "trusted": true,
        "id": "l8TBq90H9aK4"
      },
      "execution_count": null,
      "outputs": []
    },
    {
      "cell_type": "code",
      "source": [
        "data.describe()"
      ],
      "metadata": {
        "trusted": true,
        "id": "y99_SLx_9aK5"
      },
      "execution_count": null,
      "outputs": []
    },
    {
      "cell_type": "markdown",
      "source": [
        "Your data contains 9134 customers with information about their income, education, gender,residence and so on. Each customer owns a car and you as entrepreneur offers 4 different car insurances to them. The target of this dataset is the Response. The response can be \"Yes\" - the customer accept the offer and \"No\" - the customer didn´t accept the offer."
      ],
      "metadata": {
        "id": "fFA16ZW29aK5"
      }
    },
    {
      "cell_type": "code",
      "source": [
        "sns.countplot(\"Response\", hue=\"Gender\", data = data)"
      ],
      "metadata": {
        "trusted": true,
        "id": "wOc7_de79aK6"
      },
      "execution_count": null,
      "outputs": []
    },
    {
      "cell_type": "code",
      "source": [
        "data.Response.value_counts()"
      ],
      "metadata": {
        "trusted": true,
        "id": "YWRZB0R49aK6"
      },
      "execution_count": null,
      "outputs": []
    },
    {
      "cell_type": "markdown",
      "source": [
        "Only 1308 customer accept the offer."
      ],
      "metadata": {
        "id": "KPEjEnpX9aK6"
      }
    },
    {
      "cell_type": "code",
      "source": [
        "print(\"Only\",round((len(data[(data.Response == \"Yes\")])/len(data.Response)*100),2),\"%\",\"of our customer accept an offer made by your Sales Team.\")"
      ],
      "metadata": {
        "trusted": true,
        "id": "rYjWhSBQ9aK6"
      },
      "execution_count": null,
      "outputs": []
    },
    {
      "cell_type": "code",
      "source": [
        "data.groupby(\"Sales Channel\").agg({\"Response\":\"count\"})"
      ],
      "metadata": {
        "trusted": true,
        "id": "q87AxcCd9aK7"
      },
      "execution_count": null,
      "outputs": []
    },
    {
      "cell_type": "markdown",
      "source": [
        "The most Offers were made by agents (3477 offers), the least via web."
      ],
      "metadata": {
        "id": "1e_bqa0o9aK7"
      }
    },
    {
      "cell_type": "code",
      "source": [
        "channel = list(data[\"Sales Channel\"].unique())\n",
        "for i in channel:\n",
        "    output = len(data[(data[\"Sales Channel\"] == i) & \n",
        "                      (data[\"Response\"] == \"Yes\")]) /len(data[(data[\"Sales Channel\"] == i)])\n",
        "    print(round((output * 100),2), \"% of offers via the Sales Channel\", i, \"were accepted.\")"
      ],
      "metadata": {
        "trusted": true,
        "id": "KvVhnqtt9aK7"
      },
      "execution_count": null,
      "outputs": []
    },
    {
      "cell_type": "code",
      "source": [
        "data.dtypes"
      ],
      "metadata": {
        "trusted": true,
        "id": "NQDXg9V79aK7"
      },
      "execution_count": null,
      "outputs": []
    },
    {
      "cell_type": "code",
      "source": [
        "objects = [\"State\",\"Response\",\"Coverage\",\"Education\",\"EmploymentStatus\",\n",
        "           \"Gender\",\"Location Code\",\"Marital Status\",\"Policy Type\",\"Policy\",\"Renew Offer Type\",\"Sales Channel\",\n",
        "           \"Vehicle Class\",\"Vehicle Size\"]\n",
        "\n",
        "for obj in objects:\n",
        "    print(data[obj].value_counts())"
      ],
      "metadata": {
        "trusted": true,
        "id": "09THS7Te9aK8"
      },
      "execution_count": null,
      "outputs": []
    },
    {
      "cell_type": "markdown",
      "source": [
        "**Results**\n",
        "\n",
        "All categorial features are well distributet, so I will keep them and encode them to numerical data.\n",
        "\n",
        "Some columns don´t make sense or are not so important, e.g. Customer (because it´s just a unique number), Policy is the same as Policy Type, Effective To Date is also not important, so I will drop them.\n",
        "\n",
        "The data is inbalanced regarding the outcome \"Response\""
      ],
      "metadata": {
        "id": "pbZrs92I9aK8"
      }
    },
    {
      "cell_type": "markdown",
      "source": [
        "**4. Data Analysis**"
      ],
      "metadata": {
        "id": "7GAiEmku9aK8"
      }
    },
    {
      "cell_type": "code",
      "source": [
        "data = data.drop(columns={\"Customer\",\"Policy\", \"Effective To Date\"})"
      ],
      "metadata": {
        "trusted": true,
        "id": "4_KgkRKs9aK8"
      },
      "execution_count": null,
      "outputs": []
    },
    {
      "cell_type": "code",
      "source": [
        "# Define a list with all features which are categorial\n",
        "\n",
        "data_categorial = data.select_dtypes(include=[\"object\"])\n",
        "categories = list(data_categorial.columns)\n",
        "categories"
      ],
      "metadata": {
        "trusted": true,
        "id": "d4u1Y-QK9aK9"
      },
      "execution_count": null,
      "outputs": []
    },
    {
      "cell_type": "code",
      "source": [
        "# Encode the categorial Data to numerical\n",
        "\n",
        "lb = LabelEncoder()\n",
        "\n",
        "for i in categories:\n",
        "    data[i] = lb.fit_transform(data[i])\n"
      ],
      "metadata": {
        "trusted": true,
        "id": "09HEHqS39aK9"
      },
      "execution_count": null,
      "outputs": []
    },
    {
      "cell_type": "code",
      "source": [
        "sns.heatmap(data.corr())"
      ],
      "metadata": {
        "trusted": true,
        "id": "V5QRMWq89aK9"
      },
      "execution_count": null,
      "outputs": []
    },
    {
      "cell_type": "markdown",
      "source": [
        "**5. Supervised Machine Learning with imbalanced data**\n",
        "\n",
        "Let´s start now with the prediction of the response future customers.\n",
        "For that we have to find the right model. Since the data has a target which is separated into Yes/No, we can use the Classification of supervised machine learning. \n",
        "Following models can be used:\n",
        "\n",
        "* Logistic Regression\n",
        "* KNeighbours Classifier\n",
        "* Support Vector Machine\n",
        "* Decision Tree"
      ],
      "metadata": {
        "id": "9n4Y2e5-9aK9"
      }
    },
    {
      "cell_type": "code",
      "source": [
        "y = data[\"Response\"]"
      ],
      "metadata": {
        "trusted": true,
        "id": "r1gBhm2B9aK9"
      },
      "execution_count": null,
      "outputs": []
    },
    {
      "cell_type": "code",
      "source": [
        "X = data.drop([\"Response\"], axis=1)"
      ],
      "metadata": {
        "trusted": true,
        "id": "thHs2pqw9aK-"
      },
      "execution_count": null,
      "outputs": []
    },
    {
      "cell_type": "code",
      "source": [
        "X_train, X_test, y_train, y_test = train_test_split(X, y, test_size = 0.2, random_state=29)"
      ],
      "metadata": {
        "trusted": true,
        "id": "Etp-wJzJ9aK-"
      },
      "execution_count": null,
      "outputs": []
    },
    {
      "cell_type": "code",
      "source": [
        "lr = LogisticRegression()\n",
        "# initialize the model (=lr)\n",
        "\n",
        "lr.fit(X_train,y_train)\n",
        "#fit the model to the train set\n",
        "\n",
        "acc = lr.score(X_test,y_test)*100\n",
        "# comapring the test with the data\n",
        "\n",
        "print(\"Logistic Regression Test Accuracy\", round(acc, 2),\"%\")"
      ],
      "metadata": {
        "trusted": true,
        "id": "8upHc9rx9aK-"
      },
      "execution_count": null,
      "outputs": []
    },
    {
      "cell_type": "code",
      "source": [
        "from sklearn.neighbors import KNeighborsClassifier\n",
        "knn = KNeighborsClassifier(n_neighbors = 2)  # n_neighbors means k\n",
        "knn.fit(X_train, y_train)\n",
        "# prediction = knn.predict(x_test)\n",
        "\n",
        "y_pred = knn.predict(X_test)\n",
        "\n",
        "acc = knn.score(X_test, y_test)*100\n",
        "print(\"2 neighbors KNN Score: \",round(acc,2),\"%\")"
      ],
      "metadata": {
        "trusted": true,
        "id": "fXzLjlGL9aK-"
      },
      "execution_count": null,
      "outputs": []
    },
    {
      "cell_type": "code",
      "source": [
        "from sklearn.svm import SVC\n",
        "svm = SVC()\n",
        "svm.fit(X_train, y_train)\n",
        "\n",
        "acc = svm.score(X_test,y_test)*100\n",
        "print(\"SVM Algorithm Test Accuracy\", round(acc, 2),\"%\")"
      ],
      "metadata": {
        "trusted": true,
        "id": "3ksc8hdk9aK-"
      },
      "execution_count": null,
      "outputs": []
    },
    {
      "cell_type": "code",
      "source": [
        "from sklearn.tree import DecisionTreeClassifier\n",
        "dtc = DecisionTreeClassifier()\n",
        "dtc.fit(X_train, y_train)\n",
        "\n",
        "acc = dtc.score(X_test, y_test)*100\n",
        "print(\"Decision Tree Test Accuracy\", round(acc, 2),\"%\")"
      ],
      "metadata": {
        "trusted": true,
        "id": "Reg-XudU9aK_"
      },
      "execution_count": null,
      "outputs": []
    },
    {
      "cell_type": "markdown",
      "source": [
        "**Results**\n",
        "\n",
        "The Models have a really high Accuracy, the model Support Vector Machine seems to be the best decision to use with more than 99% Accuracy. \n",
        "\n",
        "BUT! this is because the data is imbalanced. The Response with \"No\" has a percentage of 86%, so the models are not useful and don´t give the accurate view of the data."
      ],
      "metadata": {
        "id": "25F6rymq9aK_"
      }
    },
    {
      "cell_type": "markdown",
      "source": [
        "**6. Supervised Learning with balanced Data**\n",
        "\n",
        "To have a better view on the data, I´m going to downsample the target. This is better than oversampling in my opinion, so we don´t give too nuch wight to one certain target."
      ],
      "metadata": {
        "id": "COYapQNY9aK_"
      }
    },
    {
      "cell_type": "code",
      "source": [
        "#Downsampling:\n",
        "\n",
        "#1. Test-Train Split!!\n",
        "# concatenate our training data back together\n",
        "\n",
        "X_down = pd.concat([X_train, y_train], axis=1)\n",
        "\n",
        "# separate minority and majority classes\n",
        "\n",
        "no_effect = X_down[X_down.Response==0]\n",
        "effect = X_down[X_down.Response==1]\n",
        "\n",
        "# downsample majority\n",
        "\n",
        "no_effect_downsampled = resample(no_effect,\n",
        "                               replace = False, # sample without replacement\n",
        "                               n_samples = len(effect), # match minority n\n",
        "                               random_state = 27) # reproducible results\n",
        "\n",
        "# combine minority and downsampled majority\n",
        "\n",
        "downsampled = pd.concat([no_effect_downsampled, effect])\n",
        "\n",
        "# checking counts\n",
        "\n",
        "downsampled.Response.value_counts()"
      ],
      "metadata": {
        "trusted": true,
        "id": "fTMDm7_n9aK_"
      },
      "execution_count": null,
      "outputs": []
    },
    {
      "cell_type": "code",
      "source": [
        "downsampled.shape"
      ],
      "metadata": {
        "trusted": true,
        "id": "BzaQ85DN9aK_"
      },
      "execution_count": null,
      "outputs": []
    },
    {
      "cell_type": "code",
      "source": [
        "y_train_down = downsampled.Response"
      ],
      "metadata": {
        "trusted": true,
        "id": "1Oxm1kLp9aK_"
      },
      "execution_count": null,
      "outputs": []
    },
    {
      "cell_type": "code",
      "source": [
        "X_train_down = downsampled.drop([\"Response\"], axis = 1)"
      ],
      "metadata": {
        "trusted": true,
        "id": "Lv3KOlbs9aLA"
      },
      "execution_count": null,
      "outputs": []
    },
    {
      "cell_type": "markdown",
      "source": [
        "6.1. **LOGISTIC REGRESSION**"
      ],
      "metadata": {
        "id": "IGWxqDLJ9aLA"
      }
    },
    {
      "cell_type": "code",
      "source": [
        "lr = LogisticRegression()\n",
        "# initialize the model (=lr)\n",
        "\n",
        "lr.fit(X_train_down,y_train_down)\n",
        "#fit the model to the train set\n",
        "\n",
        "y_pred = lr.predict(X_test)\n",
        "\n",
        "acc = lr.score(X_test,y_test)*100\n",
        "# comapring the test with the data\n",
        "\n",
        "print(\"Prediction\",y_pred[:5])\n",
        "print(\"Logistic Regression Test Accuracy\", round(acc, 2),\"%\")"
      ],
      "metadata": {
        "trusted": true,
        "id": "z59wPwWj9aLA"
      },
      "execution_count": null,
      "outputs": []
    },
    {
      "cell_type": "markdown",
      "source": [
        "Accuracy is very bad, let´s try another model"
      ],
      "metadata": {
        "id": "Op_ga5Vc9aLA"
      }
    },
    {
      "cell_type": "markdown",
      "source": [
        "6.2. **K-NEAREST NEIGHBOUR** "
      ],
      "metadata": {
        "id": "4lt4sNxK9aLA"
      }
    },
    {
      "cell_type": "code",
      "source": [
        "n_neighbors = 2\n",
        "knn = KNeighborsClassifier(n_neighbors = n_neighbors)  # n_neighbors means k\n",
        "knn.fit(X_train_down, y_train_down)\n",
        "\n",
        "y_pred = knn.predict(X_test)\n",
        "\n",
        "acc = knn.score(X_test, y_test)*100\n",
        "\n",
        "print(\"Prediction:\", y_pred[:5])\n",
        "print(n_neighbors,\"neighbors KNN Score: \",round(acc,2),\"%\")"
      ],
      "metadata": {
        "trusted": true,
        "id": "WhnoumcL9aLA"
      },
      "execution_count": null,
      "outputs": []
    },
    {
      "cell_type": "code",
      "source": [
        "acc_train = knn.score(X_train, y_train)*100\n",
        "print(\"The accuracy score for the training data is: \",round(acc_train,2),\"%\")\n",
        "acc_test = knn.score(X_test,y_test)*100\n",
        "print(\"The accuracy score for the test data is: \",round(acc_test,2),\"%\")\n",
        "\n"
      ],
      "metadata": {
        "trusted": true,
        "id": "Hyc--c749aLA"
      },
      "execution_count": null,
      "outputs": []
    },
    {
      "cell_type": "code",
      "source": [
        "cv_results = cross_val_score(knn, X_train_down,y_train_down, cv = 5)\n",
        "cv_results"
      ],
      "metadata": {
        "trusted": true,
        "id": "cW4ascMp9aLA"
      },
      "execution_count": null,
      "outputs": []
    },
    {
      "cell_type": "markdown",
      "source": [
        "Accuracy is better and also the data is continuous."
      ],
      "metadata": {
        "id": "a3KZ9lmJ9aLB"
      }
    },
    {
      "cell_type": "markdown",
      "source": [
        "6.3. **DECISION TREE**"
      ],
      "metadata": {
        "id": "ojCI9JTf9aLB"
      }
    },
    {
      "cell_type": "code",
      "source": [
        "dtc = DecisionTreeClassifier()\n",
        "dtc.fit(X_train_down, y_train_down)\n",
        "\n",
        "y_pred_dtc = dtc.predict(X_test)\n",
        "\n",
        "acc_dtc = dtc.score(X_test, y_test)*100\n",
        "\n",
        "print(\"Prediction\", y_pred_dtc[:5])\n",
        "print(\"Decision Tree Test Accuracy\", round(acc_dtc, 2),\"%\")"
      ],
      "metadata": {
        "trusted": true,
        "id": "Mvxvpuem9aLB"
      },
      "execution_count": null,
      "outputs": []
    },
    {
      "cell_type": "code",
      "source": [
        "acc_train = dtc.score(X_train, y_train)*100\n",
        "print(\"The accuracy score for the training data is: \",round(acc_train,2),\"%\")\n",
        "acc_test = dtc.score(X_test,y_test)*100\n",
        "print(\"The accuracy score for the test data is: \",round(acc_test,2),\"%\")"
      ],
      "metadata": {
        "trusted": true,
        "id": "ul3T-i_y9aLB"
      },
      "execution_count": null,
      "outputs": []
    },
    {
      "cell_type": "code",
      "source": [
        "cv_results = cross_val_score(dtc, X_train_down,y_train_down, cv = 5)\n",
        "cv_results"
      ],
      "metadata": {
        "trusted": true,
        "id": "2ilSWUjC9aLB"
      },
      "execution_count": null,
      "outputs": []
    },
    {
      "cell_type": "code",
      "source": [
        "cnf_matrix = confusion_matrix(y_test, y_pred_dtc)\n",
        "cnf_matrix"
      ],
      "metadata": {
        "trusted": true,
        "id": "Tqo7EPzK9aLB"
      },
      "execution_count": null,
      "outputs": []
    },
    {
      "cell_type": "code",
      "source": [
        "dtc_recall = recall_score(y_test, y_pred_dtc)\n",
        "dtc_recall"
      ],
      "metadata": {
        "trusted": true,
        "id": "RexAmX8u9aLB"
      },
      "execution_count": null,
      "outputs": []
    },
    {
      "cell_type": "code",
      "source": [
        "271/(271+4)"
      ],
      "metadata": {
        "trusted": true,
        "id": "zBLHftom9aLC"
      },
      "execution_count": null,
      "outputs": []
    },
    {
      "cell_type": "code",
      "source": [
        "dtc_precision = precision_score(y_test,y_pred_dtc)\n",
        "dtc_precision"
      ],
      "metadata": {
        "trusted": true,
        "id": "5A-Ak9ew9aLC"
      },
      "execution_count": null,
      "outputs": []
    },
    {
      "cell_type": "markdown",
      "source": [
        "The Decision Tree has the best accuracy and trainset is continuous. Recall is very high - that´s good. So the model can predict quite well that a customer won´t accept the offer. In this case, as an entrepreneur you know now in which customer you shouldn´t invest. So focus on those customers which will accept an offer."
      ],
      "metadata": {
        "id": "pKm2nNLF9aLC"
      }
    }
  ]
}