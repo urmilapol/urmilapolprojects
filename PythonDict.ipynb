{
  "nbformat": 4,
  "nbformat_minor": 0,
  "metadata": {
    "colab": {
      "name": "PythonDict.ipynb",
      "provenance": [],
      "authorship_tag": "ABX9TyOoPWdjtjo3EWRzEcpyUX9E",
      "include_colab_link": true
    },
    "kernelspec": {
      "name": "python3",
      "display_name": "Python 3"
    },
    "language_info": {
      "name": "python"
    }
  },
  "cells": [
    {
      "cell_type": "markdown",
      "metadata": {
        "id": "view-in-github",
        "colab_type": "text"
      },
      "source": [
        "<a href=\"https://colab.research.google.com/github/urmilapol/urmilapolprojects/blob/master/PythonDict.ipynb\" target=\"_parent\"><img src=\"https://colab.research.google.com/assets/colab-badge.svg\" alt=\"Open In Colab\"/></a>"
      ]
    },
    {
      "cell_type": "markdown",
      "source": [
        "<a id=\"ref2\"></a>\n",
        "<h2 align=center> <b>Dictionaries  in Python </b> </h2>\n"
      ],
      "metadata": {
        "id": "ihrtI8saFaA9"
      }
    },
    {
      "cell_type": "markdown",
      "source": [
        "A dictionary consists of keys and values. It is helpful to compare a dictionary to a list. Instead of the numerical indexes such as a list, dictionaries have keys. These keys are labels that are used to access values within a dictionary.\n",
        "\n"
      ],
      "metadata": {
        "id": "HOzW9E11Fft7"
      }
    },
    {
      "cell_type": "markdown",
      "source": [
        "![image.png](data:image/png;base64,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)"
      ],
      "metadata": {
        "id": "bcV81ZBJFvvs"
      }
    },
    {
      "cell_type": "markdown",
      "source": [
        "Python dictionary is an unordered collection of items. Each item of a dictionary has a key/value pair.\n",
        "\n",
        "Dictionaries are optimized to retrieve values when the key is known.\n",
        "\n",
        "Creating Python Dictionary\n",
        "Creating a dictionary is as simple as placing items inside curly braces {} separated by commas.\n",
        "\n",
        "An item has a key and a corresponding value that is expressed as a pair (key: value).\n",
        "\n",
        "While the values can be of any data type and can repeat, keys must be of immutable type (string, number or tuple with immutable elements) and must be unique.\n",
        "\n"
      ],
      "metadata": {
        "id": "Pq7OzXQ8GAEN"
      }
    },
    {
      "cell_type": "code",
      "source": [
        "# empty dictionary\n",
        "my_dict = {}\n",
        "\n",
        "# dictionary with integer keys\n",
        "my_dict = {1: 'apple', 2: 'ball'}\n",
        "\n",
        "# dictionary with mixed keys\n",
        "my_dict = {'name': 'John', 1: [2, 4, 3]}\n",
        "\n",
        "# using dict()\n",
        "my_dict = dict({1:'apple', 2:'ball'})\n",
        "\n",
        "# from sequence having each item as a pair\n",
        "my_dict = dict([(1,'apple'), (2,'ball')])"
      ],
      "metadata": {
        "id": "gkOh3uXCGPex"
      },
      "execution_count": 1,
      "outputs": []
    },
    {
      "cell_type": "markdown",
      "source": [
        "Accessing Elements from Dictionary\n",
        "While indexing is used with other data types to access values, a dictionary uses keys. Keys can be used either inside square brackets [] or with the get() method.\n",
        "\n",
        "If we use the square brackets [], KeyError is raised in case a key is not found in the dictionary. On the other hand, the get() method returns None if the key is not found."
      ],
      "metadata": {
        "id": "vXTKCM_DGl8L"
      }
    },
    {
      "cell_type": "code",
      "source": [
        "# get vs [] for retrieving elements\n",
        "my_dict = {'name': 'Jack', 'age': 26}\n",
        "\n",
        "# Output: Jack\n",
        "print(my_dict['name'])\n",
        "\n",
        "# Output: 26\n",
        "print(my_dict.get('age'))\n",
        "\n",
        "# Trying to access keys which doesn't exist throws error\n",
        "# Output None\n",
        "print(my_dict.get('address'))\n",
        "\n",
        "# KeyError\n",
        "print(my_dict['address'])"
      ],
      "metadata": {
        "colab": {
          "base_uri": "https://localhost:8080/",
          "height": 253
        },
        "id": "YSG4_8YoGzPW",
        "outputId": "05d73f8f-c116-48d3-fe1d-55ab90d0a788"
      },
      "execution_count": 2,
      "outputs": [
        {
          "output_type": "stream",
          "name": "stdout",
          "text": [
            "Jack\n",
            "26\n",
            "None\n"
          ]
        },
        {
          "output_type": "error",
          "ename": "KeyError",
          "evalue": "ignored",
          "traceback": [
            "\u001b[0;31m---------------------------------------------------------------------------\u001b[0m",
            "\u001b[0;31mKeyError\u001b[0m                                  Traceback (most recent call last)",
            "\u001b[0;32m<ipython-input-2-2ec6dc01caba>\u001b[0m in \u001b[0;36m<module>\u001b[0;34m()\u001b[0m\n\u001b[1;32m     13\u001b[0m \u001b[0;34m\u001b[0m\u001b[0m\n\u001b[1;32m     14\u001b[0m \u001b[0;31m# KeyError\u001b[0m\u001b[0;34m\u001b[0m\u001b[0;34m\u001b[0m\u001b[0;34m\u001b[0m\u001b[0m\n\u001b[0;32m---> 15\u001b[0;31m \u001b[0mprint\u001b[0m\u001b[0;34m(\u001b[0m\u001b[0mmy_dict\u001b[0m\u001b[0;34m[\u001b[0m\u001b[0;34m'address'\u001b[0m\u001b[0;34m]\u001b[0m\u001b[0;34m)\u001b[0m\u001b[0;34m\u001b[0m\u001b[0;34m\u001b[0m\u001b[0m\n\u001b[0m",
            "\u001b[0;31mKeyError\u001b[0m: 'address'"
          ]
        }
      ]
    },
    {
      "cell_type": "markdown",
      "source": [
        "<a id=\"ref2\"></a>\n",
        "<h2 align=center> <b>Changing and Adding Dictionary elements </b> </h2>\n",
        "\n",
        "Dictionaries are mutable. We can add new items or change the value of existing items using an assignment operator.\n",
        "\n",
        "If the key is already present, then the existing value gets updated. In case the key is not present, a new (key: value) pair is added to the dictionary."
      ],
      "metadata": {
        "id": "8aEZ28-VHQP3"
      }
    },
    {
      "cell_type": "code",
      "source": [
        "# Changing and adding Dictionary Elements\n",
        "my_dict = {'name': 'Jack', 'age': 26}\n",
        "\n",
        "# update value\n",
        "my_dict['age'] = 27\n",
        "\n",
        "#Output: {'age': 27, 'name': 'Jack'}\n",
        "print(my_dict)\n",
        "\n",
        "# add item\n",
        "my_dict['address'] = 'Downtown'\n",
        "\n",
        "# Output: {'address': 'Downtown', 'age': 27, 'name': 'Jack'}\n",
        "print(my_dict)"
      ],
      "metadata": {
        "colab": {
          "base_uri": "https://localhost:8080/"
        },
        "id": "w1jo5AYQGlOq",
        "outputId": "b3de0bcb-96fd-40cd-c084-8d8b9460943a"
      },
      "execution_count": 3,
      "outputs": [
        {
          "output_type": "stream",
          "name": "stdout",
          "text": [
            "{'name': 'Jack', 'age': 27}\n",
            "{'name': 'Jack', 'age': 27, 'address': 'Downtown'}\n"
          ]
        }
      ]
    },
    {
      "cell_type": "markdown",
      "source": [
        "<a id=\"ref2\"></a>\n",
        "<h2 align=center> <b>Removing elements from Dictionary </b> </h2>\n",
        "\n",
        "We can remove a particular item in a dictionary by using the pop() method. This method removes an item with the provided key and returns the value.\n",
        "\n",
        "The popitem() method can be used to remove and return an arbitrary (key, value) item pair from the dictionary. All the items can be removed at once, using the clear() method.\n",
        "\n",
        "We can also use the del keyword to remove individual items or the entire dictionary itself."
      ],
      "metadata": {
        "id": "GAZgNi04Iaoe"
      }
    },
    {
      "cell_type": "code",
      "source": [
        "# Removing elements from a dictionary\n",
        "\n",
        "# create a dictionary\n",
        "squares = {1: 1, 2: 4, 3: 9, 4: 16, 5: 25}\n",
        "\n",
        "# remove a particular item, returns its value\n",
        "# Output: 16\n",
        "print(squares.pop(4))\n",
        "\n",
        "# Output: {1: 1, 2: 4, 3: 9, 5: 25}\n",
        "print(squares)\n",
        "\n",
        "# remove an arbitrary item, return (key,value)\n",
        "# Output: (5, 25)\n",
        "print(squares.popitem())\n",
        "\n",
        "# Output: {1: 1, 2: 4, 3: 9}\n",
        "print(squares)\n",
        "\n",
        "# remove all items\n",
        "squares.clear()\n",
        "\n",
        "# Output: {}\n",
        "print(squares)\n",
        "\n",
        "# delete the dictionary itself\n",
        "del squares\n",
        "\n",
        "# Throws Error\n",
        "print(squares)"
      ],
      "metadata": {
        "colab": {
          "base_uri": "https://localhost:8080/",
          "height": 287
        },
        "id": "nRq0rNkUIkG7",
        "outputId": "b05cb4f2-b1bb-4580-dbaa-f363712d0fdf"
      },
      "execution_count": 4,
      "outputs": [
        {
          "output_type": "stream",
          "name": "stdout",
          "text": [
            "16\n",
            "{1: 1, 2: 4, 3: 9, 5: 25}\n",
            "(5, 25)\n",
            "{1: 1, 2: 4, 3: 9}\n",
            "{}\n"
          ]
        },
        {
          "output_type": "error",
          "ename": "NameError",
          "evalue": "ignored",
          "traceback": [
            "\u001b[0;31m---------------------------------------------------------------------------\u001b[0m",
            "\u001b[0;31mNameError\u001b[0m                                 Traceback (most recent call last)",
            "\u001b[0;32m<ipython-input-4-d119a0a5b684>\u001b[0m in \u001b[0;36m<module>\u001b[0;34m()\u001b[0m\n\u001b[1;32m     28\u001b[0m \u001b[0;34m\u001b[0m\u001b[0m\n\u001b[1;32m     29\u001b[0m \u001b[0;31m# Throws Error\u001b[0m\u001b[0;34m\u001b[0m\u001b[0;34m\u001b[0m\u001b[0;34m\u001b[0m\u001b[0m\n\u001b[0;32m---> 30\u001b[0;31m \u001b[0mprint\u001b[0m\u001b[0;34m(\u001b[0m\u001b[0msquares\u001b[0m\u001b[0;34m)\u001b[0m\u001b[0;34m\u001b[0m\u001b[0;34m\u001b[0m\u001b[0m\n\u001b[0m",
            "\u001b[0;31mNameError\u001b[0m: name 'squares' is not defined"
          ]
        }
      ]
    },
    {
      "cell_type": "markdown",
      "source": [
        "<a id=\"ref2\"></a>\n",
        "<h2 align=center> <b>Python Dictionary fromkeys() </b> </h2>\n",
        "\n",
        "The fromkeys() method creates a new dictionary from the given sequence of elements with a value provided by the user.\n",
        "\n",
        "The syntax of fromkeys() method is:\n",
        "\n",
        "dictionary.fromkeys(sequence[, value])"
      ],
      "metadata": {
        "id": "HI0AdGPDKTu6"
      }
    },
    {
      "cell_type": "markdown",
      "source": [
        "Create a dictionary from a sequence of keys"
      ],
      "metadata": {
        "id": "9GlxwNRDMPu4"
      }
    },
    {
      "cell_type": "code",
      "source": [
        "# vowels keys\n",
        "keys = {'a', 'e', 'i', 'o', 'u' }\n",
        "\n",
        "vowels = dict.fromkeys(keys)\n",
        "print(vowels)"
      ],
      "metadata": {
        "colab": {
          "base_uri": "https://localhost:8080/"
        },
        "id": "Dd4cxlD5MAt2",
        "outputId": "162b3969-7e19-4dd8-a1a0-cfe82a06ea00"
      },
      "execution_count": 5,
      "outputs": [
        {
          "output_type": "stream",
          "name": "stdout",
          "text": [
            "{'o': None, 'e': None, 'i': None, 'a': None, 'u': None}\n"
          ]
        }
      ]
    },
    {
      "cell_type": "markdown",
      "source": [
        "Example 2: Create a dictionary from a sequence of keys with value"
      ],
      "metadata": {
        "id": "_Y9ZtXX9MU5t"
      }
    },
    {
      "cell_type": "code",
      "source": [
        "# vowels keys\n",
        "keys = {'a', 'e', 'i', 'o', 'u' }\n",
        "value = 'vowel'\n",
        "\n",
        "vowels = dict.fromkeys(keys, value)\n",
        "print(vowels)"
      ],
      "metadata": {
        "colab": {
          "base_uri": "https://localhost:8080/"
        },
        "id": "plz6Co5AMI2R",
        "outputId": "f9ea2d67-bde3-46e1-88a5-19a1fb88aece"
      },
      "execution_count": 6,
      "outputs": [
        {
          "output_type": "stream",
          "name": "stdout",
          "text": [
            "{'o': 'vowel', 'e': 'vowel', 'i': 'vowel', 'a': 'vowel', 'u': 'vowel'}\n"
          ]
        }
      ]
    },
    {
      "cell_type": "code",
      "source": [
        "# Dictionary Methods\n",
        "marks = {}.fromkeys(['Math', 'English', 'Science'], 0)\n",
        "\n",
        "# Output: {'English': 0, 'Math': 0, 'Science': 0}\n",
        "print(marks)\n",
        "\n",
        "for item in marks.items():\n",
        "    print(item)\n",
        "\n",
        "# Output: ['English', 'Math', 'Science']\n",
        "print(list(sorted(marks.keys())))"
      ],
      "metadata": {
        "colab": {
          "base_uri": "https://localhost:8080/"
        },
        "id": "4ooe2AV6KCES",
        "outputId": "82e29e2d-bc41-48a9-ede4-6b17a5dcfb50"
      },
      "execution_count": 7,
      "outputs": [
        {
          "output_type": "stream",
          "name": "stdout",
          "text": [
            "{'Math': 0, 'English': 0, 'Science': 0}\n",
            "('Math', 0)\n",
            "('English', 0)\n",
            "('Science', 0)\n",
            "['English', 'Math', 'Science']\n"
          ]
        }
      ]
    },
    {
      "cell_type": "markdown",
      "source": [
        "<a id=\"ref2\"></a>\n",
        "<h2 align=center> <b>Python Dictionary Comprehension </b> </h2>\n",
        "\n",
        "Dictionary comprehension is an elegant and concise way to create a new dictionary from an iterable in Python.\n",
        "\n",
        "Dictionary comprehension consists of an expression pair (key: value) followed by a for statement inside curly braces {}.\n",
        "\n",
        "Here is an example to make a dictionary with each item being a pair of a number and its square."
      ],
      "metadata": {
        "id": "Hp4Zk-sVMu3c"
      }
    },
    {
      "cell_type": "code",
      "source": [
        "# Dictionary Comprehension\n",
        "squares = {x: x*x for x in range(6)}\n",
        "\n",
        "print(squares)"
      ],
      "metadata": {
        "colab": {
          "base_uri": "https://localhost:8080/"
        },
        "id": "m6cS8szeM4Li",
        "outputId": "27f3bdaa-e6fe-4057-ee17-25a3a2b45a5e"
      },
      "execution_count": 8,
      "outputs": [
        {
          "output_type": "stream",
          "name": "stdout",
          "text": [
            "{0: 0, 1: 1, 2: 4, 3: 9, 4: 16, 5: 25}\n"
          ]
        }
      ]
    },
    {
      "cell_type": "code",
      "source": [
        "squares = {}\n",
        "for x in range(6):\n",
        "    squares[x] = x*x\n",
        "print(squares)"
      ],
      "metadata": {
        "colab": {
          "base_uri": "https://localhost:8080/"
        },
        "id": "MFnD3YodNq7v",
        "outputId": "b3bfcff9-3c62-4d4e-b46f-b698d6b52f8e"
      },
      "execution_count": 9,
      "outputs": [
        {
          "output_type": "stream",
          "name": "stdout",
          "text": [
            "{0: 0, 1: 1, 2: 4, 3: 9, 4: 16, 5: 25}\n"
          ]
        }
      ]
    },
    {
      "cell_type": "code",
      "source": [
        "# Dictionary Comprehension with if conditional\n",
        "odd_squares = {x: x*x for x in range(11) if x % 2 == 1}\n",
        "\n",
        "print(odd_squares)"
      ],
      "metadata": {
        "colab": {
          "base_uri": "https://localhost:8080/"
        },
        "id": "gE1F7IKyN35A",
        "outputId": "9667ebd6-881b-4c89-e62e-367dc1952b1b"
      },
      "execution_count": 10,
      "outputs": [
        {
          "output_type": "stream",
          "name": "stdout",
          "text": [
            "{1: 1, 3: 9, 5: 25, 7: 49, 9: 81}\n"
          ]
        }
      ]
    },
    {
      "cell_type": "markdown",
      "source": [
        "<a id=\"ref2\"></a>\n",
        "<h2 align=center> <b>Dictionary Membership Test </b> </h2>\n",
        "\n",
        "We can test if a key is in a dictionary or not using the keyword in. Notice that the membership test is only for the keys and not for the values.\n",
        "\n"
      ],
      "metadata": {
        "id": "gJIaabZvOAeM"
      }
    },
    {
      "cell_type": "code",
      "source": [
        "# Membership Test for Dictionary Keys\n",
        "squares = {1: 1, 3: 9, 5: 25, 7: 49, 9: 81}\n",
        "\n",
        "# Output: True\n",
        "print(1 in squares)\n",
        "\n",
        "# Output: True\n",
        "print(2 not in squares)\n",
        "\n",
        "# membership tests for key only not value\n",
        "# Output: False\n",
        "print(49 in squares)"
      ],
      "metadata": {
        "colab": {
          "base_uri": "https://localhost:8080/"
        },
        "id": "OEoymd4NOJ_j",
        "outputId": "d0bf7c36-58ec-40c5-e377-6754ec988f32"
      },
      "execution_count": 11,
      "outputs": [
        {
          "output_type": "stream",
          "name": "stdout",
          "text": [
            "True\n",
            "True\n",
            "False\n"
          ]
        }
      ]
    },
    {
      "cell_type": "markdown",
      "source": [
        "Iterating Through a Dictionary\n",
        "We can iterate through each key in a dictionary using a for loop."
      ],
      "metadata": {
        "id": "CvYGiUoUOcjA"
      }
    },
    {
      "cell_type": "code",
      "source": [
        "# Iterating through a Dictionary\n",
        "squares = {1: 1, 3: 9, 5: 25, 7: 49, 9: 81}\n",
        "for i in squares:\n",
        "    print(squares[i])"
      ],
      "metadata": {
        "colab": {
          "base_uri": "https://localhost:8080/"
        },
        "id": "gIvlEzvTOgTm",
        "outputId": "9c9fea07-cd93-4aa2-95ac-a44fa1ef6bd2"
      },
      "execution_count": 12,
      "outputs": [
        {
          "output_type": "stream",
          "name": "stdout",
          "text": [
            "1\n",
            "9\n",
            "25\n",
            "49\n",
            "81\n"
          ]
        }
      ]
    },
    {
      "cell_type": "markdown",
      "source": [
        "\n",
        "<a id=\"ref2\"></a>\n",
        "<h2 align=center> <b>Dictionary Built-in Functions </b> </h2>"
      ],
      "metadata": {
        "id": "K_tl7X8-QhHX"
      }
    },
    {
      "cell_type": "code",
      "source": [
        "# Dictionary Built-in Functions\n",
        "squares = {0: 0, 1: 1, 3: 9, 5: 25, 7: 49, 9: 81}\n",
        "print(all(squares))\n",
        "squares = {2: 4, 1: 1, 3: 9, 5: 25, 7: 49, 9: 81}\n",
        "\n",
        "# Output: False\n",
        "print(all(squares))\n",
        "\n",
        "# Output: True\n",
        "print(any(squares))\n",
        "\n",
        "# Output: 6\n",
        "print(len(squares))\n",
        "\n",
        "# Output: [0, 1, 3, 5, 7, 9]\n",
        "print(sorted(squares))"
      ],
      "metadata": {
        "colab": {
          "base_uri": "https://localhost:8080/"
        },
        "id": "J0v-7bhNQiPW",
        "outputId": "f78bd32b-617a-46ec-891b-e181ccd0a6cb"
      },
      "execution_count": 15,
      "outputs": [
        {
          "output_type": "stream",
          "name": "stdout",
          "text": [
            "False\n",
            "True\n",
            "True\n",
            "6\n",
            "[1, 2, 3, 5, 7, 9]\n"
          ]
        }
      ]
    },
    {
      "cell_type": "markdown",
      "source": [
        "<a id=\"ref2\"></a>\n",
        "<h2 align=center> <b>Python Dictionary copy() </b> </h2>\n"
      ],
      "metadata": {
        "id": "CZ5XOzmMTYKu"
      }
    },
    {
      "cell_type": "code",
      "source": [
        "original_marks = {'Physics':67, 'Maths':87}\n",
        "\n",
        "copied_marks = original_marks.copy()\n",
        "\n",
        "\n",
        "print('Original Marks:', original_marks)\n",
        "print('Copied Marks:', copied_marks)\n",
        "\n",
        "# Output: Original Marks: {'Physics': 67, 'Maths': 87}\n",
        "#         Copied Marks: {'Physics': 67, 'Maths': 87}"
      ],
      "metadata": {
        "id": "3xZgZ4GdTa-0"
      },
      "execution_count": null,
      "outputs": []
    },
    {
      "cell_type": "markdown",
      "source": [
        "<a id=\"ref2\"></a>\n",
        "<h2 align=center> <b>Python Dictionary update() </b> </h2>\n",
        "The update() method updates the dictionary with the elements from another dictionary object or from an iterable of key/value pairs."
      ],
      "metadata": {
        "id": "PvBKoIrxUFxH"
      }
    },
    {
      "cell_type": "code",
      "source": [
        "marks = {'Physics':67, 'Maths':87}\n",
        "internal_marks = {'Practical':48}\n",
        "\n",
        "marks.update(internal_marks)\n",
        "\n",
        "\n",
        "print(marks)\n",
        "\n",
        "# Output: {'Physics': 67, 'Maths': 87, 'Practical': 48}"
      ],
      "metadata": {
        "colab": {
          "base_uri": "https://localhost:8080/"
        },
        "id": "BSublBjfUTMs",
        "outputId": "c5f808b2-e8c5-47d6-d505-74ef8f48b06b"
      },
      "execution_count": 16,
      "outputs": [
        {
          "output_type": "stream",
          "name": "stdout",
          "text": [
            "{'Physics': 67, 'Maths': 87, 'Practical': 48}\n"
          ]
        }
      ]
    }
  ]
}