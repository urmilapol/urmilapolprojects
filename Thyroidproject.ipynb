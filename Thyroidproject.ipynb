{
  "nbformat": 4,
  "nbformat_minor": 0,
  "metadata": {
    "colab": {
      "provenance": [],
      "authorship_tag": "ABX9TyNBjPOZCuRmTKPegKVSR2st",
      "include_colab_link": true
    },
    "kernelspec": {
      "name": "python3",
      "display_name": "Python 3"
    },
    "language_info": {
      "name": "python"
    }
  },
  "cells": [
    {
      "cell_type": "markdown",
      "metadata": {
        "id": "view-in-github",
        "colab_type": "text"
      },
      "source": [
        "<a href=\"https://colab.research.google.com/github/urmilapol/urmilapolprojects/blob/master/Thyroidproject.ipynb\" target=\"_parent\"><img src=\"https://colab.research.google.com/assets/colab-badge.svg\" alt=\"Open In Colab\"/></a>"
      ]
    },
    {
      "cell_type": "markdown",
      "source": [
        "Building a Thyroid Prediction Model Using Image Data and Deployment with Python\n",
        "Thyroid disorders, including hypothyroidism and hyperthyroidism, can be detected using medical imaging techniques such as ultrasound. Deep learning techniques, particularly Convolutional Neural Networks (CNNs), are effective in analyzing thyroid images for diagnosis. This guide covers building a thyroid prediction model using image data and deploying it using Python.\n",
        "\n",
        "1. Dataset Preparation\n",
        "To build an effective thyroid prediction model, we need a dataset of thyroid ultrasound images, which can be obtained from:\n",
        "\n",
        "Public Datasets: Kaggle, Open-i, or hospital repositories.\n",
        "Custom Dataset: Collecting images from medical centers.\n",
        "Steps:\n",
        "\n",
        "Organize the dataset into folders:\n",
        "\n",
        "train/normal\n",
        "train/hypothyroid\n",
        "train/hyperthyroid\n",
        "test/normal\n",
        "test/hypothyroid\n",
        "test/hyperthyroid\n",
        "Data Augmentation: Apply transformations like rotation, flipping, zooming, and contrast changes using tf.keras.preprocessing.image.ImageDataGenerator.\n",
        "\n"
      ],
      "metadata": {
        "id": "zjH8O_e9YNDK"
      }
    },
    {
      "cell_type": "markdown",
      "source": [
        "Building the Thyroid Prediction Model\n",
        "A CNN-based deep learning model is well-suited for image classification.\n",
        "\n",
        " **Import Required Libraries**"
      ],
      "metadata": {
        "id": "m0Sy9pcrVt2Z"
      }
    },
    {
      "cell_type": "code",
      "execution_count": null,
      "metadata": {
        "id": "noyrCRu4Vji1"
      },
      "outputs": [],
      "source": [
        "import numpy as np\n",
        "import tensorflow as tf\n",
        "from tensorflow import keras\n",
        "from tensorflow.keras.preprocessing.image import ImageDataGenerator\n",
        "from tensorflow.keras.models import Sequential\n",
        "from tensorflow.keras.layers import Conv2D, MaxPooling2D, Flatten, Dense, Dropout\n"
      ]
    },
    {
      "cell_type": "markdown",
      "source": [
        "To build a thyroid prediction model using image data, you can utilize publicly available thyroid ultrasound image datasets. Here are some notable datasets:\n",
        "\n",
        "DDTI: Thyroid Ultrasound Images\n",
        "This dataset contains 134 images from 99 cases, each accompanied by expert annotations and patient information in XML format. You can access and download the dataset from Kaggle:\n",
        "KAGGLE\n",
        "\n",
        "Thyroid Ultrasound Cine-clip\n",
        "Collected from 167 patients with biopsy-confirmed thyroid nodules, this dataset includes ultrasound cine-clip images, radiologist-annotated segmentations, patient demographics, lesion size and location, TI-RADS descriptors, and histopathological diagnoses. Available through the Stanford Center for Artificial Intelligence in Medicine & Imaging (AIMI):\n",
        "AIMI\n",
        "\n",
        "Thyroid Ultrasound-Image Dataset\n",
        "This dataset comprises 2,450 thyroid ultrasound images collected between 2018 and 2020, with associated American College of Radiology (ACR) Thyroid Imaging Reporting and Data System (TIRADS) features provided in XML format. Detailed information is available on PubMed:\n",
        "PUBMED\n",
        "\n",
        "Ultrasonography of Thyroid Nodules Dataset with Pathological Diagnosis Annotation\n",
        "This dataset offers 6,005 thyroid images from 605 patients in the first batch and 1,978 images from 242 patients in the second batch, each with pathological diagnosis annotations. It is designed for developing deep learning algorithms and is accessible via Figshare:\n",
        "FIGSHARE"
      ],
      "metadata": {
        "id": "f7qqCFGSY-mX"
      }
    },
    {
      "cell_type": "markdown",
      "source": [
        "To download a thyroid ultrasound image dataset for your model, follow these steps:\n",
        "\n",
        "---\n",
        "\n",
        "## **1. Download from Kaggle**\n",
        "If the dataset is on **Kaggle**, follow these steps:\n",
        "\n",
        "### **Step 1: Install Kaggle API**\n",
        "```sh\n",
        "pip install kaggle\n",
        "```\n",
        "\n",
        "### **Step 2: Get API Key**\n",
        "- Go to [Kaggle](https://www.kaggle.com/)\n",
        "- Click on your profile > **Account**\n",
        "- Scroll down to **API** section > Click **Create New API Token**\n",
        "- A `kaggle.json` file will be downloaded.\n",
        "\n",
        "### **Step 3: Upload API Key to Your System**\n",
        "Move the `kaggle.json` file to the correct location:\n",
        "```sh\n",
        "mkdir -p ~/.kaggle\n",
        "mv kaggle.json ~/.kaggle/\n",
        "chmod 600 ~/.kaggle/kaggle.json\n",
        "```\n",
        "\n",
        "### **Step 4: Download Dataset**\n",
        "Run this command (replace `DATASET_NAME` with the actual dataset name from Kaggle URL):\n",
        "```sh\n",
        "kaggle datasets download -d dasmehdixtr/ddti-thyroid-ultrasound-images\n",
        "```\n",
        "\n",
        "Extract the dataset:\n",
        "```sh\n",
        "unzip ddti-thyroid-ultrasound-images.zip -d dataset/\n",
        "```\n",
        "\n",
        "---\n",
        "\n",
        "## **2. Download from Figshare**\n",
        "If the dataset is on **Figshare**, follow these steps:\n",
        "\n",
        "### **Step 1: Visit Dataset URL**\n",
        "- Open the dataset page: [Figshare Dataset](https://figshare.com/articles/dataset/An_ultrasonography_of_thyroid_nodules_dataset_with_pathological_diagnosis_annotation_for_deep_learning/26067475)\n",
        "\n",
        "### **Step 2: Click Download Button**\n",
        "- Click the **Download All** button to get the dataset as a `.zip` file.\n",
        "\n",
        "### **Step 3: Extract Dataset**\n",
        "After downloading, unzip the dataset:\n",
        "```sh\n",
        "unzip dataset.zip -d dataset/\n",
        "```\n",
        "\n",
        "---\n",
        "\n",
        "## **3. Download from Stanford AIMI**\n",
        "If the dataset is on **Stanford AIMI**, follow these steps:\n",
        "\n",
        "### **Step 1: Visit Dataset URL**\n",
        "- Go to the dataset page: [Stanford AIMI Thyroid Dataset](https://aimi.stanford.edu/datasets/thyroid-ultrasound-cine-clip)\n",
        "\n",
        "### **Step 2: Request Access**\n",
        "- Some datasets require approval before downloading.\n",
        "- Click **Request Access** and follow the instructions.\n",
        "\n",
        "### **Step 3: Download and Extract**\n",
        "Once approved, download the `.zip` or `.tar` file and extract it:\n",
        "```sh\n",
        "tar -xvf dataset.tar -C dataset/\n",
        "```\n",
        "\n",
        "---\n",
        "\n",
        "## **4. Download from PubMed or ResearchGate**\n",
        "Some datasets are hosted on **PubMed** or **ResearchGate**:\n",
        "\n",
        "### **Step 1: Visit the Dataset Page**\n",
        "- Go to the dataset link: [PubMed Dataset](https://pubmed.ncbi.nlm.nih.gov/35612104/)\n",
        "\n",
        "### **Step 2: Check for Dataset Link**\n",
        "- If a direct link is available, download it.\n",
        "- If not, check for a **Supplementary Data** section or contact the authors.\n",
        "\n",
        "### **Step 3: Extract the Dataset**\n",
        "Use `unzip` or `tar -xvf` as needed.\n",
        "\n",
        "---\n",
        "\n",
        "### **Final Notes**\n",
        "- Always **check the dataset license** before using it.\n",
        "- Ensure **proper citation** when using datasets in research.\n",
        "- Store images in folders like `train/` and `test/` for easy model training.\n",
        "\n",
        "Let me know if you need further guidance! 🚀"
      ],
      "metadata": {
        "id": "RqjjoCGNZ7Fm"
      }
    },
    {
      "cell_type": "markdown",
      "source": [
        "**Data Preprocessing**"
      ],
      "metadata": {
        "id": "lOIaVmTHV8je"
      }
    },
    {
      "cell_type": "code",
      "source": [
        "train_datagen = ImageDataGenerator(rescale=1./255,\n",
        "                                   rotation_range=20,\n",
        "                                   zoom_range=0.2,\n",
        "                                   horizontal_flip=True)\n",
        "test_datagen = ImageDataGenerator(rescale=1./255)\n",
        "\n",
        "train_data = train_datagen.flow_from_directory(\"dataset/train\",\n",
        "                                               target_size=(150,150),\n",
        "                                               batch_size=32,\n",
        "                                               class_mode='categorical')\n",
        "\n",
        "test_data = test_datagen.flow_from_directory(\"dataset/test\",\n",
        "                                             target_size=(150,150),\n",
        "                                             batch_size=32,\n",
        "                                             class_mode='categorical')\n"
      ],
      "metadata": {
        "id": "jPHguUVgVl2J"
      },
      "execution_count": null,
      "outputs": []
    },
    {
      "cell_type": "markdown",
      "source": [
        "**Define the CNN Model**"
      ],
      "metadata": {
        "id": "jb4sclKTWJTT"
      }
    },
    {
      "cell_type": "code",
      "source": [
        "model = Sequential([\n",
        "    Conv2D(32, (3,3), activation='relu', input_shape=(150,150,3)),\n",
        "    MaxPooling2D(2,2),\n",
        "    Conv2D(64, (3,3), activation='relu'),\n",
        "    MaxPooling2D(2,2),\n",
        "    Conv2D(128, (3,3), activation='relu'),\n",
        "    MaxPooling2D(2,2),\n",
        "    Flatten(),\n",
        "    Dense(128, activation='relu'),\n",
        "    Dropout(0.5),\n",
        "    Dense(3, activation='softmax')  # 3 classes: normal, hypothyroid, hyperthyroid\n",
        "])\n",
        "\n",
        "model.compile(optimizer='adam',\n",
        "              loss='categorical_crossentropy',\n",
        "              metrics=['accuracy'])\n"
      ],
      "metadata": {
        "id": "4ZR3AmIQV6GK"
      },
      "execution_count": null,
      "outputs": []
    },
    {
      "cell_type": "markdown",
      "source": [
        "**Train the Model**"
      ],
      "metadata": {
        "id": "bJy0AYvJWbXk"
      }
    },
    {
      "cell_type": "code",
      "source": [
        "history = model.fit(train_data, validation_data=test_data, epochs=20)\n"
      ],
      "metadata": {
        "id": "jTBR8hyKWdAY"
      },
      "execution_count": null,
      "outputs": []
    },
    {
      "cell_type": "markdown",
      "source": [
        "**Model Evaluation **\n",
        "**Plot Training Performance **"
      ],
      "metadata": {
        "id": "eY3f2VIMWfwG"
      }
    },
    {
      "cell_type": "code",
      "source": [
        "import matplotlib.pyplot as plt\n",
        "\n",
        "plt.plot(history.history['accuracy'], label='Train Accuracy')\n",
        "plt.plot(history.history['val_accuracy'], label='Validation Accuracy')\n",
        "plt.xlabel('Epochs')\n",
        "plt.ylabel('Accuracy')\n",
        "plt.legend()\n",
        "plt.show()\n"
      ],
      "metadata": {
        "id": "mhkWiVNHWv0e"
      },
      "execution_count": null,
      "outputs": []
    },
    {
      "cell_type": "markdown",
      "source": [
        "**Model Testing**"
      ],
      "metadata": {
        "id": "qzwSte_jYVaf"
      }
    },
    {
      "cell_type": "code",
      "source": [
        "test_loss, test_acc = model.evaluate(test_data)\n",
        "print(f\"Test Accuracy: {test_acc:.2f}\")\n"
      ],
      "metadata": {
        "id": "x6J-Yx9WWrqK"
      },
      "execution_count": null,
      "outputs": []
    },
    {
      "cell_type": "markdown",
      "source": [
        "Deployment with Flask\n",
        "After training the model, we deploy it using Flask."
      ],
      "metadata": {
        "id": "veAJNxqfXEBX"
      }
    },
    {
      "cell_type": "code",
      "source": [
        "model.save(\"thyroid_model.h5\")\n"
      ],
      "metadata": {
        "id": "bGrRKCEbXCae"
      },
      "execution_count": null,
      "outputs": []
    },
    {
      "cell_type": "markdown",
      "source": [
        "Create a Flask App"
      ],
      "metadata": {
        "id": "awIFGYfHXHqm"
      }
    },
    {
      "cell_type": "code",
      "source": [
        "from flask import Flask, request, jsonify\n",
        "from tensorflow.keras.models import load_model\n",
        "from tensorflow.keras.preprocessing import image\n",
        "import numpy as np\n",
        "\n",
        "app = Flask(__name__)\n",
        "model = load_model(\"thyroid_model.h5\")\n",
        "\n",
        "@app.route('/predict', methods=['POST'])\n",
        "def predict():\n",
        "    img_file = request.files['file']\n",
        "    img = image.load_img(img_file, target_size=(150,150))\n",
        "    img_array = image.img_to_array(img) / 255.0\n",
        "    img_array = np.expand_dims(img_array, axis=0)\n",
        "\n",
        "    predictions = model.predict(img_array)\n",
        "    classes = ['Normal', 'Hypothyroid', 'Hyperthyroid']\n",
        "    result = classes[np.argmax(predictions)]\n",
        "\n",
        "    return jsonify({'prediction': result})\n",
        "\n",
        "if __name__ == '__main__':\n",
        "    app.run(debug=True)\n"
      ],
      "metadata": {
        "id": "HzXV1T96XK8e"
      },
      "execution_count": null,
      "outputs": []
    },
    {
      "cell_type": "markdown",
      "source": [
        "Testing the API\n",
        "Run the Flask app using:sh"
      ],
      "metadata": {
        "id": "dWVochb8XQuX"
      }
    },
    {
      "cell_type": "code",
      "source": [
        "python app.py\n"
      ],
      "metadata": {
        "id": "zUBx4r_IXRyw"
      },
      "execution_count": null,
      "outputs": []
    },
    {
      "cell_type": "markdown",
      "source": [
        "Send a POST request using curl or Postman:sh"
      ],
      "metadata": {
        "id": "RMuTcZrKXoGa"
      }
    },
    {
      "cell_type": "code",
      "source": [
        "curl -X POST -F \"file=@thyroid_sample.jpg\" \"http://127.0.0.1:5000/predict\"\n"
      ],
      "metadata": {
        "id": "g-1Tj9I4Xlrj"
      },
      "execution_count": null,
      "outputs": []
    },
    {
      "cell_type": "markdown",
      "source": [
        "The API will return:json"
      ],
      "metadata": {
        "id": "9aIpjLuuXyD7"
      }
    },
    {
      "cell_type": "code",
      "source": [
        "{\"prediction\": \"Hypothyroid\"}\n"
      ],
      "metadata": {
        "id": "z3fFDMvFX6t3"
      },
      "execution_count": null,
      "outputs": []
    },
    {
      "cell_type": "markdown",
      "source": [
        "Conclusion\n",
        "We successfully built a thyroid prediction model using CNNs and deployed it with Flask. This approach can be further enhanced using:\n",
        "\n",
        "More Advanced Models: Pretrained networks like ResNet, VGG16.\n",
        "Larger Datasets: More labeled images improve accuracy.\n",
        "Cloud Deployment: Deploy on AWS, Google Cloud, or Heroku.\n",
        "This framework can assist medical professionals in diagnosing thyroid disorders more effectively."
      ],
      "metadata": {
        "id": "iGZvW_UaYg50"
      }
    }
  ]
}