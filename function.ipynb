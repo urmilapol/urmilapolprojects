{
  "nbformat": 4,
  "nbformat_minor": 0,
  "metadata": {
    "colab": {
      "name": "function.ipynb",
      "provenance": [],
      "authorship_tag": "ABX9TyO21dVp8fVXD28VbKkwujAc",
      "include_colab_link": true
    },
    "kernelspec": {
      "name": "python3",
      "display_name": "Python 3"
    },
    "language_info": {
      "name": "python"
    }
  },
  "cells": [
    {
      "cell_type": "markdown",
      "metadata": {
        "id": "view-in-github",
        "colab_type": "text"
      },
      "source": [
        "<a href=\"https://colab.research.google.com/github/urmilapol/urmilapolprojects/blob/master/function.ipynb\" target=\"_parent\"><img src=\"https://colab.research.google.com/assets/colab-badge.svg\" alt=\"Open In Colab\"/></a>"
      ]
    },
    {
      "cell_type": "markdown",
      "source": [
        "# A function is a block of code which only runs when it is called.\n",
        "\n",
        "# You can pass data, known as parameters, into a function.\n",
        "\n",
        "# A function can return data as a result. "
      ],
      "metadata": {
        "id": "2iVwr9RIdOc9"
      }
    },
    {
      "cell_type": "code",
      "source": [
        "def my_function():\n",
        "  print(\"Hello from a function\")\n",
        "\n",
        "my_function()"
      ],
      "metadata": {
        "colab": {
          "base_uri": "https://localhost:8080/"
        },
        "id": "xhp3Wt5tbe0d",
        "outputId": "0d2922dd-31db-4dc9-d82a-c5afe815cb40"
      },
      "execution_count": null,
      "outputs": [
        {
          "output_type": "stream",
          "name": "stdout",
          "text": [
            "Hello from a function\n"
          ]
        }
      ]
    },
    {
      "cell_type": "code",
      "source": [
        "# A simple Python function\n",
        " \n",
        "def fun():\n",
        "  print(\"Welcome to GFG\")\n",
        "         \n",
        "# Driver code to call a function\n",
        "fun()"
      ],
      "metadata": {
        "id": "Fy8W5MOJBQpE",
        "outputId": "d4a3e01c-4113-4a0b-d898-a2e2e888721d",
        "colab": {
          "base_uri": "https://localhost:8080/"
        }
      },
      "execution_count": null,
      "outputs": [
        {
          "output_type": "stream",
          "name": "stdout",
          "text": [
            "Welcome to GFG\n"
          ]
        }
      ]
    },
    {
      "cell_type": "markdown",
      "source": [
        "# Arguments\n",
        "# Information can be passed into functions as arguments\n",
        "# Arguments are specified after the function name, inside the parentheses. You can add as many arguments as you want, just separate them with a comma.\n",
        "# The following example has a function with one argument (fname). When the function is called, we pass along a first name, which is used inside the function to print the full name:"
      ],
      "metadata": {
        "id": "IIlKCOe6dakb"
      }
    },
    {
      "cell_type": "code",
      "execution_count": null,
      "metadata": {
        "colab": {
          "base_uri": "https://localhost:8080/"
        },
        "id": "iULweApgXQbY",
        "outputId": "cefc8c54-d1e3-4179-8e8f-e4acd3619d5e"
      },
      "outputs": [
        {
          "output_type": "stream",
          "name": "stdout",
          "text": [
            "Shivaji University\n",
            "Pune University\n",
            "Mumbai University\n"
          ]
        }
      ],
      "source": [
        "def my_function(fname):\n",
        "  print(fname + \" University\")\n",
        "\n",
        "my_function(\"Shivaji\")\n",
        "my_function(\"Pune\")\n",
        "my_function(\"Mumbai\")\n"
      ]
    },
    {
      "cell_type": "code",
      "source": [
        "# A simple Python function to check\n",
        "# whether x is even or odd\n",
        " \n",
        " \n",
        "def evenOdd(x):\n",
        "    if (x % 2 == 0):\n",
        "        print(\"even\")\n",
        "    else:\n",
        "        print(\"odd\")\n",
        " \n",
        " \n",
        "# Driver code to call the function\n",
        "evenOdd(2)\n",
        "evenOdd(3)"
      ],
      "metadata": {
        "id": "4RJjPw4eBeHk",
        "outputId": "d7fe3a76-a1b5-49d6-9258-558e9b0ca49c",
        "colab": {
          "base_uri": "https://localhost:8080/"
        }
      },
      "execution_count": null,
      "outputs": [
        {
          "output_type": "stream",
          "name": "stdout",
          "text": [
            "even\n",
            "odd\n"
          ]
        }
      ]
    },
    {
      "cell_type": "markdown",
      "source": [
        "# Parameters or Arguments?\n",
        "# The terms parameter and argument can be used for the same thing: information that are passed into a function.\n",
        "\n",
        "# From a function's perspective:\n",
        "\n",
        "# A parameter is the variable listed inside the parentheses in the function definition. \n",
        "\n",
        "# An argument is the value that is sent to the function when it is called."
      ],
      "metadata": {
        "id": "JpjP7RJFdqnj"
      }
    },
    {
      "cell_type": "code",
      "source": [
        "def my_function(fname, lname):\n",
        "  print(fname + \" \" + lname)\n",
        "\n",
        "my_function(\"shivaji\", \"university\")"
      ],
      "metadata": {
        "colab": {
          "base_uri": "https://localhost:8080/"
        },
        "id": "atdelMN8bd1W",
        "outputId": "53341ee0-9ea9-4d26-ab92-f8a80108074b"
      },
      "execution_count": null,
      "outputs": [
        {
          "output_type": "stream",
          "name": "stdout",
          "text": [
            "shivaji university\n"
          ]
        }
      ]
    },
    {
      "cell_type": "markdown",
      "source": [
        "Default arguments\n",
        "# **A default argument is a parameter that assumes a default value if a value is not provided in the function call for that argument. The following example illustrates Default arguments. **\n"
      ],
      "metadata": {
        "id": "cBxUpFo8CCeg"
      }
    },
    {
      "cell_type": "markdown",
      "source": [
        "# **Default Parameter Value**\n",
        "# The following example shows how to use a default parameter value. \n",
        "\n",
        "# **If we call the function without argument, it uses the default value:**"
      ],
      "metadata": {
        "id": "hDdZ9OG3DALd"
      }
    },
    {
      "cell_type": "code",
      "source": [
        "# Python program to demonstrate\n",
        "# default arguments\n",
        " \n",
        " \n",
        "def myFun(x, y=50):\n",
        "    print(\"x: \", x)\n",
        "    print(\"y: \", y)\n",
        " \n",
        " \n",
        "# Driver code (We call myFun() with only\n",
        "# argument)\n",
        "myFun(10)"
      ],
      "metadata": {
        "id": "0kJHbKihBvFm",
        "outputId": "cee90c9b-0f86-4c30-d101-b4567a2e1e66",
        "colab": {
          "base_uri": "https://localhost:8080/"
        }
      },
      "execution_count": null,
      "outputs": [
        {
          "output_type": "stream",
          "name": "stdout",
          "text": [
            "x:  10\n",
            "y:  50\n"
          ]
        }
      ]
    },
    {
      "cell_type": "code",
      "source": [
        "def my_function(country = \"Norway\"):\n",
        "  print(\"I am from \" + country)\n",
        "\n",
        "my_function(\"Sweden\")\n",
        "my_function(\"India\")\n",
        "my_function()\n",
        "my_function(\"Brazil\")"
      ],
      "metadata": {
        "colab": {
          "base_uri": "https://localhost:8080/"
        },
        "outputId": "00e1535b-18ca-466c-f7d7-a8f4d043ac6e",
        "id": "D1RquK5ZC0Ox"
      },
      "execution_count": null,
      "outputs": [
        {
          "output_type": "stream",
          "name": "stdout",
          "text": [
            "I am from Sweden\n",
            "I am from India\n",
            "I am from Norway\n",
            "I am from Brazil\n"
          ]
        }
      ]
    },
    {
      "cell_type": "markdown",
      "source": [
        "# Arbitrary Arguments, *args \n",
        "# If you do not know how many arguments that will be passed into your function, add a * before the parameter name in the function definition. **bold text**\n",
        "# **This way the function will receive a tuple of arguments, and can access the items accordingly:**\n",
        "\n",
        "# **Variable-length arguments**\n",
        "# **In Python, we can pass a variable number of arguments to a function using special symbols. There are two special symbols:**\n",
        "\n",
        "# *args (Non-Keyword Arguments) \n",
        "**kwargs (Keyword Arguments) "
      ],
      "metadata": {
        "id": "ckpJdkuNdzz_"
      }
    },
    {
      "cell_type": "code",
      "source": [
        "def my_function(*kids):\n",
        "  print(\"The youngest child is \" + kids[2])\n",
        "\n",
        "my_function(\"Shivaji\", \"Sambhaji\", \"Shahaji\")"
      ],
      "metadata": {
        "colab": {
          "base_uri": "https://localhost:8080/"
        },
        "id": "q3SGHJ80b5ME",
        "outputId": "a07fdd13-1f3a-4f34-d86c-b6b09955e23f"
      },
      "execution_count": null,
      "outputs": [
        {
          "output_type": "stream",
          "name": "stdout",
          "text": [
            "The youngest child is Shahaji\n"
          ]
        }
      ]
    },
    {
      "cell_type": "code",
      "source": [
        "# Python program to illustrate\n",
        "# *args for variable number of arguments\n",
        " \n",
        " \n",
        "def myFun(*argv):\n",
        "    for arg in argv:\n",
        "        print(arg)\n",
        " \n",
        " \n",
        "myFun('Hello', 'Welcome', 'to', 'Lab')"
      ],
      "metadata": {
        "id": "EM_oNPUGENU4",
        "outputId": "d1ade3e4-b354-4f5f-c84d-2a5b28295513",
        "colab": {
          "base_uri": "https://localhost:8080/"
        }
      },
      "execution_count": null,
      "outputs": [
        {
          "output_type": "stream",
          "name": "stdout",
          "text": [
            "Hello\n",
            "Welcome\n",
            "to\n",
            "Lab\n"
          ]
        }
      ]
    },
    {
      "cell_type": "markdown",
      "source": [
        ""
      ],
      "metadata": {
        "id": "mECLOK_ld07u"
      }
    },
    {
      "cell_type": "markdown",
      "source": [
        "# **Keyword Arguments**\n",
        "# **You can also send arguments with the key = value syntax.**\n",
        "# This way the order of the arguments does not matter."
      ],
      "metadata": {
        "id": "3CTf7wW2ePAW"
      }
    },
    {
      "cell_type": "code",
      "source": [
        "def my_function(child3, child2, child1):\n",
        "  print(\"The youngest child is \" + child3)\n",
        "\n",
        "my_function(child1 = \"Shivaji\", child2 = \"Sambhaji\", child3 = \"Tanaji\")"
      ],
      "metadata": {
        "colab": {
          "base_uri": "https://localhost:8080/"
        },
        "id": "PBhrl5ZDbnWZ",
        "outputId": "e72bc7ff-86b2-436c-c07f-ba5c0eee1a9a"
      },
      "execution_count": null,
      "outputs": [
        {
          "output_type": "stream",
          "name": "stdout",
          "text": [
            "The youngest child is Tanaji\n"
          ]
        }
      ]
    },
    {
      "cell_type": "code",
      "source": [
        "# Python program to demonstrate Keyword Arguments\n",
        "def student(firstname, lastname):\n",
        "    print(firstname, lastname)\n",
        " \n",
        " \n",
        "# Keyword arguments\n",
        "student(firstname='abdul', lastname='kalam')\n",
        "student(lastname='kalam', firstname='abdul')"
      ],
      "metadata": {
        "id": "2V556XSRCQwB",
        "outputId": "2dbc0fb6-b28e-436a-ee2e-3d331404a1b2",
        "colab": {
          "base_uri": "https://localhost:8080/"
        }
      },
      "execution_count": null,
      "outputs": [
        {
          "output_type": "stream",
          "name": "stdout",
          "text": [
            "abdul kalam\n",
            "abdul kalam\n"
          ]
        }
      ]
    },
    {
      "cell_type": "markdown",
      "source": [
        "# Arbitrary Keyword Arguments, **kwargs **bold text**\n",
        "# If you do not know how many keyword arguments that will be passed into your function, add two asterisk: ** before the parameter name in the function definition. **bold text**\n",
        "\n",
        "# **This way the function will receive a dictionary of arguments, and can access the items accordingly:**"
      ],
      "metadata": {
        "id": "00Jeg6yCeTv3"
      }
    },
    {
      "cell_type": "code",
      "source": [
        "def my_function(**kid):\n",
        "  print(\"His last name is \" + kid[\"lname\"])\n",
        "\n",
        "my_function(fname = \"Shivaji\", lname = \"Bhosale\")"
      ],
      "metadata": {
        "id": "5fgBSvh2cPVA",
        "outputId": "e7ffa8b6-fdf0-4a02-8718-14894b949ddc",
        "colab": {
          "base_uri": "https://localhost:8080/"
        }
      },
      "execution_count": null,
      "outputs": [
        {
          "output_type": "stream",
          "name": "stdout",
          "text": [
            "His last name is Bhosale\n"
          ]
        }
      ]
    },
    {
      "cell_type": "code",
      "source": [
        "# Python program to illustrate\n",
        "# *kwargs for variable number of keyword arguments\n",
        " \n",
        " \n",
        "def myFun(**kwargs):\n",
        "    for key, value in kwargs.items():\n",
        "        print(\"%s == %s\" % (key, value))\n",
        " \n",
        " \n",
        "# Driver code\n",
        "myFun(first='Pune', mid='Satara', last='Kolhapur')"
      ],
      "metadata": {
        "id": "WjTjhfLdEhoZ",
        "outputId": "9219922e-e405-4b10-d244-6e8283ad50ce",
        "colab": {
          "base_uri": "https://localhost:8080/"
        }
      },
      "execution_count": null,
      "outputs": [
        {
          "output_type": "stream",
          "name": "stdout",
          "text": [
            "first == Pune\n",
            "mid == Satara\n",
            "last == Kolhapur\n"
          ]
        }
      ]
    },
    {
      "cell_type": "markdown",
      "source": [
        "Passing a List as an Argument\n",
        "You can send any data types of argument to a function (string, number, list, dictionary etc.), and it will be treated as the same data type inside the function.\n",
        "\n",
        "# E.g. if you send a List as an argument, it will still be a List when it reaches the function: **bold text**"
      ],
      "metadata": {
        "id": "kPuZ8zf2jn1t"
      }
    },
    {
      "cell_type": "code",
      "source": [
        "def my_function(food):\n",
        "  for x in food:\n",
        "    print(x)\n",
        "\n",
        "fruits = [\"apple\", \"banana\", \"cherry\"]\n",
        "\n",
        "my_function(fruits)"
      ],
      "metadata": {
        "colab": {
          "base_uri": "https://localhost:8080/"
        },
        "id": "pNqFBmPmjreu",
        "outputId": "b8fa51a4-7ee1-4ce4-cd9a-ae7bb2a51554"
      },
      "execution_count": null,
      "outputs": [
        {
          "output_type": "stream",
          "name": "stdout",
          "text": [
            "apple\n",
            "banana\n",
            "cherry\n"
          ]
        }
      ]
    },
    {
      "cell_type": "markdown",
      "source": [
        "Return Values\n",
        "# **To let a function return a value, use the return statement:**"
      ],
      "metadata": {
        "id": "vSTEAyTojz5p"
      }
    },
    {
      "cell_type": "code",
      "source": [
        "def my_function(x):\n",
        "  return 5 * x\n",
        "\n",
        "print(my_function(3))\n",
        "print(my_function(5))\n",
        "print(my_function(9))"
      ],
      "metadata": {
        "colab": {
          "base_uri": "https://localhost:8080/"
        },
        "id": "ripepXDEj0v5",
        "outputId": "2d2b8b6f-c225-49f2-c633-d99331217f04"
      },
      "execution_count": null,
      "outputs": [
        {
          "output_type": "stream",
          "name": "stdout",
          "text": [
            "15\n",
            "25\n",
            "45\n"
          ]
        }
      ]
    },
    {
      "cell_type": "code",
      "source": [
        "def square_value(num):\n",
        "    \"\"\"This function returns the square\n",
        "    value of the entered number\"\"\"\n",
        "    return num**2\n",
        " \n",
        " \n",
        "print(square_value(2))\n",
        "print(square_value(-4))"
      ],
      "metadata": {
        "id": "kRZcQRkXFOL_",
        "outputId": "c194d1a6-9ab8-414e-84a5-5f8b3f36d5b8",
        "colab": {
          "base_uri": "https://localhost:8080/"
        }
      },
      "execution_count": null,
      "outputs": [
        {
          "output_type": "stream",
          "name": "stdout",
          "text": [
            "4\n",
            "16\n"
          ]
        }
      ]
    },
    {
      "cell_type": "markdown",
      "source": [
        "Anonymous functions: \n",
        "# **In Python, an anonymous function means that a function is without a name. As we already know the def keyword is used to define the normal functions and the lambda keyword is used to create anonymous functions. Please see this for details.**"
      ],
      "metadata": {
        "id": "lRAY8Dq4Zrmu"
      }
    },
    {
      "cell_type": "code",
      "source": [
        "# Python code to illustrate the cube of a number\n",
        "# using lambda function\n",
        " \n",
        " \n",
        "def cube(x): return x*x*x\n",
        " \n",
        "cube_v2 = lambda x : x*x*x\n",
        " \n",
        "print(cube(7))\n",
        "print(cube_v2(7))"
      ],
      "metadata": {
        "id": "IwD0kTeqZuEt",
        "outputId": "be78a3f9-480f-4758-af03-90ef452b6576",
        "colab": {
          "base_uri": "https://localhost:8080/"
        }
      },
      "execution_count": null,
      "outputs": [
        {
          "output_type": "stream",
          "name": "stdout",
          "text": [
            "343\n",
            "343\n"
          ]
        }
      ]
    },
    {
      "cell_type": "markdown",
      "source": [
        "# **Python Function within Functions**\n",
        "# **A function that is defined inside another function is known as the inner function or nested function. Nested functions are able to access variables of the enclosing scope. Inner functions are used so that they can be protected from everything happening outside the function.**"
      ],
      "metadata": {
        "id": "vo5B5DPrZ84n"
      }
    },
    {
      "cell_type": "code",
      "source": [
        "# Python program to\n",
        "# demonstrate accessing of\n",
        "# variables of nested functions\n",
        " \n",
        "def f1():\n",
        "    s = 'I love my country'\n",
        "     \n",
        "    def f2():\n",
        "        print(s)\n",
        "         \n",
        "    f2()\n",
        " \n",
        "# Driver's code\n",
        "f1()"
      ],
      "metadata": {
        "id": "-NseTj0caE27",
        "outputId": "bcd26202-cd70-46e9-8aa0-5ebbbf96c67d",
        "colab": {
          "base_uri": "https://localhost:8080/"
        }
      },
      "execution_count": null,
      "outputs": [
        {
          "output_type": "stream",
          "name": "stdout",
          "text": [
            "I love my country\n"
          ]
        }
      ]
    },
    {
      "cell_type": "markdown",
      "source": [
        "# **Difference between lambda and normal function call **"
      ],
      "metadata": {
        "id": "SX8E2PAKa5SD"
      }
    },
    {
      "cell_type": "code",
      "source": [
        "# Python program to illustrate cube of a number \n",
        "# showing difference between def() and lambda().\n",
        " \n",
        " \n",
        "def cube(y):\n",
        "    return y*y*y;\n",
        "   \n",
        "g = lambda x: x*x*x\n",
        "print(g(7))\n",
        "   \n",
        "print(cube(5))"
      ],
      "metadata": {
        "id": "8dJWfvlra4ir",
        "outputId": "a46508bd-3db2-482d-cb31-bbfef32ff139",
        "colab": {
          "base_uri": "https://localhost:8080/"
        }
      },
      "execution_count": null,
      "outputs": [
        {
          "output_type": "stream",
          "name": "stdout",
          "text": [
            "343\n",
            "125\n"
          ]
        }
      ]
    },
    {
      "cell_type": "markdown",
      "source": [
        "# **Recursion**\n",
        "# **Python also accepts function recursion, which means a defined function can call itself.**\n",
        "# **Following is an example of a recursive function to find the factorial of an integer.**\n",
        "\n",
        "# Factorial of a number is the product of all the integers from 1 to that number. For example, the factorial of 6 (denoted as 6!) is 1*2*3*4*5*6 = 720.**bold text** **bold text**"
      ],
      "metadata": {
        "id": "3gvlXViikb0x"
      }
    },
    {
      "cell_type": "code",
      "source": [
        "def factorial(x):\n",
        "    \"\"\"This is a recursive function\n",
        "    to find the factorial of an integer\"\"\"\n",
        "\n",
        "    if x == 1:\n",
        "        return 1\n",
        "    else:\n",
        "        return (x * factorial(x-1))\n",
        "\n",
        "\n",
        "num = 3\n",
        "print(\"The factorial of\", num, \"is\", factorial(num))"
      ],
      "metadata": {
        "colab": {
          "base_uri": "https://localhost:8080/"
        },
        "id": "S3x1ElD_kz_x",
        "outputId": "af4a5eff-cc9b-4c45-bafb-b3551ffaf6b3"
      },
      "execution_count": null,
      "outputs": [
        {
          "output_type": "stream",
          "name": "stdout",
          "text": [
            "The factorial of 3 is 6\n"
          ]
        }
      ]
    },
    {
      "cell_type": "code",
      "source": [
        "factorial(3)          # 1st call with 3\n",
        "3 * factorial(2)      # 2nd call with 2\n",
        "3 * 2 * factorial(1)  # 3rd call with 1\n",
        "3 * 2 * 1             # return from 3rd call as number=1\n",
        "3 * 2                 # return from 2nd call\n",
        "6                     # return from 1st call"
      ],
      "metadata": {
        "id": "fax_mqtolQje"
      },
      "execution_count": null,
      "outputs": []
    },
    {
      "cell_type": "markdown",
      "source": [
        "# **Using a recursive function to calculate the sum of a sequence**"
      ],
      "metadata": {
        "id": "HRO3DBQVi7rd"
      }
    },
    {
      "cell_type": "code",
      "source": [
        "def sum(n):\n",
        "    total = 0\n",
        "    for index in range(n+1):\n",
        "        total += index\n",
        "\n",
        "    return total\n",
        "\n",
        "\n",
        "result = sum(100)\n",
        "print(result)"
      ],
      "metadata": {
        "id": "-nn4YNZeizmf",
        "outputId": "fc4db672-01ab-4cc9-f4dc-51180ab5b292",
        "colab": {
          "base_uri": "https://localhost:8080/"
        }
      },
      "execution_count": 17,
      "outputs": [
        {
          "output_type": "stream",
          "name": "stdout",
          "text": [
            "5050\n"
          ]
        }
      ]
    }
  ]
}