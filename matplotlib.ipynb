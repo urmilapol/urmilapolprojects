{
  "nbformat": 4,
  "nbformat_minor": 0,
  "metadata": {
    "colab": {
      "name": "matplotlib.ipynb",
      "provenance": [],
      "authorship_tag": "ABX9TyNsVHuleN9fOlJY7n28+/e0",
      "include_colab_link": true
    },
    "kernelspec": {
      "name": "python3",
      "display_name": "Python 3"
    },
    "language_info": {
      "name": "python"
    }
  },
  "cells": [
    {
      "cell_type": "markdown",
      "metadata": {
        "id": "view-in-github",
        "colab_type": "text"
      },
      "source": [
        "<a href=\"https://colab.research.google.com/github/urmilapol/urmilapolprojects/blob/master/matplotlib.ipynb\" target=\"_parent\"><img src=\"https://colab.research.google.com/assets/colab-badge.svg\" alt=\"Open In Colab\"/></a>"
      ]
    },
    {
      "cell_type": "markdown",
      "source": [
        "# **The aim of this project is to predict the number of food orders that customers will place in the upcoming weeks with the company. **\n",
        "\n",
        "# **Our dataset has three dataframes: df_meal describing the meals, df_center describing the food centers, and df_food describing the overall food order. **\n",
        "\n",
        "# **https://www.kaggle.com/kannanaikkal/food-demand-forecasting?select=fulfilment_center_info.csv**\n",
        "\n",
        "https://www.analyticsvidhya.com/blog/2020/02/beginner-guide-matplotlib-data-visualization-exploration-python/"
      ],
      "metadata": {
        "id": "SAm0RDgVK9yR"
      }
    },
    {
      "cell_type": "markdown",
      "source": [
        ""
      ],
      "metadata": {
        "id": "IidZo3BrLPha"
      }
    },
    {
      "cell_type": "code",
      "execution_count": 1,
      "metadata": {
        "id": "FkSEJXQCJOp8"
      },
      "outputs": [],
      "source": [
        "import pandas as pd \n",
        "import numpy as np \n",
        "import matplotlib.pyplot as plt \n",
        "plt.style.use('seaborn')"
      ]
    },
    {
      "cell_type": "code",
      "source": [
        "df_meal = pd.read_csv('/content/sample_data/meal_info.csv') \n",
        "df_meal.head()"
      ],
      "metadata": {
        "colab": {
          "base_uri": "https://localhost:8080/",
          "height": 206
        },
        "id": "9bRUZpVDKVpu",
        "outputId": "0060d436-50c1-4707-8c3c-b9f996bb7708"
      },
      "execution_count": 2,
      "outputs": [
        {
          "output_type": "execute_result",
          "data": {
            "text/html": [
              "\n",
              "  <div id=\"df-15f6988d-b4c6-4429-96dc-f3d5dbbd2d8d\">\n",
              "    <div class=\"colab-df-container\">\n",
              "      <div>\n",
              "<style scoped>\n",
              "    .dataframe tbody tr th:only-of-type {\n",
              "        vertical-align: middle;\n",
              "    }\n",
              "\n",
              "    .dataframe tbody tr th {\n",
              "        vertical-align: top;\n",
              "    }\n",
              "\n",
              "    .dataframe thead th {\n",
              "        text-align: right;\n",
              "    }\n",
              "</style>\n",
              "<table border=\"1\" class=\"dataframe\">\n",
              "  <thead>\n",
              "    <tr style=\"text-align: right;\">\n",
              "      <th></th>\n",
              "      <th>meal_id</th>\n",
              "      <th>category</th>\n",
              "      <th>cuisine</th>\n",
              "    </tr>\n",
              "  </thead>\n",
              "  <tbody>\n",
              "    <tr>\n",
              "      <th>0</th>\n",
              "      <td>1885</td>\n",
              "      <td>Beverages</td>\n",
              "      <td>Thai</td>\n",
              "    </tr>\n",
              "    <tr>\n",
              "      <th>1</th>\n",
              "      <td>1993</td>\n",
              "      <td>Beverages</td>\n",
              "      <td>Thai</td>\n",
              "    </tr>\n",
              "    <tr>\n",
              "      <th>2</th>\n",
              "      <td>2539</td>\n",
              "      <td>Beverages</td>\n",
              "      <td>Thai</td>\n",
              "    </tr>\n",
              "    <tr>\n",
              "      <th>3</th>\n",
              "      <td>1248</td>\n",
              "      <td>Beverages</td>\n",
              "      <td>Indian</td>\n",
              "    </tr>\n",
              "    <tr>\n",
              "      <th>4</th>\n",
              "      <td>2631</td>\n",
              "      <td>Beverages</td>\n",
              "      <td>Indian</td>\n",
              "    </tr>\n",
              "  </tbody>\n",
              "</table>\n",
              "</div>\n",
              "      <button class=\"colab-df-convert\" onclick=\"convertToInteractive('df-15f6988d-b4c6-4429-96dc-f3d5dbbd2d8d')\"\n",
              "              title=\"Convert this dataframe to an interactive table.\"\n",
              "              style=\"display:none;\">\n",
              "        \n",
              "  <svg xmlns=\"http://www.w3.org/2000/svg\" height=\"24px\"viewBox=\"0 0 24 24\"\n",
              "       width=\"24px\">\n",
              "    <path d=\"M0 0h24v24H0V0z\" fill=\"none\"/>\n",
              "    <path d=\"M18.56 5.44l.94 2.06.94-2.06 2.06-.94-2.06-.94-.94-2.06-.94 2.06-2.06.94zm-11 1L8.5 8.5l.94-2.06 2.06-.94-2.06-.94L8.5 2.5l-.94 2.06-2.06.94zm10 10l.94 2.06.94-2.06 2.06-.94-2.06-.94-.94-2.06-.94 2.06-2.06.94z\"/><path d=\"M17.41 7.96l-1.37-1.37c-.4-.4-.92-.59-1.43-.59-.52 0-1.04.2-1.43.59L10.3 9.45l-7.72 7.72c-.78.78-.78 2.05 0 2.83L4 21.41c.39.39.9.59 1.41.59.51 0 1.02-.2 1.41-.59l7.78-7.78 2.81-2.81c.8-.78.8-2.07 0-2.86zM5.41 20L4 18.59l7.72-7.72 1.47 1.35L5.41 20z\"/>\n",
              "  </svg>\n",
              "      </button>\n",
              "      \n",
              "  <style>\n",
              "    .colab-df-container {\n",
              "      display:flex;\n",
              "      flex-wrap:wrap;\n",
              "      gap: 12px;\n",
              "    }\n",
              "\n",
              "    .colab-df-convert {\n",
              "      background-color: #E8F0FE;\n",
              "      border: none;\n",
              "      border-radius: 50%;\n",
              "      cursor: pointer;\n",
              "      display: none;\n",
              "      fill: #1967D2;\n",
              "      height: 32px;\n",
              "      padding: 0 0 0 0;\n",
              "      width: 32px;\n",
              "    }\n",
              "\n",
              "    .colab-df-convert:hover {\n",
              "      background-color: #E2EBFA;\n",
              "      box-shadow: 0px 1px 2px rgba(60, 64, 67, 0.3), 0px 1px 3px 1px rgba(60, 64, 67, 0.15);\n",
              "      fill: #174EA6;\n",
              "    }\n",
              "\n",
              "    [theme=dark] .colab-df-convert {\n",
              "      background-color: #3B4455;\n",
              "      fill: #D2E3FC;\n",
              "    }\n",
              "\n",
              "    [theme=dark] .colab-df-convert:hover {\n",
              "      background-color: #434B5C;\n",
              "      box-shadow: 0px 1px 3px 1px rgba(0, 0, 0, 0.15);\n",
              "      filter: drop-shadow(0px 1px 2px rgba(0, 0, 0, 0.3));\n",
              "      fill: #FFFFFF;\n",
              "    }\n",
              "  </style>\n",
              "\n",
              "      <script>\n",
              "        const buttonEl =\n",
              "          document.querySelector('#df-15f6988d-b4c6-4429-96dc-f3d5dbbd2d8d button.colab-df-convert');\n",
              "        buttonEl.style.display =\n",
              "          google.colab.kernel.accessAllowed ? 'block' : 'none';\n",
              "\n",
              "        async function convertToInteractive(key) {\n",
              "          const element = document.querySelector('#df-15f6988d-b4c6-4429-96dc-f3d5dbbd2d8d');\n",
              "          const dataTable =\n",
              "            await google.colab.kernel.invokeFunction('convertToInteractive',\n",
              "                                                     [key], {});\n",
              "          if (!dataTable) return;\n",
              "\n",
              "          const docLinkHtml = 'Like what you see? Visit the ' +\n",
              "            '<a target=\"_blank\" href=https://colab.research.google.com/notebooks/data_table.ipynb>data table notebook</a>'\n",
              "            + ' to learn more about interactive tables.';\n",
              "          element.innerHTML = '';\n",
              "          dataTable['output_type'] = 'display_data';\n",
              "          await google.colab.output.renderOutput(dataTable, element);\n",
              "          const docLink = document.createElement('div');\n",
              "          docLink.innerHTML = docLinkHtml;\n",
              "          element.appendChild(docLink);\n",
              "        }\n",
              "      </script>\n",
              "    </div>\n",
              "  </div>\n",
              "  "
            ],
            "text/plain": [
              "   meal_id   category cuisine\n",
              "0     1885  Beverages    Thai\n",
              "1     1993  Beverages    Thai\n",
              "2     2539  Beverages    Thai\n",
              "3     1248  Beverages  Indian\n",
              "4     2631  Beverages  Indian"
            ]
          },
          "metadata": {},
          "execution_count": 2
        }
      ]
    },
    {
      "cell_type": "code",
      "source": [
        "df_center = pd.read_csv('/content/sample_data/fulfilment_center_info.csv') \n",
        "df_center.head()"
      ],
      "metadata": {
        "colab": {
          "base_uri": "https://localhost:8080/",
          "height": 206
        },
        "id": "G0zRov8lKk7Y",
        "outputId": "7b78c5bb-6460-4185-9b05-f0bde42cc619"
      },
      "execution_count": 3,
      "outputs": [
        {
          "output_type": "execute_result",
          "data": {
            "text/html": [
              "\n",
              "  <div id=\"df-dc03f89d-25d8-401f-bd54-a71df00cf24b\">\n",
              "    <div class=\"colab-df-container\">\n",
              "      <div>\n",
              "<style scoped>\n",
              "    .dataframe tbody tr th:only-of-type {\n",
              "        vertical-align: middle;\n",
              "    }\n",
              "\n",
              "    .dataframe tbody tr th {\n",
              "        vertical-align: top;\n",
              "    }\n",
              "\n",
              "    .dataframe thead th {\n",
              "        text-align: right;\n",
              "    }\n",
              "</style>\n",
              "<table border=\"1\" class=\"dataframe\">\n",
              "  <thead>\n",
              "    <tr style=\"text-align: right;\">\n",
              "      <th></th>\n",
              "      <th>center_id</th>\n",
              "      <th>city_code</th>\n",
              "      <th>region_code</th>\n",
              "      <th>center_type</th>\n",
              "      <th>op_area</th>\n",
              "    </tr>\n",
              "  </thead>\n",
              "  <tbody>\n",
              "    <tr>\n",
              "      <th>0</th>\n",
              "      <td>11</td>\n",
              "      <td>679</td>\n",
              "      <td>56</td>\n",
              "      <td>TYPE_A</td>\n",
              "      <td>3.7</td>\n",
              "    </tr>\n",
              "    <tr>\n",
              "      <th>1</th>\n",
              "      <td>13</td>\n",
              "      <td>590</td>\n",
              "      <td>56</td>\n",
              "      <td>TYPE_B</td>\n",
              "      <td>6.7</td>\n",
              "    </tr>\n",
              "    <tr>\n",
              "      <th>2</th>\n",
              "      <td>124</td>\n",
              "      <td>590</td>\n",
              "      <td>56</td>\n",
              "      <td>TYPE_C</td>\n",
              "      <td>4.0</td>\n",
              "    </tr>\n",
              "    <tr>\n",
              "      <th>3</th>\n",
              "      <td>66</td>\n",
              "      <td>648</td>\n",
              "      <td>34</td>\n",
              "      <td>TYPE_A</td>\n",
              "      <td>4.1</td>\n",
              "    </tr>\n",
              "    <tr>\n",
              "      <th>4</th>\n",
              "      <td>94</td>\n",
              "      <td>632</td>\n",
              "      <td>34</td>\n",
              "      <td>TYPE_C</td>\n",
              "      <td>3.6</td>\n",
              "    </tr>\n",
              "  </tbody>\n",
              "</table>\n",
              "</div>\n",
              "      <button class=\"colab-df-convert\" onclick=\"convertToInteractive('df-dc03f89d-25d8-401f-bd54-a71df00cf24b')\"\n",
              "              title=\"Convert this dataframe to an interactive table.\"\n",
              "              style=\"display:none;\">\n",
              "        \n",
              "  <svg xmlns=\"http://www.w3.org/2000/svg\" height=\"24px\"viewBox=\"0 0 24 24\"\n",
              "       width=\"24px\">\n",
              "    <path d=\"M0 0h24v24H0V0z\" fill=\"none\"/>\n",
              "    <path d=\"M18.56 5.44l.94 2.06.94-2.06 2.06-.94-2.06-.94-.94-2.06-.94 2.06-2.06.94zm-11 1L8.5 8.5l.94-2.06 2.06-.94-2.06-.94L8.5 2.5l-.94 2.06-2.06.94zm10 10l.94 2.06.94-2.06 2.06-.94-2.06-.94-.94-2.06-.94 2.06-2.06.94z\"/><path d=\"M17.41 7.96l-1.37-1.37c-.4-.4-.92-.59-1.43-.59-.52 0-1.04.2-1.43.59L10.3 9.45l-7.72 7.72c-.78.78-.78 2.05 0 2.83L4 21.41c.39.39.9.59 1.41.59.51 0 1.02-.2 1.41-.59l7.78-7.78 2.81-2.81c.8-.78.8-2.07 0-2.86zM5.41 20L4 18.59l7.72-7.72 1.47 1.35L5.41 20z\"/>\n",
              "  </svg>\n",
              "      </button>\n",
              "      \n",
              "  <style>\n",
              "    .colab-df-container {\n",
              "      display:flex;\n",
              "      flex-wrap:wrap;\n",
              "      gap: 12px;\n",
              "    }\n",
              "\n",
              "    .colab-df-convert {\n",
              "      background-color: #E8F0FE;\n",
              "      border: none;\n",
              "      border-radius: 50%;\n",
              "      cursor: pointer;\n",
              "      display: none;\n",
              "      fill: #1967D2;\n",
              "      height: 32px;\n",
              "      padding: 0 0 0 0;\n",
              "      width: 32px;\n",
              "    }\n",
              "\n",
              "    .colab-df-convert:hover {\n",
              "      background-color: #E2EBFA;\n",
              "      box-shadow: 0px 1px 2px rgba(60, 64, 67, 0.3), 0px 1px 3px 1px rgba(60, 64, 67, 0.15);\n",
              "      fill: #174EA6;\n",
              "    }\n",
              "\n",
              "    [theme=dark] .colab-df-convert {\n",
              "      background-color: #3B4455;\n",
              "      fill: #D2E3FC;\n",
              "    }\n",
              "\n",
              "    [theme=dark] .colab-df-convert:hover {\n",
              "      background-color: #434B5C;\n",
              "      box-shadow: 0px 1px 3px 1px rgba(0, 0, 0, 0.15);\n",
              "      filter: drop-shadow(0px 1px 2px rgba(0, 0, 0, 0.3));\n",
              "      fill: #FFFFFF;\n",
              "    }\n",
              "  </style>\n",
              "\n",
              "      <script>\n",
              "        const buttonEl =\n",
              "          document.querySelector('#df-dc03f89d-25d8-401f-bd54-a71df00cf24b button.colab-df-convert');\n",
              "        buttonEl.style.display =\n",
              "          google.colab.kernel.accessAllowed ? 'block' : 'none';\n",
              "\n",
              "        async function convertToInteractive(key) {\n",
              "          const element = document.querySelector('#df-dc03f89d-25d8-401f-bd54-a71df00cf24b');\n",
              "          const dataTable =\n",
              "            await google.colab.kernel.invokeFunction('convertToInteractive',\n",
              "                                                     [key], {});\n",
              "          if (!dataTable) return;\n",
              "\n",
              "          const docLinkHtml = 'Like what you see? Visit the ' +\n",
              "            '<a target=\"_blank\" href=https://colab.research.google.com/notebooks/data_table.ipynb>data table notebook</a>'\n",
              "            + ' to learn more about interactive tables.';\n",
              "          element.innerHTML = '';\n",
              "          dataTable['output_type'] = 'display_data';\n",
              "          await google.colab.output.renderOutput(dataTable, element);\n",
              "          const docLink = document.createElement('div');\n",
              "          docLink.innerHTML = docLinkHtml;\n",
              "          element.appendChild(docLink);\n",
              "        }\n",
              "      </script>\n",
              "    </div>\n",
              "  </div>\n",
              "  "
            ],
            "text/plain": [
              "   center_id  city_code  region_code center_type  op_area\n",
              "0         11        679           56      TYPE_A      3.7\n",
              "1         13        590           56      TYPE_B      6.7\n",
              "2        124        590           56      TYPE_C      4.0\n",
              "3         66        648           34      TYPE_A      4.1\n",
              "4         94        632           34      TYPE_C      3.6"
            ]
          },
          "metadata": {},
          "execution_count": 3
        }
      ]
    },
    {
      "cell_type": "code",
      "source": [
        "df_food = pd.read_csv('/content/sample_data/train.csv') \n",
        "df_food.head()"
      ],
      "metadata": {
        "colab": {
          "base_uri": "https://localhost:8080/",
          "height": 206
        },
        "id": "r0IZbRGNLeUx",
        "outputId": "34229db2-80f6-4b9e-d413-73f71679f3bf"
      },
      "execution_count": 4,
      "outputs": [
        {
          "output_type": "execute_result",
          "data": {
            "text/html": [
              "\n",
              "  <div id=\"df-a6a0c500-4e83-404a-81df-91d8f1b8d825\">\n",
              "    <div class=\"colab-df-container\">\n",
              "      <div>\n",
              "<style scoped>\n",
              "    .dataframe tbody tr th:only-of-type {\n",
              "        vertical-align: middle;\n",
              "    }\n",
              "\n",
              "    .dataframe tbody tr th {\n",
              "        vertical-align: top;\n",
              "    }\n",
              "\n",
              "    .dataframe thead th {\n",
              "        text-align: right;\n",
              "    }\n",
              "</style>\n",
              "<table border=\"1\" class=\"dataframe\">\n",
              "  <thead>\n",
              "    <tr style=\"text-align: right;\">\n",
              "      <th></th>\n",
              "      <th>id</th>\n",
              "      <th>week</th>\n",
              "      <th>center_id</th>\n",
              "      <th>meal_id</th>\n",
              "      <th>checkout_price</th>\n",
              "      <th>base_price</th>\n",
              "      <th>emailer_for_promotion</th>\n",
              "      <th>homepage_featured</th>\n",
              "      <th>num_orders</th>\n",
              "    </tr>\n",
              "  </thead>\n",
              "  <tbody>\n",
              "    <tr>\n",
              "      <th>0</th>\n",
              "      <td>1379560</td>\n",
              "      <td>1</td>\n",
              "      <td>55</td>\n",
              "      <td>1885</td>\n",
              "      <td>136.83</td>\n",
              "      <td>152.29</td>\n",
              "      <td>0</td>\n",
              "      <td>0</td>\n",
              "      <td>177.0</td>\n",
              "    </tr>\n",
              "    <tr>\n",
              "      <th>1</th>\n",
              "      <td>1466964</td>\n",
              "      <td>1</td>\n",
              "      <td>55</td>\n",
              "      <td>1993</td>\n",
              "      <td>136.83</td>\n",
              "      <td>135.83</td>\n",
              "      <td>0</td>\n",
              "      <td>0</td>\n",
              "      <td>270.0</td>\n",
              "    </tr>\n",
              "    <tr>\n",
              "      <th>2</th>\n",
              "      <td>1346989</td>\n",
              "      <td>1</td>\n",
              "      <td>55</td>\n",
              "      <td>2539</td>\n",
              "      <td>134.86</td>\n",
              "      <td>135.86</td>\n",
              "      <td>0</td>\n",
              "      <td>0</td>\n",
              "      <td>189.0</td>\n",
              "    </tr>\n",
              "    <tr>\n",
              "      <th>3</th>\n",
              "      <td>1338232</td>\n",
              "      <td>1</td>\n",
              "      <td>55</td>\n",
              "      <td>2139</td>\n",
              "      <td>339.50</td>\n",
              "      <td>437.53</td>\n",
              "      <td>0</td>\n",
              "      <td>0</td>\n",
              "      <td>54.0</td>\n",
              "    </tr>\n",
              "    <tr>\n",
              "      <th>4</th>\n",
              "      <td>1448490</td>\n",
              "      <td>1</td>\n",
              "      <td>55</td>\n",
              "      <td>2631</td>\n",
              "      <td>243.50</td>\n",
              "      <td>242.50</td>\n",
              "      <td>0</td>\n",
              "      <td>0</td>\n",
              "      <td>40.0</td>\n",
              "    </tr>\n",
              "  </tbody>\n",
              "</table>\n",
              "</div>\n",
              "      <button class=\"colab-df-convert\" onclick=\"convertToInteractive('df-a6a0c500-4e83-404a-81df-91d8f1b8d825')\"\n",
              "              title=\"Convert this dataframe to an interactive table.\"\n",
              "              style=\"display:none;\">\n",
              "        \n",
              "  <svg xmlns=\"http://www.w3.org/2000/svg\" height=\"24px\"viewBox=\"0 0 24 24\"\n",
              "       width=\"24px\">\n",
              "    <path d=\"M0 0h24v24H0V0z\" fill=\"none\"/>\n",
              "    <path d=\"M18.56 5.44l.94 2.06.94-2.06 2.06-.94-2.06-.94-.94-2.06-.94 2.06-2.06.94zm-11 1L8.5 8.5l.94-2.06 2.06-.94-2.06-.94L8.5 2.5l-.94 2.06-2.06.94zm10 10l.94 2.06.94-2.06 2.06-.94-2.06-.94-.94-2.06-.94 2.06-2.06.94z\"/><path d=\"M17.41 7.96l-1.37-1.37c-.4-.4-.92-.59-1.43-.59-.52 0-1.04.2-1.43.59L10.3 9.45l-7.72 7.72c-.78.78-.78 2.05 0 2.83L4 21.41c.39.39.9.59 1.41.59.51 0 1.02-.2 1.41-.59l7.78-7.78 2.81-2.81c.8-.78.8-2.07 0-2.86zM5.41 20L4 18.59l7.72-7.72 1.47 1.35L5.41 20z\"/>\n",
              "  </svg>\n",
              "      </button>\n",
              "      \n",
              "  <style>\n",
              "    .colab-df-container {\n",
              "      display:flex;\n",
              "      flex-wrap:wrap;\n",
              "      gap: 12px;\n",
              "    }\n",
              "\n",
              "    .colab-df-convert {\n",
              "      background-color: #E8F0FE;\n",
              "      border: none;\n",
              "      border-radius: 50%;\n",
              "      cursor: pointer;\n",
              "      display: none;\n",
              "      fill: #1967D2;\n",
              "      height: 32px;\n",
              "      padding: 0 0 0 0;\n",
              "      width: 32px;\n",
              "    }\n",
              "\n",
              "    .colab-df-convert:hover {\n",
              "      background-color: #E2EBFA;\n",
              "      box-shadow: 0px 1px 2px rgba(60, 64, 67, 0.3), 0px 1px 3px 1px rgba(60, 64, 67, 0.15);\n",
              "      fill: #174EA6;\n",
              "    }\n",
              "\n",
              "    [theme=dark] .colab-df-convert {\n",
              "      background-color: #3B4455;\n",
              "      fill: #D2E3FC;\n",
              "    }\n",
              "\n",
              "    [theme=dark] .colab-df-convert:hover {\n",
              "      background-color: #434B5C;\n",
              "      box-shadow: 0px 1px 3px 1px rgba(0, 0, 0, 0.15);\n",
              "      filter: drop-shadow(0px 1px 2px rgba(0, 0, 0, 0.3));\n",
              "      fill: #FFFFFF;\n",
              "    }\n",
              "  </style>\n",
              "\n",
              "      <script>\n",
              "        const buttonEl =\n",
              "          document.querySelector('#df-a6a0c500-4e83-404a-81df-91d8f1b8d825 button.colab-df-convert');\n",
              "        buttonEl.style.display =\n",
              "          google.colab.kernel.accessAllowed ? 'block' : 'none';\n",
              "\n",
              "        async function convertToInteractive(key) {\n",
              "          const element = document.querySelector('#df-a6a0c500-4e83-404a-81df-91d8f1b8d825');\n",
              "          const dataTable =\n",
              "            await google.colab.kernel.invokeFunction('convertToInteractive',\n",
              "                                                     [key], {});\n",
              "          if (!dataTable) return;\n",
              "\n",
              "          const docLinkHtml = 'Like what you see? Visit the ' +\n",
              "            '<a target=\"_blank\" href=https://colab.research.google.com/notebooks/data_table.ipynb>data table notebook</a>'\n",
              "            + ' to learn more about interactive tables.';\n",
              "          element.innerHTML = '';\n",
              "          dataTable['output_type'] = 'display_data';\n",
              "          await google.colab.output.renderOutput(dataTable, element);\n",
              "          const docLink = document.createElement('div');\n",
              "          docLink.innerHTML = docLinkHtml;\n",
              "          element.appendChild(docLink);\n",
              "        }\n",
              "      </script>\n",
              "    </div>\n",
              "  </div>\n",
              "  "
            ],
            "text/plain": [
              "        id  week  ...  homepage_featured  num_orders\n",
              "0  1379560     1  ...                  0       177.0\n",
              "1  1466964     1  ...                  0       270.0\n",
              "2  1346989     1  ...                  0       189.0\n",
              "3  1338232     1  ...                  0        54.0\n",
              "4  1448490     1  ...                  0        40.0\n",
              "\n",
              "[5 rows x 9 columns]"
            ]
          },
          "metadata": {},
          "execution_count": 4
        }
      ]
    },
    {
      "cell_type": "markdown",
      "source": [
        "**first merge all the three dataframes into a single dataframe. This will make it easier to manipulate the data while plotting it:** **bold text** bold text"
      ],
      "metadata": {
        "id": "zJhb9MxTM9JV"
      }
    },
    {
      "cell_type": "code",
      "source": [
        "df = pd.merge(df_food,df_center,on='center_id') \n",
        "df = pd.merge(df,df_meal,on='meal_id')"
      ],
      "metadata": {
        "id": "TJDSnurVNEa-"
      },
      "execution_count": 5,
      "outputs": []
    },
    {
      "cell_type": "markdown",
      "source": [
        "# Bar Graph using **matplotlib**\n",
        "First, we want to find the most popular food item that customers have bought from the company.\n",
        "\n",
        "I will be using the Pandas pivot_table function to find the total number of orders for each category of the food item:"
      ],
      "metadata": {
        "id": "BnDGGDs2NRGv"
      }
    },
    {
      "cell_type": "code",
      "source": [
        "table = pd.pivot_table(data=df,index='category',values='num_orders',aggfunc=np.sum)\n",
        "table"
      ],
      "metadata": {
        "colab": {
          "base_uri": "https://localhost:8080/",
          "height": 520
        },
        "id": "D4YLAug2NSj2",
        "outputId": "1fc1b611-aaca-4119-b735-26bf1177633e"
      },
      "execution_count": 6,
      "outputs": [
        {
          "output_type": "execute_result",
          "data": {
            "text/html": [
              "\n",
              "  <div id=\"df-5ab0c670-ad95-40f0-b064-e144898c7eaa\">\n",
              "    <div class=\"colab-df-container\">\n",
              "      <div>\n",
              "<style scoped>\n",
              "    .dataframe tbody tr th:only-of-type {\n",
              "        vertical-align: middle;\n",
              "    }\n",
              "\n",
              "    .dataframe tbody tr th {\n",
              "        vertical-align: top;\n",
              "    }\n",
              "\n",
              "    .dataframe thead th {\n",
              "        text-align: right;\n",
              "    }\n",
              "</style>\n",
              "<table border=\"1\" class=\"dataframe\">\n",
              "  <thead>\n",
              "    <tr style=\"text-align: right;\">\n",
              "      <th></th>\n",
              "      <th>num_orders</th>\n",
              "    </tr>\n",
              "    <tr>\n",
              "      <th>category</th>\n",
              "      <th></th>\n",
              "    </tr>\n",
              "  </thead>\n",
              "  <tbody>\n",
              "    <tr>\n",
              "      <th>Beverages</th>\n",
              "      <td>38776057.0</td>\n",
              "    </tr>\n",
              "    <tr>\n",
              "      <th>Biryani</th>\n",
              "      <td>601448.0</td>\n",
              "    </tr>\n",
              "    <tr>\n",
              "      <th>Desert</th>\n",
              "      <td>1845596.0</td>\n",
              "    </tr>\n",
              "    <tr>\n",
              "      <th>Extras</th>\n",
              "      <td>3812730.0</td>\n",
              "    </tr>\n",
              "    <tr>\n",
              "      <th>Fish</th>\n",
              "      <td>775813.0</td>\n",
              "    </tr>\n",
              "    <tr>\n",
              "      <th>Other Snacks</th>\n",
              "      <td>4573965.0</td>\n",
              "    </tr>\n",
              "    <tr>\n",
              "      <th>Pasta</th>\n",
              "      <td>1558069.0</td>\n",
              "    </tr>\n",
              "    <tr>\n",
              "      <th>Pizza</th>\n",
              "      <td>6919016.0</td>\n",
              "    </tr>\n",
              "    <tr>\n",
              "      <th>Rice Bowl</th>\n",
              "      <td>20115088.0</td>\n",
              "    </tr>\n",
              "    <tr>\n",
              "      <th>Salad</th>\n",
              "      <td>10427942.0</td>\n",
              "    </tr>\n",
              "    <tr>\n",
              "      <th>Sandwich</th>\n",
              "      <td>17036475.0</td>\n",
              "    </tr>\n",
              "    <tr>\n",
              "      <th>Seafood</th>\n",
              "      <td>2627038.0</td>\n",
              "    </tr>\n",
              "    <tr>\n",
              "      <th>Soup</th>\n",
              "      <td>970318.0</td>\n",
              "    </tr>\n",
              "    <tr>\n",
              "      <th>Starters</th>\n",
              "      <td>4516213.0</td>\n",
              "    </tr>\n",
              "  </tbody>\n",
              "</table>\n",
              "</div>\n",
              "      <button class=\"colab-df-convert\" onclick=\"convertToInteractive('df-5ab0c670-ad95-40f0-b064-e144898c7eaa')\"\n",
              "              title=\"Convert this dataframe to an interactive table.\"\n",
              "              style=\"display:none;\">\n",
              "        \n",
              "  <svg xmlns=\"http://www.w3.org/2000/svg\" height=\"24px\"viewBox=\"0 0 24 24\"\n",
              "       width=\"24px\">\n",
              "    <path d=\"M0 0h24v24H0V0z\" fill=\"none\"/>\n",
              "    <path d=\"M18.56 5.44l.94 2.06.94-2.06 2.06-.94-2.06-.94-.94-2.06-.94 2.06-2.06.94zm-11 1L8.5 8.5l.94-2.06 2.06-.94-2.06-.94L8.5 2.5l-.94 2.06-2.06.94zm10 10l.94 2.06.94-2.06 2.06-.94-2.06-.94-.94-2.06-.94 2.06-2.06.94z\"/><path d=\"M17.41 7.96l-1.37-1.37c-.4-.4-.92-.59-1.43-.59-.52 0-1.04.2-1.43.59L10.3 9.45l-7.72 7.72c-.78.78-.78 2.05 0 2.83L4 21.41c.39.39.9.59 1.41.59.51 0 1.02-.2 1.41-.59l7.78-7.78 2.81-2.81c.8-.78.8-2.07 0-2.86zM5.41 20L4 18.59l7.72-7.72 1.47 1.35L5.41 20z\"/>\n",
              "  </svg>\n",
              "      </button>\n",
              "      \n",
              "  <style>\n",
              "    .colab-df-container {\n",
              "      display:flex;\n",
              "      flex-wrap:wrap;\n",
              "      gap: 12px;\n",
              "    }\n",
              "\n",
              "    .colab-df-convert {\n",
              "      background-color: #E8F0FE;\n",
              "      border: none;\n",
              "      border-radius: 50%;\n",
              "      cursor: pointer;\n",
              "      display: none;\n",
              "      fill: #1967D2;\n",
              "      height: 32px;\n",
              "      padding: 0 0 0 0;\n",
              "      width: 32px;\n",
              "    }\n",
              "\n",
              "    .colab-df-convert:hover {\n",
              "      background-color: #E2EBFA;\n",
              "      box-shadow: 0px 1px 2px rgba(60, 64, 67, 0.3), 0px 1px 3px 1px rgba(60, 64, 67, 0.15);\n",
              "      fill: #174EA6;\n",
              "    }\n",
              "\n",
              "    [theme=dark] .colab-df-convert {\n",
              "      background-color: #3B4455;\n",
              "      fill: #D2E3FC;\n",
              "    }\n",
              "\n",
              "    [theme=dark] .colab-df-convert:hover {\n",
              "      background-color: #434B5C;\n",
              "      box-shadow: 0px 1px 3px 1px rgba(0, 0, 0, 0.15);\n",
              "      filter: drop-shadow(0px 1px 2px rgba(0, 0, 0, 0.3));\n",
              "      fill: #FFFFFF;\n",
              "    }\n",
              "  </style>\n",
              "\n",
              "      <script>\n",
              "        const buttonEl =\n",
              "          document.querySelector('#df-5ab0c670-ad95-40f0-b064-e144898c7eaa button.colab-df-convert');\n",
              "        buttonEl.style.display =\n",
              "          google.colab.kernel.accessAllowed ? 'block' : 'none';\n",
              "\n",
              "        async function convertToInteractive(key) {\n",
              "          const element = document.querySelector('#df-5ab0c670-ad95-40f0-b064-e144898c7eaa');\n",
              "          const dataTable =\n",
              "            await google.colab.kernel.invokeFunction('convertToInteractive',\n",
              "                                                     [key], {});\n",
              "          if (!dataTable) return;\n",
              "\n",
              "          const docLinkHtml = 'Like what you see? Visit the ' +\n",
              "            '<a target=\"_blank\" href=https://colab.research.google.com/notebooks/data_table.ipynb>data table notebook</a>'\n",
              "            + ' to learn more about interactive tables.';\n",
              "          element.innerHTML = '';\n",
              "          dataTable['output_type'] = 'display_data';\n",
              "          await google.colab.output.renderOutput(dataTable, element);\n",
              "          const docLink = document.createElement('div');\n",
              "          docLink.innerHTML = docLinkHtml;\n",
              "          element.appendChild(docLink);\n",
              "        }\n",
              "      </script>\n",
              "    </div>\n",
              "  </div>\n",
              "  "
            ],
            "text/plain": [
              "              num_orders\n",
              "category                \n",
              "Beverages     38776057.0\n",
              "Biryani         601448.0\n",
              "Desert         1845596.0\n",
              "Extras         3812730.0\n",
              "Fish            775813.0\n",
              "Other Snacks   4573965.0\n",
              "Pasta          1558069.0\n",
              "Pizza          6919016.0\n",
              "Rice Bowl     20115088.0\n",
              "Salad         10427942.0\n",
              "Sandwich      17036475.0\n",
              "Seafood        2627038.0\n",
              "Soup            970318.0\n",
              "Starters       4516213.0"
            ]
          },
          "metadata": {},
          "execution_count": 6
        }
      ]
    },
    {
      "cell_type": "markdown",
      "source": [
        "try to visualize this using a bar graph.\n",
        "\n",
        "Bar graphs are best used when we need to compare the quantity of categorical values within the same category.\n",
        "\n",
        "Bar graph is generated using plt.bar() in matplotlib:"
      ],
      "metadata": {
        "id": "zxd0xJ5fN9D5"
      }
    },
    {
      "cell_type": "code",
      "source": [
        "#bar graph\n",
        "plt.bar(table.index,table['num_orders'])\n",
        "\n",
        "#xticks \n",
        "plt.xticks(rotation=70) \n",
        "\n",
        "#x-axis labels \n",
        "plt.xlabel('Food item') \n",
        "\n",
        "#y-axis labels \n",
        "plt.ylabel('Quantity sold') \n",
        "\n",
        "#plot title \n",
        "plt.title('Most popular food') \n",
        "\n",
        "#save plot \n",
        "plt.savefig('C:\\\\Users\\\\computerscience\\\\Desktop\\\\datasets\\\\food\\\\matplotlib_plotting_6.png',dpi=300,bbox_inches='tight') \n",
        "\n",
        "#display \n",
        "plt.show();"
      ],
      "metadata": {
        "colab": {
          "base_uri": "https://localhost:8080/",
          "height": 345
        },
        "id": "hGyaJ29aXyMV",
        "outputId": "8b5cb3ee-a355-4bd5-830c-b1f4e45aca12"
      },
      "execution_count": 25,
      "outputs": [
        {
          "output_type": "display_data",
          "data": {
            "image/png": "[encoded data removed]",
            "text/plain": [
              "<Figure size 432x288 with 1 Axes>"
            ]
          },
          "metadata": {
            "needs_background": "light"
          }
        }
      ]
    },
    {
      "cell_type": "markdown",
      "source": [
        "It is always important to label your axis. You can do this by employing the plt.xlabel() and plt.ylabel() functions. You can use plt.title() for naming the title of the plot. If your xticks are overlapping, rotate them using the rotate parameter in plt.xticks() so that they are easy to view for the audience.\n",
        "\n",
        "You can save your plot using the plt.savefig() function by providing the file path as a parameter. Finally, always display your plot using plt.show().\n",
        "\n",
        "While analyzing the plot, we can see that Beverages were the most popular food item sold by the company. Wait, was it because they were sold with almost all the meals? Was Rice Bowl the most popular food item?\n",
        "\n"
      ],
      "metadata": {
        "id": "GHWiB97_ZkWo"
      }
    },
    {
      "cell_type": "markdown",
      "source": [
        "Let’s divide the total food item order by the number of unique meals it is present in."
      ],
      "metadata": {
        "id": "04ex3i2MZoPm"
      }
    },
    {
      "cell_type": "code",
      "source": [
        "#dictionary for meals per food item\n",
        "item_count = {}\n",
        "\n",
        "for i in range(table.index.nunique()):\n",
        "    item_count[table.index[i]] = table.num_orders[i]/df_meal[df_meal['category']==table.index[i]].shape[0]\n",
        "\n",
        "#bar plot \n",
        "plt.bar([x for x in item_count.keys()],[x for x in item_count.values()],color='orange')\n",
        "\n",
        "#adjust xticks\n",
        "plt.xticks(rotation=70)\n",
        "\n",
        "#label x-axis\n",
        "plt.xlabel('Food item')\n",
        "\n",
        "#label y-axis\n",
        "plt.ylabel('No. of meals')\n",
        "\n",
        "#label the plot\n",
        "plt.title('Meals per food item')\n",
        "\n",
        "#save plot\n",
        "plt.savefig('C:\\\\Users\\\\computerscience\\\\Desktop\\\\datasets\\\\food\\\\matplotlib_plotting_7.png',dpi=300,bbox_inches='tight')\n",
        "\n",
        "#display plot\n",
        "plt.show();"
      ],
      "metadata": {
        "colab": {
          "base_uri": "https://localhost:8080/",
          "height": 345
        },
        "id": "d5PmEjyFZxTn",
        "outputId": "095d104a-e470-4222-eb20-af3a167e94b1"
      },
      "execution_count": 19,
      "outputs": [
        {
          "output_type": "display_data",
          "data": {
            "image/png": "[encoded data removed]",
            "text/plain": [
              "<Figure size 432x288 with 1 Axes>"
            ]
          },
          "metadata": {
            "needs_background": "light"
          }
        }
      ]
    },
    {
      "cell_type": "markdown",
      "source": [
        "our hypothesis was correct! Rice Bowl was indeed the most popular food item sold by the company.\n",
        "\n",
        "Bar graphs should not be used for continuous values."
      ],
      "metadata": {
        "id": "XA-Vjl60aJP6"
      }
    },
    {
      "cell_type": "markdown",
      "source": [
        "Pie Chart using matplotlib\n",
        "Let us now see the ratio of orders from each cuisine.\n",
        "\n",
        "A pie chart is suitable to show the proportional distribution of items within the same category."
      ],
      "metadata": {
        "id": "_3F8Le_HaaU-"
      }
    },
    {
      "cell_type": "code",
      "source": [
        "#dictionary for cuisine and its total orders\n",
        "d_cuisine = {}\n",
        "\n",
        "#total number of order\n",
        "total = df['num_orders'].sum()\n",
        "\n",
        "#find ratio of orders per cuisine\n",
        "for i in range(df['cuisine'].nunique()):\n",
        "\n",
        "#cuisine\n",
        "  c=df['cuisine'].unique()[i]\n",
        "\n",
        "#num of orders for the cuisine\n",
        "c_order = df[df['cuisine']==c]['num_orders'].sum()\n",
        "d_cuisine[c] = c_order/total"
      ],
      "metadata": {
        "id": "ad34ejS2d-O3"
      },
      "execution_count": 37,
      "outputs": []
    },
    {
      "cell_type": "code",
      "source": [
        "#pie plot \n",
        "plt.pie([x*100 for x in d_cuisine.values()],labels=[x for x in d_cuisine.keys()],autopct='%0.1f',explode=[0,0,0.1,0]) \n",
        "\n",
        "#label the plot \n",
        "plt.title('Cuisine share %') \n",
        "plt.savefig('C:\\\\Users\\\\computerscience\\\\Desktop\\\\datasets\\\\food\\\\matplotlib_plotting_8.png',dpi=300,bbox_inches='tight') \n",
        "plt.show();"
      ],
      "metadata": {
        "id": "CYNXKHyvgeWh"
      },
      "execution_count": null,
      "outputs": []
    },
    {
      "cell_type": "markdown",
      "source": [
        "I used plt.pie() to draw the pie chart and adjust its parameters to make it more appealing\n",
        "The autopct parameter was used to print the values within the pie chart up to 1 decimal place\n",
        "The explode parameter was used to offset the Italian wedge to make it stand out from the rest. This makes it instantly clear to the viewer that people love Italian food!\n",
        "A pie chart is rendered useless when there are a lot of items within a category. This will decrease the size of each slice and there will be no distinction between the items.\n",
        "\n",
        " "
      ],
      "metadata": {
        "id": "GutKAmJeko53"
      }
    },
    {
      "cell_type": "markdown",
      "source": [
        "# **Box Plot using matplotlib**\n",
        "Since we are discussing cuisine, let’s check out which one is the most expensive cuisine! For this, I will be using a Box Plot.\n",
        "\n",
        "Box plot gives statistical information about the distribution of numeric data divided into different groups. It is useful for detecting outliers within each group.\n",
        "\n",
        "The lower, middle and upper part of the box represents the 25th, 50th, and 75th percentile values respectively\n",
        "The top whisker represents Q3+1.5*IQR\n",
        "The bottom whisker represents Q1-1.5*IQR\n",
        "Outliers are shown as scatter points\n",
        "Shows skewness in the data"
      ],
      "metadata": {
        "id": "LLMhQ2btkz7r"
      }
    },
    {
      "cell_type": "code",
      "source": [
        "#dictionary for base price per cuisine\n",
        "c_price = {}\n",
        "for i in df['cuisine'].unique():\n",
        "    c_price[i] = df[df['cuisine']==i].base_price"
      ],
      "metadata": {
        "id": "uA4XH5ZDk-85"
      },
      "execution_count": 48,
      "outputs": []
    },
    {
      "cell_type": "code",
      "source": [
        "#plotting boxplot \n",
        "plt.boxplot([x for x in c_price.values()],labels=[x for x in c_price.keys()]) \n",
        "\n",
        "#x and y-axis labels \n",
        "plt.xlabel('Cuisine') \n",
        "plt.ylabel('Price') \n",
        "\n",
        "#plot title \n",
        "plt.title('Analysing cuisine price') \n",
        "\n",
        "#save and display \n",
        "plt.savefig('C:\\\\Users\\\\computerscience\\\\Desktop\\\\datasets\\\\food\\\\matplotlib_plotting_9.png',dpi=300,bbox_inches='tight') \n",
        "plt.show();"
      ],
      "metadata": {
        "colab": {
          "base_uri": "https://localhost:8080/",
          "height": 349
        },
        "id": "x6vXfqwrlIQU",
        "outputId": "59dc3c34-4f33-4ee4-e169-27b49d9f23d0"
      },
      "execution_count": 49,
      "outputs": [
        {
          "output_type": "stream",
          "name": "stderr",
          "text": [
            "/usr/local/lib/python3.7/dist-packages/numpy/core/_asarray.py:83: VisibleDeprecationWarning: Creating an ndarray from ragged nested sequences (which is a list-or-tuple of lists-or-tuples-or ndarrays with different lengths or shapes) is deprecated. If you meant to do this, you must specify 'dtype=object' when creating the ndarray\n",
            "  return array(a, dtype, copy=False, order=order)\n"
          ]
        },
        {
          "output_type": "display_data",
          "data": {
            "image/png": "[encoded data removed]",
            "text/plain": [
              "<Figure size 432x288 with 1 Axes>"
            ]
          },
          "metadata": {
            "needs_background": "light"
          }
        }
      ]
    },
    {
      "cell_type": "markdown",
      "source": [
        "Continental cuisine was the most expensive cuisine served by the company! Even its median price is higher than the maximum price of all the cuisines.\n",
        "\n",
        "Box plot does not show the distribution of data points within each group.\n",
        "\n",
        " "
      ],
      "metadata": {
        "id": "zrCVR3sklUC7"
      }
    },
    {
      "cell_type": "markdown",
      "source": [
        "# **Histogram using matplotlib**\n",
        "On the topic of prices, did we forget to inspect the base price and checkout price? Don’t worry, we will do that using a histogram.\n",
        "\n",
        "A histogram shows the distribution of numeric data through a continuous interval by segmenting data into different bins. Useful for inspecting skewness in the data.\n",
        "\n",
        "Since base_price is a continuous variable, we will inspect its range in different distinct orders using a histogram. We can do this using plt.hist().\n",
        "\n",
        "But the confusing part is what should be the number of bins? By default, it is 10. However, there is no correct answer and you can vary it according to your dataset to best visualize it."
      ],
      "metadata": {
        "id": "XM9QYdCbla_v"
      }
    },
    {
      "cell_type": "code",
      "source": [
        "#plotting histogram \n",
        "plt.hist(df['base_price'],rwidth=0.9,alpha=0.3,color='blue',bins=15,edgecolor='red') \n",
        "\n",
        "#x and y-axis labels \n",
        "plt.xlabel('Base price range') \n",
        "plt.ylabel('Distinct order') \n",
        "\n",
        "#plot title \n",
        "plt.title('Inspecting price effect') \n",
        "\n",
        "#save and display the plot \n",
        "plt.savefig('C:\\\\Users\\\\computerscience\\\\Desktop\\\\datasets\\\\food\\\\matplotlib_plotting_10.png',dpi=300,bbox_inches='tight') \n",
        "plt.show();"
      ],
      "metadata": {
        "colab": {
          "base_uri": "https://localhost:8080/",
          "height": 294
        },
        "id": "U1lNxuhalX3W",
        "outputId": "a11ce47b-171a-4717-8ef4-c68458223f07"
      },
      "execution_count": 50,
      "outputs": [
        {
          "output_type": "display_data",
          "data": {
            "image/png": "[encoded data removed]",
            "text/plain": [
              "<Figure size 432x288 with 1 Axes>"
            ]
          },
          "metadata": {
            "needs_background": "light"
          }
        }
      ]
    },
    {
      "cell_type": "markdown",
      "source": [
        "I have chosen the number of bins as 15 and it is evident that most of the orders had a base price of ~300.\n",
        "\n",
        "It is easy to confuse histograms with bar plots. But remember, histograms are used with continuous data whereas bar plots are used with categorical data."
      ],
      "metadata": {
        "id": "H9mKMt3Nl4bm"
      }
    },
    {
      "cell_type": "markdown",
      "source": [
        "# **Line Plot and Subplots using matplotlib**\n",
        "A line plot is useful for visualizing the trend in a numerical value over a continuous time interval.\n",
        "\n",
        "How are the weekly and monthly sales of the company varying? This is a critical business question that makes or breaks the marketing strategy.\n",
        "\n",
        "Before exploring that, I will create two lists for storing the week-wise and month-wise revenue of the company:"
      ],
      "metadata": {
        "id": "mbJ5rxJGl9Tz"
      }
    },
    {
      "cell_type": "code",
      "source": [
        "#new revenue column \n",
        "df['revenue'] = df.apply(lambda x: x.checkout_price*x.num_orders,axis=1) \n",
        "\n",
        "#new month column \n",
        "df['month'] = df['week'].apply(lambda x: x//4) \n",
        "\n",
        "#list to store month-wise revenue \n",
        "month=[] \n",
        "month_order=[] \n",
        "\n",
        "for i in range(max(df['month'])):\n",
        "    month.append(i) \n",
        "    month_order.append(df[df['month']==i].revenue.sum()) \n",
        "    \n",
        "#list to store week-wise revenue \n",
        "week=[] \n",
        "week_order=[] \n",
        "\n",
        "for i in range(max(df['week'])): \n",
        "    week.append(i) \n",
        "    week_order.append(df[df['week']==i].revenue.sum())"
      ],
      "metadata": {
        "id": "fYbcX4o-mHz7"
      },
      "execution_count": 51,
      "outputs": []
    },
    {
      "cell_type": "markdown",
      "source": [
        "I will compare the revenue of the company in every week as well as in every month using two line-plots drawn side by side. For this, I will be using the plt.subplots() function.\n",
        "\n",
        "Matplotlib subplots makes it easy to view and compare different plots in the same figure.\n",
        "\n",
        "To understand how this function works, you need to know what Figure, Axes, and Axis are in a matplotlib plot.\n",
        "\n",
        "Figure is the outermost container for the Matplotlib plot(s). There can a single or multiple plots, called Axes, within a Figure. Each of these Axes contains the x and y-axis known as the Axis.\n",
        "\n",
        "The plt.subplots() figure returns the figure and axes. You can provide as an input to the function how you want to display the axes within the figure. These will be adjusted using the nrows and ncols parameters. You can even adjust the size of the figure using the figsize parameter.\n",
        "\n",
        "Axes are returned as a list. To plot for specific axes, you can access them as a list object. The rest of the plotting is done the same way as simple plots:"
      ],
      "metadata": {
        "id": "-jvPL4_EmQTz"
      }
    },
    {
      "cell_type": "code",
      "source": [
        "#subplots returns a Figure and an Axes object \n",
        "fig,ax=plt.subplots(nrows=1,ncols=2,figsize=(20,5)) \n",
        "\n",
        "#manipulating the first Axes \n",
        "ax[0].plot(week,week_order) \n",
        "ax[0].set_xlabel('Week') \n",
        "ax[0].set_ylabel('Revenue') \n",
        "ax[0].set_title('Weekly income') \n",
        "\n",
        "#manipulating the second Axes \n",
        "ax[1].plot(month,month_order) \n",
        "ax[1].set_xlabel('Month') \n",
        "ax[1].set_ylabel('Revenue') \n",
        "ax[1].set_title('Monthly income') \n",
        "\n",
        "#save and display the plot \n",
        "plt.savefig('C:\\\\Users\\\\computerscience\\\\Desktop\\\\datasets\\\\food\\\\matplotlib_plotting_11.png',dpi=300,bbox_inches='tight') \n",
        "plt.show();"
      ],
      "metadata": {
        "colab": {
          "base_uri": "https://localhost:8080/",
          "height": 349
        },
        "id": "M6B6lFAsmUF5",
        "outputId": "ae29fff4-c9ee-463a-93c1-838c9a0c772f"
      },
      "execution_count": 52,
      "outputs": [
        {
          "output_type": "display_data",
          "data": {
            "image/png": "[encoded data removed]",
            "text/plain": [
              "<Figure size 1440x360 with 2 Axes>"
            ]
          },
          "metadata": {
            "needs_background": "light"
          }
        }
      ]
    },
    {
      "cell_type": "markdown",
      "source": [
        "We can see an increasing trend in the number of food orders with the number of weeks and months, though the trend is not very strong.\n",
        "\n",
        " "
      ],
      "metadata": {
        "id": "HplIGntumfqC"
      }
    },
    {
      "cell_type": "markdown",
      "source": [
        "# **Scatter Plot using matplotlib**\n",
        "Finally, I will try to analyze whether the center type had any effect on the number of orders from different center types. I will do this by comparing a scatter plot, a boxplot and a bar graph in the same figure.\n",
        "\n",
        "We have already seen the use of boxplots and bar graphs, but scatter plots have their own advantages.\n",
        "\n",
        "Scatter plots are useful for showing the relationship between two variables. Any correlation between variables or outliers in the data can be easily spotted using scatter plots."
      ],
      "metadata": {
        "id": "ErwrKI7GmkA7"
      }
    },
    {
      "cell_type": "code",
      "source": [
        "center_type_name = ['TYPE_A','TYPE_B','TYPE_C'] \n",
        "\n",
        "#relation between op area and number of orders \n",
        "op_table=pd.pivot_table(df,index='op_area',values='num_orders',aggfunc=np.sum) \n",
        "\n",
        "#relation between center type and op area \n",
        "c_type = {} \n",
        "for i in center_type_name: \n",
        "    c_type[i] = df[df['center_type']==i].op_area \n",
        "\n",
        "#relation between center type and num of orders \n",
        "center_table=pd.pivot_table(df,index='center_type',values='num_orders',aggfunc=np.sum) \n",
        "\n",
        "#subplots \n",
        "fig,ax = plt.subplots(nrows=3,ncols=1,figsize=(8,12)) \n",
        "\n",
        "#scatter plots \n",
        "ax[0].scatter(op_table.index,op_table['num_orders'],color='pink') \n",
        "ax[0].set_xlabel('Operation area') \n",
        "ax[0].set_ylabel('Number of orders') \n",
        "ax[0].set_title('Does operation area affect num of orders?') \n",
        "ax[0].annotate('optimum operation area of 4 km^2',xy=(4.2,1.1*10**7),xytext=(7,1.1*10**7),arrowprops=dict(facecolor='black', shrink=0.05),fontsize=12) \n",
        "\n",
        "#boxplot \n",
        "ax[1].boxplot([x for x in c_type.values()], labels=[x for x in c_type.keys()]) \n",
        "ax[1].set_xlabel('Center type') \n",
        "ax[1].set_ylabel('Operation area') \n",
        "ax[1].set_title('Which center type had the optimum operation area?') \n",
        "\n",
        "#bar graph \n",
        "ax[2].bar(center_table.index,center_table['num_orders'],alpha=0.7,color='orange',width=0.5) \n",
        "ax[2].set_xlabel('Center type') \n",
        "ax[2].set_ylabel('Number of orders') \n",
        "ax[2].set_title('Orders per center type') \n",
        "\n",
        "#show figure \n",
        "plt.tight_layout() \n",
        "plt.savefig('C:\\\\Users\\\\computerscience\\\\Desktop\\\\datasets\\\\food\\\\matplotlib_plotting_12.png',dpi=300,bbox_inches='tight') \n",
        "plt.show();"
      ],
      "metadata": {
        "colab": {
          "base_uri": "https://localhost:8080/",
          "height": 928
        },
        "id": "v9OTtsVymuNa",
        "outputId": "409b3b29-5767-4688-cb33-1324c3bd530e"
      },
      "execution_count": 53,
      "outputs": [
        {
          "output_type": "stream",
          "name": "stderr",
          "text": [
            "/usr/local/lib/python3.7/dist-packages/numpy/core/_asarray.py:83: VisibleDeprecationWarning: Creating an ndarray from ragged nested sequences (which is a list-or-tuple of lists-or-tuples-or ndarrays with different lengths or shapes) is deprecated. If you meant to do this, you must specify 'dtype=object' when creating the ndarray\n",
            "  return array(a, dtype, copy=False, order=order)\n"
          ]
        },
        {
          "output_type": "display_data",
          "data": {
            "image/png": "[encoded data removed]",
            "text/plain": [
              "<Figure size 576x864 with 3 Axes>"
            ]
          },
          "metadata": {
            "needs_background": "light"
          }
        }
      ]
    },
    {
      "cell_type": "markdown",
      "source": [
        "The scatter plot makes it instantly visible that the optimum operation area of a center is 4 km sq. The boxplot shows that the TYPE_A center type had the most number of optimum size centers because of a compact box with a median around 4 km sq. Because of this, they had more orders placed by customers than any other center type."
      ],
      "metadata": {
        "id": "pbBAnPkcm8f_"
      }
    }
  ]
}