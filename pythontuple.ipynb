{
  "nbformat": 4,
  "nbformat_minor": 0,
  "metadata": {
    "colab": {
      "name": "pythontuple.ipynb",
      "provenance": [],
      "authorship_tag": "ABX9TyOktd0WACxlQwNTj60Py0/e",
      "include_colab_link": true
    },
    "kernelspec": {
      "name": "python3",
      "display_name": "Python 3"
    },
    "language_info": {
      "name": "python"
    }
  },
  "cells": [
    {
      "cell_type": "markdown",
      "metadata": {
        "id": "view-in-github",
        "colab_type": "text"
      },
      "source": [
        "<a href=\"https://colab.research.google.com/github/urmilapol/urmilapolprojects/blob/master/pythontuple.ipynb\" target=\"_parent\"><img src=\"https://colab.research.google.com/assets/colab-badge.svg\" alt=\"Open In Colab\"/></a>"
      ]
    },
    {
      "cell_type": "code",
      "execution_count": null,
      "metadata": {
        "id": "Q2MrQWcJdLha"
      },
      "outputs": [],
      "source": [
        ""
      ]
    },
    {
      "cell_type": "markdown",
      "source": [
        "https://github.com/Akuli/python-tutorial/blob/master/basics/lists-and-tuples.md\n",
        "Tuples\n",
        "Tuples are a lot like lists, but they're immutable so they can't be changed in-place. We create them like lists, but with () instead of [].\n",
        "\n",
        "A tuple is similar to a list. The difference between the two is that we cannot change the elements of a tuple once it is assigned whereas in a list, elements can be changed. - We generally use tuple for heterogeneous (different) datatypes and list for homogeneous (similar) datatypes.\n",
        "- Since tuple are immutable, iterating through tuple is faster than with list. So there is a slight performance boost. - Tuples that contain immutable elements can be used as key for a dictionary. With list, this is not possible.- If you have data that doesn't change, implementing it as tuple will guarantee that it remains write-protected."
      ],
      "metadata": {
        "id": "JrhSG5p9ddTn"
      }
    },
    {
      "cell_type": "markdown",
      "source": [
        "Creating a Tuple\n",
        "A tuple is created by placing all the items (elements) inside parentheses (), separated by commas. The parentheses are optional, however, it is a good practice to use them.\n",
        "\n",
        "A tuple can have any number of items and they may be of different types (integer, float, list, string, etc.). "
      ],
      "metadata": {
        "id": "YbIJ44WveWVD"
      }
    },
    {
      "cell_type": "markdown",
      "source": [
        ""
      ],
      "metadata": {
        "id": "D6INiyFGeXJR"
      }
    },
    {
      "cell_type": "code",
      "source": [
        "# Different types of tuples\n",
        "\n",
        "# Empty tuple\n",
        "my_tuple = ()\n",
        "print(my_tuple)\n",
        "\n",
        "# Tuple having integers\n",
        "my_tuple = (1, 2, 3)\n",
        "print(my_tuple)\n",
        "\n",
        "# tuple with mixed datatypes\n",
        "my_tuple = (1, \"Hello\", 3.4)\n",
        "print(my_tuple)\n",
        "\n",
        "# nested tuple\n",
        "my_tuple = (\"mouse\", [8, 4, 6], (1, 2, 3))\n",
        "print(my_tuple)"
      ],
      "metadata": {
        "colab": {
          "base_uri": "https://localhost:8080/"
        },
        "id": "JpEKZ1Mseb8o",
        "outputId": "2543ab66-895f-4e88-a674-f4e941adf3f6"
      },
      "execution_count": 1,
      "outputs": [
        {
          "output_type": "stream",
          "name": "stdout",
          "text": [
            "()\n",
            "(1, 2, 3)\n",
            "(1, 'Hello', 3.4)\n",
            "('mouse', [8, 4, 6], (1, 2, 3))\n"
          ]
        }
      ]
    },
    {
      "cell_type": "markdown",
      "source": [
        "A tuple can also be created without using parentheses. This is known as tuple packing.\n"
      ],
      "metadata": {
        "id": "TuSaNWj4fght"
      }
    },
    {
      "cell_type": "code",
      "source": [
        "my_tuple = 3, 4.6, \"dog\"\n",
        "print(my_tuple)\n",
        "\n",
        "# tuple unpacking is also possible\n",
        "a, b, c = my_tuple\n",
        "\n",
        "print(a)      # 3\n",
        "print(b)      # 4.6\n",
        "print(c)      # dog"
      ],
      "metadata": {
        "colab": {
          "base_uri": "https://localhost:8080/"
        },
        "id": "cVEfC0QnfiU8",
        "outputId": "6f91b70f-0305-4e0f-be1c-221449d45154"
      },
      "execution_count": 2,
      "outputs": [
        {
          "output_type": "stream",
          "name": "stdout",
          "text": [
            "(3, 4.6, 'dog')\n",
            "3\n",
            "4.6\n",
            "dog\n"
          ]
        }
      ]
    },
    {
      "cell_type": "markdown",
      "source": [
        "Creating a tuple with one element is a bit tricky.\n",
        "\n",
        "Having one element within parentheses is not enough. We will need a trailing comma to indicate that it is, in fact, a tuple."
      ],
      "metadata": {
        "id": "waV_9ROugBbe"
      }
    },
    {
      "cell_type": "code",
      "source": [
        "my_tuple = (\"hello\")\n",
        "print(type(my_tuple))  # <class 'str'>\n",
        "\n",
        "# Creating a tuple having one element\n",
        "my_tuple = (\"hello\",)\n",
        "print(type(my_tuple))  # <class 'tuple'>\n",
        "\n",
        "# Parentheses is optional\n",
        "my_tuple = \"hello\",\n",
        "print(type(my_tuple))  # <class 'tuple'>"
      ],
      "metadata": {
        "id": "eLtcZxZbgP9i"
      },
      "execution_count": null,
      "outputs": []
    },
    {
      "cell_type": "markdown",
      "source": [
        "Access Tuple Elements\n",
        "There are various ways in which we can access the elements of a tuple.\n",
        "\n",
        "**1. Indexing**\n",
        "We can use the index operator [] to access an item in a tuple, where the index starts from 0.\n",
        "\n",
        "So, a tuple having 6 elements will have indices from 0 to 5. Trying to access an index outside of the tuple index range(6,7,... in this example) will raise an IndexError.\n",
        "\n",
        "The index must be an integer, so we cannot use float or other types. This will result in TypeError.\n",
        "\n",
        "Likewise, nested tuples are accessed using nested indexing, as shown in the example below."
      ],
      "metadata": {
        "id": "CzRju0h9gayO"
      }
    },
    {
      "cell_type": "code",
      "source": [
        "# Accessing tuple elements using indexing\n",
        "my_tuple = ('p','e','r','m','i','t')\n",
        "\n",
        "print(my_tuple[0])   # 'p' \n",
        "print(my_tuple[5])   # 't'\n",
        "\n",
        "# IndexError: list index out of range\n",
        "# print(my_tuple[6])\n",
        "\n",
        "# Index must be an integer\n",
        "# TypeError: list indices must be integers, not float\n",
        "# my_tuple[2.0]\n",
        "\n",
        "# nested tuple\n",
        "n_tuple = (\"mouse\", [8, 4, 6], (1, 2, 3))\n",
        "\n",
        "# nested index\n",
        "print(n_tuple[0][3])       # 's'\n",
        "print(n_tuple[1][1])       # 4"
      ],
      "metadata": {
        "colab": {
          "base_uri": "https://localhost:8080/"
        },
        "id": "dm-DwDqMghTo",
        "outputId": "0e2699da-a9ed-464d-fb23-c6863ac50784"
      },
      "execution_count": 3,
      "outputs": [
        {
          "output_type": "stream",
          "name": "stdout",
          "text": [
            "p\n",
            "t\n",
            "s\n",
            "4\n"
          ]
        }
      ]
    },
    {
      "cell_type": "markdown",
      "source": [
        "2. Negative Indexing\n",
        "Python allows negative indexing for its sequences.\n",
        "\n",
        "The index of -1 refers to the last item, -2 to the second last item and so on."
      ],
      "metadata": {
        "id": "GBJQzq1Kg_lS"
      }
    },
    {
      "cell_type": "code",
      "source": [
        "# Negative indexing for accessing tuple elements\n",
        "my_tuple = ('p', 'e', 'r', 'm', 'i', 't')\n",
        "\n",
        "# Output: 't'\n",
        "print(my_tuple[-1])\n",
        "\n",
        "# Output: 'p'\n",
        "print(my_tuple[-6])"
      ],
      "metadata": {
        "colab": {
          "base_uri": "https://localhost:8080/"
        },
        "id": "HJL_3mGghJDC",
        "outputId": "99fdd516-312a-4520-ff6c-1840d93c5280"
      },
      "execution_count": 4,
      "outputs": [
        {
          "output_type": "stream",
          "name": "stdout",
          "text": [
            "t\n",
            "p\n"
          ]
        }
      ]
    },
    {
      "cell_type": "markdown",
      "source": [
        "3. Slicing\n",
        "We can access a range of items in a tuple by using the slicing operator colon :."
      ],
      "metadata": {
        "id": "Y0tAlx9ghQSk"
      }
    },
    {
      "cell_type": "code",
      "source": [
        "# Accessing tuple elements using slicing\n",
        "my_tuple = ('p','r','o','g','r','a','m','i','z')\n",
        "\n",
        "# elements 2nd to 4th\n",
        "# Output: ('r', 'o', 'g')\n",
        "print(my_tuple[1:4])\n",
        "\n",
        "# elements beginning to 2nd\n",
        "# Output: ('p', 'r')\n",
        "print(my_tuple[:-7])\n",
        "\n",
        "# elements 8th to end\n",
        "# Output: ('i', 'z')\n",
        "print(my_tuple[7:])\n",
        "\n",
        "# elements beginning to end\n",
        "# Output: ('p', 'r', 'o', 'g', 'r', 'a', 'm', 'i', 'z')\n",
        "print(my_tuple[:])"
      ],
      "metadata": {
        "colab": {
          "base_uri": "https://localhost:8080/"
        },
        "id": "6WRi4KxLhSRl",
        "outputId": "9feb3e81-7b14-4a4d-da46-453e8ccb4654"
      },
      "execution_count": 5,
      "outputs": [
        {
          "output_type": "stream",
          "name": "stdout",
          "text": [
            "('r', 'o', 'g')\n",
            "('p', 'r')\n",
            "('i', 'z')\n",
            "('p', 'r', 'o', 'g', 'r', 'a', 'm', 'i', 'z')\n"
          ]
        }
      ]
    },
    {
      "cell_type": "markdown",
      "source": [
        "![image.png](data:image/png;base64,iVBORw0KGgoAAAANSUhEUgAAAXgAAAB3CAIAAACG3syQAAAgAElEQVR4nO19eZyUxfF3dffzPDN7sIAIEkMkKBoVIuLBKcciIGg4AqgYUfyBRzzxYDkU5BARRNBg1EQCAhqvGAIeQVlZFhRRCYei4MGhaKKAArLszDxHd71/1Myzz861MzszGPPO9/N8YPY5uvqsrq6qrmaICHnkkUceuQT/sTOQRx55/O8jz2jyyCOPnCPPaPLII4+cI89o8sgjj5wjz2jyyCOPnCPPaPLII4+cI89o8sgjj5wjz2jyyCOPnCPPaPLII4+cI89o8sgjj5wjz2jyyCOPnEP7sTOQRx7/S1Axd/JzOUC+FvLII49jgLxEk0ceeaQKN9gDYyytD+vPaFwZMSwU5aNN5JFH7Oj7HxgX6bGU+Kgno1GeClQAHP+7K5TFrpyTAn/iK8p8eZMju+X1Uo8dBf/N4yJ1MIgKXOX9MxXpJktLJyKEMXf+S/BflZljgHx5//+hnnXE5ZUMlKeYPH3umQaj8a6VeOQOiTISgDHgLJLLn3rV/9Tzny7y5f3foJUVMA+vwTCXoZ8KAAEZAiKIY6CjSSSnKgDOkr2QRx55/PeDx/AQFbkQgDNQJFikI9ekwWh4hIMoAAclADDGGAJH4JF1GpHGLHFxAUwCWpala7rGM1lXJ8oQqw5V+3w+y7L8Pn/cN3KqvTBty6cbOUiYcl3TEZTnNwduSdMQuaBbg+pgsKigQAFwAOmhznI5xXNgEOmcnHEEVErGeQ9FNqkyyRgHAOk4AKDpujgmXiOWY2uajjlQAnm1MYwx27GRCQWItaUYlQ6vYWkFJyeWZiJyxkKAEhwOIAAYgs50VfvNzBECUwDXQXdA+iCrnSOSPgOmgW6D5QNf1FMqQph1ZrU5GTATzGLwAYCdxXRroKB2num3HzQFUA1BDYSoNcdkf2BQ6kdVyMdrVWxuGI1yE+fAaEa0wUFQLH7RsltexYAxYAK4BKVAMWC8hkT2y+sdFyLb48JbNQwAQTIAAcy2bUPT3Ue0dCJGk4oyOG1GY9qO0rWDEJKgKxAAoANwAAdQeV7LCnRgVRAsggITLA30uj9IiPg5EsAVoAO2AYZda8gLiAwJ77/ZgAKAAFQXQ7ENtg66qiPl+nmaxmc0CAoBOQgTTD94JbjsMxoEtMAywKiGo0VQ7N6vqybTLW/0+xIcCUoANyCJyJbdwY8A4IBUIDkIAzQLHM/TLDM1ANBBq4KqQigywdSSFRMAYgW6uhmTm2MB4APmB/ABFAJXSgGAwwAABGOuOJN9RkP4AbD78EuOoMkkMABNAUPghu7qpTNcOikGkgMAnNbqlE8+3u73+xHRtjOY+xOYPxFRImoFvl+dfvon2z7m3uWF+47KqsaJKcXARtW2bdudOz7VhZDxRHsPMmA0npZFRMXARunz+U795clf7tljWd76zDKjUQCgcUc6bX91xsfbPhKeZW8dnTK2pRKbohUDHqkfxUAyAIAzWp/29d69VVVHi4oKLcuK/2X2zNuKgeQqiq6U3lJkjRZGaJ3W6pQdH28v8PsVItYx2Oq5JcIdCxrjr7+w/ATwM8fWmQAI17NXGZwrRlMNcM5lvVa9WN4QBE2L3lVGvVBTHRx4ACwTtD5D+qxd9gaJSwyg9izk6bhpzk7K870OYAJ0HHxhxfLVfqgRmRCQAYs12dcXCiK6fAVgA3Qf2vfNv5cbIItAcy13MXlMhFQ7LkkxLGwWRBsgBNB74IUbXq7wA1M1L2RftrcBAgC9B1/43vLVfgAnUnaIX5/R5eUJ/opkVEUsIOE7ClQIbAeMfr/t+9Y/yvV432YL3v6DoGwAE3jPgaUbXq7Qa57XgGVhaaMAQAAPgGOB6DOsb+VLr7vjIjZ99OQhXk9KjdEAAEAIoPNlfctffL0xyAaoAQCLtJ+Xv+WG0SBUM2h/ea/VL7xxAuiGChc3M9SqkAA4P4DSQCsCMBA4AsMoVXjKM2QCSq43s83gMCgBvAFktDZLgWb4lwVQDaBANQRuxG/1LDEaRABgCMhAItqcVQM44DQE4VPR9ZZuNSaHDVAFIEE1Aq6jh0PE13bFMJpar3jaOnxfYUR+oYQZsCo7ZOkaA14C3Ij3bbbg9h9EZAg2Z4dBSZANQfiRxWE0LCuMhgEwC9QPoBiwIgADIuMiNn2WBUZDCAK0v6zv6y++fhzIhi6jibiwuLwmlc7zX+cSqpRCRAas/2/755wYAwXqWBCqgQJQ/Yf2BwAZnpWV54r/frw7id5PCBrh/QderFCGTYS111ZpFiQ5LQCA/r/tr0B5uUwKSLe84fuFeoEOev/Bx64pGWOObZPqt9+Afjm1plE/kaAA1MXD+tXOh6q54iBr/SdD1Fui6Vn+QvkJoPtzINGEAA+B7Qe/D5xcSzQWw2pgAqAoFS1ZPeGdYZQFYIMWAKsJGFrtpx5HyPj5jUGyeSJKonE4PwrAAApA+iPqNJbmSjtF2ADVAAhQBGhgeAxGlk7JJRoFADyBDoWF73slGlpWaAGwgyAAoAjAh25Zcrt0krbNdP0ASA1EEaAPIXb0ZkmiAQDuAHwPoULwayBrJBrvuKD6qSXR1L//AEA1QPvL+6564ceQaKiLRjqqIpJZ5I2WbUl0dNBLB5a6N7Mr2NeAAQKWDriwGuxjyd67D7qQAzfRlDKBtrIGvN6jhTHm1hvjDAEdkN3697Asi3Ne66nnd7YgAXoP6iuVEzUJkSU48SUYCJYA4Ve49w/BQJi2SQaRS4ZezCH7ZUkExni1FdJBlF7i9lUec2UHlh0y0RSgd/OMiziuddHgADzD3IS95xgoVn87T9oSjSI+N7zn6uffOAF0P3JiNJnVqHeYs6PKDHHdB0KAYyAIYDQte5AdiSYUCKJfM7leDVZTMHLmwRYt0QRAcGB+kJ65Fzz5Sp3ppVDrCgEAGQQZVgEI4EWgCoBDBlv+64QFcBSAA+jSMmzU/T5IVqrkymAPPDM2GevCymBUyMQhsACgEejHRkcDAIBgMnUQnGIw9LBEE41s1C3RrBkXJNGI2HVEHInGk1vPnQhSkmhef+H1JiBLQANXjMKfvo4GgEmpOPDO/btB7mQZAADwFxYUcL3ngAt9dTgjZBmlvym1wQmEqrMhV6cKBswBp3OfLrSSya5SJhYGQI/f9CoQBnGZnIIzLkExYAOHDsw1rVpgoJTUQOvcr8cxIFZrXPzU9lD9FzIaMHTDAuvPT/45R7VZU2aFNsAj8+eHwMw6lSQj+bHHHlOgiv3Fx0Yh5848BhhP/vlJBFTZcA5CxCRlNAHmz59voSSRKnXUo0ciIDnLzZ79YPpfJ0gzaelcSKkYsCf+9ES26CZB3eMCEXI8f9QbOXAJRVRKuV3Z62iXuH/XrCKVUgI0AfrtY+6Mt+KNv9IkouTXJx3pJRoMBqMoAYR9V6RSADBuXJkBhgp3rejuhQlARSNCXhLeFBL11DFjxggQHLhpmlFpRtVG1B1Ehsi8dQUAoVDINE0AoH9jqrZGw+GAfffdd4PHGyItSEdKR3qzqmRChoWA48dP0JhIMlwjheSeq/YTrH2Fk46uHyUBQFjg3HPP5Dr1I9RVbNumjCGiZVmxmXRFaWpi+oTKhVDTXrquS1BlZeOS1FtcUGPRSJFO2GuT+nDc/hAZF+L2MbfXqh9P31BA7ns1NzkwDsx7hyGjqnYsJ9Ho8l4RdRiP5m5e3VkKyD6jYYxJKR3HoeEnhAAAakvOuWmabrXGz1Cks82cOTMVWogoHWmaJik4EZFxpus1PjEFBQUJP+dMT41QLKqqqnRd1zQNAPz+sDt/2NDDGEQaIu7EOG/ePA2EA9KXYCdnnSAWwzlXSvn9fsMwAMDn87kMN/YTDsCAz5w5U0+z0Ym5KKWkkoyHO5Zt24wxllQZOXPm/Vr9Fr8IdsgEBCVlip7ZHHgR+B544IE636T+qeu620z0O9b1nDFmmiZnXDrSsizOeCKmOXPm/alk0gufzwcAqJBzLrTwCpon3jlc57hgjNEQUEpVVVWpMKRSUnkhFQ3GY6YyJ+QkZrCmaevWrVuzZg3n3LKs4uJi0zRLS0s7d+4crt/E5bQsSxk6Bz527Nh3X12dnBCls3vP7meeeYZzLqUUQpimefbZZ3fs2LFly5bSkW4rxoIxFgBZVjZu5fKV6fLcwoLCPXv2vPjii2vWrLEsS9O0rl27Dh48+Mwzz9Q0zXVUYYyRxt1b3ltvvbX8tfKGYNiOqYk0moASOXDgwMqVK7ds2bJlyxZd1znnXbp0adeu3cUXXyy44IInqlsJcmzZ2IrnlzcUcRWXcbBw4cKqqqpvv/3W7/c7jvPzn//8zDPP7NixI/HWJAMDAcvGlq1fvtJfDz0Ug9f++drmzZuHDhnarn37Ol/ngtugfpDB8ePGV770ap3v0/SwZs2at956CxFbtWp1xRVXeCcngnRkeXn5hx9+KKXs2rVrr169wiWLQDkSBXDGysaWrV/xRjolhIkTJ3LOi4qKACAUCgkhJk+eLKWkvMXCOy7ee7UyeeIrVqzYuXMn5REAvH371FNPvfLKKxGRuG1aec4IiZYGiSARjyCecnmPLzAURIkqfNMLpdS0adOEECTOAABjzOfztWrV6r333quTRBDVd4ivffhuAJWDSimFtZmyF4i4Zs0ab4mKi4vp3/Hjxx8+fDg+DYWoUCllIf7z443foBPEWml6yxJFjn7Q5ElzCETmEwAY8tsh3377bUydhS+JMoh2+Sf/+g6lhZSa414J6rtW7b700kuNGzcuLCwEAG9H4Zzfcccd1dXViWrVRPw3Oq/v2BRASWWPW95atKXs0aOHtx0Jp5122tq1a5N8aCLuR7nyo402VXVULcSWKiKI0RPHso4/rgkADBk8mFoqnIjnt4PoIEqUEiVRPICy8vMPTUwV1EUZY4Zh7N+/X8paOVJKWZbVqlUrYuXTpk2jm06kT1KGg8qhkgaje0oddTt48ODmzZsLIXRdb9y4cbdu3TBeZ/MiiOo7lK99+E7Qrb3ar9An1GqJxnu3bt0sy4oqbCIcRWx9ed+dqA6hIxHdwYiOwoQli49cMZrx48f7fL4RI0ZUVlauW7du6dKlZ555ps/na9as2d69e5OlL2UQ1feIHYddkgqjkVJWVFQIIbp16/bee++9++67K1euvPPOOxs2bMg5HzNmTDQBVXMpparR6XDpJd+gk3oHRcQ77riDxva99967bds2RNy9e/fSpUvPOOMMIUTv3r2DwaBju4xDYk1FySDKcwf3/g5lEB0p7dSJSikXLVpEfO3666/fuHHjDz/8EAqFPv744/nz53fo0GHv3r3BYDB+H1JoIv4H5fmX/8bE6A6aCFVVVX379gWAP/7xj5WVlZWVlU8//XSPHj10XW/SpMnOnTsTDSQT8Vt0Og67JKgclMpTCwkZDWXbsiyl1Ip/LNc4b9SghAN8t2+/FQyFm0wqupRSEUaDEjFghgIov0PVaUj/dBlNq1atAOCZZ56Jeiql/Oijj2hw6ro+ceJEjGE0dsgMKucAqvOH9EuX0SilHNshTpdKbr3jok5Gs3nz5jUevFW5dt2ayq6dOnOAqVOn0qhJheh/O6NBxHvvvRcAJk+eTF0HER3bOfXUU4uLi3//+98nJ0EVuvqzrekyGkS0LIuWoCtXrgQAIcS+fftqpV6b0diIb36+NUVGQwVZvXo1CTJr1qyh7oKIpmmGQqHq6urWrVtzzhctWpSE0ZR/8q9qRBNliiOeSrpy5UrOOed88eLFgUAgdgbGGrkgNgk0Eb9BVb7rQ4mpMhpE7N69u8/ne++99yzLOnLkCN3s06cP53z8+PGeMtYCSTSrP9sqEVNhNFJKx3bczA+/9LJCn3/6lKk+3Zj30Nxw1dlOIkaDiEfs0GHE9Xu2p8tozjnnHM75pZdeGlUW0zTvvPNOALjssssYY9OmTQsGg4hYS6JRSIym/JPNuWY06BkXiRgNQcro0VJdVbW6vJwDtGrZksTtFIWaLDKaXJm3aR1RXFxMVUm6kmHDhgUCgR07diTcvw9gmiYCcoBx49LW5CuldF1HROnIfv36AYCmaZs2bUr0PmOs2g6VlY2TccJ2xIHjOADw17/+VSl11VVX9ezZkzEmNIGIhmHoul5YWDh58mRN0x544AEuEtbt+PHjf4CQDG+WS6FcUimpZs+ejYhXXnnl1Vdf7ff7OefSkUqFI0K4K7gkunYEHFdWFpBWim4D0pGcc8dxDh48iIikX1NKtW/fHhE/+OAD20kYu0OCHDduXLUVSsF7FTjnChUNuUAg8PzfXmzSrOk1o0cpwOeffw4iNr5En9tS+jSfCfatt96WUsE8GDBgQElJySuvvBKlyzMM4/nnn2/ZsmXbtm11Xa+urvb7/VF1GwoGGWMc2NixY9Olm64uNvVxEas4KywuvnPsWAXw0Lx5xzc53jRNXdcxTbeDDJErRiOlBIAffviBik2tSD21oKBA8IQKQiPioFsPYxDRcq0hnHMyjiT5xNCN1AmRom7ZsmWc8yFDhoDHrK6UIurDhw+3LOvrr7/evHlzonQeeOCBAvBrKW+ucqSz96u9lZWViDhjxgzXRCI04TiOaZou406u/AaAmTNnph7EkwuOiJxzn89Hugwy8JWUlGiaZlmWkdibmixchmGkGGiD6pYx9uSTT3LOR48e3bx58549e77/r399+skndsikzhMXuhASlAb6vIfnpVg0F0KIQYMGhUKh1157je4Q7960adO+fftGjx4thLBt2+/327YdZWWj4mN9DZcETM3zJa1xEbV1Y968eZ9++mmfPn2GDBnCOAtPGHgsd93khtHYtl1SUiKEMAyDxgANDLK6NW3aNMlgUFLpwE2QkydPTpEcKWL9fj/Zzkl7t3v3biGEUqpTp04JaSkFAFOnTi1IzTPYtu3du3cHg0EhxMCBAzFizKYVDb2jaVrHjh0ty/rggw8i30V7xIwff7cEYBDHpOqFK3ZqQtu4caOu6y1btvzFL36BiCS4kQTn8/l8Pp9t26ZpkniVsKKATZo8SaU49CNjQCmlaRoiUvoFBQU7duywbbtNmzZRYr/3Ww5s0qRJyUeRdx8xY8xybAB45tm/AsA111yjadqIESN0If767F91w0giGQUtkwFToCaMH59i0VwIIX7zm98IIZYtW0a5pTnyxRdfRMRhw4ZRPQghiBXWaKYReaQbz7hvRrp0AUBoQtYV98xFSuPCE9nIbZHvDn4/Y8YMKeWCBQsg4hGCiInMW0Qt5pK1/gxvFk9jF3hOGI2u6wcPHiRbnWEYZL3bunXrE088AQC33XZbfNcyAIjIPhxYirMEtToAfP/99z6fj3EmHfn9998PGTJE07Trr7++QXGDJJ8bwGfOnJkib9d1/euvv7YsKzmDKCoq4px/++23iV6YN2+eAHAAU7QvCk18+umnUspTTz016hHxcRoJNFMll+BmzpxpAEuR1dAw4JyHQiFaG9q2vXDhwueffx4AxowZUzctJlL3VTU0fePmTR9u23byySe3+HkLRBwwYADn4uGHHwbOVOIloSY0DVgR8FT8aGIxbNiwwsLCZcuW2bZN/jLSkU899dRZZ511xhlnOI7DOSeXhUTm/PszkGhSRLrjwrIscqe85ZZbDh06NGnSpJ/97GcpSk+5QE4YjWVZ5EX29ttv33fffQ8++OCgQYM6duwYCAT+7//+79xzz00iBodCIQRgwMal5m0pI2Hu//3vf/fr169bt259L+p74oknfvDBBx07dpw9e3YSPQJjLOCYZePKUqx+xhjZj5PlR0qSpKqqqhK9M2bMbTYoXzo7Wkl4iWJwa9eubdiwIWOsoKDAMAyarJIwQQWqrGxc6joakpsAYNy4cZ07dy4tLW3btu0NN9xw3HHHLVy48KSTTkpCS4IsKxtXbYUgNWUEnZSwZPFiO2TecMMNAIAKGzVq9JuBA44GAi+++CJPLAVzwRXAYTDHpS/RHDlyRCl16aWXWpa1cuVKwYVU8pVXXzlw4MBll10GAI7jKKVs21YR52AXpOdmAGVlaeto0kW648Ln8wlN/PON11947vnjmh5/4803UQ/JdT4TIScOe4ILOsNkzZo1b7zxBqkqi4qKJk6ceO+99zLGQqGQ600bBcMwiHOkOEu44v133323bt06pZRpmkKIxx577LrrrosV6aOga8bM+1OdjhCxuLiYxnPsI2pFKSWZhJIw07lz53LgNoCR4iB0JC1eXAlIScU4O+GEEzp16tSgQYOjR4++9dZbRDGJlMSA3X//jNR1NJZlCSEcx9m6dStEFoknnXTS+++/f/zxxyulknRcBvz++2ekrqMRwGwpn332OWDQrFmzdza84ziOz+fr1KnTsmXLnn766cGDB3uj8FO4VfdbBCgE36z0JZqCggLLsvr3779kyZI1a9YMGjSII1++fLmu65dffjlElEdk31RKeV2KmOCAEjLT0aSI1MeF2xWVUvP/8Adg8ODs2Y0aNQYAR6l0D37LGtIzUqVm3pZSTps2zefzjRw5ct26datWrdq6dWsiU2gUyOR8AFWHof1TMW9bllVRUcEYKy0tJYvdlClThBA9evTwplljbvSYt8k34fxh/Q8gpmIWlVLu3bsXABhjhw8fDoVCpAmu7TWDPXr0YIwtXLiwdsHCFRVE7DC0//eI1eikWCeO7axYsQIA2rVr596JsmJSrpTHpbCWeVWRSxu2H3JRAKW0nVRMsI7tkGVtzZo1iFhdXU2i09q1a0OhkGM7UXu1XJAfTYeh/ZObt72X5TjLViynLTXcAyqXEOLIkSNElDJmo7Ij3cOyLPKj6fjbfumat8kTz7Gd5s2bFxcXk5W9pKSkW7dulPL06dMBYMqUKVReW0pbhoGINuJ/0OwwtH+65m1C6mPQOy4SmrelIqeNUCiEiEuXLgWAXr17Jxo7dRI9itj68t470TmEpkTpoKOUg9JB6SRwVEiInEg0nPMjR46YpnnSSSd169aNbtq2zVTCVa4Ld5NWirMEZ9wVMaSUnPPJkyY/++yzGzZseOSRR2688UZNaEkszXrKi14AQIXNmjUrLi4OBALr1q0bMGAAkKFHCIjMJIj4zjvvAMC5556bKJ1Zs2YXAgDwxMa3aLRv3x4Atm/fHgwGSSoOZynNVffMmTMN4PFO4YgPFbGmAYCmaY8++ui11157+eWXb9++vXHjxmbATGR4Im1C6itzpeSiRYuE0K4eeXXLFr9w7xuGUVlZWV5evmDBgjvvvDMYDBZoBUITtNSi6MK6roeskG745z00t37zNeOsZ8+ezz///D+W/6NRo0ZVVVWDBg2iXVHE7wzDEJoQIJyYvVcsnS5Ub6Q0LhgDRLIrHT58+LbbbgOAP8z/Q67zlhJS4Ua1mGYKEo1lWffee6/Xcdt126sTpmnaiN8hnjOwTyoSjWM7tAWhtLQUEQOBAC3ZhBAlJSW7d+8m0jVcXCqv39cRO3T2oD77U5NoaDq96qqrhBDXXnst/RkIBDDicmZZ1vPPP885b9asWfTHHonm/CH9vkGrGlMSZwhSyjPPPBMApkyZ4mYmXYlmP2Lbgb2O2CHlyDjvxCtv9+7dhRDkmkg3u3Tp4vP54rhce2AifoPWOQP7hFCmKNEcOVoFAM1PPDFghmolZZofffQR5/zMM890c2uapuU4jqegJqr9aJ1zcS8r5Sp1JRqSDV955RXDMK6++uqrr74aAD777DNEDAaDU6dO5Zzff//99JVXopG2YyHuR3nOwD65lmi84yKuRBPu24iIaFnWrbfeCgA33HRjyDL/GySaXHkGz5gxAwCmT5+ebvqISBW68qON6TIaV7RGRFpgDxgwILpyazOaIKp/frwxRUbjkqPZZf369e4SBhEtywoGg02aNAGAxYsXx3wcrqgg4pufbjmCGEzHuVIpRZKwYRgbN250b7pIhdHsQ3z5o3eDqOrBaCzLcmzHsZ1t27bR8NiyZUuiD929TsmXTuRlS7/nzJsLAFdfM5LouhdV7Kmnnso537p1Kz21pbRr7zkKSOsQYuWnW1NhNPRJFKOpqqpq1qxZ8+bNGzdu3Lt3b/Ivl1JOnDgRIp77YdKepZMVKWlWGE3y991xkWjpZAVDVF27d+/Wdb2kpOTgD4cDZqh+XAazymhyGPiKjIKJBKgkH9KzSZPuSYmK4ABgGAYiGoZBPmaIOHv27CZNmrz66qvPPfec4ziOE94oEPW5Duyee1IiBKQs0ETPnj3Lysp0Xe/evfuUqVO2bdvGGNu/f//TTz994oknHjp0qFu3biNHjkySzsSJE0M13gfouWrBW1eMseHDh1977bWc8w4dOowePXrt2rWIyBjbuXPnu+++CxG1ZRIowKlTp6ZYWADggjuOQwtDzjgXnAvepk2bW265BQBuuOGGJO0ogN9z9921CgIYFZmcRw5uB6UWL1wEANdfex0iMs7cSwIqwMuGD0cGS55eCgBCE6ZphmMGM0bBHBjjEmSKFhmMLLSVUrqukyW4qKho8ODBBw4cqK6uHj58OGccPC6gpmkqqbjg4YxRHBY6EBbYvfem6vPlIhgMkp8xYyyJo3ytbANA0nEhDD0YDOq6fs011yilfve7372/4d0t/9r0lhfr30bGVB1xvsMOMlFvUYUDZylaEmvnPk2kKNHcc889fr9/6tSp7p0UGaqKKL3e/HRLiru3161bxxjrXVvphYjz588HgNatW//www+0UQURoySaAMryz7akKNG4OUTE+++/HwAKCwvdyCaEUaNG0V7HmM/CFRVErNy1bT9KM7yT0KOdjiEUVVehUOjOO+8sLCzknLuOMxAZD0IImofj1HNkr9OqnVurHDNFiQYRaQsl7dV2cfjw4Xbt2gkhHn744bhfmYgHEcs/2UybKgle+cU7Dyql3nvvPWopdx1aA0QH1Tf79+l+X0mjhohYHaI9RzUpOLZjIQYQV3+8KUWJxrKsyZMnM8aoi1J7/f3vfyeVU01vQY5CC8wAACAASURBVJw8ebJhGHH3OjmWRX214vMP05VoBgwYQMIvY6xZs2YDBgwIBoMpjovke52IbdF2PNod7oXmMyzHoYIkrqFwE1Wj9Eo00m06JdOVaHKiDAaAiy66qKCgwKsQRU9QqCRgjCkADmxc2bi3U4jxEQwGf/7zn0+ZMuXkk0/23kfEG2644dChQ4yxL7/88te//rVt25qmef3HGOc6sLKyca8vfz1FlyLy8bcsq6ys7Morr1y2bNkrr7wihAgEAv369RswYMDZZ5/tZiBRYcvKyv75939KUAbnKZ6FaZomeQA/9NBD11133bJly1asWFFcXIyIQoguXbp06NCBQjqoxFZnBWpc2bh3lq1kyOMdexLzvlIjR47s0aPHaaed5r1fUlLy+OOPv/HGG0laEwHKysZtfLk8RYe9cePGdejQoaCgAKMiHAIKYM2aNpvz4JyDhw7u/mLPyb9sFfWt0IQD6jCa48ePf+eV8jppkZjWq1cvCuWDkb1UQ4YMKSsra9mypburizHWoUOHsrKyHj16xKq9haZbgALYuHFlby1bmUoxXZx33nmdO3dWSnHOjx496p024sI7LtavWBX3Hcow7TWnXSM0yMEz7hSjHRt4rKMOp8KNongdSTR7MFSdQKKhpXUoFHJ3iKqIG0KdnF5KaSJ+h1j+yeYUJRovFe99r/GYDLHBYFA50r0QsRqdNz7d/C3K1JXBbmouRfrtruppeow2XXskmorPPzyAKoi08zslicZVNntfiJKbaNNTtPI7Qp3CRLzx+ZYjdiiqPpMUORQKUTt636fiJ7HNm4jfI67asSkgrSQSTVQLOrZDjgK1BZpw7zJty3KcgBlyUJGOxtvrLMTDiOXbNtYp0ajIhnvvfnH3B4ktUkrKiXeXc7hT1Q4TYaL6LryjOmH/TJSHcLXYDkYGSJJse8dFcolGKUUKtXDNRPUZywxZJmYo0SQL+BEf9dbRhA97AaZUzH4HUpS4vqqYmiwT/pZz2oyTuurEtb96N5JBxGubQNOR3+/3viMd6QNBC/tEMYNjywUepziXlnuTNh8iYnSYS8/ekLFj7wBQHFBoIomOxlsWxhgXnNz2XLhzIP2paRpnnJQLiTBh/AS/5ktSxigYhhHrUUoew25txAUC3HPPPRrXU6HFOacEfT4fRQj0lh0AFIDQNCa40HWJqBidKY6ICAqD1QEAcECOT80zmHIuNOGm7/4gP1LGGG1ncZ0n0N0f79ENaeFNlZhupAFqTTcz4AmclqSKEo0Lt2O5vVfTNFdZGaW5MzTd0HRE5EmapSZIM4dIv0TPAer1QP0YjfL8m2VIR3JgCPjgg1mLaJ8ICpUFavbs2Wl9leIoTcJYqWgceO0D5BKHxUyZL5CqMuFTYLNmz7JBpphg6nTjYvbsBy0ZJ+53TX48rCQRknSy8BlDAAWFhUpJHcTcuXPrzFVabvhJPLAAQDrhcOXpdqF64FiOi1hkPtSP7XEryGquBBCakKA4sLKysjpSSJpOKhBC6MDHjStTIMMnYiVPM0t0x40bR7uNhdCTh+zPBiLbbUEpUOPHjddAJJ080z2bOf77CDhuXJku9Bha2UnfC9s0fVxYYI0ZM6a+6ceRKOvMj9B0haqu/UeZl5docQkOBygruyuV9xPTTTc/JMRl2j/T+z7SIBwZz9E+Kdu2EUACzIpw7kwO4oyFl1cwxkyQDzz4oEq5l6VEIAHchn3gwdkSUAFYdR+Jm3F2EEEhKFSADNisWbNstDMUVVIBA5gza7ZlW1jrDOVM0wxbxL3ZR9D9PguQgU7OON5HKSN1RgMQaUrbsRUDBJz94GwAYFjPc2xSge1YACABZ815sObIF8hNUJlIY6FHqqXDYuvNb+r7IRoAGoIGkRN5IvkCwOi4OzWgY2Y4RKsRPDoKXdcVMAdw7N3h9bYEkAwAGUPGUoxJF53bmvQVYw5jiiEyVExpwCfeM4GBAAifLkzOA3GvuvOPwHhN8b3f2sBlpLbHTphoAVPADeFTCdKplWaCk6rd71w9TuxihKH3ACA2buKEAqYnUdrVOgMoBcQ9R4kBaMDGl43z6T5EtAEpfihTyKgdkbHaHDlxlwl3MAGCIwjGBPMsDxUAAlq2A0oCu33cWAQOKnLFVqaHVqTEzHPVUtJ5NTieWo0cqgVc13UApgAnTJjAI83Hal+1j6aK36a1MxlzjhUAAOiaD4BJwAnjxzNQHJViSjLlpVbTgaMuUO6FTLhXon6uqAkZAABHzsLeTpwrBpJFHS6WIg9JTyrhEA4/yRSHiNeOijyKNGNaSUY+iXQCRyly05o9a7ZL1Iv6zBms1mdugo5tS914+JGHLQgpKKgz6ypRpbrps1ovu8DadGc9OJvCMkZbGb1lS7caE0hSKjLNYljKmOMACAUskc44S8KjBfLhh/8AACHL0XwGuCoVL9kMy4jhmmdc5wAWwB+eSHpiZBQ5T2rEWxJqbzxszQsLQTHugJw568GsVVwMUQCuAJRSwEEBzpw9GwEROSIoBiIOWbeKVbybKcHVwtKeMgagkGSasHCa7hk6aUo0CFyBHj6NLKySrlFHM4A44oDLTROyTy8H1ThnCAbwCWUTABhXTCgmFANX7+1l1RyTJxubvgAlQAkADuDT/QjO7beOobO3IxNbIsEiXMz4V4woFPlEISgApYMSoKi6J5aV6QAAUgDjnuWyd3INZzj5FZuBeBeGpyZgABPHTtAjuzkTzH5ZuBBAB3HLbWNshEK/wRE0BVyFWV79aXlKJBlIDsgAGIRsJ2jZBQBjbhmTZCmRKLW6L08bUU1yBRzBYKAQEcSdEye6u1TjiVD1Qa3eC6BxrgA4aGXjJ0jgikQM5IAsRopyL+65kvXqJJdkHAAEcE1x5CAFyEi4vbRQPz0LJlmL8oSZiBZ9vJ/UJO0AFyAAHpw1i+4Qy8aalzHdBX9N+m7jcwAACZIBf2TePAcsgALPS/EJpEWWeQ6djvpwzuzZGgAHQOkwkVNNcHiocJr9AB56YLaFqQUuzQw2wMMPP4IMLBtBo5VdllUYimQQBkxwIUAC/OnRxzhEV7e3t9TS7cSIn3WGUSclkWvvVRERd9asWd4EvRQzCf/i7T9KAvOMC8VAU+FSJKxVFvV/fUB81iu/1K+zpv2VHQohoGNa5MgAGFlZqrDSERRyJRm6V3j6CV8YfXElQUn3W6aBnzEBMGHsWAAMOSaiAsAa/QhjAmou70ox0RVBZBXBlATpgGQADlrj77qzCPw+YFrkEoBxr5izoOu4PB8qAACFEiSCnD55igacg2BCICLVAyLVQ6ILYy9EZJH4rXEvCWAztBlaDBWgBnDXHWMEA9SAMRAQuVjNlUp91nkxAAAcP36sQil0hgwkB8nDEl3NPJtuypEPWeTbsKYZZaHgBQDjb7/ddhwS96QMS4VRGXMvukM1oDPQWPQLsVeYi7nJKfQzBmBPmTBBSof6p4rML8yzJaje1ejSZRwLQRiAE++8SwBK2+QMOa/VdtFXrX5bzzwIQAEgAbkAxphApiHTMKmzVjykEU3ShQnQdnDvVcvfLAH0RTQXXo20qiXT1C1kedeUClgAHADfls82nXtamwIwLGk2FIW2Jx1v+qm40vNa/FRKADsitzDg73y6qeOvOvig5uhWTBCuJd3KdXOJgAw4AiIoB+Dt7Zt+fWY7HbAEChQ4buLo1e+meBKLh0TcpxYojMxIFuCer3a1/cWvDOAW1ESl9Bovs+KZLgEOQ+jznZ+e3/osW5kGL1CRjqulX0YX3jIqz4SPoI7Iai78H+/6+NxT2hggBAgNwIy0Y5LuyCN5IHe4uNXo5pMYE4+E8+HAqiAEUPDhng/bt/qVBkwHnQNXoKK0b/WuVU9uMAghBr5Nn20677S2heA3ldmIF1jgBsiJ7Z7KQz1qYQCpCDoWQMcr+pc/t7IByGIHwtEFXXVkOmVKe+lk27atC8Mw+lz1GysUYBgW3gQVioXL5pFLleffOKAXw1p9ziQD5JpS0i/0s08787NPPgnYJnAWVl6SKp4pVzpFdJJnmEe094xxhkDCr6MxANAVVFdX64UFp//qV5GzigGiGU2ktVJlyLXaO1wPCgE5U6gpQAa2xs5s9+vNmzcXFBSgrKkZ5jlqp5bxiMWtPVVrURBvwkAGEhlD0BQwAIlKMN6m9Wk7Pv3EItNBDK20p6oEzuW6rtmBULfzOr777ru2xiQPT0iaZ93NU1pX1KRPwoJrL0cWXqRoTDDGgo5lGEab0371xee7Dh061KComMpVq5ZiCLJIbqgC41ZjjfkJQVNcMbA5SEDNUZqmKQaMsTNPP2P35zsPHz5cWFiIDFQkNUQnnHKq5yh5ysvC1DGsLVKIaABvf3rbz3Z8FrBN4KjVclOKaotI12WuZB/DZmPhaVCB0ED4CsHSAYSm1dJ+pMk505ZolFLVTB5legDCrhnhhML0FcRhKnUINZGSKRVWNysbQgWg68A10ELgqJpZl0O0RJOSxMRAg8jEwoDRaScGsBAEEcABZYDfM0PGl2jSNpJEfihQHDgA6uE/GWnUdDC8Uyh6Grn2HBinjKr2/USSHaVJEo0DjgGaDSEGgkGNZZ1nY+6NIivCk5iywbEASRHMAATwBGVMIVFAcBXnEUUpcRsD/CEwfaAjKAcsANBBo/RVrRSi4eYBU5BoGIAWlhMBAARAARg22AjoB58FNgLqoAcgyMLLLMaA8UivS6uwUTmXABKkA2YBGDpwA4wgOAoUefElR2T5CHWNxKiUuAFQDMqPwBzl040Er6WENBgNvakYSESHkS9t8roja0969SsBARSvPaoRgKVtUItCnP3KYWEqYgzxkPNIFtkYeG4n5pFSYPQAICNiIkYTBymr/cOmrkihwnMDhkdpLJV6LxCjk6C5R0VWJZEldrrtmJCZehglAHDivCzNtks3P6Tjj7VrRE0Y7m+e9qIhfsOGQ5eG0wxrpUlUTiHPrE5GE0mnVusLAA4oEJhkUbsx0trJAfWzOgnGNIWQmkY9ob9GAiDKuH09Ma1U00/EUWNT9r6Zbv7jtiUliJiwFLF+HJmXN4ZEWJivtVCKQ6ae6ddJOkKx/umnMCny2rRSYDQZ5McLL13v7zqDZNcjfa/3YCqCQm1vw7rTr32fvst0uk2b0RAjTU0Kql8VJ/oqKyJ9inQzMcPGzT+mIYKkmma630assrVqMvNaTSVv2arPVNKJr+/0Mp3MdmAkKi/G/k532k85fZbgfiKkko1E6dTosOpVnDBSFwey6gKRx/8uEnWV2O0R2YKSCZm4uzkjF3T/e5CtAuauolJiNBS/x+0okyZNat68uRCidevW06ZNy24H8u5zWbRoUWlp6ebNm7OSfmw+jx49OmPGjJYtW9KjgQMHfvnll7lgqYwxxoTjqK1bt1577bV+v7+goEDX9WFDh+3YscNxHACKvSjcq7Y3Q7bywCjC4+HDh7t160aRTWL2OmUE27ZpG9GFF17YtWvXPn369OvX74ILLqBjtrJShFgoVEoqx3G++uqr6667rnHjxkKIgoKC7du3QzzGV3uvVv2xbdu2Pn36XHjhhb169erZs2fv3r0vvPDCCy644IILLvjggw9M08ziuKABuHHjxssvv5xyftlll23dulVJFQqFMk/frQ3G2JEjR8aOHdu0aVNd19u0aZM8lGKKSGnpxDl3ec3NN9/8xBNP3HTTTZ06daqsrJw2bRrn/N57780wH1HYv39/WVnZCy+8gIiBQCC7ibsYOHDgu+++O2zYsH79+n355ZdTp04999xz9+zZU1xcnHValmUdOnTooosuKiwsvOeee9q2bbthw4YlS5ZccMEFO3bsaNasWdYpxoVSinM+aNCgTZs2ISLFx04edSUtUPSvXbt2VVRUnHPOOT6fzzRNpRRjTEklEh9rmwnoYOyK8ooRI0aUlJSMGjXqrLPO+v7770tKSnJBzgXNEBQZz417f+DAgV27dnHODT3LDti7du0aNGjQiSeeOGfOnIKCgieeeKJHjx4ff/xxixYtpCMzbESKUQsAtm2PGDHi/fffHzFiRLdu3RYvXjxgwIAFCxaMGDFCCFF/jpNkI68XFMxxx44dAEDxnClE4KhRozjnu3btShJqM11s3769ffv2jRo1GjNmDACsX7++HokkgjdvO3bs2LBhA5VFKfXGG2/4/f7FixdnmP9ECAaD69atc0MrVldXv/zyywDwxz/+0TTNFE+tzAQU4XH+/PnHH3/8ueee27NnT8pV1stbWVnp9/srKiow0nPQE3E161BKHTlypGHDhu3atTt48GAgEKBCUajz7DZiLGm3XNSCvXr1omDAcQLUZ4ZZs2b5/f6dO3cSob1799LRaYFAgI6myWQMut1yw4YNnPO5c+dSKFXTNIcPH96gQQOMNGX9+klKXNC2bVTIGHv99dc554MHDzZNU9d1pdTNN9/s9/vffPPNevK5eNB1/fjjjy8vLx88eDCd/axijgfMHIh42mmnnX/e+Yio6zpF/0bEXbt2ZZ0Wwe/3d+rUiTNOcoSu6w0bNgSAAwcO0EGIOaLrQtf1b7795t57773pppuKiorIIJLoEPR6ACMTOwVO9vl8tm1blkXTYLbsL3GxdOnSH3744ZFHHmncuHFBQQHn3LZtCnWeawUNneQjHck4e//99ysqKq655ho6ODyL/ZbqNhQKHXfccdRVGjdurJQKBoMFBQVCExn2Hzc6bXl5OWPs2muvRYV0ROd1111XVVVFZ41gfde/KbW9rutCE0opOjysXbt2VImMsTPOOMM0zXXr1tWPfCwQsXXr1qtWrTrvvPMYY8REc6QDklKqSIhmv9//7bffmqbZsmXLbNGKglKKgrlSOBVEfP/99wGge/fuGBNEOltEKdnw+Hfk8OHDzzrrLFrwusMgWzoLRNSERkR1Xf/lL3+p6zoxMtt2dzwk2ptdfziOs2rVqpNPPrlnz550xzAMN4RzJiknB3oCSDPOOOePP/54mzZtrrvuOorunF1yV111Fef8rrvuopR///vfA8CNN96YRXamlDIMQ0pZUlJCnAsRzzvvPABYvXo1ZKBcT4nRYMSH+j//+U/Uo4KCAiHEN998ky7hRDhmBgLGmK7rdLgyY8w0zeeee65Zs2a/+93v3Hey2FdM05RSAsCRI0fefPPN9evX33333ePHj58+fXppaSljLNEh1hmCQov7fD7pyLnz5m7btu3Pf/5zLggBACqkCWnDhg22bd92221du3bt2rXr3Llzg8FgjogCgK7r//rXv5o3b758+fKTTjpJ07SGDRu6C3zpyFxIxFFgjO3du3fp0qVXXHGF92YW0//lL3/55JNPLlmypG/fvqWlpatWrXrppZdOOukk6lfZonLqqacCwN///ncAoOMunnrqKch8LKSyvlKRg1a7detGAesxcgAIIgohOnbsmEUdjYvKykoA8B78nAvQCRtLliyh+vWudbOrVqBF+4YNG2gObNq06YgRIz7//HNaDGex3rxQStExLDt37vT5fI888giR69mzJ+losgvqmuXl5d26devRo8eYMWNKS0sBoFmzZlu2bLEsK/Hp2xmhoKCgSZMmp59++oIFC9avX0/WiZtvvpme5kg95G2vUCg0cuTIJk2aHD58OEc6Psd2duzYcfLJJxP/6tGjxxdffBFFqN5jkFa7NKhPP/30kpKSRYsWVVRUTJ8+vbCwkM4OzqREqSqDiaf07dvXy2hCoRAdi9etW7efKKMhQePpp59mjF1//fXenLvnCmUFSilSOSNiKBT65ptvXn755UGDBjVt2vTll18mXpCLDuqe9NSuXbuhQ4cSs1NK5YLRuCdPEZXwqUxSbt26FQAuvfTS3DEaznnTpk2/++47985dd91VUFAQ/4ytrIImiYMHDzZp0mTkyJEpnl9WD/zrX/9q0qTJ9ddff+jQocrKyvbt2zdr1oysh4FAIHauSj0PUa/t3bt3yG+H0BF0gwYNeuWVVwzDmD9//rFgNERj9OjREFn2I2JVVRWp+oYOHfoTZTSIuHbtWp/PN3LkSJcR5ILReA9dU0oFAgGy+7Zp0+bEE0+kd3LRQYnujBkzOOerPTjvvPPatWtXUVFBPTUrcPs6TYx0FFwoFDJNs0uXLoZh5IjR0Gx30UUX0Z8kk65bt84wDDrMNxeWNReUIB1qTn5YuYBSqnfv3r/4xS/cO0eOHDn99NN79epFf0aVMcPyUttRd33mmWcAYP369ZlUXapbEEiLQeu3vXv3kvxWXFy8d+9eRGzbtm1G67cfA4jIGNu0adNll112+eWXL1682Pso6+ToVDmXrqGHzUzNmjX77LPPyEaTdaJENxQKVVRUKKX69+/v3qcZok+fPqWlpeXldR8jmyIsy6KZEHi4pFQu91zwbBHygjPeqVOno0eP2rat6zodQbdv3z4pJR2f5vf7c0FaKQUAnPMjR4489NBDQ4cObdGiRdaphGlJtXr16kmTJimlSBdWWFA4ZMiQmTNnUj1nsYzkU4OIXOMAsGbNmqZNm3qPt64H0rA4MsYuuugiAFi1apXjOJZlmaZJiqJ+/fplkokfBUqq999/v7S09OKLL16yZAmZRWj+z7pCWill2zZ5rCma9VEBQCgU+uKLL5o1a+b3+5P40WcIwzDmzJlTUVHxhgfnnHPO2WefvXbt2oceeihbhIit0DKQ/qRatSzr888/79SpU+40/f3793///ff37t0LALZtK6XeeecdKeUZZ5xBc2SO6FKUmWeeeaa6uvr666/PXQGFJo477rg9e/bYti00EQwGhSa2b99+wgkn5IIWNZx05LZt2xYuXHjLLbdAZrrtlCQa4tyGYbRp06Zr166TJ0/WNK13796VlZWPPvpoly5dOnXqlKPJKkdAxH379/Xp08cwjBYtWtx///2BQMDv9yulLMu67777skuOc845r6ysXLRo0WWXXXbiiSc2atToiy++ePzxx/fu3UtDPYvuuV4gIuf817/+Nfk9uffJXNihQwfXgSJzuLbPuXPntvplqxOan3D++edXVFQ89thj+/bt+8tf/qLreoaW7Ph0ObvtttvmzJkzcODA++677+yzz37ttdceeeSRO+64w+/3S0fmyKLHOacoXg8++OD555/ft29fyHjzYRIMHz78ySefPPfcczt37uz3+1999dXly5e7J+RmcQB+/PHHR48eDYVC//znPxcsWNC+ffvbb789U4k73bXW/v37e/bsSSZhIUTfvn33798fpcjM1nq4oqKCc/76669nXcGmlFqzZo3f7+ecCyGiBpt7wnwW1/NKqb1797Zq1Yp6IUVFPOWUUx566KGcWp2i8uCid+/evXr1yrrCWynl2A5NgFSxnPNTTjnl5ZdfzhaVWEgpLcvauHFj69athRDEVkaNGkV6IlI35K5WFyxY4PP5li5dSubLKA/dLBKqqqoiJSmNvoKCgttvvx1z4Po8ffp06p8dOnSYPn36oUOHELG6ujqTNOsTYY9zvmfPni+//LJly5YnnHCCrut06nvc9zPk7kQuaitHJmli7QlHKeV1VHNLgZ5NpFkBJRgMBg8cOLB7924hRIMGDc4++2ylFKkSiLRLMRezItaOaUJLcarh7BKSjpRKbtiwAQAaNWp0yimnFBcXkwIlu4RcctQ9TNPcvn374cOHTznllBY/D6tLyD2y3p5myeG2GpXOsizaeOW+kEWK1F6HDx/esmVLgwYNWrZseVzj40iZkt1yuQm6G6Asy8pQKqyPT7HbYyhDtB0hUVEzrwLbtjnj2WI0gUCgsLCQihDmtceE0biIarMo/uJmINeMBhHJOTi7XIY84hGRHPM1TUOF5DVLTvq524jgVizt8HCRI0aDiEoqUjzTmtRxHMpAFEPPFkUCcdXcKYOiGAJjLHMuA/UIQYCItFvHbU6fz0eyXIZZiUsLEbM4DSJiQUEBAJAxgkA5JxdS27ZphGSdy1BZgsEg+XGGQiHXK5/UwLkzysQFDQ8WORk2W8lS9RLImZ0LTqszoYks+rDGwjAMakGhCUc6ud47xhgjEtKRUkrHcTRNowzkqB3JxZnsCeBRemSXirsZhQYC1B4s9U823YzmlFsnIXoMNq3ELVpW6CbvEKiQC451B9nMJnLdjlHSE1HJXaSIJHQJOa3bqP6T63b8UcZghsjhhtos4hjXZi7IJUmT8fpviv0JARFZxqFn8/iJ4qfBaPLII4+fNNJmNMln+2MwM+diXfqj4xiIbHXW2/9erf7P46eyboL6STSO4yipGGMUrNR1A3NDitU7N4k+V0rRziD3hexqwkj7RcWRUrpOutlqSFe1zCOgKJAUWyiLhJKDaoz8O2LvQ1Z5jeM4LBIniWwFnpA0WQZ1D/pNRIkc9yBHpAFg586d11xzzXHHHSeEaNKkSVlZ2ZEjR2iA5MKegIi2bd9xxx2dO3fOYuI5B6YPcoJ69NFHW7VqBQCNGjW65557yJ5Sj9RiE6cfUsoXXniBgu40adJk1KhR+/btw9rxBDN0VVqyZElpaSmFle7Xr19paWnnzp379OnTuXNn8qOPCkaVCahy3L1qa9asGTRoEA2Axo0b0zu5dtiTUgYCgR07dlx00UWlHtx0001U0izSpW3xju288847Xbt2ffrppwOBQBbr0ws32RUrVlxyySWMMYpeOGrUqGAwGBvmMlt0lVKHDh1q3rz58ccfP3bs2MWLF99+++0A0LdvX/TsZc8WLfqxc+fOX//61/UevD8W0ub0tm0rVJPvnXzbbbd169bt73//+6hRo2bOnPn73/+efCWyxQGXL19+xRVXtGjRYtGiRTfddNMrr7wycODAbCUeC+IshmG89957n3zyiWEYjuNk0bJOlSM0wTl/9I+PlpaWfvPNN5MnT3755Zdvu+22bFGpMw9+v/+9995LtIsyizOwYRic8wPfHRgwYMC77767Z88eznmOHPYo2YqKr3ra4gAADGRJREFUimHDhh09enTKlCnPPffcFVdcsWjRooEDBwpNSJUTszoiFhUVPfbYY9u3b58zZ87IkSPnzp175513rlq1aufOnUKL9jjPBEoq6chly5adf/75mqYN+e0Qct79ySBdzkTbDps0aXLppZcqpaqrqy3LeuyxxzjnW7dupeGaCedzxaLS0tJWrVqRgOPYzhNPPOH3+19//XXMzcxPdI8cOdKoUaM777wTIxFkspW+S2L16tWc8+HDh1PR6CbRyiT4cyqgZGfNmgUAKh6yS8s0zaFDh3br1g0iAe1zBDc0UmVlJUYimSHizTffrOv6xo0bMWfSIg0H6vZSyurq6hkzZgAA5SS7UEqtWLHioosuOnDgwLRp0+oxeH9EpC3R6Lr+5ptvBoPBESNGOI7j9/t1Xb/h+huUUsuWLdM0LUP3HtoOS2fiNGrUiG5ywU888cRQKFRcXOzdiZtNR0+FlmXNmTPn8OHDbmS2rLgqEcg7LhAIPPLII8XFxY8//rhUUjqSc06FJe9qF9mi64Xrmkhe0aZpKllzYlcWtzhTiVatWvXKK6/MmDGD6GLOlM2cc5/Pp+t6jx49lFJ+v5+2j9PO5kAgkKGg7eacmJT3EdUk/cs5Lyws3LdvH+f8xBNPhBgf5VQIueozcs/zjlXG2IABA1auXNmkSRPMfdD17KI+VidN0wKBQKNGjWhbh2VZXPD27du/8847mbsI01YDXddHjhy5ZcuWvz77V+lI0zQnTJjQrFmzrl27UvjrrINxZhjG0qVLR40a1apVK8y2czDVTGFh4VtvvTVgwIDGjRtrmiY0QQFcwnnIfdcJhUIHDhxo3bo1LaNcokqpDLfnKqVobNi2bRjGvn37rrzyyqlTp15wwQXZyXrKkE44DM3WLVsbNmzYpk2bDP133HYhnRoV0xWO6JHgAgAOHDjw2muvde3atXXr1gCQ7pKNsfAWDUSkVbZ37skdpz4GSJvRKKXatWsHAP/4xz9s2zZNU9O0zZs3b9myhepIZRYImlzjaXExcuTIkSNH/u7K37Vp06aoqKiiogIAHOm4b2ZCKAqc82efffbLL78cPnx41rkMIRQKff3118Fg8NRTT500adLxxx/PGGvbtu2LL74IGddbimCMffrpp1VVVX379u3SpcuwS4ctWrSIljkZ9mNqfVJsIeJNN950yimnTJgw4RhPvHv27Hn3vXeXL18+aNCgdW+tW7x4cZMmTbKVB6WUksplW95OQh7PY8eOPXjw4LPPPktmr3TpErN2pZWo1UdWivBjIW3pgHNe0qBk1KhRTzzxROPGjTt37rx///7JkycDAJmHMzEluiIiIhqGcckllyxZsuSll17SdX3IkCG/+MUvpCOzrlB0NxZOmjSpd+/evUp75Wjx4vf7P/nkE9M0H3/88bZt2y5YsOC4446bP3/+5ZdfbhjG4MGDs04xFoyxXr16OY5TVFR00kknbdq06YYbbnjssccqKyu925TqB9uxKf7L/Efnr3h5xcaNG90Nh8cMzz777IwZM2zbbtGixTXXXFNaWpqtUxylIw8dPvToo4+696dMmeLtJ9ddd91zzz23aNGiFi1aKKWShDRIBM65LW3BhGVZX3311bPPPus+mjRpUiZF+NGRUB5z4yfs2bOHTgggTJ061bbtQCAwY8aMhQsXHj16tG3btkuXLj3rrLN+O/i3f3vpb/UYpXv27HnqqacKCgpoIzjF8lm0aNHo0aMfeuihW2655Zlnnhk/fnyLFi3Wrl1bXFRM/SZdKl999dXixYullLZtCyGmT59O92lr/6pVq/r3779gwYLRo0dni8t89dVXf/nLX2hTL+d8woQJb7/99kUXXdSlS5c1a9a4sxYFSdy0aZP323TzgLX3vxD33Lt378KFC937pEEkuMNv/vz5t99++0MPPXTXXXe5YQFSx7///e8///nPjDEpZXFx8YQJE77++uszzjjjvvvuu/WWW6WSbtlnzpyZVsrJsXfv3sWLF5NSgzE2depU2jguHelI5/PPP9+6deu8efO+//77d95552c/+1km+48w4mRUUVFx8cUXu/e9zjtTp06dMWPGn/70p2uvvRayEVehoqLiwgsvjMoDQSk1ffr0adOm/ZTEnERaYvICCIVCdHKdd6GolPJ6uwQCgc8//5wxdvfdd9cv3DzFoKJYs5xz0t4XFxdTTHl658MPP2SMTZw4ET2uNCmmT2+Wl5c3aNCASi2EoGDOGPHC6NevH6lmshgIqry83LXp+nw+x3YqKiqoU7p0lVITJkwAchTMwDIS+62Uct26dboHsV/Rmad+v79Pnz71a7u1a9cKIYQQfr/fMAylVGlp6RlnnFFRUVFZWbl+/fq3334bAK6//vo1a9Zs3769HiQS0S0pKXHFZ29geXJWQsSDBw8CwOjRozP3o6HKoQNJXLhPn3zySSHE008/nWGhvNlTkRjv3rho9EhKOWXKlCSD978QCfPqml1jGyYYDNKSvqqqChEty1q6dCkAbN26tX6Z8HIuIkch7FevXo1kHFHKsZ3S0tIePXqgZ1ClmLgblN89tpEGmNuQRG7OnDm5OABIRc6Hcmznu+++A4CxY8eih11mndG4Iy15OuTJHQwGOeelpaUYc1pm6qDM02inkW8YhuvowSKxYCZPnly/9BPBrSvXK4/+JYM3InLOO3XqlCGjcX0sMB5DJ5lx4cKFURnDejlA0nnhyfvhT5HRJNTRuN53bqRiVxagdTgiFhcXK6UOHz48ZcqU7t27/+pXv4L0hUaMBBDy3qSAbP/5z38oThVlY8eOHV06d6FFgYrEUqlTDA7bbm3T5/MJEDQGlFLhYwk4AMBTTz1VUlIyevToLPqqu+WiHNKqsEmTJt27d1+xYsX9999P8VO44G+88Ub79u2zqBUihQJwIANQ3HeomRBx//79iNi2bVvMQA6nQDNkhaRDcjjnwWCwqKjIcZzS0tKrrrrq6quvPuWUU+pNIgrUDRDDezi44I7jCCZIU0sG7z179gghTjvttAx1NO5yEiMKRPfRq6++euONN7Zp0+brr7+eMmUK1YNhGD//+c+vvvrqerhHkCnQ7YcYL/TETxJ1siJi3q64SKFDd+/evXbt2tWrV8+dO/ekk05q3Ljxxo0bsxWZlZyvOnTo0KhRo7/97W979+5dvXr14MGDdV1ftWqVewRa/Qip2kDEL7/8Uggxfvz4UChEU1+G+XcJRd2haXb9+vUAcOmll27ZsmXz5s1XX321YRgUUjdD8d5LOkk6I0eOXL58+bZt23bt2vXCCy+cffbZjRo1+uyzzzKPkexO41HgnJNCIVt1GwWSr+fNm3frrbdWVlbu2rVr+/bty5cvp0Pit27dGtvo2QIdiQkA3iUqAPTq1StH+y0IEydO5Jzn9GC87CJtRkNC3YYNG2iqPPnkk0eNGvX1119nN5q3YzsbNmyg013oRM6GDRuSdJohO/N2OCrLqFGjfD7frl27SPzOSv5j4S7flFILFy50fRGbNm1KgzCLJ1UmSoe6focOHQzDcCWd7t27b968GbOhnIplMS6jmTFjBq1VMySRBMuXL3cNZ4wxIcTZZ59dXl4eG/s9i0TdaS/2kXsAW9ZBybpqqZ8E6vYCwtr7eqWUpFZkkejWdF+prG1XdQP6Msb+85//fPLJJ4yxnj17KqkcGQ7LWm9CWNs6Ax55OHzuUvYK4kIp5YbOhYi59K233gKAdu3aFRUW0WIniwHY46ZD5jY68Ozjjz92HKdFixa0MzYrkcPj9iWqW9e/JhdLAHe1btv2Rx99dOjQIU3Tmjdv3rp1a28Te7OUFbq0HEaFCpUQosb5RSF4Fly5ACIGg0Gf4ct1xMJsIW1GQwtjxlgwGCQ7Udy2rDeox6vICpz8o0jXQFZb4nT1Tj+2vI7jKKUofToxMheDAT1eWI7jcMbJLdiVLHLNaNATBZ3yQExHZS8+eZK+5PKaXNQtHbpAOi+qVcYYdRK3wyRivplARY7oiA26Xg9HgXTp5ohr5wgp+TUneifX5YxLN4txZ8NCXUwpjmW5fkJ9pd7IdXl/rPr8/60dM8FPL5Rndk90zPePPPI4BvjpMZo88sjjJ4c8o8kjjzxyjp/23vM88sjjJ4G8RJNHHnnkHHlGk0ceeeQceUaTRx555Bx5RpNHHnnkHHlGk0ceeeQceUaTRx555Bx5RpNHHnnkHHlGk0ceeeQceUaTRx555Bx5RpNHHnnkHP8PP7nvWJfNmCMAAAAASUVORK5CYII=)"
      ],
      "metadata": {
        "id": "XvBCdEONl9w4"
      }
    },
    {
      "cell_type": "markdown",
      "source": [
        "Changing a Tuple\n",
        "Unlike lists, tuples are immutable.\n",
        "\n",
        "This means that elements of a tuple cannot be changed once they have been assigned. But, if the element is itself a mutable data type like a list, its nested items can be changed.\n",
        "\n",
        "We can also assign a tuple to different values (reassignment)."
      ],
      "metadata": {
        "id": "8YF401TemTh_"
      }
    },
    {
      "cell_type": "code",
      "source": [
        "# Changing tuple values\n",
        "my_tuple = (4, 2, 3, [6, 5])\n",
        "\n",
        "\n",
        "# TypeError: 'tuple' object does not support item assignment\n",
        "# my_tuple[1] = 9\n",
        "\n",
        "# However, item of mutable element can be changed\n",
        "my_tuple[3][0] = 9    # Output: (4, 2, 3, [9, 5])\n",
        "print(my_tuple)\n",
        "\n",
        "# Tuples can be reassigned\n",
        "my_tuple = ('p', 'r', 'o', 'g', 'r', 'a', 'm', 'i', 'z')\n",
        "\n",
        "# Output: ('p', 'r', 'o', 'g', 'r', 'a', 'm', 'i', 'z')\n",
        "print(my_tuple)"
      ],
      "metadata": {
        "id": "MpjuXzp8mV6x"
      },
      "execution_count": null,
      "outputs": []
    },
    {
      "cell_type": "markdown",
      "source": [
        "We can use + operator to combine two tuples. This is called concatenation.\n",
        "\n",
        "We can also repeat the elements in a tuple for a given number of times using the * operator.\n",
        "\n",
        "Both + and * operations result in a new tuple."
      ],
      "metadata": {
        "id": "Us26wCE1mobK"
      }
    },
    {
      "cell_type": "code",
      "source": [
        "# Concatenation\n",
        "# Output: (1, 2, 3, 4, 5, 6)\n",
        "print((1, 2, 3) + (4, 5, 6))\n",
        "\n",
        "# Repeat\n",
        "# Output: ('Repeat', 'Repeat', 'Repeat')\n",
        "print((\"Repeat\",) * 3)"
      ],
      "metadata": {
        "colab": {
          "base_uri": "https://localhost:8080/"
        },
        "id": "7LAoAXLimrtQ",
        "outputId": "8a2c6c16-2fbe-4080-b3cd-43e48889904a"
      },
      "execution_count": 6,
      "outputs": [
        {
          "output_type": "stream",
          "name": "stdout",
          "text": [
            "(1, 2, 3, 4, 5, 6)\n",
            "('Repeat', 'Repeat', 'Repeat')\n"
          ]
        }
      ]
    },
    {
      "cell_type": "markdown",
      "source": [
        "Deleting a Tuple\n",
        "As discussed above, we cannot change the elements in a tuple. It means that we cannot delete or remove items from a tuple.\n",
        "\n",
        "Deleting a tuple entirely, however, is possible using the keyword del."
      ],
      "metadata": {
        "id": "H8YkTjqtm2mF"
      }
    },
    {
      "cell_type": "code",
      "source": [
        "# Deleting tuples\n",
        "my_tuple = ('p', 'r', 'o', 'g', 'r', 'a', 'm', 'i', 'z')\n",
        "print(my_tuple)\n",
        "# can't delete items\n",
        "# TypeError: 'tuple' object doesn't support item deletion\n",
        "# del my_tuple[3]\n",
        "\n",
        "# Can delete an entire tuple\n",
        "del my_tuple\n",
        "\n",
        "# NameError: name 'my_tuple' is not defined\n",
        "print(my_tuple)"
      ],
      "metadata": {
        "colab": {
          "base_uri": "https://localhost:8080/",
          "height": 218
        },
        "id": "4Cqdg4aem54L",
        "outputId": "80280922-0348-4713-9d70-5cf59a3907c3"
      },
      "execution_count": 12,
      "outputs": [
        {
          "output_type": "stream",
          "name": "stdout",
          "text": [
            "('p', 'r', 'o', 'g', 'r', 'a', 'm', 'i', 'z')\n"
          ]
        },
        {
          "output_type": "error",
          "ename": "NameError",
          "evalue": "ignored",
          "traceback": [
            "\u001b[0;31m---------------------------------------------------------------------------\u001b[0m",
            "\u001b[0;31mNameError\u001b[0m                                 Traceback (most recent call last)",
            "\u001b[0;32m<ipython-input-12-39d5098be277>\u001b[0m in \u001b[0;36m<module>\u001b[0;34m()\u001b[0m\n\u001b[1;32m     10\u001b[0m \u001b[0;34m\u001b[0m\u001b[0m\n\u001b[1;32m     11\u001b[0m \u001b[0;31m# NameError: name 'my_tuple' is not defined\u001b[0m\u001b[0;34m\u001b[0m\u001b[0;34m\u001b[0m\u001b[0;34m\u001b[0m\u001b[0m\n\u001b[0;32m---> 12\u001b[0;31m \u001b[0mprint\u001b[0m\u001b[0;34m(\u001b[0m\u001b[0mmy_tuple\u001b[0m\u001b[0;34m)\u001b[0m\u001b[0;34m\u001b[0m\u001b[0;34m\u001b[0m\u001b[0m\n\u001b[0m",
            "\u001b[0;31mNameError\u001b[0m: name 'my_tuple' is not defined"
          ]
        }
      ]
    },
    {
      "cell_type": "markdown",
      "source": [
        "Tuple Methods\n",
        "Methods that add items or remove items are not available with tuple. Only the following two methods are available.\n",
        "\n",
        "Some examples of Python tuple methods:"
      ],
      "metadata": {
        "id": "WphAPs7AnJF-"
      }
    },
    {
      "cell_type": "code",
      "source": [
        "my_tuple = ('a', 'p', 'p', 'l', 'e',)\n",
        "\n",
        "print(my_tuple.count('p'))  # Output: 2\n",
        "print(my_tuple.index('l'))  # Output: 3"
      ],
      "metadata": {
        "colab": {
          "base_uri": "https://localhost:8080/"
        },
        "id": "idIIiK8unL1s",
        "outputId": "dc0892c2-11a5-4b10-8852-9f8bc8f12261"
      },
      "execution_count": 8,
      "outputs": [
        {
          "output_type": "stream",
          "name": "stdout",
          "text": [
            "2\n",
            "3\n"
          ]
        }
      ]
    },
    {
      "cell_type": "markdown",
      "source": [
        "Other Tuple Operations\n",
        "1. Tuple Membership Test\n",
        "We can test if an item exists in a tuple or not, using the keyword in."
      ],
      "metadata": {
        "id": "VFdyYqN3nUn2"
      }
    },
    {
      "cell_type": "code",
      "source": [
        "# Membership test in tuple\n",
        "my_tuple = ('a', 'p', 'p', 'l', 'e',)\n",
        "\n",
        "# In operation\n",
        "print('a' in my_tuple)\n",
        "print('b' in my_tuple)\n",
        "\n",
        "# Not in operation\n",
        "print('g' not in my_tuple)"
      ],
      "metadata": {
        "colab": {
          "base_uri": "https://localhost:8080/"
        },
        "id": "O2RYVGxknW37",
        "outputId": "1a49e926-faba-42c1-d89d-cef6c6a5300a"
      },
      "execution_count": 9,
      "outputs": [
        {
          "output_type": "stream",
          "name": "stdout",
          "text": [
            "True\n",
            "False\n",
            "True\n"
          ]
        }
      ]
    },
    {
      "cell_type": "markdown",
      "source": [
        "2. Iterating Through a Tuple\n",
        "We can use a for loop to iterate through each item in a tuple."
      ],
      "metadata": {
        "id": "VrEopLmNnifG"
      }
    },
    {
      "cell_type": "code",
      "source": [
        "# Using a for loop to iterate through a tuple\n",
        "for name in ('John', 'Kate'):\n",
        "    print(\"Hello\", name)"
      ],
      "metadata": {
        "colab": {
          "base_uri": "https://localhost:8080/"
        },
        "id": "VROIKaU9njlW",
        "outputId": "298c1063-0c60-478b-ae55-98bd470106ae"
      },
      "execution_count": 10,
      "outputs": [
        {
          "output_type": "stream",
          "name": "stdout",
          "text": [
            "Hello John\n",
            "Hello Kate\n"
          ]
        }
      ]
    },
    {
      "cell_type": "markdown",
      "source": [
        "Advantages of Tuple over List\n",
        "Since tuples are quite similar to lists, both of them are used in similar situations. However, there are certain advantages of implementing a tuple over a list. Below listed are some of the main advantages:\n",
        "\n",
        "We generally use tuples for heterogeneous (different) data types and lists for homogeneous (similar) data types.\n",
        "Since tuples are immutable, iterating through a tuple is faster than with list. So there is a slight performance boost.\n",
        "Tuples that contain immutable elements can be used as a key for a dictionary. With lists, this is not possible.\n",
        "If you have data that doesn't change, implementing it as tuple will guarantee that it remains write-protected.\n",
        "\n",
        "\n",
        "\n"
      ],
      "metadata": {
        "id": "OqcsE2cjnwkB"
      }
    },
    {
      "cell_type": "markdown",
      "source": [
        "The key difference between the tuples and lists is that while the tuples are immutable objects the lists are mutable. This means that tuples cannot be changed while the lists can be modified.\n",
        "Tuples are more memory efficient than the lists.\n",
        "When it comes to the time efficiency, again tuples have a slight advantage over the lists especially when lookup to a value is considered.\n",
        "If you have data which is not meant to be changed in the first place, you should choose tuple data type over lists."
      ],
      "metadata": {
        "id": "gPe7K82PpHJk"
      }
    }
  ]
}