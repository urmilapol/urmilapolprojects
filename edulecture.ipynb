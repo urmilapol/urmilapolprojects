{
  "nbformat": 4,
  "nbformat_minor": 0,
  "metadata": {
    "colab": {
      "name": "edulecture.ipynb",
      "provenance": [],
      "authorship_tag": "ABX9TyNhZCA8dINC/qLFwOZ0DheH",
      "include_colab_link": true
    },
    "kernelspec": {
      "name": "python3",
      "display_name": "Python 3"
    },
    "language_info": {
      "name": "python"
    }
  },
  "cells": [
    {
      "cell_type": "markdown",
      "metadata": {
        "id": "view-in-github",
        "colab_type": "text"
      },
      "source": [
        "<a href=\"https://colab.research.google.com/github/urmilapol/urmilapolprojects/blob/master/edulecture.ipynb\" target=\"_parent\"><img src=\"https://colab.research.google.com/assets/colab-badge.svg\" alt=\"Open In Colab\"/></a>"
      ]
    },
    {
      "cell_type": "code",
      "execution_count": null,
      "metadata": {
        "id": "2OhwWI9NZf_-"
      },
      "outputs": [],
      "source": [
        ""
      ]
    },
    {
      "cell_type": "markdown",
      "source": [
        "https://github.com/rachelstarry/getting-started-with-tableau/blob/master/getting-started-with-tableau-public.md#1-import-and-prepare-your-data\n",
        "\n",
        "---\n",
        "\n",
        "https://github.com/urmilapol/urmilapolprojects/blob/master/Exploratory_data_Analysis.ipynb\n",
        "\n",
        "https://towardsdatascience.com/hypothesis-testing-with-python-step-by-step-hands-on-tutorial-with-practical-examples-e805975ea96e\n",
        "\n",
        "https://www.datacamp.com/community/tutorials/tutorial-google-colab-for-data-scientists\n",
        "\n",
        "\n",
        "https://www.analyticsvidhya.com/blog/2017/07/data-visualisation-made-easy/?utm_source=blog&utm_medium=learning-path-tableau-expert\n"
      ],
      "metadata": {
        "id": "DbB065M9d4Jz"
      }
    }
  ]
}