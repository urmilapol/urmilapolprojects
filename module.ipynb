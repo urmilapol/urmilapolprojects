{
  "nbformat": 4,
  "nbformat_minor": 0,
  "metadata": {
    "colab": {
      "name": "module.ipynb",
      "provenance": [],
      "authorship_tag": "ABX9TyPYv7+rWA3b4soFg1+kLB4Q",
      "include_colab_link": true
    },
    "kernelspec": {
      "name": "python3",
      "display_name": "Python 3"
    },
    "language_info": {
      "name": "python"
    }
  },
  "cells": [
    {
      "cell_type": "markdown",
      "metadata": {
        "id": "view-in-github",
        "colab_type": "text"
      },
      "source": [
        "<a href=\"https://colab.research.google.com/github/urmilapol/urmilapolprojects/blob/master/module.ipynb\" target=\"_parent\"><img src=\"https://colab.research.google.com/assets/colab-badge.svg\" alt=\"Open In Colab\"/></a>"
      ]
    },
    {
      "cell_type": "markdown",
      "source": [
        "What are modules in Python?\n",
        "Modules refer to a file containing Python statements and definitions.\n",
        "\n",
        "A file containing Python code, for example: example.py, is called a module, and its module name would be example.\n",
        "\n",
        "We use modules to break down large programs into small manageable and organized files. Furthermore, modules provide reusability of code.\n",
        "\n",
        "We can define our most used functions in a module and import it, instead of copying their definitions into different programs.\n",
        "\n",
        "Let us create a module. Type the following and save it as example.py."
      ],
      "metadata": {
        "id": "kFIjIqlWcDVe"
      }
    },
    {
      "cell_type": "code",
      "source": [
        "# Python Module example\n",
        "\n",
        "def add(a, b):\n",
        "   \"\"\"This program adds two\n",
        "   numbers and return the result\"\"\"\n",
        "\n",
        "   result = a + b\n",
        "   return result"
      ],
      "metadata": {
        "id": "KU-V1RhzcUNn"
      },
      "execution_count": 1,
      "outputs": []
    },
    {
      "cell_type": "markdown",
      "source": [
        "Here, we have defined a function add() inside a module named example. The function takes in two numbers and returns their sum."
      ],
      "metadata": {
        "id": "owE3zEDOcgWU"
      }
    },
    {
      "cell_type": "markdown",
      "source": [
        "How to import modules in Python?\n",
        "We can import the definitions inside a module to another module or the interactive interpreter in Python.\n",
        "\n",
        "We use the import keyword to do this. To import our previously defined module example, we type the following in the Python prompt.\n",
        "\n",
        "import example\n",
        "example.add(4,4)"
      ],
      "metadata": {
        "id": "SUI2pR9YcvdF"
      }
    },
    {
      "cell_type": "code",
      "source": [
        "import math\n",
        "print(\"The value of pi is\", math.pi)"
      ],
      "metadata": {
        "colab": {
          "base_uri": "https://localhost:8080/"
        },
        "id": "wG7NMT4wdiIE",
        "outputId": "2fbb2ad7-d830-4ff4-a9d6-f90f835d88ec"
      },
      "execution_count": 4,
      "outputs": [
        {
          "output_type": "stream",
          "name": "stdout",
          "text": [
            "The value of pi is 3.141592653589793\n"
          ]
        }
      ]
    },
    {
      "cell_type": "code",
      "source": [
        "# import module by renaming it\n",
        "\n",
        "import math as m\n",
        "print(\"The value of pi is\", m.pi)"
      ],
      "metadata": {
        "colab": {
          "base_uri": "https://localhost:8080/"
        },
        "id": "mLYGJNgQdr4G",
        "outputId": "cbc5a600-140e-4b32-beee-cecfdebcf6af"
      },
      "execution_count": 5,
      "outputs": [
        {
          "output_type": "stream",
          "name": "stdout",
          "text": [
            "The value of pi is 3.141592653589793\n"
          ]
        }
      ]
    },
    {
      "cell_type": "code",
      "source": [
        "# import only pi from math module\n",
        "\n",
        "from math import pi\n",
        "print(\"The value of pi is\", pi)"
      ],
      "metadata": {
        "colab": {
          "base_uri": "https://localhost:8080/"
        },
        "id": "3cUyeIF1dy-s",
        "outputId": "7a643b2b-e2df-423b-b7f1-71c56271146a"
      },
      "execution_count": 6,
      "outputs": [
        {
          "output_type": "stream",
          "name": "stdout",
          "text": [
            "The value of pi is 3.141592653589793\n"
          ]
        }
      ]
    },
    {
      "cell_type": "markdown",
      "source": [
        "The dir() built-in function\n",
        ">>> dir(example)\n",
        "['__builtins__',\n",
        "'__cached__',\n",
        "'__doc__',\n",
        "'__file__',\n",
        "'__initializing__',\n",
        "'__loader__',\n",
        "'__name__',\n",
        "'__package__',\n",
        "'add']"
      ],
      "metadata": {
        "id": "NgZyfeayecIN"
      }
    },
    {
      "cell_type": "markdown",
      "source": [
        ">>> import example\n",
        ">>> example.__name__\n",
        "'example'"
      ],
      "metadata": {
        "id": "rbXNJb9qeu1-"
      }
    },
    {
      "cell_type": "code",
      "source": [
        ""
      ],
      "metadata": {
        "id": "lgtJt5D6ilKr"
      },
      "execution_count": null,
      "outputs": []
    },
    {
      "cell_type": "code",
      "source": [
        ""
      ],
      "metadata": {
        "id": "tr4JtILHeuX-"
      },
      "execution_count": null,
      "outputs": []
    }
  ]
}