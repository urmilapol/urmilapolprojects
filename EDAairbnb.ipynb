{
  "nbformat": 4,
  "nbformat_minor": 0,
  "metadata": {
    "colab": {
      "name": "EDAairbnb.ipynb",
      "provenance": [],
      "authorship_tag": "ABX9TyM/8FhPrWCtKb0aKx2omh0q",
      "include_colab_link": true
    },
    "kernelspec": {
      "name": "python3",
      "display_name": "Python 3"
    },
    "language_info": {
      "name": "python"
    }
  },
  "cells": [
    {
      "cell_type": "markdown",
      "metadata": {
        "id": "view-in-github",
        "colab_type": "text"
      },
      "source": [
        "<a href=\"https://colab.research.google.com/github/urmilapol/urmilapolprojects/blob/master/EDAairbnb.ipynb\" target=\"_parent\"><img src=\"https://colab.research.google.com/assets/colab-badge.svg\" alt=\"Open In Colab\"/></a>"
      ]
    },
    {
      "cell_type": "markdown",
      "source": [
        "Airbnb connects people who have a place to rent and people who need a place to stay. It has become so popular and successful that most of us consider Airbnb as an option in our travel plans.\n",
        "There are several factors that play a key role in defining the price of a place. Hosts are expected to list a reasonable price for their places.\n",
        "On the other hand, people who look for a place to stay evaluate the listings with regards to several features such as location, size, amenities, and most importantly the price.\n",
        "In this article, we will try to find out which features have an impact on the price of a place. There are many Airbnb datasets available with a creative commons license so feel free to use and explore them.\n",
        "We will be using Pandas and Seaborn libraries for Python. Thus, this article will also be a practical guide for these libraries.\n",
        "There are many datasets available on the website. The one we will be using is the listings file on 07 July 2021 from Barcelona, Spain. Let’s start by importing Pandas and reading the data from the CSV file to create a DataFrame."
      ],
      "metadata": {
        "id": "D3QIjvBAaoZa"
      }
    },
    {
      "cell_type": "code",
      "execution_count": 1,
      "metadata": {
        "colab": {
          "base_uri": "https://localhost:8080/"
        },
        "id": "7t9IJMO0YWDe",
        "outputId": "73bf7dd9-4578-43ef-adf2-0785c2af863c"
      },
      "outputs": [
        {
          "output_type": "stream",
          "name": "stdout",
          "text": [
            "(16055, 18)\n"
          ]
        },
        {
          "output_type": "execute_result",
          "data": {
            "text/plain": [
              "(17079, 74)"
            ]
          },
          "metadata": {},
          "execution_count": 1
        }
      ],
      "source": [
        "import pandas as pd\n",
        "listings = pd.read_csv(\"/content/sample_data/listings.csv\")\n",
        "print(listings.shape)\n",
        "(17079, 74)"
      ]
    },
    {
      "cell_type": "markdown",
      "source": [
        "Data Cleaning\n",
        "Some of the columns are not in a proper format for analysis. For instance, the price, host acceptance rate, and host response rate columns are stored as strings."
      ],
      "metadata": {
        "id": "454NUC8GauCh"
      }
    },
    {
      "cell_type": "code",
      "source": [
        "listings.columns"
      ],
      "metadata": {
        "colab": {
          "base_uri": "https://localhost:8080/"
        },
        "id": "uHUrA19SdiCF",
        "outputId": "260597a8-ccac-42d0-9a41-625928e08d34"
      },
      "execution_count": 11,
      "outputs": [
        {
          "output_type": "execute_result",
          "data": {
            "text/plain": [
              "Index(['id', 'name', 'host_id', 'host_name', 'neighbourhood_group',\n",
              "       'neighbourhood', 'latitude', 'longitude', 'room_type', 'price',\n",
              "       'minimum_nights', 'number_of_reviews', 'last_review',\n",
              "       'reviews_per_month', 'calculated_host_listings_count',\n",
              "       'availability_365', 'number_of_reviews_ltm', 'license'],\n",
              "      dtype='object')"
            ]
          },
          "metadata": {},
          "execution_count": 11
        }
      ]
    },
    {
      "cell_type": "code",
      "source": [
        "listings.info()"
      ],
      "metadata": {
        "colab": {
          "base_uri": "https://localhost:8080/"
        },
        "id": "F_2I-fjIdvxg",
        "outputId": "3f863b8b-1ad0-4fc4-a3d9-8b5843ee2ba5"
      },
      "execution_count": 12,
      "outputs": [
        {
          "output_type": "stream",
          "name": "stdout",
          "text": [
            "<class 'pandas.core.frame.DataFrame'>\n",
            "RangeIndex: 16055 entries, 0 to 16054\n",
            "Data columns (total 18 columns):\n",
            " #   Column                          Non-Null Count  Dtype  \n",
            "---  ------                          --------------  -----  \n",
            " 0   id                              16055 non-null  int64  \n",
            " 1   name                            16045 non-null  object \n",
            " 2   host_id                         16055 non-null  int64  \n",
            " 3   host_name                       16014 non-null  object \n",
            " 4   neighbourhood_group             16055 non-null  object \n",
            " 5   neighbourhood                   16055 non-null  object \n",
            " 6   latitude                        16055 non-null  float64\n",
            " 7   longitude                       16055 non-null  float64\n",
            " 8   room_type                       16055 non-null  object \n",
            " 9   price                           16055 non-null  int64  \n",
            " 10  minimum_nights                  16055 non-null  int64  \n",
            " 11  number_of_reviews               16055 non-null  int64  \n",
            " 12  last_review                     11772 non-null  object \n",
            " 13  reviews_per_month               11772 non-null  float64\n",
            " 14  calculated_host_listings_count  16055 non-null  int64  \n",
            " 15  availability_365                16055 non-null  int64  \n",
            " 16  number_of_reviews_ltm           16055 non-null  int64  \n",
            " 17  license                         10277 non-null  object \n",
            "dtypes: float64(3), int64(8), object(7)\n",
            "memory usage: 2.2+ MB\n"
          ]
        }
      ]
    },
    {
      "cell_type": "code",
      "source": [
        "listings.shape"
      ],
      "metadata": {
        "colab": {
          "base_uri": "https://localhost:8080/"
        },
        "id": "29P75wvIeKIA",
        "outputId": "005077e0-1732-44bb-a454-da621ef2ca6c"
      },
      "execution_count": 13,
      "outputs": [
        {
          "output_type": "execute_result",
          "data": {
            "text/plain": [
              "(16055, 18)"
            ]
          },
          "metadata": {},
          "execution_count": 13
        }
      ]
    },
    {
      "cell_type": "code",
      "source": [
        "listings[[\"price\",\"host_name\"]].dtypes"
      ],
      "metadata": {
        "colab": {
          "base_uri": "https://localhost:8080/"
        },
        "id": "RVZCudCsfCiK",
        "outputId": "6b14a5a5-feae-4e66-8395-ba8208ce4f38"
      },
      "execution_count": 18,
      "outputs": [
        {
          "output_type": "execute_result",
          "data": {
            "text/plain": [
              "price         int64\n",
              "host_name    object\n",
              "dtype: object"
            ]
          },
          "metadata": {},
          "execution_count": 18
        }
      ]
    },
    {
      "cell_type": "code",
      "source": [
        "listings.head()"
      ],
      "metadata": {
        "colab": {
          "base_uri": "https://localhost:8080/",
          "height": 461
        },
        "id": "0iIDFW_zfa_1",
        "outputId": "b41b86a7-7e5e-49d3-f673-b06becad15a1"
      },
      "execution_count": 19,
      "outputs": [
        {
          "output_type": "execute_result",
          "data": {
            "text/html": [
              "\n",
              "  <div id=\"df-ba7fbeb1-2bf4-4234-8da7-99ce958a0df2\">\n",
              "    <div class=\"colab-df-container\">\n",
              "      <div>\n",
              "<style scoped>\n",
              "    .dataframe tbody tr th:only-of-type {\n",
              "        vertical-align: middle;\n",
              "    }\n",
              "\n",
              "    .dataframe tbody tr th {\n",
              "        vertical-align: top;\n",
              "    }\n",
              "\n",
              "    .dataframe thead th {\n",
              "        text-align: right;\n",
              "    }\n",
              "</style>\n",
              "<table border=\"1\" class=\"dataframe\">\n",
              "  <thead>\n",
              "    <tr style=\"text-align: right;\">\n",
              "      <th></th>\n",
              "      <th>id</th>\n",
              "      <th>name</th>\n",
              "      <th>host_id</th>\n",
              "      <th>host_name</th>\n",
              "      <th>neighbourhood_group</th>\n",
              "      <th>neighbourhood</th>\n",
              "      <th>latitude</th>\n",
              "      <th>longitude</th>\n",
              "      <th>room_type</th>\n",
              "      <th>price</th>\n",
              "      <th>minimum_nights</th>\n",
              "      <th>number_of_reviews</th>\n",
              "      <th>last_review</th>\n",
              "      <th>reviews_per_month</th>\n",
              "      <th>calculated_host_listings_count</th>\n",
              "      <th>availability_365</th>\n",
              "      <th>number_of_reviews_ltm</th>\n",
              "      <th>license</th>\n",
              "    </tr>\n",
              "  </thead>\n",
              "  <tbody>\n",
              "    <tr>\n",
              "      <th>0</th>\n",
              "      <td>18674</td>\n",
              "      <td>Huge flat for 8 people close to Sagrada Familia</td>\n",
              "      <td>71615</td>\n",
              "      <td>Mireia And Maria</td>\n",
              "      <td>Eixample</td>\n",
              "      <td>la Sagrada Família</td>\n",
              "      <td>41.40420</td>\n",
              "      <td>2.17306</td>\n",
              "      <td>Entire home/apt</td>\n",
              "      <td>121</td>\n",
              "      <td>1</td>\n",
              "      <td>21</td>\n",
              "      <td>2019-10-11</td>\n",
              "      <td>0.23</td>\n",
              "      <td>19</td>\n",
              "      <td>47</td>\n",
              "      <td>0</td>\n",
              "      <td>HUTB-002062</td>\n",
              "    </tr>\n",
              "    <tr>\n",
              "      <th>1</th>\n",
              "      <td>23197</td>\n",
              "      <td>Forum CCIB DeLuxe★Spacious &amp;Elegant★Large Balcony</td>\n",
              "      <td>90417</td>\n",
              "      <td>Etain (Marnie)</td>\n",
              "      <td>Sant Martí</td>\n",
              "      <td>el Besòs i el Maresme</td>\n",
              "      <td>41.41291</td>\n",
              "      <td>2.22063</td>\n",
              "      <td>Entire home/apt</td>\n",
              "      <td>220</td>\n",
              "      <td>4</td>\n",
              "      <td>52</td>\n",
              "      <td>2019-12-15</td>\n",
              "      <td>0.74</td>\n",
              "      <td>2</td>\n",
              "      <td>86</td>\n",
              "      <td>0</td>\n",
              "      <td>HUTB-005057</td>\n",
              "    </tr>\n",
              "    <tr>\n",
              "      <th>2</th>\n",
              "      <td>32711</td>\n",
              "      <td>Sagrada Familia area - Còrsega 1</td>\n",
              "      <td>135703</td>\n",
              "      <td>Nick</td>\n",
              "      <td>Gràcia</td>\n",
              "      <td>el Camp d'en Grassot i Gràcia Nova</td>\n",
              "      <td>41.40566</td>\n",
              "      <td>2.17015</td>\n",
              "      <td>Entire home/apt</td>\n",
              "      <td>144</td>\n",
              "      <td>2</td>\n",
              "      <td>63</td>\n",
              "      <td>2019-09-06</td>\n",
              "      <td>0.60</td>\n",
              "      <td>3</td>\n",
              "      <td>85</td>\n",
              "      <td>0</td>\n",
              "      <td>HUTB-001722</td>\n",
              "    </tr>\n",
              "    <tr>\n",
              "      <th>3</th>\n",
              "      <td>34981</td>\n",
              "      <td>VIDRE HOME PLAZA REAL on LAS RAMBLAS</td>\n",
              "      <td>73163</td>\n",
              "      <td>Andres</td>\n",
              "      <td>Ciutat Vella</td>\n",
              "      <td>el Barri Gòtic</td>\n",
              "      <td>41.37978</td>\n",
              "      <td>2.17623</td>\n",
              "      <td>Entire home/apt</td>\n",
              "      <td>181</td>\n",
              "      <td>4</td>\n",
              "      <td>156</td>\n",
              "      <td>2020-03-11</td>\n",
              "      <td>1.55</td>\n",
              "      <td>2</td>\n",
              "      <td>136</td>\n",
              "      <td>7</td>\n",
              "      <td>HUTB-001506</td>\n",
              "    </tr>\n",
              "    <tr>\n",
              "      <th>4</th>\n",
              "      <td>35379</td>\n",
              "      <td>Double 04 CasanovaRooms Barcelona</td>\n",
              "      <td>152232</td>\n",
              "      <td>Pablo</td>\n",
              "      <td>Eixample</td>\n",
              "      <td>l'Antiga Esquerra de l'Eixample</td>\n",
              "      <td>41.39036</td>\n",
              "      <td>2.15274</td>\n",
              "      <td>Private room</td>\n",
              "      <td>41</td>\n",
              "      <td>2</td>\n",
              "      <td>358</td>\n",
              "      <td>2021-07-21</td>\n",
              "      <td>4.01</td>\n",
              "      <td>4</td>\n",
              "      <td>193</td>\n",
              "      <td>41</td>\n",
              "      <td>Exempt</td>\n",
              "    </tr>\n",
              "  </tbody>\n",
              "</table>\n",
              "</div>\n",
              "      <button class=\"colab-df-convert\" onclick=\"convertToInteractive('df-ba7fbeb1-2bf4-4234-8da7-99ce958a0df2')\"\n",
              "              title=\"Convert this dataframe to an interactive table.\"\n",
              "              style=\"display:none;\">\n",
              "        \n",
              "  <svg xmlns=\"http://www.w3.org/2000/svg\" height=\"24px\"viewBox=\"0 0 24 24\"\n",
              "       width=\"24px\">\n",
              "    <path d=\"M0 0h24v24H0V0z\" fill=\"none\"/>\n",
              "    <path d=\"M18.56 5.44l.94 2.06.94-2.06 2.06-.94-2.06-.94-.94-2.06-.94 2.06-2.06.94zm-11 1L8.5 8.5l.94-2.06 2.06-.94-2.06-.94L8.5 2.5l-.94 2.06-2.06.94zm10 10l.94 2.06.94-2.06 2.06-.94-2.06-.94-.94-2.06-.94 2.06-2.06.94z\"/><path d=\"M17.41 7.96l-1.37-1.37c-.4-.4-.92-.59-1.43-.59-.52 0-1.04.2-1.43.59L10.3 9.45l-7.72 7.72c-.78.78-.78 2.05 0 2.83L4 21.41c.39.39.9.59 1.41.59.51 0 1.02-.2 1.41-.59l7.78-7.78 2.81-2.81c.8-.78.8-2.07 0-2.86zM5.41 20L4 18.59l7.72-7.72 1.47 1.35L5.41 20z\"/>\n",
              "  </svg>\n",
              "      </button>\n",
              "      \n",
              "  <style>\n",
              "    .colab-df-container {\n",
              "      display:flex;\n",
              "      flex-wrap:wrap;\n",
              "      gap: 12px;\n",
              "    }\n",
              "\n",
              "    .colab-df-convert {\n",
              "      background-color: #E8F0FE;\n",
              "      border: none;\n",
              "      border-radius: 50%;\n",
              "      cursor: pointer;\n",
              "      display: none;\n",
              "      fill: #1967D2;\n",
              "      height: 32px;\n",
              "      padding: 0 0 0 0;\n",
              "      width: 32px;\n",
              "    }\n",
              "\n",
              "    .colab-df-convert:hover {\n",
              "      background-color: #E2EBFA;\n",
              "      box-shadow: 0px 1px 2px rgba(60, 64, 67, 0.3), 0px 1px 3px 1px rgba(60, 64, 67, 0.15);\n",
              "      fill: #174EA6;\n",
              "    }\n",
              "\n",
              "    [theme=dark] .colab-df-convert {\n",
              "      background-color: #3B4455;\n",
              "      fill: #D2E3FC;\n",
              "    }\n",
              "\n",
              "    [theme=dark] .colab-df-convert:hover {\n",
              "      background-color: #434B5C;\n",
              "      box-shadow: 0px 1px 3px 1px rgba(0, 0, 0, 0.15);\n",
              "      filter: drop-shadow(0px 1px 2px rgba(0, 0, 0, 0.3));\n",
              "      fill: #FFFFFF;\n",
              "    }\n",
              "  </style>\n",
              "\n",
              "      <script>\n",
              "        const buttonEl =\n",
              "          document.querySelector('#df-ba7fbeb1-2bf4-4234-8da7-99ce958a0df2 button.colab-df-convert');\n",
              "        buttonEl.style.display =\n",
              "          google.colab.kernel.accessAllowed ? 'block' : 'none';\n",
              "\n",
              "        async function convertToInteractive(key) {\n",
              "          const element = document.querySelector('#df-ba7fbeb1-2bf4-4234-8da7-99ce958a0df2');\n",
              "          const dataTable =\n",
              "            await google.colab.kernel.invokeFunction('convertToInteractive',\n",
              "                                                     [key], {});\n",
              "          if (!dataTable) return;\n",
              "\n",
              "          const docLinkHtml = 'Like what you see? Visit the ' +\n",
              "            '<a target=\"_blank\" href=https://colab.research.google.com/notebooks/data_table.ipynb>data table notebook</a>'\n",
              "            + ' to learn more about interactive tables.';\n",
              "          element.innerHTML = '';\n",
              "          dataTable['output_type'] = 'display_data';\n",
              "          await google.colab.output.renderOutput(dataTable, element);\n",
              "          const docLink = document.createElement('div');\n",
              "          docLink.innerHTML = docLinkHtml;\n",
              "          element.appendChild(docLink);\n",
              "        }\n",
              "      </script>\n",
              "    </div>\n",
              "  </div>\n",
              "  "
            ],
            "text/plain": [
              "      id  ...      license\n",
              "0  18674  ...  HUTB-002062\n",
              "1  23197  ...  HUTB-005057\n",
              "2  32711  ...  HUTB-001722\n",
              "3  34981  ...  HUTB-001506\n",
              "4  35379  ...       Exempt\n",
              "\n",
              "[5 rows x 18 columns]"
            ]
          },
          "metadata": {},
          "execution_count": 19
        }
      ]
    },
    {
      "cell_type": "code",
      "source": [
        "listings.tail()"
      ],
      "metadata": {
        "colab": {
          "base_uri": "https://localhost:8080/",
          "height": 583
        },
        "id": "ubAihGOHfiYh",
        "outputId": "c90dd21d-dfd1-47cc-a2fb-7c1c0a6dc83f"
      },
      "execution_count": 20,
      "outputs": [
        {
          "output_type": "execute_result",
          "data": {
            "text/html": [
              "\n",
              "  <div id=\"df-ee904390-841d-4291-9cb5-f4bfebad06f0\">\n",
              "    <div class=\"colab-df-container\">\n",
              "      <div>\n",
              "<style scoped>\n",
              "    .dataframe tbody tr th:only-of-type {\n",
              "        vertical-align: middle;\n",
              "    }\n",
              "\n",
              "    .dataframe tbody tr th {\n",
              "        vertical-align: top;\n",
              "    }\n",
              "\n",
              "    .dataframe thead th {\n",
              "        text-align: right;\n",
              "    }\n",
              "</style>\n",
              "<table border=\"1\" class=\"dataframe\">\n",
              "  <thead>\n",
              "    <tr style=\"text-align: right;\">\n",
              "      <th></th>\n",
              "      <th>id</th>\n",
              "      <th>name</th>\n",
              "      <th>host_id</th>\n",
              "      <th>host_name</th>\n",
              "      <th>neighbourhood_group</th>\n",
              "      <th>neighbourhood</th>\n",
              "      <th>latitude</th>\n",
              "      <th>longitude</th>\n",
              "      <th>room_type</th>\n",
              "      <th>price</th>\n",
              "      <th>minimum_nights</th>\n",
              "      <th>number_of_reviews</th>\n",
              "      <th>last_review</th>\n",
              "      <th>reviews_per_month</th>\n",
              "      <th>calculated_host_listings_count</th>\n",
              "      <th>availability_365</th>\n",
              "      <th>number_of_reviews_ltm</th>\n",
              "      <th>license</th>\n",
              "    </tr>\n",
              "  </thead>\n",
              "  <tbody>\n",
              "    <tr>\n",
              "      <th>16050</th>\n",
              "      <td>52685901</td>\n",
              "      <td>Avinguda dels Quinze 70 1º4º - Room 1</td>\n",
              "      <td>1503151</td>\n",
              "      <td>Alex</td>\n",
              "      <td>Nou Barris</td>\n",
              "      <td>Vilapicina i la Torre Llobeta</td>\n",
              "      <td>41.427810</td>\n",
              "      <td>2.17350</td>\n",
              "      <td>Private room</td>\n",
              "      <td>25</td>\n",
              "      <td>32</td>\n",
              "      <td>0</td>\n",
              "      <td>NaN</td>\n",
              "      <td>NaN</td>\n",
              "      <td>72</td>\n",
              "      <td>283</td>\n",
              "      <td>0</td>\n",
              "      <td>NaN</td>\n",
              "    </tr>\n",
              "    <tr>\n",
              "      <th>16051</th>\n",
              "      <td>52686011</td>\n",
              "      <td>Avinguda dels Quinze 70 1º4º - Room 2</td>\n",
              "      <td>1503151</td>\n",
              "      <td>Alex</td>\n",
              "      <td>Nou Barris</td>\n",
              "      <td>Vilapicina i la Torre Llobeta</td>\n",
              "      <td>41.427690</td>\n",
              "      <td>2.17572</td>\n",
              "      <td>Private room</td>\n",
              "      <td>23</td>\n",
              "      <td>32</td>\n",
              "      <td>0</td>\n",
              "      <td>NaN</td>\n",
              "      <td>NaN</td>\n",
              "      <td>72</td>\n",
              "      <td>314</td>\n",
              "      <td>0</td>\n",
              "      <td>NaN</td>\n",
              "    </tr>\n",
              "    <tr>\n",
              "      <th>16052</th>\n",
              "      <td>52686117</td>\n",
              "      <td>DOUBLE PRIVATE ROOM + PRIVATE LIVING ROOM</td>\n",
              "      <td>394998732</td>\n",
              "      <td>Antonio</td>\n",
              "      <td>Eixample</td>\n",
              "      <td>la Dreta de l'Eixample</td>\n",
              "      <td>41.397330</td>\n",
              "      <td>2.17106</td>\n",
              "      <td>Private room</td>\n",
              "      <td>50</td>\n",
              "      <td>5</td>\n",
              "      <td>0</td>\n",
              "      <td>NaN</td>\n",
              "      <td>NaN</td>\n",
              "      <td>4</td>\n",
              "      <td>350</td>\n",
              "      <td>0</td>\n",
              "      <td>Exempt</td>\n",
              "    </tr>\n",
              "    <tr>\n",
              "      <th>16053</th>\n",
              "      <td>52686118</td>\n",
              "      <td>Avinguda dels Quinze 70 1º4º - Room 3</td>\n",
              "      <td>1503151</td>\n",
              "      <td>Alex</td>\n",
              "      <td>Nou Barris</td>\n",
              "      <td>Vilapicina i la Torre Llobeta</td>\n",
              "      <td>41.428290</td>\n",
              "      <td>2.17546</td>\n",
              "      <td>Private room</td>\n",
              "      <td>21</td>\n",
              "      <td>32</td>\n",
              "      <td>0</td>\n",
              "      <td>NaN</td>\n",
              "      <td>NaN</td>\n",
              "      <td>72</td>\n",
              "      <td>283</td>\n",
              "      <td>0</td>\n",
              "      <td>NaN</td>\n",
              "    </tr>\n",
              "    <tr>\n",
              "      <th>16054</th>\n",
              "      <td>52702678</td>\n",
              "      <td>Barcelona Sunlight</td>\n",
              "      <td>85283418</td>\n",
              "      <td>Jordi</td>\n",
              "      <td>Eixample</td>\n",
              "      <td>el Fort Pienc</td>\n",
              "      <td>41.395981</td>\n",
              "      <td>2.18470</td>\n",
              "      <td>Entire home/apt</td>\n",
              "      <td>131</td>\n",
              "      <td>3</td>\n",
              "      <td>0</td>\n",
              "      <td>NaN</td>\n",
              "      <td>NaN</td>\n",
              "      <td>4</td>\n",
              "      <td>26</td>\n",
              "      <td>0</td>\n",
              "      <td>HUTB-001126</td>\n",
              "    </tr>\n",
              "  </tbody>\n",
              "</table>\n",
              "</div>\n",
              "      <button class=\"colab-df-convert\" onclick=\"convertToInteractive('df-ee904390-841d-4291-9cb5-f4bfebad06f0')\"\n",
              "              title=\"Convert this dataframe to an interactive table.\"\n",
              "              style=\"display:none;\">\n",
              "        \n",
              "  <svg xmlns=\"http://www.w3.org/2000/svg\" height=\"24px\"viewBox=\"0 0 24 24\"\n",
              "       width=\"24px\">\n",
              "    <path d=\"M0 0h24v24H0V0z\" fill=\"none\"/>\n",
              "    <path d=\"M18.56 5.44l.94 2.06.94-2.06 2.06-.94-2.06-.94-.94-2.06-.94 2.06-2.06.94zm-11 1L8.5 8.5l.94-2.06 2.06-.94-2.06-.94L8.5 2.5l-.94 2.06-2.06.94zm10 10l.94 2.06.94-2.06 2.06-.94-2.06-.94-.94-2.06-.94 2.06-2.06.94z\"/><path d=\"M17.41 7.96l-1.37-1.37c-.4-.4-.92-.59-1.43-.59-.52 0-1.04.2-1.43.59L10.3 9.45l-7.72 7.72c-.78.78-.78 2.05 0 2.83L4 21.41c.39.39.9.59 1.41.59.51 0 1.02-.2 1.41-.59l7.78-7.78 2.81-2.81c.8-.78.8-2.07 0-2.86zM5.41 20L4 18.59l7.72-7.72 1.47 1.35L5.41 20z\"/>\n",
              "  </svg>\n",
              "      </button>\n",
              "      \n",
              "  <style>\n",
              "    .colab-df-container {\n",
              "      display:flex;\n",
              "      flex-wrap:wrap;\n",
              "      gap: 12px;\n",
              "    }\n",
              "\n",
              "    .colab-df-convert {\n",
              "      background-color: #E8F0FE;\n",
              "      border: none;\n",
              "      border-radius: 50%;\n",
              "      cursor: pointer;\n",
              "      display: none;\n",
              "      fill: #1967D2;\n",
              "      height: 32px;\n",
              "      padding: 0 0 0 0;\n",
              "      width: 32px;\n",
              "    }\n",
              "\n",
              "    .colab-df-convert:hover {\n",
              "      background-color: #E2EBFA;\n",
              "      box-shadow: 0px 1px 2px rgba(60, 64, 67, 0.3), 0px 1px 3px 1px rgba(60, 64, 67, 0.15);\n",
              "      fill: #174EA6;\n",
              "    }\n",
              "\n",
              "    [theme=dark] .colab-df-convert {\n",
              "      background-color: #3B4455;\n",
              "      fill: #D2E3FC;\n",
              "    }\n",
              "\n",
              "    [theme=dark] .colab-df-convert:hover {\n",
              "      background-color: #434B5C;\n",
              "      box-shadow: 0px 1px 3px 1px rgba(0, 0, 0, 0.15);\n",
              "      filter: drop-shadow(0px 1px 2px rgba(0, 0, 0, 0.3));\n",
              "      fill: #FFFFFF;\n",
              "    }\n",
              "  </style>\n",
              "\n",
              "      <script>\n",
              "        const buttonEl =\n",
              "          document.querySelector('#df-ee904390-841d-4291-9cb5-f4bfebad06f0 button.colab-df-convert');\n",
              "        buttonEl.style.display =\n",
              "          google.colab.kernel.accessAllowed ? 'block' : 'none';\n",
              "\n",
              "        async function convertToInteractive(key) {\n",
              "          const element = document.querySelector('#df-ee904390-841d-4291-9cb5-f4bfebad06f0');\n",
              "          const dataTable =\n",
              "            await google.colab.kernel.invokeFunction('convertToInteractive',\n",
              "                                                     [key], {});\n",
              "          if (!dataTable) return;\n",
              "\n",
              "          const docLinkHtml = 'Like what you see? Visit the ' +\n",
              "            '<a target=\"_blank\" href=https://colab.research.google.com/notebooks/data_table.ipynb>data table notebook</a>'\n",
              "            + ' to learn more about interactive tables.';\n",
              "          element.innerHTML = '';\n",
              "          dataTable['output_type'] = 'display_data';\n",
              "          await google.colab.output.renderOutput(dataTable, element);\n",
              "          const docLink = document.createElement('div');\n",
              "          docLink.innerHTML = docLinkHtml;\n",
              "          element.appendChild(docLink);\n",
              "        }\n",
              "      </script>\n",
              "    </div>\n",
              "  </div>\n",
              "  "
            ],
            "text/plain": [
              "             id  ...      license\n",
              "16050  52685901  ...          NaN\n",
              "16051  52686011  ...          NaN\n",
              "16052  52686117  ...       Exempt\n",
              "16053  52686118  ...          NaN\n",
              "16054  52702678  ...  HUTB-001126\n",
              "\n",
              "[5 rows x 18 columns]"
            ]
          },
          "metadata": {},
          "execution_count": 20
        }
      ]
    },
    {
      "cell_type": "code",
      "source": [
        "import seaborn as sns\n",
        "sns.set_theme(font_scale=1.5, style=\"darkgrid\")"
      ],
      "metadata": {
        "id": "7FGzRZlHf2pB"
      },
      "execution_count": 21,
      "outputs": []
    },
    {
      "cell_type": "code",
      "source": [
        "sns.displot(data=listings, x=\"price\", kind=\"hist\", aspect=1.5)"
      ],
      "metadata": {
        "colab": {
          "base_uri": "https://localhost:8080/",
          "height": 369
        },
        "id": "zZGonrWbgOUw",
        "outputId": "9b3153c9-2f81-4dda-e2c7-dce65181f5fe"
      },
      "execution_count": 22,
      "outputs": [
        {
          "output_type": "execute_result",
          "data": {
            "text/plain": [
              "<seaborn.axisgrid.FacetGrid at 0x7f0630af31d0>"
            ]
          },
          "metadata": {},
          "execution_count": 22
        },
        {
          "output_type": "display_data",
          "data": {
            "image/png": "[encoded data removed]",
            "text/plain": [
              "<Figure size 540x360 with 1 Axes>"
            ]
          },
          "metadata": {}
        }
      ]
    },
    {
      "cell_type": "code",
      "source": [
        "import numpy as np\n",
        "listings = listings[listings.price!=0]\n",
        "listings.loc[:,\"log_price\"] = np.log(listings.loc[:,\"price\"])\n",
        "sns.displot(data=listings, x=\"log_price\", kind=\"hist\", aspect=1.5)"
      ],
      "metadata": {
        "colab": {
          "base_uri": "https://localhost:8080/",
          "height": 369
        },
        "id": "rMOUt994gcxr",
        "outputId": "e54ba624-ba0a-4dba-f304-ce95962f8c95"
      },
      "execution_count": 24,
      "outputs": [
        {
          "output_type": "execute_result",
          "data": {
            "text/plain": [
              "<seaborn.axisgrid.FacetGrid at 0x7f06258b7190>"
            ]
          },
          "metadata": {},
          "execution_count": 24
        },
        {
          "output_type": "display_data",
          "data": {
            "image/png": "[encoded data removed]",
            "text/plain": [
              "<Figure size 540x360 with 1 Axes>"
            ]
          },
          "metadata": {}
        }
      ]
    }
  ]
}