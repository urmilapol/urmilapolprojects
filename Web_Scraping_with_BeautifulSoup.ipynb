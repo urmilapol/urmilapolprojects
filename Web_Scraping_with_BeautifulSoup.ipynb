{
  "cells": [
    {
      "cell_type": "markdown",
      "metadata": {
        "id": "view-in-github",
        "colab_type": "text"
      },
      "source": [
        "<a href=\"https://colab.research.google.com/github/urmilapol/urmilapolprojects/blob/master/Web_Scraping_with_BeautifulSoup.ipynb\" target=\"_parent\"><img src=\"https://colab.research.google.com/assets/colab-badge.svg\" alt=\"Open In Colab\"/></a>"
      ]
    },
    {
      "cell_type": "code",
      "execution_count": 1,
      "metadata": {
        "id": "rJwG-TWKq1Pz"
      },
      "outputs": [],
      "source": [
        "#Requirements\n",
        "#pip3 install requests\n",
        "#pip3 install bs4"
      ]
    },
    {
      "cell_type": "markdown",
      "metadata": {
        "id": "q1c6sGUpq1P2"
      },
      "source": [
        "## Basic fundamentals of web scraping"
      ]
    },
    {
      "cell_type": "code",
      "execution_count": 2,
      "metadata": {
        "colab": {
          "base_uri": "https://localhost:8080/"
        },
        "id": "L0BzL74lq1P4",
        "outputId": "186118bc-43f5-4152-eef4-a91d8db5ba38"
      },
      "outputs": [
        {
          "output_type": "stream",
          "name": "stdout",
          "text": [
            "this is with html tags : <title>Fun with python programming – A programming language for revolution</title>\n",
            "this is without html tags: Fun with python programming\n",
            "<a class=\"screen-reader-text skip-link\" href=\"#content\">Skip to content</a>\n"
          ]
        }
      ],
      "source": [
        "# import these two modules bs4 for selecting HTML tags easily\n",
        "from bs4 import BeautifulSoup\n",
        "# requests module is easy to operate some people use urllib but I prefer this one because it is easy to use.\n",
        "import requests\n",
        "\n",
        "# I put here my own blog url ,you can change it.\n",
        "url=\"https://getpython.wordpress.com/\"\n",
        "\n",
        "#Requests module use to data from given url\n",
        "source=requests.get(url)\n",
        "\n",
        "# BeautifulSoup is used for getting HTML structure from requests response.(craete your soup)\n",
        "soup=BeautifulSoup(source.text,'html')\n",
        "\n",
        "# Find function is used to find a single element if there are more than once it always returns the first element.\n",
        "title=soup.find('title') # place your html tagg in parentheses that you want to find from html.\n",
        "print(\"this is with html tags :\",title)\n",
        "\n",
        "qwery=soup.find('h1') # here i find first h1 tagg in my website using find operation.\n",
        "\n",
        "#use .text for extract only text without any html tags\n",
        "print(\"this is without html tags:\",qwery.text)\n",
        "\n",
        "\n",
        "links=soup.find('a') #i extarcted link using \"a\" tag\n",
        "print(links)"
      ]
    },
    {
      "cell_type": "markdown",
      "metadata": {
        "id": "NjMQ7TgPq1P8"
      },
      "source": [
        "## extarct data from innerhtml"
      ]
    },
    {
      "cell_type": "code",
      "execution_count": 3,
      "metadata": {
        "colab": {
          "base_uri": "https://localhost:8080/"
        },
        "id": "S1IKbwxhq1P9",
        "outputId": "d122fbf0-8b74-4961-a151-e59c22df8d1d"
      },
      "outputs": [
        {
          "output_type": "stream",
          "name": "stdout",
          "text": [
            "#content\n"
          ]
        }
      ],
      "source": [
        "# here i extarcted href data from anchor tag.\n",
        "print(links['href'])"
      ]
    },
    {
      "cell_type": "code",
      "execution_count": 4,
      "metadata": {
        "colab": {
          "base_uri": "https://localhost:8080/"
        },
        "id": "GJPOJTNjq1P-",
        "outputId": "baf63d74-7629-4423-b101-20463eb51103"
      },
      "outputs": [
        {
          "output_type": "stream",
          "name": "stdout",
          "text": [
            "['screen-reader-text', 'skip-link']\n"
          ]
        }
      ],
      "source": [
        "# similarly i got class details from a anchor tag\n",
        "print(links['class'])"
      ]
    },
    {
      "cell_type": "markdown",
      "metadata": {
        "id": "KHOaF3N7q1P-"
      },
      "source": [
        "## findall operation in Bs4"
      ]
    },
    {
      "cell_type": "code",
      "execution_count": 5,
      "metadata": {
        "colab": {
          "base_uri": "https://localhost:8080/"
        },
        "id": "Qr-QBZAcq1P_",
        "outputId": "321f1696-9c24-4323-d201-870b09c5dca1"
      },
      "outputs": [
        {
          "output_type": "stream",
          "name": "stdout",
          "text": [
            "total links in my website : 100\n",
            "\n",
            "<a class=\"screen-reader-text skip-link\" href=\"#content\">Skip to content</a>\n",
            "<a href=\"https://getpython.wordpress.com/\" rel=\"home\">\n",
            "<div class=\"cover\"></div>\n",
            "</a>\n",
            "<a class=\"screen-reader-text search-toggle\" href=\"#search-container\">Search</a>\n",
            "<a href=\"https://getpython.wordpress.com/\" rel=\"home\">Fun with python programming</a>\n",
            "<a aria-current=\"page\" href=\"/\">Home</a>\n",
            "<a href=\"https://getpython.wordpress.com/contact/\">Contact</a>\n"
          ]
        }
      ],
      "source": [
        "# findall function is used to fetch all tags at a single time.\n",
        "many_link=soup.find_all('a') # here i extracted all the anchor tags of my website\n",
        "total_links=len(many_link) # len function is use to calculate length of your array\n",
        "print(\"total links in my website :\",total_links)\n",
        "print()\n",
        "for i in many_link[:6]: # here i use slicing to fetch only first 6 links from rest of them.\n",
        "    print(i)"
      ]
    },
    {
      "cell_type": "code",
      "execution_count": 6,
      "metadata": {
        "colab": {
          "base_uri": "https://localhost:8080/"
        },
        "id": "D2Z5lwyDq1QA",
        "outputId": "17324138-7084-4459-8cd6-d4446b25b0d2"
      },
      "outputs": [
        {
          "output_type": "stream",
          "name": "stdout",
          "text": [
            "<a href=\"https://getpython.wordpress.com/\" rel=\"home\">\n",
            "<div class=\"cover\"></div>\n",
            "</a>\n",
            "\n",
            "href is : https://getpython.wordpress.com/\n"
          ]
        }
      ],
      "source": [
        "second_link=many_link[1] #here i fetch second link which place on 1 index number in many_links.\n",
        "print(second_link)\n",
        "print()\n",
        "print(\"href is :\",second_link['href']) #only href link is extracted from ancor tag\n",
        "\n"
      ]
    },
    {
      "cell_type": "code",
      "execution_count": 7,
      "metadata": {
        "colab": {
          "base_uri": "https://localhost:8080/"
        },
        "id": "uMjXqTssq1QA",
        "outputId": "cf02464b-f747-45a9-c639-c481f0d8586e"
      },
      "outputs": [
        {
          "output_type": "stream",
          "name": "stdout",
          "text": [
            "<div class=\"cover\"></div>\n",
            "\n",
            "['cover']\n",
            "<class 'list'>\n",
            "\n",
            "class name of div is : cover\n"
          ]
        }
      ],
      "source": [
        "# select div tag from second link\n",
        "nested_div=second_link.find('div')\n",
        "# As you can see div element extarcted , it also have inner elements\n",
        "print(nested_div)\n",
        "print()\n",
        "#here i extracted class element from div but it give us in the form of list\n",
        "z=(nested_div['class'])\n",
        "print(z)\n",
        "print(type(z))\n",
        "print()\n",
        "#  \" \" .join () method use to convert list type  into string type\n",
        "print(\"class name of div is :\",\" \".join(nested_div['class']))"
      ]
    },
    {
      "cell_type": "markdown",
      "metadata": {
        "id": "zBSLValfq1QB"
      },
      "source": [
        "## scrap data from wikipedia"
      ]
    },
    {
      "cell_type": "code",
      "execution_count": 8,
      "metadata": {
        "colab": {
          "base_uri": "https://localhost:8080/"
        },
        "id": "fZTcLN9Uq1QC",
        "outputId": "a5b65e1b-df0f-4763-df2a-39749464fc96"
      },
      "outputs": [
        {
          "output_type": "stream",
          "name": "stdout",
          "text": [
            "<title>World War II - Wikipedia</title>\n"
          ]
        }
      ],
      "source": [
        "wiki=requests.get(\"https://en.wikipedia.org/wiki/World_War_II\")\n",
        "soup=BeautifulSoup(wiki.text,'html')\n",
        "print(soup.find('title'))\n"
      ]
    },
    {
      "cell_type": "markdown",
      "metadata": {
        "id": "sc2S6I4Kq1QC"
      },
      "source": [
        "### find html tags with classes"
      ]
    },
    {
      "cell_type": "code",
      "execution_count": 9,
      "metadata": {
        "id": "1jbnGImoq1QC"
      },
      "outputs": [],
      "source": [
        "ww2_contents=soup.find_all(\"div\",class_='toc')\n",
        "for i in ww2_contents:\n",
        "    print(i.text)"
      ]
    },
    {
      "cell_type": "code",
      "execution_count": 10,
      "metadata": {
        "colab": {
          "base_uri": "https://localhost:8080/"
        },
        "id": "t6LzhGvOq1QD",
        "outputId": "6bc7b4b5-1a41-40b1-95b5-913c1967ed72"
      },
      "outputs": [
        {
          "output_type": "stream",
          "name": "stdout",
          "text": [
            "World War IIClockwise from top left: \n",
            "German Stuka dive bombers on the Eastern Front in December 1943\n",
            "Australian Ordnance QF 25-pounder guns during the First Battle of El Alamein\n",
            "Atomic bombing of Nagasaki\n",
            "US naval force in the Lingayen Gulf\n",
            "Raising a flag over the Reichstag\n",
            "Soviet troops in the Battle of Stalingrad\n",
            "Date1 September 1939 – 2 September 1945[a] (6 years, 1 day)LocationMajor theaters: \n",
            "Europe\n",
            "Pacific\n",
            "Atlantic\n",
            "Indian Ocean\n",
            "South-East Asia\n",
            "China\n",
            "Japan\n",
            "Middle East\n",
            "Mediterranean\n",
            "North Africa\n",
            "Horn of Africa\n",
            "Central Africa\n",
            "Australia\n",
            "Caribbean\n",
            "North and South America\n",
            "Result\n",
            "Allied victory\n",
            "Fall of Nazi Germany, Fascist Italy, and Imperial Japan\n",
            "Allied military occupations of Germany, Japan, Austria, and Korea\n",
            "Beginning of the Nuclear Age\n",
            "Dissolution of the League of Nations and creation of the United Nations\n",
            "Decolonisation of Asia and Africa and decline of European international influence\n",
            "Emergence of the United States and the Soviet Union as rival superpowers and beginning of the Cold War (see Aftermath of World War II)Participants\n",
            "Allies\n",
            "AxisCommanders and leaders\n",
            "Main Allied leaders:\n",
            " Joseph Stalin\n",
            " Franklin D. Roosevelt\n",
            " Winston Churchill\n",
            " Chiang Kai-shek\n",
            "\n",
            "Main Axis leaders:\n",
            " Adolf Hitler\n",
            " Hirohito\n",
            " Benito Mussolini\n",
            "Casualties and losses\n",
            "\n",
            "Military dead:\n",
            "Over 16,000,000\n",
            "Civilian dead:\n",
            "Over 45,000,000\n",
            "Total dead:\n",
            "Over 61,000,000\n",
            "(1937–1945)\n",
            "...further details\n",
            "\n",
            "\n",
            "Military dead:\n",
            "Over 8,000,000\n",
            "Civilian dead:\n",
            "Over 4,000,000\n",
            "Total dead:\n",
            "Over 12,000,000\n",
            "(1937–1945)\n",
            "...further details\n",
            "\n"
          ]
        }
      ],
      "source": [
        "overview=soup.find_all('table',class_='infobox vevent')\n",
        "for z in overview:\n",
        "    print(z.text)\n",
        ""
      ]
    }
  ],
  "metadata": {
    "kernelspec": {
      "display_name": "Python 3",
      "language": "python",
      "name": "python3"
    },
    "language_info": {
      "codemirror_mode": {
        "name": "ipython",
        "version": 3
      },
      "file_extension": ".py",
      "mimetype": "text/x-python",
      "name": "python",
      "nbconvert_exporter": "python",
      "pygments_lexer": "ipython3",
      "version": "3.5.2"
    },
    "colab": {
      "provenance": [],
      "include_colab_link": true
    }
  },
  "nbformat": 4,
  "nbformat_minor": 0
}