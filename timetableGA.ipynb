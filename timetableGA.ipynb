{
  "nbformat": 4,
  "nbformat_minor": 0,
  "metadata": {
    "colab": {
      "provenance": [],
      "authorship_tag": "ABX9TyN0AQQOqIJq18WRwdFiDy7m",
      "include_colab_link": true
    },
    "kernelspec": {
      "name": "python3",
      "display_name": "Python 3"
    },
    "language_info": {
      "name": "python"
    }
  },
  "cells": [
    {
      "cell_type": "markdown",
      "metadata": {
        "id": "view-in-github",
        "colab_type": "text"
      },
      "source": [
        "<a href=\"https://colab.research.google.com/github/urmilapol/urmilapolprojects/blob/master/timetableGA.ipynb\" target=\"_parent\"><img src=\"https://colab.research.google.com/assets/colab-badge.svg\" alt=\"Open In Colab\"/></a>"
      ]
    },
    {
      "cell_type": "code",
      "execution_count": 1,
      "metadata": {
        "colab": {
          "base_uri": "https://localhost:8080/"
        },
        "id": "6tlK9i20HbIG",
        "outputId": "a044d80b-2a01-4771-cac5-0ed1f322900c"
      },
      "outputs": [
        {
          "output_type": "stream",
          "name": "stdout",
          "text": [
            "Collecting genetictabler\n",
            "  Downloading genetictabler-2.0.3-py3-none-any.whl (7.6 kB)\n",
            "Installing collected packages: genetictabler\n",
            "Successfully installed genetictabler-2.0.3\n"
          ]
        }
      ],
      "source": [
        "pip install genetictabler"
      ]
    },
    {
      "cell_type": "code",
      "source": [
        "from genetictabler import GenerateTimeTable\n",
        "\n",
        "total_classes = 3\n",
        "no_courses = 3\n",
        "slots = 7\n",
        "total_days = 6\n",
        "daily_repetition = 3"
      ],
      "metadata": {
        "id": "nbOpZSaIHzui"
      },
      "execution_count": 2,
      "outputs": []
    },
    {
      "cell_type": "code",
      "source": [
        "table = GenerateTimeTable(total_classes, no_courses, slots, total_days, daily_repetition)\n",
        "for single_table in table.run():\n",
        "    for days in single_table:\n",
        "        print(days)\n",
        "    print(\"-----------------------------------\")"
      ],
      "metadata": {
        "id": "sDldl2YfITKG",
        "outputId": "782749df-f5ee-4c98-b4c2-1ab07981dfdc",
        "colab": {
          "base_uri": "https://localhost:8080/"
        }
      },
      "execution_count": 3,
      "outputs": [
        {
          "output_type": "stream",
          "name": "stdout",
          "text": [
            "[4, 1, 2, 3, 5, 4]\n",
            "[5, 3, 1, 4, 6, 2]\n",
            "[5, 1, 3, 3, 4, 2]\n",
            "[1, 6, 5, 0, 1, 6]\n",
            "[4, 2, 6, 3, 5, 2]\n",
            "[2, 3, 5, 4, 5, 6]\n",
            "[0, 6, 3, 4, 2, 6]\n",
            "-----------------------------------\n",
            "[6, 2, 1, 5, 6, 0]\n",
            "[1, 2, 4, 6, 3, 5]\n",
            "[1, 6, 5, 4, 3, 5]\n",
            "[3, 5, 4, 1, 5, 4]\n",
            "[6, 1, 2, 5, 2, 4]\n",
            "[1, 2, 4, 3, 0, 3]\n",
            "[3, 1, 6, 2, 3, 4]\n",
            "-----------------------------------\n",
            "[1, 4, 3, 6, 2, 6]\n",
            "[2, 4, 5, 3, 5, 0]\n",
            "[2, 5, 4, 6, 2, 6]\n",
            "[5, 2, 6, 3, 4, 5]\n",
            "[1, 3, 4, 4, 1, 3]\n",
            "[3, 1, 2, 5, 0, 1]\n",
            "[6, 2, 5, 3, 6, 1]\n",
            "-----------------------------------\n",
            "[5, 6, 5, 4, 1, 3]\n",
            "[4, 6, 3, 1, 4, 3]\n",
            "[0, 2, 1, 2, 5, 1]\n",
            "[4, 0, 3, 4, 2, 1]\n",
            "[5, 6, 1, 6, 3, 1]\n",
            "[4, 5, 1, 6, 2, 2]\n",
            "[5, 4, 2, 1, 5, 3]\n",
            "-----------------------------------\n",
            "[3, 3, 0, 1, 4, 2]\n",
            "[6, 1, 0, 5, 1, 6]\n",
            "[6, 4, 6, 5, 1, 4]\n",
            "[2, 4, 1, 5, 3, 2]\n",
            "[3, 5, 5, 1, 4, 6]\n",
            "[6, 4, 3, 2, 6, 4]\n",
            "[2, 5, 1, 5, 1, 2]\n",
            "-----------------------------------\n",
            "[2, 5, 4, 2, 3, 5]\n",
            "[3, 5, 6, 0, 2, 4]\n",
            "[4, 3, 2, 1, 6, 3]\n",
            "[6, 1, 2, 2, 6, 3]\n",
            "[0, 4, 3, 2, 6, 5]\n",
            "[5, 0, 6, 1, 4, 5]\n",
            "[1, 3, 4, 0, 4, 5]\n",
            "-----------------------------------\n"
          ]
        }
      ]
    }
  ]
}