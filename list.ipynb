{
  "nbformat": 4,
  "nbformat_minor": 0,
  "metadata": {
    "colab": {
      "name": "list.ipynb",
      "provenance": [],
      "authorship_tag": "ABX9TyOojiovhx7Vxo6KkADk8D/h",
      "include_colab_link": true
    },
    "kernelspec": {
      "name": "python3",
      "display_name": "Python 3"
    },
    "language_info": {
      "name": "python"
    }
  },
  "cells": [
    {
      "cell_type": "markdown",
      "metadata": {
        "id": "view-in-github",
        "colab_type": "text"
      },
      "source": [
        "<a href=\"https://colab.research.google.com/github/urmilapol/urmilapolprojects/blob/master/list.ipynb\" target=\"_parent\"><img src=\"https://colab.research.google.com/assets/colab-badge.svg\" alt=\"Open In Colab\"/></a>"
      ]
    },
    {
      "cell_type": "markdown",
      "source": [
        "Lists are used to store multiple items in a single variable. The list is a most versatile datatype available in Python which can be written as a list of comma-separated values (items) between square brackets\n",
        "# a list of programming languages\n",
        "['Python', 'C++', 'JavaScript']"
      ],
      "metadata": {
        "id": "QOfDJ8zmDnzy"
      }
    },
    {
      "cell_type": "markdown",
      "source": [
        "Create Python Lists\n",
        "In Python, a list is created by placing elements inside square brackets [], separated by commas."
      ],
      "metadata": {
        "id": "bzhE91ITD5aZ"
      }
    },
    {
      "cell_type": "code",
      "source": [
        "# list of integers\n",
        "my_list = [1, 2, 3]\n",
        "print (my_list)"
      ],
      "metadata": {
        "colab": {
          "base_uri": "https://localhost:8080/"
        },
        "id": "ELzoiVO6D7Bh",
        "outputId": "5cf7b952-644c-4582-dad1-d1d751361015"
      },
      "execution_count": 2,
      "outputs": [
        {
          "output_type": "stream",
          "name": "stdout",
          "text": [
            "[1, 2, 3]\n"
          ]
        }
      ]
    },
    {
      "cell_type": "markdown",
      "source": [
        "A list can have any number of items and they may be of different types (integer, float, string, etc.)."
      ],
      "metadata": {
        "id": "OLVVyYI5EH4Q"
      }
    },
    {
      "cell_type": "code",
      "source": [
        "# empty list\n",
        "my_list = []\n",
        "\n",
        "# list with mixed data types\n",
        "my_list = [1, \"Hello\", 3.4]\n",
        "print (my_list)"
      ],
      "metadata": {
        "colab": {
          "base_uri": "https://localhost:8080/"
        },
        "id": "5aLK5txRDv1R",
        "outputId": "d502c002-f330-4f9d-b5c4-73381565c1fc"
      },
      "execution_count": 3,
      "outputs": [
        {
          "output_type": "stream",
          "name": "stdout",
          "text": [
            "[1, 'Hello', 3.4]\n"
          ]
        }
      ]
    },
    {
      "cell_type": "markdown",
      "source": [
        "A list can also have another list as an item. This is called a nested list."
      ],
      "metadata": {
        "id": "Qr6cENLCEjOA"
      }
    },
    {
      "cell_type": "code",
      "source": [
        "# nested list\n",
        "my_list = [\"mouse\", [8, 4, 6], ['a']]\n",
        "print (my_list)"
      ],
      "metadata": {
        "colab": {
          "base_uri": "https://localhost:8080/"
        },
        "id": "sX0VVU_WEkLQ",
        "outputId": "1ad27431-b86c-45d4-dae0-31c2226489f7"
      },
      "execution_count": 4,
      "outputs": [
        {
          "output_type": "stream",
          "name": "stdout",
          "text": [
            "['mouse', [8, 4, 6], ['a']]\n"
          ]
        }
      ]
    },
    {
      "cell_type": "code",
      "source": [
        "my_list = ['p', 'r', 'o', 'b', 'e']\n",
        "\n",
        "# first item\n",
        "print(my_list[0])  # p\n",
        "\n",
        "# third item\n",
        "print(my_list[2])  # o\n",
        "\n",
        "# fifth item\n",
        "print(my_list[4])  # e\n",
        "\n",
        "# Nested List\n",
        "n_list = [\"Happy\", [2, 0, 1, 5]]\n",
        "\n",
        "# Nested indexing\n",
        "print(n_list[0][0])\n",
        "print(n_list[0][1])\n",
        "print(n_list[0][2])\n",
        "print(n_list[0][3])\n",
        "print(n_list[0][4])\n",
        "print(n_list[1][0])\n",
        "print(n_list[1][1])\n",
        "print(n_list[1][2])\n",
        "print(n_list[1][3])\n",
        "\n",
        "\n"
      ],
      "metadata": {
        "colab": {
          "base_uri": "https://localhost:8080/"
        },
        "id": "p5WUe8OLE24Q",
        "outputId": "08d77381-0611-4b42-fba3-dccf8b745c62"
      },
      "execution_count": 11,
      "outputs": [
        {
          "output_type": "stream",
          "name": "stdout",
          "text": [
            "p\n",
            "o\n",
            "e\n",
            "H\n",
            "a\n",
            "p\n",
            "p\n",
            "y\n",
            "2\n",
            "0\n",
            "1\n",
            "5\n"
          ]
        }
      ]
    },
    {
      "cell_type": "markdown",
      "source": [
        "Negative indexing\n",
        "Python allows negative indexing for its sequences. The index of -1 refers to the last item, -2 to the second last item and so on."
      ],
      "metadata": {
        "id": "D-Gtcm1tGBf4"
      }
    },
    {
      "cell_type": "code",
      "source": [
        "# Negative indexing in lists\n",
        "my_list = ['p','r','o','b','e']\n",
        "\n",
        "# last item\n",
        "print(my_list[-1])\n",
        "print(my_list[-2])\n",
        "print(my_list[-3])\n",
        "print(my_list[-4])\n",
        "\n",
        "# fifth last item\n",
        "print(my_list[-5])"
      ],
      "metadata": {
        "colab": {
          "base_uri": "https://localhost:8080/"
        },
        "id": "9wVFmMeYGDjA",
        "outputId": "f1701c09-e17d-4a3c-ce18-809aa50875a2"
      },
      "execution_count": 12,
      "outputs": [
        {
          "output_type": "stream",
          "name": "stdout",
          "text": [
            "e\n",
            "b\n",
            "o\n",
            "r\n",
            "p\n"
          ]
        }
      ]
    },
    {
      "cell_type": "markdown",
      "source": [
        "![image.png](data:image/png;base64,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)"
      ],
      "metadata": {
        "id": "YuEoaI7sGgaw"
      }
    },
    {
      "cell_type": "markdown",
      "source": [
        "List Slicing in Python\n",
        "We can access a range of items in a list by using the slicing operator "
      ],
      "metadata": {
        "id": "1_nOekHfGr_Z"
      }
    },
    {
      "cell_type": "code",
      "source": [
        "# List slicing in Python\n",
        "\n",
        "my_list = ['p','r','o','g','r','a','m','i','z']\n",
        "\n",
        "# elements from index 2 to index 4\n",
        "print(my_list[2:5])\n",
        "\n",
        "# elements from index 5 to end\n",
        "print(my_list[5:])\n",
        "\n",
        "# elements beginning to end\n",
        "print(my_list[:])"
      ],
      "metadata": {
        "colab": {
          "base_uri": "https://localhost:8080/"
        },
        "id": "pH5VEt1oGh_w",
        "outputId": "76483c52-b620-4e95-ece7-e8454fb4c725"
      },
      "execution_count": 13,
      "outputs": [
        {
          "output_type": "stream",
          "name": "stdout",
          "text": [
            "['o', 'g', 'r']\n",
            "['a', 'm', 'i', 'z']\n",
            "['p', 'r', 'o', 'g', 'r', 'a', 'm', 'i', 'z']\n"
          ]
        }
      ]
    },
    {
      "cell_type": "markdown",
      "source": [
        "Note: When we slice lists, the start index is inclusive but the end index is exclusive. For example, my_list[2: 5] returns a list with elements at index 2, 3 and 4, but not 5."
      ],
      "metadata": {
        "id": "Ma6NRvu-HNOG"
      }
    },
    {
      "cell_type": "markdown",
      "source": [
        "Add/Change List Elements\n",
        "Lists are mutable, meaning their elements can be changed unlike string or tuple.\n",
        "\n",
        "We can use the assignment operator = to change an item or a range of items."
      ],
      "metadata": {
        "id": "oSG2dW8yHXiP"
      }
    },
    {
      "cell_type": "code",
      "source": [
        "# Correcting mistake values in a list\n",
        "odd = [2, 4, 6, 8]\n",
        "\n",
        "# change the 1st item    \n",
        "odd[0] = 1            \n",
        "\n",
        "print(odd)\n",
        "\n",
        "# change 2nd to 4th items\n",
        "odd[1:4] = [3, 5, 7]  \n",
        "\n",
        "print(odd)                  "
      ],
      "metadata": {
        "colab": {
          "base_uri": "https://localhost:8080/"
        },
        "id": "PHHqLVmTHKtG",
        "outputId": "38d24ff1-e5fa-4432-8b81-da3e8355974e"
      },
      "execution_count": 14,
      "outputs": [
        {
          "output_type": "stream",
          "name": "stdout",
          "text": [
            "[1, 4, 6, 8]\n",
            "[1, 3, 5, 7]\n"
          ]
        }
      ]
    },
    {
      "cell_type": "markdown",
      "source": [
        "We can add one item to a list using the append() method or add several items using the extend() method."
      ],
      "metadata": {
        "id": "WWdeCrwyH7aw"
      }
    },
    {
      "cell_type": "code",
      "source": [
        "# Appending and Extending lists in Python\n",
        "odd = [1, 3, 5]\n",
        "\n",
        "odd.append(7)\n",
        "\n",
        "print(odd)\n",
        "\n",
        "odd.extend([9, 11, 13])\n",
        "\n",
        "print(odd)"
      ],
      "metadata": {
        "colab": {
          "base_uri": "https://localhost:8080/"
        },
        "id": "a_8zRNFhIAT_",
        "outputId": "765a7f35-0e15-4152-9df9-7c4503974ed1"
      },
      "execution_count": 15,
      "outputs": [
        {
          "output_type": "stream",
          "name": "stdout",
          "text": [
            "[1, 3, 5, 7]\n",
            "[1, 3, 5, 7, 9, 11, 13]\n"
          ]
        }
      ]
    },
    {
      "cell_type": "markdown",
      "source": [
        "We can also use + operator to combine two lists. This is also called concatenation.\n",
        "\n",
        "The * operator repeats a list for the given number of times."
      ],
      "metadata": {
        "id": "vnd7oH11INa_"
      }
    },
    {
      "cell_type": "code",
      "source": [
        "# Concatenating and repeating lists\n",
        "odd = [1, 3, 5]\n",
        "\n",
        "print(odd + [9, 7, 5])\n",
        "\n",
        "print([\"re\"] * 3)"
      ],
      "metadata": {
        "colab": {
          "base_uri": "https://localhost:8080/"
        },
        "id": "dOMg92WmIO6_",
        "outputId": "15084eba-9092-4acf-8693-bd296902e629"
      },
      "execution_count": 16,
      "outputs": [
        {
          "output_type": "stream",
          "name": "stdout",
          "text": [
            "[1, 3, 5, 9, 7, 5]\n",
            "['re', 're', 're']\n"
          ]
        }
      ]
    },
    {
      "cell_type": "markdown",
      "source": [
        "Furthermore, we can insert one item at a desired location by using the method insert() or insert multiple items by squeezing it into an empty slice of a list."
      ],
      "metadata": {
        "id": "fJLzo-_fIZ2A"
      }
    },
    {
      "cell_type": "code",
      "source": [
        "# Demonstration of list insert() method\n",
        "odd = [1, 9]\n",
        "odd.insert(1,3)\n",
        "\n",
        "print(odd)\n",
        "\n",
        "odd[2:2] = [5, 7]\n",
        "\n",
        "print(odd)"
      ],
      "metadata": {
        "colab": {
          "base_uri": "https://localhost:8080/"
        },
        "id": "D1kNEchZIb8P",
        "outputId": "d079c6e9-2b20-4fb3-cf69-c8141549dede"
      },
      "execution_count": 17,
      "outputs": [
        {
          "output_type": "stream",
          "name": "stdout",
          "text": [
            "[1, 3, 9]\n",
            "[1, 3, 5, 7, 9]\n"
          ]
        }
      ]
    },
    {
      "cell_type": "markdown",
      "source": [
        "Delete List Elements\n",
        "We can delete one or more items from a list using the Python del statement. It can even delete the list entirely.\n",
        "\n"
      ],
      "metadata": {
        "id": "PwuU9KonI0m4"
      }
    },
    {
      "cell_type": "code",
      "source": [
        "# Deleting list items\n",
        "my_dlist = ['p', 'r', 'o', 'b', 'l', 'e', 'm']\n",
        "\n",
        "# delete one item\n",
        "del my_dlist[2]\n",
        "\n",
        "print(my_dlist)\n",
        "\n",
        "# delete multiple items\n",
        "del my_dlist[1:5]\n",
        "\n",
        "print(my_dlist)\n",
        "\n",
        "# delete the entire list\n",
        "del my_dlist\n",
        "\n",
        "\n"
      ],
      "metadata": {
        "colab": {
          "base_uri": "https://localhost:8080/"
        },
        "id": "qKAETBfeI1pn",
        "outputId": "ed24f17b-ef69-40ae-a370-f1b0b7633961"
      },
      "execution_count": 21,
      "outputs": [
        {
          "output_type": "stream",
          "name": "stdout",
          "text": [
            "['p', 'r', 'b', 'l', 'e', 'm']\n",
            "['p', 'm']\n"
          ]
        }
      ]
    },
    {
      "cell_type": "markdown",
      "source": [
        "We can use remove() to remove the given item or pop() to remove an item at the given index.\n",
        "\n",
        "The pop() method removes and returns the last item if the index is not provided. This helps us implement lists as stacks (first in, last out data structure).\n",
        "\n",
        "And, if we have to empty the whole list, we can use the clear() method."
      ],
      "metadata": {
        "id": "-Oh31L1IJ0tI"
      }
    },
    {
      "cell_type": "code",
      "source": [
        "my_list = ['p','r','o','b','l','e','m']\n",
        "my_list.remove('p')\n",
        "\n",
        "# Output: ['r', 'o', 'b', 'l', 'e', 'm']\n",
        "print(my_list)\n",
        "\n",
        "# Output: 'o'\n",
        "print(my_list.pop(1))\n",
        "\n",
        "# Output: ['r', 'b', 'l', 'e', 'm']\n",
        "print(my_list)\n",
        "\n",
        "# Output: 'm'\n",
        "print(my_list.pop())\n",
        "\n",
        "# Output: ['r', 'b', 'l', 'e']\n",
        "print(my_list)\n",
        "\n",
        "my_list.clear()\n",
        "\n",
        "# Output: []\n",
        "print(my_list)"
      ],
      "metadata": {
        "colab": {
          "base_uri": "https://localhost:8080/"
        },
        "id": "Z7voZvYaJ2Ef",
        "outputId": "d80025aa-560b-4291-e140-c4ee85793b17"
      },
      "execution_count": 22,
      "outputs": [
        {
          "output_type": "stream",
          "name": "stdout",
          "text": [
            "['r', 'o', 'b', 'l', 'e', 'm']\n",
            "o\n",
            "['r', 'b', 'l', 'e', 'm']\n",
            "m\n",
            "['r', 'b', 'l', 'e']\n",
            "[]\n"
          ]
        }
      ]
    },
    {
      "cell_type": "markdown",
      "source": [
        "Finally, we can also delete items in a list by assigning an empty list to a slice of elements."
      ],
      "metadata": {
        "id": "VfU6ZkfvKXdW"
      }
    },
    {
      "cell_type": "code",
      "source": [
        " my_list = ['p','r','o','b','l','e','m']\n",
        " my_list[2:3] = []\n",
        " print (my_list)\n",
        " my_list[2:5] = []\n",
        " print(my_list)\n"
      ],
      "metadata": {
        "colab": {
          "base_uri": "https://localhost:8080/"
        },
        "id": "DiHYXcYcKab2",
        "outputId": "e934ac85-dba6-4409-ef25-c679437fac89"
      },
      "execution_count": 25,
      "outputs": [
        {
          "output_type": "stream",
          "name": "stdout",
          "text": [
            "['p', 'r', 'b', 'l', 'e', 'm']\n",
            "['p', 'r', 'm']\n"
          ]
        }
      ]
    },
    {
      "cell_type": "markdown",
      "source": [
        "# **Python List Methods**"
      ],
      "metadata": {
        "id": "nHnEvLYVLPrP"
      }
    }
  ]
}