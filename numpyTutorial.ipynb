{
  "cells": [
    {
      "cell_type": "markdown",
      "metadata": {
        "id": "view-in-github",
        "colab_type": "text"
      },
      "source": [
        "<a href=\"https://colab.research.google.com/github/urmilapol/urmilapolprojects/blob/master/numpyTutorial.ipynb\" target=\"_parent\"><img src=\"https://colab.research.google.com/assets/colab-badge.svg\" alt=\"Open In Colab\"/></a>"
      ]
    },
    {
      "cell_type": "markdown",
      "metadata": {
        "id": "XNb798c-W1i3"
      },
      "source": [
        "### import numpy"
      ]
    },
    {
      "cell_type": "code",
      "execution_count": 1,
      "metadata": {
        "id": "42cg5yhSW1i6"
      },
      "outputs": [],
      "source": [
        "import numpy as np"
      ]
    },
    {
      "cell_type": "markdown",
      "metadata": {
        "id": "dIKyplJcW1i8"
      },
      "source": [
        "### check python and numpy version"
      ]
    },
    {
      "cell_type": "code",
      "execution_count": 2,
      "metadata": {
        "colab": {
          "base_uri": "https://localhost:8080/"
        },
        "id": "70PFKT8YW1i9",
        "outputId": "03351bbc-6ea5-4dd2-c555-850d2c64c091"
      },
      "outputs": [
        {
          "output_type": "stream",
          "name": "stdout",
          "text": [
            "Python version: 3.7.12\n",
            "Numpy version: 1.19.5\n"
          ]
        }
      ],
      "source": [
        "import platform\n",
        "print('Python version: ' + platform.python_version())\n",
        "print('Numpy version: ' + np.__version__)"
      ]
    },
    {
      "cell_type": "markdown",
      "metadata": {
        "id": "LEa2s0XIW1i-"
      },
      "source": [
        "# 0. Numpy Data Types"
      ]
    },
    {
      "cell_type": "markdown",
      "metadata": {
        "id": "W1yavPsLW1i_"
      },
      "source": [
        "### A list of Numpy Data Types"
      ]
    },
    {
      "cell_type": "code",
      "execution_count": 3,
      "metadata": {
        "colab": {
          "base_uri": "https://localhost:8080/",
          "height": 614
        },
        "id": "cxhG5TCkW1i_",
        "outputId": "8268ecf0-8fd2-4dde-c2ca-8c5f44bcf2cc"
      },
      "outputs": [
        {
          "output_type": "execute_result",
          "data": {
            "text/html": [
              "<div>\n",
              "<style scoped>\n",
              "    .dataframe tbody tr th:only-of-type {\n",
              "        vertical-align: middle;\n",
              "    }\n",
              "\n",
              "    .dataframe tbody tr th {\n",
              "        vertical-align: top;\n",
              "    }\n",
              "\n",
              "    .dataframe thead th {\n",
              "        text-align: right;\n",
              "    }\n",
              "</style>\n",
              "<table border=\"1\" class=\"dataframe\">\n",
              "  <thead>\n",
              "    <tr style=\"text-align: right;\">\n",
              "      <th></th>\n",
              "      <th>Type</th>\n",
              "      <th>Type Code</th>\n",
              "    </tr>\n",
              "  </thead>\n",
              "  <tbody>\n",
              "    <tr>\n",
              "      <th>0</th>\n",
              "      <td>int8</td>\n",
              "      <td>i1</td>\n",
              "    </tr>\n",
              "    <tr>\n",
              "      <th>1</th>\n",
              "      <td>uint8</td>\n",
              "      <td>u1</td>\n",
              "    </tr>\n",
              "    <tr>\n",
              "      <th>2</th>\n",
              "      <td>int16</td>\n",
              "      <td>i2</td>\n",
              "    </tr>\n",
              "    <tr>\n",
              "      <th>3</th>\n",
              "      <td>uint16</td>\n",
              "      <td>u2</td>\n",
              "    </tr>\n",
              "    <tr>\n",
              "      <th>4</th>\n",
              "      <td>int32</td>\n",
              "      <td>i4</td>\n",
              "    </tr>\n",
              "    <tr>\n",
              "      <th>5</th>\n",
              "      <td>uint32</td>\n",
              "      <td>u4</td>\n",
              "    </tr>\n",
              "    <tr>\n",
              "      <th>6</th>\n",
              "      <td>int64</td>\n",
              "      <td>i8</td>\n",
              "    </tr>\n",
              "    <tr>\n",
              "      <th>7</th>\n",
              "      <td>uint64</td>\n",
              "      <td>u8</td>\n",
              "    </tr>\n",
              "    <tr>\n",
              "      <th>8</th>\n",
              "      <td>float16</td>\n",
              "      <td>f2</td>\n",
              "    </tr>\n",
              "    <tr>\n",
              "      <th>9</th>\n",
              "      <td>float32</td>\n",
              "      <td>f4 or f</td>\n",
              "    </tr>\n",
              "    <tr>\n",
              "      <th>10</th>\n",
              "      <td>float64</td>\n",
              "      <td>f8 or d</td>\n",
              "    </tr>\n",
              "    <tr>\n",
              "      <th>11</th>\n",
              "      <td>float128</td>\n",
              "      <td>f16 or g</td>\n",
              "    </tr>\n",
              "    <tr>\n",
              "      <th>12</th>\n",
              "      <td>complex64</td>\n",
              "      <td>c8</td>\n",
              "    </tr>\n",
              "    <tr>\n",
              "      <th>13</th>\n",
              "      <td>complex128</td>\n",
              "      <td>c16</td>\n",
              "    </tr>\n",
              "    <tr>\n",
              "      <th>14</th>\n",
              "      <td>bool</td>\n",
              "      <td></td>\n",
              "    </tr>\n",
              "    <tr>\n",
              "      <th>15</th>\n",
              "      <td>object</td>\n",
              "      <td>O</td>\n",
              "    </tr>\n",
              "    <tr>\n",
              "      <th>16</th>\n",
              "      <td>string_</td>\n",
              "      <td>S</td>\n",
              "    </tr>\n",
              "    <tr>\n",
              "      <th>17</th>\n",
              "      <td>unicode_</td>\n",
              "      <td>U</td>\n",
              "    </tr>\n",
              "  </tbody>\n",
              "</table>\n",
              "</div>"
            ],
            "text/plain": [
              "          Type Type Code\n",
              "0         int8        i1\n",
              "1        uint8        u1\n",
              "2        int16        i2\n",
              "3       uint16        u2\n",
              "4        int32        i4\n",
              "5       uint32        u4\n",
              "6        int64        i8\n",
              "7       uint64        u8\n",
              "8      float16        f2\n",
              "9      float32   f4 or f\n",
              "10     float64   f8 or d\n",
              "11    float128  f16 or g\n",
              "12   complex64        c8\n",
              "13  complex128       c16\n",
              "14        bool          \n",
              "15      object         O\n",
              "16     string_         S\n",
              "17    unicode_         U"
            ]
          },
          "metadata": {},
          "execution_count": 3
        }
      ],
      "source": [
        "import pandas as pd\n",
        "dtypes = pd.DataFrame(\n",
        "    {\n",
        "        'Type': ['int8', 'uint8', 'int16', 'uint16', 'int32', 'uint32', 'int64', 'uint64', 'float16', 'float32', 'float64', 'float128', 'complex64', 'complex128', 'bool', 'object', 'string_', 'unicode_'],\n",
        "        'Type Code': ['i1', 'u1', 'i2', 'u2', 'i4', 'u4', 'i8', 'u8', 'f2', 'f4 or f', 'f8 or d', 'f16 or g', 'c8', 'c16', '', 'O', 'S', 'U']\n",
        "    }\n",
        ")\n",
        "\n",
        "dtypes"
      ]
    },
    {
      "cell_type": "code",
      "execution_count": 4,
      "metadata": {
        "colab": {
          "base_uri": "https://localhost:8080/"
        },
        "id": "0_Br1PQCW1jA",
        "outputId": "07336b6a-4f9e-4579-e4c6-3869f24cd086"
      },
      "outputs": [
        {
          "output_type": "stream",
          "name": "stdout",
          "text": [
            "[1. 2. 3.]\n",
            "float32\n",
            "[1.+2.j 3.-4.j]\n",
            "complex64\n",
            "[False  True  True]\n",
            "bool\n"
          ]
        }
      ],
      "source": [
        "# create an array with a specified data type\n",
        "arr = np.array([1,2,3], dtype='f4')\n",
        "print(arr)\n",
        "print(arr.dtype)\n",
        "\n",
        "arr = np.array([1+2j, 3-4j], dtype=np.complex64)\n",
        "print(arr)\n",
        "print(arr.dtype)\n",
        "\n",
        "arr = np.array([0, 1, 1], dtype=np.bool)\n",
        "print(arr)\n",
        "print(arr.dtype)"
      ]
    },
    {
      "cell_type": "markdown",
      "metadata": {
        "id": "YTwvAJp7W1jA"
      },
      "source": [
        "### string data type"
      ]
    },
    {
      "cell_type": "code",
      "execution_count": 5,
      "metadata": {
        "colab": {
          "base_uri": "https://localhost:8080/"
        },
        "id": "e7elJ162W1jB",
        "outputId": "1376a04e-7d26-4ea8-a81f-8e65f96c3bd1"
      },
      "outputs": [
        {
          "output_type": "stream",
          "name": "stdout",
          "text": [
            "[b'abc' b'def']\n",
            "|S3\n"
          ]
        }
      ],
      "source": [
        "# set the max length of the string using S + some number, such as 'S3'\n",
        "# any string longer than the max length will be truncated\n",
        "s = np.array(['abc', 'defg'], dtype='S3')\n",
        "print(s)\n",
        "print(s.dtype)"
      ]
    },
    {
      "cell_type": "code",
      "execution_count": 6,
      "metadata": {
        "colab": {
          "base_uri": "https://localhost:8080/"
        },
        "id": "-_XSfsjZW1jC",
        "outputId": "4ee9d758-ff4c-4675-dc5d-be85485315e5"
      },
      "outputs": [
        {
          "output_type": "stream",
          "name": "stdout",
          "text": [
            "|S3\n",
            "<U3\n"
          ]
        }
      ],
      "source": [
        "# numpy string and unicode data types are fixed-length\n",
        "# string_ and unicode_ will treat the longest string in the array as the default length when creating an array\n",
        "arr = np.array(['a', 'ab', 'abc'], dtype=np.string_)\n",
        "print(arr.dtype)\n",
        "\n",
        "arr = np.array(['a', 'ab', 'abc'], dtype=np.unicode_)\n",
        "print(arr.dtype)"
      ]
    },
    {
      "cell_type": "code",
      "execution_count": 7,
      "metadata": {
        "id": "DwdX7rFKW1jC"
      },
      "outputs": [],
      "source": [
        "# what does \"|\" and \"<\" mean above?\n",
        "# they are the byte order indicators, which is beyond the scope of this tutorial\n",
        "# you can check it out here: https://docs.scipy.org/doc/numpy/reference/generated/numpy.dtype.byteorder.html\n",
        "# and here: https://en.wikipedia.org/wiki/Endianness"
      ]
    },
    {
      "cell_type": "markdown",
      "metadata": {
        "id": "wUlWUchoW1jD"
      },
      "source": [
        "# 1. Create Arrays"
      ]
    },
    {
      "cell_type": "markdown",
      "metadata": {
        "id": "Ol0hOlLNW1jD"
      },
      "source": [
        "### create an array from a Python array"
      ]
    },
    {
      "cell_type": "code",
      "execution_count": 8,
      "metadata": {
        "colab": {
          "base_uri": "https://localhost:8080/"
        },
        "id": "x_5jgR-WW1jE",
        "outputId": "0dc3398e-8d07-4564-db0b-47678eabca6a"
      },
      "outputs": [
        {
          "output_type": "stream",
          "name": "stdout",
          "text": [
            "[0 1 2 3 4 5 6 7 8 9]\n"
          ]
        }
      ],
      "source": [
        "arr = np.array(range(10))\n",
        "print(arr)"
      ]
    },
    {
      "cell_type": "code",
      "execution_count": 9,
      "metadata": {
        "colab": {
          "base_uri": "https://localhost:8080/"
        },
        "id": "h1AK4to3W1jE",
        "outputId": "49b9b41e-a9d8-46a9-ff15-245d84263829"
      },
      "outputs": [
        {
          "output_type": "stream",
          "name": "stdout",
          "text": [
            "[1 2 3 4 5]\n"
          ]
        }
      ],
      "source": [
        "arr = np.array([1,2,3,4,5])\n",
        "print(arr)"
      ]
    },
    {
      "cell_type": "markdown",
      "metadata": {
        "id": "laYO4P_tW1jF"
      },
      "source": [
        "### create an array in a specified data type"
      ]
    },
    {
      "cell_type": "code",
      "execution_count": 173,
      "metadata": {
        "colab": {
          "base_uri": "https://localhost:8080/"
        },
        "id": "k5-G9MVIW1jF",
        "outputId": "c3ba50ce-5c98-4a05-af5a-cada4c9b2bc2"
      },
      "outputs": [
        {
          "output_type": "stream",
          "name": "stdout",
          "text": [
            "[[1 2 3]\n",
            " [4 5 6]]\n"
          ]
        }
      ],
      "source": [
        "arr = np.array([[1,2,3], [4,5,6]], dtype='i2')\n",
        "print(arr)"
      ]
    },
    {
      "cell_type": "markdown",
      "metadata": {
        "id": "EiAaNjULW1jG"
      },
      "source": [
        "### create an aray of evenly spaced values within a specified interval"
      ]
    },
    {
      "cell_type": "code",
      "execution_count": 11,
      "metadata": {
        "colab": {
          "base_uri": "https://localhost:8080/"
        },
        "id": "GuPque32W1jG",
        "outputId": "27c56c5b-c916-4e6e-fb18-b79cc267f643"
      },
      "outputs": [
        {
          "output_type": "stream",
          "name": "stdout",
          "text": [
            "[ 0  2  4  6  8 10 12 14 16 18]\n"
          ]
        }
      ],
      "source": [
        "# np.arange(start, stop, step)\n",
        "arr = np.arange(0, 20, 2)  \n",
        "print(arr)"
      ]
    },
    {
      "cell_type": "markdown",
      "metadata": {
        "id": "2oMyGamaW1jH"
      },
      "source": [
        "### create an array of evenly spaced numbers in a specified interval"
      ]
    },
    {
      "cell_type": "code",
      "execution_count": 12,
      "metadata": {
        "colab": {
          "base_uri": "https://localhost:8080/"
        },
        "id": "_WklBABtW1jH",
        "outputId": "302c6115-a309-457e-faff-77739a03ec05"
      },
      "outputs": [
        {
          "output_type": "stream",
          "name": "stdout",
          "text": [
            "[ 0.          0.52631579  1.05263158  1.57894737  2.10526316  2.63157895\n",
            "  3.15789474  3.68421053  4.21052632  4.73684211  5.26315789  5.78947368\n",
            "  6.31578947  6.84210526  7.36842105  7.89473684  8.42105263  8.94736842\n",
            "  9.47368421 10.        ]\n"
          ]
        }
      ],
      "source": [
        "# np.linspace(start, stop, num_of_elements, endpoint=True, retstep=False) \n",
        "arr = np.linspace(0, 10, 20)\n",
        "print(arr)"
      ]
    },
    {
      "cell_type": "code",
      "execution_count": 13,
      "metadata": {
        "colab": {
          "base_uri": "https://localhost:8080/"
        },
        "id": "GVeTg5xTW1jI",
        "outputId": "929c94e9-5195-4718-b0bd-63e3f1b53895"
      },
      "outputs": [
        {
          "output_type": "stream",
          "name": "stdout",
          "text": [
            "[0.  0.5 1.  1.5 2.  2.5 3.  3.5 4.  4.5 5.  5.5 6.  6.5 7.  7.5 8.  8.5\n",
            " 9.  9.5]\n",
            "0.5\n"
          ]
        }
      ],
      "source": [
        "# exclude endpoint and return setp size\n",
        "arr, step = np.linspace(0, 10, 20, endpoint=False, retstep=True)\n",
        "print(arr)\n",
        "print(step)"
      ]
    },
    {
      "cell_type": "markdown",
      "metadata": {
        "id": "DctRKc30W1jJ"
      },
      "source": [
        "### create an array of random values in a given shape"
      ]
    },
    {
      "cell_type": "code",
      "execution_count": 14,
      "metadata": {
        "colab": {
          "base_uri": "https://localhost:8080/"
        },
        "id": "zL1XVZIlW1jJ",
        "outputId": "810530f5-0dd8-43d7-9dd9-1207f90ff144"
      },
      "outputs": [
        {
          "output_type": "stream",
          "name": "stdout",
          "text": [
            "[[0.8126156  0.59488501 0.83507608]\n",
            " [0.80499538 0.64112103 0.55446944]\n",
            " [0.80843505 0.59006896 0.51300571]]\n"
          ]
        }
      ],
      "source": [
        "arr = np.random.rand(3, 3)\n",
        "print(arr)"
      ]
    },
    {
      "cell_type": "markdown",
      "metadata": {
        "id": "7UulAYb9W1jJ"
      },
      "source": [
        "### create an array of zeros in a given shape "
      ]
    },
    {
      "cell_type": "code",
      "execution_count": 15,
      "metadata": {
        "colab": {
          "base_uri": "https://localhost:8080/"
        },
        "id": "miqjwokcW1jK",
        "outputId": "beff5140-0c42-4bdb-f080-d077fc63926e"
      },
      "outputs": [
        {
          "output_type": "stream",
          "name": "stdout",
          "text": [
            "[[0 0 0]\n",
            " [0 0 0]]\n"
          ]
        }
      ],
      "source": [
        "zeros = np.zeros((2,3), dtype='i4')\n",
        "print(zeros)"
      ]
    },
    {
      "cell_type": "markdown",
      "metadata": {
        "id": "F-XUx_qpW1jK"
      },
      "source": [
        "### create an array of zeros with the same shape and data type as a given array"
      ]
    },
    {
      "cell_type": "code",
      "execution_count": 16,
      "metadata": {
        "colab": {
          "base_uri": "https://localhost:8080/"
        },
        "id": "ed2EJvf-W1jL",
        "outputId": "9dac0725-f1ea-4a1b-8793-ed65ce4dc860"
      },
      "outputs": [
        {
          "output_type": "stream",
          "name": "stdout",
          "text": [
            "[[0. 0. 0.]\n",
            " [0. 0. 0.]\n",
            " [0. 0. 0.]]\n"
          ]
        }
      ],
      "source": [
        "zeros = np.zeros_like(arr)\n",
        "print(zeros)"
      ]
    },
    {
      "cell_type": "markdown",
      "metadata": {
        "id": "xn1EZJL3W1jL"
      },
      "source": [
        "### create an array of ones in a given shape "
      ]
    },
    {
      "cell_type": "code",
      "execution_count": 17,
      "metadata": {
        "colab": {
          "base_uri": "https://localhost:8080/"
        },
        "id": "UTf7ftL_W1jL",
        "outputId": "2054dde3-b1fc-4e9a-c5f6-9e4b22567be0"
      },
      "outputs": [
        {
          "output_type": "stream",
          "name": "stdout",
          "text": [
            "[[1. 1. 1.]\n",
            " [1. 1. 1.]]\n"
          ]
        }
      ],
      "source": [
        "ones = np.ones((2,3))\n",
        "print(ones)"
      ]
    },
    {
      "cell_type": "markdown",
      "metadata": {
        "id": "7NBJZYtyW1jM"
      },
      "source": [
        "### create an array of ones with the same shape and data type as a given array"
      ]
    },
    {
      "cell_type": "code",
      "execution_count": 18,
      "metadata": {
        "colab": {
          "base_uri": "https://localhost:8080/"
        },
        "id": "ATjX--sUW1jM",
        "outputId": "f28dd626-34cf-4b15-aed1-2f77eb13949c"
      },
      "outputs": [
        {
          "output_type": "stream",
          "name": "stdout",
          "text": [
            "[[1. 1. 1.]\n",
            " [1. 1. 1.]\n",
            " [1. 1. 1.]]\n"
          ]
        }
      ],
      "source": [
        "ones = np.ones_like(arr)\n",
        "print(ones)"
      ]
    },
    {
      "cell_type": "markdown",
      "metadata": {
        "id": "QDHCWKwgW1jM"
      },
      "source": [
        "### create an array of arbitrary values in a given shape "
      ]
    },
    {
      "cell_type": "code",
      "execution_count": 19,
      "metadata": {
        "colab": {
          "base_uri": "https://localhost:8080/"
        },
        "id": "nUhz8wbRW1jN",
        "outputId": "acd28178-9407-4e7d-b999-bc6cb1e325fa"
      },
      "outputs": [
        {
          "output_type": "stream",
          "name": "stdout",
          "text": [
            "[[1. 1. 1.]\n",
            " [1. 1. 1.]]\n"
          ]
        }
      ],
      "source": [
        "empty = np.empty((2,3))\n",
        "print(empty)"
      ]
    },
    {
      "cell_type": "markdown",
      "metadata": {
        "id": "DYdaVrH4W1jN"
      },
      "source": [
        "### create an array of arbitrary values with the same shape and data type as a given array"
      ]
    },
    {
      "cell_type": "code",
      "execution_count": 20,
      "metadata": {
        "colab": {
          "base_uri": "https://localhost:8080/"
        },
        "id": "34wuY0PHW1jN",
        "outputId": "461c7539-31be-494d-ae28-8c36c5238fcb"
      },
      "outputs": [
        {
          "output_type": "stream",
          "name": "stdout",
          "text": [
            "[[1. 1. 1.]\n",
            " [1. 1. 1.]\n",
            " [1. 1. 1.]]\n"
          ]
        }
      ],
      "source": [
        "empty = np.empty_like(arr)\n",
        "print(empty)"
      ]
    },
    {
      "cell_type": "markdown",
      "metadata": {
        "id": "0VmPI10UW1jO"
      },
      "source": [
        "### create an array of constant values in a given shape  "
      ]
    },
    {
      "cell_type": "code",
      "execution_count": 21,
      "metadata": {
        "colab": {
          "base_uri": "https://localhost:8080/"
        },
        "id": "uiMybYQlW1jO",
        "outputId": "ee619972-f3d1-47a6-9abf-4de2f6f972b1"
      },
      "outputs": [
        {
          "output_type": "stream",
          "name": "stdout",
          "text": [
            "[[5 5 5]\n",
            " [5 5 5]]\n"
          ]
        }
      ],
      "source": [
        "p = np.full((2,3), 5)\n",
        "print(p)"
      ]
    },
    {
      "cell_type": "markdown",
      "metadata": {
        "id": "ZWEr0SLHW1jO"
      },
      "source": [
        "### create an array of constant values with the same shape and data type as a given array"
      ]
    },
    {
      "cell_type": "code",
      "execution_count": 22,
      "metadata": {
        "colab": {
          "base_uri": "https://localhost:8080/"
        },
        "id": "wimQ6N8nW1jP",
        "outputId": "bc1adbef-1332-4cdb-be4c-6aa8e606b144"
      },
      "outputs": [
        {
          "output_type": "stream",
          "name": "stdout",
          "text": [
            "[[5. 5. 5.]\n",
            " [5. 5. 5.]\n",
            " [5. 5. 5.]]\n"
          ]
        }
      ],
      "source": [
        "p = np.full_like(arr, 5)\n",
        "print(p)"
      ]
    },
    {
      "cell_type": "markdown",
      "metadata": {
        "id": "3rKQ5m8FW1jP"
      },
      "source": [
        "### create an array by repetition"
      ]
    },
    {
      "cell_type": "code",
      "execution_count": 23,
      "metadata": {
        "colab": {
          "base_uri": "https://localhost:8080/"
        },
        "id": "je-nLGVdW1jP",
        "outputId": "525ae08d-274d-4f00-d9f1-8b2c3106b184"
      },
      "outputs": [
        {
          "output_type": "stream",
          "name": "stdout",
          "text": [
            "[0 0 0 1 1 1 2 2 2]\n"
          ]
        }
      ],
      "source": [
        "# repeat each element of an array by a specified number of times\n",
        "# np.repeat(iterable, reps, axis=None)\n",
        "arr = [0, 1, 2]\n",
        "print(np.repeat(arr, 3))    # or np.repeat(range(3), 3)"
      ]
    },
    {
      "cell_type": "code",
      "execution_count": 24,
      "metadata": {
        "colab": {
          "base_uri": "https://localhost:8080/"
        },
        "id": "PnKQKgB9W1jQ",
        "outputId": "0a98bf31-40bc-4853-a871-8bb3a0b14399"
      },
      "outputs": [
        {
          "output_type": "stream",
          "name": "stdout",
          "text": [
            "[[1 2]\n",
            " [3 4]\n",
            " [3 4]]\n"
          ]
        }
      ],
      "source": [
        "# repeat along a specified axis with specified number of repetitions\n",
        "arr = [[1,2], [3,4]]\n",
        "print(np.repeat(arr, [1,2], axis=0))"
      ]
    },
    {
      "cell_type": "code",
      "execution_count": 25,
      "metadata": {
        "colab": {
          "base_uri": "https://localhost:8080/"
        },
        "id": "UrvOCSfYW1jQ",
        "outputId": "e87337d9-15c7-4ee2-c74b-605b5da0e040"
      },
      "outputs": [
        {
          "output_type": "stream",
          "name": "stdout",
          "text": [
            "[0 1 2 0 1 2 0 1 2]\n"
          ]
        }
      ],
      "source": [
        "# repeat an array by a specified number of times\n",
        "arr = [0, 1, 2]\n",
        "print(np.tile(arr, 3))"
      ]
    },
    {
      "cell_type": "code",
      "execution_count": 26,
      "metadata": {
        "colab": {
          "base_uri": "https://localhost:8080/"
        },
        "id": "3YPOGm37W1jQ",
        "outputId": "8f691cc7-32ff-41aa-b6a0-4e67a98d9152"
      },
      "outputs": [
        {
          "output_type": "stream",
          "name": "stdout",
          "text": [
            "[[0 1 2 0 1 2]\n",
            " [0 1 2 0 1 2]]\n"
          ]
        }
      ],
      "source": [
        "# repeat along specified axes\n",
        "print(np.tile(arr, (2,2)))"
      ]
    },
    {
      "cell_type": "markdown",
      "metadata": {
        "id": "_-6MFrT5W1jR"
      },
      "source": [
        "### create an identity matrix with a given diagonal size"
      ]
    },
    {
      "cell_type": "code",
      "execution_count": 27,
      "metadata": {
        "colab": {
          "base_uri": "https://localhost:8080/"
        },
        "id": "9QbNbMi3W1jR",
        "outputId": "9f43984d-05a8-4a96-a8d7-ecd77e28598b"
      },
      "outputs": [
        {
          "output_type": "stream",
          "name": "stdout",
          "text": [
            "[[1. 0. 0.]\n",
            " [0. 1. 0.]\n",
            " [0. 0. 1.]]\n"
          ]
        }
      ],
      "source": [
        "identity_matrix = np.eye(3)\n",
        "print(identity_matrix)"
      ]
    },
    {
      "cell_type": "code",
      "execution_count": 28,
      "metadata": {
        "colab": {
          "base_uri": "https://localhost:8080/"
        },
        "id": "B-yoXPWPW1jR",
        "outputId": "326490ee-ba77-4dcc-b50f-eabd03c7911f"
      },
      "outputs": [
        {
          "output_type": "stream",
          "name": "stdout",
          "text": [
            "[[1. 0. 0.]\n",
            " [0. 1. 0.]\n",
            " [0. 0. 1.]]\n"
          ]
        }
      ],
      "source": [
        "identity_matrix = np.identity(3)\n",
        "print(identity_matrix)"
      ]
    },
    {
      "cell_type": "markdown",
      "metadata": {
        "id": "ZEwsy1r2W1jS"
      },
      "source": [
        "### create an identity matrix with a diagonal offset"
      ]
    },
    {
      "cell_type": "code",
      "execution_count": 29,
      "metadata": {
        "colab": {
          "base_uri": "https://localhost:8080/"
        },
        "id": "D0FsTaw5W1jS",
        "outputId": "f1d912c5-a432-4956-c858-9887596c9a3a"
      },
      "outputs": [
        {
          "output_type": "stream",
          "name": "stdout",
          "text": [
            "[[0. 1. 0. 0. 0.]\n",
            " [0. 0. 1. 0. 0.]\n",
            " [0. 0. 0. 1. 0.]\n",
            " [0. 0. 0. 0. 1.]\n",
            " [0. 0. 0. 0. 0.]]\n"
          ]
        }
      ],
      "source": [
        "identity_matrix = np.eye(5, k=1)    # positive number shifts the diagonal upward\n",
        "print(identity_matrix)"
      ]
    },
    {
      "cell_type": "code",
      "execution_count": 30,
      "metadata": {
        "colab": {
          "base_uri": "https://localhost:8080/"
        },
        "id": "iFSrqdgqW1jS",
        "outputId": "5bf7f399-b06f-48c4-c967-79179b2e99d2"
      },
      "outputs": [
        {
          "output_type": "stream",
          "name": "stdout",
          "text": [
            "[[0. 0. 0. 0. 0.]\n",
            " [0. 0. 0. 0. 0.]\n",
            " [1. 0. 0. 0. 0.]\n",
            " [0. 1. 0. 0. 0.]\n",
            " [0. 0. 1. 0. 0.]]\n"
          ]
        }
      ],
      "source": [
        "identity_matrix = np.eye(5, k=-2)   # negative number shifts the diagonal downward\n",
        "print(identity_matrix)"
      ]
    },
    {
      "cell_type": "markdown",
      "metadata": {
        "id": "2R2kSxiPW1jT"
      },
      "source": [
        "### extract the diagonal array / create a diagonal array"
      ]
    },
    {
      "cell_type": "code",
      "execution_count": 31,
      "metadata": {
        "colab": {
          "base_uri": "https://localhost:8080/"
        },
        "id": "ic85KcdNW1jT",
        "outputId": "7aa88d46-8a90-4a12-c649-34313cefa7a7"
      },
      "outputs": [
        {
          "output_type": "stream",
          "name": "stdout",
          "text": [
            "[[1.78232763e-01 1.61398399e-01 5.28049960e-01 5.70386947e-01\n",
            "  4.69093675e-01]\n",
            " [3.02974732e-01 7.97059200e-01 9.23774372e-01 5.85937001e-01\n",
            "  5.66490620e-02]\n",
            " [7.22642646e-01 2.71078638e-01 2.31931288e-01 4.67270584e-01\n",
            "  1.61790812e-01]\n",
            " [3.69806661e-01 4.25748960e-04 9.65895899e-01 9.16021647e-01\n",
            "  3.35307760e-01]\n",
            " [8.81367348e-01 3.68341421e-01 2.33275777e-01 5.45102693e-01\n",
            "  1.79321641e-01]]\n"
          ]
        }
      ],
      "source": [
        "arr = np.random.rand(5,5)\n",
        "print(arr)"
      ]
    },
    {
      "cell_type": "code",
      "execution_count": 32,
      "metadata": {
        "colab": {
          "base_uri": "https://localhost:8080/"
        },
        "id": "uQcWTs8RW1jT",
        "outputId": "c29fe7ad-bf29-4494-f542-23d8e2b601f4"
      },
      "outputs": [
        {
          "output_type": "stream",
          "name": "stdout",
          "text": [
            "[0.17823276 0.7970592  0.23193129 0.91602165 0.17932164]\n"
          ]
        }
      ],
      "source": [
        "# extract the diagonal\n",
        "print(np.diag(arr))"
      ]
    },
    {
      "cell_type": "code",
      "execution_count": 33,
      "metadata": {
        "colab": {
          "base_uri": "https://localhost:8080/"
        },
        "id": "-Tl9l8hIW1jU",
        "outputId": "8f436958-ed69-435f-83f9-84495c81b4a2"
      },
      "outputs": [
        {
          "output_type": "stream",
          "name": "stdout",
          "text": [
            "[[1 0 0 0 0]\n",
            " [0 2 0 0 0]\n",
            " [0 0 3 0 0]\n",
            " [0 0 0 4 0]\n",
            " [0 0 0 0 5]]\n"
          ]
        }
      ],
      "source": [
        "# create a matrix with a specified diagonal array\n",
        "arr = np.diag([1,2,3,4,5])\n",
        "print(arr)"
      ]
    },
    {
      "cell_type": "markdown",
      "metadata": {
        "id": "N_YWJJRpW1jU"
      },
      "source": [
        "# 2. Inspect Arrays"
      ]
    },
    {
      "cell_type": "code",
      "execution_count": 34,
      "metadata": {
        "id": "ZuEMrk9aW1jU"
      },
      "outputs": [],
      "source": [
        "arr = np.array([[1,2,3], [4,5,6]], dtype=np.int64)"
      ]
    },
    {
      "cell_type": "markdown",
      "metadata": {
        "id": "IKxIEoerW1jV"
      },
      "source": [
        "### inspect general information of an array"
      ]
    },
    {
      "cell_type": "code",
      "execution_count": 35,
      "metadata": {
        "colab": {
          "base_uri": "https://localhost:8080/"
        },
        "id": "lmadxjbtW1jV",
        "outputId": "a48a1c19-b6b8-465f-b6f0-9e2260398fd6"
      },
      "outputs": [
        {
          "output_type": "stream",
          "name": "stdout",
          "text": [
            "None\n"
          ]
        }
      ],
      "source": [
        "print(np.info(arr))"
      ]
    },
    {
      "cell_type": "markdown",
      "metadata": {
        "id": "AZTem4srW1jV"
      },
      "source": [
        "### inspect the data type of an array"
      ]
    },
    {
      "cell_type": "code",
      "execution_count": 36,
      "metadata": {
        "colab": {
          "base_uri": "https://localhost:8080/"
        },
        "id": "XqMdoJy8W1jW",
        "outputId": "4b014768-81cb-4938-8fff-ceb12338c52b"
      },
      "outputs": [
        {
          "output_type": "stream",
          "name": "stdout",
          "text": [
            "int64\n"
          ]
        }
      ],
      "source": [
        "print(arr.dtype)"
      ]
    },
    {
      "cell_type": "markdown",
      "metadata": {
        "id": "ergmi9gHW1jW"
      },
      "source": [
        "### inspect the dimension of an array"
      ]
    },
    {
      "cell_type": "code",
      "execution_count": 37,
      "metadata": {
        "colab": {
          "base_uri": "https://localhost:8080/"
        },
        "id": "-E58_tNjW1jW",
        "outputId": "18f88a3a-58ba-44b6-a592-8a91712a28d4"
      },
      "outputs": [
        {
          "output_type": "stream",
          "name": "stdout",
          "text": [
            "(2, 3)\n"
          ]
        }
      ],
      "source": [
        "print(arr.shape)"
      ]
    },
    {
      "cell_type": "markdown",
      "metadata": {
        "id": "IDctiXAZW1jX"
      },
      "source": [
        "### inspect length of an array"
      ]
    },
    {
      "cell_type": "code",
      "execution_count": 38,
      "metadata": {
        "colab": {
          "base_uri": "https://localhost:8080/"
        },
        "id": "R3OH2qRYW1jX",
        "outputId": "afd42fa2-937d-401f-fc2d-facb1ed89f26"
      },
      "outputs": [
        {
          "output_type": "stream",
          "name": "stdout",
          "text": [
            "2\n"
          ]
        }
      ],
      "source": [
        "print(len(arr))"
      ]
    },
    {
      "cell_type": "markdown",
      "metadata": {
        "id": "Ar4H-aN7W1jX"
      },
      "source": [
        "### inspect the number of dimensions of an array"
      ]
    },
    {
      "cell_type": "code",
      "execution_count": 39,
      "metadata": {
        "colab": {
          "base_uri": "https://localhost:8080/"
        },
        "id": "z1KA_YZlW1jX",
        "outputId": "8f971782-69d9-4e62-c6a1-b64e35733409"
      },
      "outputs": [
        {
          "output_type": "stream",
          "name": "stdout",
          "text": [
            "2\n"
          ]
        }
      ],
      "source": [
        "print(arr.ndim)"
      ]
    },
    {
      "cell_type": "markdown",
      "metadata": {
        "id": "acxzFFzjW1jY"
      },
      "source": [
        "### inspect the number of elements in an array"
      ]
    },
    {
      "cell_type": "code",
      "execution_count": 40,
      "metadata": {
        "colab": {
          "base_uri": "https://localhost:8080/"
        },
        "id": "18AdBxrmW1jY",
        "outputId": "3be72348-ae4a-4415-c615-ba95f0da1078"
      },
      "outputs": [
        {
          "output_type": "stream",
          "name": "stdout",
          "text": [
            "6\n"
          ]
        }
      ],
      "source": [
        "print(arr.size)"
      ]
    },
    {
      "cell_type": "markdown",
      "metadata": {
        "id": "2M4JaHEjW1jY"
      },
      "source": [
        "### inspect the number of bytes of each element in an array"
      ]
    },
    {
      "cell_type": "code",
      "execution_count": 41,
      "metadata": {
        "colab": {
          "base_uri": "https://localhost:8080/"
        },
        "id": "ScPnEy2LW1jZ",
        "outputId": "216466c7-b192-41bb-f84e-cfadf8681b73"
      },
      "outputs": [
        {
          "output_type": "stream",
          "name": "stdout",
          "text": [
            "8\n"
          ]
        }
      ],
      "source": [
        "print(arr.itemsize)"
      ]
    },
    {
      "cell_type": "markdown",
      "metadata": {
        "id": "Pcd8g1qZW1jZ"
      },
      "source": [
        "### inspect the memory size of an array (in byte)"
      ]
    },
    {
      "cell_type": "code",
      "execution_count": 42,
      "metadata": {
        "colab": {
          "base_uri": "https://localhost:8080/"
        },
        "id": "VTmjpMaxW1jZ",
        "outputId": "4fa7a441-3d5c-4f50-ba8a-1a8d8badf7f0"
      },
      "outputs": [
        {
          "output_type": "stream",
          "name": "stdout",
          "text": [
            "48\n"
          ]
        }
      ],
      "source": [
        "# arr.nbytes = arr.size * arr.itemsize\n",
        "print(arr.nbytes)"
      ]
    },
    {
      "cell_type": "markdown",
      "metadata": {
        "id": "aTiYyRz_W1ja"
      },
      "source": [
        "# 3. Sampling Methods"
      ]
    },
    {
      "cell_type": "markdown",
      "metadata": {
        "id": "nF9Gs5W4W1ja"
      },
      "source": [
        "### set seed"
      ]
    },
    {
      "cell_type": "code",
      "execution_count": 43,
      "metadata": {
        "id": "1_wIyuKyW1ja"
      },
      "outputs": [],
      "source": [
        "np.random.seed(123)"
      ]
    },
    {
      "cell_type": "markdown",
      "metadata": {
        "id": "4QIXywCeW1ja"
      },
      "source": [
        "### set random state which is independent from the global seed"
      ]
    },
    {
      "cell_type": "code",
      "execution_count": 44,
      "metadata": {
        "colab": {
          "base_uri": "https://localhost:8080/"
        },
        "id": "QdHPX3xYW1jb",
        "outputId": "085afe73-c727-49ac-ff23-f24856ed36fb"
      },
      "outputs": [
        {
          "output_type": "execute_result",
          "data": {
            "text/plain": [
              "array([0.88594794, 0.07791236, 0.97964616, 0.24767146, 0.75288472,\n",
              "       0.52667564, 0.90755375, 0.8840703 , 0.08926896, 0.5173446 ])"
            ]
          },
          "metadata": {},
          "execution_count": 44
        }
      ],
      "source": [
        "rs = np.random.RandomState(321)\n",
        "rs.rand(10)"
      ]
    },
    {
      "cell_type": "markdown",
      "metadata": {
        "id": "OBl0bvbWW1jb"
      },
      "source": [
        "### generate a random sample from interval [0, 1) in a given shape"
      ]
    },
    {
      "cell_type": "code",
      "execution_count": 45,
      "metadata": {
        "colab": {
          "base_uri": "https://localhost:8080/"
        },
        "id": "V7ImSG9rW1jb",
        "outputId": "608b6711-a6ce-4403-d6d5-078d2f5e5f6d"
      },
      "outputs": [
        {
          "output_type": "stream",
          "name": "stdout",
          "text": [
            "0.6964691855978616\n"
          ]
        }
      ],
      "source": [
        "# generate a random scalar\n",
        "print(np.random.rand())      "
      ]
    },
    {
      "cell_type": "code",
      "execution_count": 46,
      "metadata": {
        "colab": {
          "base_uri": "https://localhost:8080/"
        },
        "id": "HZ0s0JeEW1jc",
        "outputId": "c1c98074-a22e-4dfd-c6d2-fc285383bd0c"
      },
      "outputs": [
        {
          "output_type": "stream",
          "name": "stdout",
          "text": [
            "[0.28613933 0.22685145 0.55131477]\n"
          ]
        }
      ],
      "source": [
        "# generate a 1-D array\n",
        "print(np.random.rand(3))           "
      ]
    },
    {
      "cell_type": "code",
      "execution_count": 47,
      "metadata": {
        "colab": {
          "base_uri": "https://localhost:8080/"
        },
        "id": "_bbSvvLYW1jc",
        "outputId": "cae12dd5-55e0-468d-bd4b-38305de6e23a"
      },
      "outputs": [
        {
          "output_type": "stream",
          "name": "stdout",
          "text": [
            "[[0.71946897 0.42310646 0.9807642 ]\n",
            " [0.68482974 0.4809319  0.39211752]\n",
            " [0.34317802 0.72904971 0.43857224]]\n"
          ]
        }
      ],
      "source": [
        "# generate a 2-D array\n",
        "print(np.random.rand(3,3))          "
      ]
    },
    {
      "cell_type": "markdown",
      "metadata": {
        "id": "g0G58z3RW1jc"
      },
      "source": [
        "### generate a sample from the standard normal distribution (mean = 0, var = 1)"
      ]
    },
    {
      "cell_type": "code",
      "execution_count": 48,
      "metadata": {
        "colab": {
          "base_uri": "https://localhost:8080/"
        },
        "id": "ox3SRo_WW1jc",
        "outputId": "97583ee0-fc41-4ba5-b67f-66bf033fd997"
      },
      "outputs": [
        {
          "output_type": "stream",
          "name": "stdout",
          "text": [
            "[[-0.14337247 -0.6191909  -0.76943347]\n",
            " [ 0.57674602  0.12652592 -1.30148897]\n",
            " [ 2.20742744  0.52274247  0.46564476]]\n"
          ]
        }
      ],
      "source": [
        "print(np.random.randn(3,3))"
      ]
    },
    {
      "cell_type": "markdown",
      "metadata": {
        "id": "uVpl4T1TW1jd"
      },
      "source": [
        "### generate an array of random integers in a given interval [low, high)"
      ]
    },
    {
      "cell_type": "code",
      "execution_count": 49,
      "metadata": {
        "colab": {
          "base_uri": "https://localhost:8080/"
        },
        "id": "PTZ5lD7TW1jd",
        "outputId": "5e4fb627-37a9-4175-9819-49e127b21d4d"
      },
      "outputs": [
        {
          "output_type": "stream",
          "name": "stdout",
          "text": [
            "[5 7 2]\n"
          ]
        }
      ],
      "source": [
        "# np.ranodm.randint(low, high, size, dtype)\n",
        "print(np.random.randint(1, 10, 3, 'i8'))"
      ]
    },
    {
      "cell_type": "markdown",
      "metadata": {
        "id": "15gEhGMMW1jd"
      },
      "source": [
        "### generate an array of random floating-point numbers in the interval [0.0, 1.0)"
      ]
    },
    {
      "cell_type": "code",
      "execution_count": 50,
      "metadata": {
        "colab": {
          "base_uri": "https://localhost:8080/"
        },
        "id": "7g8zC-gxW1je",
        "outputId": "928507ca-12f6-4116-d054-fd0b30cbf598"
      },
      "outputs": [
        {
          "output_type": "stream",
          "name": "stdout",
          "text": [
            "[0.65472131 0.37380143 0.23451288 0.98799529 0.76599595 0.77700444\n",
            " 0.02798196 0.17390652 0.15408224 0.07708648]\n",
            "[0.8898657  0.7503787  0.69340324 0.51176338 0.46426806 0.56843069\n",
            " 0.30254945 0.49730879 0.68326291 0.91669867]\n",
            "[0.10892895 0.49549179 0.23283593 0.43686066 0.75154299 0.48089213\n",
            " 0.79772841 0.28270293 0.43341824 0.00975735]\n",
            "[0.34079598 0.68927201 0.86936929 0.26780382 0.45674792 0.26828131\n",
            " 0.8370528  0.27051466 0.53006201 0.17537266]\n"
          ]
        }
      ],
      "source": [
        "# the following methods are the same as np.random.rand()\n",
        "print(np.random.random_sample(10))\n",
        "print(np.random.random(10))\n",
        "print(np.random.ranf(10))\n",
        "print(np.random.sample(10))"
      ]
    },
    {
      "cell_type": "markdown",
      "metadata": {
        "id": "4PqY3bhuW1je"
      },
      "source": [
        "### generate a random sample from a given 1-D array"
      ]
    },
    {
      "cell_type": "code",
      "execution_count": 51,
      "metadata": {
        "colab": {
          "base_uri": "https://localhost:8080/"
        },
        "id": "PmfY48lVW1je",
        "outputId": "41dfde16-d3f6-4e7c-967c-48e204491b3b"
      },
      "outputs": [
        {
          "output_type": "stream",
          "name": "stdout",
          "text": [
            "[1 1 1 1 1 1 1 2 2 1]\n"
          ]
        }
      ],
      "source": [
        "# np.random.choice(iterable_or_int, size, replace=True, p=weights)\n",
        "print(np.random.choice(range(3), 10, replace=True, p=[0.1, 0.8, 0.1]))"
      ]
    },
    {
      "cell_type": "code",
      "execution_count": 52,
      "metadata": {
        "colab": {
          "base_uri": "https://localhost:8080/"
        },
        "id": "WUNLXbMRW1jf",
        "outputId": "187c4fd0-a028-40d1-c94d-aaa2b45d8ead"
      },
      "outputs": [
        {
          "output_type": "stream",
          "name": "stdout",
          "text": [
            "[1 0 1 2 2 0 1 1 1 0]\n"
          ]
        }
      ],
      "source": [
        "print(np.random.choice(3, 10))"
      ]
    },
    {
      "cell_type": "code",
      "execution_count": 53,
      "metadata": {
        "colab": {
          "base_uri": "https://localhost:8080/"
        },
        "id": "5HhAX5OgW1jf",
        "outputId": "e29caae2-1bd2-4e50-ea23-a96b523ba5be"
      },
      "outputs": [
        {
          "output_type": "stream",
          "name": "stdout",
          "text": [
            "[2 2 1 3 2 3 1 2 1 3]\n"
          ]
        }
      ],
      "source": [
        "print(np.random.choice([1,2,3], 10))"
      ]
    },
    {
      "cell_type": "markdown",
      "metadata": {
        "id": "wsx48a7vW1jf"
      },
      "source": [
        "### shuffle an array in place"
      ]
    },
    {
      "cell_type": "code",
      "execution_count": 54,
      "metadata": {
        "colab": {
          "base_uri": "https://localhost:8080/"
        },
        "id": "CW7VamQHW1jg",
        "outputId": "2d2c069f-aa93-4bcb-daa7-d911916212a0"
      },
      "outputs": [
        {
          "output_type": "stream",
          "name": "stdout",
          "text": [
            "[0 1 2 3 4 5 6 7 8 9]\n"
          ]
        }
      ],
      "source": [
        "arr = np.array(range(10))\n",
        "print(arr)"
      ]
    },
    {
      "cell_type": "code",
      "execution_count": 55,
      "metadata": {
        "colab": {
          "base_uri": "https://localhost:8080/"
        },
        "id": "TqhZ1B8BW1jg",
        "outputId": "3a5ccfff-08cc-449b-f7cc-d0e520b1cc3c"
      },
      "outputs": [
        {
          "output_type": "stream",
          "name": "stdout",
          "text": [
            "[1 2 8 5 4 0 6 7 9 3]\n"
          ]
        }
      ],
      "source": [
        "np.random.shuffle(arr)\n",
        "print(arr)"
      ]
    },
    {
      "cell_type": "markdown",
      "metadata": {
        "id": "KO_344quW1jg"
      },
      "source": [
        "### generate a permutation of an array"
      ]
    },
    {
      "cell_type": "code",
      "execution_count": 56,
      "metadata": {
        "colab": {
          "base_uri": "https://localhost:8080/"
        },
        "id": "oQpm-Q_VW1jh",
        "outputId": "8f7c9199-9898-4f80-d490-14621f03ef46"
      },
      "outputs": [
        {
          "output_type": "stream",
          "name": "stdout",
          "text": [
            "The initial array:  [0 1 2 3 4 5 6 7 8 9]\n",
            "A permutation of the array:  [3 6 2 4 5 9 1 8 0 7]\n"
          ]
        }
      ],
      "source": [
        "# similar to np.random.shuffle(), but it returns a copy rather than making changes in place\n",
        "arr = np.array(range(10))\n",
        "print('The initial array: ', arr)\n",
        "print('A permutation of the array: ', np.random.permutation(arr))"
      ]
    },
    {
      "cell_type": "markdown",
      "metadata": {
        "id": "yXeKmr4gW1jh"
      },
      "source": [
        "# 4. Math Functions"
      ]
    },
    {
      "cell_type": "code",
      "execution_count": 57,
      "metadata": {
        "id": "-F4JJ_OcW1jh"
      },
      "outputs": [],
      "source": [
        "arr = np.random.rand(5,5)"
      ]
    },
    {
      "cell_type": "markdown",
      "metadata": {
        "id": "-J3t43B9W1ji"
      },
      "source": [
        "### element-wise addition, subtraction, multiplication and division"
      ]
    },
    {
      "cell_type": "code",
      "execution_count": 58,
      "metadata": {
        "colab": {
          "base_uri": "https://localhost:8080/"
        },
        "id": "J3KF3jbXW1ji",
        "outputId": "92e38801-f5d9-43f5-84ab-b032743e94a3"
      },
      "outputs": [
        {
          "output_type": "stream",
          "name": "stdout",
          "text": [
            "[[10.87350227 10.02942373 10.55204372 10.2402475  10.88480501]\n",
            " [10.46023842 10.19317033 10.2936925  10.81792751 10.55948738]\n",
            " [10.67792545 10.80912668 10.86857215 10.41799246 10.05893816]\n",
            " [10.478459   10.52115943 10.58063202 10.309199   10.91988263]\n",
            " [10.6553475  10.34924138 10.54109404 10.4490534  10.28232096]]\n",
            "[[-9.12649773 -9.97057627 -9.44795628 -9.7597525  -9.11519499]\n",
            " [-9.53976158 -9.80682967 -9.7063075  -9.18207249 -9.44051262]\n",
            " [-9.32207455 -9.19087332 -9.13142785 -9.58200754 -9.94106184]\n",
            " [-9.521541   -9.47884057 -9.41936798 -9.690801   -9.08011737]\n",
            " [-9.3446525  -9.65075862 -9.45890596 -9.5509466  -9.71767904]]\n",
            "[[8.73502266 0.29423734 5.52043722 2.40247504 8.84805011]\n",
            " [4.60238424 1.9317033  2.93692504 8.17927508 5.59487376]\n",
            " [6.77925447 8.09126678 8.68572154 4.17992456 0.58938156]\n",
            " [4.78459005 5.2115943  5.8063202  3.09198998 9.19882625]\n",
            " [6.55347503 3.49241385 5.41094045 4.49053396 2.82320961]]\n",
            "[[0.08735023 0.00294237 0.05520437 0.02402475 0.0884805 ]\n",
            " [0.04602384 0.01931703 0.02936925 0.08179275 0.05594874]\n",
            " [0.06779254 0.08091267 0.08685722 0.04179925 0.00589382]\n",
            " [0.0478459  0.05211594 0.0580632  0.0309199  0.09198826]\n",
            " [0.06553475 0.03492414 0.0541094  0.04490534 0.0282321 ]]\n"
          ]
        }
      ],
      "source": [
        "print(arr + 10)\n",
        "print(arr - 10)\n",
        "print(arr * 10)\n",
        "print(arr / 10)"
      ]
    },
    {
      "cell_type": "code",
      "execution_count": 59,
      "metadata": {
        "colab": {
          "base_uri": "https://localhost:8080/"
        },
        "id": "axGnLocWW1ji",
        "outputId": "b31356e3-62ea-4f31-de78-c1b6be0c4bc1"
      },
      "outputs": [
        {
          "output_type": "stream",
          "name": "stdout",
          "text": [
            "[ 9 11 13]\n",
            "[1 2 3]\n",
            "[1 4 9]\n"
          ]
        }
      ],
      "source": [
        "arr1 = np.array([1,2,3])\n",
        "# the above operations can be performed using numpy built-in functions\n",
        "# which can save memory as the output can be stored in the original array rather than assigning new memoryarr = np.array([1,2,3])\n",
        "np.add(arr1, [8,9,10], out=arr1)\n",
        "print(arr1)\n",
        "\n",
        "np.subtract(arr1, [8,9,10], out=arr1)\n",
        "print(arr1)\n",
        "\n",
        "np.multiply(arr1, [1,2,3], out=arr1)\n",
        "print(arr1)"
      ]
    },
    {
      "cell_type": "markdown",
      "metadata": {
        "id": "zkUUX4raW1jj"
      },
      "source": [
        "### element-wise exponentiation"
      ]
    },
    {
      "cell_type": "code",
      "execution_count": 60,
      "metadata": {
        "colab": {
          "base_uri": "https://localhost:8080/"
        },
        "id": "NQbsCsf7W1jj",
        "outputId": "2782a68b-067e-49bf-b6b2-9374b47cf302"
      },
      "outputs": [
        {
          "output_type": "stream",
          "name": "stdout",
          "text": [
            "[[2.39528511 1.02986089 1.73679893 1.27156383 2.42251198]\n",
            " [1.58445171 1.2130894  1.34137137 2.26579912 1.74977529]\n",
            " [1.96978706 2.2459457  2.38350515 1.51890922 1.06070964]\n",
            " [1.61358596 1.68397897 1.7871676  1.36233345 2.50899588]\n",
            " [1.92581163 1.41799143 1.71788528 1.56682832 1.32620431]]\n"
          ]
        }
      ],
      "source": [
        "print(np.exp(arr))"
      ]
    },
    {
      "cell_type": "markdown",
      "metadata": {
        "id": "MTKcCEO5W1jj"
      },
      "source": [
        "### element-wise logorithm"
      ]
    },
    {
      "cell_type": "code",
      "execution_count": 61,
      "metadata": {
        "colab": {
          "base_uri": "https://localhost:8080/"
        },
        "id": "kjecah_FW1jk",
        "outputId": "55c74028-4de7-4c63-9cfc-02d5fe191921"
      },
      "outputs": [
        {
          "output_type": "stream",
          "name": "stdout",
          "text": [
            "[[-0.13524456 -3.52595367 -0.59412803 -1.42608562 -0.12238798]\n",
            " [-0.77601061 -1.64418294 -1.22522197 -0.20098157 -0.58073432]\n",
            " [-0.38871796 -0.21179979 -0.14090462 -0.87229189 -2.83126659]\n",
            " [-0.73718475 -0.65169928 -0.54363808 -1.1737702  -0.0835092 ]\n",
            " [-0.42258965 -1.05199195 -0.61416218 -0.80061348 -1.2647107 ]]\n"
          ]
        }
      ],
      "source": [
        "# natural log\n",
        "print(np.log(arr))      "
      ]
    },
    {
      "cell_type": "code",
      "execution_count": 62,
      "metadata": {
        "colab": {
          "base_uri": "https://localhost:8080/"
        },
        "id": "m45pRgBLW1jk",
        "outputId": "9664501a-f297-40d5-a993-07c206eb6c62"
      },
      "outputs": [
        {
          "output_type": "stream",
          "name": "stdout",
          "text": [
            "[[-0.19511665 -5.08687587 -0.85714556 -2.05740665 -0.17656854]\n",
            " [-1.11954666 -2.37205457 -1.76762165 -0.28995511 -0.83782252]\n",
            " [-0.56080147 -0.3055625  -0.20328239 -1.25845119 -4.08465428]\n",
            " [-1.06353278 -0.94020332 -0.78430396 -1.69339245 -0.12047831]\n",
            " [-0.60966799 -1.51770357 -0.88604873 -1.15504109 -1.82459185]]\n"
          ]
        }
      ],
      "source": [
        "# base 2\n",
        "print(np.log2(arr))     "
      ]
    },
    {
      "cell_type": "code",
      "execution_count": 63,
      "metadata": {
        "colab": {
          "base_uri": "https://localhost:8080/"
        },
        "id": "DP6nFaLYW1jk",
        "outputId": "a203a712-132a-4d45-bf53-5cf2e6990105"
      },
      "outputs": [
        {
          "output_type": "stream",
          "name": "stdout",
          "text": [
            "[[-0.05873596 -1.53130222 -0.25802652 -0.61934112 -0.05315243]\n",
            " [-0.33701713 -0.71405958 -0.53210714 -0.08728519 -0.25220971]\n",
            " [-0.16881806 -0.09198348 -0.0611941  -0.37883156 -1.22960346]\n",
            " [-0.32015527 -0.2830294  -0.23609902 -0.50976192 -0.03626758]\n",
            " [-0.18352835 -0.4568743  -0.26672725 -0.34770202 -0.54925688]]\n"
          ]
        }
      ],
      "source": [
        "# base 10\n",
        "print(np.log10(arr))    "
      ]
    },
    {
      "cell_type": "markdown",
      "metadata": {
        "id": "-uk9zLITW1jl"
      },
      "source": [
        "### element-wise square root"
      ]
    },
    {
      "cell_type": "code",
      "execution_count": 64,
      "metadata": {
        "colab": {
          "base_uri": "https://localhost:8080/"
        },
        "id": "85Pl8-tlW1jl",
        "outputId": "3ae1c333-14fb-4e6c-ac07-d1f0ebd44e28"
      },
      "outputs": [
        {
          "output_type": "stream",
          "name": "stdout",
          "text": [
            "[[0.93461343 0.17153348 0.74299645 0.49015049 0.94064075]\n",
            " [0.67840874 0.43951147 0.54193404 0.90439345 0.74798889]\n",
            " [0.82336228 0.89951469 0.93197219 0.64652336 0.24277182]\n",
            " [0.69170731 0.72191373 0.76199214 0.55605665 0.95910512]\n",
            " [0.80953536 0.59096648 0.73559095 0.67011446 0.53133884]]\n"
          ]
        }
      ],
      "source": [
        "print(np.sqrt(arr))"
      ]
    },
    {
      "cell_type": "markdown",
      "metadata": {
        "id": "FQpkq41jW1jl"
      },
      "source": [
        "### element-wise sine and cosine"
      ]
    },
    {
      "cell_type": "code",
      "execution_count": 65,
      "metadata": {
        "colab": {
          "base_uri": "https://localhost:8080/"
        },
        "id": "HLE-B_M-W1jl",
        "outputId": "d5c0e44c-d56a-40da-9996-c1ebc689cb41"
      },
      "outputs": [
        {
          "output_type": "stream",
          "name": "stdout",
          "text": [
            "[[0.7665826  0.02941949 0.52442846 0.23794303 0.77379149]\n",
            " [0.44416174 0.19197122 0.28948859 0.72973036 0.5307518 ]\n",
            " [0.62717856 0.72368474 0.76340745 0.40592657 0.05890404]\n",
            " [0.46041177 0.49788598 0.54855249 0.30429572 0.79553051]\n",
            " [0.60943479 0.34218509 0.51507406 0.43411297 0.27858547]]\n"
          ]
        }
      ],
      "source": [
        "print(np.sin(arr))"
      ]
    },
    {
      "cell_type": "code",
      "execution_count": 66,
      "metadata": {
        "colab": {
          "base_uri": "https://localhost:8080/"
        },
        "id": "YmOcl472W1jm",
        "outputId": "fd9e6772-adb1-40c1-a3e0-c806d53d6612"
      },
      "outputs": [
        {
          "output_type": "stream",
          "name": "stdout",
          "text": [
            "[[0.64214571 0.99956715 0.85145452 0.97127911 0.63344039]\n",
            " [0.89594662 0.98140056 0.95718147 0.68373503 0.8475273 ]\n",
            " [0.77887551 0.69013071 0.64591723 0.9139057  0.99826365]\n",
            " [0.88770547 0.8672425  0.83611612 0.95257762 0.60591354]\n",
            " [0.7928362  0.93963257 0.85714568 0.90085844 0.96041144]]\n"
          ]
        }
      ],
      "source": [
        "print(np.cos(arr))"
      ]
    },
    {
      "cell_type": "markdown",
      "metadata": {
        "id": "m7WZcV8bW1jm"
      },
      "source": [
        "### sum along a specified axis"
      ]
    },
    {
      "cell_type": "code",
      "execution_count": 67,
      "metadata": {
        "colab": {
          "base_uri": "https://localhost:8080/"
        },
        "id": "-7Q0J2a5W1jm",
        "outputId": "e84a9366-2447-410a-9493-559be93b72bc"
      },
      "outputs": [
        {
          "output_type": "stream",
          "name": "stdout",
          "text": [
            "[3.14547265 1.90212156 2.83603444 2.23441986 2.70543413]\n"
          ]
        }
      ],
      "source": [
        "# sum along the row\n",
        "print(np.sum(arr, axis=0))    "
      ]
    },
    {
      "cell_type": "code",
      "execution_count": 68,
      "metadata": {
        "colab": {
          "base_uri": "https://localhost:8080/"
        },
        "id": "g7NDAUwcW1jn",
        "outputId": "87e4880e-f8db-4b67-cc83-f4ef438f212d"
      },
      "outputs": [
        {
          "output_type": "stream",
          "name": "stdout",
          "text": [
            "[2.58002224 2.32451614 2.83255489 2.80933208 2.27705729]\n"
          ]
        }
      ],
      "source": [
        "# sum along the column\n",
        "print(np.sum(arr, axis=1))    "
      ]
    },
    {
      "cell_type": "markdown",
      "metadata": {
        "id": "3wCbSjERW1jn"
      },
      "source": [
        "### compute the min and max along a specified axis"
      ]
    },
    {
      "cell_type": "code",
      "execution_count": 69,
      "metadata": {
        "colab": {
          "base_uri": "https://localhost:8080/"
        },
        "id": "aVhuL-8EW1jn",
        "outputId": "29c82888-bb22-4750-a6d9-31e03e9c4085"
      },
      "outputs": [
        {
          "output_type": "stream",
          "name": "stdout",
          "text": [
            "[0.46023842 0.02942373 0.2936925  0.2402475  0.05893816]\n"
          ]
        }
      ],
      "source": [
        "# calculate min along the row\n",
        "print(np.min(arr, axis=0))"
      ]
    },
    {
      "cell_type": "code",
      "execution_count": 70,
      "metadata": {
        "colab": {
          "base_uri": "https://localhost:8080/"
        },
        "id": "tMdlVh1XW1jo",
        "outputId": "4f6a3116-80e3-44d8-b394-fbfae0a00205"
      },
      "outputs": [
        {
          "output_type": "stream",
          "name": "stdout",
          "text": [
            "[0.88480501 0.81792751 0.86857215 0.91988263 0.6553475 ]\n"
          ]
        }
      ],
      "source": [
        "# calculate max along the column\n",
        "print(np.max(arr, axis=1))    "
      ]
    },
    {
      "cell_type": "code",
      "execution_count": 71,
      "metadata": {
        "colab": {
          "base_uri": "https://localhost:8080/"
        },
        "id": "MoyE2JmmW1jo",
        "outputId": "34533e48-5499-45a8-efd9-e2c40a414a67"
      },
      "outputs": [
        {
          "output_type": "stream",
          "name": "stdout",
          "text": [
            "0.919882625254582\n",
            "0.029423733551983133\n"
          ]
        }
      ],
      "source": [
        "# if axis not specified, calculate the max/min value of all elements\n",
        "print(np.max(arr))\n",
        "print(np.min(arr))"
      ]
    },
    {
      "cell_type": "markdown",
      "metadata": {
        "id": "KLJVvyfkW1jp"
      },
      "source": [
        "### compute the indices of the min and max along a specified axis"
      ]
    },
    {
      "cell_type": "code",
      "execution_count": 72,
      "metadata": {
        "colab": {
          "base_uri": "https://localhost:8080/"
        },
        "id": "lJm_dyRDW1jp",
        "outputId": "bf757f82-4eb6-4197-9696-dcf1b047088d"
      },
      "outputs": [
        {
          "output_type": "stream",
          "name": "stdout",
          "text": [
            "[1 0 1 0 2]\n",
            "[0 2 2 1 3]\n"
          ]
        }
      ],
      "source": [
        "# along the row\n",
        "print(np.argmin(arr, axis=0))\n",
        "print(np.argmax(arr, axis=0))"
      ]
    },
    {
      "cell_type": "code",
      "execution_count": 73,
      "metadata": {
        "colab": {
          "base_uri": "https://localhost:8080/"
        },
        "id": "dJ-85A9WW1jp",
        "outputId": "792cad51-19f5-4d90-ebfa-9a8c5db7d284"
      },
      "outputs": [
        {
          "output_type": "stream",
          "name": "stdout",
          "text": [
            "[1 1 4 3 4]\n",
            "[4 3 2 4 0]\n"
          ]
        }
      ],
      "source": [
        "# along the column\n",
        "print(np.argmin(arr, axis=1))\n",
        "print(np.argmax(arr, axis=1))"
      ]
    },
    {
      "cell_type": "code",
      "execution_count": 174,
      "metadata": {
        "colab": {
          "base_uri": "https://localhost:8080/"
        },
        "id": "w6T9rIBBW1jq",
        "outputId": "d614ac36-75b8-41d9-94f2-dda1ef5e1628"
      },
      "outputs": [
        {
          "output_type": "stream",
          "name": "stdout",
          "text": [
            "0\n",
            "5\n"
          ]
        }
      ],
      "source": [
        "# if axis not specified, return the index of the flattened array\n",
        "print(np.argmin(arr))\n",
        "print(np.argmax(arr))"
      ]
    },
    {
      "cell_type": "markdown",
      "metadata": {
        "id": "0mWUKTFrW1jq"
      },
      "source": [
        "### compute element-wise min and max of two arrays"
      ]
    },
    {
      "cell_type": "code",
      "execution_count": 75,
      "metadata": {
        "colab": {
          "base_uri": "https://localhost:8080/"
        },
        "id": "fqW2pn5ZW1jr",
        "outputId": "1e26e1e8-ee2e-4e0b-a819-1c35cf60e920"
      },
      "outputs": [
        {
          "output_type": "stream",
          "name": "stdout",
          "text": [
            "[1 4 5 8 9]\n",
            "[0 3 3 7 7]\n"
          ]
        }
      ],
      "source": [
        "arr1 = np.array([1, 3, 5, 7, 9])\n",
        "arr2 = np.array([0, 4, 3, 8, 7])\n",
        "print(np.maximum(arr1, arr2))\n",
        "print(np.minimum(arr1, arr2))"
      ]
    },
    {
      "cell_type": "markdown",
      "metadata": {
        "id": "s3un4Nw0W1jr"
      },
      "source": [
        "### split fractional and integral parts of a floating-point array"
      ]
    },
    {
      "cell_type": "code",
      "execution_count": 76,
      "metadata": {
        "colab": {
          "base_uri": "https://localhost:8080/"
        },
        "id": "qbBSuXQ-W1jr",
        "outputId": "1e72e59d-a976-4631-a85b-cc49b6b8a4f4"
      },
      "outputs": [
        {
          "output_type": "stream",
          "name": "stdout",
          "text": [
            "fractional:  [0.95876525 0.63480983 0.15191279 0.17618677 0.52041829 0.32778859\n",
            " 0.7311902  0.67888445 0.87478322 0.4941493 ]\n",
            "integral:  [2. 5. 7. 5. 3. 6. 8. 1. 9. 3.]\n"
          ]
        }
      ],
      "source": [
        "arr1 = np.random.rand(10) * 10\n",
        "re, intg = np.modf(arr1)\n",
        "print('fractional: ', re)\n",
        "print('integral: ', intg)"
      ]
    },
    {
      "cell_type": "markdown",
      "metadata": {
        "id": "lpRHj3TbW1js"
      },
      "source": [
        "### compute the mean"
      ]
    },
    {
      "cell_type": "code",
      "execution_count": 77,
      "metadata": {
        "colab": {
          "base_uri": "https://localhost:8080/"
        },
        "id": "VtvDdSxnW1js",
        "outputId": "78683da9-0958-42ad-dd9c-e72ebd9b5d3f"
      },
      "outputs": [
        {
          "output_type": "stream",
          "name": "stdout",
          "text": [
            "0.5129393054604379\n"
          ]
        }
      ],
      "source": [
        "# compute the overall mean\n",
        "print(np.mean(arr))"
      ]
    },
    {
      "cell_type": "code",
      "execution_count": 78,
      "metadata": {
        "colab": {
          "base_uri": "https://localhost:8080/"
        },
        "id": "hd2Byc_XW1js",
        "outputId": "3bde4d9f-2c75-43ad-c7ba-b668fb1c8d10"
      },
      "outputs": [
        {
          "output_type": "stream",
          "name": "stdout",
          "text": [
            "[0.62909453 0.38042431 0.56720689 0.44688397 0.54108683]\n"
          ]
        }
      ],
      "source": [
        "# compute the mean along the row\n",
        "print(np.mean(arr, axis=0))   "
      ]
    },
    {
      "cell_type": "code",
      "execution_count": 79,
      "metadata": {
        "colab": {
          "base_uri": "https://localhost:8080/"
        },
        "id": "Fr5s2sJvW1jt",
        "outputId": "db5d062c-e689-4df3-e5de-1bce3d51671c"
      },
      "outputs": [
        {
          "output_type": "stream",
          "name": "stdout",
          "text": [
            "[0.51600445 0.46490323 0.56651098 0.56186642 0.45541146]\n"
          ]
        }
      ],
      "source": [
        "# compute the mean along the column\n",
        "print(np.mean(arr, axis=1)) "
      ]
    },
    {
      "cell_type": "markdown",
      "metadata": {
        "id": "sXYQsAzYW1jt"
      },
      "source": [
        "### compute the median"
      ]
    },
    {
      "cell_type": "code",
      "execution_count": 80,
      "metadata": {
        "colab": {
          "base_uri": "https://localhost:8080/"
        },
        "id": "LodhArFIW1jt",
        "outputId": "de746c31-7c8e-4d77-c028-f3e1bfdfdbf8"
      },
      "outputs": [
        {
          "output_type": "stream",
          "name": "stdout",
          "text": [
            "0.52115942968839\n"
          ]
        }
      ],
      "source": [
        "# compute the overall median\n",
        "print(np.median(arr))"
      ]
    },
    {
      "cell_type": "code",
      "execution_count": 81,
      "metadata": {
        "colab": {
          "base_uri": "https://localhost:8080/"
        },
        "id": "V2upb17xW1jt",
        "outputId": "2071e8a3-cf03-492b-afdd-0057d7d40627"
      },
      "outputs": [
        {
          "output_type": "stream",
          "name": "stdout",
          "text": [
            "[0.6553475  0.34924138 0.55204372 0.41799246 0.55948738]\n"
          ]
        }
      ],
      "source": [
        "# compute the median along the row\n",
        "print(np.median(arr, axis=0)) "
      ]
    },
    {
      "cell_type": "code",
      "execution_count": 82,
      "metadata": {
        "colab": {
          "base_uri": "https://localhost:8080/"
        },
        "id": "5nwQsvZEW1ju",
        "outputId": "906240da-57f2-4802-e5bc-c22837d18acc"
      },
      "outputs": [
        {
          "output_type": "stream",
          "name": "stdout",
          "text": [
            "[0.55204372 0.46023842 0.67792545 0.52115943 0.4490534 ]\n"
          ]
        }
      ],
      "source": [
        "# compute the median along the column\n",
        "print(np.median(arr, axis=1))"
      ]
    },
    {
      "cell_type": "markdown",
      "metadata": {
        "id": "JMY5w-01W1ju"
      },
      "source": [
        "### compute the percentile"
      ]
    },
    {
      "cell_type": "code",
      "execution_count": 83,
      "metadata": {
        "colab": {
          "base_uri": "https://localhost:8080/"
        },
        "id": "E6dTKzNdW1ju",
        "outputId": "6ac02d28-d80b-4dd1-9530-97c8d5453891"
      },
      "outputs": [
        {
          "output_type": "stream",
          "name": "stdout",
          "text": [
            "[0.05596961 0.58954837 0.92058256]\n"
          ]
        }
      ],
      "source": [
        "arr1 = np.random.rand(100)\n",
        "# compute 5, 65, and 95 percentiles of the array\n",
        "print(np.percentile(arr1, [5, 65, 95]))"
      ]
    },
    {
      "cell_type": "markdown",
      "metadata": {
        "id": "3aXZ-5RBW1jv"
      },
      "source": [
        "### compute the standard deviation & variance"
      ]
    },
    {
      "cell_type": "code",
      "execution_count": 84,
      "metadata": {
        "colab": {
          "base_uri": "https://localhost:8080/"
        },
        "id": "8LwxNgq5W1jv",
        "outputId": "2f4697f3-26b8-4108-f9ee-c213f7bae82d"
      },
      "outputs": [
        {
          "output_type": "stream",
          "name": "stdout",
          "text": [
            "0.25305273176784365\n"
          ]
        }
      ],
      "source": [
        "# compute the overall standard deviation\n",
        "print(np.std(arr))"
      ]
    },
    {
      "cell_type": "code",
      "execution_count": 85,
      "metadata": {
        "colab": {
          "base_uri": "https://localhost:8080/"
        },
        "id": "wfa1xNCDW1jw",
        "outputId": "7b598756-ad32-43aa-a158-0f205e042a22"
      },
      "outputs": [
        {
          "output_type": "stream",
          "name": "stdout",
          "text": [
            "[0.15100481 0.26938074 0.18260514 0.20008424 0.33508033]\n"
          ]
        }
      ],
      "source": [
        "# compute the standard deviation along the row\n",
        "print(np.std(arr, axis=0))"
      ]
    },
    {
      "cell_type": "code",
      "execution_count": 86,
      "metadata": {
        "colab": {
          "base_uri": "https://localhost:8080/"
        },
        "id": "z1xSpM9sW1jw",
        "outputId": "deca0285-310e-416a-ee76-2761e470e7ea"
      },
      "outputs": [
        {
          "output_type": "stream",
          "name": "stdout",
          "text": [
            "[0.33997649 0.21759869 0.29739013 0.20049061 0.13310804]\n"
          ]
        }
      ],
      "source": [
        "# compute the standard deviation along the column\n",
        "print(np.std(arr, axis=1))"
      ]
    },
    {
      "cell_type": "code",
      "execution_count": 87,
      "metadata": {
        "colab": {
          "base_uri": "https://localhost:8080/"
        },
        "id": "xYQu3somW1jw",
        "outputId": "580d492e-4d42-4e99-9560-6db8275b8bcd"
      },
      "outputs": [
        {
          "output_type": "stream",
          "name": "stdout",
          "text": [
            "0.06403568505516823\n"
          ]
        }
      ],
      "source": [
        "# compute the overall variance\n",
        "print(np.var(arr))"
      ]
    },
    {
      "cell_type": "code",
      "execution_count": 88,
      "metadata": {
        "colab": {
          "base_uri": "https://localhost:8080/"
        },
        "id": "1hNkQ8eJW1jx",
        "outputId": "ee0d1679-77b2-459d-9157-fecf42e45a9b"
      },
      "outputs": [
        {
          "output_type": "stream",
          "name": "stdout",
          "text": [
            "[0.02280245 0.07256599 0.03334464 0.0400337  0.11227883]\n"
          ]
        }
      ],
      "source": [
        "# compute the variance along the row\n",
        "print(np.var(arr, axis=0))"
      ]
    },
    {
      "cell_type": "code",
      "execution_count": 89,
      "metadata": {
        "colab": {
          "base_uri": "https://localhost:8080/"
        },
        "id": "H-tXn31qW1jx",
        "outputId": "574b4ef6-de74-4a8c-948a-adf7e3b25c99"
      },
      "outputs": [
        {
          "output_type": "stream",
          "name": "stdout",
          "text": [
            "[0.11558401 0.04734919 0.08844089 0.04019649 0.01771775]\n"
          ]
        }
      ],
      "source": [
        "# compute the variance along the column\n",
        "print(np.var(arr, axis=1))"
      ]
    },
    {
      "cell_type": "markdown",
      "metadata": {
        "id": "c4x0y1DEW1jx"
      },
      "source": [
        "### compute the covariance & correlation"
      ]
    },
    {
      "cell_type": "code",
      "execution_count": 90,
      "metadata": {
        "id": "MQxV1o7QW1jx"
      },
      "outputs": [],
      "source": [
        "arr = np.random.rand(5,8)"
      ]
    },
    {
      "cell_type": "code",
      "execution_count": 91,
      "metadata": {
        "colab": {
          "base_uri": "https://localhost:8080/"
        },
        "id": "W5IffPifW1jy",
        "outputId": "a5f16781-827e-44a4-8186-6f8acb4358cd"
      },
      "outputs": [
        {
          "output_type": "stream",
          "name": "stdout",
          "text": [
            "[[ 0.05402285  0.03916784  0.03506723  0.0367739  -0.02741259]\n",
            " [ 0.03916784  0.03992086  0.01853696  0.04299328 -0.02678781]\n",
            " [ 0.03506723  0.01853696  0.06217596  0.01094847  0.00254219]\n",
            " [ 0.0367739   0.04299328  0.01094847  0.11372942 -0.02614117]\n",
            " [-0.02741259 -0.02678781  0.00254219 -0.02614117  0.06564368]]\n"
          ]
        }
      ],
      "source": [
        "print(np.cov(arr))"
      ]
    },
    {
      "cell_type": "code",
      "execution_count": 92,
      "metadata": {
        "colab": {
          "base_uri": "https://localhost:8080/"
        },
        "id": "zCtfA2enW1jz",
        "outputId": "926532ad-d5af-4079-a9a4-d8dfe8303e23"
      },
      "outputs": [
        {
          "output_type": "stream",
          "name": "stdout",
          "text": [
            "[[ 1.         -0.54127501]\n",
            " [-0.54127501  1.        ]]\n"
          ]
        }
      ],
      "source": [
        "print(np.corrcoef(arr[:,0], arr[:,1]))"
      ]
    },
    {
      "cell_type": "markdown",
      "metadata": {
        "id": "EHwoVlr0W1jz"
      },
      "source": [
        "### compute cumulative sum & product"
      ]
    },
    {
      "cell_type": "code",
      "execution_count": 93,
      "metadata": {
        "colab": {
          "base_uri": "https://localhost:8080/"
        },
        "id": "ZgWjy8r2W1jz",
        "outputId": "19c424b5-0eb3-4beb-cbe5-47742387d77f"
      },
      "outputs": [
        {
          "output_type": "stream",
          "name": "stdout",
          "text": [
            "[[0.40939041 0.37251939 0.33997017 0.81257008 0.52820553 0.55382711\n",
            "  0.11720684 0.78460482]\n",
            " [0.8439766  0.44974212 0.5217817  1.33358096 1.0075397  0.8673696\n",
            "  0.21687605 1.38115748]\n",
            " [1.09214649 1.05408228 0.82689535 2.2308859  1.58955502 1.57986202\n",
            "  0.90049152 2.32777838]\n",
            " [2.00537774 1.10533719 1.20721083 2.79474244 1.72212877 2.15499731\n",
            "  1.22305927 3.31170594]\n",
            " [2.58104356 1.73506483 1.60822311 3.5393725  2.12331469 2.92047243\n",
            "  2.20549051 3.47982271]]\n"
          ]
        }
      ],
      "source": [
        "# calculate the cumulative sums along the row\n",
        "print(np.cumsum(arr, axis=0))    "
      ]
    },
    {
      "cell_type": "code",
      "execution_count": 94,
      "metadata": {
        "colab": {
          "base_uri": "https://localhost:8080/"
        },
        "id": "jb2m_KqRW1j0",
        "outputId": "9fd196c7-a6a1-44ac-ae51-9b81bef0bfb8"
      },
      "outputs": [
        {
          "output_type": "stream",
          "name": "stdout",
          "text": [
            "[[0.40939041 0.7819098  1.12187997 1.93445006 2.46265559 3.01648269\n",
            "  3.13368953 3.91829435]\n",
            " [0.43458619 0.51180891 0.69362044 1.21463132 1.69396549 2.00750798\n",
            "  2.10717719 2.70372985]\n",
            " [0.24816989 0.85251005 1.1576237  2.05492864 2.63694396 3.34943639\n",
            "  4.03305187 4.97967276]\n",
            " [0.91323126 0.96448617 1.34480165 1.90865819 2.04123193 2.61636722\n",
            "  2.93893496 3.92286253]\n",
            " [0.57566582 1.20539345 1.60640573 2.35103579 2.75222172 3.51769684\n",
            "  4.50012808 4.66824484]]\n"
          ]
        }
      ],
      "source": [
        "# calculate the cumulative sums along the column\n",
        "print(np.cumsum(arr, axis=1))    "
      ]
    },
    {
      "cell_type": "code",
      "execution_count": 95,
      "metadata": {
        "colab": {
          "base_uri": "https://localhost:8080/"
        },
        "id": "byllOcUCW1j0",
        "outputId": "542a0426-f6ba-429d-8092-46d976b9673b"
      },
      "outputs": [
        {
          "output_type": "stream",
          "name": "stdout",
          "text": [
            "[[4.09390413e-01 3.72519391e-01 3.39970171e-01 8.12570084e-01\n",
            "  5.28205526e-01 5.53827107e-01 1.17206838e-01 7.84604818e-01]\n",
            " [1.77915418e-01 2.87669636e-02 6.18104970e-02 4.23357851e-01\n",
            "  2.53186958e-01 1.73648331e-01 1.16819128e-02 4.68058094e-01]\n",
            " [4.41532491e-02 1.73850315e-02 1.88592261e-02 3.79881090e-01\n",
            "  1.47358690e-01 1.23723121e-01 7.98593639e-03 4.43073573e-01]\n",
            " [4.03221272e-02 8.91068216e-04 7.17245569e-03 2.14198438e-01\n",
            "  1.95358928e-02 7.11575323e-02 2.57600551e-03 4.35952301e-01]\n",
            " [2.32120703e-02 5.61130279e-04 2.87624278e-03 1.59498596e-01\n",
            "  7.83752521e-03 5.44693209e-02 2.53074828e-03 7.32908915e-02]]\n"
          ]
        }
      ],
      "source": [
        "# calculate the cumulative product along the row\n",
        "print(np.cumprod(arr, axis=0))   "
      ]
    },
    {
      "cell_type": "code",
      "execution_count": 96,
      "metadata": {
        "colab": {
          "base_uri": "https://localhost:8080/"
        },
        "id": "gwNFa9T2W1j0",
        "outputId": "37b3beb3-5d7f-45b9-b6f6-f9dff6a88686"
      },
      "outputs": [
        {
          "output_type": "stream",
          "name": "stdout",
          "text": [
            "[[4.09390413e-01 1.52505867e-01 5.18474458e-02 4.21296834e-02\n",
            "  2.22531316e-02 1.23243875e-02 1.44450249e-03 1.13336361e-03]\n",
            " [4.34586185e-01 3.35599307e-02 6.10158235e-03 3.17899076e-03\n",
            "  1.52379890e-03 4.77775703e-04 4.76195265e-05 2.84075554e-05]\n",
            " [2.48169887e-01 1.49979030e-01 4.57606489e-02 4.10612562e-02\n",
            "  2.38982805e-02 1.70273439e-02 1.16401558e-02 1.10188147e-02]\n",
            " [9.13231256e-01 4.68075854e-02 1.78016494e-02 1.00375765e-02\n",
            "  1.33071906e-03 7.65343488e-04 2.46875125e-04 2.42907240e-04]\n",
            " [5.75665818e-01 3.62512674e-01 1.45372033e-01 1.08248386e-01\n",
            "  4.34277288e-02 3.32428461e-02 3.26588104e-02 5.49049362e-03]]\n"
          ]
        }
      ],
      "source": [
        "# calculate the cumulative product along the column\n",
        "print(np.cumprod(arr, axis=1))  "
      ]
    },
    {
      "cell_type": "markdown",
      "metadata": {
        "id": "qqjyS6zZW1j1"
      },
      "source": [
        "### element-wise comparison"
      ]
    },
    {
      "cell_type": "code",
      "execution_count": 97,
      "metadata": {
        "id": "eWof3T4SW1j1"
      },
      "outputs": [],
      "source": [
        "arr1 = np.array([1,2,3,4,5])\n",
        "arr2 = np.array([5,4,3,2,1])"
      ]
    },
    {
      "cell_type": "code",
      "execution_count": 98,
      "metadata": {
        "colab": {
          "base_uri": "https://localhost:8080/"
        },
        "id": "4c44m8aTW1j1",
        "outputId": "04efad17-88ea-4606-e8a5-e7d83f78e9f2"
      },
      "outputs": [
        {
          "output_type": "stream",
          "name": "stdout",
          "text": [
            "[False False  True False False]\n",
            "[ True  True False False False]\n"
          ]
        }
      ],
      "source": [
        "# return an array of bools\n",
        "print(arr1 == arr2)    \n",
        "print(arr1 < 3)"
      ]
    },
    {
      "cell_type": "markdown",
      "metadata": {
        "id": "-Bz58wG0W1j2"
      },
      "source": [
        "# 5. Slicing & Indexing"
      ]
    },
    {
      "cell_type": "code",
      "execution_count": 99,
      "metadata": {
        "id": "nslr-9UyW1j2"
      },
      "outputs": [],
      "source": [
        "arr = np.array(range(100)).reshape((10,10))"
      ]
    },
    {
      "cell_type": "markdown",
      "metadata": {
        "id": "U-THYfT7W1j2"
      },
      "source": [
        "### select an element by row and column indices"
      ]
    },
    {
      "cell_type": "code",
      "execution_count": 100,
      "metadata": {
        "colab": {
          "base_uri": "https://localhost:8080/"
        },
        "id": "gHSSx0qzW1j3",
        "outputId": "8c18cc5e-522b-42fa-c6c7-8358936ae139"
      },
      "outputs": [
        {
          "output_type": "stream",
          "name": "stdout",
          "text": [
            "55\n",
            "55\n"
          ]
        }
      ],
      "source": [
        "print(arr[5][5])\n",
        "# or more concisely\n",
        "print(arr[5,5])"
      ]
    },
    {
      "cell_type": "markdown",
      "metadata": {
        "id": "qCSSc53_W1j3"
      },
      "source": [
        "### indexing with slicing"
      ]
    },
    {
      "cell_type": "code",
      "execution_count": 101,
      "metadata": {
        "colab": {
          "base_uri": "https://localhost:8080/"
        },
        "id": "tYOBm2emW1j3",
        "outputId": "a53e8861-c3f9-4ca2-aa48-d6b6c42fb412"
      },
      "outputs": [
        {
          "output_type": "stream",
          "name": "stdout",
          "text": [
            "[[14 15]\n",
            " [24 25]]\n"
          ]
        }
      ],
      "source": [
        "print(arr[1:3, 4:6])"
      ]
    },
    {
      "cell_type": "code",
      "execution_count": 102,
      "metadata": {
        "colab": {
          "base_uri": "https://localhost:8080/"
        },
        "id": "qtpPnakVW1j4",
        "outputId": "aa7d7c8e-e770-492b-e559-ffb76c67fc66"
      },
      "outputs": [
        {
          "output_type": "stream",
          "name": "stdout",
          "text": [
            "[[[0 1]\n",
            "  [2 3]]\n",
            "\n",
            " [[4 5]\n",
            "  [6 7]]]\n"
          ]
        }
      ],
      "source": [
        "# ellipsis slicing: auto-complete the dimensions\n",
        "arr = np.array(range(16)).reshape(2,2,2,2)\n",
        "# equivalent to arr[0,:,:,:]\n",
        "print(arr[0, ...])    "
      ]
    },
    {
      "cell_type": "markdown",
      "metadata": {
        "id": "WPdMYbOnW1j4"
      },
      "source": [
        "### assign a scalar to a slice by broadcasting"
      ]
    },
    {
      "cell_type": "code",
      "execution_count": 103,
      "metadata": {
        "colab": {
          "base_uri": "https://localhost:8080/"
        },
        "id": "ho1cEi-tW1j4",
        "outputId": "932468f7-47c8-47a0-fa9d-a2b5ab9b0870"
      },
      "outputs": [
        {
          "output_type": "stream",
          "name": "stdout",
          "text": [
            "[[[[  0   1]\n",
            "   [  2   3]]\n",
            "\n",
            "  [[  4   5]\n",
            "   [  6   7]]]\n",
            "\n",
            "\n",
            " [[[100 100]\n",
            "   [100 100]]\n",
            "\n",
            "  [[100 100]\n",
            "   [100 100]]]]\n"
          ]
        }
      ],
      "source": [
        "arr[1:3,:] = 100    # or simply arr[1:3]\n",
        "arr[:,8:] = 100\n",
        "print(arr)"
      ]
    },
    {
      "cell_type": "markdown",
      "metadata": {
        "id": "tqKkfnl_W1j5"
      },
      "source": [
        "### boolean indexing"
      ]
    },
    {
      "cell_type": "code",
      "execution_count": 104,
      "metadata": {
        "colab": {
          "base_uri": "https://localhost:8080/"
        },
        "id": "kM9MmX_CW1j5",
        "outputId": "2d385bdc-d2d5-4b2b-baab-22e599895971"
      },
      "outputs": [
        {
          "output_type": "stream",
          "name": "stdout",
          "text": [
            "[[ 0  1  2  3  4]\n",
            " [ 5  6  7  8  9]\n",
            " [15 16 17 18 19]]\n"
          ]
        }
      ],
      "source": [
        "arr1 = np.arange(25).reshape((5,5))\n",
        "bools = np.array([True, True, False, True, False])\n",
        "print(arr1[bools])"
      ]
    },
    {
      "cell_type": "code",
      "execution_count": 105,
      "metadata": {
        "colab": {
          "base_uri": "https://localhost:8080/"
        },
        "id": "k5dUlY0LW1j5",
        "outputId": "9bc6eced-3396-4a0b-9173-47b1f7ca21c5"
      },
      "outputs": [
        {
          "output_type": "stream",
          "name": "stdout",
          "text": [
            "[[10 11 12 13 14]\n",
            " [20 21 22 23 24]]\n"
          ]
        }
      ],
      "source": [
        "# negate the condition\n",
        "print(arr1[~bools])    "
      ]
    },
    {
      "cell_type": "code",
      "execution_count": 106,
      "metadata": {
        "colab": {
          "base_uri": "https://localhost:8080/"
        },
        "id": "E8ZF__iXW1j6",
        "outputId": "cb727aad-1bf6-4a9a-d4e2-5840474d4c9e"
      },
      "outputs": [
        {
          "output_type": "stream",
          "name": "stdout",
          "text": [
            "[[ 0  1  2  3  4]\n",
            " [20 21 22 23 24]]\n"
          ]
        }
      ],
      "source": [
        "arr2 = np.array([1,2,3,4,5])\n",
        "# multiple conditions\n",
        "print(arr1[(arr2<2) | (arr2>4)])    "
      ]
    },
    {
      "cell_type": "markdown",
      "metadata": {
        "id": "2lujLOLjW1j6"
      },
      "source": [
        "### fancy indexing"
      ]
    },
    {
      "cell_type": "code",
      "execution_count": 107,
      "metadata": {
        "id": "VI929nSXW1j6"
      },
      "outputs": [],
      "source": [
        "arr = np.random.rand(10,10)"
      ]
    },
    {
      "cell_type": "code",
      "execution_count": 108,
      "metadata": {
        "colab": {
          "base_uri": "https://localhost:8080/"
        },
        "id": "2leePJ62W1j6",
        "outputId": "1b449318-806e-40bf-df4e-a483edd8cacd"
      },
      "outputs": [
        {
          "output_type": "stream",
          "name": "stdout",
          "text": [
            "[0.71525681 0.76243827 0.63775096]\n"
          ]
        }
      ],
      "source": [
        "# select arr[3,3], arr[1,2], arr[2,1]\n",
        "print(arr[[3,1,2], [3,2,1]])       "
      ]
    },
    {
      "cell_type": "code",
      "execution_count": 109,
      "metadata": {
        "colab": {
          "base_uri": "https://localhost:8080/"
        },
        "id": "CuEhHE_RW1j7",
        "outputId": "71341c42-8615-4fa8-f834-883b9261ba99"
      },
      "outputs": [
        {
          "output_type": "stream",
          "name": "stdout",
          "text": [
            "[[0.28141752 0.62828149 0.07751835]\n",
            " [0.67523336 0.35299237 0.45959692]\n",
            " [0.53945097 0.83891327 0.56634674]]\n"
          ]
        }
      ],
      "source": [
        "# select rows 3,1,2 and columns 6,4,8 \n",
        "print(arr[[3,1,2]][:, [6,4,8]])    "
      ]
    },
    {
      "cell_type": "markdown",
      "metadata": {
        "id": "qL7JwX_7W1j7"
      },
      "source": [
        "### dimension inference"
      ]
    },
    {
      "cell_type": "code",
      "execution_count": 110,
      "metadata": {
        "colab": {
          "base_uri": "https://localhost:8080/"
        },
        "id": "_RwgAeE3W1j7",
        "outputId": "15244992-1b53-4c63-85e6-aafe45604781"
      },
      "outputs": [
        {
          "output_type": "stream",
          "name": "stdout",
          "text": [
            "(4, 4)\n"
          ]
        }
      ],
      "source": [
        "# dimension inference using any negative number (usually -1)\n",
        "arr = np.array(range(16)).reshape((4,-1))\n",
        "print(arr.shape)"
      ]
    },
    {
      "cell_type": "markdown",
      "metadata": {
        "id": "PRj9nXkTW1j8"
      },
      "source": [
        "### find elements/indices by conditions"
      ]
    },
    {
      "cell_type": "code",
      "execution_count": 111,
      "metadata": {
        "id": "ngoaa3IeW1j8"
      },
      "outputs": [],
      "source": [
        "arr = np.arange(16).reshape(4,4)"
      ]
    },
    {
      "cell_type": "code",
      "execution_count": 112,
      "metadata": {
        "colab": {
          "base_uri": "https://localhost:8080/"
        },
        "id": "S7Xc38kAW1j8",
        "outputId": "46776c05-6c60-44cf-80d8-744ef0290254"
      },
      "outputs": [
        {
          "output_type": "stream",
          "name": "stdout",
          "text": [
            "[ 6  7  8  9 10 11 12 13 14 15]\n"
          ]
        }
      ],
      "source": [
        "# find the elements greater than 5 and return a flattened array\n",
        "print(arr[arr>5])    # or arr[np.where(arr>5)]"
      ]
    },
    {
      "cell_type": "code",
      "execution_count": 113,
      "metadata": {
        "colab": {
          "base_uri": "https://localhost:8080/"
        },
        "id": "u3GIPLMiW1j9",
        "outputId": "ee9dbae6-8e97-4a9b-c7c7-f7cb6cdc49a8"
      },
      "outputs": [
        {
          "output_type": "stream",
          "name": "stdout",
          "text": [
            "[[10 10 10 10]\n",
            " [10 10 -1 -1]\n",
            " [-1 -1 -1 -1]\n",
            " [-1 -1 -1 -1]]\n"
          ]
        }
      ],
      "source": [
        "# return values based on conditions \n",
        "# np.where(condition, true_return, false_return)\n",
        "print(np.where(arr>5, -1, 10))"
      ]
    },
    {
      "cell_type": "code",
      "execution_count": 114,
      "metadata": {
        "colab": {
          "base_uri": "https://localhost:8080/"
        },
        "id": "_SjJ-1JDW1j9",
        "outputId": "8b9b5028-7188-463a-f550-7c5ad3271241"
      },
      "outputs": [
        {
          "output_type": "stream",
          "name": "stdout",
          "text": [
            "[[1 2]\n",
            " [1 3]\n",
            " [2 0]\n",
            " [2 1]\n",
            " [2 2]\n",
            " [2 3]\n",
            " [3 0]\n",
            " [3 1]\n",
            " [3 2]\n",
            " [3 3]]\n"
          ]
        }
      ],
      "source": [
        "# find the indices of the elements on conditions\n",
        "print(np.argwhere(arr>5))"
      ]
    },
    {
      "cell_type": "markdown",
      "metadata": {
        "id": "0qOcZ-pEW1j9"
      },
      "source": [
        "# 6. Sort an Array"
      ]
    },
    {
      "cell_type": "code",
      "execution_count": 115,
      "metadata": {
        "id": "jWIhOf57W1j-"
      },
      "outputs": [],
      "source": [
        "arr = np.random.rand(5,5)"
      ]
    },
    {
      "cell_type": "markdown",
      "metadata": {
        "id": "mGWsQN3HW1j-"
      },
      "source": [
        "### sort an array along a specified axis"
      ]
    },
    {
      "cell_type": "code",
      "execution_count": 116,
      "metadata": {
        "colab": {
          "base_uri": "https://localhost:8080/"
        },
        "id": "GYLBRCDaW1j-",
        "outputId": "50a14a6b-fee3-490e-afb7-ddd74bc8ea31"
      },
      "outputs": [
        {
          "output_type": "stream",
          "name": "stdout",
          "text": [
            "[[0.11702945 0.17913374 0.06753657 0.02945699 0.05396756]\n",
            " [0.13630925 0.18249983 0.41165849 0.12910116 0.31981183]\n",
            " [0.36056504 0.51866089 0.42053876 0.56232065 0.37163583]\n",
            " [0.44498496 0.62847058 0.42945962 0.70682921 0.43148605]\n",
            " [0.7740198  0.74238635 0.55147061 0.86890785 0.75572196]]\n"
          ]
        }
      ],
      "source": [
        "# sort along the row and return a copy\n",
        "print(np.sort(arr, axis=0))   "
      ]
    },
    {
      "cell_type": "code",
      "execution_count": 117,
      "metadata": {
        "colab": {
          "base_uri": "https://localhost:8080/"
        },
        "id": "W-R5CAMMW1j-",
        "outputId": "d8aef80e-e9db-44fe-83fe-8efa0db21a9e"
      },
      "outputs": [
        {
          "output_type": "stream",
          "name": "stdout",
          "text": [
            "[[0.11702945 0.17913374 0.06753657 0.02945699 0.05396756]\n",
            " [0.13630925 0.18249983 0.41165849 0.12910116 0.31981183]\n",
            " [0.36056504 0.51866089 0.42053876 0.56232065 0.37163583]\n",
            " [0.44498496 0.62847058 0.42945962 0.70682921 0.43148605]\n",
            " [0.7740198  0.74238635 0.55147061 0.86890785 0.75572196]]\n"
          ]
        }
      ],
      "source": [
        "# sort along the row in place\n",
        "arr.sort(axis=0)\n",
        "print(arr)"
      ]
    },
    {
      "cell_type": "code",
      "execution_count": 118,
      "metadata": {
        "colab": {
          "base_uri": "https://localhost:8080/"
        },
        "id": "yZsnW7rOW1j_",
        "outputId": "9604461e-8937-439a-db1a-7d796f001782"
      },
      "outputs": [
        {
          "output_type": "stream",
          "name": "stdout",
          "text": [
            "[[0.02945699 0.05396756 0.06753657 0.11702945 0.17913374]\n",
            " [0.12910116 0.13630925 0.18249983 0.31981183 0.41165849]\n",
            " [0.36056504 0.37163583 0.42053876 0.51866089 0.56232065]\n",
            " [0.42945962 0.43148605 0.44498496 0.62847058 0.70682921]\n",
            " [0.55147061 0.74238635 0.75572196 0.7740198  0.86890785]]\n"
          ]
        }
      ],
      "source": [
        "# sort along the column and return a copy\n",
        "print(np.sort(arr, axis=1))    "
      ]
    },
    {
      "cell_type": "code",
      "execution_count": 119,
      "metadata": {
        "colab": {
          "base_uri": "https://localhost:8080/"
        },
        "id": "bWZ68eH6W1j_",
        "outputId": "9d297882-38b8-4377-f219-d3bfe2d4d9de"
      },
      "outputs": [
        {
          "output_type": "stream",
          "name": "stdout",
          "text": [
            "[[0.02945699 0.05396756 0.06753657 0.11702945 0.17913374]\n",
            " [0.12910116 0.13630925 0.18249983 0.31981183 0.41165849]\n",
            " [0.36056504 0.37163583 0.42053876 0.51866089 0.56232065]\n",
            " [0.42945962 0.43148605 0.44498496 0.62847058 0.70682921]\n",
            " [0.55147061 0.74238635 0.75572196 0.7740198  0.86890785]]\n"
          ]
        }
      ],
      "source": [
        "# sort along the column in place\n",
        "arr.sort(axis=1)    \n",
        "print(arr)"
      ]
    },
    {
      "cell_type": "markdown",
      "metadata": {
        "id": "xLbbkF7YW1j_"
      },
      "source": [
        "### compute the indices that would sort an array along a specified axis"
      ]
    },
    {
      "cell_type": "code",
      "execution_count": 120,
      "metadata": {
        "id": "3Dbjq2jZW1kA"
      },
      "outputs": [],
      "source": [
        "arr = np.random.rand(5,5)"
      ]
    },
    {
      "cell_type": "code",
      "execution_count": 121,
      "metadata": {
        "colab": {
          "base_uri": "https://localhost:8080/"
        },
        "id": "SITE5vPpW1kA",
        "outputId": "60f0cfea-836b-4edd-ef91-08675ef08e29"
      },
      "outputs": [
        {
          "output_type": "stream",
          "name": "stdout",
          "text": [
            "[[1 0 0 4 3]\n",
            " [3 2 2 1 0]\n",
            " [4 4 3 0 1]\n",
            " [2 1 1 2 4]\n",
            " [0 3 4 3 2]]\n"
          ]
        }
      ],
      "source": [
        "# along the row\n",
        "print(np.argsort(arr, axis=0))"
      ]
    },
    {
      "cell_type": "code",
      "execution_count": 122,
      "metadata": {
        "colab": {
          "base_uri": "https://localhost:8080/"
        },
        "id": "7CcoG1HaW1kA",
        "outputId": "4a8a014b-52bf-46ed-826f-e495a97ec251"
      },
      "outputs": [
        {
          "output_type": "stream",
          "name": "stdout",
          "text": [
            "[[1 2 4 3 0]\n",
            " [0 3 1 4 2]\n",
            " [1 2 0 3 4]\n",
            " [0 4 2 1 3]\n",
            " [3 0 1 4 2]]\n"
          ]
        }
      ],
      "source": [
        "# along the column\n",
        "print(np.argsort(arr, axis=1))"
      ]
    },
    {
      "cell_type": "code",
      "execution_count": 123,
      "metadata": {
        "colab": {
          "base_uri": "https://localhost:8080/"
        },
        "id": "89cH8jAKW1kB",
        "outputId": "a688c6c4-00b8-4543-fb69-256cb163945f"
      },
      "outputs": [
        {
          "output_type": "stream",
          "name": "stdout",
          "text": [
            "[ 5 23  1 15  2 20 19 11  8 12 17  4  3 21  6  9 24 10 16 13 14  7 22 18\n",
            "  0]\n"
          ]
        }
      ],
      "source": [
        "# if axis=None, return the indices of a flattened array\n",
        "print(np.argsort(arr, axis=None))"
      ]
    },
    {
      "cell_type": "code",
      "execution_count": 124,
      "metadata": {
        "id": "R1hMBV1UW1kB"
      },
      "outputs": [],
      "source": [
        "arr = np.random.rand(3,4)"
      ]
    },
    {
      "cell_type": "markdown",
      "metadata": {
        "id": "7GaVp7_pW1kC"
      },
      "source": [
        "# 7. Manipulate an Array"
      ]
    },
    {
      "cell_type": "markdown",
      "metadata": {
        "id": "blGY3aOSW1kC"
      },
      "source": [
        "### transpose an array"
      ]
    },
    {
      "cell_type": "code",
      "execution_count": 125,
      "metadata": {
        "colab": {
          "base_uri": "https://localhost:8080/"
        },
        "id": "9Ksd8cs9W1kC",
        "outputId": "0da264c0-c715-437f-8ba4-421e085be6d6"
      },
      "outputs": [
        {
          "output_type": "stream",
          "name": "stdout",
          "text": [
            "[[0.80614361 0.61240133 0.73322903]\n",
            " [0.86728799 0.65205696 0.13585084]\n",
            " [0.08910079 0.05760322 0.56708195]\n",
            " [0.67553447 0.38582245 0.02315444]]\n",
            "[[0.80614361 0.61240133 0.73322903]\n",
            " [0.86728799 0.65205696 0.13585084]\n",
            " [0.08910079 0.05760322 0.56708195]\n",
            " [0.67553447 0.38582245 0.02315444]]\n",
            "[[0.80614361 0.61240133 0.73322903]\n",
            " [0.86728799 0.65205696 0.13585084]\n",
            " [0.08910079 0.05760322 0.56708195]\n",
            " [0.67553447 0.38582245 0.02315444]]\n"
          ]
        }
      ],
      "source": [
        "# the following methods return a copy\n",
        "print(arr.T)\n",
        "# or \n",
        "print(np.transpose(arr))\n",
        "# or\n",
        "print(arr.transpose())"
      ]
    },
    {
      "cell_type": "markdown",
      "metadata": {
        "id": "_2i8TKsSW1kD"
      },
      "source": [
        "### transpose of a high dimensional array with specified order of axes"
      ]
    },
    {
      "cell_type": "code",
      "execution_count": 126,
      "metadata": {
        "colab": {
          "base_uri": "https://localhost:8080/"
        },
        "id": "_ReGU_sUW1kD",
        "outputId": "cd390af1-9f55-4679-97c1-5c2f5e86f4fd"
      },
      "outputs": [
        {
          "output_type": "stream",
          "name": "stdout",
          "text": [
            "[[[ 0  1  2  3]\n",
            "  [ 4  5  6  7]]\n",
            "\n",
            " [[ 8  9 10 11]\n",
            "  [12 13 14 15]]]\n",
            "[[[ 0  1  2  3]\n",
            "  [ 4  5  6  7]]\n",
            "\n",
            " [[ 8  9 10 11]\n",
            "  [12 13 14 15]]]\n"
          ]
        }
      ],
      "source": [
        "arr1 = np.arange(16).reshape((2,2,4))\n",
        "print(arr1)\n",
        "\n",
        "arr1.transpose((1,0,2))\n",
        "print(arr1)"
      ]
    },
    {
      "cell_type": "markdown",
      "metadata": {
        "id": "Z_NXxTIjW1kD"
      },
      "source": [
        "### swap axes"
      ]
    },
    {
      "cell_type": "code",
      "execution_count": 127,
      "metadata": {
        "colab": {
          "base_uri": "https://localhost:8080/"
        },
        "id": "CrKXssoJW1kD",
        "outputId": "fb5e10f2-9bbb-4a62-a6b9-efbf3a07c255"
      },
      "outputs": [
        {
          "output_type": "stream",
          "name": "stdout",
          "text": [
            "[[[ 0  4]\n",
            "  [ 1  5]\n",
            "  [ 2  6]\n",
            "  [ 3  7]]\n",
            "\n",
            " [[ 8 12]\n",
            "  [ 9 13]\n",
            "  [10 14]\n",
            "  [11 15]]]\n"
          ]
        }
      ],
      "source": [
        "arr1 = np.arange(16).reshape((2,2,4))\n",
        "print(arr1.swapaxes(1,2))"
      ]
    },
    {
      "cell_type": "markdown",
      "metadata": {
        "id": "xbqBGX8nW1kE"
      },
      "source": [
        "### change the shape of an array"
      ]
    },
    {
      "cell_type": "code",
      "execution_count": 128,
      "metadata": {
        "colab": {
          "base_uri": "https://localhost:8080/"
        },
        "id": "i8ATgRocW1kE",
        "outputId": "93658220-0a4d-4fe9-8b8f-594a1ce3e314"
      },
      "outputs": [
        {
          "output_type": "execute_result",
          "data": {
            "text/plain": [
              "array([[0.80614361, 0.86728799, 0.08910079, 0.67553447, 0.61240133,\n",
              "        0.65205696],\n",
              "       [0.05760322, 0.38582245, 0.73322903, 0.13585084, 0.56708195,\n",
              "        0.02315444]])"
            ]
          },
          "metadata": {},
          "execution_count": 128
        }
      ],
      "source": [
        "# change the shape of an array and return a copy\n",
        "arr.reshape((2,6))"
      ]
    },
    {
      "cell_type": "code",
      "execution_count": 129,
      "metadata": {
        "id": "iB_3OvdiW1kE"
      },
      "outputs": [],
      "source": [
        "# change the shape of an array in place\n",
        "arr.resize((2,6))"
      ]
    },
    {
      "cell_type": "markdown",
      "metadata": {
        "id": "lkVsaYvEW1kF"
      },
      "source": [
        "### flatten an array"
      ]
    },
    {
      "cell_type": "code",
      "execution_count": 130,
      "metadata": {
        "colab": {
          "base_uri": "https://localhost:8080/"
        },
        "id": "0XCVr5XJW1kF",
        "outputId": "6c7d478c-cc72-460e-e002-cbe80388f9e7"
      },
      "outputs": [
        {
          "output_type": "execute_result",
          "data": {
            "text/plain": [
              "array([0.80614361, 0.86728799, 0.08910079, 0.67553447, 0.61240133,\n",
              "       0.65205696, 0.05760322, 0.38582245, 0.73322903, 0.13585084,\n",
              "       0.56708195, 0.02315444])"
            ]
          },
          "metadata": {},
          "execution_count": 130
        }
      ],
      "source": [
        "# return a copy\n",
        "arr.flatten()    "
      ]
    },
    {
      "cell_type": "code",
      "execution_count": 131,
      "metadata": {
        "colab": {
          "base_uri": "https://localhost:8080/"
        },
        "id": "fArZCqF8W1kF",
        "outputId": "22dbd0e5-9ef0-4cb9-94ff-a28d21bd7392"
      },
      "outputs": [
        {
          "output_type": "execute_result",
          "data": {
            "text/plain": [
              "array([0.80614361, 0.86728799, 0.08910079, 0.67553447, 0.61240133,\n",
              "       0.65205696, 0.05760322, 0.38582245, 0.73322903, 0.13585084,\n",
              "       0.56708195, 0.02315444])"
            ]
          },
          "metadata": {},
          "execution_count": 131
        }
      ],
      "source": [
        "# return a view\n",
        "# change any element in the view will change the initial array\n",
        "arr.ravel()      "
      ]
    },
    {
      "cell_type": "markdown",
      "metadata": {
        "id": "vpUcVlU1W1kF"
      },
      "source": [
        "### append elements to an array"
      ]
    },
    {
      "cell_type": "code",
      "execution_count": 132,
      "metadata": {
        "id": "MziLewnVW1kG"
      },
      "outputs": [],
      "source": [
        "arr = np.array([1,2,3])"
      ]
    },
    {
      "cell_type": "code",
      "execution_count": 133,
      "metadata": {
        "colab": {
          "base_uri": "https://localhost:8080/"
        },
        "id": "v5nJmmmdW1kG",
        "outputId": "73df10a4-3145-4e7c-e354-1af6bb8055ca"
      },
      "outputs": [
        {
          "output_type": "stream",
          "name": "stdout",
          "text": [
            "[1 2 3 4]\n"
          ]
        }
      ],
      "source": [
        "# append a scalar and return a copy\n",
        "arr1 = np.append(arr, 4)    \n",
        "print(arr1)"
      ]
    },
    {
      "cell_type": "code",
      "execution_count": 134,
      "metadata": {
        "colab": {
          "base_uri": "https://localhost:8080/"
        },
        "id": "YVVGXaj9W1kG",
        "outputId": "ddd4a355-48e5-4354-856c-4805e6728b85"
      },
      "outputs": [
        {
          "output_type": "stream",
          "name": "stdout",
          "text": [
            "[1 2 3 4 5 6]\n"
          ]
        }
      ],
      "source": [
        "# append an array and return a copy\n",
        "arr2 = np.append(arr, [4,5,6])    \n",
        "print(arr2)"
      ]
    },
    {
      "cell_type": "markdown",
      "metadata": {
        "id": "_TxDw5mKW1kG"
      },
      "source": [
        "### insert elements into an array"
      ]
    },
    {
      "cell_type": "code",
      "execution_count": 135,
      "metadata": {
        "colab": {
          "base_uri": "https://localhost:8080/"
        },
        "id": "dhGcbNBMW1kH",
        "outputId": "a8c34a24-137e-4f9d-cdf8-e897ccbce908"
      },
      "outputs": [
        {
          "output_type": "stream",
          "name": "stdout",
          "text": [
            "[100   1   2   3]\n"
          ]
        }
      ],
      "source": [
        "# np.insert(array, position, element)\n",
        "\n",
        "# insert a scalar at a certain position\n",
        "arr3 = np.insert(arr, 0, 100)    \n",
        "print(arr3)"
      ]
    },
    {
      "cell_type": "code",
      "execution_count": 136,
      "metadata": {
        "colab": {
          "base_uri": "https://localhost:8080/"
        },
        "id": "fg6SFFegW1kH",
        "outputId": "4df36cf0-4833-495f-a58f-f0eb7aab2d35"
      },
      "outputs": [
        {
          "output_type": "stream",
          "name": "stdout",
          "text": [
            "[1 2 3 1 2 3]\n"
          ]
        }
      ],
      "source": [
        "# insert multiple values at a certain position\n",
        "arr3 = np.insert(arr, 0, [1,2,3])    \n",
        "print(arr3)"
      ]
    },
    {
      "cell_type": "markdown",
      "metadata": {
        "id": "y66PdVs-W1kH"
      },
      "source": [
        "### delete elements from an array"
      ]
    },
    {
      "cell_type": "code",
      "execution_count": 137,
      "metadata": {
        "colab": {
          "base_uri": "https://localhost:8080/"
        },
        "id": "-q2mtlPnW1kH",
        "outputId": "53d40c7d-3ca2-4c25-a416-b1d3a588bbd2"
      },
      "outputs": [
        {
          "output_type": "stream",
          "name": "stdout",
          "text": [
            "[2 3]\n"
          ]
        }
      ],
      "source": [
        "# remove the element at position 0\n",
        "arr4 = np.delete(arr, 0)    \n",
        "print(arr4)"
      ]
    },
    {
      "cell_type": "code",
      "execution_count": 138,
      "metadata": {
        "colab": {
          "base_uri": "https://localhost:8080/"
        },
        "id": "e13L2_zUW1kI",
        "outputId": "f03a19b1-bddc-4e3d-d6c3-cdeb90a98234"
      },
      "outputs": [
        {
          "output_type": "stream",
          "name": "stdout",
          "text": [
            "[2]\n"
          ]
        }
      ],
      "source": [
        "# remove the element at multiple positions\n",
        "arr4 = np.delete(arr, [0,2])    \n",
        "print(arr4)"
      ]
    },
    {
      "cell_type": "markdown",
      "metadata": {
        "id": "L-5-kgXEW1kI"
      },
      "source": [
        "### copy an array"
      ]
    },
    {
      "cell_type": "code",
      "execution_count": 139,
      "metadata": {
        "id": "lDMN4oqiW1kI"
      },
      "outputs": [],
      "source": [
        "arr = np.array([1,2,3])"
      ]
    },
    {
      "cell_type": "code",
      "execution_count": 140,
      "metadata": {
        "id": "jJQP15ItW1kJ"
      },
      "outputs": [],
      "source": [
        "# the following methods are all deep copy\n",
        "arr1 = np.copy(arr)\n",
        "# or \n",
        "arr1 = arr.copy()\n",
        "# or \n",
        "arr1 = np.array(arr, copy=True)"
      ]
    },
    {
      "cell_type": "markdown",
      "metadata": {
        "id": "UesHyc8tW1kJ"
      },
      "source": [
        "# 8. Combine & Split an Array"
      ]
    },
    {
      "cell_type": "code",
      "execution_count": 141,
      "metadata": {
        "id": "BF_6Cl75W1kJ"
      },
      "outputs": [],
      "source": [
        "arr1 = np.array([[1,2,3,4], [1,2,3,4]])\n",
        "arr2 = np.array([[5,6,7,8], [5,6,7,8]])"
      ]
    },
    {
      "cell_type": "markdown",
      "metadata": {
        "id": "1eQqPjYlW1kJ"
      },
      "source": [
        "### ```np.concatenate((a, b), axis=0)```"
      ]
    },
    {
      "cell_type": "code",
      "execution_count": 142,
      "metadata": {
        "colab": {
          "base_uri": "https://localhost:8080/"
        },
        "id": "g0EVe2uTW1kJ",
        "outputId": "351bd6aa-89e7-4708-8953-77b0c94bd0bf"
      },
      "outputs": [
        {
          "output_type": "stream",
          "name": "stdout",
          "text": [
            "[[1 2 3 4]\n",
            " [1 2 3 4]\n",
            " [5 6 7 8]\n",
            " [5 6 7 8]]\n"
          ]
        }
      ],
      "source": [
        "# concat along the row\n",
        "cat = np.concatenate((arr1, arr2), axis=0)        \n",
        "print(cat)"
      ]
    },
    {
      "cell_type": "code",
      "execution_count": 143,
      "metadata": {
        "colab": {
          "base_uri": "https://localhost:8080/"
        },
        "id": "vG_GDPK3W1kK",
        "outputId": "c1cb9337-b406-4d80-8449-8630a0640297"
      },
      "outputs": [
        {
          "output_type": "stream",
          "name": "stdout",
          "text": [
            "[[1 2 3 4 5 6 7 8]\n",
            " [1 2 3 4 5 6 7 8]]\n"
          ]
        }
      ],
      "source": [
        "# concat along the column\n",
        "cat = np.concatenate((arr1, arr2), axis=1)    \n",
        "print(cat)"
      ]
    },
    {
      "cell_type": "markdown",
      "metadata": {
        "id": "I9HTSDhpW1kK"
      },
      "source": [
        "### ```np.vstack((a, b))``` \n",
        "### ```np.r_[a, b]```"
      ]
    },
    {
      "cell_type": "code",
      "execution_count": 144,
      "metadata": {
        "colab": {
          "base_uri": "https://localhost:8080/"
        },
        "id": "xb3-F_yJW1kK",
        "outputId": "b3bd69a2-eaa5-4d3d-a607-c2e2a9a207ca"
      },
      "outputs": [
        {
          "output_type": "stream",
          "name": "stdout",
          "text": [
            "[[1 2 3 4]\n",
            " [1 2 3 4]\n",
            " [5 6 7 8]\n",
            " [5 6 7 8]]\n"
          ]
        }
      ],
      "source": [
        "# stack arrays vertically\n",
        "cat = np.vstack((arr1, arr2))\n",
        "print(cat)"
      ]
    },
    {
      "cell_type": "code",
      "execution_count": 145,
      "metadata": {
        "colab": {
          "base_uri": "https://localhost:8080/"
        },
        "id": "OW74bBlUW1kL",
        "outputId": "6b7bdba0-1ffd-4d78-9eb7-92775476b881"
      },
      "outputs": [
        {
          "output_type": "stream",
          "name": "stdout",
          "text": [
            "[[1 2 3 4]\n",
            " [1 2 3 4]\n",
            " [5 6 7 8]\n",
            " [5 6 7 8]]\n"
          ]
        }
      ],
      "source": [
        "# stack arrays vertically\n",
        "cat = np.r_[arr1, arr2]\n",
        "print(cat)"
      ]
    },
    {
      "cell_type": "markdown",
      "metadata": {
        "id": "T9mR26vJW1kL"
      },
      "source": [
        "### ```np.hstack((a, b))```\n",
        "### ```np.c_[a, b]```"
      ]
    },
    {
      "cell_type": "code",
      "execution_count": 146,
      "metadata": {
        "colab": {
          "base_uri": "https://localhost:8080/"
        },
        "id": "w74C6_oxW1kL",
        "outputId": "d4b5fc78-43be-44a2-8145-3779f1d2aaea"
      },
      "outputs": [
        {
          "output_type": "stream",
          "name": "stdout",
          "text": [
            "[[1 2 3 4 5 6 7 8]\n",
            " [1 2 3 4 5 6 7 8]]\n"
          ]
        }
      ],
      "source": [
        "# stack arrays horizontally\n",
        "cat = np.hstack((arr1, arr2))\n",
        "print(cat)"
      ]
    },
    {
      "cell_type": "code",
      "execution_count": 147,
      "metadata": {
        "colab": {
          "base_uri": "https://localhost:8080/"
        },
        "id": "YxO1K1UCW1kL",
        "outputId": "7c7f1c5f-942a-4b5f-bea4-4dbd66a8ea07"
      },
      "outputs": [
        {
          "output_type": "stream",
          "name": "stdout",
          "text": [
            "[[1 2 3 4 5 6 7 8]\n",
            " [1 2 3 4 5 6 7 8]]\n"
          ]
        }
      ],
      "source": [
        "# stack arrays horizontally\n",
        "cat = np.c_[arr1, arr2]\n",
        "print(cat)"
      ]
    },
    {
      "cell_type": "markdown",
      "metadata": {
        "id": "0wReLAO2W1kM"
      },
      "source": [
        "### split an array "
      ]
    },
    {
      "cell_type": "code",
      "execution_count": 148,
      "metadata": {
        "id": "X8IZ8AF0W1kM"
      },
      "outputs": [],
      "source": [
        "arr = np.random.rand(6,6)"
      ]
    },
    {
      "cell_type": "code",
      "execution_count": 149,
      "metadata": {
        "colab": {
          "base_uri": "https://localhost:8080/"
        },
        "id": "4VKsmKO9W1kM",
        "outputId": "ee0a96aa-ac89-44a8-f550-a822c434ce2e"
      },
      "outputs": [
        {
          "output_type": "stream",
          "name": "stdout",
          "text": [
            "[array([[0.0174567 , 0.47275939, 0.84410265, 0.88709809, 0.30063103,\n",
            "        0.938766  ],\n",
            "       [0.58832418, 0.09871477, 0.09634253, 0.56561105, 0.75673868,\n",
            "        0.13910753],\n",
            "       [0.37247418, 0.98843246, 0.90281137, 0.35097407, 0.48843214,\n",
            "        0.60597433]]), array([[0.00713459, 0.06267544, 0.65672272, 0.15912001, 0.91006063,\n",
            "        0.3950984 ],\n",
            "       [0.46940726, 0.60966449, 0.82131635, 0.48112601, 0.24688737,\n",
            "        0.40234706],\n",
            "       [0.20452672, 0.77063506, 0.11895435, 0.98447605, 0.25656521,\n",
            "        0.39604327]])]\n"
          ]
        }
      ],
      "source": [
        "# split the array vertically into n evenly spaced chunks\n",
        "arr1 = np.vsplit(arr, 2)\n",
        "print(arr1)"
      ]
    },
    {
      "cell_type": "code",
      "execution_count": 150,
      "metadata": {
        "colab": {
          "base_uri": "https://localhost:8080/"
        },
        "id": "z-UC_BiPW1kN",
        "outputId": "776ff300-ad96-476f-f8e5-06cb1c31ca41"
      },
      "outputs": [
        {
          "output_type": "stream",
          "name": "stdout",
          "text": [
            "[array([[0.0174567 , 0.47275939, 0.84410265],\n",
            "       [0.58832418, 0.09871477, 0.09634253],\n",
            "       [0.37247418, 0.98843246, 0.90281137],\n",
            "       [0.00713459, 0.06267544, 0.65672272],\n",
            "       [0.46940726, 0.60966449, 0.82131635],\n",
            "       [0.20452672, 0.77063506, 0.11895435]]), array([[0.88709809, 0.30063103, 0.938766  ],\n",
            "       [0.56561105, 0.75673868, 0.13910753],\n",
            "       [0.35097407, 0.48843214, 0.60597433],\n",
            "       [0.15912001, 0.91006063, 0.3950984 ],\n",
            "       [0.48112601, 0.24688737, 0.40234706],\n",
            "       [0.98447605, 0.25656521, 0.39604327]])]\n"
          ]
        }
      ],
      "source": [
        "# split the array horizontally into n evenly spaced chunks\n",
        "arr2 = np.hsplit(arr, 2)\n",
        "print(arr2)"
      ]
    },
    {
      "cell_type": "markdown",
      "metadata": {
        "id": "ayqft2DAW1kN"
      },
      "source": [
        "# 9. Set Operations"
      ]
    },
    {
      "cell_type": "markdown",
      "metadata": {
        "id": "CscypfrjW1kN"
      },
      "source": [
        "### select the unique elements from an array"
      ]
    },
    {
      "cell_type": "code",
      "execution_count": 151,
      "metadata": {
        "colab": {
          "base_uri": "https://localhost:8080/"
        },
        "id": "C7kzdsKCW1kN",
        "outputId": "a52961ab-f96b-4407-f35c-f83f9eb36979"
      },
      "outputs": [
        {
          "output_type": "stream",
          "name": "stdout",
          "text": [
            "[1 2 3 4 5 6]\n"
          ]
        }
      ],
      "source": [
        "arr = np.array([1,1,2,2,3,3,4,5,6])\n",
        "print(np.unique(arr))"
      ]
    },
    {
      "cell_type": "code",
      "execution_count": 152,
      "metadata": {
        "colab": {
          "base_uri": "https://localhost:8080/"
        },
        "id": "6yhMTNJmW1kO",
        "outputId": "78fbf206-1af6-44bd-d0b1-cdbbe3e309a7"
      },
      "outputs": [
        {
          "output_type": "stream",
          "name": "stdout",
          "text": [
            "[1 2 3 4 5 6]\n",
            "[2 2 2 1 1 1]\n"
          ]
        }
      ],
      "source": [
        "# return the number of times each unique item appears\n",
        "arr = np.array([1,1,2,2,3,3,4,5,6])\n",
        "uniques, counts = np.unique(arr, return_counts=True)\n",
        "print(uniques)\n",
        "print(counts)"
      ]
    },
    {
      "cell_type": "markdown",
      "metadata": {
        "id": "r8gOw-qwW1kO"
      },
      "source": [
        "### compute the intersection & union of two arrays"
      ]
    },
    {
      "cell_type": "code",
      "execution_count": 153,
      "metadata": {
        "id": "flv7XEdrW1kO"
      },
      "outputs": [],
      "source": [
        "arr1 = np.array([1,2,3,4,5])\n",
        "arr2 = np.array([3,4,5,6,7])"
      ]
    },
    {
      "cell_type": "code",
      "execution_count": 154,
      "metadata": {
        "colab": {
          "base_uri": "https://localhost:8080/"
        },
        "id": "Ke6LC2VBW1kO",
        "outputId": "14477058-66a2-4335-e52d-2bd3f671acb8"
      },
      "outputs": [
        {
          "output_type": "stream",
          "name": "stdout",
          "text": [
            "[3 4 5]\n"
          ]
        }
      ],
      "source": [
        "# intersection\n",
        "print(np.intersect1d(arr1, arr2))"
      ]
    },
    {
      "cell_type": "code",
      "execution_count": 155,
      "metadata": {
        "colab": {
          "base_uri": "https://localhost:8080/"
        },
        "id": "ANZV3LBXW1kP",
        "outputId": "bf771bb5-9de8-4ee2-83bd-555260a32e51"
      },
      "outputs": [
        {
          "output_type": "stream",
          "name": "stdout",
          "text": [
            "[1 2 3 4 5 6 7]\n"
          ]
        }
      ],
      "source": [
        "# union\n",
        "print(np.union1d(arr1, arr2))"
      ]
    },
    {
      "cell_type": "markdown",
      "metadata": {
        "id": "SSCJ5YhCW1kP"
      },
      "source": [
        "### compute whether each element of an array is contained in another"
      ]
    },
    {
      "cell_type": "code",
      "execution_count": 156,
      "metadata": {
        "colab": {
          "base_uri": "https://localhost:8080/"
        },
        "id": "abQ91B1gW1kP",
        "outputId": "4e5cf735-f5c1-4c0b-f5c6-3fb16dcba9b2"
      },
      "outputs": [
        {
          "output_type": "stream",
          "name": "stdout",
          "text": [
            "[False False  True  True  True]\n"
          ]
        }
      ],
      "source": [
        "print(np.in1d(arr1, arr2))"
      ]
    },
    {
      "cell_type": "code",
      "execution_count": 157,
      "metadata": {
        "colab": {
          "base_uri": "https://localhost:8080/"
        },
        "id": "IRqf-a2uW1kQ",
        "outputId": "f066f794-34b7-4cc1-ee03-a2c15190749b"
      },
      "outputs": [
        {
          "output_type": "stream",
          "name": "stdout",
          "text": [
            "[False False  True  True  True]\n"
          ]
        }
      ],
      "source": [
        "# preserve the shape of the array in the output, if the array is of higher dimensions\n",
        "print(np.isin(arr1, arr2))"
      ]
    },
    {
      "cell_type": "markdown",
      "metadata": {
        "id": "hE7FBAsvW1kQ"
      },
      "source": [
        "### compute the elements in an array that are not in another"
      ]
    },
    {
      "cell_type": "code",
      "execution_count": 158,
      "metadata": {
        "colab": {
          "base_uri": "https://localhost:8080/"
        },
        "id": "qiychYEpW1kQ",
        "outputId": "4817cce2-04f3-4822-b9e5-8e55b1e3904c"
      },
      "outputs": [
        {
          "output_type": "stream",
          "name": "stdout",
          "text": [
            "[1 2]\n"
          ]
        }
      ],
      "source": [
        "print(np.setdiff1d(arr1, arr2))"
      ]
    },
    {
      "cell_type": "markdown",
      "metadata": {
        "id": "C5_CQegaW1kQ"
      },
      "source": [
        "### compute the elements in either of two arrays, but not both"
      ]
    },
    {
      "cell_type": "code",
      "execution_count": 159,
      "metadata": {
        "colab": {
          "base_uri": "https://localhost:8080/"
        },
        "id": "ENEkHkHLW1kR",
        "outputId": "b7eb7998-2440-4c81-c6f6-4545bbb10fb6"
      },
      "outputs": [
        {
          "output_type": "stream",
          "name": "stdout",
          "text": [
            "[1 2 6 7]\n"
          ]
        }
      ],
      "source": [
        "print(np.setxor1d(arr1, arr2))"
      ]
    },
    {
      "cell_type": "markdown",
      "metadata": {
        "id": "u70jWquyW1kR"
      },
      "source": [
        "# 10. Linear Algebra"
      ]
    },
    {
      "cell_type": "code",
      "execution_count": 160,
      "metadata": {
        "id": "1WJOirvSW1kR"
      },
      "outputs": [],
      "source": [
        "arr1 = np.random.rand(5,5)\n",
        "arr2 = np.random.rand(5,5)"
      ]
    },
    {
      "cell_type": "markdown",
      "metadata": {
        "id": "Ihn6C2msW1kR"
      },
      "source": [
        "### matrix multiplication"
      ]
    },
    {
      "cell_type": "code",
      "execution_count": 161,
      "metadata": {
        "colab": {
          "base_uri": "https://localhost:8080/"
        },
        "id": "igsiVAN1W1kS",
        "outputId": "9a23b909-0b18-425e-a18d-90f65701360f"
      },
      "outputs": [
        {
          "output_type": "stream",
          "name": "stdout",
          "text": [
            "[[2.51623511 2.86218675 2.46149074 2.04223873 1.68511463]\n",
            " [0.97887139 1.12545821 1.08799709 0.91490076 0.71161775]\n",
            " [1.76553731 2.31931894 1.70683443 1.69936475 1.24178866]\n",
            " [1.16873119 1.51462574 1.20311322 1.18600669 0.82424827]\n",
            " [1.15498347 1.31753805 1.11707168 0.8826558  0.70418125]]\n",
            "[[2.51623511 2.86218675 2.46149074 2.04223873 1.68511463]\n",
            " [0.97887139 1.12545821 1.08799709 0.91490076 0.71161775]\n",
            " [1.76553731 2.31931894 1.70683443 1.69936475 1.24178866]\n",
            " [1.16873119 1.51462574 1.20311322 1.18600669 0.82424827]\n",
            " [1.15498347 1.31753805 1.11707168 0.8826558  0.70418125]]\n",
            "[[2.51623511 2.86218675 2.46149074 2.04223873 1.68511463]\n",
            " [0.97887139 1.12545821 1.08799709 0.91490076 0.71161775]\n",
            " [1.76553731 2.31931894 1.70683443 1.69936475 1.24178866]\n",
            " [1.16873119 1.51462574 1.20311322 1.18600669 0.82424827]\n",
            " [1.15498347 1.31753805 1.11707168 0.8826558  0.70418125]]\n"
          ]
        }
      ],
      "source": [
        "print(arr1.dot(arr2))\n",
        "# or\n",
        "print(np.dot(arr1, arr2))\n",
        "# or\n",
        "print(arr1 @ arr2)"
      ]
    },
    {
      "cell_type": "markdown",
      "metadata": {
        "id": "mRcWuxhTW1kS"
      },
      "source": [
        "### QR factorization "
      ]
    },
    {
      "cell_type": "code",
      "execution_count": 162,
      "metadata": {
        "colab": {
          "base_uri": "https://localhost:8080/"
        },
        "id": "BAhybtH3W1kS",
        "outputId": "1c9bdfa6-a43f-4814-9f76-1977abaab3b9"
      },
      "outputs": [
        {
          "output_type": "stream",
          "name": "stdout",
          "text": [
            "[[-0.4432654   0.32513554  0.61941338 -0.50166373  0.24992646]\n",
            " [-0.53313979 -0.84083639  0.01631061 -0.07809998 -0.04889265]\n",
            " [-0.497832    0.2725315   0.2186724   0.71963447 -0.33496042]\n",
            " [-0.00757871  0.09648464 -0.05319421 -0.440347   -0.89100964]\n",
            " [-0.52094492  0.32202228 -0.75194002 -0.17451256  0.17043949]]\n",
            "[[-1.71197975 -1.721771   -0.91763767 -1.14596917 -1.48828016]\n",
            " [ 0.          0.18511396  0.15670431 -0.3105988  -0.02561779]\n",
            " [ 0.          0.         -0.56886488  0.09863229 -0.28981768]\n",
            " [ 0.          0.          0.         -0.31671114 -0.28469988]\n",
            " [ 0.          0.          0.          0.         -0.67088305]]\n"
          ]
        }
      ],
      "source": [
        "arr = np.random.rand(5,5)\n",
        "\n",
        "q, r = np.linalg.qr(arr)\n",
        "print(q)\n",
        "print(r)"
      ]
    },
    {
      "cell_type": "markdown",
      "metadata": {
        "id": "5Hkm8-uMW1kS"
      },
      "source": [
        "### singular value decomposition (SVD)"
      ]
    },
    {
      "cell_type": "code",
      "execution_count": 163,
      "metadata": {
        "colab": {
          "base_uri": "https://localhost:8080/"
        },
        "id": "eZclBAZrW1kT",
        "outputId": "f4616567-b19a-4c54-f779-27deeaf9f350"
      },
      "outputs": [
        {
          "output_type": "stream",
          "name": "stdout",
          "text": [
            "[[-0.31707494  0.50745837  0.27489595 -0.52708908 -0.53717669]\n",
            " [-0.467027   -0.43107604  0.5391023  -0.31541122  0.4538102 ]\n",
            " [-0.53255432  0.56212351 -0.33998784  0.16799359  0.50654662]\n",
            " [-0.34108705  0.00379167  0.4323183   0.76786776 -0.32729992]\n",
            " [-0.53046657 -0.49057337 -0.57559542 -0.06964278 -0.37654055]]\n",
            "[2.83737775 0.69055824 0.47487856 0.23943839 0.10871122]\n",
            "[[-0.42059018 -0.38307359 -0.21951733 -0.6476369  -0.45687757]\n",
            " [-0.63976954  0.71850762 -0.25227551  0.00271298  0.10388191]\n",
            " [ 0.20378291  0.23608185 -0.1886435   0.38886392 -0.84613023]\n",
            " [-0.40137463 -0.52295215 -0.41054126  0.61598638  0.13204589]\n",
            " [ 0.45953212  0.08824872 -0.82706633 -0.22339365  0.21702294]]\n"
          ]
        }
      ],
      "source": [
        "arr = np.random.rand(5,5)\n",
        "\n",
        "u, s, v = np.linalg.svd(arr)\n",
        "print(u)\n",
        "print(s)\n",
        "print(v)"
      ]
    },
    {
      "cell_type": "markdown",
      "metadata": {
        "id": "q-B5cdAjW1kT"
      },
      "source": [
        "### compute eigen values"
      ]
    },
    {
      "cell_type": "code",
      "execution_count": 164,
      "metadata": {
        "colab": {
          "base_uri": "https://localhost:8080/"
        },
        "id": "VK0rrZG3W1kT",
        "outputId": "16698e60-83a5-4304-d5a7-f50a522bb143"
      },
      "outputs": [
        {
          "output_type": "stream",
          "name": "stdout",
          "text": [
            "[ 2.85678022 -0.67311818  0.37430308  0.1524331  -0.07643027]\n"
          ]
        }
      ],
      "source": [
        "arr = np.random.rand(5,5)\n",
        "print(np.linalg.eigvals(arr))"
      ]
    },
    {
      "cell_type": "markdown",
      "metadata": {
        "id": "tlVcaGjSW1kU"
      },
      "source": [
        "### eigen value decomposition"
      ]
    },
    {
      "cell_type": "code",
      "execution_count": 165,
      "metadata": {
        "colab": {
          "base_uri": "https://localhost:8080/"
        },
        "id": "E1PCTyl1W1kU",
        "outputId": "7ce58942-5d6d-41b8-b545-fd9fc79204c1"
      },
      "outputs": [
        {
          "output_type": "stream",
          "name": "stdout",
          "text": [
            "[ 2.76395772+0.j          0.10174612+0.23654886j  0.10174612-0.23654886j\n",
            " -0.52935513+0.05320233j -0.52935513-0.05320233j]\n",
            "[[ 0.27758037+0.j         -0.55997738+0.j         -0.55997738-0.j\n",
            "   0.22379469-0.00692696j  0.22379469+0.00692696j]\n",
            " [ 0.45939229+0.j          0.17076292+0.34885444j  0.17076292-0.34885444j\n",
            "  -0.70496349+0.j         -0.70496349-0.j        ]\n",
            " [ 0.48172485+0.j          0.21554976-0.3991528j   0.21554976+0.3991528j\n",
            "   0.0228234 -0.0005529j   0.0228234 +0.0005529j ]\n",
            " [ 0.48237473+0.j          0.37310246-0.2373618j   0.37310246+0.2373618j\n",
            "   0.12243854-0.18721414j  0.12243854+0.18721414j]\n",
            " [ 0.49715556+0.j         -0.28133211+0.23470715j -0.28133211-0.23470715j\n",
            "   0.60718075+0.18347867j  0.60718075-0.18347867j]]\n"
          ]
        }
      ],
      "source": [
        "arr = np.random.rand(5,5)\n",
        "\n",
        "w, v = np.linalg.eig(arr)\n",
        "print(w)    # eigen values\n",
        "print(v)    # eigen vectors"
      ]
    },
    {
      "cell_type": "markdown",
      "metadata": {
        "id": "sqp5tMwJW1kU"
      },
      "source": [
        "### compute the trace & determinant"
      ]
    },
    {
      "cell_type": "code",
      "execution_count": 166,
      "metadata": {
        "colab": {
          "base_uri": "https://localhost:8080/"
        },
        "id": "KG_VAlvqW1kV",
        "outputId": "3b0cea2e-d6e4-409d-ec3f-db51c1f04d73"
      },
      "outputs": [
        {
          "output_type": "stream",
          "name": "stdout",
          "text": [
            "1.9087397083691204\n"
          ]
        }
      ],
      "source": [
        "# notice this is not a function in linalg!!!\n",
        "print(np.trace(arr))    "
      ]
    },
    {
      "cell_type": "code",
      "execution_count": 167,
      "metadata": {
        "colab": {
          "base_uri": "https://localhost:8080/"
        },
        "id": "2InBeiDDW1kV",
        "outputId": "0c5d9b1f-0f39-4923-d295-aa586afda926"
      },
      "outputs": [
        {
          "output_type": "stream",
          "name": "stdout",
          "text": [
            "0.05187451362412393\n"
          ]
        }
      ],
      "source": [
        "print(np.linalg.det(arr))"
      ]
    },
    {
      "cell_type": "markdown",
      "metadata": {
        "id": "3DfCIhOxW1kV"
      },
      "source": [
        "### calculate the inverse/psedo-inverse of a matrix"
      ]
    },
    {
      "cell_type": "code",
      "execution_count": 168,
      "metadata": {
        "id": "4sHp62mnW1kV"
      },
      "outputs": [],
      "source": [
        "arr = np.random.rand(5,5)"
      ]
    },
    {
      "cell_type": "code",
      "execution_count": 169,
      "metadata": {
        "colab": {
          "base_uri": "https://localhost:8080/"
        },
        "id": "wHm8BVgpW1kW",
        "outputId": "950f565d-d4be-4245-f78f-70c8158ab1ca"
      },
      "outputs": [
        {
          "output_type": "stream",
          "name": "stdout",
          "text": [
            "[[  2.37704915  -2.18278595  14.14976233 -17.3879446   -4.13238747]\n",
            " [ -2.65572368   2.85561316   6.39432678 -11.58940717   1.15627517]\n",
            " [ -0.64187733   2.8106897   11.3550277  -20.17896096  -0.58449384]\n",
            " [  4.52924162  -5.63978854  -0.64934041   4.47682269  -1.75308404]\n",
            " [ -2.16914098   1.49607223 -25.1450202   37.98516176   4.2574866 ]]\n"
          ]
        }
      ],
      "source": [
        "# compute the inverse of a matrix\n",
        "print(np.linalg.inv(arr))"
      ]
    },
    {
      "cell_type": "code",
      "execution_count": 170,
      "metadata": {
        "colab": {
          "base_uri": "https://localhost:8080/"
        },
        "id": "10daUML9W1kW",
        "outputId": "f1f91d9b-9447-4e52-b933-2d888d4bdd7c"
      },
      "outputs": [
        {
          "output_type": "stream",
          "name": "stdout",
          "text": [
            "[[  2.37704915  -2.18278595  14.14976233 -17.3879446   -4.13238747]\n",
            " [ -2.65572368   2.85561316   6.39432678 -11.58940717   1.15627517]\n",
            " [ -0.64187733   2.8106897   11.3550277  -20.17896096  -0.58449384]\n",
            " [  4.52924162  -5.63978854  -0.64934041   4.47682269  -1.75308404]\n",
            " [ -2.16914098   1.49607223 -25.1450202   37.98516176   4.2574866 ]]\n"
          ]
        }
      ],
      "source": [
        "# compute the psudo-inverse of a matrix\n",
        "print(np.linalg.pinv(arr))"
      ]
    },
    {
      "cell_type": "markdown",
      "metadata": {
        "id": "5ymF6rn7W1kW"
      },
      "source": [
        "### solve a linear system"
      ]
    },
    {
      "cell_type": "code",
      "execution_count": 171,
      "metadata": {
        "colab": {
          "base_uri": "https://localhost:8080/"
        },
        "id": "1Clv1wjDW1kX",
        "outputId": "5a7dbe6d-3fca-4036-d6fb-c13763686ab7"
      },
      "outputs": [
        {
          "output_type": "stream",
          "name": "stdout",
          "text": [
            "[-49.75295153 -18.33776982 -44.59372785   0.44351389  98.61602289]\n"
          ]
        }
      ],
      "source": [
        "# solve a linear system in closed form\n",
        "y = [1,2,3,4,5]\n",
        "print(np.linalg.solve(arr, y))"
      ]
    },
    {
      "cell_type": "code",
      "execution_count": 172,
      "metadata": {
        "colab": {
          "base_uri": "https://localhost:8080/"
        },
        "id": "4eQAaH28W1kX",
        "outputId": "e86ac01a-222f-4a92-dd10-65386409053b"
      },
      "outputs": [
        {
          "output_type": "stream",
          "name": "stdout",
          "text": [
            "[-49.75295153 -18.33776982 -44.59372785   0.44351389  98.61602289]\n",
            "[]\n",
            "5\n",
            "[2.21809418 0.85765544 0.52823685 0.09333081 0.0173482 ]\n"
          ]
        },
        {
          "output_type": "stream",
          "name": "stderr",
          "text": [
            "/usr/local/lib/python3.7/dist-packages/ipykernel_launcher.py:3: FutureWarning: `rcond` parameter will change to the default of machine precision times ``max(M, N)`` where M and N are the input matrix dimensions.\n",
            "To use the future default and silence this warning we advise to pass `rcond=None`, to keep using the old, explicitly pass `rcond=-1`.\n",
            "  This is separate from the ipykernel package so we can avoid doing imports until\n"
          ]
        }
      ],
      "source": [
        "# calculate the least-squares solution of a linear system\n",
        "y = [1,2,3,4,5]\n",
        "solution, residuals, rank, singular = np.linalg.lstsq(arr, y)\n",
        "print(solution)\n",
        "print(residuals)\n",
        "print(rank)\n",
        "print(singular)"
      ]
    }
  ],
  "metadata": {
    "kernelspec": {
      "display_name": "Python 3",
      "language": "python",
      "name": "python3"
    },
    "language_info": {
      "codemirror_mode": {
        "name": "ipython",
        "version": 3
      },
      "file_extension": ".py",
      "mimetype": "text/x-python",
      "name": "python",
      "nbconvert_exporter": "python",
      "pygments_lexer": "ipython3",
      "version": "3.6.6"
    },
    "colab": {
      "name": "numpyTutorial.ipynb",
      "provenance": [],
      "include_colab_link": true
    }
  },
  "nbformat": 4,
  "nbformat_minor": 0
}