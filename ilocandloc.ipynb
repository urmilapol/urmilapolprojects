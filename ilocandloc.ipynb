{
  "nbformat": 4,
  "nbformat_minor": 0,
  "metadata": {
    "colab": {
      "provenance": [],
      "authorship_tag": "ABX9TyMGQH40U27KQ2WWfIk+JDmt",
      "include_colab_link": true
    },
    "kernelspec": {
      "name": "python3",
      "display_name": "Python 3"
    },
    "language_info": {
      "name": "python"
    }
  },
  "cells": [
    {
      "cell_type": "markdown",
      "metadata": {
        "id": "view-in-github",
        "colab_type": "text"
      },
      "source": [
        "<a href=\"https://colab.research.google.com/github/urmilapol/urmilapolprojects/blob/master/ilocandloc.ipynb\" target=\"_parent\"><img src=\"https://colab.research.google.com/assets/colab-badge.svg\" alt=\"Open In Colab\"/></a>"
      ]
    },
    {
      "cell_type": "code",
      "execution_count": null,
      "metadata": {
        "id": "wI9V9KO5COOC"
      },
      "outputs": [],
      "source": []
    },
    {
      "cell_type": "markdown",
      "source": [
        "Selects rows/columns by their integer index (not labels).\n",
        "\n",
        "Supports slicing (start:stop:step), single integers, and lists of integers.\n",
        "\n",
        "Works with DataFrames and Series.\n",
        "df.iloc[<row_selection>, <column_selection>]"
      ],
      "metadata": {
        "id": "QSUBRWlrCgp5"
      }
    },
    {
      "cell_type": "markdown",
      "source": [
        "**1. Basic Selection**"
      ],
      "metadata": {
        "id": "HHtdpPvcC_Ux"
      }
    },
    {
      "cell_type": "code",
      "source": [
        "import pandas as pd\n",
        "\n",
        "data = {\n",
        "    'A': [1, 2, 3, 4],\n",
        "    'B': [5, 6, 7, 8],\n",
        "    'C': [9, 10, 11, 12]\n",
        "}\n",
        "df = pd.DataFrame(data)\n",
        "\n",
        "# Select a single row (returns a Series)\n",
        "print(df.iloc[0])  # First row\n",
        "\n",
        "# Select a single cell (row 1, column 'B')\n",
        "print(df.iloc[1, 1])  # Output: 6\n",
        "\n",
        "# Select multiple rows (slicing)\n",
        "print(df.iloc[0:2])  # Rows 0 and 1 (excludes 2)"
      ],
      "metadata": {
        "colab": {
          "base_uri": "https://localhost:8080/"
        },
        "id": "sE3zYpDgCiWi",
        "outputId": "d7e2e377-7a01-4ad3-dbd6-ab69e207ca68"
      },
      "execution_count": 1,
      "outputs": [
        {
          "output_type": "stream",
          "name": "stdout",
          "text": [
            "A    1\n",
            "B    5\n",
            "C    9\n",
            "Name: 0, dtype: int64\n",
            "6\n",
            "   A  B   C\n",
            "0  1  5   9\n",
            "1  2  6  10\n"
          ]
        }
      ]
    },
    {
      "cell_type": "markdown",
      "source": [
        "**2. Column Selection**"
      ],
      "metadata": {
        "id": "z4vB44zuDCHD"
      }
    },
    {
      "cell_type": "code",
      "source": [
        "# Select first column (all rows)\n",
        "print(df.iloc[:, 0])\n",
        "\n",
        "# Select columns 0 and 2 (all rows)\n",
        "print(df.iloc[:, [0, 2]])\n",
        "\n",
        "# Slice columns (columns 1 to 2)\n",
        "print(df.iloc[:, 1:3])"
      ],
      "metadata": {
        "colab": {
          "base_uri": "https://localhost:8080/"
        },
        "id": "7tUKO2aADHwq",
        "outputId": "f91eb343-8445-4377-9ea2-9efcc1437aa7"
      },
      "execution_count": 2,
      "outputs": [
        {
          "output_type": "stream",
          "name": "stdout",
          "text": [
            "0    1\n",
            "1    2\n",
            "2    3\n",
            "3    4\n",
            "Name: A, dtype: int64\n",
            "   A   C\n",
            "0  1   9\n",
            "1  2  10\n",
            "2  3  11\n",
            "3  4  12\n",
            "   B   C\n",
            "0  5   9\n",
            "1  6  10\n",
            "2  7  11\n",
            "3  8  12\n"
          ]
        }
      ]
    },
    {
      "cell_type": "markdown",
      "source": [],
      "metadata": {
        "id": "mGGS2LDtDoN8"
      }
    },
    {
      "cell_type": "markdown",
      "source": [
        "**3. Combined Row & Column Selection**"
      ],
      "metadata": {
        "id": "G6edlKwrDQ-j"
      }
    },
    {
      "cell_type": "code",
      "source": [
        "# Select rows 1-2 and columns 0-1\n",
        "print(df.iloc[1:3, 0:2])\n",
        "\n",
        "# Select specific rows and columns (rows 0 & 2, columns 1 & 2)\n",
        "print(df.iloc[[0, 2], [1, 2]])"
      ],
      "metadata": {
        "colab": {
          "base_uri": "https://localhost:8080/"
        },
        "id": "9FIL9ImgDZaK",
        "outputId": "f9f63672-8022-4e77-8987-c6e77cc1a852"
      },
      "execution_count": 3,
      "outputs": [
        {
          "output_type": "stream",
          "name": "stdout",
          "text": [
            "   A  B\n",
            "1  2  6\n",
            "2  3  7\n",
            "   B   C\n",
            "0  5   9\n",
            "2  7  11\n"
          ]
        }
      ]
    },
    {
      "cell_type": "markdown",
      "source": [
        "**4. Using Negative Indices**\n"
      ],
      "metadata": {
        "id": "OK7Q1lGfDebs"
      }
    },
    {
      "cell_type": "code",
      "source": [
        "# Select last row\n",
        "print(df.iloc[-1])\n",
        "\n",
        "# Select last two rows and last column\n",
        "print(df.iloc[-2:, -1])"
      ],
      "metadata": {
        "colab": {
          "base_uri": "https://localhost:8080/"
        },
        "id": "bjlq24o-DjNt",
        "outputId": "3710d072-c15d-491b-b7cc-5bd9ab304573"
      },
      "execution_count": 4,
      "outputs": [
        {
          "output_type": "stream",
          "name": "stdout",
          "text": [
            "A     4\n",
            "B     8\n",
            "C    12\n",
            "Name: 3, dtype: int64\n",
            "2    11\n",
            "3    12\n",
            "Name: C, dtype: int64\n"
          ]
        }
      ]
    },
    {
      "cell_type": "markdown",
      "source": [
        "**5. Conditional Selection (with boolean masks)**\n",
        "iloc does not directly support boolean masks, but you can combine it with conditions:"
      ],
      "metadata": {
        "id": "7QV_Fj2CDz9e"
      }
    },
    {
      "cell_type": "code",
      "source": [
        "# Select rows where column 'A' > 2 (using boolean indexing first)\n",
        "filtered_rows = df[df['A'] > 2].index\n",
        "print(df.iloc[filtered_rows])"
      ],
      "metadata": {
        "colab": {
          "base_uri": "https://localhost:8080/"
        },
        "id": "LIMUuvjGD7BB",
        "outputId": "266a92a9-22ca-486e-9a76-e1dfd20d8ed2"
      },
      "execution_count": 5,
      "outputs": [
        {
          "output_type": "stream",
          "name": "stdout",
          "text": [
            "   A  B   C\n",
            "2  3  7  11\n",
            "3  4  8  12\n"
          ]
        }
      ]
    },
    {
      "cell_type": "markdown",
      "source": [
        "![image.png](data:image/png;base64,iVBORw0KGgoAAAANSUhEUgAAAn8AAADzCAYAAAD3o3BxAAAgAElEQVR4nOzdd3xT1f/48VfS3XTQltGySmnZIEPZfhiKAg4qRUCQpSAfVFABRVRARQTEwVJAAT8CMmQqKnsqwwKydylYWqB00JkmTdLk90d/ud+GrrQU2tr38/HgoU1u7j33nnPufeesqCwWiwUhhBBCCFEhqEs7AUIIIYQQ4sGR4E8IIYQQogKR4E8IIYQQogKR4E8IIYQQogKR4E8IIYQQogJxLO0ECFEemUwmdDodRqOR8jBhXqVS4eTkhJubG46O5a/al5XrXd6voxBCAKhkqRchisZkMpGamlougr67qVQqvLy8ylXgUhavd3m8jkIIYSXdvkIUkU6nK1OBSFFYLBZ0Ol1pJ6NIyuL1Lo/XUQghrCT4E6KIjEZjaSfhnpS39JfV9JbVdAkhRGEk+BOiiMpaK1RRlbf0l9X0ltV0CSFEYST4E0IIIYSoQMr0aGWTycSOHTs4e/Ysw4cPx8/PT3nvxo0bbNu2jaioKIKCgggLC8Pb27vQ94QQQgghKrIHFvxFRkYyfvx4UlJSbF5Xq9UEBwczdOhQ2rdvj1r9f42RMTExLFmyhKSkJEJCQggLCwMgIiKC9957j8TERABSUlLo169foe9VdPnlAUC1atUYMmQITz75ZLFmMFosFtLS0sjKysLNzQ1XV9eSSHK5lJSUxE8//USXLl1o2LBhrveHDh2KVqtV/u7atSuvv/76g0ximaDX6/noo48IDw9nzJgxSv22R1RUFOPHj7d5bfTo0XTp0qWkkymEEP86pd7yZzabiYiIYNKkSXTv3p0xY8ag0WgAqFmzJr179+bixYt07txZ+czevXtJTEykSZMmvPPOO3h5eSmfKeg9kU2tVlOlShWcnZ2xWCzEx8dz+/ZtvvzyS/R6Pb1790alUhVpn5mZmUyfPr1YD/J/m/Pnz7Nr1y58fHzyDP66d++OwWAgMTGRw4cPl0IKyz9PT0+eeeYZAC5fvszly5dLOUVCCFF+PPDgz9vbmy+//JLg4GAAtFot27ZtY/HixWzfvp1atWoxcOBAVCoVjo6ODB48ONc+rK0mwcHBBAYG2v2eyObp6cmnn36q5IHBYGDBggX88ssv7Ny5k27duuHl5VXKqSy/OnToQK1atahdu3ae7w8cOBDIDhIl+CseX19fhg0bBsDatWsl+BNCiCIo9ZY/jUZDWFgYKpWKb775hm3bttGtWzeqVatGSkoK06ZN4/bt27z99tt4e3vz2Wefcf36dQB2797NiRMn6Ny5M926dcv3veHDhwOQkZHBunXr2L59O7dv36ZWrVr07duXJ554AmdnZwCbY77++uucOXOG9evX8/TTTzNmzBgsFgvnz5/nhx9+4MyZMzg6OtK6dWuGDx9OzZo1lfM6ffo0X3zxBU2bNmXIkCGsWLGC/fv3A/Dcc88xcOBA3N3dle3v3i9As2bNGDZsGI0bN7ZpibPnPIrC2dmZjh078ssvv5CRkUFWVla+6crrfKOiopg5cybXrl0DYMWKFfz8888MHDiQpk2bMnPmTAwGA++88w716tUD4K+//mLBggVUqlSJiRMnUr16dQC2bdvGqlWrqF+/PuPGjcPd3R2z2czhw4f58ccfuXLlCh4eHjz22GMMGDCAypUr25yLPdvq9XrmzZvH2bNnGTduHFqtlsWLF3Pjxg1CQkJ47bXXaNq0aZFbP3fv3k1GRobyd2JiIi1btixibtiKiori0KFDaLVaatasSdeuXXFxccm13e3bt/njjz9IS0ujevXqdOrUyaZ82Suvcti4cWP69u1L27ZtlWEZ1nzq3LkzPXv2ZN68eZw8eRIPDw9efPFFnn76aZuyaDAY2LlzJ6tXr+b27du0atWKkSNHFvOqFN2JEyc4ffo0ZrOZRo0a0a5duzy3u3DhAseOHcNsNhMSEpJrKIoQQvwblHrwB9mr5Xfp0oXNmzcTFRXFxYsXqVatGmazmbi4OKKjo8nMzMRkMnHz5k2ldU+r1aLVaklNTS3wPYD4+Hjef/99rly5gqOjI1WqVOHGjRt88cUXHDlyhAkTJqDRaGyO+e233yoBjclkwmKxsGnTJr755hvMZjOVKlUCYN++fRw9epRJkyYpD5XMzEyio6PRaDTMmDGD06dPK+e7cuVKbt68ycSJE5Wu15z7tTp27Bhnzpzhww8/pH379kU6j6KwWCxKy0lgYKDyeXvP12QycevWLTIzMwFITk4mOTmZjIwMKleujIeHB+Hh4Vy9elUJ/k6fPk10dDTR0dFERERQvXp1srKyOHHiBNHR0Tz66KO4u7tjMplYtGgRGzZsAKBy5crodDo2btzIgQMHmD59utKCWZRt79y5Q3R0NDt27GDPnj1K2i9evMg777zDZ599RvPmzYt0HTdt2kRsbKzyd9euXe8p+Nu1axdLlizBZDLh5OSE0Whk27ZtfPDBB1SpUkXZLjw8nHnz5pGZmYmzszMGg4G1a9fy6aefEhAQYPfx7s5va7B84sQJTp06xRtvvEFoaCiQ/QUkOjqac+fO8ddff3HlyhUgu9zPmzePxMREhg8fjkqlwmQy8d133yn5AnDkyBGio6OLHGAXx4IFC9izZw9qtRq1Ws3vv/9O69atefvtt3FwcFC2W7VqFRs3blR6HYxGI7/99htTp07FycnpvqdTCCEelDLzldbd3R1/f38AZbLG3YKDg/n555/p1asXAL169WLv3r2MHTu2wPeysrJYs2YNV65coX379mzatIk1a9awYsUKQkJCOHDgAH/++Weu46WmpvL555+zZcsWRo4cydWrV1m+fDlOTk5MmzaNjRs3smHDBkaPHo1Op2PZsmW5JlNcvHiR2rVrs3nzZrZu3cqAAQMAOH78ONHR0QDKfgFee+01du7cyfbt2xk+fDiZmZksX76c1NTUYp/H3XQ6HatXr+brr7/m66+/ZsKECXz//fc0b96cUaNGKS029p5vcHAwa9asoW3btgCMGTOGvXv3EhYWhqurK02aNFHOOSsrC61Wy7lz55T0nDhxQpkwEhERgVqtpkWLFkB2APzrr7/i5+fHwoULWbduHRs3biQsLIy4uDhWrlyJwWAo8rZWR44cYfr06ezevZuFCxdSvXp1MjMz2bt3b5HXcZs2bRrfffddrokIxZGQkMDSpUupVKkS8+fPZ+XKlbz88svExMSwbNkyZbuMjAwWLVqEi4sLX3zxBatWrWLs2LGkpqaydOnSIh0zKSmJ/fv34+TkxNSpU1m7di1r165l9OjRmM1mtm3bpnyZsjp16hRdunRh69at/Pzzz3Tt2hWAAwcOkJSUBMClS5f47bffUKvVvPLKK2zfvp3t27fz1FNPcfPmzXu8UgU7fPgwe/bsoUWLFvzwww8sW7aMjh07cvToUXbs2KFsd+nSJTZu3Ei9evVYunQpP/74Iz179iQiIoLffvvtvqZRCCEetDIT/N1PCQkJHDlyBHd3dwYPHoyHhwcA/v7+DBo0CLPZTHh4eK4V+19++WUeeeQR3Nzc0Gg0HDlyhJSUFDp37ky7du1QqVSo1Wp69OhB06ZNuXr1KlFRUTb7qFq1Kv3798fT0xNXV1dCQ0MJCAggJSWFO3fuACj7bd68OU899RSOjo44Ozvz9NNPM3jwYFq1aoVery/2edzNYDCwe/duNmzYwIYNGzh27BhOTk7UrVvXpquuOOebl+bNm+Ps7Mz169fRarXEx8cTHR1NYGAgfn5+XLt2jYyMDG7dusXt27epVq0agYGBZGVl8eeff2IwGAgNDVUmTzg7O9OvXz8CAgI4d+4ccXFxRdo2pyeffJJWrVqhVqtp2LAhPXr0ACA2NlZpDbRXpUqV8PX1LZFlhfbv34/RaFTKi1qt5qmnniIgIIDw8HDS0tKA7OArLS2Nrl27UqdOHQA6duxInz59qFu3bpGO6evry9y5c9m2bRv/+c9/UKlUqFQq5UvZ3UMCAOrXr8+zzz6Lq6sr3t7e9O3bF3d3d5KTk5Xg7/jx42RmZtK0aVNCQ0NxdnbG2dmZZ555RmkJvl927twJwJAhQ3B3d8fFxYWhQ4cC2S2rVtYvTX379sXLywsHBwf69u1Lz549ZZkoIcS/Tpno9r3f0tPTSUtLw2AwMG3aNJuuHuvvc+p0ulwPtpxda4DSpXfkyBFeeukl5XXrjFmDwZArYHB1dbXphnV2ds7VhWTdb61atWy29fHx4eWXX1b+joyMtPs8Cuqm8vLy4qOPPlKChZSUFJYtW8amTZs4e/YsM2bMwM/Pr1jnm5eaNWsSEBDA9evXuXHjBnFxcSQlJTFgwACuXLlCeHg4sbGxXL9+nYyMDNq0aYOvry9Go1FpBd68ebPyIAfIysoiPj4ejUZDZmZmkbbN6e4xg2VlZnh8fDyQXSZyqlWrFrdu3SIhIQFPT08lj+7u3rW2MBeVyWTi7NmzHDx4kFOnTpGUlERCQkK+23t7e9t8YcirfFs/X6dOHZvr6+npSVBQEBEREcVKqz3i4uJQqVQ243F9fX3RaDQ2XwSs19E69hSy64l1vLAQQvyblJngLyUlhevXr6NWq21u1Pebm5sbtWrVwtfXt9j7UKlUVK1aFSDPwfgPQlHOQ6VS4eXlhY+PD5AdZL755pvcuHGDiIgIjh07Rvfu3Qv8fFHO19vbmwYNGhAVFcXly5e5du0a7u7uNG3aFC8vL3bs2MGlS5c4deoUAO3atcPJySlXMJ6Tg4MDAQEBeHh4FLouYVG2LSusAdXdwaperwdQAizrpI67u7OLQ6vVMn36dA4dOqQsB9S8eXM0Gg2bN2++5/3fTa1WF2uCUlG4uLhgsVgwGAzK2pMWi4XMzEybCTHW/y9qa68QQpRHZeJJaLFY2LVrF7du3aJmzZolvkSLi4uL8hD4+OOPCQkJyXdbawtaXqytFo8++ijjxo0rscHq1v0mJSVhMBiUB6Jer+fs2bOYzWYaN25cpPMoKhcXF6V7yzpppqTO18HBgVatWrFjxw4OHz5MWloatWvXpkaNGjg7O+Pt7c1ff/1FbGws3t7eynk5ODjg5uYGQL9+/ejbt2++xzAajXZvaw2gyrL69euzZcsWjh07xsMPPwxk58vly5fx9PRUWvqCgoKA7Ak0Tz31FJA94/mTTz7B2dmZ9957z+5jWidvBAUF2UwWOXr06D0Ff9ZydPv2bfR6vRKEZWRkKLPz75d69eoRFRXF33//TceOHQE4c+YMJpOJ+vXrK9sFBQVx6NAhTp8+rdx/bt26xZw5c3j44YdloXghxL9KqY75M5vNxMbG8s033/D999+jVqt5/vnnqVatWokep2rVqjRo0IDU1FS2bduGyWQCsoPO9evXM2TIENasWWMz0zYvrVu3xtnZmcOHDyuzGyH7ofbmm2/y1ltvERMTU+T0Wfd75MgR/v77b+X1v/76i3fffZcFCxZgMBhK7DzuZjKZ+PPPP5WlPaw/o1fc88356xVWISEheHt7Ex4ezvnz52nQoAGenp74+/sTGBjIn3/+SUREBIGBgcoYMycnJ1q3bg3Ajh07lK5QyJ5IM3LkSKZMmUJycnKRtr1fNm3axPLly9m+fTsAV65cYfny5SxfvtxmCZg1a9bku511HGiHDh2oXbs2O3fuVNbA/Pjjj9Hr9fTt21fp8q9fvz7NmjXj2LFjLFiwgF27djFjxgzOnDlT5DF/SUlJmM1m/Pz8lJndOWeCF1eLFi1Qq9WcPHmSEydOKPsNDw/n7NmzxdrnnTt3lGtmbTE+ePAgy5cvZ82aNcp2ffr0wcnJiUWLFrFx40Z+/fVX5syZg0qlon///sp2Tz75JJ6enqxatYqffvqJ7du389lnn3H16tU8F+oWQojy7IG3/KWkpDBixIhcr6vVagYNGsTTTz9d4sd0dnZm8ODBnD9/ng0bNnDixAmaN29OREQE58+fVyY7FLaeV7NmzXj22WfZsGEDY8aMoWPHjri4uHDw4EFSU1Pp2LFjrjFk9si53ylTptCgQQOysrKUgKtXr174+PigUqlK5DzyywPIDjoeeeSRIp+vi4sLQUFBhIeHs3z5crZu3co777yjLHViDfKsS960bNkSlUqFRqOhSZMmyutNmjSxGRfWuXNnDh48yKFDhxgxYgQdO3YkMzOTgwcPkpmZSYsWLfD09CzStoVNiCmu3bt32yz1Yl3KBuCZZ55Ruha3bt1qEyDn3K5z5874+vqiVquZMmUKCxYsUIJEV1dXhg4dSs+ePW2O+8477/Dtt9+yd+9e9uzZg4uLC3379i2w9TMvderUwcPDg+PHjzNlyhQCAwOJiori6tWr99Q9+9BDD9G+fXsOHjzIlClTqFq1KllZWWRlZVGrVi27Jg3dLS0tLVdr5IkTJzhx4gQajYYXXngByB63+8knnzB//nxWrVoFZI/znDx5stJqCtmtk9OmTWPu3LmsW7dO2W7s2LE89NBDxT11IYQok0q927dSpUq0aNGCgQMHEhISct/W/apXrx4ff/wxc+fOJSIigqtXrwJQu3Zt3nzzTbvWY3N0dGTEiBG4urqyfv169uzZo7weFhbGSy+9VKzftHV0dGTkyJF4enqyevVqZRkULy8vXn75ZZ5++mnlupTEeeQlICCA7t27K7M1i3q+KpWK559/nqtXr3Ls2DFu3brFlStXlPTkDPKqVq2qrLcH2S1DP/30k/L/OWk0Gt5++22+++47du3axdatW5XXhwwZwvPPP6+0gtm77f0K/r7++mu7tsu5VEtBKlWqxPvvv096ejparRZfX988J/K4u7szduxY/vvf/6LVavHz8yvWwsT169fntdde45tvvuHYsWMcO3aMRo0aMXr0aObOnVvk/Vm5uroyfvx43Nzc2LNnDzdv3sTX15cPPviA/fv3Fyv4CwwMZP369XZtGxISwty5c7lz547SspnXfaZGjRrMmjWLlJQUzGazMiZWCCH+bVSWoi5m9i+g1+vR6XQ4OzsXe3an2WwmLS0Ni8VSohMJrPuF7NmQBT3ES+I8ipoue85Xr9djMBjw9PQs0WDeZDKRnp6OSqUq9NoUZduiym8dyvLE2rWfF+u1U6vVJZ6Her0evV5fpDpTlq93QddRCCHKqgoZ/AlxL8pyMGKv8hS0lOXrXZ6uoxBCWFWIRZ6FKEkP4ifJ7qfylv6ymt6ymi4hhCiMBH9CFFF5/53X8pb+sprespouIYQoTKlP+BCivHFzc8NoNBb5t3/LApVKpayHWF6UxetdHq+jEBVFWbpXFKQ0ew9kzJ8QxWAymdDpdGUuKMmPSqXCyckJNze3cvMrJzmVletd3q+jEP8G5eGeWxLuZ3AowZ8QQgghyrS7Q5WKNObWYrGU+PlK8CeEEEIIUYHIhA8hhBBCiHKiJNrsJPgTQgghhCgnVCrVPQeAEvwJIYQQQpQz9xIASvAnhBBCCFEOFTcAlOBPCCGEEKVK5p4WTc7rVZxrJ8GfEEIIIUQ5olarpdtXCCGEEOWTtPrdu6JeQwn+hBBCCCHKIRnzJ4QQQohyRVr9iu/ua1eUaynBnxBCCCFKlQSBxScTPoQQQgghKgCLxSLdvkIIIYQoP6S1r+TZe00l+BNCCCFEqZEgsHgcHR2V/5fZvkIIIYQoVyQALJ7idv1K8CeEEEIIUYFI8CeEEEIIUYFI8CeEEEIIUYFI8CeEEEKIB8o6Tk3G+t2bnNevKNdUgj8hhBBCiApEgj8hhBBCiApEgj8hhBBCiApEgj8hhBBClJp7+ZkyUbzrJ8GfEEIIIUQFIsGfEEIIIUQFIsGfEEIIIUQF4lj4JkLYx2QyodPpMBqNZWL8hkqlwsnJCTc3N5sfwBZC3LvSqO9Sp4Ww5eTkhMlkKvLnVJay8JQW5Z7JZCI1NbVMBH13U6lUeHl5ycNCiBJS2vVd6nT5l3NBYus/yc/iMZlMqFQq5R+g/Dc/0u0rSoROpyuTgR9k31x0Ol1pJ0OIf43Sru9Sp4W4NxL8iRJhNBpLOwkFKuvpE6I8KQv1qSykQYjySoI/USLKaqufVVlPnxDlSVmoT2UhDUKUBcXpLn9gHewbN25k/vz5eb43ZswYwsLCSuQ4JpOJ9PR01Go1np6ehfZ7CyGEEEJUJA98dGWlSpXw9PS0ec3d3b3E9h8VFcX48eNp2LAhH330Ea6uriW2b1E8qampHD58mMceewwnJyfl9QMHDrBz507l71deeYWaNWuWRhKFECVA6rQoDmmkuXdFvYYPPPgbPHhwga18FouFtLQ0srKycHZ2RqPR5NpGr9ej0+lQqVR4eHgoTZ5Go1GZgWY0GklOTsbPzw8HBwfS0tIA8PT0RK1WK8cxm814eHigVqtJS0tT9pmWloajo6NyfHvSJfJ25swZfvzxR1q2bEnVqlWV1/38/GjUqBG3bt3i4MGDMoBbiHJO6rQQ5UOZmlcdExPD1KlTiYiIAECtVvPss88yatQoXF1dMZlMrFy5kh9//FFZ18bLy4v333+ftm3bcvLkSSZMmADA8ePHGTBgALNmzSIkJIS33noLgDlz5uDj40NmZibTp0/n4sWLfPnll/j6+vLWW2/h5+eHv78/W7dupVevXowdO7bQdImCdezYkbZt2+Yal9CoUSMaNWrE8ePHOXjwYCmlTghRUqROC1E+PPDgT6fTkZSUpPxtHZun1Wr54osviIuL47333uOhhx5i06ZNrF+/nipVqjBw4EB27drF8uXL6d69O4MHD+bGjRvMnDmThQsXUq9ePYKDgxkzZgxLly6lRo0aDBw4kODg4CKl78yZM+j1ej744AOqVatGWlpaoemSJuu87d+/n59++kn5e8KECdSpU8fuz5vNZjZs2MDWrVvR6/U88sgjjBgxAi8vL2WbX3/9lc2bN6PX62nUqBEjRoywaV0UQpQdUqeFKBse+GzfJUuWEBYWpvx74403SElJ4cKFC5w5c4b+/fvz5JNP4u/vz5AhQ2jatCkHDhwgLS2NHj16sHnzZsaNG0dAQABNmjQhKCiI5ORkkpKS8PX1pXnz5jg5OeHr60u7du3w9fUtUvr8/PyYPHky3bp1o1mzZnalS+QtODiYPn368MgjjxAXF1fkpRl+/vln1q9fT+/evRk9ejSXL19m1qxZyvvWLwNPPvkkb775JnFxcXz++eclfRpCiBIidVpY2bsYsbBfUa7pA2/5e+aZZ2jfvr3yt6urKxqNhpiYGMxmMxs3bmTr1q1A9ji7+Ph4qlSpgtFoxGw2c+HCBXbu3Mn58+eJj48nMzMTb2/vEkufi4uLTVeuPekSeatZsyY1a9bk+PHjbNmypcif37FjBx06dODZZ58Fssd0zp8/n6ioKAIDA9m1axfNmjWjb9++AHh4ePDHH39gMplkpXghyiCp00KUDQ+8NgUFBdGhQ4d83+/RoweNGjWyec3R0RFnZ2e+//57Vq5cScOGDenduze1a9dm9erVREZG3u9k55suFxeX+37sishkMpGQkECNGjWU16z/f/v2bQIDA4mLi6Ndu3bK+w0bNqRhw4YPPK1CiMJJnRai7CgzX6Vq1qyJWq3GZDLRvn17VCoVJpOJiIgIqlSpgoODA1euXKFmzZpMmzYNPz8/dDodarX9PdeZmZno9Xoge/mRuLi4e05XSS5TI/6Po6MjXl5eJCYmKq/duXMHyO6aB/Dx8SE5OVl5Pzk5mejoaBo3boyDg8ODTbAQokBSp4UoO8pM8NekSRPatWvHpk2bAGjWrBl///03mzdvplu3brzxxhu4ubkRHx/P4cOHadGiBZs3b+b06dO4ubkp+/Hw8MDd3Z2LFy+yYMECevfuTc2aNalXrx67d+9m4sSJtGjRgvPnzys3nntJ1/jx44sUgFYkiYmJ3Lx5k2vXrgEQERGBXq+nbt26aDQa4uPjiY2NzfV+YGAgXl5edOrUiV27dtG6dWv8/PxYt24dNWvWVCaN/Oc//2HNmjUcPnyYwMBAvv/+e2JiYli0aFGpnbMQFZnUaVFcMvbvwXL46KOPPnoQB7pw4QJHjhyhbdu2ubpPAZydnWnVqhVxcXH89ttv7N69m4iICLp168bIkSPx9PQkMDCQkydPsmXLFn755Rdq165NQEAAsbGxdO/eHV9fXzQaDRqNhvDwcM6ePUtQUBCNGzemXr16nD9/nsjISGJiYhg6dCgajYaoqCi6d++Om5sb27ZtA7K7eK0BZWHpkvX+suW1ntcff/zB7NmzOXv2LAAnTpxg//79tGrViipVqrBz507mz5+f6/2GDRtSo0YNGjVqxO3bt1m5ciXbt2/Hx8eH8ePHK2M8Q0JCSElJYeXKlWzZsgVnZ2feeuutfCf5SCutECUjv/X7pE6L4pDJH/cu57Wz5zqqLGXwBxKNRiNardZmAWcr62LLDg4OBQZeZrOZzMxMm1ZByO76dXJyKlZrXUHpquhyduWUNJ1Oh8FgyHdiT2ZmJgaDIdcvx9zN2rUkhLg391rfpU4LK2sIYrFYpBftHlksFrsD6DIZ/Iny534GfyVFHhRClIyyUt+lTpd/EvyVnKIEf9J8JUqESqWiLH+PkO4EIUpOWajvUqf/XVQqFWazGYvFkuufrKpR8iTMFiXCycmptJNQoLKePiHKk7JQn8pCGsS9uzuIV6lUuf4J+xTlWknwJ0qEm5tbma2kKpUq19hPIUTxlXZ9lzr973T3pAUJ/u4fGfMnSozJZEKn02E0Gku9Swiybx5OTk64ubnJBB0hSlhp1Hep0/9eOcf+3f1fyeuSJ8GfEEIIIUpVzlDk7gBQFvguedLtK4QQQohSldc6ddLle/9I8CeEEEKIUpdfAGg2m0srSf9a0u0rhBBCiDLj7rAkry7hwrYrT/Ka8VzY/+f1d5GOKcGfEEIIIcqSvEKTogZ7ZTG8seun1+wI8u61S1yCPyGEEEKUSfmFKOUx8MupsOAtv/dLahykBH9CCCGEKNPsCVXKazhTnNbAez6mBH9CCCGEKC8qSlKGZh0AACAASURBVNhyP2c7y8qJQgghhCg3CguKyktwWJpL2UjwJ4QQQoh/DVkfsHCyzp8QQgghRAUiwZ8QQgghRAXywLp9d+3a9aAOJYQQQggh8iGzfYUQQgghKhDp9hVCCCGEqEAk+BNCCCGEqEAk+BNCCCGEqEAk+BNCCCGEqEAk+BNCCCGEqEAk+BNCCCGEqEAk+BNCCCGEqEAk+BNCCCGEqEAk+BNCCCGEqEAk+BNCCCGEqEAk+BNCCCGEqEAk+BNCCCGEqEAk+BNCCCGEqEAk+BNCCCGEqEAk+BNC/OtYLBYuXrzIrVu3SjspQghR5kjw9/+lpqZy/PhxMjIySjsp4j4wGo1otdrSTka5Zc/1K0vXOCYmhoULF6JWV7xbXGpqKufOncNkMpV2UsQ9iIqK4urVq6V2/IiICPnyVIYZjUbOnj1LampqsT7/wO6MGzdupGvXrmzcuPGe9zV79myee+45IiMjSyBl2ZYtW8b48ePZtm1bie2zIomMjGTIkCF55klSUhJDhw7l6NGjpZCy7Ery2WefMWbMGJKTk+36jMViITU1Fb1ef59TV/bldf30ej2pqalYLJZ8tyktFouFLVu20LhxY6pWraq8fu7cOUaOHEnXrl3p0aMHy5cvtztAioyMZPTo0SQlJd2vZN+TjRs3MnHiRPR6Pe7u7vz+++8cOHDgvh6zLNd5yL4ms2fPtnv7o0ePKtfwQR43LykpKcybNw+j0XhP+ykurVbLt99+S3x8fIntsySui/g/Tk5OJCQksGjRomJ90XO8D2kql3r16oW7uzvt2rUr7aSIEubk5MSIESNITk7G29vbrs9kZmYyffp02rRpQ1hY2H1OYdmW1/XbsmULR44c4aOPPsLV1bVY1/h+SUpK4tixY4wZMwaVSgXA1atX+fTTT+nTpw9ffPEFkZGRzJ07Fw8PD3r37q1s92/g6OhIly5dWLt2La1bt0aj0ZR2kkQRHTx4EI1GQ1BQUKkcPzY2lszMTGrWrFkqxxf2eeihh1i7di2RkZE0aNCgSJ8tteBPr9ej0+nw8PBApVKRnp6OSqXC09MzV1eNyWSyeT8/RqNR2c7DwwNHR0ebYzk7Oys3wrv3Wa1aNcLCwnBzcwOyv/kYjUY8PDywWCykp6fj4OCAp6dnrgdFzv27ubmRlpam7Pff9FApaVqtFoPBkO91teYRYJOfVhaLhbS0NLKysmzyNi+VKlVSjmE2m0lPT8fd3R2TyYROp7NJg9lsJiUlBaPRiE6nIzk5OdfxrWnP77hms5m0tDQsFotShnQ6nc155ky/m5sbrq6uyuetx/bw8CAuLg6TyZTnjdi6naenJxkZGRgMhlz7svd6FpQnOa+fVqtFp9NhNBpJTk6mUqVKuLq62myT1z7vvlaF5YM96cpLTEwMBoOBatWqKdd5586dNG/enNDQUBwdHWnZsiXDhw9n8eLFdOzYUdnWHnndT3KyXmdr3js5Odm8b0+5LWr5ultISAharZbr16/TqFEju8/tfnuQdT4vheXN3em8l7qUU37Pprzo9Xr++OMPunbtirOzs/JaVlYWLi4u3Lp1C1dXV6pUqQLkfx8xmUxotVo0Go1yPOvQjJxpMBqNZGRk2Dx7r1y5QvXq1XN9kSusXFrPU61W5/kst8pZ963psJ6Hm5sbTk5ONvfA9PR0zGazku67n9/W49z9mbzurXml2d7P5Fd+87qXWfeRM38Kux8U9bg+Pj7Ur1+fI0eOlJ/gb8uWLcyfP59Ro0bx+++/Ex0dDUCnTp2YMGGCUrDOnDnDtGnTiIuLA6BPnz65msJNJhMbN25k8eLFSvNn1apVmTRpEs2aNSM5OZnx48fj5eXFzJkz8fb2ZvPmzcyfP5/Ro0cTFhampGfMmDGEhYXx3XffsX//fgYMGMDq1atJSUlBrVbTp08fRo4cqRTAnMd1cXFh0KBB7Ny5k4CAAKVVRNjSarV888037Nu3Dz8/P5KTk+nWrRuvvvqqcrM7fvw4n376KWq1GpPJhLOzs5KfAImJicyYMYOLFy/i4+NDUlISw4YNo3fv3jg4OOQ65pYtW4iKimLs2LGkpKQwefJkHnnkETZv3oyTkxN37tyhd+/ejBw5Eq1Wy+eff865c+e4evUqBw8e5N133yUwMNAm7ZUqVSIxMZGePXsyatQoJa+vXbvGtGnTuH37Nh4eHvj5+dGzZ08OHDiglImc6ffw8CApKYnhw4cTFhaGo6MjJ0+eZPXq1fj7+7N161Z69erF2LFjc53XyZMnWb9+Pc2aNeOnn35Co9Hk2lde11OtVvPBBx/QqlUru/Ik5/Vbs2YNv/32GzqdjnfeeYcXX3yRHj162Gxz9z6t1+rxxx/n9ddfR6PRFJoPjo6OdpWVu127do2qVavi5eUFQFpaGidPnuSFF16weeg2btwYlUrFjRs37A7+Dh48yOLFi9FoNHnmfc7r7ODgQEZGBq+//jrdu3e3q9zaU75iYmKYOnUqN2/eVMrX3QGep6cn/v7+nD17tkwEf6VR5+9WWN5A9oN4/fr1RapLd6czJ4vFwrZt21i4cCHu7u5kZWXh4+PDxx9/TEBAQJ7pTEhI4NatW9SuXVt5bcuWLZw5cwaDwcChQ4eU51Re95GBAwfy4osvkpGRwcSJE3nppZdo06YNAHv27OGrr77i888/56GHHgLg119/5eTJk0yaNAlnZ2csFgtnz56lVatWynW15t/u3buVa5+zXN59nunp6VSrVo1Jkybl2Xpprftjx44lODgY+L/elj59+tC6dWvlHli9enXCw8NJS0sjKCiIYcOGsWjRInQ6HYmJiXTs2JGJEyfi6upq85lDhw5hsVgwGo1MmjQp3149ez5zd/lNSkqiUaNGvP/++/j4+Njcy7Zu3YrBYMBoNDJ27FiOHj3K33//jU6nQ6PR8Nlnn1GnTh2AQp8DhdUblUpFo0aN2LVrlxJw2qvUu33XrVvH4MGDcXNz48cff+SPP/6gbdu2PPXUUyQkJDB37lxSUlJ46aWXaNq0KTt27GD37t023zoOHDjAt99+S6dOnRg6dChJSUnMnj2bmTNn8uWXX+Lv70+/fv2YN28eu3fvpkOHDmzYsIGGDRvSrVu3fFsR0tLS2LZtG6+99ho6nY7//e9//PLLL7Rv356WLVty7Ngxli5dSkBAAEOHDsXFxYVly5YRExOTb8UW2TfPy5cv88MPP1C1alXi4+OZOXMmp0+f5pFHHiE6Opo5c+Ywbtw4OnTogMViYdOmTcybN48ZM2ZQuXJlduzYgYODg3KTjoiI4Ouvv+bhhx+2q6skLS2Ny5cvs3z5cjw8PLh48SKTJ0/m0Ucf5aGHHmLatGl89NFHNt2+FouF1atXk5yczNq1a/Hw8CA2NpbJkyezZcsWwsLC0Gq1zJ8/nxYtWvDf//4XZ2dnLl68yEcffaRUeIPBwDfffENgYCDTp09Xtpk6dSq1a9dWbjinTp2iY8eO7N69u8CJC8ePH6dWrVps2LAhz31dvXqVL774QrmeALt37+arr75ixowZ1KpVq9A8yWn48OH4+PjYdPveLSsri2XLltlcq6SkJD755BNWr17N8OHD7cqHoqQr57HvbtkAqFGjhs12Go2GgIAAoqOjlSC4IDdv3uSvv/5i5cqVeeZ9YmIi//vf/3jppZd4+umnUalU7Nu3j+XLl9O6dWt8fX0LLLd16tQptHzp9Xq+/vprmjVrxtdff63k96RJkwgJCVHS6uTkREBAANevX8disZR6D0Rp13l78saazoLqkj3pzCkuLo5169bx7rvv0rFjR0wmE0uXLuXXX39lxIgRedZra0NHzvGqAIcPH2by5MlMmzYNlUqFXq9n9uzZNveR6OhoJk+eTLVq1ejevTstWrTg5MmTtGnThqysLI4fPw5k31seeughjEYjZ86coUWLFkoQnpaWRmxsLM899xzwf/e9xMRE1qxZg4+Pj1Iu9+zZw1NPPcXRo0dZsWIFs2bNomHDhphMJn766SdmzZqlNLgUx7lz5+jduzfjx48nLS2NyZMn8+233zJ9+nQCAgKIiIjg/fff5/Lly0owa71vjhs3DoD169ezbNkyGjdurHwhvFthn9m1axc3btxgxYoV+Pn5KWnZu3ev8nxIS0sjOTmZFStW4OjoyI8//sisWbOYNGkS7777LhkZGUydOpUdO3YwcuRIu54D9tz/AgICSExMJCMjo0jBX6lPhQsNDSU0NJQnn3yS1157DYBLly4B2U3PkZGRPP7447z44ou0atWK1157zeabrF6vZ9u2bVSvXp1Ro0ZRp04dpUvn5s2bnDp1CoDHHnuMZs2asWHDBhYuXEhiYiIvvfRSgYXSbDYzbNgwnnzySUJDQ3nxxRcxGAxcu3YNi8XCwYMHMZlMvPLKKzz++OM8+uijvPnmm9LaVwhrIXVxcQGgSpUqfPnll0ph3rdvH82aNaNdu3aoVCrUajU9evRAo9Fw/fp1ILui5WxCr1evHnPnzrV7jIxKpeL5559Xuszq1KlDcHAw165dy/czcXFx/PXXXwwdOlT5nL+/P4MGDeLvv/9Gr9dz/fp1UlJS6Nevn3IzbdCgAV27dlX2ExkZSUxMjM02DRs2pGfPnjYD5OvXr88TTzxR6IxVX19fnnvuOZvjde7cmb1795KVlcXBgwcJCQmhdevWqFQqVCoVnTp1om7dusrxCsuTokpISCA8PJy+ffsq18rHx4fBgwcTHh6uTJwoLB+Kmy4vLy+lbCQnJ6PVavMNgLKysoDse0lSUpLNv5y9DA4ODvTr188m759//nn279+PVqvFz8+P+fPn88wzzyjHqlmzJkajUTnfgsqtPeXr2rVrxMfH5ypfTzzxRK7zqly5MvHx8WRmZhZ4rR6E0q7z9uQN5K5LDRs2pEuXLkpdsiedORmNRuXLCGSPx/zvf//LyJEj863XWVlZuLu75+oebN++PW3atFHSf+3aNaKioggNDVXSW6tWLfr168e+ffvIzMykZcuWnDhxgtTUVFJSUrh58yavvPIKly5dQq/Xc+fOHaKjo2nSpIlynBs3buDg4IC/vz+Qfd/7888/eeGFF/Dx8QGyy+WcOXPo3LkzWVlZ7N69m86dOytdj46Ojjz99NPA/z3Pi6Nu3bo0b94clUqFl5cXderUoVmzZkrjSq1atQgODrYp44GBgTz++OOo1WrUajUPP/wwOp2OO3fu5Hucwj4TGhrK3Llz8fPzA7K7+mvVqkVUVJSyDycnJx577DGcnZ1Rq9U0atQIf39/mjZtikqlQqPR0LZtW2VFBHueA/bc/zQaDSaTqcgT7Uq95S9nC97dTfc3b94EIDg4WHnPy8uLoKAgpaLpdDpu3bpFfHw8b7/9tlIxdDodgDIN2tPTk5deeol3332Xmzdv0qNHD7u+7bu7u+eZvszMTOLj4/H09KR69erK6zVq1Mj17U/YevTRRzl06BD9+/encePGPPbYY3Tu3FkZz5mQkMChQ4c4c+aM8hmLxUJ8fDz//PMPrVq1onfv3kyZMoWwsDCaN2/OE088Qbt27ewOvD08PPIM/K2BQF7S09NJSkpi6tSpNmVBp9Ph7u6OTqcjPT0dX19fm2+YKpWKKlWqKAFNeno6169ftymvkP1wa9CggTLb0NvbO9+uzZz8/f2Vm7L1eA0bNmTr1q0YjUYSEhJo1qyZzb6cnZ2pUqWKcvMqLE+KKj09HY1GY9N1BdkBoPWB6+vrW2g+FDddCQkJ6PV6XF1d8fDwULqm8mLNS+vQj5xmzZpF69atgezA4O7u4dq1a6PX6zEYDGg0GtLS0ti/fz+HDx/m+vXrxMfH25TJgsptSZWvsqgs1PnC8gZy1yXIDq5z1qXC0plTjRo1CAsLY8KECQQEBNCxY0d69uxJjRo1CmyNzavu5/xCA9l1zN/fXxn7l/McYmNj0el0BAYGkpWVxY0bNzAajXh7e9O+fXsOHTpEQkKCMnQg53jiCxcuULduXeXZnF9dtr6v1+tJSUmha9euNufk6uqKr68vMTExSrdzUdl7D8ypatWqufLVbDYXeG8v7DNms5nLly+ze/duTp06RVJSEgkJCfTq1UvZ3tXVtUhjUO15DpT0fTmnUg/+ispisWA2m3O9XqNGDQYPHpyroOSsGDm/ySclJWEymQodqFtU1r5+8X/MZrNNnmk0Gj788ENu3rzJkSNH2L59O8uWLWP69OnUq1cPgHbt2vGf//wn176sN6AqVaowf/58oqKiOHToECtWrGDlypVMnz49182wJHl5edG/f/9c3Qc5K77BYMizjOaUX3n19vbOdxB6fgwGQ64b293LVRS2fIU9eVJUWVlZ97zWXHHS5efnpwzcBnBzc8PBwYGEhASbrlG9Xk9CQgK1atUCICwsrMCZ3VlZWbnqtrVlB7LH4k2cOJE6derQs2dPgoODSUlJYfr06cr2BZVbKLnyZWXPWLj7oazVeXvyBuyrS4WlMyeVSkVoaCidO3fm5MmTHDp0iJEjRzJixIgCZ5nHxcUpX14KUlhZqFy5MkFBQVy4cAGtVkuDBg2UgDEyMpJLly7x8MMPK2XL2g3cpUsXm/3YU5fLQgvz/WCxWPjhhx/YsmUL/fr1480336RWrVosWbLknvdd2HPA1dXVrvufdRxrUZTp4K9OnTqo1WpOnjzJM888g7OzM4mJiVy4cEHZxs3NjYCAAK5cuULdunWVChgfH09ycrJyY4+Li2P58uXUr1+fli1b8tNPP7Fv3z569OhRrLS5urpSt25dwsPDOXnyJHXr1kWlUnHhwgVu376d543g38zHxwe1Ws2lS5eUAbxW169fx2w2K031JpNJmb1as2ZNevXqxcyZM9m7dy/16tXD39+fyMhI2rRpowTnZrOZzMxMZUyD9SEcHBxMcHAwoaGhTJo0iePHj9sM4C5J1i6nmjVr0rRpU+V1vV6Po6Mjjo6O+Pr6kpCQQFRUFI0bN1bONyIiQtne+mBv0KCBzdhQnU6Hi4tLkRcmtpZ1634tFgsXLlzA398fFxcXAgMDOXnypDJLD7IHMF+7dk25VoXlSVH5+PhgNpu5efOmTWtZdHQ0bm5uVKlSpcBv4lbFSVfVqlVJT09XWiw8PT1p0KABf/75J61bt1ZukteuXcNsNucaC5iflJQU4uPjbVpJrly5QuXKlXFzc+PKlSv4+fnx3nvvKQ9TrVZr0+JYULlt0aJFoeXLy8uL5ORkEhMTlWNYLJY8uxxv3LhB5cqV79swlPJU52/dulVo3kDhdcmedOZksVjQ6/V4e3vTpUsXunTpwp49e1i3bh3dunXLcwyadQWMwoIpX19f0tLSbMoCZHezBgUF4eHhgYODA61atWLXrl0ADB48WHlt3759pKSkMGzYMOWzd+7cIT4+3iY/86vL1ntaSEgI/v7+XLx4kU6dOikBbUpKCrdu3bL5wpVTeno6iYmJyrEyMjKIjY0t8JxLQ2ZmJpcvX2bMmDF07twZyM7Xex1La89zwJ77X0pKCkCRx1WW+pi/gtSrV49mzZpx8OBBPvvsM7Zv384nn3xi08/u6upKaGgo6enpzJgxg127drFjxw4mTpzIuHHjuHr1KllZWaxfv56oqCj69+9P//79qV+/PitWrLinwtatWzf8/PxYtGgR7733Hh9//DHz588vcsvNv4GPjw+9evVi8eLF7N27F6PRiNFo5NixY8ycOZOOHTsqBXz58uW8//77JCQkANlrSv3zzz/UrVsXyO4iunz5Mlu2bMFkMmE2m9mzZw/Dhg0jMjJSWVD4q6++IiMjA4vFQnR0NLdv3y6xdamcnJzw9vbmn3/+4c6dO5hMJqpWrUqbNm1YvHixsvJ9QkICH374IQsXLiQrK4s6derQsWNHZs6cyV9//cWtW7f47rvvlIHWAEFBQQQGBvK///1PqbhRUVG8/vrr/Pzzz0VOa1paGosXL1aWQzhw4AD79u1TumE6dOjAtWvX+OWXXzCZTBgMBn755Rd0Op0ydqSwPLmbn58fcXFx3Lx5M89WRR8fH7p06cKCBQu4ceOGco4//PADPXr0yHfg9d2Kmi7I/jbt7Oys3CdUKhVPPvkk4eHh7N69G5PJRFRUFPPnz6dDhw65Btbnx2w2s2TJEmJjY5WgYPXq1XTp0gVXV1dcXFyIj49XVi5ISUlh1apVpKWlARRabu0pX0FBQQQHB7No0SKb/P7jjz9s0qrX64mNjS3wOt2r8lTnC8sbq8LqUmHpvNv58+cZNmwYJ0+eVALBkydPUqNGjXwH51snnxQ0Rg2yx6k1aNCARYsWkZKSgsVi4cSJE/z666/07NlTeQ41adJE6ea2XquQkBBOnDhBenq6TUNFVFQUnp6eNkOXfHx8aNu2rU1d/ueff/j000+JjY1V6tfOnTs5cOAAZrOZjIwMfvzxR6pXr079+vVzpd3Dw4OgoCA2bNhATEwMMTExLFmypNBzLg0ODg64ublx+vRppaX1r7/+Yt++ffe0X3ueA/bc/6KjowssT/kp0y1/np6evP3220yfPp09e/bwxx9/MGjQIGrUqMGhQ4eU7dq1a8fkyZP56quv+PTTTwGoVq0aEydOpFGjRly4cIGtW7fSuXNnOnTogLOzM0OHDuXDDz9kzZo1jB49uljpq1u3LnPmzOGbb77hxo0b1KhRg6lTpzJr1qwSOf/yRKVS0atXLxwcHJgzZw5Tp04Fsm+6AwYMYMCAAUqLS//+/UlISKB///6YzWYcHR0ZOHAgnTp1ArIH8b777rt89dVXyorwvr6+jBs3TmlhffXVV5kxY4YyqFij0TBq1KgSW9bCOrj/ww8/ZPv27crSCIMGDWL58uUMGTJEWTLlscceY9CgQcr5jRgxgsDAQL7//ntMJhOhoaH06dNHCQCdnZ0ZM2YMCxYsICwsTLkGffv25amnnipyWlu2bEmHDh144YUX0Gq1eHl5MXbsWGX2m7+/Px9++CEzZsxgwYIFQPYXq/fee08ZwFxYntztkUceYd++fbzyyiv079+fkSNH2ryvUqno27cvBoOBYcOGKUshDRw4UMkzexQ1XZD9jbpTp07s37+fhx9+GAcHBxo1asTEiROZMWMGM2bMwNHRkV69ejFo0CC7v70HBAQQFhbG66+/zp07d3B0dOSVV16hW7duQPbSMd27d2fMmDGYTCY0Gg3PP/88V65cAbK/UBRUblUqVaHly8HBgddff50ZM2bw7LPPAtnLY73xxhs2v06UkpJCQkKCTQtiSStPdb6wvLFq2bIlrVq1UuqSRqNh/PjxSl0qLJ15HXfYsGFMnjxZGej/8MMPM2HChHwbCXx9falduzYXLlwo8NwcHR15/fXX+eabb5T7iJeXF6NGjVLGqcL/df16e3srrUM1atSgYcOG+Pv727QYXbp0icaNG9u0FlvLpXUCpHW41KBBg2jfvj2ATf2aMmUKarWaRx55hAkTJuTZ8uzk5MSQIUOYNm0agwcPRqPR8Oqrr5KYmJjv+ZaWnGm1tjB36tSp2JPhrOx5DhRWb7Kysjh//jwPP/xw0Vv4LeVEenq6xWAwFLiN2Wy2pKSkWNLT0x9QqiwWnU5nk67Y2FjLgAEDLO+++65Fp9M9sHSUJVlZWZbk5GRLcnKyJSsrK9/tdDqd5c6dOwXma3p6uiUlJcViNpvzfT8pKcliNBrvOd15MZvNeeaj0Wi0JCUl5Zn2rKysXOndsGFDnmXCYDDcU/qPHDmi7LewfdlTP+zJk5z0en2BeWyx3Ps5Fidd8fHxlnHjxlmioqJsXreWTXv3k5eC8t5ise98Cyu3hR3Duo/86sa+ffsskydPtmRmZhZyNiWjvNR5e8uivXlYUDpzsuanvc+mP/74wzJ+/Hi7t9fpdIVee3v28cEHH1hOnTqV7zYGg6HA/LOWg6I8+3Q6nV3XsLTdz/iisPKWX72JjY21vPrqq7nuc/Yo0y1/Odkzi8Y6HfxB2bNnD59++imtW7dm1KhRuLi4sGLFCm7dusVjjz2mTM+uaNRqtV3jD1xdXQv9tlJYvt/vn65SqVR5ptHR0ZFKlSrlej0jI4MZM2bQokULevfujVqtJiEhgQMHDtC0adNc+3JycspzP8VR2L7sqR/25ElO9pTxkjjHoqarcuXKuWbNgv1lsyD55b2VPedbWLkt7BgF7UOr1bJ161YGDBhQ5JmSxVVe6ry9ZbEk8jAne/Izp9atW7N9+3YuX75My5YtC92+qPUjL3q9nubNmxe4dI6Tk1Ou2dA5Fad+lZel0e5nfFFYecsvf/fs2UOrVq2UuQ1FobJY8ln/QBTKZDKxatUqVq1apQzOdXR0pEePHowaNUp+U7OCOn78OLNmzVJ+Fi4pKYnu3bsrv2xRko4ePcqGDRvk12SEIudP/pX24s6i+Kw/6SbPEZGXvH4irygk+CsB9v5epKg4rL+9ajabC/1tSSGEEOJBkuBPCCGEEKICKdNLvQghhBBCiJIlwZ8QQgghRAUiwZ8QQgghRAUiwZ8QQgghRAUiwZ8QQgghRAUiwZ8QQgghRAUiwZ8QQgghRAUiwZ8QQgghRAUiwZ8QQgghRAUiwZ8QQgghRAUiwZ8QQgghRAUiwZ8QQgghRAUiwZ8QQgghRAXi+KAOdPPmzQd1KCGEEEIIkQ+VxWKxlHYihBBCCCHEgyHdvkIIIYQQFYgEf0IIIYQQFYgEf0IIIYQQFYgEf0IIIYQQFYgEf0IIIYQQFYgEf0IIIYQQFYgEf0IIIYQQFYgEf0IIIYQQFYgEf0IIIYQQFYgEf0IIIYQQFcgD+21f8e9nMpnQ6XQYjUYexK8GqlQqnJyccHNzw9FRirIQD9KDru8gdV6IkiK/7StKhMlkIjU19YE9BHJSqVR4eXnJw0CIB6Q06ztInRfiXkm3rygROp2u1B4EFosFnU5XKscWoiIqzfoOUueFuFcS/IkSYTQaK/TxhahIykJ95nFoyQAAIABJREFUKwtpEKK8kuBPlIjSHj1Q2scX5Y/ZbObSpUvEx8eXdlLKnbJQ38pCGoQor8p88BcfH8+pU6cwGAx2bW8ymTh9+jSxsbH3OWVClD69Xs+pU6fQarWlnZRyR61Wk5WVxezZs0lLSyvt5IgyxmKxkJ6ejslkKu2klDsWi4WLFy9y69at0k7Kv47RaOTs2bOkpqbe034eaPCXkJDArFmz6NGjB127dqVHjx7MmjWLpKQkZZvZs2fTtWtXjh49il6vZ86cObz11lucOnXKrmOcPn2asWPHMmfOHPR6/f06FWEno9HIhQsX+Pvvv4v1gE1NTeXYsWOcOHGCjIyMEk1bVlZWkba3WCwcPHiQF154ga5duxIaGsrWrVsLbIE4d+4cw4cPZ+LEiQWWxytXrjBy5Ei6du3KE088wWeffWZTL/Kzb98+du7ciaura5HOpbiOHj1a6LnYY+PGjSWyn4KYzWb+/PNPJb969OjBkiVLbI5Zt25dLBYLJ0+evG/pqGjKcp0vivPnz/P888/z+++/l9g+y1P9sVgsnDlzplj3pZiYGBYuXIharUav1zNx4kSOHj1q97Fnz57Nxo0b7yX5QPZ1mj17dqHbFSeND9LRo0cZOnQoSUlJODk5kZCQwKJFi+7pi8kDmyoVHx/P+++/z9WrV2ncuDH16tXj1KlTbN26lWvXrjFz5ky8vb1tPuPq6kr//v1p2LAhISEhdh2nQYMGjBgxgrp16+Li4nI/TkXYKS0tjY8//piYmBhcXV2xWCxMmDCBJk2a2PX58PBw5s2bh5OTEyaTCUdHRyZPnkxwcPA9p+3EiRPMmTOHKVOm2L2/o0ePMm/ePEaNGkWbNm04cuQIixYtolKlSrRv395mW71ez/Lly9m+fTuBgYEF7jc2NpaPP/6YHj168Pnnn6PValm6dCnz589n4sSJODs75/m55ORkfv31V0aMGIGDg4N9J16B7Nixg6VLl/LWW2/RvHlzYmNjmT59Om5ubgwcOBCVSoWrqyutW7fmwIEDdOjQQa7jPSrLdd5kMvHPP/8QHByMSqUqdPt69erxxRdfULt27Xs+dnl0+vRpPvzwQ0aMGMF//vMftFotc+fO5bvvvmP8+PH5zrS2WCxs2bKFxo0bU7VqVTIzMx9wyv/9HnroIdauXUtkZCQNGjQo1j4eWMvf8ePHuXLlCv369WPevHm88cYbfPvtt4SGhnL58mUiIyPz/FxwcDDPPPMMHh4eNq9rtVqSkpJyLTfg4uJCz549adSoEZBd4ZOTk9FqtVgsFlJTU0lKSspzsLB125SUFMxmM1qtluTkZGn2L6bff/+d2NhYFixYwNKlSwkJCWHp0qV2f37JkiU0atSIpUuXsnTpUjw8PFizZk2JpK1FixaEhobywQcf5Fv2cjIYDPz222/06tWLLl26oNFo6Nq1K8899xzr1q3L1e1648YNtFot3377LY8++miB+z516hT+/v6EhYXh7e1N9erVGTBgAP/88w9xcXH5fu7y5cuYzeZcD8ac5Txny4DZbCYlJSVXa4FWq81Vj6z1q6DuZOtx7q5LWq021zGsxy6sPhV2XKPRSFJSUqH7yczM5Ny5cwwbNuz/tXfncVGVfePHPwPD5gAKKG4YIS5obqm472ku3UliZqGZ3qX3baYZruVupneWZA9pZZqhpCRqPuWN5uOO4lKPUd6WqYmoGfsiDAzM9vuD35zHicVBEdH5vl8vXy85c+ac68w513W+59oOPXv2xN3dnWbNmvHSSy9x+vRpqxqlZs2acfHiRXJycsrdnrBNTc7zly9fZvHixbetrbdQq9U88sgj1KpVCyi59m7evInJZCozf93Kcp1a7iVlqcn5ByAxMZGnnnqKp556SimXxo8fz4ULF8jMzCz3e9nZ2fzwww907969wiDbcr8t734Mth23ZTtVda/+axxQXpoqOv/lxScWt7s+bhereHl50aJFC06fPn0HR1ii2mr+LBfjrc1TarWa6dOnM3369HK/t27dOr755htWrlxJcHAw2dnZvP/++yQkJCjrdOrUiTfffBMfHx+Sk5OZMWMGQUFBLF68mD/++IMZM2bQuXNnnJyc2Lt3LwC+vr4sX75cuXGePXuWZcuWKTfbIUOGoNfr+eGHH1i1alWVPHnam/Pnz9O8eXO8vb0BaNOmDV9++SWFhYW4ubkp68XFxbF9+3Zef/112rdvD5Rc/AsXLqR27do4Ojri6OhIgwYNquwGrVKpGDFiBADz5s3jnXfeqfAcp6WlkZyczAsvvGBVoAUHB7N3717S09PRaDTK8oCAAKZPn25TDUPfvn3p3r17pZtuExMTeeSRR6z2m5mZyYoVKzh//jzu7u5kZ2fz8ssvExoaiqOjI7GxsVy6dInFixfj6upKSkoKc+fOZeLEifTs2ROtVsuaNWs4cOAAXl5eZGdnM3ToUP75z3+WSl9RURHLly9n5MiRBAcHK8vXrVuHv78/oaGhQEkT0NKlS7lx4wbu7u74+PgoD2cWlv0ePnyYOnXqkJmZabVfs9nM3r17+fjjj6lVqxZGoxEvLy+WLFlCw4YNS/02Li4uzJgxo9RyrVaLm5ubVQ2f5frMzs7Gx8enUudAWKvJeb5FixbMnz+fpUuXAjB06NAK82dubi4LFizgjTfeIDAwkMTERLZu3UqjRo1ISEjAbDaj1+uZP38+3bp1U45h7969rFmzBjc3NwoLC2nUqBELFy7Ez8/Pavs1Of8AvPTSS6WW6XQ6HBwccHJyKvd3u379OsXFxdSvX7/cdc6cOcM777yDg4MDjo6OFBQUMGXKFAYPHqysk5+fz4IFC7hw4QIGgwFnZ2fmz59P27Zty9xOeetURmpqKq+++io3b94kPz+/1LlLSkpi2bJlZGVlUatWLTIzMxkzZgxhYWE4OjpanQcfHx9ycnIYOHAgkydPxtnZudR5KGsflhjnf//3f5V8NHToUKt0qlQqWrVqxf79+0vlLVtVW81fhw4d8PHxYdOmTbz11lscPny40pm6uLiYyMhITp48yciRI4mKimLcuHH8+OOPrFmzpsJBIfHx8dSqVYu3336bfv36kZaWRlRUFMXFxWRkZPDhhx+Sm5vLhAkTWLVqFWazmSNHjtztYdu1nJwc5aKMi4tj27ZtyvJbZWZmcvPmTavlKpWKJk2a4OzszKlTp9i2bRtnz55l2LBhVZY+SwD43HPP3bYGUKfTUatWLXx9fa2W+/j4oFKpyMrKslru4OBgU+AHJQ9Enp6eyvpms5nDhw/z6KOPltrfrelJTk6mWbNmSiBTXFzMmjVr8Pf3Z+fOncTExPDhhx+ya9cufvjhB+V4c3NzOXnyJEajkZ07d9KhQwe6du2K2Wxm69atZGZmEhMTQ0xMDFFRUZw7d46DBw/adCxlpfOjjz6ibdu2SpqmTp3K4cOHlXUs+83JyWHbtm1s2bJF2W9cXBxQEnzHxsYyZ84cYmJi2Lp1K506deLbb78tt2bl1jRkZ2dz/PhxoqOjCQkJsQpkNRoNRqPRpr5MomI1Pc8HBQWxcOFCoqOjba4BvNVPP/1EQEAA27dvZ8eOHYwbN46oqCil8/3PP//M5s2bWb58ObGxsezcuZO2bduybt06mwct3qom5B9LLdW5c+f46KOPGDp0KF5eXuWun5SUhK+vL56enmV+npmZycaNG5kwYQLbtm0jJiaG8PBwvvrqK6tydPv27QwbNoxt27axY8cOpdUwIyMDgGvXrrF69WrCw8PLXaeyoqOjCQ8PJyYmRjl3H330ETqdjsLCQr744gu6d+9ObGwsX375JREREezdu5crV64AJcHohQsX+OKLL9i8eTOff/45V69e5eeffwb+7/pYuXJlmfswGo1ER0djNpvZvn07W7ZsISIigqNHj5ZKa8OGDcnMzLzjfrHVVvPXtGlTli1bxpo1azh58iQnT54ESvpVvP766zb1Cbl27Rpnzpyhffv2TJgwAY1Gw5gxY/D09ESr1VY471NQUBB///vf0Wg0tGrVikuXLpGcnIxWq+XSpUv8/vvvDBs2jDFjxuDo6EizZs24ceMGV69erbLfwN6YzWYKCgp4//33KSwsJCwsjKioqFIF7tixYwkJCSmzsMjNzWX9+vXk5eXRoEEDWrduXak06HQ6Fi9ezKlTp2677ooVK3j33XfLrP3Jzs6moKAAB4fSz0tms7nSg0fKYzabSUhI4ODBgyxZsqTc/n5QMmDl1t/s999/5/r16/zjH/9QvhcUFMTQoUP5/vvv6datGz4+PkyYMIGNGzcCJbWHS5cuRa1Wk5qaSnx8PNOnT1cK9wYNGrB69eo7Pp6kpCTS09N54403lDS1bNmSQYMGkZSUBJTcmE6ePMmsWbOU7h0NGjRg7Nix7Nu3j2HDhqHX6zEajcrnarWaf/zjHzalIS4ujsjISNRqNaNHj1ZqmkTVqwl53mg0cv78eXJzc8tdZ9CgQXz88cfA7WsAb+Xv788TTzyhlAOdOnUiLi6OrKwsNBoNcXFx9O3bV6l5cnZ25p///CcFBQV39DaSmpB/EhMTmT17NgCDBw+mX79+Ff5elv2Ud7w+Pj5ERkZaLfPz81OCTEttV6dOnejSpQsqlQqVSsWgQYPYv38/586do2/fvhw+fJi2bdvSrVs3ZZ0hQ4YQHx/P1atXqVu3rtU+DAYD+fn5Vteis7OzVcvJgAEDCAoKUj4bMWIE8+bNIykpiVatWrFkyRKrbdavXx8HBweysrIIDAykoKAANzc3ZbxBvXr1WLVqlfK7xMXF8fTTT1vt47nnnmPx4sWkpKTg5uZGYmIiM2fOtDqXI0aM4KuvvrLat0ajUZqo76TFolrfjRMUFERkZCQ3b97kt99+Y/fu3SQkJLBo0SJWrlxJ06ZNK/x+VlYWubm5NGnSRDlhzs7OjBw58rb7vrWpx8HBweomfuPGDaCkf6FlHU9PTwICAiT4uwuOjo6cO3eO5557jpEjRxIfH68sv5XlVU1lqV+/Pp999hlarZbFixcTERHBu+++a3MaXFxceOuttyoMzg4cOEBsbCzTpk0rNxO5u7vj4uJS5lOySqWqsoECJ0+e5L333mPOnDk0b978tutbCkooaSa5evUqM2fOtCqc8/LyaNmyJTqdDldXVzp27EhCQgJvv/02CxYsoEGDBsr3NRpNqQ7utxaOlZWfn4+3t7fV+VWpVNSrV0+5eeXn55Odnc3SpUutfsfCwkJq1apFYWEhjRs3JjQ0lNmzZ9OwYUN69uzJ0KFDady48W1v3KGhoYSGhpKTk8OGDRtYtGgRCxcuxMPDwypNMtjj7tWEPK/X6/n3v//Nf/7zn3LXKS4upqCggPj4eHr37m11LVTE19e3VPcHk8mE0WhEr9eTm5tL//79ra5JJyenUoMZbVUT8k9wcDCHDh1Cq9Wya9cuwsPDeffddyts1vX09KywaTgvL48jR45w4sQJrl69Snp6eqnftWnTplbbsJRNlv6GGRkZJCQkcPbsWWUds9lMeno6V65coWPHjlbbs3QJu/WhYPjw4bzxxhvK338dPOHl5UWdOnXIz88HSioTTp48ybFjx7hw4QJZWVlW/St79epFQkICo0ePpnXr1gwYMIC+ffvi4eGhXB87d+5kz549yneMRiNpaWmkp6fj7e2Ni4tLqRafevXqlftb3qlqC/4sHWXd3d3x9PQkODiYzp07s2nTJr744gsSExNvG/xVJ6PRKFPF3KW6devi5ubGqFGjgJInepVKZdNTSlFREbt376ZDhw4EBgai0Wh47LHH2L9/f6XSUNFNxmw2c+jQIXbu3Mm8efNo165dudvx8PDAYDCU6heWm5uLg4ODVRB2py5evEhkZCRz5swpNXq4PJYHF4vGjRvz4osvlqoxrF27tlKQGgwGMjIyUKvVZGZmYjablRuA0Wis8gFOxcXFt21a8vT0ZPTo0aXOlaurKxqNBpVKRUhICH379iUxMZGEhAQmTZrEK6+8wogRI2yqualTpw5jx44lPDycixcvKjcHy83gTm/Q4v/UhDzv6uqq1FSVRafTsWbNGtLS0pg9e7bNgZ+tqnp0a03JPxqNhmeeeYbTp09z8uRJQkJCyl03IyNDedj8q+vXrzN37lweffRRhg4dSmBgILm5uSxfvtxqvb++vs9kMpVqOu/WrRu9e/cutY+yRmgHBgaya9euCo/xr/d8o9Go7NPSB9RsNhMSEsK4ceNwcnJi7ty5yvoajYZFixZx48YNTp8+zXfffUdUVBTLly+nSZMmQMl4gr/22bSkLzs7u1JlsKXP5J2otuDP0gly4cKF9OzZ84620bBhQ3x9fUlOTiYvLw8PDw+0Wi2rVq0iLy+P+fPn39F2mzVrpvQzGTx4MBqNhvT09AqfHMXtdenShU8//ZRTp07RsGFDDh48SIcOHUo1B5TV+dvFxYV9+/bx/fff8+qrr1JUVMSpU6fKzDR3whL4rV+/noULFyrV8OWpW7cuvr6+fP/991bTDv3yyy/UqVPnrp/MLl68yPz58wkLC1M6j1fEUptw60SfloK/ZcuWVp24CwsLcXFxUWq7Dx8+TGZmJosWLWL9+vW0a9eO5s2b4+Xlhclk4saNG1ZP9RcvXgQotyby2rVrSod1nU5HamqqMr2Np6cnOTk5ZGZmKjWIZrPZqkbd3d0dJycn/Pz8aNOmjbJcp9OhVqtRq9WYzWZ0Oh21a9emX79+9OvXj4MHDxIbG8vAgQNL3fRyc3NZtmwZYWFhPP744xX+lllZWajVahnsUQVqcp4H68Bv7ty5FfZdqywXFxcaNGjA+fPn6dOnjxJQZWVlceXKFatr+1Y1Mf/odDr+67/+i8cee4ynnnqqUr+Dj48P+fn55ba2/Pnnn/j4+PDmm28qx2SZjeNWloEjlgfZvLw8kpOTlcEPDRo04Pfff6dLly7K9WUymSgqKrqjARAAV65csXoYTk9PR6vV4u3tTUZGBkVFRSxdulQpHzMzM60Cc4PBgMFgwM/PDz8/P4YPH86//vUvDh06xMsvv4yPjw9qtdpqJLTlO66uruj1evR6faky+Nq1a6XSercPrdU24OOJJ55ApVLx9ttv8/bbb/PRRx8xe/ZsNm3ahI+PDx06dLjtNho2bEjfvn356aefWLFiBQcPHiQiIoIjR47wyCOPlJoOxlYtWrQgODiY06dPM23aNFatWkV4eLi8NeEu9e/fnyeffJIPPviA8PBw3NzcmDhxYqn1yur8DTB79mx0Oh3h4eG8+eab1K9f3+Z+Krfzyy+/sHnzZpsCPyh5gh4yZAg7d+7kzJkzmEwmfvzxRzZu3MiTTz6pFGLXr1/n3LlzFTYzZ2VlcebMGeWJMj09XZn8vE+fPsr0BxVNgeDo6Iifnx/Xr19X9hUQEIC/vz8bN25UCobk5GSmTJmiPPGmpKQQExPD2LFj6d69O0888QRRUVHodDq8vLzo2rUra9eu5Y8//gBKCsN33nmnzDfmuLq60rRpU3bv3s3FixdJT08nOjqa3377TVknICCAwMBAPvnkE/Lz8zGZTBw7dsyqA7Ovry9dunThs88+U94IkJGRwaJFi/j4448xGo388ssvjB8/nsTEROVGlpiYSOPGjcss6N3d3fH19SUyMpKkpCTMZjM5OTlER0fj6elpNbL73LlztGnTRmr+qkBNzvP3MvCDklaG/v37s2fPHo4dO4bJZKKgoIDPPvuMAwcOlKqhqcn5x9XVlSZNmrBx40alvLM0+6anp5dqUr2Vr68v+fn5SlPpX7m4uJCenq4ENLm5uWzZsqXUhOBnzpxRBqTodDqio6NxcXFRmmZ79erFhQsXiIuLw2AwYDKZOHjwIOPHj7dp+q6yfPfdd8pI7tzcXGW6oiZNmuDi4qKMEbD8hjt27OD69evK9y0DWi0DTlJSUrhy5QpNmzbF0dGRJ598kri4OE6fPq3UZG7bto2pU6eSkZGBr68vPXr0YO3ataSkpGA2m/n111/ZsWNHqdrZa9eulXv+bFFtNX/BwcEsWLCAyMhIq5GDlgEftjT5Ojo68ve//x21Wk1sbCwnTpxArVYzZMgQJkyYcMfVn66urrz11lts2bKFo0eP8ttvvzFlyhROnTpV5igbYRtHR0cmTpzI+PHj0ev1ynxZf1Ve5+/AwEBWr15NXl4ezs7OVTppd+vWrfnwww/LbRIuS58+fcjPz2fhwoVotVpcXFx4+eWXGThwoLLO119/TXFxcYWd1OPj4zl27Jgy5UR8fDyXLl3i0qVLbNq0yWpdyxRHZWnfvj1Hjx4lNzcXb29vnJ2dmTp1KmvXriU0NBSTyYRarWbUqFEMGzYMg8FATEwMrVq1omvXrkoH6WPHjhEXF8eIESMYO3YsJpOJ8ePHK5PsWgLFsowcOZILFy4wadIk1Go1EydOtFrX2dmZKVOmsGLFCp5++mnld5w2bZoy7ZJKpWLs2LFs2rSJcePGYTAYcHBwYMCAAYwdOxZHR0dat27N+PHjWbBggfJQ1qlTJ2bPnl1m3yJHR0cmT57Mxo0bmTRpkrLNzp07s2TJEiXQ02q1/PTTT4wZM8bmTv+ifDU5z1sCo3sR+Fm0a9eOWbNmERERwcKFC4H/m4qsrPtTTc0/lrRZpt+xfKd58+YsXbpUacIsS+PGjXF2diY5ObnMfoGtW7dm8ODBTJ06FYPBgEaj4dlnn+XSpUtW6z3//PNcvnyZQYMGYTKZaN68uTIVEECTJk2YM2cOERERyls8vL29CQ8Pv+MuZJMmTWLXrl1KK2KPHj2YOnUqzs7ONG7cmDFjxrBixQq0Wq0ygOzWKXxGjx5NRkYGo0ePVsrfsLAw+vTpA5RcH9OmTWPlypXKyOamTZsSHh6uDFB54YUXyMrKYsyYMZhMJoKCgpgyZQpbtmxR9mMJ6Dt16nTHb3dSme/D27G1Wi3FxcW4ubndccItI3c0Gk2FHUsrs72ioiKlBsdoNLJy5UpOnTol8/zZoKJJP6tLdTXbGQwGtFotGo3GqjnLcs107NjRar6qv9q8eTOFhYVMmjTprtKh1WpZtGgRISEhpfq96PV6tFpthaPuKqLX68nPz1ealG6nqKgIJyenMkdD35peo9GIh4dHuYHW7fK15XMnJyebB6JUtM34+HgOHz7MnDlzKhxZLazVhPwO1ZfnK8tkMpGXl4darbbpOq3J+cdyLC4uLjbfr7du3cr169cJDw8vt1LG1jLKluO2ZR1bmc1m8vLycHR0LPM3siX2sEwNU175ebt9WLZRVFSEh4dHqesiNTWVJUuWMHfu3Dt+A021jva10Gg0dzWCEEqGqtepU6dK0vPnn38yY8YMjEYj06ZNIygoiBMnTnDkyBECAgJKDRkX9k2tVpfZRKjVasnKyqrwVYR6vZ6kpCSGDBly1+mwPDHv27ePrl27WgUvTk5Od5U/nJycKlU7YksNjS15/nb5+k7yfXnfMZvNtG/fnm7dulXJA6QQFg4ODpXqRlCT809ljwVKptJZsWIFf/zxR7nBia1llC3HfbfxxK0qGiQItv2Grq6uFQbKt9vH7bZx8OBBOnbsWGEN7O3cl5q/mujMmTOsXLmS1NRUZVnz5s158803CQgIuI8pezBkZWVVesLUqqRSqapkxO3dyMjIID4+nqFDh5abaQsKCti7dy/9+/evkqYnk8lEfn4+tWrVuqMaPiHuxP3O71Az8rwon1arxdHR8Y5b90TZqqrMl+DvFpaqWKPRWGryR1GxvLy8O5rBvqo4OztX+ZQNQoiy3e/8DpLnhbgbUlVwC1uqYkXZ3Nzc0Ov196U2QKVS3fGIJyFE5d3P/A6S54W4W1LzJ6qMwWCgsLCw2m4KKpUKJycn3NzcpMlTiGpW3fkdJM8LUVUk+BNCCCGEsCPVNsmzEEIIIYS4/yT4E0IIIYSwIxL8CSGEEELYEQn+hBBCCCHsiAR/QgghhBB2RII/IYQQQgg7IsGfEEIIIYQdkeBPCCGEEMKOSPAnhBBCCGFHJPgTQgghhLAj1fZyxBs3blTXroQQQgghRDnk3b5CCCGEEHZEmn2FEEIIIeyIBH9CCCGEEHZEgj8hhBBCCDsiwZ8QQgghhB2R4E8IIYQQwo5I8CeEEEIIYUck+BNCCCGEsCMS/AkhhBBC2BEJ/oQQQggh7IgEf0IIIYQQdkSCPyGEEEIIO6K+3wkQDw+DwUBhYSF6vR55ZXTNp1KpcHJyws3NDbVaigJROZLfHz5SJtgPlVlyragCBoOBmzdvyk3gAaRSqfD09JTCXthM8vvDTcqEh580+4oqUVhYKDeCB5TZbKawsPB+J0M8QCS/P9ykTHj4SfAnqoRer7/fSRB3Qc6fqAy5Xh5+co4fbhL8iSohtQAPNjl/ojLkenn4yTl+uFVbg/7OnTuJjIws87Phw4fzxhtvVFdS7pjlGKZOnUpoaOj9Ts5Dx2w2o1Kp7ncyKiU3N5fPP/8cgI4dO9K3b9/7nCJraWlpfPnllwB07dqVHj163OcUCfF/amKer+l5+m5JmSDgPoz2rVOnDh4eHlbLPD09qzsZ4j44evQoBw4cYMGCBVYdiVNTU1m3bh2//vorJpOJCRMmMHjwYJu3e/PmTU6cOMGAAQNwcnJSlh87doz/+Z//Uf6eOHEifn5+VXMw/59Op+P48eN07twZd3f3Up/r9XouXbpEQUEBLVq0KHXtVxW9Xo9Opyu1fbVaja+vL//93/9Nw4YNpaAX1aqq87y95OkvvviCZs2a0atXL6vlly9fRqfTAeDq6kqjRo1wdXW1+fsgZYIoUe3B34svvlhmrZnJZCIvLw+z2Yy7u7tSUGi1WoqLi3Fzc1Mucsu6JpMJZ2dnNBqNsh2DwUB+fr4yXD0vLw8ADw8PHBwc0Ov15Ofn4+joiIeHByqVStmeSqXCw8ODgoKCUvusiGWflrTfGoCI/5Oens65c+dKLY+MjCSF/PJgAAAMN0lEQVQ1NZXXXnsNT09PfHx8KrXds2fPEh0dzeOPP46vr6+y3MfHh1atWvHnn39y/Pjxe9qBuXfv3nTq1MlqWV5eHkuWLOH69eu4urpiNpuZPXs2jz32WJXt98KFCxw6dIiEhAQmTZpEz549rT739vZmzJgx7N69u8r2KYStqjrP20OeBkhKSqJu3bqllq9du5YrV64ofzs7OxMaGsqzzz5r0/dBygRRosaM41apVOzevZvPP/+cWbNmMWTIEDIyMpg7dy4mk4l//etfuLq6kpSUxLJly7h8+TIADg4O9OnTh5kzZ6LRaEhOTmbGjBk8/vjjmEwmjh49CkCfPn0YOXIk77zzDmlpaTg4ODBy5EgmTZpEXl4e06dPp0GDBrRt25aNGzdiMpnQaDRMmTKFIUOGlNk0YTabOXz4MKtWrUKr1QKg0WiYMWMG/fr1q3HNGTWRwWDg4sWLhISE3PETaM+ePenatWupaQlatWpFq1atOHPmDMePH6+K5FbKv//9b1JSUli7di21a9dm+fLlbNiwgYiIiCrZ/pYtW/j666/x8/NTrj8harq7yfMPe56+VXk1iu3bt2fevHlotVq++uorYmJi6NatW6ka0HvVyiAeDtUe/BUWFpKdnW21zFJbNmTIEI4cOcL27dvp1KkT+/btIykpiVmzZuHr60tubi4rV64kNzeXZcuW0aJFCzZt2sTu3btp27atVY1iQkICo0aNYuHChWzevJljx47xn//8h3HjxgGwceNG9uzZwxNPPKHUFp05c4bCwkJWrFhBRkYG69atY+3atTRt2pSWLVuWOpZff/2ViIgIAgICmDx5Mi4uLqxevZqIiAjq169P69at7+EvWfPp9Xo2bNjA0aNHqV+/PvXr17f6fMGCBaSnp2M0Gvnuu+84duwYAB9++KFNtadHjhzhq6++Uv6ePXs2jz76qM3pM5lM7Nixgz179qDT6ejcuTOvvPKKVTeEb7/9lm+++QadTkerVq145ZVXrGoXK3L+/HmaN2+Ot7c3AG3atOHLL7+ksLAQNzc3m9NZnk6dOjFo0CAKCgqYMWPGXW9PiLt1r/P87Tzoedqid+/eBAYGlvmZg4MDDg4OeHh40KNHD/bu3Ut6erpV8FfR94WA+zDad/369YSGhlr9S0xMBEqq9MPCwkhKSuLjjz/mm2++oXv37vTr1w+A2rVrExkZSVRUFD179qRevXpKM1dycrLVftq1a8eYMWPo378/L730EiaTiWeeeYaQkBBCQkLo27cv+fn53Lx5U/lO7dq1mTlzJl26dGHYsGGMGzeO/Px8Tp8+Xeo4zGYz+/btA+C1116jdevWBAYG8uqrr2IymZRCzZ7t2rWLAwcO8OyzzxIaGqrU1lqMGTOGiRMnAtClSxcmT57M5MmTcXR0tGn7gYGBjBw5ks6dO5OWllbpqQl27drF9u3bGTFiBK+99hoXLlxg5cqVyuf79+9n06ZNPPnkk7z++uukpaXx3nvv2bz9nJwc5YYQFxfHtm3blOVVoWXLltSrV69KtiVEVbjXed6W/T/Iedpi4MCB5fZlzMrK4vjx4+zfv58NGzbg7+9PmzZtbP6+EHAfav7+9re/0b17d6tltz6h9OjRg759+3Lo0CHc3d0JCwuz6neXl5fHnj17SEhIIDU1lYyMjDL34+joqDS71qpVC8Cqb2BZAgICrG6mTZo0AShzH0VFRaSkpKDT6Vi6dKlSeBUXF6PT6ZT+i/bc9Hv8+HEef/xxpUY2NTWVmJgY5fOgoCCKiooAlCb3yvDz88PPz48zZ84QFxdX6fTt27ePHj168PTTTwMltRaRkZEkJyfj7+/P/v37adu2LaNGjQJKaqiPHj2KwWCwaeZ7s9lMQUEB77//PoWFhYSFhREVFSVTKIiH1r3O87djD3k6NTWVHTt2oNfrSU1NZejQoTg4yKxtonKqPfgLCAiosJ9HUVERWVlZQEkgdWvN3LVr15g5cyZarZYBAwbw/PPPk5uby/vvv18laSsuLsZkMlXqO56enrz44oulRizXrl0bk8lUZU+0D6LMzEzatWun/F2TAmGDwUBGRgaNGzdWlln+n5qair+/P2lpaXTr1k35PCgoiKCgIJv34ejoyLlz53juuecYOXIk8fHxynIhHkb3M8/bS55u1aoV8+bNA0q6Hi1YsIAmTZowcODAakuDePDVqMcFS1Pq2bNnefHFF2ncuDFRUVHk5uYCkJKSQlpaGi+99BLh4eH06tWr0iNDK3L58mWl+dhsNnPhwgUA/P39S63r4uJCgwYNyM/Pp379+vTo0YMePXrQpk0bvLy8ePTRR+3+Jl+nTp0qbw6pKmq1Gk9PTzIzM5VllocOyzXl5eVllf6cnBzOnj2L0Wi0aR9169alRYsWjBo1CgcHB3Jzc1GpVFV6zQpRk9zPPG+PebpZs2aoVCrS09Pvy/7Fg6vaa/6OHDnCjRs3rJYFBQUxcOBAkpKS2Lp1q1It36hRI9577z12795NWFgYLi4uODs7c+rUKYKDg0lJSeHTTz+tsirvgoICVqxYwejRo/njjz/4+uuv8fX1JTg4uNS6KpWKp556imPHjvHee+8RFhaGh4cHX3/9NWfPnmXBggVKX0V71blzZ6WJ3sfH5477QX7yySf8+OOPLF261KoDeWZmJjdu3CApKQmAixcvotPpaNq0KRqNhvT0dFJSUkp97u/vj6enJ3369GH//v0EBwfj4+NDbGwsfn5+yqCR3r17ExMTw4kTJ/D39+fzzz/n+vXrfPLJJzalu0uXLnz66aecOnWKhg0bcvDgQTp06FCqeenbb7+lSZMmdOjQ4Y5+HyFqinud5yVPl3R9+uWXX9Dr9Rw8eBAoGQEsRGVUe/D3888/8/PPP1stGz58OP369SM2Npb8/HwmTJiAh4cH/fr14/Dhw8TGxtKlSxdat25NWFgY0dHRTJgwAW9vb5599lmrEZ93o1GjRgwfPpxPPvkErVaLt7c3c+bMUfr+/VXz5s1ZsmQJERERrFq1CihpBp42bVqZk2vam1GjRnH16lUiIiJwc3OjTZs2XLt2rdLbSU9PJycnh4KCAqvl33//PevXr1f+tszKv3TpUlq3bs3x48eJjo4u9fmcOXMIDg7mhRdeIC8vjxUrVmA2mwkICGDWrFlKje3f/vY30tPT+eCDDzCZTDzyyCPMmjXL5nT379+fpKQkPvjgAwwGA82bN1c6u99q586d9OrVS4I/8cC713le8jRcunSJhQsXolaradSoEVOnTrX7mSVE5anMD2Dvc71ej1artZoM+m5kZ2czffp0AFavXo2Hhwc6nQ6NRmNznxWtVovRaFQmjrY3tza1/NXNmzdxd3e/4xpao9GonI97obCwkOLiYmrXrl3m50VFRRQXF5c5b1ZqaipTpkzh5Zdfpnfv3uW+EUCv1ysDj25lMBh44YUXGDt2LCEhIXd/MGXsOycnh6lTp/LMM8/w/PPPl7uuNEcLW1WU3+H+5/mHOU/fLSkTBNSwPn+2cnJyok6dOlUS+JVFrVbj7u5eqSBOo9Hg6elpl4Hf7Xh6et5V07yjo+M9C/wA3Nzcyr1JQEn/zttNmLphwwa2b99e5mdOTk5l3iSgpCbcUst9L1y7do3JkydjMBjuyfaFKMv9zvMPc56+W1ImCHhAa/6q2l9r/ry8vO5zih48t6sJeFiZTCblXZtOTk6Vnqi2uLiYtLS0ezYnV2XSJ0/5wlYPc36v6Xn6bkmZIECCP1FFsrKyZP66B5hKpVLeWiDE7Uh+f/hJmfBweyCbfUXNUxWvZhL3j5w/URlyvTz85Bw/3CT4E1XCzc1N+js+oFQqVZW+l1Q8/CS/P9ykTHj4SbOvqDIGg4HCwkL0er00CT0AVCoVTk5OuLm53bPBU+LhJfn94SNlgv2Q4E8IIYQQwo5Is68QQgghhB2R4E8IIYQQwo5I8CeEEEIIYUck+BNCCCGEsCMS/AkhhBBC2BEJ/oQQQggh7IgEf0IIIYQQdkSCPyGEEEIIOyLBnxBCCCGEHZHgTwghhBDCjlTby/tu3LhRXbsSQgghhBDlkHf7CiGEEELYEWn2FUIIIYSwIxL8CSGEEELYEQn+hBBCCCHsiAR/QgghhBB2RII/IYQQQgg7IsGfEEIIIYQdkeBPCCGEEMKOSPAnhBBCCGFH/h/8U+ceTBbvEQAAAABJRU5ErkJggg==)\n"
      ],
      "metadata": {
        "id": "l8pi2z6aEdrF"
      }
    },
    {
      "cell_type": "code",
      "source": [],
      "metadata": {
        "id": "e15OR75OEjwI"
      },
      "execution_count": null,
      "outputs": []
    }
  ]
}