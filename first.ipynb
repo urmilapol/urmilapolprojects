{
  "nbformat": 4,
  "nbformat_minor": 0,
  "metadata": {
    "colab": {
      "name": "first.ipynb",
      "provenance": [],
      "authorship_tag": "ABX9TyMoikfBgwfnaTKsrnA/GhoE",
      "include_colab_link": true
    },
    "kernelspec": {
      "name": "python3",
      "display_name": "Python 3"
    },
    "language_info": {
      "name": "python"
    }
  },
  "cells": [
    {
      "cell_type": "markdown",
      "metadata": {
        "id": "view-in-github",
        "colab_type": "text"
      },
      "source": [
        "<a href=\"https://colab.research.google.com/github/urmilapol/urmilapolprojects/blob/master/first.ipynb\" target=\"_parent\"><img src=\"https://colab.research.google.com/assets/colab-badge.svg\" alt=\"Open In Colab\"/></a>"
      ]
    },
    {
      "cell_type": "code",
      "execution_count": null,
      "metadata": {
        "colab": {
          "base_uri": "https://localhost:8080/"
        },
        "id": "bKgej9BvpZMu",
        "outputId": "a7cbe15b-f674-4959-8646-ae31a0090b9d"
      },
      "outputs": [
        {
          "output_type": "stream",
          "name": "stdout",
          "text": [
            "User Full Name\n",
            "This string is broken up over multiple lines\n",
            "Monopoly\n"
          ]
        }
      ],
      "source": [
        "user = \"User Full Name\"\n",
        "game = 'Monopoly'\n",
        " \n",
        "longer = \"This string is broken up \\\n",
        "over multiple lines\"\n",
        "print(user)\n",
        "print(longer)\n",
        "print(game)"
      ]
    },
    {
      "cell_type": "code",
      "source": [
        "user_name = \"@sonnynomnom\"\n",
        "user_id = 100\n",
        "verified = False\n",
        " \n",
        "# A variable's value can be changed after assignment\n",
        " \n",
        "points = 100\n",
        "print(points)\n",
        "points = 120\n",
        "print(points)"
      ],
      "metadata": {
        "colab": {
          "base_uri": "https://localhost:8080/"
        },
        "id": "jUILXZwKqFjq",
        "outputId": "769b513e-b46e-4ad1-fe12-bc9c3fbad2f4"
      },
      "execution_count": null,
      "outputs": [
        {
          "output_type": "stream",
          "name": "stdout",
          "text": [
            "100\n",
            "120\n"
          ]
        }
      ]
    },
    {
      "cell_type": "code",
      "source": [
        "x=5\n",
        "y=10\n",
        "print(x+y)"
      ],
      "metadata": {
        "colab": {
          "base_uri": "https://localhost:8080/"
        },
        "id": "rq4qpkKZqq7F",
        "outputId": "00033b12-5880-4a6d-c813-4d9d620f53a6"
      },
      "execution_count": null,
      "outputs": [
        {
          "output_type": "stream",
          "name": "stdout",
          "text": [
            "15\n"
          ]
        }
      ]
    },
    {
      "cell_type": "code",
      "source": [
        "# Arithmetic operations\n",
        " \n",
        "result = 10 + 30\n",
        "print(result)\n",
        "result = 40 - 10\n",
        "print(result)\n",
        "result = 50 * 5\n",
        "print(result)\n",
        "result = 16 / 4\n",
        "print(result)\n",
        "result = 25 % 2\n",
        "print(result)\n",
        "result = 5 ** 3\n",
        "print(result)"
      ],
      "metadata": {
        "colab": {
          "base_uri": "https://localhost:8080/"
        },
        "id": "LSNm2DNKrj2j",
        "outputId": "df8e5fc7-9f95-4c74-b80a-788296f37798"
      },
      "execution_count": null,
      "outputs": [
        {
          "output_type": "stream",
          "name": "stdout",
          "text": [
            "40\n",
            "30\n",
            "250\n",
            "4.0\n",
            "1\n",
            "125\n"
          ]
        }
      ]
    },
    {
      "cell_type": "code",
      "source": [
        "first = \"Hello \"\n",
        "second = \"World\"\n",
        " \n",
        "result = first + second\n",
        " \n",
        "long_result = first + second + \"!\"\n",
        "print(long_result)"
      ],
      "metadata": {
        "colab": {
          "base_uri": "https://localhost:8080/"
        },
        "id": "W0NfRdb5sBFU",
        "outputId": "6f9f33be-05d5-40af-f79d-d0b35dbbc67c"
      },
      "execution_count": null,
      "outputs": [
        {
          "output_type": "stream",
          "name": "stdout",
          "text": [
            "Hello World!\n"
          ]
        }
      ]
    },
    {
      "cell_type": "code",
      "source": [
        "# Plus-Equal Operator\n",
        " \n",
        "counter = 0\n",
        "counter += 10c\n",
        " \n",
        "# This is equivalent to\n",
        " \n",
        "counter = 0\n",
        "counter = counter + 10\n",
        " \n",
        "# The operator will also perform string concatenation\n",
        " \n",
        "message = \"Part 1 of message \"\n",
        "message += \"Part 2 of message\"\n",
        "print()"
      ],
      "metadata": {
        "id": "F_XkiWX2sSL2"
      },
      "execution_count": null,
      "outputs": []
    },
    {
      "cell_type": "code",
      "source": [
        " \n",
        "if 'Yes' == 'Yes':\n",
        "  # evaluates to True\n",
        "  print('They are equal')\n",
        " \n",
        "if (2 > 1) == (5 < 10):\n",
        "  # evaluates to True\n",
        "  print('Both expressions give the same result')\n",
        " \n",
        "c = '2'\n",
        "d = 2\n",
        " \n",
        "if c == d:\n",
        "  print('They are equal')\n",
        "else:\n",
        "  print('They are not equal')"
      ],
      "metadata": {
        "colab": {
          "base_uri": "https://localhost:8080/"
        },
        "id": "02ohAD_IEvgZ",
        "outputId": "ee91dde2-1817-4e4e-9d8d-650db01f3811"
      },
      "execution_count": 1,
      "outputs": [
        {
          "output_type": "stream",
          "name": "stdout",
          "text": [
            "They are equal\n",
            "Both expressions give the same result\n",
            "They are not equal\n"
          ]
        }
      ]
    },
    {
      "cell_type": "code",
      "source": [
        "# Not Equals Operator\n",
        " \n",
        "if \"Yes\" != \"No\":\n",
        "  # evaluates to True\n",
        "  print(\"They are NOT equal\")\n",
        " \n",
        "val1 = 10\n",
        "val2 = 20\n",
        " \n",
        "if val1 != val2:\n",
        "  print(\"They are NOT equal\")\n",
        " \n",
        "if (10 > 1) != (10 > 1000):\n",
        "  # True != False\n",
        "  print(\"They are NOT equal\")"
      ],
      "metadata": {
        "colab": {
          "base_uri": "https://localhost:8080/"
        },
        "id": "I5i4ttZ1FCLA",
        "outputId": "3137b6f9-5c67-4716-804c-262ec6b6ac68"
      },
      "execution_count": 2,
      "outputs": [
        {
          "output_type": "stream",
          "name": "stdout",
          "text": [
            "They are NOT equal\n",
            "They are NOT equal\n",
            "They are NOT equal\n"
          ]
        }
      ]
    },
    {
      "cell_type": "code",
      "source": [
        "# if Statement\n",
        " \n",
        "test_value = 100\n",
        " \n",
        "if test_value > 1:\n",
        "  # Expression evaluates to True\n",
        "  print(\"This code is executed!\")\n",
        " \n",
        "if test_value > 1000:\n",
        "  # Expression evaluates to False\n",
        "  print(\"This code is NOT executed!\")\n",
        " \n",
        "print(\"Program continues at this point.\")"
      ],
      "metadata": {
        "colab": {
          "base_uri": "https://localhost:8080/"
        },
        "id": "4UjBm_FvFrZB",
        "outputId": "37de4e47-81d4-4221-cb89-57ec27c1c37b"
      },
      "execution_count": 3,
      "outputs": [
        {
          "output_type": "stream",
          "name": "stdout",
          "text": [
            "This code is executed!\n",
            "Program continues at this point.\n"
          ]
        }
      ]
    },
    {
      "cell_type": "code",
      "source": [
        "# else Statement\n",
        " \n",
        "test_value = 50\n",
        " \n",
        "if test_value < 1:\n",
        "  print(\"Value is < 1\")\n",
        "else:\n",
        "  print(\"Value is >= 1\")\n",
        " \n",
        "test_string = \"VALID\"\n",
        " \n",
        "if test_string == \"NOT_VALID\":\n",
        "  print(\"String equals NOT_VALID\")\n",
        "else:\n",
        "  print(\"String equals something else!\")"
      ],
      "metadata": {
        "colab": {
          "base_uri": "https://localhost:8080/"
        },
        "id": "-DvScam3F8dj",
        "outputId": "03c0b5b9-dab7-433b-e50f-b14ddb73a85c"
      },
      "execution_count": 4,
      "outputs": [
        {
          "output_type": "stream",
          "name": "stdout",
          "text": [
            "Value is >= 1\n",
            "String equals something else!\n"
          ]
        }
      ]
    },
    {
      "cell_type": "code",
      "source": [
        "is_true = True\n",
        "is_false = False\n",
        " \n",
        "print(type(is_true)) \n",
        "# will output: <class 'bool'>"
      ],
      "metadata": {
        "colab": {
          "base_uri": "https://localhost:8080/"
        },
        "id": "mmZCTSTxGV4C",
        "outputId": "57031dda-1a04-45a8-c253-7b100acc87ee"
      },
      "execution_count": 5,
      "outputs": [
        {
          "output_type": "stream",
          "name": "stdout",
          "text": [
            "<class 'bool'>\n"
          ]
        }
      ]
    }
  ]
}