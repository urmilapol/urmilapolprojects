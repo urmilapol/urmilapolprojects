{
  "nbformat": 4,
  "nbformat_minor": 0,
  "metadata": {
    "colab": {
      "name": "Outlier_detection.ipynb",
      "provenance": [],
      "collapsed_sections": [],
      "include_colab_link": true
    },
    "kernelspec": {
      "name": "python3",
      "display_name": "Python 3"
    }
  },
  "cells": [
    {
      "cell_type": "markdown",
      "metadata": {
        "id": "view-in-github",
        "colab_type": "text"
      },
      "source": [
        "<a href=\"https://colab.research.google.com/github/urmilapol/urmilapolprojects/blob/master/Outlier_detection.ipynb\" target=\"_parent\"><img src=\"https://colab.research.google.com/assets/colab-badge.svg\" alt=\"Open In Colab\"/></a>"
      ]
    },
    {
      "cell_type": "markdown",
      "metadata": {
        "id": "zJO4vezhQLe7"
      },
      "source": [
        "## Table of Contents\n",
        "\n",
        "- Data Exploration, Outlier detection, Feature Engineering\n",
        "- What is an Outlier?\n",
        "  - Angle-Based Outlier Detection (ABOD) and KNN\n",
        "- 5 ways to detect anomalies\n",
        "  - Standard Deviation\n",
        "  - Isolation Forest\n",
        "  - DBScan\n",
        "  - Boxplots\n",
        "  - Robust Random Cut Forest (RRCF)\n",
        "    - Creating the tree\n",
        "    - Inserting point\n",
        "    - Deleting point\n",
        "  - Robust Random Cut Forest code..!!!\n",
        "- Treating Missing values\n",
        "- Univariate Analysis\n",
        "- Bi-variate Analysis\n",
        "  - Chi-square Test(Categorical and categorical)\n",
        "  - Code for chi-square test..!!!\n",
        "  - Types of Combinations\n",
        "- Feature Engineering"
      ]
    },
    {
      "cell_type": "markdown",
      "metadata": {
        "id": "Zcj18Gd1fUBY"
      },
      "source": [
        "## Data Exploration, Outlier detection, Feature Engineering\n",
        "\n",
        "Data exploration consists of many aspects, such as variable identification, treating missing values, feature engineering, etc. Detecting and treating outliers is a major factor in the data exploration stage. The quality of your inputs decide the quality of your output!.\n",
        "\n",
        "Anomalies, or outliers, can be a serious issue when training machine learning algorithms or applying statistical techniques. They are often the result of errors in measurements or exceptional system conditions and therefore do not describe the common functioning of the underlying system. Indeed, the best practice is to implement an outlier removal phase before proceeding with further analysis. \n",
        "\n",
        "In python, PyOD is a library that can be used to detect outliers in your data. It provides access to more than 20 different algorithms to detect outliers and is compatible with both Python 2 and 3.\n",
        "\n",
        "\n",
        "This article assumes you have a basic knowledge of machine learning algorithms and the Python language. "
      ]
    },
    {
      "cell_type": "markdown",
      "metadata": {
        "id": "Yn3xgkIjgxyn"
      },
      "source": [
        "## What is an Outlier?\n",
        "An outlier is any data point which differs greatly from the rest of the observations in a dataset. Let’s see some real life examples to understand outlier detection:\n",
        "\n",
        "When one student averages over 90% while the rest of the class is at 70% – a clear outlier\n",
        "While analyzing a certain customer’s purchase patterns, it turns out there’s suddenly an entry for a very high value. While most of his/her transactions fall below Rs. 10,000, this entry is for Rs. 1,00,000. It could be an electronic item purchase – whatever the reason, it’s an outlier in the overall data\n",
        "How about Usain Bolt? Those record breaking sprints are definitely outliers when you factor in the majority of athletes.\n",
        "\n",
        "![alt text](https://i0.wp.com/s3-ap-south-1.amazonaws.com/av-blog-media/wp-content/uploads/2019/02/impact-of-outliers.png?resize=800%2C400&ssl=1)"
      ]
    },
    {
      "cell_type": "markdown",
      "metadata": {
        "id": "5a82-1JAg6nH"
      },
      "source": [
        "### Angle-Based Outlier Detection (ABOD) and KNN\n",
        "### Angle-Based Outlier Detection (ABOD)\n",
        "It considers the relationship between each point and its neighbor(s)- It does not consider the relationships among these neighbors. The variance of its weighted cosine scores to all neighbors could be viewed as the outlying score\n",
        "- ABOD performs well on multi-dimensional data.PyOD provides two different versions of ABOD:\n",
        "- Fast ABOD: Uses k-nearest neighbors to approximate\n",
        "- Original ABOD: Considers all training points with high-time complexity\n",
        " \n",
        "\n",
        "### k-Nearest Neighbors Detector\n",
        "For any data point, the distance to its kth nearest neighbor could be viewed as the outlying score\n",
        "PyOD supports three kNN detectors:\n",
        "- Largest: Uses the distance of the kth neighbor as the outlier score\n",
        "- Mean: Uses the average of all k neighbors as the outlier score\n",
        "- Median: Uses the median of the distance to k neighbors as the outlier score.\n",
        "\n",
        "*credits= analyticsindia, analyticsvidhya*\n",
        "\n"
      ]
    },
    {
      "cell_type": "code",
      "metadata": {
        "id": "C6Fq-xkZg54O",
        "outputId": "5d243a9d-d097-428d-8293-aaa5f12c7312",
        "colab": {
          "base_uri": "https://localhost:8080/",
          "height": 638
        }
      },
      "source": [
        "!pip install pyod\n",
        "!pip install --upgrade pyod  # to make sure that the latest version is installed!"
      ],
      "execution_count": null,
      "outputs": [
        {
          "output_type": "stream",
          "text": [
            "Collecting pyod\n",
            "\u001b[?25l  Downloading https://files.pythonhosted.org/packages/70/c3/02949ae2c7d5b9f917654009d2c41e3e55f4bd23d2ac0557a09e12d97e2c/pyod-0.7.4.tar.gz (84kB)\n",
            "\u001b[K     |████████████████████████████████| 92kB 5.8MB/s \n",
            "\u001b[?25hRequirement already satisfied: joblib in /usr/local/lib/python3.6/dist-packages (from pyod) (0.13.2)\n",
            "Requirement already satisfied: matplotlib in /usr/local/lib/python3.6/dist-packages (from pyod) (3.0.3)\n",
            "Requirement already satisfied: numpy>=1.13 in /usr/local/lib/python3.6/dist-packages (from pyod) (1.16.5)\n",
            "Requirement already satisfied: numba>=0.35 in /usr/local/lib/python3.6/dist-packages (from pyod) (0.40.1)\n",
            "Requirement already satisfied: scipy>=0.19.1 in /usr/local/lib/python3.6/dist-packages (from pyod) (1.3.1)\n",
            "Requirement already satisfied: scikit_learn>=0.19.1 in /usr/local/lib/python3.6/dist-packages (from pyod) (0.21.3)\n",
            "Requirement already satisfied: six in /usr/local/lib/python3.6/dist-packages (from pyod) (1.12.0)\n",
            "Requirement already satisfied: cycler>=0.10 in /usr/local/lib/python3.6/dist-packages (from matplotlib->pyod) (0.10.0)\n",
            "Requirement already satisfied: kiwisolver>=1.0.1 in /usr/local/lib/python3.6/dist-packages (from matplotlib->pyod) (1.1.0)\n",
            "Requirement already satisfied: pyparsing!=2.0.4,!=2.1.2,!=2.1.6,>=2.0.1 in /usr/local/lib/python3.6/dist-packages (from matplotlib->pyod) (2.4.2)\n",
            "Requirement already satisfied: python-dateutil>=2.1 in /usr/local/lib/python3.6/dist-packages (from matplotlib->pyod) (2.5.3)\n",
            "Requirement already satisfied: llvmlite>=0.25.0dev0 in /usr/local/lib/python3.6/dist-packages (from numba>=0.35->pyod) (0.29.0)\n",
            "Requirement already satisfied: setuptools in /usr/local/lib/python3.6/dist-packages (from kiwisolver>=1.0.1->matplotlib->pyod) (41.2.0)\n",
            "Building wheels for collected packages: pyod\n",
            "  Building wheel for pyod (setup.py) ... \u001b[?25l\u001b[?25hdone\n",
            "  Created wheel for pyod: filename=pyod-0.7.4-cp36-none-any.whl size=95437 sha256=227f7d7ca0a967493bcca746362ac97fba2ffd533185f81f7e8c768f6e50277b\n",
            "  Stored in directory: /root/.cache/pip/wheels/30/2f/4a/90c7bf3403325384b1c2ef5eb50d65d7467b8dd1b64a92ab82\n",
            "Successfully built pyod\n",
            "Installing collected packages: pyod\n",
            "Successfully installed pyod-0.7.4\n",
            "Requirement already up-to-date: pyod in /usr/local/lib/python3.6/dist-packages (0.7.4)\n",
            "Requirement already satisfied, skipping upgrade: scikit-learn>=0.19.1 in /usr/local/lib/python3.6/dist-packages (from pyod) (0.21.3)\n",
            "Requirement already satisfied, skipping upgrade: six in /usr/local/lib/python3.6/dist-packages (from pyod) (1.12.0)\n",
            "Requirement already satisfied, skipping upgrade: matplotlib in /usr/local/lib/python3.6/dist-packages (from pyod) (3.0.3)\n",
            "Requirement already satisfied, skipping upgrade: numba>=0.35 in /usr/local/lib/python3.6/dist-packages (from pyod) (0.40.1)\n",
            "Requirement already satisfied, skipping upgrade: numpy>=1.13 in /usr/local/lib/python3.6/dist-packages (from pyod) (1.16.5)\n",
            "Requirement already satisfied, skipping upgrade: scipy>=0.19.1 in /usr/local/lib/python3.6/dist-packages (from pyod) (1.3.1)\n",
            "Requirement already satisfied, skipping upgrade: joblib in /usr/local/lib/python3.6/dist-packages (from pyod) (0.13.2)\n",
            "Requirement already satisfied, skipping upgrade: pyparsing!=2.0.4,!=2.1.2,!=2.1.6,>=2.0.1 in /usr/local/lib/python3.6/dist-packages (from matplotlib->pyod) (2.4.2)\n",
            "Requirement already satisfied, skipping upgrade: cycler>=0.10 in /usr/local/lib/python3.6/dist-packages (from matplotlib->pyod) (0.10.0)\n",
            "Requirement already satisfied, skipping upgrade: kiwisolver>=1.0.1 in /usr/local/lib/python3.6/dist-packages (from matplotlib->pyod) (1.1.0)\n",
            "Requirement already satisfied, skipping upgrade: python-dateutil>=2.1 in /usr/local/lib/python3.6/dist-packages (from matplotlib->pyod) (2.5.3)\n",
            "Requirement already satisfied, skipping upgrade: llvmlite>=0.25.0dev0 in /usr/local/lib/python3.6/dist-packages (from numba>=0.35->pyod) (0.29.0)\n",
            "Requirement already satisfied, skipping upgrade: setuptools in /usr/local/lib/python3.6/dist-packages (from kiwisolver>=1.0.1->matplotlib->pyod) (41.2.0)\n"
          ],
          "name": "stdout"
        }
      ]
    },
    {
      "cell_type": "code",
      "metadata": {
        "id": "FctzOp9wgxYA"
      },
      "source": [
        "import numpy as np\n",
        "from scipy import stats\n",
        "import matplotlib.pyplot as plt\n",
        "%matplotlib inline\n",
        "import matplotlib.font_manager"
      ],
      "execution_count": null,
      "outputs": []
    },
    {
      "cell_type": "code",
      "metadata": {
        "id": "7ZOu4_u4gONr"
      },
      "source": [
        "\n",
        "from pyod.models.abod import ABOD\n",
        "from pyod.models.knn import KNN\n"
      ],
      "execution_count": null,
      "outputs": []
    },
    {
      "cell_type": "code",
      "metadata": {
        "id": "na3dfVWUoL_Q",
        "outputId": "04c6bcb6-e859-4432-a3fe-6766fbe028d9",
        "colab": {
          "base_uri": "https://localhost:8080/",
          "height": 300
        }
      },
      "source": [
        "from pyod.utils.data import generate_data, get_outliers_inliers\n",
        "\n",
        "#generate random data with two features\n",
        "X_train, Y_train = generate_data(n_train=1000,train_only=True, n_features=2)\n",
        "\n",
        "# by default the outlier fraction is 0.1 in generate data function \n",
        "outlier_fraction = 0.1\n",
        "\n",
        "# store outliers and inliers in different numpy arrays\n",
        "x_outliers, x_inliers = get_outliers_inliers(X_train,Y_train)\n",
        "\n",
        "n_inliers = len(x_inliers)\n",
        "n_outliers = len(x_outliers)\n",
        "\n",
        "#separate the two features and use it to plot the data \n",
        "F1 = X_train[:,[0]].reshape(-1,1)\n",
        "F2 = X_train[:,[1]].reshape(-1,1)\n",
        "\n",
        "# create a meshgrid \n",
        "xx , yy = np.meshgrid(np.linspace(-10, 10, 1000), np.linspace(-10, 10, 1000))\n",
        "\n",
        "# scatter plot \n",
        "plt.scatter(F1,F2)\n",
        "plt.xlabel('F1')\n",
        "plt.ylabel('F2') "
      ],
      "execution_count": null,
      "outputs": [
        {
          "output_type": "execute_result",
          "data": {
            "text/plain": [
              "Text(0, 0.5, 'F2')"
            ]
          },
          "metadata": {
            "tags": []
          },
          "execution_count": 18
        },
        {
          "output_type": "display_data",
          "data": {
            "image/png": "[encoded data removed]",
            "text/plain": [
              "<Figure size 432x288 with 1 Axes>"
            ]
          },
          "metadata": {
            "tags": []
          }
        }
      ]
    },
    {
      "cell_type": "code",
      "metadata": {
        "id": "mTVyw50woOLQ"
      },
      "source": [
        "classifiers = {\n",
        "     'Angle-based Outlier Detector (ABOD)'   : ABOD(contamination=outlier_fraction),\n",
        "     'K Nearest Neighbors (KNN)' :  KNN(contamination=outlier_fraction)\n",
        "}"
      ],
      "execution_count": null,
      "outputs": []
    },
    {
      "cell_type": "code",
      "metadata": {
        "id": "5Znq1hcjoV_I",
        "outputId": "bfb66f5f-b0f8-427b-8683-2f241b7e49fb",
        "colab": {
          "base_uri": "https://localhost:8080/",
          "height": 1000
        }
      },
      "source": [
        "#set the figure size\n",
        "plt.figure(figsize=(20, 20))\n",
        "\n",
        "for i, (clf_name,clf) in enumerate(classifiers.items()) :\n",
        "    # fit the dataset to the model\n",
        "    clf.fit(X_train)\n",
        "\n",
        "    # predict raw anomaly score\n",
        "    scores_pred = clf.decision_function(X_train)*-1\n",
        "\n",
        "    # prediction of a datapoint category outlier or inlier\n",
        "    y_pred = clf.predict(X_train)\n",
        "\n",
        "    # no of errors in prediction\n",
        "    n_errors = (y_pred != Y_train).sum()\n",
        "    print('No of Errors : ',clf_name, n_errors)\n",
        "\n",
        "    # rest of the code is to create the visualization\n",
        "\n",
        "    # threshold value to consider a datapoint inlier or outlier\n",
        "    threshold = stats.scoreatpercentile(scores_pred,100 *outlier_fraction)\n",
        "\n",
        "    # decision function calculates the raw anomaly score for every point\n",
        "    Z = clf.decision_function(np.c_[xx.ravel(), yy.ravel()]) * -1\n",
        "    Z = Z.reshape(xx.shape)\n",
        "\n",
        "    subplot = plt.subplot(1, 2, i + 1)\n",
        "\n",
        "    # fill blue colormap from minimum anomaly score to threshold value\n",
        "    subplot.contourf(xx, yy, Z, levels = np.linspace(Z.min(), threshold, 10),cmap=plt.cm.Blues_r)\n",
        "\n",
        "    # draw red contour line where anomaly score is equal to threshold\n",
        "    a = subplot.contour(xx, yy, Z, levels=[threshold],linewidths=2, colors='red')\n",
        "\n",
        "    # fill orange contour lines where range of anomaly score is from threshold to maximum anomaly score\n",
        "    subplot.contourf(xx, yy, Z, levels=[threshold, Z.max()],colors='orange')\n",
        "\n",
        "    # scatter plot of inliers with white dots\n",
        "    b = subplot.scatter(X_train[:-n_outliers, 0], X_train[:-n_outliers, 1], c='white',s=20, edgecolor='k') \n",
        "    # scatter plot of outliers with black dots\n",
        "    c = subplot.scatter(X_train[-n_outliers:, 0], X_train[-n_outliers:, 1], c='black',s=20, edgecolor='k')\n",
        "    subplot.axis('tight')\n",
        "\n",
        "    subplot.legend(\n",
        "        [a.collections[0], b, c],\n",
        "        ['learned decision function', 'true inliers', 'true outliers'],\n",
        "        prop=matplotlib.font_manager.FontProperties(size=10),\n",
        "        loc='lower right')\n",
        "\n",
        "    subplot.set_title(clf_name)\n",
        "    subplot.set_xlim((-10, 10))\n",
        "    subplot.set_ylim((-10, 10))\n",
        "plt.show() "
      ],
      "execution_count": null,
      "outputs": [
        {
          "output_type": "stream",
          "text": [
            "No of Errors :  Angle-based Outlier Detector (ABOD) 12\n",
            "No of Errors :  K Nearest Neighbors (KNN) 2\n"
          ],
          "name": "stdout"
        },
        {
          "output_type": "display_data",
          "data": {
            "image/png": "[encoded data removed]",
            "text/plain": [
              "<Figure size 1440x1440 with 2 Axes>"
            ]
          },
          "metadata": {
            "tags": []
          }
        }
      ]
    },
    {
      "cell_type": "markdown",
      "metadata": {
        "id": "WLX1R5bw7zhW"
      },
      "source": [
        "## 5 ways to detect anomalies\n",
        "\n",
        "**Let's explore 5 common ways to detect anomalies starting with the most simple way.**\n",
        "\n",
        "1. Standard deviation\n",
        "2. Isolation forest\n",
        "3. DBscan\n",
        "4. Boxplot\n",
        "5. Robust random cut forest "
      ]
    },
    {
      "cell_type": "markdown",
      "metadata": {
        "id": "nOmxyf_cLEiH"
      },
      "source": [
        "### Standard Deviation\n",
        "\n",
        "In statistics, If a data distribution is approximately normal then about 68% of the data values lie within one standard deviation of the mean and about 95% are within two standard deviations, and about 99.7% lie within three standard deviations.\n",
        "\n",
        "f we know that the distribution of values in the sample is Gaussian or Gaussian-like, we can use the standard deviation of the sample as a cut-off for identifying outliers.\n",
        "\n",
        "The Gaussian distribution has the property that the standard deviation from the mean can be used to reliably summarize the percentage of values in the sample.\n",
        "\n",
        "For example, within one standard deviation of the mean will cover 68% of the data.\n",
        "\n",
        "So, if the mean is 50 and the standard deviation is 4, as in the test dataset above, then all data in the sample between 46 and 54 will account for about 68% of the data sample. We can cover more of the data sample if we expand the range as follows:\n",
        "\n",
        "- 1 Standard Deviation from the Mean: 68%\n",
        "- 2 Standard Deviations from the Mean: 95%\n",
        "- 3 Standard Deviations from the Mean: 99.7%\n",
        "A value that falls outside of 3 standard deviations is part of the distribution, but it is an unlikely or rare event at approximately 1 in 370 samples.\n",
        "\n",
        "![alt text](https://miro.medium.com/max/1474/1*rV7rq7F_uB5gwjzzGJ9VqA.png)\n",
        "\n",
        "Therefore, if you have any data point that is more than 3 times the standard deviation, then those points are very likely to be anomalous or outliers."
      ]
    },
    {
      "cell_type": "code",
      "metadata": {
        "id": "Sl3QluGZLld5",
        "outputId": "0e1e0639-0ecf-4610-f3f3-6fbb9b8314a8",
        "colab": {
          "base_uri": "https://localhost:8080/",
          "height": 34
        }
      },
      "source": [
        "\n",
        "# generate gaussian data\n",
        "from numpy.random import seed\n",
        "from numpy.random import randn\n",
        "from numpy import mean\n",
        "from numpy import std\n",
        "# seed the random number generator\n",
        "seed(1)\n",
        "# generate univariate observations\n",
        "data = 4 * randn(50000) + 50\n",
        "# summarize\n",
        "print('mean=%.3f stdv=%.3f' % (mean(data), std(data)))\n"
      ],
      "execution_count": null,
      "outputs": [
        {
          "output_type": "stream",
          "text": [
            "mean=50.015 stdv=4.003\n"
          ],
          "name": "stdout"
        }
      ]
    },
    {
      "cell_type": "code",
      "metadata": {
        "id": "uJo57jSPPFJm"
      },
      "source": [
        "\n",
        "# calculate summary statistics\n",
        "data_mean, data_std = mean(data), std(data)\n",
        "# identify outliers\n",
        "cut_off = data_std * 1\n",
        "lower, upper = data_mean - cut_off, data_mean + cut_off"
      ],
      "execution_count": null,
      "outputs": []
    },
    {
      "cell_type": "code",
      "metadata": {
        "id": "V-olfCnBPLmt",
        "outputId": "ff0a79d2-a514-4e7d-f129-fb96b52a56f5",
        "colab": {
          "base_uri": "https://localhost:8080/",
          "height": 50
        }
      },
      "source": [
        "# identify outliers\n",
        "outliers = [x for x in data if x < lower or x > upper]\n",
        "print('Identified outliers: %d' % len(outliers))\n",
        "# remove outliers\n",
        "outliers_removed = [x for x in data if x >= lower and x <= upper]\n",
        "print('Non-outlier observations: %d' % len(outliers_removed))"
      ],
      "execution_count": null,
      "outputs": [
        {
          "output_type": "stream",
          "text": [
            "Identified outliers: 15880\n",
            "Non-outlier observations: 34120\n"
          ],
          "name": "stdout"
        }
      ]
    },
    {
      "cell_type": "markdown",
      "metadata": {
        "id": "BIDYKknwQaMV"
      },
      "source": [
        "So far we have only talked about univariate data with a Gaussian distribution, e.g. a single variable. You can use the same approach if you have multivariate data, e.g. data with multiple variables, each with a different Gaussian distribution.\n",
        "\n",
        "You can imagine bounds in two dimensions that would define an ellipse if you have two variables. Observations that fall outside of the ellipse would be considered outliers. In three dimensions, this would be an ellipsoid, and so on into higher dimensions."
      ]
    },
    {
      "cell_type": "code",
      "metadata": {
        "id": "NUNmQS_JQZm9"
      },
      "source": [
        ""
      ],
      "execution_count": null,
      "outputs": []
    },
    {
      "cell_type": "markdown",
      "metadata": {
        "id": "Dj7JUzMe1qdS"
      },
      "source": [
        "### Isolation Forest\n",
        "\n",
        "It is an unsupervised learning algorithm that belongs to the ensemble decision trees family. This approach is different from all previous methods. All the previous ones were trying to find the normal region of the data then identifies anything outside of this defined region to be an outlier or anomalous.\n",
        "This method works differently. It explicitly isolates anomalies instead of profiling and constructing normal points and regions by assigning a score to each data point. It takes advantage of the fact that anomalies are the minority data points and that they have attribute-values that are very different from those of normal instances. This algorithm works great with very high dimensional datasets and it proved to be a very effective way of detecting anomalies. Since this article is focusing on the implementation rather than the know-how, I will not go any further on how the algorithm works. "
      ]
    },
    {
      "cell_type": "code",
      "metadata": {
        "id": "ocWuNZBDwXtf",
        "outputId": "48185289-bd88-4e6d-ef38-aa4129dfbfd3",
        "colab": {
          "base_uri": "https://localhost:8080/",
          "height": 34
        }
      },
      "source": [
        "from sklearn.ensemble import IsolationForest\n",
        "import numpy as np\n",
        "np.random.seed(1)\n",
        "data = np.random.randn(50000,2)  * 20 + 20\n",
        "\n",
        "clf = IsolationForest( behaviour = 'new', max_samples=100, random_state = 1, contamination= 'auto')\n",
        "preds = clf.fit_predict(data)\n",
        "preds"
      ],
      "execution_count": null,
      "outputs": [
        {
          "output_type": "execute_result",
          "data": {
            "text/plain": [
              "array([-1,  1, -1, ...,  1,  1,  1])"
            ]
          },
          "metadata": {
            "tags": []
          },
          "execution_count": 6
        }
      ]
    },
    {
      "cell_type": "markdown",
      "metadata": {
        "id": "XQx6Oonn1IKG"
      },
      "source": [
        "### DBScan\n",
        "\n",
        "DBScan is a clustering algorithm that’s used cluster data into groups. It is also used as a density-based anomaly detection method with either single or multi-dimensional data. Other clustering algorithms such as k-means and hierarchal clustering can also be used to detect outliers. In this instance, I will show you an example of using DBScan but before we start, let’s cover some important concepts.\n",
        "\n",
        " DBScan has three important concepts:\n",
        "\n",
        "**Core Points**: In order to understand the concept of the core points, we need to visit some of the hyperparameters used to define DBScan job. First hyperparameter (HP)is min_samples. This is simply the minimum number of core points needed in order to form a cluster. second important HP is eps. eps is the maximum distance between two samples for them to be considered as in the same cluster.\n",
        "\n",
        "**Border Points** are in the same cluster as core points but much further away from the centre of the cluster.\n",
        "\n",
        "![alt text](https://miro.medium.com/max/352/1*d35zOOP2PQ13ZROxr9ddjA.png)\n"
      ]
    },
    {
      "cell_type": "code",
      "metadata": {
        "id": "2VyIJ44HxT1W",
        "outputId": "29cf6ccf-e3f5-4e45-bd94-e8d33bacdcbd",
        "colab": {
          "base_uri": "https://localhost:8080/",
          "height": 34
        }
      },
      "source": [
        "\n",
        "from sklearn.cluster import DBSCAN\n",
        "np.random.seed(1)\n",
        "random_data = np.random.randn(50000,2)  * 20 + 20\n",
        "\n",
        "outlier_detection = DBSCAN(min_samples = 2, eps = 3)\n",
        "clusters = outlier_detection.fit_predict(random_data)\n",
        "list(clusters).count(-1)"
      ],
      "execution_count": null,
      "outputs": [
        {
          "output_type": "execute_result",
          "data": {
            "text/plain": [
              "94"
            ]
          },
          "metadata": {
            "tags": []
          },
          "execution_count": 8
        }
      ]
    },
    {
      "cell_type": "markdown",
      "metadata": {
        "id": "GOddnq2d0pzN"
      },
      "source": [
        "###Boxplots\n",
        "\n",
        "Box plots are a graphical depiction of numerical data through their quantiles. It is a very simple but effective way to visualize outliers. Think about the lower and upper whiskers as the boundaries of the data distribution. Any data points that show above or below the whiskers, can be considered outliers or anomalous. Here is the code to plot a box plot:\n",
        "\n",
        "![alt text](https://miro.medium.com/max/600/1*AU07MCIdvUnjskY1XH9auw.png)\n",
        "\n",
        "\n",
        "*credit=Will Badr, Analytics india mag, Kdnuggets*"
      ]
    },
    {
      "cell_type": "code",
      "metadata": {
        "id": "NGlg43FNxalT",
        "outputId": "c394182d-7268-4306-da0e-8a3c51f9c3e7",
        "colab": {
          "base_uri": "https://localhost:8080/",
          "height": 285
        }
      },
      "source": [
        "import seaborn as sns\n",
        "import matplotlib.pyplot as plt\n",
        "\n",
        "sns.boxplot(data=random_data)\n"
      ],
      "execution_count": null,
      "outputs": [
        {
          "output_type": "execute_result",
          "data": {
            "text/plain": [
              "<matplotlib.axes._subplots.AxesSubplot at 0x7f288268be48>"
            ]
          },
          "metadata": {
            "tags": []
          },
          "execution_count": 9
        },
        {
          "output_type": "display_data",
          "data": {
            "image/png": "[encoded data removed]",
            "text/plain": [
              "<Figure size 432x288 with 1 Axes>"
            ]
          },
          "metadata": {
            "tags": []
          }
        }
      ]
    },
    {
      "cell_type": "markdown",
      "metadata": {
        "id": "BT5PQ29C9YS2"
      },
      "source": [
        "###  Robust Random Cut Forest (RRCF) \n",
        "\n",
        "\n",
        "It is an ensemble method for detecting outliers in streaming data. RRCF offers a number of features that many competing anomaly detection algorithms lack. Specifically, RRCF:\n",
        "\n",
        "- Is designed to handle streaming data.\n",
        "- Performs well on high-dimensional data.\n",
        "- Reduces the influence of irrelevant dimensions.\n",
        "- Gracefully handles duplicates and near-duplicates that could otherwise mask the presence of outliers.\n",
        "- Features an anomaly-scoring algorithm with a clear underlying statistical meaning.\n",
        "\n",
        "*credits- Real-time water systems lab*\n"
      ]
    },
    {
      "cell_type": "code",
      "metadata": {
        "id": "1PShK23zZY4v",
        "outputId": "bc130d0b-3824-4ef4-92fb-4f9486c2b2f2",
        "colab": {
          "base_uri": "https://localhost:8080/",
          "height": 121
        }
      },
      "source": [
        "!pip install crcf"
      ],
      "execution_count": null,
      "outputs": [
        {
          "output_type": "stream",
          "text": [
            "Collecting crcf\n",
            "  Downloading https://files.pythonhosted.org/packages/77/a6/756bfc1ee7f5a1fe37b931ed1354efa3e4c3a00357626fd38dfe484270b3/crcf-0.0.2-py3-none-any.whl\n",
            "Requirement already satisfied: numpy in /usr/local/lib/python3.6/dist-packages (from crcf) (1.16.5)\n",
            "Installing collected packages: crcf\n",
            "Successfully installed crcf-0.0.2\n"
          ],
          "name": "stdout"
        }
      ]
    },
    {
      "cell_type": "markdown",
      "metadata": {
        "id": "tY23-iKdZn4Q"
      },
      "source": [
        "#### Creating the tree\n",
        "\n",
        "rrcf"
      ]
    },
    {
      "cell_type": "code",
      "metadata": {
        "id": "9p5GOpiMZeSQ"
      },
      "source": [
        "import numpy as np\n",
        "import rrcf\n",
        "\n",
        "# A (robust) random cut tree can be instantiated from a point set (n x d)\n",
        "X = np.random.randn(100, 2)\n",
        "tree = rrcf.RCTree(X)\n",
        "\n",
        "# A random cut tree can also be instantiated with no points\n",
        "tree = rrcf.RCTree()"
      ],
      "execution_count": null,
      "outputs": []
    },
    {
      "cell_type": "markdown",
      "metadata": {
        "id": "bzvtM5TNZz0-"
      },
      "source": [
        "#### Inserting point"
      ]
    },
    {
      "cell_type": "code",
      "metadata": {
        "id": "_w1viV86ZnLv"
      },
      "source": [
        "tree = rrcf.RCTree()\n",
        "\n",
        "for i in range(6):\n",
        "    x = np.random.randn(2)\n",
        "    tree.insert_point(x, index=i)"
      ],
      "execution_count": null,
      "outputs": []
    },
    {
      "cell_type": "markdown",
      "metadata": {
        "id": "0BDVvJBMaMSe"
      },
      "source": [
        "#### Deleting point"
      ]
    },
    {
      "cell_type": "code",
      "metadata": {
        "id": "sneUhmaZZ6f2",
        "outputId": "fd99906b-9e53-4725-e99e-4edac2a40dd7",
        "colab": {
          "base_uri": "https://localhost:8080/",
          "height": 34
        }
      },
      "source": [
        "tree.forget_point(2)"
      ],
      "execution_count": null,
      "outputs": [
        {
          "output_type": "execute_result",
          "data": {
            "text/plain": [
              "Leaf(2)"
            ]
          },
          "metadata": {
            "tags": []
          },
          "execution_count": 25
        }
      ]
    },
    {
      "cell_type": "code",
      "metadata": {
        "id": "y1gNdLT-aPWR",
        "outputId": "85df31e2-30f8-4e6c-e934-9097e5fc0052",
        "colab": {
          "base_uri": "https://localhost:8080/",
          "height": 34
        }
      },
      "source": [
        "# Seed tree with zero-mean, normally distributed data\n",
        "X = np.random.randn(100,2)\n",
        "tree = rrcf.RCTree(X)\n",
        "\n",
        "# Generate an inlier and outlier point\n",
        "inlier = np.array([0, 0])\n",
        "outlier = np.array([4, 4])\n",
        "\n",
        "# Insert into tree\n",
        "tree.insert_point(inlier, index='inlier')\n",
        "tree.insert_point(outlier, index='outlier')"
      ],
      "execution_count": null,
      "outputs": [
        {
          "output_type": "execute_result",
          "data": {
            "text/plain": [
              "Leaf(outlier)"
            ]
          },
          "metadata": {
            "tags": []
          },
          "execution_count": 26
        }
      ]
    },
    {
      "cell_type": "code",
      "metadata": {
        "id": "roEFFUxzac1G",
        "outputId": "ade1e58b-4e52-4437-fc33-26d05e0cf3c7",
        "colab": {
          "base_uri": "https://localhost:8080/",
          "height": 34
        }
      },
      "source": [
        "tree.codisp('inlier')"
      ],
      "execution_count": null,
      "outputs": [
        {
          "output_type": "execute_result",
          "data": {
            "text/plain": [
              "9.0"
            ]
          },
          "metadata": {
            "tags": []
          },
          "execution_count": 27
        }
      ]
    },
    {
      "cell_type": "code",
      "metadata": {
        "id": "6POV2k1kagFn",
        "outputId": "cb29339b-d071-425a-93ae-8bf8fdcd7ebf",
        "colab": {
          "base_uri": "https://localhost:8080/",
          "height": 34
        }
      },
      "source": [
        "tree.codisp('outlier')"
      ],
      "execution_count": null,
      "outputs": [
        {
          "output_type": "execute_result",
          "data": {
            "text/plain": [
              "10.2"
            ]
          },
          "metadata": {
            "tags": []
          },
          "execution_count": 28
        }
      ]
    },
    {
      "cell_type": "markdown",
      "metadata": {
        "id": "yEyHicPwdb0_"
      },
      "source": [
        "crcf jimbhuges"
      ]
    },
    {
      "cell_type": "markdown",
      "metadata": {
        "id": "wAzTi76iRP7w"
      },
      "source": [
        "###  Robust Random Cut Forest code..!!!\n",
        "Random Cut Forest (RCF) algorithm is Amazon’s unsupervised algorithm for detecting anomalies. \n",
        "\n",
        "It works by associating an anomaly score as well. Low score values indicate that the data point is considered “normal.” High values indicate the presence of an anomaly in the data. The definitions of “low” and “high” depend on the application but common practice suggests that scores beyond three standard deviations from the mean score are considered anomalous. The details of the algorithm can be found in this [paper](http://proceedings.mlr.press/v48/guha16.pdf)\n",
        "The great thing about this algorithm is that it works with very high dimensional data. It can also work on real-time streaming data (built in AWS Kinesis Analytics) as well as offline data.\n",
        "\n",
        "\n",
        "*credits= Will Badr*"
      ]
    },
    {
      "cell_type": "code",
      "metadata": {
        "id": "2V6M6aomb1gF"
      },
      "source": [
        "### demo credit- jmbhughes\n",
        "import numpy as np\n",
        "import matplotlib.pyplot as plt\n",
        "%matplotlib inline"
      ],
      "execution_count": null,
      "outputs": []
    },
    {
      "cell_type": "code",
      "metadata": {
        "id": "zcUgQJmGb2z5"
      },
      "source": [
        "# change this block to change the test data\n",
        "\n",
        "def gaussian_mixture(ps, means, covs, count=100):\n",
        "    counts = np.random.multinomial(count, ps, size=1)[0] # how many points are from each component\n",
        "    \n",
        "    data = [np.random.multivariate_normal(means[i], covs[i], count) for i, count in enumerate(counts)] # generate\n",
        "    data = np.concatenate(data) # combine the data\n",
        "    \n",
        "    # shuffling the data\n",
        "    new_index = np.arange(data.shape[0])\n",
        "    np.random.shuffle(np.arange(data.shape[0]))\n",
        "    data = data[new_index]\n",
        "    return data\n",
        "\n",
        "def generate_test(N, anomalous_rate):\n",
        "    # Calculate how many data points in each category\n",
        "    typical_count, anomalous_count = np.random.multinomial(N, [1-anomalous_rate, anomalous_rate], size=1)[0]\n",
        "\n",
        "    # Describe typical data with a 2 component Gaussian mixture\n",
        "    typical_means = [[8, 8],      # mean of component 1\n",
        "                    [-8, -8]]     # mean of component 2\n",
        "    typical_covs = [[[1,0],[0,1]],  # covariance matrix of component 1\n",
        "                    [[1,0],[0,1]]]  # covariance matrix of compoinent 2\n",
        "    typical_ps = [0.5,              # probability of component 1\n",
        "                  0.5]              # probability of component 2\n",
        "    typical_data = gaussian_mixture(typical_ps, typical_means, typical_covs, count=typical_count)\n",
        "\n",
        "    # Describe anomalous data with a 2 component Gaussian mixture\n",
        "    anomalous_means = [[20, -20],            # mean of component 1\n",
        "                      [0, 0]]                # mean of component 2\n",
        "    anomalous_covs = [[[0.5, 0], [0, 0.5]],  # covariance of component 1\n",
        "                      [[10, 0], [0, 10]]]    # covariance of component 2\n",
        "    anomalous_ps = [0.1,                      # probability of component 1\n",
        "                  0.9]                       # probability of component 2\n",
        "    anomalous_data = gaussian_mixture(anomalous_ps, anomalous_means, anomalous_covs, count=anomalous_count)\n",
        "\n",
        "    # Combine the data but preserve the labeling\n",
        "    x = np.concatenate([typical_data, anomalous_data])\n",
        "    y = np.concatenate([np.repeat(0, typical_count), np.repeat(1, anomalous_count)])\n",
        "    new_index = np.arange(y.shape[0])\n",
        "    np.random.shuffle(new_index)\n",
        "    y = y[new_index]\n",
        "    x = x[new_index]\n",
        "    return x, y\n",
        "\n",
        "def plot_anom(x, y):\n",
        "    \"\"\" plots anomalies with red and typical with green\"\"\"\n",
        "    fig, ax = plt.subplots()\n",
        "    ax.scatter(x[:,0], x[:,1], s=3, \n",
        "               c=['red' if yy else 'green' for yy in y])\n",
        "    fig.show()"
      ],
      "execution_count": null,
      "outputs": []
    },
    {
      "cell_type": "code",
      "metadata": {
        "id": "fe0ulMPGb-Za",
        "outputId": "f4401911-a820-430e-a5a4-052a83119934",
        "colab": {
          "base_uri": "https://localhost:8080/",
          "height": 269
        }
      },
      "source": [
        "\n",
        "N = 500  # number of data points to generate\n",
        "anomalous_rate = 0.1  # the rate at which anomalous points occur\n",
        "x, y = generate_test(N, anomalous_rate)\n",
        "plot_anom(x, y)"
      ],
      "execution_count": null,
      "outputs": [
        {
          "output_type": "display_data",
          "data": {
            "image/png": "[encoded data removed]",
            "text/plain": [
              "<Figure size 432x288 with 1 Axes>"
            ]
          },
          "metadata": {
            "tags": []
          }
        }
      ]
    },
    {
      "cell_type": "code",
      "metadata": {
        "id": "jzdyfUyfsbx3",
        "outputId": "83eec268-3cdc-4281-b881-053bba7e5218",
        "colab": {
          "base_uri": "https://localhost:8080/",
          "height": 50
        }
      },
      "source": [
        "!pip3 install crcf"
      ],
      "execution_count": null,
      "outputs": [
        {
          "output_type": "stream",
          "text": [
            "Requirement already satisfied: crcf in /usr/local/lib/python3.6/dist-packages (0.0.2)\n",
            "Requirement already satisfied: numpy in /usr/local/lib/python3.6/dist-packages (from crcf) (1.16.5)\n"
          ],
          "name": "stdout"
        }
      ]
    },
    {
      "cell_type": "markdown",
      "metadata": {
        "id": "wDDH5LAuwE92"
      },
      "source": [
        "## Treating Missing values\n",
        "### Quick classification of missing data\n",
        "\n",
        "![alt text](https://image.slidesharecdn.com/refresherinstatisticsandanalysisskill-160911041011/95/refresher-in-statistics-and-analysis-skill-52-638.jpg?cb=1473567122)\n",
        "\n",
        "\n",
        "*img source:-slideshare*\n",
        "\n",
        "#### There are three types of missing data:\n",
        "\n",
        "**MCAR:** Missing Completely At Random. It is the highest level of randomness. This means that the missing values in any features are not dependent on any other features values. This is the desirable scenario in case of missing data.\n",
        "\n",
        "**MAR:** Missing At Random. This means that the missing values in any feature is dependent on values of other features.\n",
        "\n",
        "**MNAR**: Missing Not At Random. Missing not at random data is a more serious issue and in this case,  it might be wise to check the data gathering process further and try to understand why the information is missing. For instance, if most of the people in a survey did not answer a certain question, why did they do that? Was the question unclear?\n",
        "\n",
        " \n",
        "\n",
        "### What to do with the missing values?\n",
        "\n",
        "Now that we have identified the missing values in our data, next we should check the extent of the missing values to decide the further course of action.\n",
        "\n",
        "### Ignore the missing values\n",
        "\n",
        "Missing data under 10% for an individual case or observation can generally be ignored, except when the missing data is a MAR or MNAR.\n",
        "The number of complete cases i.e. observation with no missing data must be sufficient for the selected analysis technique if the incomplete cases are not considered.\n",
        "Drop the missing values\n",
        "\n",
        "### Dropping a variable\n",
        "\n",
        "If the data is MCAR or MAR and the number of missing values in a feature is very high, then that feature should be left out of the analysis. If missing data for a certain feature or sample is more than 5% then you probably should leave that feature or sample out.\n",
        "If the cases or observations have missing values for target variables(s), it is advisable to delete the dependent variable(s) to avoid any artificial increase in relationships with independent variables.\n",
        "Case Deletion\n",
        "\n",
        "In this method, cases which have missing values for one or more features are deleted. If the cases having missing values are small in number, it is better to drop them. Though this is an easy approach, it might lead to a significant decrease in the sample size. Also, the data may not always be missing completely at random. This may lead to biased estimation of parameters.\n",
        "\n",
        "### Imputation\n",
        "\n",
        "Imputation is the process of substituting the missing data by some statistical methods. Imputation is useful in the sense that it preserves all cases by replacing missing data with an estimated value based on other available information. But imputation methods should be used carefully as most of them introduce a large amount of bias and reduce variance in the dataset.\n",
        "\n",
        "### Imputation by Mean/Mode/Median\n",
        "\n",
        "If the missing values in a column or feature are numerical, the values can be imputed by the mean of the complete cases of the variable. Mean can be replaced by median if the feature is suspected to have outliers. For a categorical feature, the missing values could be replaced by the mode of the column. The major drawback of this method is that it reduces the variance of the imputed variables. This method also reduces the correlation between the imputed variables and other variables because the imputed values are just estimates and will not be related to other values inherently.\n",
        "\n",
        "### Regression Methods\n",
        "\n",
        "The variables with missing values are treated as dependent variables and variables with complete cases are taken as predictors or independent variables. The independent variables are used to fit a linear equation for the observed values of the dependent variable. This equation is then used to predict values for the missing data points.\n",
        "\n",
        "The disadvantage of this method is that the identified independent variables would have a high correlation with the dependent variable by virtue of selection. This would result in fitting the missing values a little too well and reducing the uncertainty about that value. Also, this assumes that relationship is linear which might not be the case in reality.\n",
        "\n",
        "### K-Nearest Neighbour Imputation (KNN)\n",
        "\n",
        "This method uses k-nearest neighbour algorithms to estimate and replace missing data. The k-neighbours are chosen using some distance measure and their average is used as an imputation estimate. This could be used for estimating both qualitative attributes (the most frequent value among the k nearest neighbours) and quantitative attributes (the mean of the k nearest neighbours).\n",
        "\n",
        "One should try different values of k with different distance metrics to find the best match. The distance metric could be chosen based on the properties of the data. For example, Euclidean is a good distance measure to use if the input variables are similar in type (e.g. all measured widths and heights). Manhattan distance is a good measure to use if the input variables are not similar in type (such as age, gender, height, etc.).\n",
        "\n",
        "The advantage of using KNN is that it is simple to implement. But it suffers from the curse of dimensionality. It works well for a small number of variables but becomes computationally inefficient when the number of variables is large.\n",
        "\n",
        "\n",
        "![alt text](https://amueller.github.io/COMS4995-s18/slides/aml-08-021218-imputation-feature-selection/images/mean_knn_rf_comparison.png)\n",
        "\n",
        "### Multiple Imputation\n",
        "\n",
        "Multiple imputations is an iterative method in which multiple values are estimated for the missing data points using the distribution of the observed data. The advantage of this method is that it reflects the uncertainty around the true value and returns unbiased estimates.\n",
        "\n",
        "### MI involves the following three basic steps:\n",
        "\n",
        "**Imputation:** The missing data are filled in with estimated values and a complete data set is created. This process of imputation is repeated m times and m datasets are created.\n",
        "\n",
        "**Analysis:** Each of the m complete data sets is then analysed using a statistical method of interest (e.g. linear regression).\n",
        "\n",
        "**Pooling:** The parameter estimates (e.g. coefficients and standard errors) obtained from each analysed data set are then averaged to get a single point estimate.\n",
        "\n",
        "Python’s Scikit-learn has methods – impute.SimpleImputer for univariate (single variable) imputations and impute.IterativeImputer for multivariate imputations.\n",
        "\n",
        "*Credits-Edvancer, Will Badr, kaggle*"
      ]
    },
    {
      "cell_type": "code",
      "metadata": {
        "id": "DJdUQprRyBFN",
        "colab": {
          "base_uri": "https://localhost:8080/",
          "height": 67
        },
        "outputId": "051afb10-e191-4561-dac1-9bf13b910778"
      },
      "source": [
        "##mean-impute\n",
        "from sklearn.datasets import fetch_california_housing\n",
        "from sklearn.linear_model import LinearRegression\n",
        "from sklearn.model_selection import StratifiedKFold\n",
        "from sklearn.metrics import mean_squared_error\n",
        "from math import sqrt\n",
        "import random\n",
        "import numpy as np\n",
        "random.seed(0)\n",
        "\n",
        "#Fetching the dataset\n",
        "import pandas as pd\n",
        "dataset = fetch_california_housing()\n",
        "train, target = pd.DataFrame(dataset.data), pd.DataFrame(dataset.target)\n",
        "train.columns = ['0','1','2','3','4','5','6','7']\n",
        "train.insert(loc=len(train.columns), column='target', value=target)\n",
        "\n",
        "#Randomly replace 40% of the first column with NaN values\n",
        "column = train['0']\n",
        "print(column.size)\n",
        "missing_pct = int(column.size * 0.4)\n",
        "i = [random.choice(range(column.shape[0])) for _ in range(missing_pct)]\n",
        "column[i] = np.NaN\n",
        "print(column.shape[0])\n",
        "\n",
        "#Impute the values using scikit-learn SimpleImpute Class\n",
        "from sklearn.impute import SimpleImputer\n",
        "imp_mean = SimpleImputer( strategy='mean') #for median imputation replace 'mean' with 'median'\n",
        "imp_mean.fit(train)\n",
        "imputed_train_df = imp_mean.transform(train)"
      ],
      "execution_count": null,
      "outputs": [
        {
          "output_type": "stream",
          "text": [
            "Downloading Cal. housing from https://ndownloader.figshare.com/files/5976036 to /root/scikit_learn_data\n"
          ],
          "name": "stderr"
        },
        {
          "output_type": "stream",
          "text": [
            "20640\n",
            "20640\n"
          ],
          "name": "stdout"
        }
      ]
    },
    {
      "cell_type": "code",
      "metadata": {
        "id": "f_iDEbFIyU7L",
        "colab": {
          "base_uri": "https://localhost:8080/",
          "height": 171
        },
        "outputId": "ad150c05-48f6-4f33-cf28-16afa3037536"
      },
      "source": [
        "!pip install impyute"
      ],
      "execution_count": null,
      "outputs": [
        {
          "output_type": "stream",
          "text": [
            "Collecting impyute\n",
            "  Downloading https://files.pythonhosted.org/packages/37/28/86829f67c9affb847facaab94687761d3555539ec675f7577778c5b2680a/impyute-0.0.8-py2.py3-none-any.whl\n",
            "Requirement already satisfied: numpy in /usr/local/lib/python3.6/dist-packages (from impyute) (1.16.5)\n",
            "Requirement already satisfied: scipy in /usr/local/lib/python3.6/dist-packages (from impyute) (1.3.1)\n",
            "Requirement already satisfied: scikit-learn in /usr/local/lib/python3.6/dist-packages (from impyute) (0.21.3)\n",
            "Requirement already satisfied: joblib>=0.11 in /usr/local/lib/python3.6/dist-packages (from scikit-learn->impyute) (0.13.2)\n",
            "Installing collected packages: impyute\n",
            "Successfully installed impyute-0.0.8\n"
          ],
          "name": "stdout"
        }
      ]
    },
    {
      "cell_type": "code",
      "metadata": {
        "id": "9dRxA9F1yRXl"
      },
      "source": [
        "##knn impute\n",
        "import sys\n",
        "from impyute.imputation.cs import fast_knn\n",
        "sys.setrecursionlimit(100000) #Increase the recursion limit of the OS\n",
        "\n",
        "# start the KNN training\n",
        "imputed_training=fast_knn(train.values, k=30)"
      ],
      "execution_count": null,
      "outputs": []
    },
    {
      "cell_type": "markdown",
      "metadata": {
        "id": "4XE-_tekyp6S"
      },
      "source": [
        "![alt text](https://miro.medium.com/max/600/1*b9BXv0uAkbSAn8MJIa4-_Q.gif)"
      ]
    },
    {
      "cell_type": "markdown",
      "metadata": {
        "id": "Cv4_m7oPPFSj"
      },
      "source": [
        "## Univariate Analysis\n",
        "\n",
        "\n",
        "Univariate analysis is perhaps the simplest form of statistical analysis. Like other forms of statistics, it can be inferential or descriptive. The key fact is that only one variable is involved.\n",
        "\n",
        "Univariate analysis can yield misleading results in cases in which multivariate analysis is more appropriate.\n",
        "![alt text](https://image.slidesharecdn.com/seminarunivariate-140709142039-phpapp01/95/univariate-analysis-13-638.jpg?cb=1404915679)\n",
        "\n",
        "*img source:-slideshare*\n",
        "\n",
        "### Descriptive methods\n",
        "\n",
        "Descriptive statistics describe a sample or population. They can be part of exploratory data analysis.\n",
        "\n",
        "The appropriate statistic depends on the level of measurement. For nominal variables, a frequency table and a listing of the mode(s) is sufficient. For interval level variables, the arithmetic mean (average) and standard deviation are added to the toolbox and, for ratio level variables, we add the geometric mean and harmonic mean as measures of central tendency and the coefficient of variation as a measure of dispersion.\n",
        "\n",
        "For interval and ratio level data, further descriptors include the variable's skewness and kurtosis."
      ]
    },
    {
      "cell_type": "markdown",
      "metadata": {
        "id": "juFPBYXw1LTt"
      },
      "source": [
        "## Bi-variate Analysis\n",
        "\n",
        "Bi-variate Analysis finds out the relationship between two variables. Here, we look for association and disassociation between variables at a pre-defined significance level. We can perform bi-variate analysis for any combination of categorical and continuous variables. The combination can be:\n",
        "- Categorical & Categorical.\n",
        "- Categorical & Continuous and \n",
        "- Continuous & Continuous.\n",
        "\n",
        "\n",
        " Different methods are used to tackle these combinations during analysis process."
      ]
    },
    {
      "cell_type": "markdown",
      "metadata": {
        "id": "5yQBc2uInmpY"
      },
      "source": [
        "### Chi-square Test(Categorical and categorical)\n",
        "The chi-square test can be used to determine the association between categorical variables. It is based on the difference between the expected frequencies (e) and the observed frequencies (n) in one or more categories in the frequency table. The chi-square distribution returns a probability for the computed chi-square and the degree of freedom. A probability of zero shows a complete dependency between two categorical variables and a probability of one means that two categorical variables are completely independent. Tchouproff Contingency Coefficient measures the amount of dependency between two categorical variables.\n",
        "\n",
        "\n",
        "### Contingency Table\n",
        "A categorical variable is a variable that may take on one of a set of labels.(ml mastery)\n",
        "\n",
        "An example might be sex, which may be summarized as male or female. The variable is ‘sex‘ and the labels or factors of the variable are ‘male‘ and ‘female‘ in this case.\n",
        "\n",
        "\n",
        "\n",
        "```\n",
        "Sex,\tInterest.\n",
        "Male,\tArt.\n",
        "Female,\tMath\n",
        "Male, \tScience\n",
        "Male,\tMath.\n",
        "```\n",
        "\n",
        "\n",
        "\n",
        "We may wish to look at a summary of a categorical variable as it pertains to another categorical variable. For example, sex and interest, where interest may have the labels ‘science‘, ‘math‘, or ‘art‘.\n",
        "\n",
        "We can summarize the collected observations in a table with one variable corresponding to columns and another variable corresponding to rows. Each cell in the table corresponds to the count or frequency of observations that correspond to the row and column categories.\n",
        "\n",
        "Historically, a table summarization of two categorical variables in this form is called a contingency table.\n",
        "\n",
        "\n",
        "\n",
        "```\n",
        "        Science,\tMath,\tArt\n",
        "Male         20,      30,    15\n",
        "Female       20,      15,    30\n",
        "```\n",
        "\n",
        "\n",
        "\n",
        "The table was called a contingency table, by Karl Pearson, because the intent is to help determine whether one variable is contingent upon or depends upon the other variable. For example, does an interest in math or science depend on gender, or are they independent?\n",
        "\n",
        "This is challenging to determine from the table alone; instead, we can use a statistical method called the Pearson’s Chi-Squared test.\n",
        "\n",
        "### Pearson’s Chi-Squared Test\n",
        "\n",
        "- The Pearson’s Chi-Squared test, or just Chi-Squared test for short, is named for Karl Pearson, although there are variations on the test.\n",
        "\n",
        "- The Chi-Squared test is a statistical hypothesis test that assumes (the null hypothesis) that the observed frequencies for a categorical variable match the expected frequencies for the categorical variable. The test calculates a statistic that has a chi-squared distribution, named for the Greek capital letter Chi (X).\n",
        "\n",
        "\n",
        "- Given the Sex/Interest example above, the number of observations for a category (such as male and female) may or may not the same. \n",
        "\n",
        "- Nevertheless, we can calculate the expected frequency of observations in each Interest group and see whether the partitioning of interests by Sex results in similar or different frequencies.\n",
        "\n",
        "- The Chi-Squared test does this for a contingency table, first calculating the expected frequencies for the groups, then determining whether the division of the groups, called the observed frequencies, matches the expected frequencies.\n",
        "\n",
        "- The result of the test is a test statistic that has a chi-squared distribution and can be interpreted to reject or fail to reject the assumption or null hypothesis that the observed and expected frequencies are the same.\n",
        "\n",
        "- **If Statistic >= Critical Value:** significant result, reject null hypothesis (H0), dependent.\n",
        "\n",
        "- **If Statistic < Critical Value:** not significant result, fail to reject null hypothesis (H0), independent.\n",
        " \n",
        "\n",
        "\n",
        "\n",
        "— *Page 525, Statistics, Fourth Edition, 2007.\n",
        "able by chance alone (known as the expected frequencies).*\n",
        "\n",
        "— *Page 162, Statistics in Plain English, Third Edition, 2010*. \n",
        "\n",
        "We can interpret the test statistic in the context of the chi-squared distribution with the requisite number of degress of freedom as follows:\n",
        "\n",
        "The degrees of freedom for the chi-squared distribution is calculated based on the size of the contingency table as:\n",
        "\n",
        "\n",
        "\n",
        "```\n",
        "degrees of freedom: (rows - 1) * (cols - 1)\n",
        "```\n",
        "\n",
        "\n",
        "\n",
        "\n",
        "*credits= saedsayad,mlmastery, analyticsvidhya, analyticsindiamag, statsoft*\n"
      ]
    },
    {
      "cell_type": "markdown",
      "metadata": {
        "id": "Q-196YBDuBAR"
      },
      "source": [
        "### Code for chi-square test..!!!"
      ]
    },
    {
      "cell_type": "code",
      "metadata": {
        "id": "kWUinljQtGd2",
        "outputId": "7657756a-ca8e-4806-ec35-94b3c1611034",
        "colab": {
          "base_uri": "https://localhost:8080/",
          "height": 151
        }
      },
      "source": [
        "\n",
        "# chi-squared test with similar proportions\n",
        "from scipy.stats import chi2_contingency\n",
        "from scipy.stats import chi2\n",
        "# contingency table\n",
        "table = [\t[10, 20, 30],\n",
        "\t\t\t[6,  9,  17]]\n",
        "print(table)\n",
        "stat, p, dof, expected = chi2_contingency(table)\n",
        "print('dof=%d' % dof)\n",
        "print(expected)\n",
        "# interpret test-statistic\n",
        "prob = 0.95\n",
        "critical = chi2.ppf(prob, dof)\n",
        "print('probability=%.3f, critical=%.3f, stat=%.3f' % (prob, critical, stat))\n",
        "if abs(stat) >= critical:\n",
        "\tprint('Dependent (reject H0)')\n",
        "else:\n",
        "\tprint('Independent (fail to reject H0)')\n",
        "# interpret p-value\n",
        "alpha = 1.0 - prob\n",
        "print('significance=%.3f, p=%.3f' % (alpha, p))\n",
        "if p <= alpha:\n",
        "\tprint('Dependent (reject H0)')\n",
        "else:\n",
        "\tprint('Independent (fail to reject H0)')\n"
      ],
      "execution_count": null,
      "outputs": [
        {
          "output_type": "stream",
          "text": [
            "[[10, 20, 30], [6, 9, 17]]\n",
            "dof=2\n",
            "[[10.43478261 18.91304348 30.65217391]\n",
            " [ 5.56521739 10.08695652 16.34782609]]\n",
            "probability=0.950, critical=5.991, stat=0.272\n",
            "Independent (fail to reject H0)\n",
            "significance=0.050, p=0.873\n",
            "Independent (fail to reject H0)\n"
          ],
          "name": "stdout"
        }
      ]
    },
    {
      "cell_type": "markdown",
      "metadata": {
        "id": "QkmvAjXs5v-5"
      },
      "source": [
        "### Types of Combinations\n",
        "### Continuous & Continuous: \n",
        "\n",
        "Categorical and categorical has been discussed above. This section covers continuous and continuous type, categorical and continuous type.\n",
        "\n",
        " While doing bi-variate analysis between two continuous variables, we should look at scatter plot. It is a nifty way to find out the relationship between two variables. The pattern of scatter plot indicates the relationship between variables. The relationship can be linear or non-linear.\n",
        "\n",
        "![alt text](https://miro.medium.com/max/1000/1*6KNXPv-_3s7cJrcOQxbZCw.png)\n",
        "\n",
        "*img source:- medium*\n",
        "\n",
        "\n",
        "### Categorical & Continuous:\n",
        "\n",
        " While exploring relation between categorical and continuous variables, we can draw box plots for each level of categorical variables. If levels are small in number, it will not show the statistical significance. To look at the statistical significance we can perform Z-test, T-test or ANOVA.\n",
        "\n",
        "- Z-Test/ T-Test:- Either test assess whether mean of two groups are statistically different from each other or not\n",
        "![alt text](https://image.slidesharecdn.com/z-test-170412150226/95/ztest-with-examples-13-638.jpg?cb=1546230216)\n",
        "\n",
        "*img source:-slideshare*\n",
        "\n",
        "- The T-test is very similar to Z-test but it is used when number of observation for both categories is less than 30.\n",
        "![alt text](https://brightcove04pmdo-a.akamaihd.net/3764097123001/3764097123001_5036435216001_5036376517001-vs.jpg?pubId=3764097123001&videoId=5036376517001)\n",
        "\n",
        "\n",
        "- ANOVA:- It assesses whether the average of more than two groups is statistically different.\n",
        "\n",
        "![alt text](https://i.stack.imgur.com/527aJ.jpg)\n",
        "\n",
        "\n",
        "\n",
        "   *img source:-stackexchange*\n",
        "\n",
        "- Example: Suppose, we want to test the effect of five different exercises. For this, we recruit 20 men and assign one type of exercise to 4 men (5 groups). Their weights are recorded after a few weeks. We need to find out whether the effect of these exercises on them is significantly different or not. This can be done by comparing the weights of the 5 groups of 4 men each.\n",
        "\n"
      ]
    },
    {
      "cell_type": "markdown",
      "metadata": {
        "id": "c75cn6_N_R_V"
      },
      "source": [
        "## Feature Engineering\n",
        "\n",
        "![alt text](https://www.safaribooksonline.com/library/cover/9781491953235/360h/)\n",
        "\n",
        "Feature engineering is the science (and art) of extracting more information from existing data. We are not adding any new data here, but actually making the data we already have more useful.\n",
        "\n",
        "For example, let’s say that we are trying to predict foot fall in a restaurant based on dates. If  we try and use the dates directly, we may not be able to extract meaningful insights from the data. This is because the foot fall is less affected by the day of the month than it is by the day of the week. Now this information about day of week is implicit in our data. \n",
        "\n",
        " We need to bring it out to make the model better. This exercising of bringing out information from data in known as feature engineering.\n",
        "\n",
        "![alt text](https://miro.medium.com/max/1820/1*DRjTGXIlE-bPHVZsVz1MzQ.png)\n",
        "\n",
        "*Img source:-medium*\n",
        "### Feature Engineering consists of two parts:\n",
        "\n",
        "- Variable transformation\n",
        "- Variable / Feature creation\n",
        "\n",
        "### Variable Transformation\n",
        "Transformation refers to the replacement of a variable by a function. For instance, replacing a  variable x by the square/cube root or logarithm x is a transformation. Or we can say transformation is a process that changes the distribution or relationship of a variable with others.\n",
        "\n",
        "### When should we use Variable Transformation?\n",
        "Change the scale:  When we want to change the scale of a variable(feature) or standardize its value. Suppose values of the variable are on different scales, in that case, one must use variable transformation, this transformation does not change the shape of the variable distribution.\n",
        "\n",
        "### Transform complex non-linear relationships into linear relationships:\n",
        "If two variables having a linear relationship is much better to fit a good model as compared to the non-linear or curved relation. Transformation helps us to convert a non-linear relation into the linear relation.\n",
        "\n",
        "### Types of variable Transformation\n",
        "\n",
        "- Square root Transformation\n",
        "- Cube Root Transformations\n",
        "- Logarithmic Transformation\n",
        "- Reciprocal\n",
        "- Binning\n",
        "\n",
        "Square root transformation, Cube root and Logarithmic Transformation are using to reduce positive/right skewness.  Square root has the advantage that it can be applied to zero values. \n",
        "Cube root can be applied to  zero and negative values.\n",
        "\n",
        "Logarithmic Transformation cannot be applied to It can not be applied to zero or negative values .\n",
        "Reciprocal, although it can be applied to negative values, it is not useful unless all values are positive.\n",
        "Binning is used to categorize variables. It is performed on original values, percentile or frequency. The decision of categorization technique is based on business understanding.\n",
        "\n",
        "### Feature/variable creation\n",
        "\n",
        "Feature/Variable Creation  is a process to generate a new feature (Variable) by using the existing variables. \n",
        "Suppose In the data set we have the date(dd-mm-yy) as an input variable. We can generate new variables like the day, month, year, week, weekday that may have the better relationship with target variable.\n",
        "This step is used to highlight the hidden relationship in a variable.There are various techniques to create new features.\n",
        "\n",
        "- Creating derived variables.\n",
        "This refers to creating new variables from existing variable(s) using the set of functions or different methods.\n",
        "\n",
        "- Creating dummy variables.\n",
        "Dummy variables mostly used when we have to convert the categorical variable into numerical variables.  Dummy variables are also called Indicator Variables. It is useful to take the categorical variable as a predictor in statistical models\n",
        "\n",
        "*credits- Steupanalytics, kdnuggets*\n"
      ]
    }
  ]
}