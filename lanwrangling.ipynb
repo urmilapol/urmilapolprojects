{
  "nbformat": 4,
  "nbformat_minor": 0,
  "metadata": {
    "colab": {
      "name": "lanwrangling.ipynb",
      "provenance": [],
      "authorship_tag": "ABX9TyPztGpnW8Thd2fWYPe+s51p",
      "include_colab_link": true
    },
    "kernelspec": {
      "name": "python3",
      "display_name": "Python 3"
    },
    "language_info": {
      "name": "python"
    }
  },
  "cells": [
    {
      "cell_type": "markdown",
      "metadata": {
        "id": "view-in-github",
        "colab_type": "text"
      },
      "source": [
        "<a href=\"https://colab.research.google.com/github/urmilapol/urmilapolprojects/blob/master/lanwrangling.ipynb\" target=\"_parent\"><img src=\"https://colab.research.google.com/assets/colab-badge.svg\" alt=\"Open In Colab\"/></a>"
      ]
    },
    {
      "cell_type": "code",
      "metadata": {
        "colab": {
          "base_uri": "https://localhost:8080/",
          "height": 268
        },
        "id": "1PgqA5IMQONU",
        "outputId": "46789391-29fc-4dd3-bd8d-cd3b3dc2b6f5"
      },
      "source": [
        "# Import pandas package\n",
        "import pandas as pd\n",
        " \n",
        "# Assign data\n",
        "data = {'Name': ['Jai', 'Princi', 'Gaurav',\n",
        "                 'Anuj', 'Ravi', 'Natasha', 'Riya'],\n",
        "        'Age': [17, 17, 18, 17, 18, 17, 17],\n",
        "        'Gender': ['M', 'F', 'M', 'M', 'M', 'F', 'F'],\n",
        "        'Marks': [90, 76, 'NaN', 74, 65, 'NaN', 71]}\n",
        " \n",
        "# Convert into DataFrame\n",
        "df = pd.DataFrame(data)\n",
        " \n",
        "# Display data\n",
        "df"
      ],
      "execution_count": 1,
      "outputs": [
        {
          "output_type": "execute_result",
          "data": {
            "text/html": [
              "<div>\n",
              "<style scoped>\n",
              "    .dataframe tbody tr th:only-of-type {\n",
              "        vertical-align: middle;\n",
              "    }\n",
              "\n",
              "    .dataframe tbody tr th {\n",
              "        vertical-align: top;\n",
              "    }\n",
              "\n",
              "    .dataframe thead th {\n",
              "        text-align: right;\n",
              "    }\n",
              "</style>\n",
              "<table border=\"1\" class=\"dataframe\">\n",
              "  <thead>\n",
              "    <tr style=\"text-align: right;\">\n",
              "      <th></th>\n",
              "      <th>Name</th>\n",
              "      <th>Age</th>\n",
              "      <th>Gender</th>\n",
              "      <th>Marks</th>\n",
              "    </tr>\n",
              "  </thead>\n",
              "  <tbody>\n",
              "    <tr>\n",
              "      <th>0</th>\n",
              "      <td>Jai</td>\n",
              "      <td>17</td>\n",
              "      <td>M</td>\n",
              "      <td>90</td>\n",
              "    </tr>\n",
              "    <tr>\n",
              "      <th>1</th>\n",
              "      <td>Princi</td>\n",
              "      <td>17</td>\n",
              "      <td>F</td>\n",
              "      <td>76</td>\n",
              "    </tr>\n",
              "    <tr>\n",
              "      <th>2</th>\n",
              "      <td>Gaurav</td>\n",
              "      <td>18</td>\n",
              "      <td>M</td>\n",
              "      <td>NaN</td>\n",
              "    </tr>\n",
              "    <tr>\n",
              "      <th>3</th>\n",
              "      <td>Anuj</td>\n",
              "      <td>17</td>\n",
              "      <td>M</td>\n",
              "      <td>74</td>\n",
              "    </tr>\n",
              "    <tr>\n",
              "      <th>4</th>\n",
              "      <td>Ravi</td>\n",
              "      <td>18</td>\n",
              "      <td>M</td>\n",
              "      <td>65</td>\n",
              "    </tr>\n",
              "    <tr>\n",
              "      <th>5</th>\n",
              "      <td>Natasha</td>\n",
              "      <td>17</td>\n",
              "      <td>F</td>\n",
              "      <td>NaN</td>\n",
              "    </tr>\n",
              "    <tr>\n",
              "      <th>6</th>\n",
              "      <td>Riya</td>\n",
              "      <td>17</td>\n",
              "      <td>F</td>\n",
              "      <td>71</td>\n",
              "    </tr>\n",
              "  </tbody>\n",
              "</table>\n",
              "</div>"
            ],
            "text/plain": [
              "      Name  Age Gender Marks\n",
              "0      Jai   17      M    90\n",
              "1   Princi   17      F    76\n",
              "2   Gaurav   18      M   NaN\n",
              "3     Anuj   17      M    74\n",
              "4     Ravi   18      M    65\n",
              "5  Natasha   17      F   NaN\n",
              "6     Riya   17      F    71"
            ]
          },
          "metadata": {},
          "execution_count": 1
        }
      ]
    },
    {
      "cell_type": "code",
      "metadata": {
        "colab": {
          "base_uri": "https://localhost:8080/",
          "height": 268
        },
        "id": "ICMpEc2cQnDR",
        "outputId": "dd0c3a21-6545-423e-d64a-5a9abde8c544"
      },
      "source": [
        "# Compute average\n",
        "c = avg = 0\n",
        "for ele in df['Marks']:\n",
        "    if str(ele).isnumeric():\n",
        "        c += 1\n",
        "        avg += ele\n",
        "avg /= c\n",
        " \n",
        "# Replace missing values\n",
        "df = df.replace(to_replace=\"NaN\",\n",
        "                value=avg)\n",
        " \n",
        "# Display data\n",
        "df"
      ],
      "execution_count": 2,
      "outputs": [
        {
          "output_type": "execute_result",
          "data": {
            "text/html": [
              "<div>\n",
              "<style scoped>\n",
              "    .dataframe tbody tr th:only-of-type {\n",
              "        vertical-align: middle;\n",
              "    }\n",
              "\n",
              "    .dataframe tbody tr th {\n",
              "        vertical-align: top;\n",
              "    }\n",
              "\n",
              "    .dataframe thead th {\n",
              "        text-align: right;\n",
              "    }\n",
              "</style>\n",
              "<table border=\"1\" class=\"dataframe\">\n",
              "  <thead>\n",
              "    <tr style=\"text-align: right;\">\n",
              "      <th></th>\n",
              "      <th>Name</th>\n",
              "      <th>Age</th>\n",
              "      <th>Gender</th>\n",
              "      <th>Marks</th>\n",
              "    </tr>\n",
              "  </thead>\n",
              "  <tbody>\n",
              "    <tr>\n",
              "      <th>0</th>\n",
              "      <td>Jai</td>\n",
              "      <td>17</td>\n",
              "      <td>M</td>\n",
              "      <td>90.0</td>\n",
              "    </tr>\n",
              "    <tr>\n",
              "      <th>1</th>\n",
              "      <td>Princi</td>\n",
              "      <td>17</td>\n",
              "      <td>F</td>\n",
              "      <td>76.0</td>\n",
              "    </tr>\n",
              "    <tr>\n",
              "      <th>2</th>\n",
              "      <td>Gaurav</td>\n",
              "      <td>18</td>\n",
              "      <td>M</td>\n",
              "      <td>75.2</td>\n",
              "    </tr>\n",
              "    <tr>\n",
              "      <th>3</th>\n",
              "      <td>Anuj</td>\n",
              "      <td>17</td>\n",
              "      <td>M</td>\n",
              "      <td>74.0</td>\n",
              "    </tr>\n",
              "    <tr>\n",
              "      <th>4</th>\n",
              "      <td>Ravi</td>\n",
              "      <td>18</td>\n",
              "      <td>M</td>\n",
              "      <td>65.0</td>\n",
              "    </tr>\n",
              "    <tr>\n",
              "      <th>5</th>\n",
              "      <td>Natasha</td>\n",
              "      <td>17</td>\n",
              "      <td>F</td>\n",
              "      <td>75.2</td>\n",
              "    </tr>\n",
              "    <tr>\n",
              "      <th>6</th>\n",
              "      <td>Riya</td>\n",
              "      <td>17</td>\n",
              "      <td>F</td>\n",
              "      <td>71.0</td>\n",
              "    </tr>\n",
              "  </tbody>\n",
              "</table>\n",
              "</div>"
            ],
            "text/plain": [
              "      Name  Age Gender  Marks\n",
              "0      Jai   17      M   90.0\n",
              "1   Princi   17      F   76.0\n",
              "2   Gaurav   18      M   75.2\n",
              "3     Anuj   17      M   74.0\n",
              "4     Ravi   18      M   65.0\n",
              "5  Natasha   17      F   75.2\n",
              "6     Riya   17      F   71.0"
            ]
          },
          "metadata": {},
          "execution_count": 2
        }
      ]
    },
    {
      "cell_type": "code",
      "metadata": {
        "colab": {
          "base_uri": "https://localhost:8080/",
          "height": 268
        },
        "id": "ROD_d24_RLrh",
        "outputId": "8032c240-afe1-4ce8-db54-bb2b1adf77f2"
      },
      "source": [
        "# Categorize gender\n",
        "df['Gender'] = df['Gender'].map({'M': 0,\n",
        "                                 'F': 1, }).astype(float)\n",
        " \n",
        "# Display data\n",
        "df"
      ],
      "execution_count": 3,
      "outputs": [
        {
          "output_type": "execute_result",
          "data": {
            "text/html": [
              "<div>\n",
              "<style scoped>\n",
              "    .dataframe tbody tr th:only-of-type {\n",
              "        vertical-align: middle;\n",
              "    }\n",
              "\n",
              "    .dataframe tbody tr th {\n",
              "        vertical-align: top;\n",
              "    }\n",
              "\n",
              "    .dataframe thead th {\n",
              "        text-align: right;\n",
              "    }\n",
              "</style>\n",
              "<table border=\"1\" class=\"dataframe\">\n",
              "  <thead>\n",
              "    <tr style=\"text-align: right;\">\n",
              "      <th></th>\n",
              "      <th>Name</th>\n",
              "      <th>Age</th>\n",
              "      <th>Gender</th>\n",
              "      <th>Marks</th>\n",
              "    </tr>\n",
              "  </thead>\n",
              "  <tbody>\n",
              "    <tr>\n",
              "      <th>0</th>\n",
              "      <td>Jai</td>\n",
              "      <td>17</td>\n",
              "      <td>0.0</td>\n",
              "      <td>90.0</td>\n",
              "    </tr>\n",
              "    <tr>\n",
              "      <th>1</th>\n",
              "      <td>Princi</td>\n",
              "      <td>17</td>\n",
              "      <td>1.0</td>\n",
              "      <td>76.0</td>\n",
              "    </tr>\n",
              "    <tr>\n",
              "      <th>2</th>\n",
              "      <td>Gaurav</td>\n",
              "      <td>18</td>\n",
              "      <td>0.0</td>\n",
              "      <td>75.2</td>\n",
              "    </tr>\n",
              "    <tr>\n",
              "      <th>3</th>\n",
              "      <td>Anuj</td>\n",
              "      <td>17</td>\n",
              "      <td>0.0</td>\n",
              "      <td>74.0</td>\n",
              "    </tr>\n",
              "    <tr>\n",
              "      <th>4</th>\n",
              "      <td>Ravi</td>\n",
              "      <td>18</td>\n",
              "      <td>0.0</td>\n",
              "      <td>65.0</td>\n",
              "    </tr>\n",
              "    <tr>\n",
              "      <th>5</th>\n",
              "      <td>Natasha</td>\n",
              "      <td>17</td>\n",
              "      <td>1.0</td>\n",
              "      <td>75.2</td>\n",
              "    </tr>\n",
              "    <tr>\n",
              "      <th>6</th>\n",
              "      <td>Riya</td>\n",
              "      <td>17</td>\n",
              "      <td>1.0</td>\n",
              "      <td>71.0</td>\n",
              "    </tr>\n",
              "  </tbody>\n",
              "</table>\n",
              "</div>"
            ],
            "text/plain": [
              "      Name  Age  Gender  Marks\n",
              "0      Jai   17     0.0   90.0\n",
              "1   Princi   17     1.0   76.0\n",
              "2   Gaurav   18     0.0   75.2\n",
              "3     Anuj   17     0.0   74.0\n",
              "4     Ravi   18     0.0   65.0\n",
              "5  Natasha   17     1.0   75.2\n",
              "6     Riya   17     1.0   71.0"
            ]
          },
          "metadata": {},
          "execution_count": 3
        }
      ]
    },
    {
      "cell_type": "code",
      "metadata": {
        "colab": {
          "base_uri": "https://localhost:8080/",
          "height": 175
        },
        "id": "QmzSvBI8RfHw",
        "outputId": "fd67e667-1e43-4732-b678-aa7d44b49c00"
      },
      "source": [
        "# Filter top scoring students\n",
        "df = df[df['Marks'] >= 75]\n",
        " \n",
        "# Remove age row\n",
        "df = df.drop(['Age'], axis=1)\n",
        " \n",
        "# Display data\n",
        "df"
      ],
      "execution_count": 4,
      "outputs": [
        {
          "output_type": "execute_result",
          "data": {
            "text/html": [
              "<div>\n",
              "<style scoped>\n",
              "    .dataframe tbody tr th:only-of-type {\n",
              "        vertical-align: middle;\n",
              "    }\n",
              "\n",
              "    .dataframe tbody tr th {\n",
              "        vertical-align: top;\n",
              "    }\n",
              "\n",
              "    .dataframe thead th {\n",
              "        text-align: right;\n",
              "    }\n",
              "</style>\n",
              "<table border=\"1\" class=\"dataframe\">\n",
              "  <thead>\n",
              "    <tr style=\"text-align: right;\">\n",
              "      <th></th>\n",
              "      <th>Name</th>\n",
              "      <th>Gender</th>\n",
              "      <th>Marks</th>\n",
              "    </tr>\n",
              "  </thead>\n",
              "  <tbody>\n",
              "    <tr>\n",
              "      <th>0</th>\n",
              "      <td>Jai</td>\n",
              "      <td>0.0</td>\n",
              "      <td>90.0</td>\n",
              "    </tr>\n",
              "    <tr>\n",
              "      <th>1</th>\n",
              "      <td>Princi</td>\n",
              "      <td>1.0</td>\n",
              "      <td>76.0</td>\n",
              "    </tr>\n",
              "    <tr>\n",
              "      <th>2</th>\n",
              "      <td>Gaurav</td>\n",
              "      <td>0.0</td>\n",
              "      <td>75.2</td>\n",
              "    </tr>\n",
              "    <tr>\n",
              "      <th>5</th>\n",
              "      <td>Natasha</td>\n",
              "      <td>1.0</td>\n",
              "      <td>75.2</td>\n",
              "    </tr>\n",
              "  </tbody>\n",
              "</table>\n",
              "</div>"
            ],
            "text/plain": [
              "      Name  Gender  Marks\n",
              "0      Jai     0.0   90.0\n",
              "1   Princi     1.0   76.0\n",
              "2   Gaurav     0.0   75.2\n",
              "5  Natasha     1.0   75.2"
            ]
          },
          "metadata": {},
          "execution_count": 4
        }
      ]
    },
    {
      "cell_type": "code",
      "metadata": {
        "colab": {
          "base_uri": "https://localhost:8080/"
        },
        "id": "emWRZsbnRx4I",
        "outputId": "3a00f2d4-aa9f-4a90-c87b-a9d75e50d224"
      },
      "source": [
        "# import module\n",
        "import pandas as pd   \n",
        " \n",
        "# creating DataFrame for Student Details\n",
        "details = pd.DataFrame({\n",
        "    'ID': [101, 102, 103, 104, 105, 106,\n",
        "           107, 108, 109, 110],\n",
        "    'NAME': ['Jagroop', 'Praveen', 'Harjot',\n",
        "             'Pooja', 'Rahul', 'Nikita',\n",
        "             'Saurabh', 'Ayush', 'Dolly', \"Mohit\"],\n",
        "    'BRANCH': ['CSE', 'CSE', 'CSE', 'CSE', 'CSE',\n",
        "               'CSE', 'CSE', 'CSE', 'CSE', 'CSE']})\n",
        " \n",
        "# printing details\n",
        "print(details)"
      ],
      "execution_count": 5,
      "outputs": [
        {
          "output_type": "stream",
          "name": "stdout",
          "text": [
            "    ID     NAME BRANCH\n",
            "0  101  Jagroop    CSE\n",
            "1  102  Praveen    CSE\n",
            "2  103   Harjot    CSE\n",
            "3  104    Pooja    CSE\n",
            "4  105    Rahul    CSE\n",
            "5  106   Nikita    CSE\n",
            "6  107  Saurabh    CSE\n",
            "7  108    Ayush    CSE\n",
            "8  109    Dolly    CSE\n",
            "9  110    Mohit    CSE\n"
          ]
        }
      ]
    },
    {
      "cell_type": "code",
      "metadata": {
        "colab": {
          "base_uri": "https://localhost:8080/"
        },
        "id": "RHVSpnanR4No",
        "outputId": "0ceec25a-58e0-488a-f4c7-9d7110c078f1"
      },
      "source": [
        "# Import module\n",
        "import pandas as pd\n",
        " \n",
        "# Creating Dataframe for Fees_Status\n",
        "fees_status = pd.DataFrame(\n",
        "    {'ID': [101, 102, 103, 104, 105,\n",
        "            106, 107, 108, 109, 110],\n",
        "     'PENDING': ['5000', '250', 'NIL',\n",
        "                 '9000', '15000', 'NIL',\n",
        "                 '4500', '1800', '250', 'NIL']})\n",
        " \n",
        "# Printing fees_status\n",
        "print(fees_status)"
      ],
      "execution_count": 6,
      "outputs": [
        {
          "output_type": "stream",
          "name": "stdout",
          "text": [
            "    ID PENDING\n",
            "0  101    5000\n",
            "1  102     250\n",
            "2  103     NIL\n",
            "3  104    9000\n",
            "4  105   15000\n",
            "5  106     NIL\n",
            "6  107    4500\n",
            "7  108    1800\n",
            "8  109     250\n",
            "9  110     NIL\n"
          ]
        }
      ]
    },
    {
      "cell_type": "code",
      "metadata": {
        "colab": {
          "base_uri": "https://localhost:8080/"
        },
        "id": "g7zyhNCZSDQ5",
        "outputId": "2b8aeb9c-c745-42d3-e0f0-2fb210bb538c"
      },
      "source": [
        "# Import module\n",
        "import pandas as pd\n",
        " \n",
        "# Creating Dataframe\n",
        "details = pd.DataFrame({\n",
        "    'ID': [101, 102, 103, 104, 105,\n",
        "           106, 107, 108, 109, 110],\n",
        "    'NAME': ['Jagroop', 'Praveen', 'Harjot',\n",
        "             'Pooja', 'Rahul', 'Nikita',\n",
        "             'Saurabh', 'Ayush', 'Dolly', \"Mohit\"],\n",
        "    'BRANCH': ['CSE', 'CSE', 'CSE', 'CSE', 'CSE',\n",
        "               'CSE', 'CSE', 'CSE', 'CSE', 'CSE']})\n",
        " \n",
        "# Creating Dataframe\n",
        "fees_status = pd.DataFrame(\n",
        "    {'ID': [101, 102, 103, 104, 105,\n",
        "            106, 107, 108, 109, 110],\n",
        "     'PENDING': ['5000', '250', 'NIL',\n",
        "                 '9000', '15000', 'NIL',\n",
        "                 '4500', '1800', '250', 'NIL']})\n",
        " \n",
        "# Merging Dataframe\n",
        "print(pd.merge(details, fees_status, on='ID'))"
      ],
      "execution_count": 7,
      "outputs": [
        {
          "output_type": "stream",
          "name": "stdout",
          "text": [
            "    ID     NAME BRANCH PENDING\n",
            "0  101  Jagroop    CSE    5000\n",
            "1  102  Praveen    CSE     250\n",
            "2  103   Harjot    CSE     NIL\n",
            "3  104    Pooja    CSE    9000\n",
            "4  105    Rahul    CSE   15000\n",
            "5  106   Nikita    CSE     NIL\n",
            "6  107  Saurabh    CSE    4500\n",
            "7  108    Ayush    CSE    1800\n",
            "8  109    Dolly    CSE     250\n",
            "9  110    Mohit    CSE     NIL\n"
          ]
        }
      ]
    },
    {
      "cell_type": "code",
      "metadata": {
        "colab": {
          "base_uri": "https://localhost:8080/"
        },
        "id": "4H5Lyqm1SiDw",
        "outputId": "ccab2959-1bc9-428b-ffb6-81c565e22582"
      },
      "source": [
        "# Import module\n",
        "import pandas as pd\n",
        " \n",
        "# Creating Data\n",
        "car_selling_data = {'Brand': ['Maruti', 'Maruti', 'Maruti',\n",
        "                              'Maruti', 'Hyundai', 'Hyundai',\n",
        "                              'Toyota', 'Mahindra', 'Mahindra',\n",
        "                              'Ford', 'Toyota', 'Ford'],\n",
        "                    'Year':  [2010, 2011, 2009, 2013,\n",
        "                              2010, 2011, 2011, 2010,\n",
        "                              2013, 2010, 2010, 2011],\n",
        "                    'Sold': [6, 7, 9, 8, 3, 5,\n",
        "                             2, 8, 7, 2, 4, 2]}\n",
        " \n",
        "# Creating Dataframe for Provided Data\n",
        "df = pd.DataFrame(car_selling_data)\n",
        " \n",
        "# Group the data when year = 2011\n",
        "grouped = df.groupby('Year')\n",
        "print(grouped.get_group(2011))"
      ],
      "execution_count": 8,
      "outputs": [
        {
          "output_type": "stream",
          "name": "stdout",
          "text": [
            "      Brand  Year  Sold\n",
            "1    Maruti  2011     7\n",
            "5   Hyundai  2011     5\n",
            "6    Toyota  2011     2\n",
            "11     Ford  2011     2\n"
          ]
        }
      ]
    }
  ]
}