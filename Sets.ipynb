{
  "cells": [
    {
      "cell_type": "markdown",
      "metadata": {
        "id": "view-in-github",
        "colab_type": "text"
      },
      "source": [
        "<a href=\"https://colab.research.google.com/github/urmilapol/urmilapolprojects/blob/master/Sets.ipynb\" target=\"_parent\"><img src=\"https://colab.research.google.com/assets/colab-badge.svg\" alt=\"Open In Colab\"/></a>"
      ]
    },
    {
      "cell_type": "markdown",
      "metadata": {
        "id": "WnXm7PkRggsC"
      },
      "source": [
        " "
      ]
    },
    {
      "cell_type": "markdown",
      "metadata": {
        "id": "r-r6ufa2ggsD"
      },
      "source": [
        "\n"
      ]
    },
    {
      "cell_type": "markdown",
      "metadata": {
        "id": "tiXP8hz1ggsF"
      },
      "source": [
        "<a id=\"ref1\"></a>\n",
        "<center><h2>Sets</h2></center>\n",
        "\n",
        "In this lab, we are going to take a look at sets in Python. A set is a unique collection of objects in Python. You can denote a set with a curly bracket **{}**. Python will remove duplicate items:\n"
      ]
    },
    {
      "cell_type": "code",
      "execution_count": 1,
      "metadata": {
        "collapsed": true,
        "colab": {
          "base_uri": "https://localhost:8080/"
        },
        "id": "KpbCpUeHggsG",
        "outputId": "7c8d9f1f-f878-4452-f0c6-207a791b73c9"
      },
      "outputs": [
        {
          "output_type": "execute_result",
          "data": {
            "text/plain": [
              "{'R&B', 'disco', 'hard rock', 'pop', 'rock', 'soul'}"
            ]
          },
          "metadata": {},
          "execution_count": 1
        }
      ],
      "source": [
        "set1={\"pop\", \"rock\", \"soul\", \"hard rock\", \"rock\", \"R&B\", \"rock\", \"disco\"}\n",
        "set1"
      ]
    },
    {
      "cell_type": "markdown",
      "metadata": {
        "id": "V9_ROqbVggsI"
      },
      "source": [
        "The process of mapping is illustrated in the figure:\n"
      ]
    },
    {
      "cell_type": "markdown",
      "metadata": {
        "id": "wB9SEkAvggsI"
      },
      "source": [
        "<a ><img src = https://ibm.box.com/shared/static/i0xb9qbetek7kbh17krx05i4lqmywahm.png width = 1100, align = \"center\"></a>\n"
      ]
    },
    {
      "cell_type": "markdown",
      "metadata": {
        "id": "0P3SmigrggsK"
      },
      "source": [
        " You can also  create a set from a list as follows:"
      ]
    },
    {
      "cell_type": "code",
      "execution_count": 2,
      "metadata": {
        "collapsed": true,
        "scrolled": true,
        "colab": {
          "base_uri": "https://localhost:8080/"
        },
        "id": "VBJ5dYtWggsL",
        "outputId": "0ce1c17c-39c9-4603-cda5-a795ebb9749a"
      },
      "outputs": [
        {
          "output_type": "execute_result",
          "data": {
            "text/plain": [
              "{'00:42:19',\n",
              " 10.0,\n",
              " 1982,\n",
              " '30-Nov-82',\n",
              " 46.0,\n",
              " 65,\n",
              " 'Michael Jackson',\n",
              " None,\n",
              " 'Pop, Rock, R&B',\n",
              " 'Thriller'}"
            ]
          },
          "metadata": {},
          "execution_count": 2
        }
      ],
      "source": [
        "album_list =[ \"Michael Jackson\", \"Thriller\", 1982, \"00:42:19\", \\\n",
        "              \"Pop, Rock, R&B\", 46.0, 65, \"30-Nov-82\", None, 10.0]\n",
        "\n",
        "album_set = set(album_list)             \n",
        "album_set"
      ]
    },
    {
      "cell_type": "markdown",
      "metadata": {
        "id": "-UwQdWxxggsM"
      },
      "source": [
        "Now let us create a set of  genres:"
      ]
    },
    {
      "cell_type": "code",
      "execution_count": 3,
      "metadata": {
        "collapsed": true,
        "colab": {
          "base_uri": "https://localhost:8080/"
        },
        "id": "Wgl2K7DBggsM",
        "outputId": "3b466862-8613-4fad-9ed3-07b16a5a80a3"
      },
      "outputs": [
        {
          "output_type": "execute_result",
          "data": {
            "text/plain": [
              "{'R&B',\n",
              " 'disco',\n",
              " 'folk rock',\n",
              " 'hard rock',\n",
              " 'pop',\n",
              " 'progressive rock',\n",
              " 'rock',\n",
              " 'soft rock',\n",
              " 'soul'}"
            ]
          },
          "metadata": {},
          "execution_count": 3
        }
      ],
      "source": [
        "music_genres = set([\"pop\", \"pop\", \"rock\", \"folk rock\", \"hard rock\", \"soul\", \\\n",
        "                    \"progressive rock\", \"soft rock\", \"R&B\", \"disco\"])\n",
        "music_genres"
      ]
    },
    {
      "cell_type": "markdown",
      "metadata": {
        "id": "ZL6TEOrMggsN"
      },
      "source": [
        "#### Convert the following list to a set ['rap','house','electronic music', 'rap']:"
      ]
    },
    {
      "cell_type": "code",
      "execution_count": 3,
      "metadata": {
        "collapsed": true,
        "id": "Cv-8Y82VggsO"
      },
      "outputs": [],
      "source": [
        ""
      ]
    },
    {
      "cell_type": "markdown",
      "metadata": {
        "id": "MKzsFzXQggsO"
      },
      "source": [
        "  <div align=\"right\">\n",
        "<a href=\"#q10\" class=\"btn btn-default\" data-toggle=\"collapse\">Click here for the solution</a>\n",
        "\n",
        "</div>\n",
        "<div id=\"q10\" class=\"collapse\">\n",
        "```\n",
        "set(['rap','house','electronic music','rap'])\n",
        "```\n",
        "</div>"
      ]
    },
    {
      "cell_type": "markdown",
      "metadata": {
        "id": "BtrH9Lj2ggsP"
      },
      "source": [
        "Notice that the duplicates are removed and the output is sorted."
      ]
    },
    {
      "cell_type": "markdown",
      "metadata": {
        "id": "fKkFmU9eggsP"
      },
      "source": [
        "Let us get the sum of the claimed sales:"
      ]
    },
    {
      "cell_type": "markdown",
      "metadata": {
        "id": "GFgvGXRXggsQ"
      },
      "source": [
        "#### Consider the list A=[1,2,2,1] and set B=set([1,2,2,1]), does sum(A)=sum(B) "
      ]
    },
    {
      "cell_type": "code",
      "execution_count": 3,
      "metadata": {
        "collapsed": true,
        "id": "IyoNLG6TggsQ"
      },
      "outputs": [],
      "source": [
        ""
      ]
    },
    {
      "cell_type": "markdown",
      "metadata": {
        "id": "ntIJvmOWggsQ"
      },
      "source": [
        " <div align=\"right\">\n",
        "<a href=\"#2\" class=\"btn btn-default\" data-toggle=\"collapse\">Click here for the solution</a>\n",
        "\n",
        "</div>\n",
        "<div id=\"2\" class=\"collapse\">\n",
        "```\n",
        "No, when casting a list to a set, the new set has no repeat elements. Run the following code to verify:\n",
        "A=[1,2,2,1]  \n",
        "B=set([1,2,2,1])\n",
        "print(\"the sum of A is:\",sum(A))\n",
        "print(\"the sum of B is:\",sum(B))\n",
        "```\n",
        "</div>\n"
      ]
    },
    {
      "cell_type": "markdown",
      "metadata": {
        "id": "Pr-lEy9tggsR"
      },
      "source": [
        "Now let's determine the average rating:"
      ]
    },
    {
      "cell_type": "markdown",
      "metadata": {
        "id": "mcxDuMt0ggsR"
      },
      "source": [
        "### Set Operations "
      ]
    },
    {
      "cell_type": "markdown",
      "metadata": {
        "id": "sLNIz9uCggsS"
      },
      "source": [
        " Let us go over Set Operations, as these can be used to change the set. Consider the set **A**:"
      ]
    },
    {
      "cell_type": "code",
      "execution_count": 4,
      "metadata": {
        "collapsed": true,
        "colab": {
          "base_uri": "https://localhost:8080/"
        },
        "id": "94d1uopuggsS",
        "outputId": "a9ab1dea-1a29-4aa5-b0a5-cac2042b1681"
      },
      "outputs": [
        {
          "output_type": "execute_result",
          "data": {
            "text/plain": [
              "{'AC/DC', 'Back in Black', 'Thriller'}"
            ]
          },
          "metadata": {},
          "execution_count": 4
        }
      ],
      "source": [
        "A = set([\"Thriller\",\"Back in Black\", \"AC/DC\"] )\n",
        "A"
      ]
    },
    {
      "cell_type": "markdown",
      "metadata": {
        "id": "bI6IYZFoggsT"
      },
      "source": [
        " We can add an element to a set using the **add()** method: "
      ]
    },
    {
      "cell_type": "code",
      "execution_count": 5,
      "metadata": {
        "collapsed": true,
        "colab": {
          "base_uri": "https://localhost:8080/"
        },
        "id": "0Y3T26GWggsT",
        "outputId": "56d0dcab-b7a1-46ad-8d7b-5dcd87fc7da2"
      },
      "outputs": [
        {
          "output_type": "execute_result",
          "data": {
            "text/plain": [
              "{'AC/DC', 'Back in Black', 'NSYNC', 'Thriller'}"
            ]
          },
          "metadata": {},
          "execution_count": 5
        }
      ],
      "source": [
        "A.add(\"NSYNC\")\n",
        "A"
      ]
    },
    {
      "cell_type": "markdown",
      "metadata": {
        "id": "ic264518ggsT"
      },
      "source": [
        " If we add the same element twice, nothing will happen as there can be no duplicates in a set:\n"
      ]
    },
    {
      "cell_type": "code",
      "execution_count": 6,
      "metadata": {
        "collapsed": true,
        "colab": {
          "base_uri": "https://localhost:8080/"
        },
        "id": "kIL8e8WeggsU",
        "outputId": "97e4d06d-d591-4945-97d4-922e4af22c75"
      },
      "outputs": [
        {
          "output_type": "execute_result",
          "data": {
            "text/plain": [
              "{'AC/DC', 'Back in Black', 'NSYNC', 'Thriller'}"
            ]
          },
          "metadata": {},
          "execution_count": 6
        }
      ],
      "source": [
        "A.add(\"NSYNC\")\n",
        "A"
      ]
    },
    {
      "cell_type": "markdown",
      "metadata": {
        "id": "eLhUZgTgggsU"
      },
      "source": [
        " We can remove an item from a set using the remove method:"
      ]
    },
    {
      "cell_type": "code",
      "execution_count": 7,
      "metadata": {
        "collapsed": true,
        "colab": {
          "base_uri": "https://localhost:8080/"
        },
        "id": "WYSqdauIggsU",
        "outputId": "f912ca02-6428-439e-8b82-b392a81d9ed9"
      },
      "outputs": [
        {
          "output_type": "execute_result",
          "data": {
            "text/plain": [
              "{'AC/DC', 'Back in Black', 'Thriller'}"
            ]
          },
          "metadata": {},
          "execution_count": 7
        }
      ],
      "source": [
        "A.remove(\"NSYNC\")\n",
        "A"
      ]
    },
    {
      "cell_type": "markdown",
      "metadata": {
        "id": "so_qoFJ0ggsV"
      },
      "source": [
        " We can verify if an element is in the set using the **in** command :"
      ]
    },
    {
      "cell_type": "code",
      "execution_count": 8,
      "metadata": {
        "collapsed": true,
        "colab": {
          "base_uri": "https://localhost:8080/"
        },
        "id": "TRnCPTCGggsV",
        "outputId": "ae1494cd-2d3f-43f0-e78d-44c90c6c14bd"
      },
      "outputs": [
        {
          "output_type": "execute_result",
          "data": {
            "text/plain": [
              "True"
            ]
          },
          "metadata": {},
          "execution_count": 8
        }
      ],
      "source": [
        "\"AC/DC\"  in A\n"
      ]
    },
    {
      "cell_type": "markdown",
      "metadata": {
        "id": "m-UjIR61ggsW"
      },
      "source": [
        "### Working with sets"
      ]
    },
    {
      "cell_type": "markdown",
      "metadata": {
        "id": "7knjx0osggsW"
      },
      "source": [
        "Remember that with sets you can check the difference between sets, as well as the symmetric difference, intersection, and union:"
      ]
    },
    {
      "cell_type": "markdown",
      "metadata": {
        "id": "I_fgI4UKggsW"
      },
      "source": [
        " Consider the following two sets:"
      ]
    },
    {
      "cell_type": "code",
      "execution_count": 9,
      "metadata": {
        "collapsed": true,
        "id": "bydYPiawggsW"
      },
      "outputs": [],
      "source": [
        "album_set1 = set([\"Thriller\",'AC/DC', 'Back in Black'] )\n",
        "album_set2 = set([ \"AC/DC\",\"Back in Black\", \"The Dark Side of the Moon\"] )"
      ]
    },
    {
      "cell_type": "markdown",
      "metadata": {
        "id": "PRunrpi3ggsX"
      },
      "source": [
        " <a ><img src = \"https://ibm.box.com/shared/static/bl6ijga6g8r7bdfkl17qw7zh62czte47.png\" width = 850, align = \"center\"></a>\n",
        "  <h4 align=center>  Visualizing the sets as two circles \n",
        " \n",
        "  </h4> "
      ]
    },
    {
      "cell_type": "code",
      "execution_count": 10,
      "metadata": {
        "collapsed": true,
        "scrolled": true,
        "colab": {
          "base_uri": "https://localhost:8080/"
        },
        "id": "a0tJ2ItkggsX",
        "outputId": "746bc4f4-e878-4e62-b9ba-778833625013"
      },
      "outputs": [
        {
          "output_type": "execute_result",
          "data": {
            "text/plain": [
              "({'AC/DC', 'Back in Black', 'Thriller'},\n",
              " {'AC/DC', 'Back in Black', 'The Dark Side of the Moon'})"
            ]
          },
          "metadata": {},
          "execution_count": 10
        }
      ],
      "source": [
        "album_set1, album_set2"
      ]
    },
    {
      "cell_type": "markdown",
      "metadata": {
        "id": "1EMIFKtqggsX"
      },
      "source": [
        " As both sets contain 'AC/DC' and 'Back in Black' we represent these common elements with the intersection of two circles.    \n"
      ]
    },
    {
      "cell_type": "markdown",
      "metadata": {
        "id": "ZttNMeXsggsY"
      },
      "source": [
        " <a ><img src = \"https://ibm.box.com/shared/static/7ttuf8otui4s6axm23csmb4s3pxz16y2.png\" width = 650, align = \"center\"></a>\n",
        "  <h4 align=center>  Visualizing common elements with the intersection of two circles.\n",
        " \n",
        "  </h4> "
      ]
    },
    {
      "cell_type": "markdown",
      "metadata": {
        "id": "vG8ocZG3ggsY"
      },
      "source": [
        "We can find the common elements of the sets as follows:"
      ]
    },
    {
      "cell_type": "code",
      "execution_count": 11,
      "metadata": {
        "collapsed": true,
        "colab": {
          "base_uri": "https://localhost:8080/"
        },
        "id": "yUmlUKNkggsY",
        "outputId": "92bd0412-d0d9-4ccb-9e10-47e8845c3756"
      },
      "outputs": [
        {
          "output_type": "execute_result",
          "data": {
            "text/plain": [
              "{'AC/DC', 'Back in Black'}"
            ]
          },
          "metadata": {},
          "execution_count": 11
        }
      ],
      "source": [
        "album_set_3=album_set1 & album_set2\n",
        "album_set_3"
      ]
    },
    {
      "cell_type": "markdown",
      "metadata": {
        "id": "lhuhIXYxggsZ"
      },
      "source": [
        "We can find all the elements that are only contained in **album_set1** using the **difference** method:"
      ]
    },
    {
      "cell_type": "code",
      "execution_count": 12,
      "metadata": {
        "collapsed": true,
        "colab": {
          "base_uri": "https://localhost:8080/"
        },
        "id": "1WF7RdiuggsZ",
        "outputId": "e94dfe20-8681-416d-b4c3-9390854546eb"
      },
      "outputs": [
        {
          "output_type": "execute_result",
          "data": {
            "text/plain": [
              "{'Thriller'}"
            ]
          },
          "metadata": {},
          "execution_count": 12
        }
      ],
      "source": [
        "album_set1.difference(album_set2)  "
      ]
    },
    {
      "cell_type": "markdown",
      "metadata": {
        "id": "TuKhGN4gggsZ"
      },
      "source": [
        "We only consider elements in **album_set1**; all the elements in **album_set2**, including the intersection, are not included.\n"
      ]
    },
    {
      "cell_type": "markdown",
      "metadata": {
        "id": "qQh-CJYdggsa"
      },
      "source": [
        " <a ><img src = \"https://ibm.box.com/shared/static/osmxw1qnb5t9odon2cx94wxhfzlkn1n8.png\" width = 650, align = \"center\"></a>\n",
        "  <h4 align=center>  The difference of “album_set1” and   “album_set2\n",
        " \n",
        "  </h4> "
      ]
    },
    {
      "cell_type": "markdown",
      "metadata": {
        "id": "az7laMLUggsa"
      },
      "source": [
        "The difference between **album_set2** and **album_set1** is given by:"
      ]
    },
    {
      "cell_type": "code",
      "execution_count": 13,
      "metadata": {
        "collapsed": true,
        "colab": {
          "base_uri": "https://localhost:8080/"
        },
        "id": "K-Rz-Vitggsa",
        "outputId": "63d38156-fadc-498b-ea97-7d4b27cf6dd6"
      },
      "outputs": [
        {
          "output_type": "execute_result",
          "data": {
            "text/plain": [
              "{'The Dark Side of the Moon'}"
            ]
          },
          "metadata": {},
          "execution_count": 13
        }
      ],
      "source": [
        "album_set2.difference(album_set1)  "
      ]
    },
    {
      "cell_type": "markdown",
      "metadata": {
        "id": "8WLC3MTvggsb"
      },
      "source": [
        "<a ><img src = \"https://ibm.box.com/shared/static/klgc09bgpsjudr9v3wtl8yk9s2lya3hl.png\" width = 650, align = \"center\"></a>\n",
        "  <h4 align=center>  The difference of **album_set2** and   **album_set1**\n",
        " \n",
        "  </h4> "
      ]
    },
    {
      "cell_type": "markdown",
      "metadata": {
        "id": "8wKyLt9Wggsb"
      },
      "source": [
        "We can also find the intersection, i.e in both **album_list2** and **album_list1**, using the intersection command :"
      ]
    },
    {
      "cell_type": "code",
      "execution_count": 14,
      "metadata": {
        "collapsed": true,
        "colab": {
          "base_uri": "https://localhost:8080/"
        },
        "id": "aZ6iHiQgggsb",
        "outputId": "2f826f1b-0cb5-45b6-eb61-9913cbfbe718"
      },
      "outputs": [
        {
          "output_type": "execute_result",
          "data": {
            "text/plain": [
              "{'AC/DC', 'Back in Black'}"
            ]
          },
          "metadata": {},
          "execution_count": 14
        }
      ],
      "source": [
        "album_set1.intersection(album_set2)   "
      ]
    },
    {
      "cell_type": "markdown",
      "metadata": {
        "id": "2GnxL2Hkggsc"
      },
      "source": [
        " This corresponds to the intersection of the two circles:"
      ]
    },
    {
      "cell_type": "markdown",
      "metadata": {
        "id": "8VhfoeqAggsc"
      },
      "source": [
        " <a ><img src = \"https://ibm.box.com/shared/static/s2xfytq43twp6jsvbvr4o2fir7wdablo.png\" width = 650, align = \"center\"></a>\n",
        "  <h4 align=center>  Intersection of set\n",
        " \n",
        "  </h4> "
      ]
    },
    {
      "cell_type": "markdown",
      "metadata": {
        "id": "NW3n5vwJggsc"
      },
      "source": [
        " The union corresponds to all the elements in both sets, which is represented by colouring  both circles:\n"
      ]
    },
    {
      "cell_type": "markdown",
      "metadata": {
        "id": "9FdOG7XOggsc"
      },
      "source": [
        " <a ><img src = \"https://ibm.box.com/shared/static/vkczce5jh50g0oh53xn0ilgriflcrog0.png\" width = 650, align = \"center\"></a>\n",
        "  <h4 align=center> Figure 7:  Union of set\n",
        " \n",
        "  </h4> "
      ]
    },
    {
      "cell_type": "markdown",
      "metadata": {
        "id": "yAXsjIDlggsd"
      },
      "source": [
        " The union is given by:"
      ]
    },
    {
      "cell_type": "code",
      "execution_count": 15,
      "metadata": {
        "collapsed": true,
        "colab": {
          "base_uri": "https://localhost:8080/"
        },
        "id": "CsTBuf6Oggsd",
        "outputId": "4e261f08-63ea-4f1a-98e9-278c3d995b0e"
      },
      "outputs": [
        {
          "output_type": "execute_result",
          "data": {
            "text/plain": [
              "{'AC/DC', 'Back in Black', 'The Dark Side of the Moon', 'Thriller'}"
            ]
          },
          "metadata": {},
          "execution_count": 15
        }
      ],
      "source": [
        "album_set1.union(album_set2)"
      ]
    },
    {
      "cell_type": "markdown",
      "metadata": {
        "id": "ITZyUGj1ggsd"
      },
      "source": [
        "And you can check if a set is a superset or subset of another set, respectively, like this:"
      ]
    },
    {
      "cell_type": "code",
      "execution_count": 16,
      "metadata": {
        "collapsed": true,
        "colab": {
          "base_uri": "https://localhost:8080/"
        },
        "id": "ci-T8Q1Xggsd",
        "outputId": "89f575b2-2868-4e0d-e0ef-13120c1a2e4e"
      },
      "outputs": [
        {
          "output_type": "execute_result",
          "data": {
            "text/plain": [
              "False"
            ]
          },
          "metadata": {},
          "execution_count": 16
        }
      ],
      "source": [
        "set(album_set1).issuperset(album_set2)   "
      ]
    },
    {
      "cell_type": "code",
      "execution_count": 17,
      "metadata": {
        "collapsed": true,
        "colab": {
          "base_uri": "https://localhost:8080/"
        },
        "id": "O-VTctRMggse",
        "outputId": "988add4a-023b-4dc0-ef0b-9ce4c867d41a"
      },
      "outputs": [
        {
          "output_type": "execute_result",
          "data": {
            "text/plain": [
              "False"
            ]
          },
          "metadata": {},
          "execution_count": 17
        }
      ],
      "source": [
        "set(album_set2).issubset(album_set1)     "
      ]
    },
    {
      "cell_type": "markdown",
      "metadata": {
        "id": "HF49EKkbggse"
      },
      "source": [
        "Here is an example where **issubset()** is **issuperset()** is true:"
      ]
    },
    {
      "cell_type": "code",
      "execution_count": 18,
      "metadata": {
        "collapsed": true,
        "colab": {
          "base_uri": "https://localhost:8080/"
        },
        "id": "lnLon_CBggse",
        "outputId": "b6e2eb97-a86f-4347-ffef-5e73ed8c8f1d"
      },
      "outputs": [
        {
          "output_type": "execute_result",
          "data": {
            "text/plain": [
              "True"
            ]
          },
          "metadata": {},
          "execution_count": 18
        }
      ],
      "source": [
        "set({\"Back in Black\", \"AC/DC\"}).issubset(album_set1) "
      ]
    },
    {
      "cell_type": "code",
      "execution_count": 19,
      "metadata": {
        "collapsed": true,
        "colab": {
          "base_uri": "https://localhost:8080/"
        },
        "id": "p7kGByraggsf",
        "outputId": "4fdf95a7-0c14-417b-f445-3b302d46cde5"
      },
      "outputs": [
        {
          "output_type": "execute_result",
          "data": {
            "text/plain": [
              "True"
            ]
          },
          "metadata": {},
          "execution_count": 19
        }
      ],
      "source": [
        "album_set1.issuperset({\"Back in Black\", \"AC/DC\"})   "
      ]
    },
    {
      "cell_type": "markdown",
      "metadata": {
        "id": "HjPi0Af2ggsf"
      },
      "source": [
        "#### Create a new set “album_set3” that is the union of “album_set1” and “album_set2”:"
      ]
    },
    {
      "cell_type": "code",
      "execution_count": 19,
      "metadata": {
        "collapsed": true,
        "id": "k8XIR-F-ggsf"
      },
      "outputs": [],
      "source": [
        ""
      ]
    },
    {
      "cell_type": "markdown",
      "metadata": {
        "id": "i5-vHiKlggsg"
      },
      "source": [
        "<div align=\"right\">\n",
        "<a href=\"#4\" class=\"btn btn-default\" data-toggle=\"collapse\">Click here for the solution</a>\n",
        "\n",
        "</div>\n",
        "<div id=\"4\" class=\"collapse\">\n",
        "```\n",
        "album_set3=album_set1.union(album_set2)\n",
        "album_set3\n",
        "```\n",
        "</div>"
      ]
    },
    {
      "cell_type": "markdown",
      "metadata": {
        "id": "TC3jTKKnggsg"
      },
      "source": [
        "#### Find out if  \"album_set1\" is a subset of \"album_set3\":"
      ]
    },
    {
      "cell_type": "code",
      "execution_count": 19,
      "metadata": {
        "collapsed": true,
        "id": "lZfMSMOmggsg"
      },
      "outputs": [],
      "source": [
        ""
      ]
    },
    {
      "cell_type": "markdown",
      "metadata": {
        "id": "IAOzBNJXggsg"
      },
      "source": [
        " <div align=\"right\">\n",
        "<a href=\"#5\" class=\"btn btn-default\" data-toggle=\"collapse\">Click here for the solution</a>\n",
        "\n",
        "</div>\n",
        "<div id=\"5\" class=\"collapse\">\n",
        "```\n",
        "album_set1.issubset(album_set3)  \n",
        "\n",
        "```\n",
        "</div>"
      ]
    },
    {
      "cell_type": "markdown",
      "metadata": {
        "id": "wJ5Zs3h7ggsh"
      },
      "source": [
        "\n",
        " <a href=\"http://cocl.us/bottemNotebooksPython101Coursera\"><img src = \"https://ibm.box.com/shared/static/irypdxea2q4th88zu1o1tsd06dya10go.png\" width = 750, align = \"center\"></a>"
      ]
    },
    {
      "cell_type": "markdown",
      "metadata": {
        "id": "5ZvIqyJBggsh"
      },
      "source": [
        "\n",
        "\n",
        "\n"
      ]
    },
    {
      "cell_type": "markdown",
      "metadata": {
        "id": "16ZJne5Jggsh"
      },
      "source": [
        " "
      ]
    }
  ],
  "metadata": {
    "kernelspec": {
      "display_name": "Python 3",
      "language": "python",
      "name": "python3"
    },
    "language_info": {
      "codemirror_mode": {
        "name": "ipython",
        "version": 3
      },
      "file_extension": ".py",
      "mimetype": "text/x-python",
      "name": "python",
      "nbconvert_exporter": "python",
      "pygments_lexer": "ipython3",
      "version": "3.5.2"
    },
    "colab": {
      "name": "Sets.ipynb",
      "provenance": [],
      "include_colab_link": true
    }
  },
  "nbformat": 4,
  "nbformat_minor": 0
}