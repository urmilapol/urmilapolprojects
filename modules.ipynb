{
  "nbformat": 4,
  "nbformat_minor": 0,
  "metadata": {
    "colab": {
      "name": "modules.ipynb",
      "provenance": [],
      "authorship_tag": "ABX9TyMgwzzXSZMG5WnYKC8fiGI2",
      "include_colab_link": true
    },
    "kernelspec": {
      "name": "python3",
      "display_name": "Python 3"
    },
    "language_info": {
      "name": "python"
    }
  },
  "cells": [
    {
      "cell_type": "markdown",
      "metadata": {
        "id": "view-in-github",
        "colab_type": "text"
      },
      "source": [
        "<a href=\"https://colab.research.google.com/github/urmilapol/urmilapolprojects/blob/master/modules.ipynb\" target=\"_parent\"><img src=\"https://colab.research.google.com/assets/colab-badge.svg\" alt=\"Open In Colab\"/></a>"
      ]
    },
    {
      "cell_type": "markdown",
      "source": [
        "**Modules**\n",
        "\n",
        "\n",
        "Let's say we want to generate a random number between 1 and 3. The random module is a really easy way to do this:\n",
        "\n"
      ],
      "metadata": {
        "id": "5-NUoAsx55pr"
      }
    },
    {
      "cell_type": "code",
      "execution_count": 2,
      "metadata": {
        "colab": {
          "base_uri": "https://localhost:8080/"
        },
        "id": "_QZRLdgZ4YPS",
        "outputId": "99428012-a29a-4537-9d1a-4e13f9833a0a"
      },
      "outputs": [
        {
          "output_type": "execute_result",
          "data": {
            "text/plain": [
              "3"
            ]
          },
          "metadata": {},
          "execution_count": 2
        }
      ],
      "source": [
        "import random\n",
        "random.randint(1, 3)\n",
        "\n"
      ]
    },
    {
      "cell_type": "code",
      "source": [
        "random.randint(1, 3)"
      ],
      "metadata": {
        "colab": {
          "base_uri": "https://localhost:8080/"
        },
        "id": "l595ucuL5xym",
        "outputId": "d9088a00-f708-4cab-d280-364490441883"
      },
      "execution_count": 3,
      "outputs": [
        {
          "output_type": "execute_result",
          "data": {
            "text/plain": [
              "1"
            ]
          },
          "metadata": {},
          "execution_count": 3
        }
      ]
    },
    {
      "cell_type": "markdown",
      "source": [
        "**What are modules?**\n",
        "The first line in the example, import random, was an import statement. But what is that random thing that it gave us?\n",
        "\n",
        " random\n",
        "<module 'random' from '/usr/lib/python3.7/random.py'>\n"
      ],
      "metadata": {
        "id": "fx_CRhTh6EEN"
      }
    },
    {
      "cell_type": "markdown",
      "source": [
        "https://github.com/Akuli/python-tutorial/blob/master/basics/modules.md"
      ],
      "metadata": {
        "id": "NRNSpnrD7L6c"
      }
    },
    {
      "cell_type": "code",
      "source": [
        ""
      ],
      "metadata": {
        "id": "jCkgXIRP7Iw5"
      },
      "execution_count": null,
      "outputs": []
    }
  ]
}