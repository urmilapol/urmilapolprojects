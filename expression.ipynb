{
  "nbformat": 4,
  "nbformat_minor": 0,
  "metadata": {
    "colab": {
      "name": "expression.ipynb",
      "provenance": [],
      "authorship_tag": "ABX9TyMP1DZ/dF1QAbXkkTY92CD8",
      "include_colab_link": true
    },
    "kernelspec": {
      "name": "python3",
      "display_name": "Python 3"
    },
    "language_info": {
      "name": "python"
    }
  },
  "cells": [
    {
      "cell_type": "markdown",
      "metadata": {
        "id": "view-in-github",
        "colab_type": "text"
      },
      "source": [
        "<a href=\"https://colab.research.google.com/github/urmilapol/urmilapolprojects/blob/master/expression.ipynb\" target=\"_parent\"><img src=\"https://colab.research.google.com/assets/colab-badge.svg\" alt=\"Open In Colab\"/></a>"
      ]
    },
    {
      "cell_type": "markdown",
      "source": [
        "\n",
        "Python Expressions:\n",
        "Expressions are representations of value. They are different from statement in the fact that statements do something while expressions are representation of value. For example any string is also an expressions since it represents the value of the string as well.\n",
        "An expression is a combination of operators and operands that is interpreted to produce some other value. In any programming language, an expression is evaluated as per the precedence of its operators. So that if there is more than one operator in an expression, their precedence decides which operation will be performed first. We have many different types of expressions in Python. Let’s discuss all types along with some exemplar codes :\n"
      ],
      "metadata": {
        "id": "DdeA5UPjqVvw"
      }
    },
    {
      "cell_type": "code",
      "source": [
        "# Constant Expressions\n",
        "x = 15 + 1.3\n",
        "  \n",
        "print(x)"
      ],
      "metadata": {
        "colab": {
          "base_uri": "https://localhost:8080/"
        },
        "id": "K8OFbFU7reOu",
        "outputId": "ab6b0fca-4d48-4093-e42a-c089619fa78a"
      },
      "execution_count": 3,
      "outputs": [
        {
          "output_type": "stream",
          "name": "stdout",
          "text": [
            "16.3\n"
          ]
        }
      ]
    },
    {
      "cell_type": "markdown",
      "source": [
        "Operators\tSyntax\tFunctioning\n",
        "+\tx + y\tAddition\n",
        "–\tx – y\tSubtraction\n",
        "*\tx * y\tMultiplication\n",
        "/\tx / y\tDivision\n",
        "//\tx // y\tQuotient\n",
        "%\tx % y\tRemainder\n",
        "**\tx ** y\tExponentiation\n"
      ],
      "metadata": {
        "id": "NJxOr3r7rpln"
      }
    },
    {
      "cell_type": "code",
      "source": [
        "# Arithmetic Expressions\n",
        "x = 40\n",
        "y = 12\n",
        "  \n",
        "add = x + y\n",
        "sub = x - y\n",
        "pro = x * y\n",
        "div = x / y\n",
        "  \n",
        "print(add)\n",
        "print(sub)\n",
        "print(pro)\n",
        "print(div)"
      ],
      "metadata": {
        "colab": {
          "base_uri": "https://localhost:8080/"
        },
        "id": "i0U_g_tpbZLm",
        "outputId": "26940755-d0f7-4fa2-a0e1-ac068c5cd336"
      },
      "execution_count": 2,
      "outputs": [
        {
          "output_type": "stream",
          "name": "stdout",
          "text": [
            "52\n",
            "28\n",
            "480\n",
            "3.3333333333333335\n"
          ]
        }
      ]
    },
    {
      "cell_type": "markdown",
      "source": [
        ""
      ],
      "metadata": {
        "id": "HBrlj8flqU7y"
      }
    },
    {
      "cell_type": "markdown",
      "source": [
        "3. Integral Expressions: These are the kind of expressions that produce only integer results after all computations and type conversions.\n"
      ],
      "metadata": {
        "id": "qqGYoUWnsJPc"
      }
    },
    {
      "cell_type": "code",
      "source": [
        "# Integral Expressions\n",
        "a = 13\n",
        "b = 12.0\n",
        "  \n",
        "c = a + int(b)\n",
        "print(c)"
      ],
      "metadata": {
        "colab": {
          "base_uri": "https://localhost:8080/"
        },
        "id": "FbJzMtC-sTOC",
        "outputId": "7b099b13-6718-4603-9d25-e6877015082a"
      },
      "execution_count": 4,
      "outputs": [
        {
          "output_type": "stream",
          "name": "stdout",
          "text": [
            "25\n"
          ]
        }
      ]
    },
    {
      "cell_type": "markdown",
      "source": [
        "Floating Expressions: These are the kind of expressions which produce floating point numbers as result after all computations and type conversions."
      ],
      "metadata": {
        "id": "M-Bj3uCOsdUg"
      }
    },
    {
      "cell_type": "code",
      "source": [
        "# Floating Expressions\n",
        "a = 13\n",
        "b = 5\n",
        "  \n",
        "c = a / b\n",
        "print(c)"
      ],
      "metadata": {
        "colab": {
          "base_uri": "https://localhost:8080/"
        },
        "id": "AUFZ_ZotsfLP",
        "outputId": "cbd22a91-f170-44b7-efe8-621a254fb604"
      },
      "execution_count": 5,
      "outputs": [
        {
          "output_type": "stream",
          "name": "stdout",
          "text": [
            "2.6\n"
          ]
        }
      ]
    },
    {
      "cell_type": "markdown",
      "source": [
        "Relational Expressions: In these types of expressions, arithmetic expressions are written on both sides of relational operator (> , < , >= , <=). Those arithmetic expressions are evaluated first, and then compared as per relational operator and produce a boolean output in the end. These expressions are also called Boolean expressions."
      ],
      "metadata": {
        "id": "msje_LZ5sv7b"
      }
    },
    {
      "cell_type": "code",
      "source": [
        "# Relational Expressions\n",
        "a = 21\n",
        "b = 13\n",
        "c = 40\n",
        "d = 37\n",
        "  \n",
        "p = (a + b) >= (c - d)\n",
        "print(p)"
      ],
      "metadata": {
        "colab": {
          "base_uri": "https://localhost:8080/"
        },
        "id": "uAyTdaQRsxGR",
        "outputId": "8fa5f387-a1cf-4aa1-ae5c-e67873a83b7f"
      },
      "execution_count": 6,
      "outputs": [
        {
          "output_type": "stream",
          "name": "stdout",
          "text": [
            "True\n"
          ]
        }
      ]
    },
    {
      "cell_type": "markdown",
      "source": [
        "Logical Expressions: These are kinds of expressions that result in either True or False. It basically specifies one or more conditions. For example, (10 == 9) is a condition if 10 is equal to 9. As we know it is not correct, so it will return False. Studying logical expressions, we also come across some logical operators which can be seen in logical expressions most often. Here are some logical operators in Python:\n",
        "\n",
        "and\tP and Q\tIt returns true if both P and Q are true otherwise returns false\n",
        "or\tP or Q\tIt returns true if at least one of P and Q is true\n",
        "not\tnot P\tIt returns true if condition P is false"
      ],
      "metadata": {
        "id": "EsQB-jBDs4Gw"
      }
    },
    {
      "cell_type": "code",
      "source": [
        "P = (10 == 9)\n",
        "Q = (7 > 5)\n",
        "  \n",
        "# Logical Expressions\n",
        "R = P and Q\n",
        "S = P or Q\n",
        "T = not P\n",
        "  \n",
        "print(R)\n",
        "print(S)\n",
        "print(T)"
      ],
      "metadata": {
        "colab": {
          "base_uri": "https://localhost:8080/"
        },
        "id": "Q7PMFKHDs5iv",
        "outputId": "350eb374-3411-421b-e081-c76432a64c3a"
      },
      "execution_count": 7,
      "outputs": [
        {
          "output_type": "stream",
          "name": "stdout",
          "text": [
            "False\n",
            "True\n",
            "True\n"
          ]
        }
      ]
    },
    {
      "cell_type": "markdown",
      "source": [
        " Bitwise Expressions: These are the kind of expressions in which computations are performed at bit level."
      ],
      "metadata": {
        "id": "CUr0wk_KtKp5"
      }
    },
    {
      "cell_type": "code",
      "source": [
        "# Bitwise Expressions\n",
        "a = 12\n",
        "  \n",
        "x = a >> 2\n",
        "y = a << 1\n",
        "  \n",
        "print(x, y)"
      ],
      "metadata": {
        "colab": {
          "base_uri": "https://localhost:8080/"
        },
        "id": "S0bgtLjxtQXG",
        "outputId": "05c6a960-dc22-4cc6-f193-caa99228ab0d"
      },
      "execution_count": 8,
      "outputs": [
        {
          "output_type": "stream",
          "name": "stdout",
          "text": [
            "3 24\n"
          ]
        }
      ]
    },
    {
      "cell_type": "markdown",
      "source": [
        "Combinational Expressions: We can also use different types of expressions in a single expression, and that will be termed as combinational expressions."
      ],
      "metadata": {
        "id": "0xzvVeYstUe_"
      }
    },
    {
      "cell_type": "code",
      "source": [
        "# Combinational Expressions\n",
        "a = 16\n",
        "b = 12\n",
        "  \n",
        "c = a + (b >> 1)\n",
        "print(c)"
      ],
      "metadata": {
        "colab": {
          "base_uri": "https://localhost:8080/"
        },
        "id": "MnWc_TZFtV02",
        "outputId": "c72e4378-2e5c-4844-e0c4-0980bf386fd0"
      },
      "execution_count": 9,
      "outputs": [
        {
          "output_type": "stream",
          "name": "stdout",
          "text": [
            "22\n"
          ]
        }
      ]
    },
    {
      "cell_type": "markdown",
      "source": [
        "Multiple operators in expression (Operator Precedence)\n",
        "It’s a quite simple process to get the result of an expression if there is only one operator in an expression. But if there is more than one operator in an expression, it may give different results on basis of the order of operators executed. To sort out these confusions, the operator precedence is defined. Operator Precedence simply defines the priority of operators that which operator is to be executed first. Here we see the operator precedence in Python, where the operator higher in the list has more precedence or priority:\n",
        "\n",
        "Precedence\tName\tOperator\n",
        "1\tParenthesis   \t( ) [ ] { }\n",
        "2\tExponentiation\t **\n",
        "3\tUnary plus or minus, complement \t-a , +a , ~a\n",
        "4\tMultiply, Divide, Modulo  \t/  *  //  %\n",
        "5\tAddition & Subtraction \t+  –\n",
        "6\tShift Operators\t>>  <<\n",
        "7\tBitwise AND\t&\n",
        "8\tBitwise XOR\t^\n",
        "9\tBitwise OR\t|\n",
        "10\tComparison Operators\t>=  <=  >  <\n",
        "11\tEquality Operators\t==  !=\n",
        "12\tAssignment Operators \t=  +=  -=  /=  *=\n",
        "13\tIdentity and membership operators\tis, is not, in, not in\n",
        "14\tLogical Operators   \tand, or, not\n",
        "So, if we have more than one operator in an expression, it is evaluated as per operator precedence. For example, if we have the expression “10 + 3 * 4”. Going without precedence it could have given two different outputs 22 or 52. But now looking at operator precedence, it must yield 22. Let’s discuss this with the help of a Python program:"
      ],
      "metadata": {
        "id": "gu_7EKxktpdP"
      }
    },
    {
      "cell_type": "code",
      "source": [
        "# Multi-operator expression\n",
        "  \n",
        "a = 10 + 3 * 4\n",
        "print(a)\n",
        "  \n",
        "b = (10 + 3) * 4\n",
        "print(b)\n",
        "  \n",
        "c = 10 + (3 * 4)\n",
        "print(c)"
      ],
      "metadata": {
        "colab": {
          "base_uri": "https://localhost:8080/"
        },
        "id": "JhJIQgWvtq9G",
        "outputId": "2532e123-fdf7-408f-ecd7-65e88aa4dd7f"
      },
      "execution_count": 10,
      "outputs": [
        {
          "output_type": "stream",
          "name": "stdout",
          "text": [
            "22\n",
            "52\n",
            "22\n"
          ]
        }
      ]
    }
  ]
}