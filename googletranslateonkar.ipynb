{
  "nbformat": 4,
  "nbformat_minor": 0,
  "metadata": {
    "colab": {
      "provenance": [],
      "authorship_tag": "ABX9TyNjM5CCe8o5qcXlrqHUapmM",
      "include_colab_link": true
    },
    "kernelspec": {
      "name": "python3",
      "display_name": "Python 3"
    },
    "language_info": {
      "name": "python"
    }
  },
  "cells": [
    {
      "cell_type": "markdown",
      "metadata": {
        "id": "view-in-github",
        "colab_type": "text"
      },
      "source": [
        "<a href=\"https://colab.research.google.com/github/urmilapol/urmilapolprojects/blob/master/googletranslateonkar.ipynb\" target=\"_parent\"><img src=\"https://colab.research.google.com/assets/colab-badge.svg\" alt=\"Open In Colab\"/></a>"
      ]
    },
    {
      "cell_type": "code",
      "execution_count": 1,
      "metadata": {
        "colab": {
          "base_uri": "https://localhost:8080/"
        },
        "id": "vPoUTHQ9mS4j",
        "outputId": "1fc6f771-2a5d-4e2a-f7db-32df59acd049"
      },
      "outputs": [
        {
          "output_type": "stream",
          "name": "stdout",
          "text": [
            "Collecting deep-translator\n",
            "  Downloading deep_translator-1.11.4-py3-none-any.whl (42 kB)\n",
            "\u001b[?25l     \u001b[90m━━━━━━━━━━━━━━━━━━━━━━━━━━━━━━━━━━━━━━━━\u001b[0m \u001b[32m0.0/42.3 kB\u001b[0m \u001b[31m?\u001b[0m eta \u001b[36m-:--:--\u001b[0m\r\u001b[2K     \u001b[90m━━━━━━━━━━━━━━━━━━━━━━━━━━━━━━━━━━━━━━━━\u001b[0m \u001b[32m42.3/42.3 kB\u001b[0m \u001b[31m1.5 MB/s\u001b[0m eta \u001b[36m0:00:00\u001b[0m\n",
            "\u001b[?25hRequirement already satisfied: beautifulsoup4<5.0.0,>=4.9.1 in /usr/local/lib/python3.10/dist-packages (from deep-translator) (4.12.3)\n",
            "Requirement already satisfied: requests<3.0.0,>=2.23.0 in /usr/local/lib/python3.10/dist-packages (from deep-translator) (2.31.0)\n",
            "Requirement already satisfied: soupsieve>1.2 in /usr/local/lib/python3.10/dist-packages (from beautifulsoup4<5.0.0,>=4.9.1->deep-translator) (2.5)\n",
            "Requirement already satisfied: charset-normalizer<4,>=2 in /usr/local/lib/python3.10/dist-packages (from requests<3.0.0,>=2.23.0->deep-translator) (3.3.2)\n",
            "Requirement already satisfied: idna<4,>=2.5 in /usr/local/lib/python3.10/dist-packages (from requests<3.0.0,>=2.23.0->deep-translator) (3.6)\n",
            "Requirement already satisfied: urllib3<3,>=1.21.1 in /usr/local/lib/python3.10/dist-packages (from requests<3.0.0,>=2.23.0->deep-translator) (2.0.7)\n",
            "Requirement already satisfied: certifi>=2017.4.17 in /usr/local/lib/python3.10/dist-packages (from requests<3.0.0,>=2.23.0->deep-translator) (2024.2.2)\n",
            "Installing collected packages: deep-translator\n",
            "Successfully installed deep-translator-1.11.4\n"
          ]
        }
      ],
      "source": [
        "pip install deep-translator"
      ]
    },
    {
      "cell_type": "code",
      "source": [
        "from deep_translator import GoogleTranslator\n",
        "\n",
        "def translate_english_to_marathi(input_file, output_file):\n",
        "    try:\n",
        "        # Open the input file (English content)\n",
        "        with open(input_file, 'r', encoding='latin-1') as file:\n",
        "            english_text = file.read()\n",
        "        print(len(english_text))\n",
        "        text_up_to_100 = english_text[0:1000]\n",
        "        print(text_up_to_100, len(text_up_to_100))\n",
        "        # Translate the English text to Marathi\n",
        "        translation = GoogleTranslator(source='en', target='mr').translate(text_up_to_100)\n",
        "\n",
        "        # Open the output file (Marathi translation)\n",
        "        with open(output_file, 'w', encoding='utf-8') as file:\n",
        "            file.write(translation)\n",
        "\n",
        "        print(\"Translation complete. Marathi content saved to\", output_file)\n",
        "\n",
        "    except Exception as e:\n",
        "        print(\"Error:\", str(e))\n",
        "\n",
        "if __name__ == \"__main__\":\n",
        "   input_file = \"/content/sample_data/demo.txt\"  # Replace with the path to your input file\n",
        "   output_file = \"/content/sample_data/output_1.txt\"  # Replace with the path where you want to save the Marathi translation\n",
        "   translate_english_to_marathi(input_file, output_file)"
      ],
      "metadata": {
        "colab": {
          "base_uri": "https://localhost:8080/"
        },
        "id": "MwHD6A6hmaHY",
        "outputId": "54c898b8-6a58-4164-f14e-401f29bad410"
      },
      "execution_count": null,
      "outputs": [
        {
          "output_type": "stream",
          "name": "stdout",
          "text": [
            "3819\n",
            "On August 9, in a moment of indiscretion following Nagasaki, he had confided to Karl Darrow that he had proposed a nonmilitary demonstration to the Interim Committee.\n",
            "Big Science\n",
            "She swiveled so fast I flinched, expecting her to give me a personal demonstration of her first and third talents, but she only narrowed her eyes at me.\n",
            "City of the Plague God\n",
            "When he finished the demonstration, I took back my hand.\n",
            "In the Time of the Butterflies\n",
            "She held her breath as the shrieking hyena was brought forthwhen unmuzzled, its cackle could paralyze the human bodybut fortunately, Baaz did not suggest a live demonstration.\n",
            "Beasts of Prey.\n",
            "On August 9, in a moment of indiscretion following Nagasaki, he had confided to Karl Darrow that he had proposed a nonmilitary demonstration to the Interim Committee.\n",
            "Big Science\n",
            "She swiveled so fast I flinched, expecting her to give me a personal demonstration of her first and third talents, but she only narrowed her eyes at me.\n",
            "City of the Plague God\n",
            "When he  1000\n",
            "Translation complete. Marathi content saved to /content/sample_data/output_1.txt\n"
          ]
        }
      ]
    },
    {
      "cell_type": "code",
      "source": [
        "output_file = \"c:\\\\output.txt\"  # Replace with the path where you want to save the Marathi translation\n",
        "\n"
      ],
      "metadata": {
        "id": "ieqOcOOtnjNC"
      },
      "execution_count": null,
      "outputs": []
    },
    {
      "cell_type": "code",
      "source": [
        "####Dyanamic File size"
      ],
      "metadata": {
        "id": "ca-g_F80r02X"
      },
      "execution_count": null,
      "outputs": []
    },
    {
      "cell_type": "code",
      "source": [
        "from deep_translator import GoogleTranslator\n",
        "\n",
        "def translate_english_to_marathi(input_file, output_file):\n",
        "    try:\n",
        "        # Open the input file (English content)\n",
        "        with open(input_file, 'r', encoding='latin-1') as file:\n",
        "            english_text = file.read()\n",
        "        print(len(english_text))\n",
        "        for i in range(0, len(english_text), 4500):\n",
        "            text_up_to_100 = english_text[i:i+4500]\n",
        "            try:\n",
        "              translation = GoogleTranslator(source='en', target='mr').translate(text_up_to_100)\n",
        "            except Exception as e:\n",
        "              print(\"Error in translation:\", str(e))\n",
        "            with open(output_file, 'a', encoding='utf-8') as file:\n",
        "                file.write(translation)\n",
        "\n",
        "        print(\"Translation complete. Marathi content saved to\", output_file)\n",
        "\n",
        "    except Exception as e:\n",
        "        print(\"Error:\", str(e))\n",
        "\n",
        "if __name__ == \"__main__\":\n",
        "\n",
        "   input_file = \"/content/sample_data/Soft.txt\"  # Replace with the path to your input file\n",
        "   output_file = \"/content/sample_data/Soft_1.txt\"  # Replace with the path where you want to save the Marathi translation\n",
        "   translate_english_to_marathi(input_file, output_file)"
      ],
      "metadata": {
        "colab": {
          "base_uri": "https://localhost:8080/"
        },
        "id": "QJhxILrDrzkw",
        "outputId": "dd7bcb8a-bcbc-4740-d5f5-211e1163b63c"
      },
      "execution_count": 6,
      "outputs": [
        {
          "output_type": "stream",
          "name": "stdout",
          "text": [
            "15350\n",
            "Translation complete. Marathi content saved to /content/sample_data/Soft_1.txt\n"
          ]
        }
      ]
    }
  ]
}