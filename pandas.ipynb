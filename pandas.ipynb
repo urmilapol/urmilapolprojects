{
  "cells": [
    {
      "cell_type": "markdown",
      "metadata": {
        "id": "view-in-github",
        "colab_type": "text"
      },
      "source": [
        "<a href=\"https://colab.research.google.com/github/urmilapol/urmilapolprojects/blob/master/pandas.ipynb\" target=\"_parent\"><img src=\"https://colab.research.google.com/assets/colab-badge.svg\" alt=\"Open In Colab\"/></a>"
      ]
    },
    {
      "cell_type": "code",
      "source": [
        "pip install pandas"
      ],
      "metadata": {
        "colab": {
          "base_uri": "https://localhost:8080/"
        },
        "id": "yPIrg-ntLB4Z",
        "outputId": "a15a4df0-a0bd-4ae8-cb26-75ceb45833d9"
      },
      "execution_count": 2,
      "outputs": [
        {
          "output_type": "stream",
          "name": "stdout",
          "text": [
            "Requirement already satisfied: pandas in /usr/local/lib/python3.10/dist-packages (1.5.3)\n",
            "Requirement already satisfied: python-dateutil>=2.8.1 in /usr/local/lib/python3.10/dist-packages (from pandas) (2.8.2)\n",
            "Requirement already satisfied: pytz>=2020.1 in /usr/local/lib/python3.10/dist-packages (from pandas) (2023.3.post1)\n",
            "Requirement already satisfied: numpy>=1.21.0 in /usr/local/lib/python3.10/dist-packages (from pandas) (1.23.5)\n",
            "Requirement already satisfied: six>=1.5 in /usr/local/lib/python3.10/dist-packages (from python-dateutil>=2.8.1->pandas) (1.16.0)\n"
          ]
        }
      ]
    },
    {
      "cell_type": "code",
      "source": [
        "import pandas as pd"
      ],
      "outputs": [],
      "execution_count": 3,
      "metadata": {
        "id": "xkckZRxoKtwS"
      }
    },
    {
      "cell_type": "markdown",
      "source": [],
      "metadata": {
        "id": "e8jxRHODLKX0"
      }
    },
    {
      "cell_type": "markdown",
      "source": [
        "**2. Core Data Structures:**\n",
        "\n",
        "- **Series:** One-dimensional labeled array capable of holding any data type."
      ],
      "metadata": {
        "id": "Yh69RsACKtwX"
      }
    },
    {
      "cell_type": "code",
      "source": [
        "data = pd.Series([1, 2, 3, 4])\n",
        "print(data)"
      ],
      "outputs": [
        {
          "output_type": "stream",
          "name": "stdout",
          "text": [
            "0    1\n",
            "1    2\n",
            "2    3\n",
            "3    4\n",
            "dtype: int64\n"
          ]
        }
      ],
      "execution_count": 5,
      "metadata": {
        "colab": {
          "base_uri": "https://localhost:8080/"
        },
        "id": "j8Kzojf9KtwY",
        "outputId": "25fafdad-5070-4c1b-ac01-d1ded49d1270"
      }
    },
    {
      "cell_type": "code",
      "source": [
        "data = {'Name': ['Alice', 'Bob', 'Charlie'], 'Age': [25, 30, 35]}\n",
        "df = pd.DataFrame(data)\n",
        "print(df)"
      ],
      "outputs": [
        {
          "output_type": "stream",
          "name": "stdout",
          "text": [
            "      Name  Age\n",
            "0    Alice   25\n",
            "1      Bob   30\n",
            "2  Charlie   35\n"
          ]
        }
      ],
      "execution_count": 7,
      "metadata": {
        "colab": {
          "base_uri": "https://localhost:8080/"
        },
        "id": "Uc71nPi7Ktwb",
        "outputId": "ec575700-dfc9-46c2-c62a-696b51b23007"
      }
    },
    {
      "cell_type": "markdown",
      "source": [
        "Output:\n",
        "   ```\n",
        "      Name  Age\n",
        "   0  Alice   25\n",
        "   1    Bob   30\n",
        "   2  Charlie   35\n",
        "   ```\n",
        "\n",
        "**3. Reading Data:**\n",
        "\n",
        "- **CSV files:**"
      ],
      "metadata": {
        "id": "ECL4yw3hKtwc"
      }
    },
    {
      "cell_type": "code",
      "source": [
        "df = pd.read_csv('/content/sample_data/Iris.csv')"
      ],
      "outputs": [],
      "execution_count": 9,
      "metadata": {
        "id": "Xc0gwLtkKtwd"
      }
    },
    {
      "cell_type": "markdown",
      "source": [
        "- **Excel files:**"
      ],
      "metadata": {
        "id": "47eUhq9XKtwf"
      }
    },
    {
      "cell_type": "code",
      "source": [
        "df = pd.read_excel('data.xlsx')"
      ],
      "outputs": [],
      "execution_count": null,
      "metadata": {
        "id": "b-Tfs3qyKtwf"
      }
    },
    {
      "cell_type": "markdown",
      "source": [
        "- **Other formats:** JSON, SQL databases, etc.\n",
        "\n",
        "**4. Viewing Data:**\n",
        "\n",
        "- **Head and tail:**"
      ],
      "metadata": {
        "id": "fmbe8s2HKtwg"
      }
    },
    {
      "cell_type": "code",
      "source": [
        "print(df.head())  # First 5 rows\n",
        "print(df.tail())  # Last 5 rows"
      ],
      "outputs": [
        {
          "output_type": "stream",
          "name": "stdout",
          "text": [
            "   Id  SepalLengthCm  SepalWidthCm  PetalLengthCm  PetalWidthCm      Species\n",
            "0   1            5.1           3.5            1.4           0.2  Iris-setosa\n",
            "1   2            4.9           3.0            1.4           0.2  Iris-setosa\n",
            "2   3            4.7           3.2            1.3           0.2  Iris-setosa\n",
            "3   4            4.6           3.1            1.5           0.2  Iris-setosa\n",
            "4   5            5.0           3.6            1.4           0.2  Iris-setosa\n",
            "      Id  SepalLengthCm  SepalWidthCm  PetalLengthCm  PetalWidthCm  \\\n",
            "145  146            6.7           3.0            5.2           2.3   \n",
            "146  147            6.3           2.5            5.0           1.9   \n",
            "147  148            6.5           3.0            5.2           2.0   \n",
            "148  149            6.2           3.4            5.4           2.3   \n",
            "149  150            5.9           3.0            5.1           1.8   \n",
            "\n",
            "            Species  \n",
            "145  Iris-virginica  \n",
            "146  Iris-virginica  \n",
            "147  Iris-virginica  \n",
            "148  Iris-virginica  \n",
            "149  Iris-virginica  \n"
          ]
        }
      ],
      "execution_count": 11,
      "metadata": {
        "colab": {
          "base_uri": "https://localhost:8080/"
        },
        "id": "tKnAD_d2Ktwh",
        "outputId": "d1521b4b-b482-4f70-99cc-a99e28a1f6f7"
      }
    },
    {
      "cell_type": "markdown",
      "source": [
        "- **Info:**"
      ],
      "metadata": {
        "id": "aWPBdR8uKtwh"
      }
    },
    {
      "cell_type": "code",
      "source": [
        "print(df.info())  # Data types and non-null values"
      ],
      "outputs": [
        {
          "output_type": "stream",
          "name": "stdout",
          "text": [
            "<class 'pandas.core.frame.DataFrame'>\n",
            "RangeIndex: 150 entries, 0 to 149\n",
            "Data columns (total 6 columns):\n",
            " #   Column         Non-Null Count  Dtype  \n",
            "---  ------         --------------  -----  \n",
            " 0   Id             150 non-null    int64  \n",
            " 1   SepalLengthCm  150 non-null    float64\n",
            " 2   SepalWidthCm   150 non-null    float64\n",
            " 3   PetalLengthCm  150 non-null    float64\n",
            " 4   PetalWidthCm   150 non-null    float64\n",
            " 5   Species        150 non-null    object \n",
            "dtypes: float64(4), int64(1), object(1)\n",
            "memory usage: 7.2+ KB\n",
            "None\n"
          ]
        }
      ],
      "execution_count": 12,
      "metadata": {
        "colab": {
          "base_uri": "https://localhost:8080/"
        },
        "id": "tCi74QBbKtwi",
        "outputId": "c8f63956-9030-4d48-e26b-9b0eaed0b471"
      }
    },
    {
      "cell_type": "markdown",
      "source": [
        "- **Describe:**"
      ],
      "metadata": {
        "id": "p_GJEkbKKtwi"
      }
    },
    {
      "cell_type": "markdown",
      "source": [
        "https://realpython.com/python-statistics/"
      ],
      "metadata": {
        "id": "mCYxf69xUIpW"
      }
    },
    {
      "cell_type": "code",
      "source": [
        "print(df.describe())  # Summary statistics"
      ],
      "outputs": [
        {
          "output_type": "stream",
          "name": "stdout",
          "text": [
            "               Id  SepalLengthCm  SepalWidthCm  PetalLengthCm  PetalWidthCm\n",
            "count  150.000000     150.000000    150.000000     150.000000    150.000000\n",
            "mean    75.500000       5.843333      3.054000       3.758667      1.198667\n",
            "std     43.445368       0.828066      0.433594       1.764420      0.763161\n",
            "min      1.000000       4.300000      2.000000       1.000000      0.100000\n",
            "25%     38.250000       5.100000      2.800000       1.600000      0.300000\n",
            "50%     75.500000       5.800000      3.000000       4.350000      1.300000\n",
            "75%    112.750000       6.400000      3.300000       5.100000      1.800000\n",
            "max    150.000000       7.900000      4.400000       6.900000      2.500000\n"
          ]
        }
      ],
      "execution_count": 13,
      "metadata": {
        "colab": {
          "base_uri": "https://localhost:8080/"
        },
        "id": "by3vX6POKtwj",
        "outputId": "96c61fec-1808-4b3f-e3c0-7f4e67a6ab2c"
      }
    },
    {
      "cell_type": "markdown",
      "source": [
        "**5. Selecting and Filtering:**\n",
        "\n",
        "- **Selecting columns:**"
      ],
      "metadata": {
        "id": "rSDXohO4Ktwj"
      }
    },
    {
      "cell_type": "code",
      "source": [
        "print(df.columns)"
      ],
      "metadata": {
        "colab": {
          "base_uri": "https://localhost:8080/"
        },
        "id": "RkJoO61hXoGE",
        "outputId": "9c96feb5-2c3d-402b-83d9-31dd7c71a803"
      },
      "execution_count": 16,
      "outputs": [
        {
          "output_type": "stream",
          "name": "stdout",
          "text": [
            "Index(['Id', 'SepalLengthCm', 'SepalWidthCm', 'PetalLengthCm', 'PetalWidthCm',\n",
            "       'Species'],\n",
            "      dtype='object')\n"
          ]
        }
      ]
    },
    {
      "cell_type": "code",
      "source": [
        "print(df['PetalLengthCm'])"
      ],
      "outputs": [
        {
          "output_type": "stream",
          "name": "stdout",
          "text": [
            "0      1.4\n",
            "1      1.4\n",
            "2      1.3\n",
            "3      1.5\n",
            "4      1.4\n",
            "      ... \n",
            "145    5.2\n",
            "146    5.0\n",
            "147    5.2\n",
            "148    5.4\n",
            "149    5.1\n",
            "Name: PetalLengthCm, Length: 150, dtype: float64\n"
          ]
        }
      ],
      "execution_count": 17,
      "metadata": {
        "colab": {
          "base_uri": "https://localhost:8080/"
        },
        "id": "2iyDp3EyKtwj",
        "outputId": "985af442-58e4-4333-a587-8224e322d733"
      }
    },
    {
      "cell_type": "markdown",
      "source": [
        "- **Selecting rows:**"
      ],
      "metadata": {
        "id": "KNyrf1_DKtwk"
      }
    },
    {
      "cell_type": "code",
      "source": [
        "print(df.iloc[1])  # Second row\n",
        "print(df.loc[df['PetalLengthCm'] > 5])  # Rows where Age > 30"
      ],
      "outputs": [
        {
          "output_type": "stream",
          "name": "stdout",
          "text": [
            "Id                         2\n",
            "SepalLengthCm            4.9\n",
            "SepalWidthCm             3.0\n",
            "PetalLengthCm            1.4\n",
            "PetalWidthCm             0.2\n",
            "Species          Iris-setosa\n",
            "Name: 1, dtype: object\n",
            "      Id  SepalLengthCm  SepalWidthCm  PetalLengthCm  PetalWidthCm  \\\n",
            "83    84            6.0           2.7            5.1           1.6   \n",
            "100  101            6.3           3.3            6.0           2.5   \n",
            "101  102            5.8           2.7            5.1           1.9   \n",
            "102  103            7.1           3.0            5.9           2.1   \n",
            "103  104            6.3           2.9            5.6           1.8   \n",
            "104  105            6.5           3.0            5.8           2.2   \n",
            "105  106            7.6           3.0            6.6           2.1   \n",
            "107  108            7.3           2.9            6.3           1.8   \n",
            "108  109            6.7           2.5            5.8           1.8   \n",
            "109  110            7.2           3.6            6.1           2.5   \n",
            "110  111            6.5           3.2            5.1           2.0   \n",
            "111  112            6.4           2.7            5.3           1.9   \n",
            "112  113            6.8           3.0            5.5           2.1   \n",
            "114  115            5.8           2.8            5.1           2.4   \n",
            "115  116            6.4           3.2            5.3           2.3   \n",
            "116  117            6.5           3.0            5.5           1.8   \n",
            "117  118            7.7           3.8            6.7           2.2   \n",
            "118  119            7.7           2.6            6.9           2.3   \n",
            "120  121            6.9           3.2            5.7           2.3   \n",
            "122  123            7.7           2.8            6.7           2.0   \n",
            "124  125            6.7           3.3            5.7           2.1   \n",
            "125  126            7.2           3.2            6.0           1.8   \n",
            "128  129            6.4           2.8            5.6           2.1   \n",
            "129  130            7.2           3.0            5.8           1.6   \n",
            "130  131            7.4           2.8            6.1           1.9   \n",
            "131  132            7.9           3.8            6.4           2.0   \n",
            "132  133            6.4           2.8            5.6           2.2   \n",
            "133  134            6.3           2.8            5.1           1.5   \n",
            "134  135            6.1           2.6            5.6           1.4   \n",
            "135  136            7.7           3.0            6.1           2.3   \n",
            "136  137            6.3           3.4            5.6           2.4   \n",
            "137  138            6.4           3.1            5.5           1.8   \n",
            "139  140            6.9           3.1            5.4           2.1   \n",
            "140  141            6.7           3.1            5.6           2.4   \n",
            "141  142            6.9           3.1            5.1           2.3   \n",
            "142  143            5.8           2.7            5.1           1.9   \n",
            "143  144            6.8           3.2            5.9           2.3   \n",
            "144  145            6.7           3.3            5.7           2.5   \n",
            "145  146            6.7           3.0            5.2           2.3   \n",
            "147  148            6.5           3.0            5.2           2.0   \n",
            "148  149            6.2           3.4            5.4           2.3   \n",
            "149  150            5.9           3.0            5.1           1.8   \n",
            "\n",
            "             Species  \n",
            "83   Iris-versicolor  \n",
            "100   Iris-virginica  \n",
            "101   Iris-virginica  \n",
            "102   Iris-virginica  \n",
            "103   Iris-virginica  \n",
            "104   Iris-virginica  \n",
            "105   Iris-virginica  \n",
            "107   Iris-virginica  \n",
            "108   Iris-virginica  \n",
            "109   Iris-virginica  \n",
            "110   Iris-virginica  \n",
            "111   Iris-virginica  \n",
            "112   Iris-virginica  \n",
            "114   Iris-virginica  \n",
            "115   Iris-virginica  \n",
            "116   Iris-virginica  \n",
            "117   Iris-virginica  \n",
            "118   Iris-virginica  \n",
            "120   Iris-virginica  \n",
            "122   Iris-virginica  \n",
            "124   Iris-virginica  \n",
            "125   Iris-virginica  \n",
            "128   Iris-virginica  \n",
            "129   Iris-virginica  \n",
            "130   Iris-virginica  \n",
            "131   Iris-virginica  \n",
            "132   Iris-virginica  \n",
            "133   Iris-virginica  \n",
            "134   Iris-virginica  \n",
            "135   Iris-virginica  \n",
            "136   Iris-virginica  \n",
            "137   Iris-virginica  \n",
            "139   Iris-virginica  \n",
            "140   Iris-virginica  \n",
            "141   Iris-virginica  \n",
            "142   Iris-virginica  \n",
            "143   Iris-virginica  \n",
            "144   Iris-virginica  \n",
            "145   Iris-virginica  \n",
            "147   Iris-virginica  \n",
            "148   Iris-virginica  \n",
            "149   Iris-virginica  \n"
          ]
        }
      ],
      "execution_count": 19,
      "metadata": {
        "colab": {
          "base_uri": "https://localhost:8080/"
        },
        "id": "MMALiTloKtwk",
        "outputId": "f10a5bbd-b8d3-476d-d914-7040adcea8ed"
      }
    },
    {
      "cell_type": "markdown",
      "source": [
        "**6. Handling Missing Values:**\n",
        "\n",
        "- **Checking for missing values:**"
      ],
      "metadata": {
        "id": "exawwNXoKtwl"
      }
    },
    {
      "cell_type": "code",
      "source": [
        "print(df.isnull().sum())"
      ],
      "outputs": [
        {
          "output_type": "stream",
          "name": "stdout",
          "text": [
            "Id               0\n",
            "SepalLengthCm    0\n",
            "SepalWidthCm     0\n",
            "PetalLengthCm    0\n",
            "PetalWidthCm     0\n",
            "Species          0\n",
            "dtype: int64\n"
          ]
        }
      ],
      "execution_count": 20,
      "metadata": {
        "colab": {
          "base_uri": "https://localhost:8080/"
        },
        "id": "kPvzkvE9Ktwl",
        "outputId": "5e826331-c0be-44f1-c01c-6ec99675d90d"
      }
    },
    {
      "cell_type": "markdown",
      "source": [
        "- **Removing missing values:**"
      ],
      "metadata": {
        "id": "ClaaUfUxKtwl"
      }
    },
    {
      "cell_type": "code",
      "source": [
        "print(df.dropna())"
      ],
      "outputs": [
        {
          "output_type": "stream",
          "name": "stdout",
          "text": [
            "      Id  SepalLengthCm  SepalWidthCm  PetalLengthCm  PetalWidthCm  \\\n",
            "0      1            5.1           3.5            1.4           0.2   \n",
            "1      2            4.9           3.0            1.4           0.2   \n",
            "2      3            4.7           3.2            1.3           0.2   \n",
            "3      4            4.6           3.1            1.5           0.2   \n",
            "4      5            5.0           3.6            1.4           0.2   \n",
            "..   ...            ...           ...            ...           ...   \n",
            "145  146            6.7           3.0            5.2           2.3   \n",
            "146  147            6.3           2.5            5.0           1.9   \n",
            "147  148            6.5           3.0            5.2           2.0   \n",
            "148  149            6.2           3.4            5.4           2.3   \n",
            "149  150            5.9           3.0            5.1           1.8   \n",
            "\n",
            "            Species  \n",
            "0       Iris-setosa  \n",
            "1       Iris-setosa  \n",
            "2       Iris-setosa  \n",
            "3       Iris-setosa  \n",
            "4       Iris-setosa  \n",
            "..              ...  \n",
            "145  Iris-virginica  \n",
            "146  Iris-virginica  \n",
            "147  Iris-virginica  \n",
            "148  Iris-virginica  \n",
            "149  Iris-virginica  \n",
            "\n",
            "[150 rows x 6 columns]\n"
          ]
        }
      ],
      "execution_count": 21,
      "metadata": {
        "colab": {
          "base_uri": "https://localhost:8080/"
        },
        "id": "kLlVpwoUKtwm",
        "outputId": "82dae10f-5f21-4d95-8d6b-e1d1c4cf7c27"
      }
    },
    {
      "cell_type": "markdown",
      "source": [
        "- **Filling missing values:**"
      ],
      "metadata": {
        "id": "aAHuZULXKtwm"
      }
    },
    {
      "cell_type": "code",
      "source": [
        "print(df.fillna(value=0))"
      ],
      "outputs": [
        {
          "output_type": "stream",
          "name": "stdout",
          "text": [
            "      Id  SepalLengthCm  SepalWidthCm  PetalLengthCm  PetalWidthCm  \\\n",
            "0      1            5.1           3.5            1.4           0.2   \n",
            "1      2            4.9           3.0            1.4           0.2   \n",
            "2      3            4.7           3.2            1.3           0.2   \n",
            "3      4            4.6           3.1            1.5           0.2   \n",
            "4      5            5.0           3.6            1.4           0.2   \n",
            "..   ...            ...           ...            ...           ...   \n",
            "145  146            6.7           3.0            5.2           2.3   \n",
            "146  147            6.3           2.5            5.0           1.9   \n",
            "147  148            6.5           3.0            5.2           2.0   \n",
            "148  149            6.2           3.4            5.4           2.3   \n",
            "149  150            5.9           3.0            5.1           1.8   \n",
            "\n",
            "            Species  \n",
            "0       Iris-setosa  \n",
            "1       Iris-setosa  \n",
            "2       Iris-setosa  \n",
            "3       Iris-setosa  \n",
            "4       Iris-setosa  \n",
            "..              ...  \n",
            "145  Iris-virginica  \n",
            "146  Iris-virginica  \n",
            "147  Iris-virginica  \n",
            "148  Iris-virginica  \n",
            "149  Iris-virginica  \n",
            "\n",
            "[150 rows x 6 columns]\n"
          ]
        }
      ],
      "execution_count": 22,
      "metadata": {
        "colab": {
          "base_uri": "https://localhost:8080/"
        },
        "id": "u9ml-3XeKtwm",
        "outputId": "f0dad552-501b-41e2-ac8d-6776c8699cef"
      }
    },
    {
      "cell_type": "markdown",
      "source": [
        "**7. Data Cleaning and Transformation:**\n",
        "\n",
        "- **Renaming columns:**"
      ],
      "metadata": {
        "id": "0y5ToS2pKtwn"
      }
    },
    {
      "cell_type": "code",
      "source": [
        "df = df.rename(columns={'Name': 'Full Name'})"
      ],
      "outputs": [],
      "execution_count": null,
      "metadata": {
        "id": "OHJoY2KOKtwn"
      }
    },
    {
      "cell_type": "markdown",
      "source": [
        "- **Dropping columns:**"
      ],
      "metadata": {
        "id": "Z6ACvZ0ZKtwn"
      }
    },
    {
      "cell_type": "code",
      "source": [
        "df = df.drop('Age', axis=1)"
      ],
      "outputs": [],
      "execution_count": null,
      "metadata": {
        "id": "pugzDgFrKtwn"
      }
    },
    {
      "cell_type": "markdown",
      "source": [
        "- **Creating new columns:**"
      ],
      "metadata": {
        "id": "UliLZG5dKtwo"
      }
    },
    {
      "cell_type": "code",
      "source": [
        "df['City'] = ['New York', 'London', 'Paris']"
      ],
      "outputs": [],
      "execution_count": null,
      "metadata": {
        "id": "prTiTmRCKtwo"
      }
    },
    {
      "cell_type": "markdown",
      "source": [
        "**8. Grouping and Aggregating:**\n",
        "\n",
        "- **Grouping by a column:**"
      ],
      "metadata": {
        "id": "-2bZW58NKtwo"
      }
    },
    {
      "cell_type": "code",
      "source": [
        "grouped = df.groupby('City')\n",
        "   print(grouped.mean())  # Mean of each group"
      ],
      "outputs": [],
      "execution_count": null,
      "metadata": {
        "id": "pdBpSFtiKtwo"
      }
    },
    {
      "cell_type": "markdown",
      "source": [
        "**9. Merging and Joining DataFrames:**\n",
        "\n",
        "- **Concatenating DataFrames:**"
      ],
      "metadata": {
        "id": "HjlObpU2Ktwp"
      }
    },
    {
      "cell_type": "code",
      "source": [
        "df_combined = pd.concat([df1, df2])"
      ],
      "outputs": [],
      "execution_count": null,
      "metadata": {
        "id": "atHHf5t8Ktwp"
      }
    },
    {
      "cell_type": "markdown",
      "source": [
        "- **Merging based on common columns:**"
      ],
      "metadata": {
        "id": "uKADBBgYKtwp"
      }
    },
    {
      "cell_type": "code",
      "source": [
        "df"
      ],
      "outputs": [],
      "execution_count": null,
      "metadata": {
        "id": "nCXj30TiKtwq"
      }
    }
  ],
  "metadata": {
    "colab": {
      "provenance": [],
      "include_colab_link": true
    },
    "kernelspec": {
      "display_name": "Python 3",
      "name": "python3"
    }
  },
  "nbformat": 4,
  "nbformat_minor": 0
}