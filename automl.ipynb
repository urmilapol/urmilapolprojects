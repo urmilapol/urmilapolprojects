{
  "nbformat": 4,
  "nbformat_minor": 0,
  "metadata": {
    "colab": {
      "name": "automl.ipynb",
      "provenance": [],
      "collapsed_sections": [],
      "authorship_tag": "ABX9TyPBN8UUfKDj7AK+EtTLdLC9",
      "include_colab_link": true
    },
    "kernelspec": {
      "name": "python3",
      "display_name": "Python 3"
    }
  },
  "cells": [
    {
      "cell_type": "markdown",
      "metadata": {
        "id": "view-in-github",
        "colab_type": "text"
      },
      "source": [
        "<a href=\"https://colab.research.google.com/github/urmilapol/urmilapolprojects/blob/master/automl.ipynb\" target=\"_parent\"><img src=\"https://colab.research.google.com/assets/colab-badge.svg\" alt=\"Open In Colab\"/></a>"
      ]
    },
    {
      "cell_type": "code",
      "metadata": {
        "colab": {
          "base_uri": "https://localhost:8080/"
        },
        "id": "mwSuHXA_Arkf",
        "outputId": "b7b66be1-e83c-4525-a9a8-10c249bad539"
      },
      "source": [
        "! apt-get install default-jre\r\n"
      ],
      "execution_count": 2,
      "outputs": [
        {
          "output_type": "stream",
          "text": [
            "Reading package lists... Done\n",
            "Building dependency tree       \n",
            "Reading state information... Done\n",
            "default-jre is already the newest version (2:1.11-68ubuntu1~18.04.1).\n",
            "default-jre set to manually installed.\n",
            "0 upgraded, 0 newly installed, 0 to remove and 15 not upgraded.\n"
          ],
          "name": "stdout"
        }
      ]
    },
    {
      "cell_type": "code",
      "metadata": {
        "colab": {
          "base_uri": "https://localhost:8080/"
        },
        "id": "pbz1M1rcA4Ux",
        "outputId": "fe4984aa-79f4-44a2-cd04-ab39cee87302"
      },
      "source": [
        "!java -version\r\n"
      ],
      "execution_count": 3,
      "outputs": [
        {
          "output_type": "stream",
          "text": [
            "openjdk version \"11.0.9.1\" 2020-11-04\n",
            "OpenJDK Runtime Environment (build 11.0.9.1+1-Ubuntu-0ubuntu1.18.04)\n",
            "OpenJDK 64-Bit Server VM (build 11.0.9.1+1-Ubuntu-0ubuntu1.18.04, mixed mode, sharing)\n"
          ],
          "name": "stdout"
        }
      ]
    },
    {
      "cell_type": "code",
      "metadata": {
        "colab": {
          "base_uri": "https://localhost:8080/"
        },
        "id": "-1nb8ER3BOLZ",
        "outputId": "fc5a020c-38a0-48e0-f99c-2591dd02c0ad"
      },
      "source": [
        "! pip install h2o\r\n"
      ],
      "execution_count": 4,
      "outputs": [
        {
          "output_type": "stream",
          "text": [
            "Collecting h2o\n",
            "\u001b[?25l  Downloading https://files.pythonhosted.org/packages/26/c5/d63a8bfdbeb4ebfb709c010af3e061d89a363204c437cb5527431f6de3d2/h2o-3.32.0.2.tar.gz (164.6MB)\n",
            "\u001b[K     |████████████████████████████████| 164.6MB 66kB/s \n",
            "\u001b[?25hRequirement already satisfied: requests in /usr/local/lib/python3.6/dist-packages (from h2o) (2.23.0)\n",
            "Requirement already satisfied: tabulate in /usr/local/lib/python3.6/dist-packages (from h2o) (0.8.7)\n",
            "Requirement already satisfied: future in /usr/local/lib/python3.6/dist-packages (from h2o) (0.16.0)\n",
            "Collecting colorama>=0.3.8\n",
            "  Downloading https://files.pythonhosted.org/packages/44/98/5b86278fbbf250d239ae0ecb724f8572af1c91f4a11edf4d36a206189440/colorama-0.4.4-py2.py3-none-any.whl\n",
            "Requirement already satisfied: idna<3,>=2.5 in /usr/local/lib/python3.6/dist-packages (from requests->h2o) (2.10)\n",
            "Requirement already satisfied: chardet<4,>=3.0.2 in /usr/local/lib/python3.6/dist-packages (from requests->h2o) (3.0.4)\n",
            "Requirement already satisfied: urllib3!=1.25.0,!=1.25.1,<1.26,>=1.21.1 in /usr/local/lib/python3.6/dist-packages (from requests->h2o) (1.24.3)\n",
            "Requirement already satisfied: certifi>=2017.4.17 in /usr/local/lib/python3.6/dist-packages (from requests->h2o) (2020.12.5)\n",
            "Building wheels for collected packages: h2o\n",
            "  Building wheel for h2o (setup.py) ... \u001b[?25l\u001b[?25hdone\n",
            "  Created wheel for h2o: filename=h2o-3.32.0.2-py2.py3-none-any.whl size=164620456 sha256=ae920a96f8b59815b93784bdca2dcf6c9bcdeddeb208e054f7dcc9dfaaac0dfc\n",
            "  Stored in directory: /root/.cache/pip/wheels/42/bd/ea/218fd15724eddf6fa7fc8fab802b6fa592e623d87199679721\n",
            "Successfully built h2o\n",
            "Installing collected packages: colorama, h2o\n",
            "Successfully installed colorama-0.4.4 h2o-3.32.0.2\n"
          ],
          "name": "stdout"
        }
      ]
    },
    {
      "cell_type": "code",
      "metadata": {
        "id": "ni5_l5r6BnVp"
      },
      "source": [
        "import h2o\r\n"
      ],
      "execution_count": 6,
      "outputs": []
    },
    {
      "cell_type": "code",
      "metadata": {
        "colab": {
          "base_uri": "https://localhost:8080/",
          "height": 508
        },
        "id": "hXbfeCOmC-90",
        "outputId": "6c3875ff-4955-4a0e-86f3-5aefecd563e2"
      },
      "source": [
        "import h2o\r\n",
        "from h2o.automl import H2OAutoML\r\n",
        "h2o.init()"
      ],
      "execution_count": 7,
      "outputs": [
        {
          "output_type": "stream",
          "text": [
            "Checking whether there is an H2O instance running at http://localhost:54321 ..... not found.\n",
            "Attempting to start a local H2O server...\n",
            "  Java Version: openjdk version \"11.0.9.1\" 2020-11-04; OpenJDK Runtime Environment (build 11.0.9.1+1-Ubuntu-0ubuntu1.18.04); OpenJDK 64-Bit Server VM (build 11.0.9.1+1-Ubuntu-0ubuntu1.18.04, mixed mode, sharing)\n",
            "  Starting server from /usr/local/lib/python3.6/dist-packages/h2o/backend/bin/h2o.jar\n",
            "  Ice root: /tmp/tmphk3km37p\n",
            "  JVM stdout: /tmp/tmphk3km37p/h2o_unknownUser_started_from_python.out\n",
            "  JVM stderr: /tmp/tmphk3km37p/h2o_unknownUser_started_from_python.err\n",
            "  Server is running at http://127.0.0.1:54321\n",
            "Connecting to H2O server at http://127.0.0.1:54321 ... successful.\n"
          ],
          "name": "stdout"
        },
        {
          "output_type": "display_data",
          "data": {
            "text/html": [
              "<div style=\"overflow:auto\"><table style=\"width:50%\"><tr><td>H2O_cluster_uptime:</td>\n",
              "<td>03 secs</td></tr>\n",
              "<tr><td>H2O_cluster_timezone:</td>\n",
              "<td>Etc/UTC</td></tr>\n",
              "<tr><td>H2O_data_parsing_timezone:</td>\n",
              "<td>UTC</td></tr>\n",
              "<tr><td>H2O_cluster_version:</td>\n",
              "<td>3.32.0.2</td></tr>\n",
              "<tr><td>H2O_cluster_version_age:</td>\n",
              "<td>1 month and 12 days </td></tr>\n",
              "<tr><td>H2O_cluster_name:</td>\n",
              "<td>H2O_from_python_unknownUser_n8yylp</td></tr>\n",
              "<tr><td>H2O_cluster_total_nodes:</td>\n",
              "<td>1</td></tr>\n",
              "<tr><td>H2O_cluster_free_memory:</td>\n",
              "<td>3.180 Gb</td></tr>\n",
              "<tr><td>H2O_cluster_total_cores:</td>\n",
              "<td>2</td></tr>\n",
              "<tr><td>H2O_cluster_allowed_cores:</td>\n",
              "<td>2</td></tr>\n",
              "<tr><td>H2O_cluster_status:</td>\n",
              "<td>accepting new members, healthy</td></tr>\n",
              "<tr><td>H2O_connection_url:</td>\n",
              "<td>http://127.0.0.1:54321</td></tr>\n",
              "<tr><td>H2O_connection_proxy:</td>\n",
              "<td>{\"http\": null, \"https\": null}</td></tr>\n",
              "<tr><td>H2O_internal_security:</td>\n",
              "<td>False</td></tr>\n",
              "<tr><td>H2O_API_Extensions:</td>\n",
              "<td>Amazon S3, XGBoost, Algos, AutoML, Core V3, TargetEncoder, Core V4</td></tr>\n",
              "<tr><td>Python_version:</td>\n",
              "<td>3.6.9 final</td></tr></table></div>"
            ],
            "text/plain": [
              "--------------------------  ------------------------------------------------------------------\n",
              "H2O_cluster_uptime:         03 secs\n",
              "H2O_cluster_timezone:       Etc/UTC\n",
              "H2O_data_parsing_timezone:  UTC\n",
              "H2O_cluster_version:        3.32.0.2\n",
              "H2O_cluster_version_age:    1 month and 12 days\n",
              "H2O_cluster_name:           H2O_from_python_unknownUser_n8yylp\n",
              "H2O_cluster_total_nodes:    1\n",
              "H2O_cluster_free_memory:    3.180 Gb\n",
              "H2O_cluster_total_cores:    2\n",
              "H2O_cluster_allowed_cores:  2\n",
              "H2O_cluster_status:         accepting new members, healthy\n",
              "H2O_connection_url:         http://127.0.0.1:54321\n",
              "H2O_connection_proxy:       {\"http\": null, \"https\": null}\n",
              "H2O_internal_security:      False\n",
              "H2O_API_Extensions:         Amazon S3, XGBoost, Algos, AutoML, Core V3, TargetEncoder, Core V4\n",
              "Python_version:             3.6.9 final\n",
              "--------------------------  ------------------------------------------------------------------"
            ]
          },
          "metadata": {
            "tags": []
          }
        }
      ]
    },
    {
      "cell_type": "code",
      "metadata": {
        "colab": {
          "base_uri": "https://localhost:8080/"
        },
        "id": "i9fnb7DvEku7",
        "outputId": "0601fdd5-70e2-4c5b-e8c0-2903d6f2ece4"
      },
      "source": [
        "import os\r\n",
        "docker_data_path = \"/home/h2o/data/automl/product_backorders.csv\"\r\n",
        "if os.path.isfile(docker_data_path):\r\n",
        "  data_path = docker_data_path\r\n",
        "else:\r\n",
        "  data_path = \"https://github.com/h2oai/h2o-tutorials/raw/master/h2o-world-2017/automl/data/product_backorders.csv\"\r\n",
        "\r\n",
        "\r\n",
        "# Load data into H2O\r\n",
        "df = h2o.import_file(data_path)"
      ],
      "execution_count": 8,
      "outputs": [
        {
          "output_type": "stream",
          "text": [
            "Parse progress: |█████████████████████████████████████████████████████████| 100%\n"
          ],
          "name": "stdout"
        }
      ]
    },
    {
      "cell_type": "code",
      "metadata": {
        "colab": {
          "base_uri": "https://localhost:8080/",
          "height": 485
        },
        "id": "evwvVjxPFeTT",
        "outputId": "a40369a6-8f80-4871-f226-b5cc17004d35"
      },
      "source": [
        "df.describe()"
      ],
      "execution_count": 9,
      "outputs": [
        {
          "output_type": "stream",
          "text": [
            "Rows:19053\n",
            "Cols:23\n",
            "\n",
            "\n"
          ],
          "name": "stdout"
        },
        {
          "output_type": "display_data",
          "data": {
            "text/html": [
              "<table>\n",
              "<thead>\n",
              "<tr><th>       </th><th>sku              </th><th>national_inv      </th><th>lead_time        </th><th>in_transit_qty    </th><th>forecast_3_month  </th><th>forecast_6_month  </th><th>forecast_9_month  </th><th>sales_1_month     </th><th>sales_3_month     </th><th>sales_6_month     </th><th>sales_9_month    </th><th>min_bank         </th><th>potential_issue  </th><th>pieces_past_due   </th><th>perf_6_month_avg  </th><th>perf_12_month_avg  </th><th>local_bo_qty      </th><th>deck_risk  </th><th>oe_constraint  </th><th>ppap_risk  </th><th>stop_auto_buy  </th><th>rev_stop  </th><th>went_on_backorder  </th></tr>\n",
              "</thead>\n",
              "<tbody>\n",
              "<tr><td>type   </td><td>int              </td><td>int               </td><td>int              </td><td>int               </td><td>int               </td><td>int               </td><td>int               </td><td>int               </td><td>int               </td><td>int               </td><td>int              </td><td>int              </td><td>enum             </td><td>int               </td><td>real              </td><td>real               </td><td>int               </td><td>enum       </td><td>enum           </td><td>enum       </td><td>enum           </td><td>enum      </td><td>enum               </td></tr>\n",
              "<tr><td>mins   </td><td>1111620.0        </td><td>-1440.0           </td><td>0.0              </td><td>0.0               </td><td>0.0               </td><td>0.0               </td><td>0.0               </td><td>0.0               </td><td>0.0               </td><td>0.0               </td><td>0.0              </td><td>0.0              </td><td>                 </td><td>0.0               </td><td>-99.0             </td><td>-99.0              </td><td>0.0               </td><td>           </td><td>               </td><td>           </td><td>               </td><td>          </td><td>                   </td></tr>\n",
              "<tr><td>mean   </td><td>2059552.76056264 </td><td>376.36702881436014</td><td>7.706036161335188</td><td>48.272345562378625</td><td>182.91082769117727</td><td>344.739830997743  </td><td>497.79242114102766</td><td>56.11887891670605 </td><td>168.53445651603428</td><td>333.53219965359773</td><td>504.2553928515193</td><td>48.84070750013117</td><td>                 </td><td>2.3114995013908572</td><td>-6.519833622001783</td><td>-6.05393533826694  </td><td>0.8917755734005144</td><td>           </td><td>               </td><td>           </td><td>               </td><td>          </td><td>                   </td></tr>\n",
              "<tr><td>maxs   </td><td>3284775.0        </td><td>730722.0          </td><td>52.0             </td><td>170920.0          </td><td>479808.0          </td><td>967776.0          </td><td>1418208.0         </td><td>186451.0          </td><td>550609.0          </td><td>1136154.0         </td><td>1759152.0        </td><td>85584.0          </td><td>                 </td><td>13824.0           </td><td>1.0               </td><td>1.0                </td><td>1440.0            </td><td>           </td><td>               </td><td>           </td><td>               </td><td>          </td><td>                   </td></tr>\n",
              "<tr><td>sigma  </td><td>663337.6456498688</td><td>7002.071628662688 </td><td>6.778665072124189</td><td>1465.9992102068293</td><td>4304.865591970626 </td><td>8406.062155159243 </td><td>12180.570042918358</td><td>1544.2177775482573</td><td>4581.340080221506 </td><td>9294.566153218986 </td><td>14184.14539565363</td><td>968.7738680675265</td><td>                 </td><td>110.24106014611986</td><td>25.975138766871876</td><td>25.184497150032527 </td><td>23.033345417338797</td><td>           </td><td>               </td><td>           </td><td>               </td><td>          </td><td>                   </td></tr>\n",
              "<tr><td>zeros  </td><td>0                </td><td>1858              </td><td>121              </td><td>15432             </td><td>12118             </td><td>11136             </td><td>10604             </td><td>10278             </td><td>8022              </td><td>6864              </td><td>6231             </td><td>9909             </td><td>                 </td><td>18601             </td><td>474               </td><td>401                </td><td>18585             </td><td>           </td><td>               </td><td>           </td><td>               </td><td>          </td><td>                   </td></tr>\n",
              "<tr><td>missing</td><td>0                </td><td>0                 </td><td>1078             </td><td>0                 </td><td>0                 </td><td>0                 </td><td>0                 </td><td>0                 </td><td>0                 </td><td>0                 </td><td>0                </td><td>0                </td><td>0                </td><td>0                 </td><td>0                 </td><td>0                  </td><td>0                 </td><td>0          </td><td>0              </td><td>0          </td><td>0              </td><td>0         </td><td>0                  </td></tr>\n",
              "<tr><td>0      </td><td>1113121.0        </td><td>0.0               </td><td>8.0              </td><td>1.0               </td><td>6.0               </td><td>6.0               </td><td>6.0               </td><td>0.0               </td><td>4.0               </td><td>9.0               </td><td>12.0             </td><td>0.0              </td><td>No               </td><td>1.0               </td><td>0.9               </td><td>0.89               </td><td>0.0               </td><td>No         </td><td>No             </td><td>No         </td><td>Yes            </td><td>No        </td><td>Yes                </td></tr>\n",
              "<tr><td>1      </td><td>1113268.0        </td><td>0.0               </td><td>8.0              </td><td>0.0               </td><td>2.0               </td><td>3.0               </td><td>4.0               </td><td>1.0               </td><td>2.0               </td><td>3.0               </td><td>3.0              </td><td>0.0              </td><td>No               </td><td>0.0               </td><td>0.96              </td><td>0.97               </td><td>0.0               </td><td>No         </td><td>No             </td><td>No         </td><td>Yes            </td><td>No        </td><td>Yes                </td></tr>\n",
              "<tr><td>2      </td><td>1113874.0        </td><td>20.0              </td><td>2.0              </td><td>0.0               </td><td>45.0              </td><td>99.0              </td><td>153.0             </td><td>16.0              </td><td>42.0              </td><td>80.0              </td><td>111.0            </td><td>10.0             </td><td>No               </td><td>0.0               </td><td>0.81              </td><td>0.88               </td><td>0.0               </td><td>No         </td><td>No             </td><td>No         </td><td>Yes            </td><td>No        </td><td>Yes                </td></tr>\n",
              "<tr><td>3      </td><td>1114222.0        </td><td>0.0               </td><td>8.0              </td><td>0.0               </td><td>9.0               </td><td>14.0              </td><td>21.0              </td><td>5.0               </td><td>17.0              </td><td>36.0              </td><td>43.0             </td><td>0.0              </td><td>No               </td><td>0.0               </td><td>0.96              </td><td>0.98               </td><td>0.0               </td><td>No         </td><td>No             </td><td>No         </td><td>Yes            </td><td>No        </td><td>Yes                </td></tr>\n",
              "<tr><td>4      </td><td>1114823.0        </td><td>0.0               </td><td>12.0             </td><td>0.0               </td><td>31.0              </td><td>31.0              </td><td>31.0              </td><td>7.0               </td><td>15.0              </td><td>33.0              </td><td>47.0             </td><td>2.0              </td><td>No               </td><td>3.0               </td><td>0.98              </td><td>0.98               </td><td>0.0               </td><td>No         </td><td>No             </td><td>No         </td><td>Yes            </td><td>No        </td><td>Yes                </td></tr>\n",
              "<tr><td>5      </td><td>1115453.0        </td><td>55.0              </td><td>8.0              </td><td>0.0               </td><td>216.0             </td><td>360.0             </td><td>492.0             </td><td>30.0              </td><td>108.0             </td><td>275.0             </td><td>340.0            </td><td>51.0             </td><td>No               </td><td>0.0               </td><td>0.0               </td><td>0.0                </td><td>0.0               </td><td>No         </td><td>No             </td><td>Yes        </td><td>Yes            </td><td>No        </td><td>Yes                </td></tr>\n",
              "<tr><td>6      </td><td>1115620.0        </td><td>-34.0             </td><td>8.0              </td><td>0.0               </td><td>120.0             </td><td>240.0             </td><td>240.0             </td><td>83.0              </td><td>122.0             </td><td>144.0             </td><td>165.0            </td><td>33.0             </td><td>No               </td><td>0.0               </td><td>1.0               </td><td>0.97               </td><td>34.0              </td><td>No         </td><td>No             </td><td>No         </td><td>Yes            </td><td>No        </td><td>Yes                </td></tr>\n",
              "<tr><td>7      </td><td>1116446.0        </td><td>4.0               </td><td>9.0              </td><td>0.0               </td><td>43.0              </td><td>67.0              </td><td>115.0             </td><td>5.0               </td><td>22.0              </td><td>40.0              </td><td>58.0             </td><td>4.0              </td><td>No               </td><td>0.0               </td><td>0.69              </td><td>0.68               </td><td>0.0               </td><td>No         </td><td>No             </td><td>No         </td><td>Yes            </td><td>No        </td><td>Yes                </td></tr>\n",
              "<tr><td>8      </td><td>1116834.0        </td><td>2.0               </td><td>8.0              </td><td>0.0               </td><td>4.0               </td><td>6.0               </td><td>9.0               </td><td>1.0               </td><td>5.0               </td><td>6.0               </td><td>9.0              </td><td>2.0              </td><td>No               </td><td>0.0               </td><td>1.0               </td><td>0.95               </td><td>0.0               </td><td>No         </td><td>No             </td><td>No         </td><td>Yes            </td><td>No        </td><td>Yes                </td></tr>\n",
              "<tr><td>9      </td><td>1116868.0        </td><td>-7.0              </td><td>8.0              </td><td>0.0               </td><td>56.0              </td><td>96.0              </td><td>112.0             </td><td>13.0              </td><td>30.0              </td><td>56.0              </td><td>76.0             </td><td>0.0              </td><td>No               </td><td>0.0               </td><td>0.97              </td><td>0.92               </td><td>7.0               </td><td>No         </td><td>No             </td><td>No         </td><td>Yes            </td><td>No        </td><td>Yes                </td></tr>\n",
              "</tbody>\n",
              "</table>"
            ]
          },
          "metadata": {
            "tags": []
          }
        }
      ]
    },
    {
      "cell_type": "code",
      "metadata": {
        "id": "FxladBBjGNuy"
      },
      "source": [
        "y = \"went_on_backorder\"\r\n",
        "x = df.columns\r\n",
        "x.remove(y)\r\n",
        "x.remove(\"sku\")"
      ],
      "execution_count": 10,
      "outputs": []
    },
    {
      "cell_type": "code",
      "metadata": {
        "id": "CNxRYOuuGb-l",
        "colab": {
          "base_uri": "https://localhost:8080/"
        },
        "outputId": "af85a61e-c71d-4abc-cca3-77285af3579c"
      },
      "source": [
        "aml = H2OAutoML(max_models = 10, seed = 1)\r\n",
        "aml.train(x = x, y = y, training_frame = df)"
      ],
      "execution_count": 11,
      "outputs": [
        {
          "output_type": "stream",
          "text": [
            "AutoML progress: |████████████████████████████████████████████████████████| 100%\n"
          ],
          "name": "stdout"
        }
      ]
    },
    {
      "cell_type": "code",
      "metadata": {
        "id": "0v1JR_T5Gjgz"
      },
      "source": [
        "lb = aml.leaderboard"
      ],
      "execution_count": 12,
      "outputs": []
    },
    {
      "cell_type": "code",
      "metadata": {
        "colab": {
          "base_uri": "https://localhost:8080/",
          "height": 250
        },
        "id": "_ha9MDpeUOT0",
        "outputId": "5d20ec63-941e-4427-88f8-0f4979d7517b"
      },
      "source": [
        "lb.head()"
      ],
      "execution_count": 13,
      "outputs": [
        {
          "output_type": "display_data",
          "data": {
            "text/html": [
              "<table>\n",
              "<thead>\n",
              "<tr><th>model_id                                           </th><th style=\"text-align: right;\">     auc</th><th style=\"text-align: right;\">  logloss</th><th style=\"text-align: right;\">   aucpr</th><th style=\"text-align: right;\">  mean_per_class_error</th><th style=\"text-align: right;\">    rmse</th><th style=\"text-align: right;\">      mse</th></tr>\n",
              "</thead>\n",
              "<tbody>\n",
              "<tr><td>StackedEnsemble_AllModels_AutoML_20201230_105519   </td><td style=\"text-align: right;\">0.950709</td><td style=\"text-align: right;\"> 0.182408</td><td style=\"text-align: right;\">0.748213</td><td style=\"text-align: right;\">              0.160267</td><td style=\"text-align: right;\">0.227918</td><td style=\"text-align: right;\">0.0519465</td></tr>\n",
              "<tr><td>StackedEnsemble_BestOfFamily_AutoML_20201230_105519</td><td style=\"text-align: right;\">0.949605</td><td style=\"text-align: right;\"> 0.183149</td><td style=\"text-align: right;\">0.746124</td><td style=\"text-align: right;\">              0.150376</td><td style=\"text-align: right;\">0.228201</td><td style=\"text-align: right;\">0.0520756</td></tr>\n",
              "<tr><td>GBM_4_AutoML_20201230_105519                       </td><td style=\"text-align: right;\">0.948839</td><td style=\"text-align: right;\"> 0.173579</td><td style=\"text-align: right;\">0.73916 </td><td style=\"text-align: right;\">              0.157246</td><td style=\"text-align: right;\">0.22659 </td><td style=\"text-align: right;\">0.051343 </td></tr>\n",
              "<tr><td>GBM_3_AutoML_20201230_105519                       </td><td style=\"text-align: right;\">0.94683 </td><td style=\"text-align: right;\"> 0.177091</td><td style=\"text-align: right;\">0.7331  </td><td style=\"text-align: right;\">              0.147716</td><td style=\"text-align: right;\">0.22862 </td><td style=\"text-align: right;\">0.0522671</td></tr>\n",
              "<tr><td>XGBoost_3_AutoML_20201230_105519                   </td><td style=\"text-align: right;\">0.946333</td><td style=\"text-align: right;\"> 0.176598</td><td style=\"text-align: right;\">0.73639 </td><td style=\"text-align: right;\">              0.16849 </td><td style=\"text-align: right;\">0.228311</td><td style=\"text-align: right;\">0.0521257</td></tr>\n",
              "<tr><td>GBM_2_AutoML_20201230_105519                       </td><td style=\"text-align: right;\">0.945111</td><td style=\"text-align: right;\"> 0.179764</td><td style=\"text-align: right;\">0.727168</td><td style=\"text-align: right;\">              0.166382</td><td style=\"text-align: right;\">0.230232</td><td style=\"text-align: right;\">0.0530067</td></tr>\n",
              "<tr><td>GBM_5_AutoML_20201230_105519                       </td><td style=\"text-align: right;\">0.944997</td><td style=\"text-align: right;\"> 0.17789 </td><td style=\"text-align: right;\">0.731015</td><td style=\"text-align: right;\">              0.14231 </td><td style=\"text-align: right;\">0.229819</td><td style=\"text-align: right;\">0.0528166</td></tr>\n",
              "<tr><td>XGBoost_1_AutoML_20201230_105519                   </td><td style=\"text-align: right;\">0.944028</td><td style=\"text-align: right;\"> 0.182515</td><td style=\"text-align: right;\">0.719674</td><td style=\"text-align: right;\">              0.163806</td><td style=\"text-align: right;\">0.230583</td><td style=\"text-align: right;\">0.0531683</td></tr>\n",
              "<tr><td>XGBoost_2_AutoML_20201230_105519                   </td><td style=\"text-align: right;\">0.94362 </td><td style=\"text-align: right;\"> 0.181616</td><td style=\"text-align: right;\">0.717646</td><td style=\"text-align: right;\">              0.172693</td><td style=\"text-align: right;\">0.231041</td><td style=\"text-align: right;\">0.0533801</td></tr>\n",
              "<tr><td>GBM_1_AutoML_20201230_105519                       </td><td style=\"text-align: right;\">0.942459</td><td style=\"text-align: right;\"> 0.183815</td><td style=\"text-align: right;\">0.720288</td><td style=\"text-align: right;\">              0.15893 </td><td style=\"text-align: right;\">0.232004</td><td style=\"text-align: right;\">0.0538257</td></tr>\n",
              "</tbody>\n",
              "</table>"
            ]
          },
          "metadata": {
            "tags": []
          }
        },
        {
          "output_type": "execute_result",
          "data": {
            "text/plain": [
              ""
            ]
          },
          "metadata": {
            "tags": []
          },
          "execution_count": 13
        }
      ]
    },
    {
      "cell_type": "code",
      "metadata": {
        "colab": {
          "base_uri": "https://localhost:8080/",
          "height": 292
        },
        "id": "c8W4Ab8PZbbI",
        "outputId": "117309d0-3654-4c26-b3e7-6d1ab38f5b1d"
      },
      "source": [
        "lb.head(rows=lb.nrows)"
      ],
      "execution_count": 14,
      "outputs": [
        {
          "output_type": "display_data",
          "data": {
            "text/html": [
              "<table>\n",
              "<thead>\n",
              "<tr><th>model_id                                           </th><th style=\"text-align: right;\">     auc</th><th style=\"text-align: right;\">  logloss</th><th style=\"text-align: right;\">   aucpr</th><th style=\"text-align: right;\">  mean_per_class_error</th><th style=\"text-align: right;\">    rmse</th><th style=\"text-align: right;\">      mse</th></tr>\n",
              "</thead>\n",
              "<tbody>\n",
              "<tr><td>StackedEnsemble_AllModels_AutoML_20201230_105519   </td><td style=\"text-align: right;\">0.950709</td><td style=\"text-align: right;\"> 0.182408</td><td style=\"text-align: right;\">0.748213</td><td style=\"text-align: right;\">              0.160267</td><td style=\"text-align: right;\">0.227918</td><td style=\"text-align: right;\">0.0519465</td></tr>\n",
              "<tr><td>StackedEnsemble_BestOfFamily_AutoML_20201230_105519</td><td style=\"text-align: right;\">0.949605</td><td style=\"text-align: right;\"> 0.183149</td><td style=\"text-align: right;\">0.746124</td><td style=\"text-align: right;\">              0.150376</td><td style=\"text-align: right;\">0.228201</td><td style=\"text-align: right;\">0.0520756</td></tr>\n",
              "<tr><td>GBM_4_AutoML_20201230_105519                       </td><td style=\"text-align: right;\">0.948839</td><td style=\"text-align: right;\"> 0.173579</td><td style=\"text-align: right;\">0.73916 </td><td style=\"text-align: right;\">              0.157246</td><td style=\"text-align: right;\">0.22659 </td><td style=\"text-align: right;\">0.051343 </td></tr>\n",
              "<tr><td>GBM_3_AutoML_20201230_105519                       </td><td style=\"text-align: right;\">0.94683 </td><td style=\"text-align: right;\"> 0.177091</td><td style=\"text-align: right;\">0.7331  </td><td style=\"text-align: right;\">              0.147716</td><td style=\"text-align: right;\">0.22862 </td><td style=\"text-align: right;\">0.0522671</td></tr>\n",
              "<tr><td>XGBoost_3_AutoML_20201230_105519                   </td><td style=\"text-align: right;\">0.946333</td><td style=\"text-align: right;\"> 0.176598</td><td style=\"text-align: right;\">0.73639 </td><td style=\"text-align: right;\">              0.16849 </td><td style=\"text-align: right;\">0.228311</td><td style=\"text-align: right;\">0.0521257</td></tr>\n",
              "<tr><td>GBM_2_AutoML_20201230_105519                       </td><td style=\"text-align: right;\">0.945111</td><td style=\"text-align: right;\"> 0.179764</td><td style=\"text-align: right;\">0.727168</td><td style=\"text-align: right;\">              0.166382</td><td style=\"text-align: right;\">0.230232</td><td style=\"text-align: right;\">0.0530067</td></tr>\n",
              "<tr><td>GBM_5_AutoML_20201230_105519                       </td><td style=\"text-align: right;\">0.944997</td><td style=\"text-align: right;\"> 0.17789 </td><td style=\"text-align: right;\">0.731015</td><td style=\"text-align: right;\">              0.14231 </td><td style=\"text-align: right;\">0.229819</td><td style=\"text-align: right;\">0.0528166</td></tr>\n",
              "<tr><td>XGBoost_1_AutoML_20201230_105519                   </td><td style=\"text-align: right;\">0.944028</td><td style=\"text-align: right;\"> 0.182515</td><td style=\"text-align: right;\">0.719674</td><td style=\"text-align: right;\">              0.163806</td><td style=\"text-align: right;\">0.230583</td><td style=\"text-align: right;\">0.0531683</td></tr>\n",
              "<tr><td>XGBoost_2_AutoML_20201230_105519                   </td><td style=\"text-align: right;\">0.94362 </td><td style=\"text-align: right;\"> 0.181616</td><td style=\"text-align: right;\">0.717646</td><td style=\"text-align: right;\">              0.172693</td><td style=\"text-align: right;\">0.231041</td><td style=\"text-align: right;\">0.0533801</td></tr>\n",
              "<tr><td>GBM_1_AutoML_20201230_105519                       </td><td style=\"text-align: right;\">0.942459</td><td style=\"text-align: right;\"> 0.183815</td><td style=\"text-align: right;\">0.720288</td><td style=\"text-align: right;\">              0.15893 </td><td style=\"text-align: right;\">0.232004</td><td style=\"text-align: right;\">0.0538257</td></tr>\n",
              "<tr><td>DRF_1_AutoML_20201230_105519                       </td><td style=\"text-align: right;\">0.935803</td><td style=\"text-align: right;\"> 0.222161</td><td style=\"text-align: right;\">0.692536</td><td style=\"text-align: right;\">              0.171452</td><td style=\"text-align: right;\">0.254289</td><td style=\"text-align: right;\">0.064663 </td></tr>\n",
              "<tr><td>GLM_1_AutoML_20201230_105519                       </td><td style=\"text-align: right;\">0.741995</td><td style=\"text-align: right;\"> 0.338675</td><td style=\"text-align: right;\">0.266396</td><td style=\"text-align: right;\">              0.29912 </td><td style=\"text-align: right;\">0.314387</td><td style=\"text-align: right;\">0.0988395</td></tr>\n",
              "</tbody>\n",
              "</table>"
            ]
          },
          "metadata": {
            "tags": []
          }
        },
        {
          "output_type": "execute_result",
          "data": {
            "text/plain": [
              ""
            ]
          },
          "metadata": {
            "tags": []
          },
          "execution_count": 14
        }
      ]
    },
    {
      "cell_type": "code",
      "metadata": {
        "colab": {
          "base_uri": "https://localhost:8080/"
        },
        "id": "D_4YnvtsZp51",
        "outputId": "553b8a28-f775-481b-eb92-ea5445611804"
      },
      "source": [
        "# Get model ids for all models in the AutoML Leaderboard\r\n",
        "model_ids = list(aml.leaderboard['model_id'].as_data_frame().iloc[:,0])\r\n",
        "# Get the \"All Models\" Stacked Ensemble model\r\n",
        "se = h2o.get_model([mid for mid in model_ids if \"StackedEnsemble_AllModels\" in mid][0])\r\n",
        "# Get the Stacked Ensemble metalearner model\r\n",
        "metalearner = h2o.get_model(se.metalearner()['name'])\r\n"
      ],
      "execution_count": 20,
      "outputs": [
        {
          "output_type": "stream",
          "text": [
            "/usr/local/lib/python3.6/dist-packages/h2o/estimators/stackedensemble.py:804: H2ODeprecationWarning: The usage of stacked_ensemble.metalearner()['name'] will be deprecated. Metalearner now returns the metalearner object. If you need to get the 'name' please use stacked_ensemble.metalearner().model_id\n",
            "  H2ODeprecationWarning\n"
          ],
          "name": "stderr"
        }
      ]
    }
  ]
}