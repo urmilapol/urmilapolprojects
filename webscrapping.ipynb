{
  "nbformat": 4,
  "nbformat_minor": 0,
  "metadata": {
    "colab": {
      "name": "webscrapping.ipynb",
      "provenance": [],
      "authorship_tag": "ABX9TyO3znQiiyElt9oc6HSnh/WX",
      "include_colab_link": true
    },
    "kernelspec": {
      "name": "python3",
      "display_name": "Python 3"
    },
    "language_info": {
      "name": "python"
    }
  },
  "cells": [
    {
      "cell_type": "markdown",
      "metadata": {
        "id": "view-in-github",
        "colab_type": "text"
      },
      "source": [
        "<a href=\"https://colab.research.google.com/github/urmilapol/urmilapolprojects/blob/master/webscrapping.ipynb\" target=\"_parent\"><img src=\"https://colab.research.google.com/assets/colab-badge.svg\" alt=\"Open In Colab\"/></a>"
      ]
    },
    {
      "cell_type": "code",
      "metadata": {
        "id": "adUq69dTMK4D"
      },
      "source": [
        "import requests\n",
        "url='https://medium.com/'\n",
        "try:\n",
        "    page = requests.get(url)        #to extract page from website\n",
        "    html_code = page.content        #to extract html code from page\n",
        "except Exception as e:\n",
        "    print(e)"
      ],
      "execution_count": 1,
      "outputs": []
    },
    {
      "cell_type": "code",
      "metadata": {
        "id": "iNImyXFFMxAL"
      },
      "source": [
        "from bs4 import BeautifulSoup\n",
        "try:\n",
        "    soup = BeautifulSoup(html_code, 'html.parser')  #Parse html code\n",
        "    texts = soup.findAll(text=True)                 #find all text\n",
        "    text_from_html = ' '.join(texts)                   #join all text\n",
        "except Exception as e:\n",
        "    print(e)"
      ],
      "execution_count": 2,
      "outputs": []
    },
    {
      "cell_type": "code",
      "metadata": {
        "colab": {
          "base_uri": "https://localhost:8080/"
        },
        "id": "i4Ldkx4lNjjd",
        "outputId": "e7b13069-2e39-45bb-ab1c-c9780fb1e4e6"
      },
      "source": [
        "pip install html2text"
      ],
      "execution_count": 4,
      "outputs": [
        {
          "output_type": "stream",
          "name": "stdout",
          "text": [
            "Collecting html2text\n",
            "  Downloading html2text-2020.1.16-py3-none-any.whl (32 kB)\n",
            "Installing collected packages: html2text\n",
            "Successfully installed html2text-2020.1.16\n"
          ]
        }
      ]
    },
    {
      "cell_type": "code",
      "metadata": {
        "colab": {
          "base_uri": "https://localhost:8080/"
        },
        "id": "kUr6Br60M_ZK",
        "outputId": "50f813ad-edbd-48dc-f278-3690f3a13afc"
      },
      "source": [
        "import html2text\n",
        "h = html2text.HTML2Text()                 #Initializing object\n",
        "h.ignore_links = True                     #Giving attributes \n",
        "try:\n",
        "    text = h.handle(html_code)            #handling the HTML code \n",
        "    text_from_html=text.replace(\"\\n\",\" \") #replacing next line char\n",
        "except Exception as e:\n",
        "    print(e)"
      ],
      "execution_count": 5,
      "outputs": [
        {
          "output_type": "stream",
          "name": "stdout",
          "text": [
            "a bytes-like object is required, not 'str'\n"
          ]
        }
      ]
    },
    {
      "cell_type": "code",
      "metadata": {
        "colab": {
          "base_uri": "https://localhost:8080/"
        },
        "id": "fK7BZ4PqOfXg",
        "outputId": "5d23a093-1292-4402-e323-b2b880345233"
      },
      "source": [
        "pip install flashtext"
      ],
      "execution_count": 8,
      "outputs": [
        {
          "output_type": "stream",
          "name": "stdout",
          "text": [
            "Collecting flashtext\n",
            "  Downloading flashtext-2.7.tar.gz (14 kB)\n",
            "Building wheels for collected packages: flashtext\n",
            "  Building wheel for flashtext (setup.py) ... \u001b[?25l\u001b[?25hdone\n",
            "  Created wheel for flashtext: filename=flashtext-2.7-py2.py3-none-any.whl size=9310 sha256=a8d1f2b8221b246116d05d6e2eef224d27f49d125f34b0742f737091afdf6e80\n",
            "  Stored in directory: /root/.cache/pip/wheels/cb/19/58/4e8fdd0009a7f89dbce3c18fff2e0d0fa201d5cdfd16f113b7\n",
            "Successfully built flashtext\n",
            "Installing collected packages: flashtext\n",
            "Successfully installed flashtext-2.7\n"
          ]
        }
      ]
    },
    {
      "cell_type": "code",
      "metadata": {
        "id": "2JeLZ_yjPE2L"
      },
      "source": [
        "Class_1_keywords = ['Office', 'School', 'phone', 'Technology', 'Electronics', 'Cell', 'Business', 'Education', 'Classroom']\n",
        "Class_2_keywords = ['Restaurant', 'Hospitality', 'Tub', 'Drain', 'Pool', 'Filtration', 'Floor', 'Restroom', 'Consumer', 'Care', 'Bags', 'Disposables']\n",
        "Class_3_keywords = ['Pull', 'Lifts', 'Pneumatic', 'Emergency', 'Finishing', 'Hydraulic', 'Lockout', 'Towers', 'Drywall', 'Tools', 'Packaging', 'Measure', 'Tag ']\n",
        "keywords=Class_1_keywords + Class_2_keywords + Class_3_keywords"
      ],
      "execution_count": 11,
      "outputs": []
    },
    {
      "cell_type": "code",
      "metadata": {
        "id": "7KxNWKhGOZXQ"
      },
      "source": [
        "from flashtext.keyword import KeywordProcessor\n",
        "kp0=KeywordProcessor()\n",
        "for word in keywords:\n",
        "    kp0.add_keyword(word)\n",
        "kp1=KeywordProcessor()\n",
        "for word in Class_1_keywords:\n",
        "    kp1.add_keyword(word)\n",
        "kp2=KeywordProcessor()\n",
        "for word in Class_2_keywords:\n",
        "    kp2.add_keyword(word)\n",
        "kp3=KeywordProcessor()\n",
        "for word in Class_3_keywords:\n",
        "    kp3.add_keyword(word)"
      ],
      "execution_count": 12,
      "outputs": []
    },
    {
      "cell_type": "code",
      "metadata": {
        "id": "ywCaOE7YPTYe"
      },
      "source": [
        "def percentage1(dum0,dumx):\n",
        "    try:\n",
        "        ans=float(dumx)/float(dum0)\n",
        "        ans=ans*100\n",
        "    except:\n",
        "        return 0\n",
        "    else:\n",
        "        return ans"
      ],
      "execution_count": 13,
      "outputs": []
    },
    {
      "cell_type": "code",
      "metadata": {
        "id": "pXETWHcQPaNN"
      },
      "source": [
        "def find_class():\n",
        "    x=str(text_from_html)\n",
        "    y0 = len(kp0.extract_keywords(x))\n",
        "    y1 = len(kp1.extract_keywords(x))\n",
        "    y2 = len(kp2.extract_keywords(x))\n",
        "    y3 = len(kp3.extract_keywords(x))\n",
        "    Total_matches=y0   \n",
        "    per1 = float(percentage1(y0,y1))\n",
        "    per2 = float(percentage1(y0,y2))\n",
        "    per3 = float(percentage1(y0,y3))\n",
        "    if y0==0:\n",
        "        Category='None'\n",
        "    else:\n",
        "        if per1>=per2 and per1>=per3:\n",
        "            Category='Class_1'\n",
        "        elif per2>=per3 and per2>=per1:\n",
        "            Category='Class_2'\n",
        "        elif per3>=per1 and per3>=per2:\n",
        "            Category='Class_3'\n",
        "    return Category"
      ],
      "execution_count": 20,
      "outputs": []
    },
    {
      "cell_type": "code",
      "metadata": {
        "id": "UgWsm9HzRWIQ"
      },
      "source": [
        "import pandas as pd\n",
        "data=pd.read_csv('Data.csv')\n",
        "data = data[pd.notnull(data['tokenized_source'])]\n",
        "data=data[data.Category != 'None']"
      ],
      "execution_count": null,
      "outputs": []
    }
  ]
}