{
  "nbformat": 4,
  "nbformat_minor": 0,
  "metadata": {
    "colab": {
      "name": "pythonclass.ipynb",
      "provenance": [],
      "authorship_tag": "ABX9TyMvAQNqM4wsSPP8bbYk0nX6",
      "include_colab_link": true
    },
    "kernelspec": {
      "name": "python3",
      "display_name": "Python 3"
    },
    "language_info": {
      "name": "python"
    }
  },
  "cells": [
    {
      "cell_type": "markdown",
      "metadata": {
        "id": "view-in-github",
        "colab_type": "text"
      },
      "source": [
        "<a href=\"https://colab.research.google.com/github/urmilapol/urmilapolprojects/blob/master/pythonclass.ipynb\" target=\"_parent\"><img src=\"https://colab.research.google.com/assets/colab-badge.svg\" alt=\"Open In Colab\"/></a>"
      ]
    },
    {
      "cell_type": "markdown",
      "source": [
        "**Defining a Class in Python**\n",
        "https://www.geeksforgeeks.org/python-classes-and-objects/?ref=lbp\n",
        "\n"
      ],
      "metadata": {
        "id": "IRHNpFS0A6fp"
      }
    },
    {
      "cell_type": "code",
      "source": [
        "class Person:\n",
        "    \"This is a person class\"\n",
        "    age = 10\n",
        "\n",
        "    def greet(self):\n",
        "        print('Hello')\n",
        "\n",
        "\n",
        "# Output: 10\n",
        "print(Person.age)\n",
        "\n",
        "# Output: <function Person.greet>\n",
        "print(Person.greet)\n",
        "\n",
        "# Output: \"This is a person class\"\n",
        "print(Person.__doc__)"
      ],
      "metadata": {
        "colab": {
          "base_uri": "https://localhost:8080/"
        },
        "id": "KejC3nl_53pU",
        "outputId": "1e722965-5ee7-4d03-b93a-c5a0e14070da"
      },
      "execution_count": 13,
      "outputs": [
        {
          "output_type": "stream",
          "name": "stdout",
          "text": [
            "10\n",
            "<function Person.greet at 0x7fbc9bd0b4d0>\n",
            "This is a person class\n"
          ]
        }
      ]
    },
    {
      "cell_type": "code",
      "execution_count": 2,
      "metadata": {
        "colab": {
          "base_uri": "https://localhost:8080/"
        },
        "id": "piDDnE5XsR7O",
        "outputId": "9b85b3cd-fa6b-48d9-c9df-4ae8c6276907"
      },
      "outputs": [
        {
          "output_type": "stream",
          "name": "stdout",
          "text": [
            "<class '__main__.Computer'>\n"
          ]
        }
      ],
      "source": [
        "class Computer:\n",
        "\n",
        "        def config(self):\n",
        "             print(\"i5,16gb,1TB\")\n",
        "\n",
        "a='8'\n",
        "com1 = Computer()\n",
        "print(type(com1))"
      ]
    },
    {
      "cell_type": "markdown",
      "source": [
        "**Creating an Object in Python**\n",
        "It can also be used to create new object instances (instantiation) of that class. The procedure to create an object is similar to a function call.\n",
        "\n"
      ],
      "metadata": {
        "id": "f5GJm9oEBarV"
      }
    },
    {
      "cell_type": "code",
      "source": [
        "class Person:\n",
        "    \"This is a person class\"\n",
        "    age = 10\n",
        "\n",
        "    def greet(self):\n",
        "        print('Hello')\n",
        "\n",
        "\n",
        "# create a new object of Person class\n",
        "harry = Person()\n",
        "\n",
        "# Output: <function Person.greet>\n",
        "print(Person.greet)\n",
        "\n",
        "# Output: <bound method Person.greet of <__main__.Person object>>\n",
        "print(harry.greet)\n",
        "\n",
        "# Calling object's greet() method\n",
        "# Output: Hello\n",
        "harry.greet()"
      ],
      "metadata": {
        "colab": {
          "base_uri": "https://localhost:8080/"
        },
        "id": "v07m6UjoBnkc",
        "outputId": "edb051e0-11db-4cb3-c864-a84274c138d3"
      },
      "execution_count": 18,
      "outputs": [
        {
          "output_type": "stream",
          "name": "stdout",
          "text": [
            "<function Person.greet at 0x7fbc9f825f80>\n",
            "<bound method Person.greet of <__main__.Person object at 0x7fbc9bd7a090>>\n",
            "Hello\n"
          ]
        }
      ]
    },
    {
      "cell_type": "markdown",
      "source": [
        "**What is the use of self in Python?**\n",
        "\n",
        "\n",
        "The **self** is used to represent the instance of the class. With this keyword, you can access the attributes and methods of the class in python. It binds the attributes with the given arguments. The reason why we use self is that Python does not use the ‘@’ syntax to refer to instance attributes."
      ],
      "metadata": {
        "id": "QgDcKfajt7Vp"
      }
    },
    {
      "cell_type": "markdown",
      "source": [
        "**Python Class self Constructor**\n",
        "self is also used to refer to a variable field within the class. Let’s take an example and see how it works:"
      ],
      "metadata": {
        "id": "LPmP8qgY9iJo"
      }
    },
    {
      "cell_type": "code",
      "source": [
        "class Person:\n",
        " \n",
        "# name made in constructor\n",
        "    def __init__(self, John):\n",
        "        self.name = John\n",
        " \n",
        "    def get_person_name(self):\n",
        "        return self.name"
      ],
      "metadata": {
        "id": "z7mieZcq9t3H"
      },
      "execution_count": 16,
      "outputs": []
    },
    {
      "cell_type": "code",
      "source": [
        "class this_is_class:\n",
        "    def show(in_place_of_self):\n",
        "       print(\"It is not a keyword \" \"and you can use a different keyword\")\n",
        " \n",
        "object = this_is_class()\n",
        "object.show()"
      ],
      "metadata": {
        "colab": {
          "base_uri": "https://localhost:8080/"
        },
        "id": "5Vuvpa_6-Ppt",
        "outputId": "3ae06bc7-290e-4e20-c7e6-11056339bcda"
      },
      "execution_count": 17,
      "outputs": [
        {
          "output_type": "stream",
          "name": "stdout",
          "text": [
            "It is not a keyword and you can use a different keyword\n"
          ]
        }
      ]
    },
    {
      "cell_type": "code",
      "source": [
        "class food():\n",
        "#init method or constructor\n",
        "    def __init__(self, fruit, color):\n",
        "        self.fruit = fruit\n",
        "        self.color = color\n",
        "    def show(self):\n",
        "        print(\"fruit is\", self.fruit)\n",
        "        print(\"color is\", self.color )\n",
        "apple = food(\"apple\", \"red\")\n",
        "grapes = food(\"grapes\", \"green\")\n",
        "apple.show()\n",
        "grapes.show()"
      ],
      "metadata": {
        "colab": {
          "base_uri": "https://localhost:8080/"
        },
        "id": "CgDvPFBZuPqr",
        "outputId": "9faf7f61-b5a7-4e54-d805-9f77fe5dbb4d"
      },
      "execution_count": 14,
      "outputs": [
        {
          "output_type": "stream",
          "name": "stdout",
          "text": [
            "fruit is apple\n",
            "color is red\n",
            "fruit is grapes\n",
            "color is green\n"
          ]
        }
      ]
    },
    {
      "cell_type": "code",
      "source": [
        "class Dog:\n",
        "     \n",
        "    # A simple class\n",
        "    # attribute\n",
        "    attr1 = \"mammal\"\n",
        "    attr2 = \"dog\"\n",
        " \n",
        "    # A sample method \n",
        "    def fun(self):\n",
        "        print(\"I'm a\", self.attr1)\n",
        "        print(\"I'm a\", self.attr2)\n",
        " \n",
        "# Driver code\n",
        "# Object instantiation\n",
        "Rodger = Dog()\n",
        " \n",
        "# Accessing class attributes\n",
        "# and method through objects\n",
        "print(Rodger.attr1)\n",
        "Rodger.fun()"
      ],
      "metadata": {
        "colab": {
          "base_uri": "https://localhost:8080/"
        },
        "id": "2E920G6EU1YD",
        "outputId": "0ff1c256-61a3-4076-8198-1c5b1c2a6451"
      },
      "execution_count": 21,
      "outputs": [
        {
          "output_type": "stream",
          "name": "stdout",
          "text": [
            "mammal\n",
            "I'm a mammal\n",
            "I'm a dog\n"
          ]
        }
      ]
    },
    {
      "cell_type": "code",
      "source": [
        "# A Sample class with init method\n",
        "class Person:\n",
        "   \n",
        "    # init method or constructor \n",
        "    def __init__(self, name):\n",
        "        self.name = name\n",
        "   \n",
        "    # Sample Method \n",
        "    def say_hi(self):\n",
        "        print('Hello, my name is', self.name)\n",
        "   \n",
        "p = Person('Nikhil')\n",
        "p.say_hi()"
      ],
      "metadata": {
        "colab": {
          "base_uri": "https://localhost:8080/"
        },
        "id": "LGFUYvpvVEWn",
        "outputId": "d85fc320-6074-4146-9a15-7bd9e49d0308"
      },
      "execution_count": 22,
      "outputs": [
        {
          "output_type": "stream",
          "name": "stdout",
          "text": [
            "Hello, my name is Nikhil\n"
          ]
        }
      ]
    },
    {
      "cell_type": "code",
      "source": [
        "# Class for Dog\n",
        "class Dog:\n",
        "   \n",
        "    # Class Variable\n",
        "    animal = 'dog'            \n",
        "   \n",
        "    # The init method or constructor\n",
        "    def __init__(self, breed, color):\n",
        "     \n",
        "        # Instance Variable    \n",
        "        self.breed = breed\n",
        "        self.color = color       \n",
        "    \n",
        "# Objects of Dog class\n",
        "Rodger = Dog(\"Pug\", \"brown\")\n",
        "Buzo = Dog(\"Bulldog\", \"black\")\n",
        " \n",
        "print('Rodger details:')  \n",
        "print('Rodger is a', Rodger.animal)\n",
        "print('Breed: ', Rodger.breed)\n",
        "print('Color: ', Rodger.color)\n",
        " \n",
        "print('\\nBuzo details:')  \n",
        "print('Buzo is a', Buzo.animal)\n",
        "print('Breed: ', Buzo.breed)\n",
        "print('Color: ', Buzo.color)\n",
        " \n",
        "# Class variables can be accessed using class\n",
        "# name also\n",
        "print(\"\\nAccessing class variable using class name\")\n",
        "print(Dog.animal)       "
      ],
      "metadata": {
        "colab": {
          "base_uri": "https://localhost:8080/"
        },
        "id": "M5dE3wEkVLxs",
        "outputId": "321f5d98-b7bb-4fab-cc02-d5fb619ec50e"
      },
      "execution_count": 23,
      "outputs": [
        {
          "output_type": "stream",
          "name": "stdout",
          "text": [
            "Rodger details:\n",
            "Rodger is a dog\n",
            "Breed:  Pug\n",
            "Color:  brown\n",
            "\n",
            "Buzo details:\n",
            "Buzo is a dog\n",
            "Breed:  Bulldog\n",
            "Color:  black\n",
            "\n",
            "Accessing class variable using class name\n",
            "dog\n"
          ]
        }
      ]
    },
    {
      "cell_type": "code",
      "source": [
        "# Class for Dog\n",
        "class Dog:\n",
        "       \n",
        "    # Class Variable\n",
        "    animal = 'dog'     \n",
        "       \n",
        "    # The init method or constructor\n",
        "    def __init__(self, breed):\n",
        "           \n",
        "        # Instance Variable\n",
        "        self.breed = breed            \n",
        "   \n",
        "    # Adds an instance variable \n",
        "    def setColor(self, color):\n",
        "        self.color = color\n",
        "       \n",
        "    # Retrieves instance variable    \n",
        "    def getColor(self):    \n",
        "        return self.color   \n",
        "   \n",
        "# Driver Code\n",
        "Rodger = Dog(\"pug\")\n",
        "Rodger.setColor(\"brown\")\n",
        "print(Rodger.getColor())"
      ],
      "metadata": {
        "colab": {
          "base_uri": "https://localhost:8080/"
        },
        "id": "eAGhVuqNVQwc",
        "outputId": "d3a336ff-1228-4654-bfae-e2a7f475a053"
      },
      "execution_count": 24,
      "outputs": [
        {
          "output_type": "stream",
          "name": "stdout",
          "text": [
            "brown\n"
          ]
        }
      ]
    },
    {
      "cell_type": "code",
      "source": [
        "class GeekforGeeks:\n",
        " \n",
        "    # default constructor\n",
        "    def __init__(self):\n",
        "        self.geek = \"GeekforGeeks\"\n",
        " \n",
        "    # a method for printing data members\n",
        "    def print_Geek(self):\n",
        "        print(self.geek)\n",
        " \n",
        " \n",
        "# creating object of the class\n",
        "obj = GeekforGeeks()\n",
        " \n",
        "# calling the instance method using the object obj\n",
        "obj.print_Geek()"
      ],
      "metadata": {
        "colab": {
          "base_uri": "https://localhost:8080/"
        },
        "id": "uGoGXuyJVXpg",
        "outputId": "fc881fb3-55c2-47fd-8a4b-75e935c0a35d"
      },
      "execution_count": 25,
      "outputs": [
        {
          "output_type": "stream",
          "name": "stdout",
          "text": [
            "GeekforGeeks\n"
          ]
        }
      ]
    },
    {
      "cell_type": "code",
      "source": [
        "class Addition:\n",
        "    first = 0\n",
        "    second = 0\n",
        "    answer = 0\n",
        "     \n",
        "    # parameterized constructor\n",
        "    def __init__(self, f, s):\n",
        "        self.first = f\n",
        "        self.second = s\n",
        "     \n",
        "    def display(self):\n",
        "        print(\"First number = \" + str(self.first))\n",
        "        print(\"Second number = \" + str(self.second))\n",
        "        print(\"Addition of two numbers = \" + str(self.answer))\n",
        " \n",
        "    def calculate(self):\n",
        "        self.answer = self.first + self.second\n",
        " \n",
        "# creating object of the class\n",
        "# this will invoke parameterized constructor\n",
        "obj = Addition(1000, 2000)\n",
        " \n",
        "# perform Addition\n",
        "obj.calculate()\n",
        " \n",
        "# display result\n",
        "obj.display()"
      ],
      "metadata": {
        "colab": {
          "base_uri": "https://localhost:8080/"
        },
        "id": "k4YdB6qJVdB4",
        "outputId": "4452fe0b-5587-49ab-813b-7bc73c638ead"
      },
      "execution_count": 26,
      "outputs": [
        {
          "output_type": "stream",
          "name": "stdout",
          "text": [
            "First number = 1000\n",
            "Second number = 2000\n",
            "Addition of two numbers = 3000\n"
          ]
        }
      ]
    },
    {
      "cell_type": "code",
      "source": [
        "class Employee:\n",
        " \n",
        "    # Initializing\n",
        "    def __init__(self):\n",
        "        print('Employee created.')\n",
        " \n",
        "    # Deleting (Calling destructor)\n",
        "    def __del__(self):\n",
        "        print('Destructor called, Employee deleted.')\n",
        " \n",
        "obj = Employee()\n",
        "del obj"
      ],
      "metadata": {
        "colab": {
          "base_uri": "https://localhost:8080/"
        },
        "id": "DUt4PaMcVivd",
        "outputId": "9761fa11-6c54-41c0-b919-550aa8413ea4"
      },
      "execution_count": 27,
      "outputs": [
        {
          "output_type": "stream",
          "name": "stdout",
          "text": [
            "Employee created.\n",
            "Destructor called, Employee deleted.\n"
          ]
        }
      ]
    },
    {
      "cell_type": "code",
      "source": [
        "class Employee:\n",
        " \n",
        "    # Initializing\n",
        "    def __init__(self):\n",
        "        print('Employee created')\n",
        " \n",
        "    # Calling destructor\n",
        "    def __del__(self):\n",
        "        print(\"Destructor called\")\n",
        " \n",
        "def Create_obj():\n",
        "    print('Making Object...')\n",
        "    obj = Employee()\n",
        "    print('function end...')\n",
        "    return obj\n",
        " \n",
        "print('Calling Create_obj() function...')\n",
        "obj = Create_obj()\n",
        "print('Program End...')"
      ],
      "metadata": {
        "colab": {
          "base_uri": "https://localhost:8080/"
        },
        "id": "9UB46hL5VmpU",
        "outputId": "6ac881c2-a958-49ff-961c-d356c97bc8de"
      },
      "execution_count": 28,
      "outputs": [
        {
          "output_type": "stream",
          "name": "stdout",
          "text": [
            "Calling Create_obj() function...\n",
            "Making Object...\n",
            "Employee created\n",
            "function end...\n",
            "Program End...\n"
          ]
        }
      ]
    },
    {
      "cell_type": "code",
      "source": [
        "class A:\n",
        "    def __init__(self, bb):\n",
        "        self.b = bb\n",
        " \n",
        "class B:\n",
        "    def __init__(self):\n",
        "        self.a = A(self)\n",
        "    def __del__(self):\n",
        "        print(\"die\")\n",
        " \n",
        "def fun():\n",
        "    b = B()\n",
        " \n",
        "fun()"
      ],
      "metadata": {
        "id": "yDw41gZsV_wW"
      },
      "execution_count": 29,
      "outputs": []
    }
  ]
}