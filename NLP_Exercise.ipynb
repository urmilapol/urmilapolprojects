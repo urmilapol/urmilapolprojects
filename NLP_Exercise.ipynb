{
  "nbformat": 4,
  "nbformat_minor": 0,
  "metadata": {
    "kernelspec": {
      "display_name": "Python 3",
      "language": "python",
      "name": "python3"
    },
    "language_info": {
      "codemirror_mode": {
        "name": "ipython",
        "version": 3
      },
      "file_extension": ".py",
      "mimetype": "text/x-python",
      "name": "python",
      "nbconvert_exporter": "python",
      "pygments_lexer": "ipython3",
      "version": "3.7.4"
    },
    "colab": {
      "name": "NLP_Exercise.ipynb",
      "provenance": [],
      "include_colab_link": true
    }
  },
  "cells": [
    {
      "cell_type": "markdown",
      "metadata": {
        "id": "view-in-github",
        "colab_type": "text"
      },
      "source": [
        "<a href=\"https://colab.research.google.com/github/urmilapol/urmilapolprojects/blob/master/NLP_Exercise.ipynb\" target=\"_parent\"><img src=\"https://colab.research.google.com/assets/colab-badge.svg\" alt=\"Open In Colab\"/></a>"
      ]
    },
    {
      "cell_type": "code",
      "metadata": {
        "id": "wIpD3nKcexzv"
      },
      "source": [
        "import os\n",
        "import numpy as np\n",
        "import random\n",
        "from sklearn.model_selection import train_test_split\n",
        "from sklearn.feature_extraction.text import CountVectorizer, TfidfVectorizer\n",
        "from sklearn.metrics import f1_score\n",
        "\n",
        "import json"
      ],
      "execution_count": null,
      "outputs": []
    },
    {
      "cell_type": "markdown",
      "metadata": {
        "id": "hTI31Rbhexz4"
      },
      "source": [
        "### Load In Data"
      ]
    },
    {
      "cell_type": "markdown",
      "metadata": {
        "id": "3zT93Wxmexz8"
      },
      "source": [
        "#### Data Class"
      ]
    },
    {
      "cell_type": "code",
      "metadata": {
        "id": "DkEKx0dRexz9"
      },
      "source": [
        "class Review:\n",
        "    def __init__(self, category, text):\n",
        "        self.category = category\n",
        "        self.text = text    \n",
        "        \n",
        "class ReviewContainer:\n",
        "    def __init__(self, reviews):\n",
        "        self.reviews = reviews\n",
        "    \n",
        "    def get_text(self):\n",
        "        return [x.text for x in self.reviews]\n",
        "    \n",
        "    def get_y(self):\n",
        "        return [x.category for x in self.reviews]"
      ],
      "execution_count": null,
      "outputs": []
    },
    {
      "cell_type": "markdown",
      "metadata": {
        "id": "Vdnyz5tXexz-"
      },
      "source": [
        "#### Prep Training/Test Data"
      ]
    },
    {
      "cell_type": "code",
      "metadata": {
        "id": "a-HGJ95iexz_"
      },
      "source": [
        "train_reviews = []\n",
        "all_categories = []\n",
        "for file in os.listdir('./data/training'):\n",
        "    category = file.strip('train_').split('.')[0]\n",
        "    all_categories.append(category)\n",
        "    with open(f'./data/training/{file}') as f:\n",
        "        for line in f:\n",
        "            review_json = json.loads(line)\n",
        "            review = Review(category, review_json['reviewText'])\n",
        "            train_reviews.append(review)\n",
        "\n",
        "train_container = ReviewContainer(train_reviews)"
      ],
      "execution_count": null,
      "outputs": []
    },
    {
      "cell_type": "code",
      "metadata": {
        "id": "leTuidZxex0A"
      },
      "source": [
        "test_reviews = []\n",
        "for file in os.listdir('./data/test'):\n",
        "    category = file.strip('test_').split('.')[0]\n",
        "    with open(f'./data/test/{file}') as f:\n",
        "        for line in f:\n",
        "            review_json = json.loads(line)\n",
        "            review = Review(category, review_json['reviewText'])\n",
        "            test_reviews.append(review)\n",
        "            \n",
        "test_container = ReviewContainer(test_reviews)"
      ],
      "execution_count": null,
      "outputs": []
    },
    {
      "cell_type": "markdown",
      "metadata": {
        "id": "2a2Y0Lodex0C"
      },
      "source": [
        "#### Train Model (Bag of words)"
      ]
    },
    {
      "cell_type": "code",
      "metadata": {
        "id": "8oNhOzc6ex0D",
        "outputId": "1f1ba7aa-3934-407c-85a9-7f4aa1e8eb52"
      },
      "source": [
        "from sklearn import svm\n",
        "\n",
        "corpus = train_container.get_text()\n",
        "vectorizer = CountVectorizer(binary=True)\n",
        "train_x = vectorizer.fit_transform(corpus) # training text converted to vector\n",
        "\n",
        "clf = svm.SVC(kernel='linear')\n",
        "clf.fit(train_x, train_container.get_y())"
      ],
      "execution_count": null,
      "outputs": [
        {
          "data": {
            "text/plain": [
              "SVC(C=1.0, cache_size=200, class_weight=None, coef0=0.0,\n",
              "    decision_function_shape='ovr', degree=3, gamma='auto_deprecated',\n",
              "    kernel='linear', max_iter=-1, probability=False, random_state=None,\n",
              "    shrinking=True, tol=0.001, verbose=False)"
            ]
          },
          "execution_count": 29,
          "metadata": {},
          "output_type": "execute_result"
        }
      ]
    },
    {
      "cell_type": "markdown",
      "metadata": {
        "id": "KdtycW-qex0G"
      },
      "source": [
        "#### Evaluate Performance (Bag of words)"
      ]
    },
    {
      "cell_type": "code",
      "metadata": {
        "id": "e8Tq1tbHex0I"
      },
      "source": [
        "# make sure to convert test text to vector form\n",
        "test_corpus = test_container.get_text()\n",
        "test_x = vectorizer.transform(test_corpus)"
      ],
      "execution_count": null,
      "outputs": []
    },
    {
      "cell_type": "code",
      "metadata": {
        "id": "texPYIz4ex0J",
        "outputId": "f871b25d-ef16-4a14-99e4-53854eb93088"
      },
      "source": [
        "print(\"Overall Accuracy:\", clf.score(test_x, test_container.get_y()))\n",
        "\n",
        "y_pred = clf.predict(test_x)\n",
        "\n",
        "print(\"f1 scores by category\")\n",
        "print(all_categories)\n",
        "print(f1_score(test_container.get_y(), y_pred, average=None, labels=all_categories))"
      ],
      "execution_count": null,
      "outputs": [
        {
          "name": "stdout",
          "output_type": "stream",
          "text": [
            "Overall Accuracy: 0.6522222222222223\n",
            "f1 scores by category\n",
            "['Automotive', 'Beauty', 'Books', 'Clothing', 'Digital_Music', 'Electronics', 'Grocery', 'Patio_Lawn_Garden', 'Pet_Supplies']\n",
            "[0.46201074 0.79538905 0.82866044 0.71020408 0.71557971 0.5484222\n",
            " 0.70614035 0.46501129 0.66816143]\n"
          ]
        }
      ]
    },
    {
      "cell_type": "code",
      "metadata": {
        "id": "QzkSVTy0ex0L"
      },
      "source": [
        ""
      ],
      "execution_count": null,
      "outputs": []
    }
  ]
}