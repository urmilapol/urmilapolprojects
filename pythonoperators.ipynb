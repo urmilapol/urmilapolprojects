{
  "nbformat": 4,
  "nbformat_minor": 0,
  "metadata": {
    "colab": {
      "name": "pythonoperators.ipynb",
      "provenance": [],
      "authorship_tag": "ABX9TyMOTwT1VH/T74bWOx2SqIJn",
      "include_colab_link": true
    },
    "kernelspec": {
      "name": "python3",
      "display_name": "Python 3"
    },
    "language_info": {
      "name": "python"
    }
  },
  "cells": [
    {
      "cell_type": "markdown",
      "metadata": {
        "id": "view-in-github",
        "colab_type": "text"
      },
      "source": [
        "<a href=\"https://colab.research.google.com/github/urmilapol/urmilapolprojects/blob/master/pythonoperators.ipynb\" target=\"_parent\"><img src=\"https://colab.research.google.com/assets/colab-badge.svg\" alt=\"Open In Colab\"/></a>"
      ]
    },
    {
      "cell_type": "markdown",
      "source": [
        "# **Arithmetic Operators**"
      ],
      "metadata": {
        "id": "f4R1IVvuzt7A"
      }
    },
    {
      "cell_type": "code",
      "source": [
        "# Examples of Arithmetic Operator\n",
        "a = 9\n",
        "b = 4\n",
        " \n",
        "# Addition of numbers\n",
        "add = a + b\n",
        " \n",
        "# Subtraction of numbers\n",
        "sub = a - b\n",
        " \n",
        "# Multiplication of number\n",
        "mul = a * b\n",
        " \n",
        "# Division(float) of number\n",
        "div1 = a / b\n",
        " \n",
        "# Division(floor) of number\n",
        "div2 = a // b\n",
        " \n",
        "# Modulo of both number\n",
        "mod = a % b\n",
        " \n",
        "# Power\n",
        "p = a ** b\n",
        " \n",
        "# print results\n",
        "print(add)\n",
        "print(sub)\n",
        "print(mul)\n",
        "print(div1)\n",
        "print(div2)\n",
        "print(mod)\n",
        "print(p)"
      ],
      "metadata": {
        "colab": {
          "base_uri": "https://localhost:8080/"
        },
        "id": "guXzSKdbz2AM",
        "outputId": "203c5785-380b-4655-bd86-b5e7f67f9c2b"
      },
      "execution_count": 2,
      "outputs": [
        {
          "output_type": "stream",
          "name": "stdout",
          "text": [
            "13\n",
            "5\n",
            "36\n",
            "2.25\n",
            "2\n",
            "1\n",
            "6561\n"
          ]
        }
      ]
    },
    {
      "cell_type": "markdown",
      "source": [
        "# **Comparison Operators**"
      ],
      "metadata": {
        "id": "aTphMfrP0Eq-"
      }
    },
    {
      "cell_type": "code",
      "source": [
        "# Examples of Relational Operators\n",
        "a = 13\n",
        "b = 33\n",
        " \n",
        "# a > b is False\n",
        "print(a > b)\n",
        " \n",
        "# a < b is True\n",
        "print(a < b)\n",
        " \n",
        "# a == b is False\n",
        "print(a == b)\n",
        " \n",
        "# a != b is True\n",
        "print(a != b)\n",
        " \n",
        "# a >= b is False\n",
        "print(a >= b)\n",
        " \n",
        "# a <= b is True\n",
        "print(a <= b)"
      ],
      "metadata": {
        "colab": {
          "base_uri": "https://localhost:8080/"
        },
        "id": "xVUu6ii90Lem",
        "outputId": "ee02f638-80fa-4449-b962-d217bfb80121"
      },
      "execution_count": 3,
      "outputs": [
        {
          "output_type": "stream",
          "name": "stdout",
          "text": [
            "False\n",
            "True\n",
            "False\n",
            "True\n",
            "False\n",
            "True\n"
          ]
        }
      ]
    },
    {
      "cell_type": "markdown",
      "source": [
        "# **Logical Operators**"
      ],
      "metadata": {
        "id": "p9oDkKns0Rib"
      }
    },
    {
      "cell_type": "code",
      "source": [
        "# Examples of Logical Operator\n",
        "a = True\n",
        "b = False\n",
        " \n",
        "# Print a and b is False\n",
        "print(a and b)\n",
        " \n",
        "# Print a or b is True\n",
        "print(a or b)\n",
        " \n",
        "# Print not a is False\n",
        "print(not a)"
      ],
      "metadata": {
        "colab": {
          "base_uri": "https://localhost:8080/"
        },
        "id": "nCjdGnIn0TXi",
        "outputId": "130f9ed7-9ead-4fb8-a53d-fffdb8da912b"
      },
      "execution_count": 4,
      "outputs": [
        {
          "output_type": "stream",
          "name": "stdout",
          "text": [
            "False\n",
            "True\n",
            "False\n"
          ]
        }
      ]
    },
    {
      "cell_type": "markdown",
      "source": [
        "# **Bitwise Operators**\n",
        "Bitwise operators act on bits and perform the bit-by-bit operations. These are used to operate on binary numbers."
      ],
      "metadata": {
        "id": "qnD3Vkl20vjC"
      }
    },
    {
      "cell_type": "code",
      "source": [
        "# Examples of Bitwise operators\n",
        "a = 20\n",
        "b = 4\n",
        " \n",
        "# Print bitwise AND operation\n",
        "print(a & b)\n",
        " \n",
        "# Print bitwise OR operation\n",
        "print(a | b)\n",
        " \n",
        "# Print bitwise NOT operation\n",
        "print(~a)\n",
        " \n",
        "# print bitwise XOR operation\n",
        "print(a ^ b)\n",
        " \n",
        "# print bitwise right shift operation\n",
        "print(a >> 2)\n",
        " \n",
        "# print bitwise left shift operation\n",
        "print(a << 2)"
      ],
      "metadata": {
        "colab": {
          "base_uri": "https://localhost:8080/"
        },
        "outputId": "0af320fa-1848-40f5-d38c-a1161f973a84",
        "id": "wu9OTEFs01gP"
      },
      "execution_count": null,
      "outputs": [
        {
          "output_type": "stream",
          "name": "stdout",
          "text": [
            "4\n",
            "20\n",
            "-21\n",
            "16\n",
            "5\n",
            "80\n"
          ]
        }
      ]
    },
    {
      "cell_type": "markdown",
      "source": [
        "# **Assignment Operators **"
      ],
      "metadata": {
        "id": "kpT8W4i-094l"
      }
    },
    {
      "cell_type": "code",
      "source": [
        "# Examples of Assignment Operators\n",
        "a = 10\n",
        " \n",
        "# Assign value\n",
        "b = a\n",
        "print(b)\n",
        " \n",
        "# Add and assign value\n",
        "b += a\n",
        "print(b)\n",
        " \n",
        "# Subtract and assign value\n",
        "b -= a\n",
        "print(b)\n",
        " \n",
        "# multiply and assign\n",
        "b *= a\n",
        "print(b)\n",
        " \n",
        "# bitwise lishift operator\n",
        "b <<= a\n",
        "print(b)"
      ],
      "metadata": {
        "colab": {
          "base_uri": "https://localhost:8080/"
        },
        "id": "cV1xYGQG1Cl2",
        "outputId": "652ae15b-c88d-4b15-97f2-3ebfdc1ab92d"
      },
      "execution_count": 5,
      "outputs": [
        {
          "output_type": "stream",
          "name": "stdout",
          "text": [
            "10\n",
            "20\n",
            "10\n",
            "100\n",
            "102400\n"
          ]
        }
      ]
    },
    {
      "cell_type": "markdown",
      "source": [
        "# **Identity Operators**"
      ],
      "metadata": {
        "id": "xQnoghen1Hx6"
      }
    },
    {
      "cell_type": "code",
      "source": [
        "a = 10\n",
        "b = 20\n",
        "c = a\n",
        " \n",
        "print(a is not b)\n",
        "print(a is c)"
      ],
      "metadata": {
        "colab": {
          "base_uri": "https://localhost:8080/"
        },
        "id": "FmRpZlY21S7k",
        "outputId": "3f23c4be-f2e6-4fe2-e8c7-8230e5ea695a"
      },
      "execution_count": 6,
      "outputs": [
        {
          "output_type": "stream",
          "name": "stdout",
          "text": [
            "True\n",
            "True\n"
          ]
        }
      ]
    },
    {
      "cell_type": "markdown",
      "source": [
        "# **Membership Operators**"
      ],
      "metadata": {
        "id": "GKYsduFm1ZM0"
      }
    },
    {
      "cell_type": "code",
      "source": [
        "# Python program to illustrate\n",
        "# not 'in' operator\n",
        "x = 24\n",
        "y = 20\n",
        "list = [10, 20, 30, 40, 50]\n",
        " \n",
        "if (x not in list):\n",
        "    print(\"x is NOT present in given list\")\n",
        "else:\n",
        "    print(\"x is present in given list\")\n",
        " \n",
        "if (y in list):\n",
        "    print(\"y is present in given list\")\n",
        "else:\n",
        "    print(\"y is NOT present in given list\")"
      ],
      "metadata": {
        "colab": {
          "base_uri": "https://localhost:8080/"
        },
        "id": "5lHzYEdG1f0h",
        "outputId": "13190dc8-d293-4e75-a04b-2bccc84a3ca1"
      },
      "execution_count": 7,
      "outputs": [
        {
          "output_type": "stream",
          "name": "stdout",
          "text": [
            "x is NOT present in given list\n",
            "y is present in given list\n"
          ]
        }
      ]
    },
    {
      "cell_type": "markdown",
      "source": [
        "# **Precedence and Associativity of Operators**"
      ],
      "metadata": {
        "id": "Eg-OlWzh2OKQ"
      }
    },
    {
      "cell_type": "code",
      "source": [
        "# Examples of Operator Precedence\n",
        " \n",
        "# Precedence of '+' & '*'\n",
        "expr = 10 + 20 * 30\n",
        "print(expr)\n",
        " \n",
        "# Precedence of 'or' & 'and'\n",
        "name = \"Alex\"\n",
        "age = 0\n",
        " \n",
        "if name == \"Alex\" or name == \"John\" and age >= 2:\n",
        "    print(\"Hello! Welcome.\")\n",
        "else:\n",
        "    print(\"Good Bye!!\")"
      ],
      "metadata": {
        "colab": {
          "base_uri": "https://localhost:8080/"
        },
        "id": "LLFqVUE72TO4",
        "outputId": "2ff9988b-1043-48ab-aa9a-a493fca3f1e9"
      },
      "execution_count": 8,
      "outputs": [
        {
          "output_type": "stream",
          "name": "stdout",
          "text": [
            "610\n",
            "Hello! Welcome.\n"
          ]
        }
      ]
    },
    {
      "cell_type": "markdown",
      "source": [
        "Operator Associativity\n",
        "# **If an expression contains two or more operators with the same precedence then Operator Associativity is used to determine. It can either be Left to Right or from Right to Left.**"
      ],
      "metadata": {
        "id": "iL92pLkk2bUF"
      }
    },
    {
      "cell_type": "code",
      "source": [
        "# Examples of Operator Associativity\n",
        " \n",
        "# Left-right associativity\n",
        "# 100 / 10 * 10 is calculated as\n",
        "# (100 / 10) * 10 and not\n",
        "# as 100 / (10 * 10)\n",
        "print(100 / 10 * 10)\n",
        " \n",
        "# Left-right associativity\n",
        "# 5 - 2 + 3 is calculated as\n",
        "# (5 - 2) + 3 and not\n",
        "# as 5 - (2 + 3)\n",
        "print(5 - 2 + 3)\n",
        " \n",
        "# left-right associativity\n",
        "print(5 - (2 + 3))\n",
        " \n",
        "# right-left associativity\n",
        "# 2 ** 3 ** 2 is calculated as\n",
        "# 2 ** (3 ** 2) and not\n",
        "# as (2 ** 3) ** 2\n",
        "print(2 ** 3 ** 2)"
      ],
      "metadata": {
        "colab": {
          "base_uri": "https://localhost:8080/"
        },
        "id": "E0pkQNS22dqN",
        "outputId": "d56826e2-55c8-4927-caa1-286699eabb93"
      },
      "execution_count": 9,
      "outputs": [
        {
          "output_type": "stream",
          "name": "stdout",
          "text": [
            "100.0\n",
            "6\n",
            "0\n",
            "512\n"
          ]
        }
      ]
    }
  ]
}